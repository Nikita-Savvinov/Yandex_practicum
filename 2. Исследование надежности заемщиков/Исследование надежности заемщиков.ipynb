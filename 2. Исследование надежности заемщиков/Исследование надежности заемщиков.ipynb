{
 "cells": [
  {
   "cell_type": "markdown",
   "id": "ed801155",
   "metadata": {
    "deletable": false,
    "editable": false,
    "id": "c81daeeb"
   },
   "source": [
    "# Исследование надежности заемщиков\n"
   ]
  },
  {
   "cell_type": "markdown",
   "id": "c4d87a88",
   "metadata": {},
   "source": [
    "## Описание исследования"
   ]
  },
  {
   "cell_type": "markdown",
   "id": "480bec46",
   "metadata": {},
   "source": [
    "### Краткое описание исследования:\n",
    "В рамках данного исследования необходимо проанализировать надежность заемщиков в зависимости от разных параметров заемщика (количество детей, семейное положение и т.д.)\n"
   ]
  },
  {
   "cell_type": "markdown",
   "id": "1f563f77",
   "metadata": {},
   "source": [
    "### Цель исследования: \n",
    "Были выделены гипотезы, которые необходимо проанализировать, а именно:\n",
    "- Есть ли зависимость между количеством детей и возвратом кредита в срок;\n",
    "- Есть ли зависимость между семейным положением и возвратом кредита в срок;\n",
    "- Есть ли зависимость между уровнем дохода и возвратом кредита в срок;\n",
    "- Есть ли зависимость между целью кредита и возвратом кредита в срок.\n"
   ]
  },
  {
   "cell_type": "markdown",
   "id": "33b7fcbf",
   "metadata": {
    "deletable": false,
    "editable": false,
    "id": "827c20bf"
   },
   "source": [
    "Во второй части проекта вы выполните шаги 3 и 4. Их вручную проверит ревьюер.\n",
    "Чтобы вам не пришлось писать код заново для шагов 1 и 2, мы добавили авторские решения в ячейки с кодом. \n",
    "\n"
   ]
  },
  {
   "cell_type": "markdown",
   "id": "16ca4108",
   "metadata": {
    "deletable": false,
    "editable": false,
    "id": "744d7639"
   },
   "source": [
    "## Откройте таблицу и изучите общую информацию о данных"
   ]
  },
  {
   "cell_type": "markdown",
   "id": "826294d7",
   "metadata": {
    "deletable": false,
    "editable": false,
    "id": "e7a14c31"
   },
   "source": [
    "**Задание 1. Импортируйте библиотеку pandas. Считайте данные из csv-файла в датафрейм и сохраните в переменную `data`. Путь к файлу:**\n",
    "\n",
    "`/datasets/data.csv`"
   ]
  },
  {
   "cell_type": "code",
   "execution_count": 1,
   "id": "85802c9c",
   "metadata": {
    "deletable": false,
    "id": "7bcf75c9"
   },
   "outputs": [],
   "source": [
    "import pandas as pd\n",
    "\n",
    "try:\n",
    "    data = pd.read_csv('/datasets/data.csv')\n",
    "except:\n",
    "    data = pd.read_csv('https://code.s3.yandex.net/datasets/data.csv')"
   ]
  },
  {
   "cell_type": "markdown",
   "id": "04872ad7",
   "metadata": {
    "deletable": false,
    "editable": false,
    "id": "b8038fe3"
   },
   "source": [
    "**Задание 2. Выведите первые 20 строчек датафрейма `data` на экран.**"
   ]
  },
  {
   "cell_type": "code",
   "execution_count": 2,
   "id": "70e64a97",
   "metadata": {
    "deletable": false,
    "id": "2a7cab99",
    "outputId": "1a8f3ef2-d323-4ec2-ddf7-89670b5944c4"
   },
   "outputs": [
    {
     "data": {
      "text/html": [
       "<div>\n",
       "<style scoped>\n",
       "    .dataframe tbody tr th:only-of-type {\n",
       "        vertical-align: middle;\n",
       "    }\n",
       "\n",
       "    .dataframe tbody tr th {\n",
       "        vertical-align: top;\n",
       "    }\n",
       "\n",
       "    .dataframe thead th {\n",
       "        text-align: right;\n",
       "    }\n",
       "</style>\n",
       "<table border=\"1\" class=\"dataframe\">\n",
       "  <thead>\n",
       "    <tr style=\"text-align: right;\">\n",
       "      <th></th>\n",
       "      <th>children</th>\n",
       "      <th>days_employed</th>\n",
       "      <th>dob_years</th>\n",
       "      <th>education</th>\n",
       "      <th>education_id</th>\n",
       "      <th>family_status</th>\n",
       "      <th>family_status_id</th>\n",
       "      <th>gender</th>\n",
       "      <th>income_type</th>\n",
       "      <th>debt</th>\n",
       "      <th>total_income</th>\n",
       "      <th>purpose</th>\n",
       "    </tr>\n",
       "  </thead>\n",
       "  <tbody>\n",
       "    <tr>\n",
       "      <th>0</th>\n",
       "      <td>1</td>\n",
       "      <td>-8437.673028</td>\n",
       "      <td>42</td>\n",
       "      <td>высшее</td>\n",
       "      <td>0</td>\n",
       "      <td>женат / замужем</td>\n",
       "      <td>0</td>\n",
       "      <td>F</td>\n",
       "      <td>сотрудник</td>\n",
       "      <td>0</td>\n",
       "      <td>253875.639453</td>\n",
       "      <td>покупка жилья</td>\n",
       "    </tr>\n",
       "    <tr>\n",
       "      <th>1</th>\n",
       "      <td>1</td>\n",
       "      <td>-4024.803754</td>\n",
       "      <td>36</td>\n",
       "      <td>среднее</td>\n",
       "      <td>1</td>\n",
       "      <td>женат / замужем</td>\n",
       "      <td>0</td>\n",
       "      <td>F</td>\n",
       "      <td>сотрудник</td>\n",
       "      <td>0</td>\n",
       "      <td>112080.014102</td>\n",
       "      <td>приобретение автомобиля</td>\n",
       "    </tr>\n",
       "    <tr>\n",
       "      <th>2</th>\n",
       "      <td>0</td>\n",
       "      <td>-5623.422610</td>\n",
       "      <td>33</td>\n",
       "      <td>Среднее</td>\n",
       "      <td>1</td>\n",
       "      <td>женат / замужем</td>\n",
       "      <td>0</td>\n",
       "      <td>M</td>\n",
       "      <td>сотрудник</td>\n",
       "      <td>0</td>\n",
       "      <td>145885.952297</td>\n",
       "      <td>покупка жилья</td>\n",
       "    </tr>\n",
       "    <tr>\n",
       "      <th>3</th>\n",
       "      <td>3</td>\n",
       "      <td>-4124.747207</td>\n",
       "      <td>32</td>\n",
       "      <td>среднее</td>\n",
       "      <td>1</td>\n",
       "      <td>женат / замужем</td>\n",
       "      <td>0</td>\n",
       "      <td>M</td>\n",
       "      <td>сотрудник</td>\n",
       "      <td>0</td>\n",
       "      <td>267628.550329</td>\n",
       "      <td>дополнительное образование</td>\n",
       "    </tr>\n",
       "    <tr>\n",
       "      <th>4</th>\n",
       "      <td>0</td>\n",
       "      <td>340266.072047</td>\n",
       "      <td>53</td>\n",
       "      <td>среднее</td>\n",
       "      <td>1</td>\n",
       "      <td>гражданский брак</td>\n",
       "      <td>1</td>\n",
       "      <td>F</td>\n",
       "      <td>пенсионер</td>\n",
       "      <td>0</td>\n",
       "      <td>158616.077870</td>\n",
       "      <td>сыграть свадьбу</td>\n",
       "    </tr>\n",
       "    <tr>\n",
       "      <th>5</th>\n",
       "      <td>0</td>\n",
       "      <td>-926.185831</td>\n",
       "      <td>27</td>\n",
       "      <td>высшее</td>\n",
       "      <td>0</td>\n",
       "      <td>гражданский брак</td>\n",
       "      <td>1</td>\n",
       "      <td>M</td>\n",
       "      <td>компаньон</td>\n",
       "      <td>0</td>\n",
       "      <td>255763.565419</td>\n",
       "      <td>покупка жилья</td>\n",
       "    </tr>\n",
       "    <tr>\n",
       "      <th>6</th>\n",
       "      <td>0</td>\n",
       "      <td>-2879.202052</td>\n",
       "      <td>43</td>\n",
       "      <td>высшее</td>\n",
       "      <td>0</td>\n",
       "      <td>женат / замужем</td>\n",
       "      <td>0</td>\n",
       "      <td>F</td>\n",
       "      <td>компаньон</td>\n",
       "      <td>0</td>\n",
       "      <td>240525.971920</td>\n",
       "      <td>операции с жильем</td>\n",
       "    </tr>\n",
       "    <tr>\n",
       "      <th>7</th>\n",
       "      <td>0</td>\n",
       "      <td>-152.779569</td>\n",
       "      <td>50</td>\n",
       "      <td>СРЕДНЕЕ</td>\n",
       "      <td>1</td>\n",
       "      <td>женат / замужем</td>\n",
       "      <td>0</td>\n",
       "      <td>M</td>\n",
       "      <td>сотрудник</td>\n",
       "      <td>0</td>\n",
       "      <td>135823.934197</td>\n",
       "      <td>образование</td>\n",
       "    </tr>\n",
       "    <tr>\n",
       "      <th>8</th>\n",
       "      <td>2</td>\n",
       "      <td>-6929.865299</td>\n",
       "      <td>35</td>\n",
       "      <td>ВЫСШЕЕ</td>\n",
       "      <td>0</td>\n",
       "      <td>гражданский брак</td>\n",
       "      <td>1</td>\n",
       "      <td>F</td>\n",
       "      <td>сотрудник</td>\n",
       "      <td>0</td>\n",
       "      <td>95856.832424</td>\n",
       "      <td>на проведение свадьбы</td>\n",
       "    </tr>\n",
       "    <tr>\n",
       "      <th>9</th>\n",
       "      <td>0</td>\n",
       "      <td>-2188.756445</td>\n",
       "      <td>41</td>\n",
       "      <td>среднее</td>\n",
       "      <td>1</td>\n",
       "      <td>женат / замужем</td>\n",
       "      <td>0</td>\n",
       "      <td>M</td>\n",
       "      <td>сотрудник</td>\n",
       "      <td>0</td>\n",
       "      <td>144425.938277</td>\n",
       "      <td>покупка жилья для семьи</td>\n",
       "    </tr>\n",
       "    <tr>\n",
       "      <th>10</th>\n",
       "      <td>2</td>\n",
       "      <td>-4171.483647</td>\n",
       "      <td>36</td>\n",
       "      <td>высшее</td>\n",
       "      <td>0</td>\n",
       "      <td>женат / замужем</td>\n",
       "      <td>0</td>\n",
       "      <td>M</td>\n",
       "      <td>компаньон</td>\n",
       "      <td>0</td>\n",
       "      <td>113943.491460</td>\n",
       "      <td>покупка недвижимости</td>\n",
       "    </tr>\n",
       "    <tr>\n",
       "      <th>11</th>\n",
       "      <td>0</td>\n",
       "      <td>-792.701887</td>\n",
       "      <td>40</td>\n",
       "      <td>среднее</td>\n",
       "      <td>1</td>\n",
       "      <td>женат / замужем</td>\n",
       "      <td>0</td>\n",
       "      <td>F</td>\n",
       "      <td>сотрудник</td>\n",
       "      <td>0</td>\n",
       "      <td>77069.234271</td>\n",
       "      <td>покупка коммерческой недвижимости</td>\n",
       "    </tr>\n",
       "    <tr>\n",
       "      <th>12</th>\n",
       "      <td>0</td>\n",
       "      <td>NaN</td>\n",
       "      <td>65</td>\n",
       "      <td>среднее</td>\n",
       "      <td>1</td>\n",
       "      <td>гражданский брак</td>\n",
       "      <td>1</td>\n",
       "      <td>M</td>\n",
       "      <td>пенсионер</td>\n",
       "      <td>0</td>\n",
       "      <td>NaN</td>\n",
       "      <td>сыграть свадьбу</td>\n",
       "    </tr>\n",
       "    <tr>\n",
       "      <th>13</th>\n",
       "      <td>0</td>\n",
       "      <td>-1846.641941</td>\n",
       "      <td>54</td>\n",
       "      <td>неоконченное высшее</td>\n",
       "      <td>2</td>\n",
       "      <td>женат / замужем</td>\n",
       "      <td>0</td>\n",
       "      <td>F</td>\n",
       "      <td>сотрудник</td>\n",
       "      <td>0</td>\n",
       "      <td>130458.228857</td>\n",
       "      <td>приобретение автомобиля</td>\n",
       "    </tr>\n",
       "    <tr>\n",
       "      <th>14</th>\n",
       "      <td>0</td>\n",
       "      <td>-1844.956182</td>\n",
       "      <td>56</td>\n",
       "      <td>высшее</td>\n",
       "      <td>0</td>\n",
       "      <td>гражданский брак</td>\n",
       "      <td>1</td>\n",
       "      <td>F</td>\n",
       "      <td>компаньон</td>\n",
       "      <td>1</td>\n",
       "      <td>165127.911772</td>\n",
       "      <td>покупка жилой недвижимости</td>\n",
       "    </tr>\n",
       "    <tr>\n",
       "      <th>15</th>\n",
       "      <td>1</td>\n",
       "      <td>-972.364419</td>\n",
       "      <td>26</td>\n",
       "      <td>среднее</td>\n",
       "      <td>1</td>\n",
       "      <td>женат / замужем</td>\n",
       "      <td>0</td>\n",
       "      <td>F</td>\n",
       "      <td>сотрудник</td>\n",
       "      <td>0</td>\n",
       "      <td>116820.904450</td>\n",
       "      <td>строительство собственной недвижимости</td>\n",
       "    </tr>\n",
       "    <tr>\n",
       "      <th>16</th>\n",
       "      <td>0</td>\n",
       "      <td>-1719.934226</td>\n",
       "      <td>35</td>\n",
       "      <td>среднее</td>\n",
       "      <td>1</td>\n",
       "      <td>женат / замужем</td>\n",
       "      <td>0</td>\n",
       "      <td>F</td>\n",
       "      <td>сотрудник</td>\n",
       "      <td>0</td>\n",
       "      <td>289202.704229</td>\n",
       "      <td>недвижимость</td>\n",
       "    </tr>\n",
       "    <tr>\n",
       "      <th>17</th>\n",
       "      <td>0</td>\n",
       "      <td>-2369.999720</td>\n",
       "      <td>33</td>\n",
       "      <td>высшее</td>\n",
       "      <td>0</td>\n",
       "      <td>гражданский брак</td>\n",
       "      <td>1</td>\n",
       "      <td>M</td>\n",
       "      <td>сотрудник</td>\n",
       "      <td>0</td>\n",
       "      <td>90410.586745</td>\n",
       "      <td>строительство недвижимости</td>\n",
       "    </tr>\n",
       "    <tr>\n",
       "      <th>18</th>\n",
       "      <td>0</td>\n",
       "      <td>400281.136913</td>\n",
       "      <td>53</td>\n",
       "      <td>среднее</td>\n",
       "      <td>1</td>\n",
       "      <td>вдовец / вдова</td>\n",
       "      <td>2</td>\n",
       "      <td>F</td>\n",
       "      <td>пенсионер</td>\n",
       "      <td>0</td>\n",
       "      <td>56823.777243</td>\n",
       "      <td>на покупку подержанного автомобиля</td>\n",
       "    </tr>\n",
       "    <tr>\n",
       "      <th>19</th>\n",
       "      <td>0</td>\n",
       "      <td>-10038.818549</td>\n",
       "      <td>48</td>\n",
       "      <td>СРЕДНЕЕ</td>\n",
       "      <td>1</td>\n",
       "      <td>в разводе</td>\n",
       "      <td>3</td>\n",
       "      <td>F</td>\n",
       "      <td>сотрудник</td>\n",
       "      <td>0</td>\n",
       "      <td>242831.107982</td>\n",
       "      <td>на покупку своего автомобиля</td>\n",
       "    </tr>\n",
       "  </tbody>\n",
       "</table>\n",
       "</div>"
      ],
      "text/plain": [
       "    children  days_employed  dob_years            education  education_id  \\\n",
       "0          1   -8437.673028         42               высшее             0   \n",
       "1          1   -4024.803754         36              среднее             1   \n",
       "2          0   -5623.422610         33              Среднее             1   \n",
       "3          3   -4124.747207         32              среднее             1   \n",
       "4          0  340266.072047         53              среднее             1   \n",
       "5          0    -926.185831         27               высшее             0   \n",
       "6          0   -2879.202052         43               высшее             0   \n",
       "7          0    -152.779569         50              СРЕДНЕЕ             1   \n",
       "8          2   -6929.865299         35               ВЫСШЕЕ             0   \n",
       "9          0   -2188.756445         41              среднее             1   \n",
       "10         2   -4171.483647         36               высшее             0   \n",
       "11         0    -792.701887         40              среднее             1   \n",
       "12         0            NaN         65              среднее             1   \n",
       "13         0   -1846.641941         54  неоконченное высшее             2   \n",
       "14         0   -1844.956182         56               высшее             0   \n",
       "15         1    -972.364419         26              среднее             1   \n",
       "16         0   -1719.934226         35              среднее             1   \n",
       "17         0   -2369.999720         33               высшее             0   \n",
       "18         0  400281.136913         53              среднее             1   \n",
       "19         0  -10038.818549         48              СРЕДНЕЕ             1   \n",
       "\n",
       "       family_status  family_status_id gender income_type  debt  \\\n",
       "0    женат / замужем                 0      F   сотрудник     0   \n",
       "1    женат / замужем                 0      F   сотрудник     0   \n",
       "2    женат / замужем                 0      M   сотрудник     0   \n",
       "3    женат / замужем                 0      M   сотрудник     0   \n",
       "4   гражданский брак                 1      F   пенсионер     0   \n",
       "5   гражданский брак                 1      M   компаньон     0   \n",
       "6    женат / замужем                 0      F   компаньон     0   \n",
       "7    женат / замужем                 0      M   сотрудник     0   \n",
       "8   гражданский брак                 1      F   сотрудник     0   \n",
       "9    женат / замужем                 0      M   сотрудник     0   \n",
       "10   женат / замужем                 0      M   компаньон     0   \n",
       "11   женат / замужем                 0      F   сотрудник     0   \n",
       "12  гражданский брак                 1      M   пенсионер     0   \n",
       "13   женат / замужем                 0      F   сотрудник     0   \n",
       "14  гражданский брак                 1      F   компаньон     1   \n",
       "15   женат / замужем                 0      F   сотрудник     0   \n",
       "16   женат / замужем                 0      F   сотрудник     0   \n",
       "17  гражданский брак                 1      M   сотрудник     0   \n",
       "18    вдовец / вдова                 2      F   пенсионер     0   \n",
       "19         в разводе                 3      F   сотрудник     0   \n",
       "\n",
       "     total_income                                 purpose  \n",
       "0   253875.639453                           покупка жилья  \n",
       "1   112080.014102                 приобретение автомобиля  \n",
       "2   145885.952297                           покупка жилья  \n",
       "3   267628.550329              дополнительное образование  \n",
       "4   158616.077870                         сыграть свадьбу  \n",
       "5   255763.565419                           покупка жилья  \n",
       "6   240525.971920                       операции с жильем  \n",
       "7   135823.934197                             образование  \n",
       "8    95856.832424                   на проведение свадьбы  \n",
       "9   144425.938277                 покупка жилья для семьи  \n",
       "10  113943.491460                    покупка недвижимости  \n",
       "11   77069.234271       покупка коммерческой недвижимости  \n",
       "12            NaN                         сыграть свадьбу  \n",
       "13  130458.228857                 приобретение автомобиля  \n",
       "14  165127.911772              покупка жилой недвижимости  \n",
       "15  116820.904450  строительство собственной недвижимости  \n",
       "16  289202.704229                            недвижимость  \n",
       "17   90410.586745              строительство недвижимости  \n",
       "18   56823.777243      на покупку подержанного автомобиля  \n",
       "19  242831.107982            на покупку своего автомобиля  "
      ]
     },
     "execution_count": 2,
     "metadata": {},
     "output_type": "execute_result"
    }
   ],
   "source": [
    "data.head(20)"
   ]
  },
  {
   "cell_type": "markdown",
   "id": "0b0595a0",
   "metadata": {
    "deletable": false,
    "editable": false,
    "id": "1c12e233"
   },
   "source": [
    "**Задание 3. Выведите основную информацию о датафрейме с помощью метода `info()`.**"
   ]
  },
  {
   "cell_type": "code",
   "execution_count": 3,
   "id": "387715fa",
   "metadata": {
    "deletable": false,
    "id": "2b757bca",
    "outputId": "15376089-8dad-46c9-b520-c05248d43158"
   },
   "outputs": [
    {
     "name": "stdout",
     "output_type": "stream",
     "text": [
      "<class 'pandas.core.frame.DataFrame'>\n",
      "RangeIndex: 21525 entries, 0 to 21524\n",
      "Data columns (total 12 columns):\n",
      " #   Column            Non-Null Count  Dtype  \n",
      "---  ------            --------------  -----  \n",
      " 0   children          21525 non-null  int64  \n",
      " 1   days_employed     19351 non-null  float64\n",
      " 2   dob_years         21525 non-null  int64  \n",
      " 3   education         21525 non-null  object \n",
      " 4   education_id      21525 non-null  int64  \n",
      " 5   family_status     21525 non-null  object \n",
      " 6   family_status_id  21525 non-null  int64  \n",
      " 7   gender            21525 non-null  object \n",
      " 8   income_type       21525 non-null  object \n",
      " 9   debt              21525 non-null  int64  \n",
      " 10  total_income      19351 non-null  float64\n",
      " 11  purpose           21525 non-null  object \n",
      "dtypes: float64(2), int64(5), object(5)\n",
      "memory usage: 2.0+ MB\n"
     ]
    }
   ],
   "source": [
    "data.info()"
   ]
  },
  {
   "cell_type": "markdown",
   "id": "7aa90977",
   "metadata": {
    "deletable": false,
    "editable": false,
    "id": "333ec665"
   },
   "source": [
    "## Предобработка данных"
   ]
  },
  {
   "cell_type": "markdown",
   "id": "dd068431",
   "metadata": {
    "deletable": false,
    "editable": false,
    "id": "02d92d53"
   },
   "source": [
    "### Удаление пропусков"
   ]
  },
  {
   "cell_type": "markdown",
   "id": "0794c6b9",
   "metadata": {
    "deletable": false,
    "editable": false,
    "id": "cd84967c"
   },
   "source": [
    "**Задание 4. Выведите количество пропущенных значений для каждого столбца. Используйте комбинацию двух методов.**"
   ]
  },
  {
   "cell_type": "code",
   "execution_count": 4,
   "id": "4ce1bfd0",
   "metadata": {
    "deletable": false,
    "id": "7f9b2309",
    "outputId": "81f4d817-781c-465c-ed15-91ce4446810d"
   },
   "outputs": [
    {
     "data": {
      "text/plain": [
       "children               0\n",
       "days_employed       2174\n",
       "dob_years              0\n",
       "education              0\n",
       "education_id           0\n",
       "family_status          0\n",
       "family_status_id       0\n",
       "gender                 0\n",
       "income_type            0\n",
       "debt                   0\n",
       "total_income        2174\n",
       "purpose                0\n",
       "dtype: int64"
      ]
     },
     "execution_count": 4,
     "metadata": {},
     "output_type": "execute_result"
    }
   ],
   "source": [
    "data.isna().sum()"
   ]
  },
  {
   "cell_type": "markdown",
   "id": "dab4053c",
   "metadata": {
    "deletable": false,
    "editable": false,
    "id": "db86e27b"
   },
   "source": [
    "**Задание 5. В двух столбцах есть пропущенные значения. Один из них — `days_employed`. Пропуски в этом столбце вы обработаете на следующем этапе. Другой столбец с пропущенными значениями — `total_income` — хранит данные о доходах. На сумму дохода сильнее всего влияет тип занятости, поэтому заполнить пропуски в этом столбце нужно медианным значением по каждому типу из столбца `income_type`. Например, у человека с типом занятости `сотрудник` пропуск в столбце `total_income` должен быть заполнен медианным доходом среди всех записей с тем же типом.**"
   ]
  },
  {
   "cell_type": "code",
   "execution_count": 5,
   "id": "dbb22296",
   "metadata": {
    "deletable": false,
    "id": "42006a93"
   },
   "outputs": [],
   "source": [
    "for t in data['income_type'].unique():\n",
    "    data.loc[(data['income_type'] == t) & (data['total_income'].isna()), 'total_income'] = \\\n",
    "    data.loc[(data['income_type'] == t), 'total_income'].median()"
   ]
  },
  {
   "cell_type": "markdown",
   "id": "a79b5b67",
   "metadata": {
    "deletable": false,
    "editable": false,
    "id": "89da5ece"
   },
   "source": [
    "### Обработка аномальных значений"
   ]
  },
  {
   "cell_type": "markdown",
   "id": "6f84c6ea",
   "metadata": {
    "deletable": false,
    "editable": false,
    "id": "57964554"
   },
   "source": [
    "**Задание 6. В данных могут встречаться артефакты (аномалии) — значения, которые не отражают действительность и появились по какой-то ошибке. таким артефактом будет отрицательное количество дней трудового стажа в столбце `days_employed`. Для реальных данных это нормально. Обработайте значения в этом столбце: замените все отрицательные значения положительными с помощью метода `abs()`.**"
   ]
  },
  {
   "cell_type": "code",
   "execution_count": 6,
   "id": "67e9eddd",
   "metadata": {
    "deletable": false,
    "id": "f6f055bf"
   },
   "outputs": [],
   "source": [
    "data['days_employed'] = data['days_employed'].abs()"
   ]
  },
  {
   "cell_type": "markdown",
   "id": "601dd5f5",
   "metadata": {
    "deletable": false,
    "editable": false,
    "id": "6107dd2f"
   },
   "source": [
    "**Задание 7. Для каждого типа занятости выведите медианное значение трудового стажа `days_employed` в днях.**"
   ]
  },
  {
   "cell_type": "code",
   "execution_count": 7,
   "id": "323da216",
   "metadata": {
    "deletable": false,
    "id": "85a5faf6",
    "outputId": "801ef80e-522b-4668-f34e-565af7432bcf"
   },
   "outputs": [
    {
     "data": {
      "text/plain": [
       "income_type\n",
       "безработный        366413.652744\n",
       "в декрете            3296.759962\n",
       "госслужащий          2689.368353\n",
       "компаньон            1547.382223\n",
       "пенсионер          365213.306266\n",
       "предприниматель       520.848083\n",
       "сотрудник            1574.202821\n",
       "студент               578.751554\n",
       "Name: days_employed, dtype: float64"
      ]
     },
     "execution_count": 7,
     "metadata": {},
     "output_type": "execute_result"
    }
   ],
   "source": [
    "data.groupby('income_type')['days_employed'].agg('median')"
   ]
  },
  {
   "cell_type": "markdown",
   "id": "c4510b7b",
   "metadata": {
    "deletable": false,
    "editable": false,
    "id": "38d1a030"
   },
   "source": [
    "У двух типов (безработные и пенсионеры) получатся аномально большие значения. Исправить такие значения сложно, поэтому оставьте их как есть. Тем более этот столбец не понадобится вам для исследования."
   ]
  },
  {
   "cell_type": "markdown",
   "id": "5bd7d0e3",
   "metadata": {
    "deletable": false,
    "editable": false,
    "id": "d8a9f147"
   },
   "source": [
    "**Задание 8. Выведите перечень уникальных значений столбца `children`.**"
   ]
  },
  {
   "cell_type": "code",
   "execution_count": 8,
   "id": "b23b634d",
   "metadata": {
    "deletable": false,
    "id": "ef5056eb",
    "outputId": "6975b15c-7f95-4697-d16d-a0c79b657b03"
   },
   "outputs": [
    {
     "data": {
      "text/plain": [
       "array([ 1,  0,  3,  2, -1,  4, 20,  5])"
      ]
     },
     "execution_count": 8,
     "metadata": {},
     "output_type": "execute_result"
    }
   ],
   "source": [
    "data['children'].unique()"
   ]
  },
  {
   "cell_type": "markdown",
   "id": "66d00080",
   "metadata": {
    "deletable": false,
    "editable": false,
    "id": "40b9ebf2"
   },
   "source": [
    "**Задание 9. В столбце `children` есть два аномальных значения. Удалите строки, в которых встречаются такие аномальные значения из датафрейма `data`.**"
   ]
  },
  {
   "cell_type": "code",
   "execution_count": 9,
   "id": "1565db95",
   "metadata": {
    "deletable": false,
    "id": "3ff9801d"
   },
   "outputs": [],
   "source": [
    "data = data[(data['children'] != -1) & (data['children'] != 20)]"
   ]
  },
  {
   "cell_type": "markdown",
   "id": "a45fe82a",
   "metadata": {
    "deletable": false,
    "editable": false,
    "id": "bbc4d0ce"
   },
   "source": [
    "**Задание 10. Ещё раз выведите перечень уникальных значений столбца `children`, чтобы убедиться, что артефакты удалены.**"
   ]
  },
  {
   "cell_type": "code",
   "execution_count": 10,
   "id": "f6d1fd45",
   "metadata": {
    "deletable": false,
    "id": "ad4fa8b7",
    "outputId": "b2097101-d49d-44d9-901b-32a65c9463d1"
   },
   "outputs": [
    {
     "data": {
      "text/plain": [
       "array([1, 0, 3, 2, 4, 5])"
      ]
     },
     "execution_count": 10,
     "metadata": {},
     "output_type": "execute_result"
    }
   ],
   "source": [
    "data['children'].unique()"
   ]
  },
  {
   "cell_type": "markdown",
   "id": "1d201cf4",
   "metadata": {
    "deletable": false,
    "editable": false,
    "id": "75440b63"
   },
   "source": [
    "### Удаление пропусков (продолжение)"
   ]
  },
  {
   "cell_type": "markdown",
   "id": "ec3fd83f",
   "metadata": {
    "deletable": false,
    "editable": false,
    "id": "f4ea573f"
   },
   "source": [
    "**Задание 11. Заполните пропуски в столбце `days_employed` медианными значениями по каждого типа занятости `income_type`.**"
   ]
  },
  {
   "cell_type": "code",
   "execution_count": 11,
   "id": "6226c8be",
   "metadata": {
    "deletable": false,
    "id": "af6b1a7e"
   },
   "outputs": [],
   "source": [
    "for t in data['income_type'].unique():\n",
    "    data.loc[(data['income_type'] == t) & (data['days_employed'].isna()), 'days_employed'] = \\\n",
    "    data.loc[(data['income_type'] == t), 'days_employed'].median()"
   ]
  },
  {
   "cell_type": "markdown",
   "id": "207e3e10",
   "metadata": {
    "deletable": false,
    "editable": false,
    "id": "2753f40d"
   },
   "source": [
    "**Задание 12. Убедитесь, что все пропуски заполнены. Проверьте себя и ещё раз выведите количество пропущенных значений для каждого столбца с помощью двух методов.**"
   ]
  },
  {
   "cell_type": "code",
   "execution_count": 12,
   "id": "8ad1cc77",
   "metadata": {
    "deletable": false,
    "id": "55f78bc2",
    "outputId": "8da1e4e1-358e-4e87-98c9-f261bce0a7b2"
   },
   "outputs": [
    {
     "data": {
      "text/plain": [
       "children            0\n",
       "days_employed       0\n",
       "dob_years           0\n",
       "education           0\n",
       "education_id        0\n",
       "family_status       0\n",
       "family_status_id    0\n",
       "gender              0\n",
       "income_type         0\n",
       "debt                0\n",
       "total_income        0\n",
       "purpose             0\n",
       "dtype: int64"
      ]
     },
     "execution_count": 12,
     "metadata": {},
     "output_type": "execute_result"
    }
   ],
   "source": [
    "data.isna().sum()"
   ]
  },
  {
   "cell_type": "markdown",
   "id": "a9e7384c",
   "metadata": {
    "deletable": false,
    "editable": false,
    "id": "ddc81e43"
   },
   "source": [
    "### Изменение типов данных"
   ]
  },
  {
   "cell_type": "markdown",
   "id": "3b6cc58e",
   "metadata": {
    "deletable": false,
    "editable": false,
    "id": "42d19d24"
   },
   "source": [
    "**Задание 13. Замените вещественный тип данных в столбце `total_income` на целочисленный с помощью метода `astype()`.**"
   ]
  },
  {
   "cell_type": "code",
   "execution_count": 13,
   "id": "9f243bd9",
   "metadata": {
    "deletable": false,
    "id": "920b65ad"
   },
   "outputs": [],
   "source": [
    "data['total_income'] = data['total_income'].astype(int)"
   ]
  },
  {
   "cell_type": "markdown",
   "id": "21da3706",
   "metadata": {
    "deletable": false,
    "editable": false,
    "id": "80c420ba"
   },
   "source": [
    "### Обработка дубликатов"
   ]
  },
  {
   "cell_type": "markdown",
   "id": "ea5ceddb",
   "metadata": {
    "deletable": false,
    "editable": false
   },
   "source": [
    "**Задание 14. Обработайте неявные дубликаты в столбце `education`. В этом столбце есть одни и те же значения, но записанные по-разному: с использованием заглавных и строчных букв. Приведите их к нижнему регистру. Проверьте остальные столбцы.**"
   ]
  },
  {
   "cell_type": "code",
   "execution_count": 14,
   "id": "28969500",
   "metadata": {
    "deletable": false
   },
   "outputs": [],
   "source": [
    "data['education'] = data['education'].str.lower()"
   ]
  },
  {
   "cell_type": "markdown",
   "id": "48e6c5b1",
   "metadata": {
    "deletable": false,
    "editable": false,
    "id": "dc587695"
   },
   "source": [
    "**Задание 15. Выведите на экран количество строк-дубликатов в данных. Если такие строки присутствуют, удалите их.**"
   ]
  },
  {
   "cell_type": "code",
   "execution_count": 15,
   "id": "3e8026bd",
   "metadata": {
    "deletable": false,
    "id": "3ee445e4",
    "outputId": "9684deba-1934-42d1-99e1-cda61740f822"
   },
   "outputs": [
    {
     "data": {
      "text/plain": [
       "71"
      ]
     },
     "execution_count": 15,
     "metadata": {},
     "output_type": "execute_result"
    }
   ],
   "source": [
    "data.duplicated().sum()"
   ]
  },
  {
   "cell_type": "code",
   "execution_count": 16,
   "id": "1fe597df",
   "metadata": {
    "deletable": false,
    "id": "8575fe05"
   },
   "outputs": [],
   "source": [
    "data = data.drop_duplicates()"
   ]
  },
  {
   "cell_type": "markdown",
   "id": "0f10326c",
   "metadata": {
    "deletable": false,
    "editable": false,
    "id": "9904cf55"
   },
   "source": [
    "### Категоризация данных"
   ]
  },
  {
   "cell_type": "markdown",
   "id": "f82125ac",
   "metadata": {
    "deletable": false,
    "editable": false,
    "id": "72fcc8a2"
   },
   "source": [
    "**Задание 16. На основании диапазонов, указанных ниже, создайте в датафрейме `data` столбец `total_income_category` с категориями:**\n",
    "\n",
    "- 0–30000 — `'E'`;\n",
    "- 30001–50000 — `'D'`;\n",
    "- 50001–200000 — `'C'`;\n",
    "- 200001–1000000 — `'B'`;\n",
    "- 1000001 и выше — `'A'`.\n",
    "\n",
    "\n",
    "**Например, кредитополучателю с доходом 25000 нужно назначить категорию `'E'`, а клиенту, получающему 235000, — `'B'`. Используйте собственную функцию с именем `categorize_income()` и метод `apply()`.**"
   ]
  },
  {
   "cell_type": "code",
   "execution_count": 17,
   "id": "174b7e73",
   "metadata": {
    "deletable": false,
    "id": "e1771346"
   },
   "outputs": [],
   "source": [
    "def categorize_income(income):\n",
    "    try:\n",
    "        if 0 <= income <= 30000:\n",
    "            return 'E'\n",
    "        elif 30001 <= income <= 50000:\n",
    "            return 'D'\n",
    "        elif 50001 <= income <= 200000:\n",
    "            return 'C'\n",
    "        elif 200001 <= income <= 1000000:\n",
    "            return 'B'\n",
    "        elif income >= 1000001:\n",
    "            return 'A'\n",
    "    except:\n",
    "        pass"
   ]
  },
  {
   "cell_type": "code",
   "execution_count": 18,
   "id": "ba9261ca",
   "metadata": {
    "deletable": false,
    "id": "d5f3586d"
   },
   "outputs": [],
   "source": [
    "data['total_income_category'] = data['total_income'].apply(categorize_income)"
   ]
  },
  {
   "cell_type": "markdown",
   "id": "ded2349e",
   "metadata": {
    "deletable": false,
    "editable": false,
    "id": "dde49b5c"
   },
   "source": [
    "**Задание 17. Выведите на экран перечень уникальных целей взятия кредита из столбца `purpose`.**"
   ]
  },
  {
   "cell_type": "code",
   "execution_count": 19,
   "id": "48776698",
   "metadata": {
    "deletable": false,
    "id": "f67ce9b3",
    "outputId": "673c12d9-7d7e-4ae0-9812-c622c89dd244"
   },
   "outputs": [
    {
     "data": {
      "text/plain": [
       "array(['покупка жилья', 'приобретение автомобиля',\n",
       "       'дополнительное образование', 'сыграть свадьбу',\n",
       "       'операции с жильем', 'образование', 'на проведение свадьбы',\n",
       "       'покупка жилья для семьи', 'покупка недвижимости',\n",
       "       'покупка коммерческой недвижимости', 'покупка жилой недвижимости',\n",
       "       'строительство собственной недвижимости', 'недвижимость',\n",
       "       'строительство недвижимости', 'на покупку подержанного автомобиля',\n",
       "       'на покупку своего автомобиля',\n",
       "       'операции с коммерческой недвижимостью',\n",
       "       'строительство жилой недвижимости', 'жилье',\n",
       "       'операции со своей недвижимостью', 'автомобили',\n",
       "       'заняться образованием', 'сделка с подержанным автомобилем',\n",
       "       'получение образования', 'автомобиль', 'свадьба',\n",
       "       'получение дополнительного образования', 'покупка своего жилья',\n",
       "       'операции с недвижимостью', 'получение высшего образования',\n",
       "       'свой автомобиль', 'сделка с автомобилем',\n",
       "       'профильное образование', 'высшее образование',\n",
       "       'покупка жилья для сдачи', 'на покупку автомобиля', 'ремонт жилью',\n",
       "       'заняться высшим образованием'], dtype=object)"
      ]
     },
     "execution_count": 19,
     "metadata": {},
     "output_type": "execute_result"
    }
   ],
   "source": [
    "data['purpose'].unique()"
   ]
  },
  {
   "cell_type": "markdown",
   "id": "8f73d595",
   "metadata": {
    "deletable": false,
    "editable": false,
    "id": "85d0aef0"
   },
   "source": [
    "**Задание 18. Создайте функцию, которая на основании данных из столбца `purpose` сформирует новый столбец `purpose_category`, в который войдут следующие категории:**\n",
    "\n",
    "- `'операции с автомобилем'`,\n",
    "- `'операции с недвижимостью'`,\n",
    "- `'проведение свадьбы'`,\n",
    "- `'получение образования'`.\n",
    "\n",
    "**Например, если в столбце `purpose` находится подстрока `'на покупку автомобиля'`, то в столбце `purpose_category` должна появиться строка `'операции с автомобилем'`.**\n",
    "\n",
    "**Используйте собственную функцию с именем `categorize_purpose()` и метод `apply()`. Изучите данные в столбце `purpose` и определите, какие подстроки помогут вам правильно определить категорию.**"
   ]
  },
  {
   "cell_type": "code",
   "execution_count": 20,
   "id": "6affb8d4",
   "metadata": {
    "deletable": false,
    "id": "e149fab4"
   },
   "outputs": [],
   "source": [
    "def categorize_purpose(row):\n",
    "    try:\n",
    "        if 'автом' in row:\n",
    "            return 'операции с автомобилем'\n",
    "        elif 'жил' in row or 'недвиж' in row:\n",
    "            return 'операции с недвижимостью'\n",
    "        elif 'свад' in row:\n",
    "            return 'проведение свадьбы'\n",
    "        elif 'образов' in row:\n",
    "            return 'получение образования'\n",
    "    except:\n",
    "        return 'нет категории'"
   ]
  },
  {
   "cell_type": "code",
   "execution_count": 21,
   "id": "0bfe053e",
   "metadata": {
    "deletable": false,
    "id": "bf36e69b"
   },
   "outputs": [],
   "source": [
    "data['purpose_category'] = data['purpose'].apply(categorize_purpose)"
   ]
  },
  {
   "cell_type": "markdown",
   "id": "06e55c41",
   "metadata": {
    "deletable": false,
    "editable": false,
    "id": "09b242bf"
   },
   "source": [
    "### Шаг 3. Исследуйте данные и ответьте на вопросы"
   ]
  },
  {
   "cell_type": "markdown",
   "id": "345a56a4",
   "metadata": {},
   "source": [
    "Ознакомимся с полученными данными:"
   ]
  },
  {
   "cell_type": "code",
   "execution_count": 22,
   "id": "78ba966f",
   "metadata": {},
   "outputs": [
    {
     "data": {
      "text/html": [
       "<div>\n",
       "<style scoped>\n",
       "    .dataframe tbody tr th:only-of-type {\n",
       "        vertical-align: middle;\n",
       "    }\n",
       "\n",
       "    .dataframe tbody tr th {\n",
       "        vertical-align: top;\n",
       "    }\n",
       "\n",
       "    .dataframe thead th {\n",
       "        text-align: right;\n",
       "    }\n",
       "</style>\n",
       "<table border=\"1\" class=\"dataframe\">\n",
       "  <thead>\n",
       "    <tr style=\"text-align: right;\">\n",
       "      <th></th>\n",
       "      <th>children</th>\n",
       "      <th>days_employed</th>\n",
       "      <th>dob_years</th>\n",
       "      <th>education</th>\n",
       "      <th>education_id</th>\n",
       "      <th>family_status</th>\n",
       "      <th>family_status_id</th>\n",
       "      <th>gender</th>\n",
       "      <th>income_type</th>\n",
       "      <th>debt</th>\n",
       "      <th>total_income</th>\n",
       "      <th>purpose</th>\n",
       "      <th>total_income_category</th>\n",
       "      <th>purpose_category</th>\n",
       "    </tr>\n",
       "  </thead>\n",
       "  <tbody>\n",
       "    <tr>\n",
       "      <th>0</th>\n",
       "      <td>1</td>\n",
       "      <td>8437.673028</td>\n",
       "      <td>42</td>\n",
       "      <td>высшее</td>\n",
       "      <td>0</td>\n",
       "      <td>женат / замужем</td>\n",
       "      <td>0</td>\n",
       "      <td>F</td>\n",
       "      <td>сотрудник</td>\n",
       "      <td>0</td>\n",
       "      <td>253875</td>\n",
       "      <td>покупка жилья</td>\n",
       "      <td>B</td>\n",
       "      <td>операции с недвижимостью</td>\n",
       "    </tr>\n",
       "    <tr>\n",
       "      <th>1</th>\n",
       "      <td>1</td>\n",
       "      <td>4024.803754</td>\n",
       "      <td>36</td>\n",
       "      <td>среднее</td>\n",
       "      <td>1</td>\n",
       "      <td>женат / замужем</td>\n",
       "      <td>0</td>\n",
       "      <td>F</td>\n",
       "      <td>сотрудник</td>\n",
       "      <td>0</td>\n",
       "      <td>112080</td>\n",
       "      <td>приобретение автомобиля</td>\n",
       "      <td>C</td>\n",
       "      <td>операции с автомобилем</td>\n",
       "    </tr>\n",
       "    <tr>\n",
       "      <th>2</th>\n",
       "      <td>0</td>\n",
       "      <td>5623.422610</td>\n",
       "      <td>33</td>\n",
       "      <td>среднее</td>\n",
       "      <td>1</td>\n",
       "      <td>женат / замужем</td>\n",
       "      <td>0</td>\n",
       "      <td>M</td>\n",
       "      <td>сотрудник</td>\n",
       "      <td>0</td>\n",
       "      <td>145885</td>\n",
       "      <td>покупка жилья</td>\n",
       "      <td>C</td>\n",
       "      <td>операции с недвижимостью</td>\n",
       "    </tr>\n",
       "    <tr>\n",
       "      <th>3</th>\n",
       "      <td>3</td>\n",
       "      <td>4124.747207</td>\n",
       "      <td>32</td>\n",
       "      <td>среднее</td>\n",
       "      <td>1</td>\n",
       "      <td>женат / замужем</td>\n",
       "      <td>0</td>\n",
       "      <td>M</td>\n",
       "      <td>сотрудник</td>\n",
       "      <td>0</td>\n",
       "      <td>267628</td>\n",
       "      <td>дополнительное образование</td>\n",
       "      <td>B</td>\n",
       "      <td>получение образования</td>\n",
       "    </tr>\n",
       "    <tr>\n",
       "      <th>4</th>\n",
       "      <td>0</td>\n",
       "      <td>340266.072047</td>\n",
       "      <td>53</td>\n",
       "      <td>среднее</td>\n",
       "      <td>1</td>\n",
       "      <td>гражданский брак</td>\n",
       "      <td>1</td>\n",
       "      <td>F</td>\n",
       "      <td>пенсионер</td>\n",
       "      <td>0</td>\n",
       "      <td>158616</td>\n",
       "      <td>сыграть свадьбу</td>\n",
       "      <td>C</td>\n",
       "      <td>проведение свадьбы</td>\n",
       "    </tr>\n",
       "    <tr>\n",
       "      <th>5</th>\n",
       "      <td>0</td>\n",
       "      <td>926.185831</td>\n",
       "      <td>27</td>\n",
       "      <td>высшее</td>\n",
       "      <td>0</td>\n",
       "      <td>гражданский брак</td>\n",
       "      <td>1</td>\n",
       "      <td>M</td>\n",
       "      <td>компаньон</td>\n",
       "      <td>0</td>\n",
       "      <td>255763</td>\n",
       "      <td>покупка жилья</td>\n",
       "      <td>B</td>\n",
       "      <td>операции с недвижимостью</td>\n",
       "    </tr>\n",
       "    <tr>\n",
       "      <th>6</th>\n",
       "      <td>0</td>\n",
       "      <td>2879.202052</td>\n",
       "      <td>43</td>\n",
       "      <td>высшее</td>\n",
       "      <td>0</td>\n",
       "      <td>женат / замужем</td>\n",
       "      <td>0</td>\n",
       "      <td>F</td>\n",
       "      <td>компаньон</td>\n",
       "      <td>0</td>\n",
       "      <td>240525</td>\n",
       "      <td>операции с жильем</td>\n",
       "      <td>B</td>\n",
       "      <td>операции с недвижимостью</td>\n",
       "    </tr>\n",
       "    <tr>\n",
       "      <th>7</th>\n",
       "      <td>0</td>\n",
       "      <td>152.779569</td>\n",
       "      <td>50</td>\n",
       "      <td>среднее</td>\n",
       "      <td>1</td>\n",
       "      <td>женат / замужем</td>\n",
       "      <td>0</td>\n",
       "      <td>M</td>\n",
       "      <td>сотрудник</td>\n",
       "      <td>0</td>\n",
       "      <td>135823</td>\n",
       "      <td>образование</td>\n",
       "      <td>C</td>\n",
       "      <td>получение образования</td>\n",
       "    </tr>\n",
       "    <tr>\n",
       "      <th>8</th>\n",
       "      <td>2</td>\n",
       "      <td>6929.865299</td>\n",
       "      <td>35</td>\n",
       "      <td>высшее</td>\n",
       "      <td>0</td>\n",
       "      <td>гражданский брак</td>\n",
       "      <td>1</td>\n",
       "      <td>F</td>\n",
       "      <td>сотрудник</td>\n",
       "      <td>0</td>\n",
       "      <td>95856</td>\n",
       "      <td>на проведение свадьбы</td>\n",
       "      <td>C</td>\n",
       "      <td>проведение свадьбы</td>\n",
       "    </tr>\n",
       "    <tr>\n",
       "      <th>9</th>\n",
       "      <td>0</td>\n",
       "      <td>2188.756445</td>\n",
       "      <td>41</td>\n",
       "      <td>среднее</td>\n",
       "      <td>1</td>\n",
       "      <td>женат / замужем</td>\n",
       "      <td>0</td>\n",
       "      <td>M</td>\n",
       "      <td>сотрудник</td>\n",
       "      <td>0</td>\n",
       "      <td>144425</td>\n",
       "      <td>покупка жилья для семьи</td>\n",
       "      <td>C</td>\n",
       "      <td>операции с недвижимостью</td>\n",
       "    </tr>\n",
       "  </tbody>\n",
       "</table>\n",
       "</div>"
      ],
      "text/plain": [
       "   children  days_employed  dob_years education  education_id  \\\n",
       "0         1    8437.673028         42    высшее             0   \n",
       "1         1    4024.803754         36   среднее             1   \n",
       "2         0    5623.422610         33   среднее             1   \n",
       "3         3    4124.747207         32   среднее             1   \n",
       "4         0  340266.072047         53   среднее             1   \n",
       "5         0     926.185831         27    высшее             0   \n",
       "6         0    2879.202052         43    высшее             0   \n",
       "7         0     152.779569         50   среднее             1   \n",
       "8         2    6929.865299         35    высшее             0   \n",
       "9         0    2188.756445         41   среднее             1   \n",
       "\n",
       "      family_status  family_status_id gender income_type  debt  total_income  \\\n",
       "0   женат / замужем                 0      F   сотрудник     0        253875   \n",
       "1   женат / замужем                 0      F   сотрудник     0        112080   \n",
       "2   женат / замужем                 0      M   сотрудник     0        145885   \n",
       "3   женат / замужем                 0      M   сотрудник     0        267628   \n",
       "4  гражданский брак                 1      F   пенсионер     0        158616   \n",
       "5  гражданский брак                 1      M   компаньон     0        255763   \n",
       "6   женат / замужем                 0      F   компаньон     0        240525   \n",
       "7   женат / замужем                 0      M   сотрудник     0        135823   \n",
       "8  гражданский брак                 1      F   сотрудник     0         95856   \n",
       "9   женат / замужем                 0      M   сотрудник     0        144425   \n",
       "\n",
       "                      purpose total_income_category          purpose_category  \n",
       "0               покупка жилья                     B  операции с недвижимостью  \n",
       "1     приобретение автомобиля                     C    операции с автомобилем  \n",
       "2               покупка жилья                     C  операции с недвижимостью  \n",
       "3  дополнительное образование                     B     получение образования  \n",
       "4             сыграть свадьбу                     C        проведение свадьбы  \n",
       "5               покупка жилья                     B  операции с недвижимостью  \n",
       "6           операции с жильем                     B  операции с недвижимостью  \n",
       "7                 образование                     C     получение образования  \n",
       "8       на проведение свадьбы                     C        проведение свадьбы  \n",
       "9     покупка жилья для семьи                     C  операции с недвижимостью  "
      ]
     },
     "metadata": {},
     "output_type": "display_data"
    }
   ],
   "source": [
    "#Импортируем метод 'display' для более наглядного отображения данных и выведем первые 10 строк методом .head(10)\n",
    "from IPython.display import display\n",
    "display(data.head(10))"
   ]
  },
  {
   "cell_type": "markdown",
   "id": "a2c7947d",
   "metadata": {
    "deletable": false,
    "editable": false,
    "id": "c5d66278"
   },
   "source": [
    "#### 3.1 Есть ли зависимость между количеством детей и возвратом кредита в срок?"
   ]
  },
  {
   "cell_type": "markdown",
   "id": "abc17d47",
   "metadata": {
    "deletable": false,
    "id": "2cacfc4a"
   },
   "source": [
    "Для определения зависимости между количеством детей и возвратом кредита,построим сводную таблицу `children_pivot` в которой мы сгруппируем данные по колонке `children`. \n",
    "\n",
    "Далее для каждой категории рассчитаем количество заемщиков, количество заемщиков нарушивших срок и вычислим % людей, нарушивших дату выплаты кредита в этой категории.\n"
   ]
  },
  {
   "cell_type": "code",
   "execution_count": 23,
   "id": "a1920176",
   "metadata": {
    "scrolled": false
   },
   "outputs": [
    {
     "data": {
      "text/html": [
       "<div>\n",
       "<style scoped>\n",
       "    .dataframe tbody tr th:only-of-type {\n",
       "        vertical-align: middle;\n",
       "    }\n",
       "\n",
       "    .dataframe tbody tr th {\n",
       "        vertical-align: top;\n",
       "    }\n",
       "\n",
       "    .dataframe thead tr th {\n",
       "        text-align: left;\n",
       "    }\n",
       "</style>\n",
       "<table border=\"1\" class=\"dataframe\">\n",
       "  <thead>\n",
       "    <tr>\n",
       "      <th></th>\n",
       "      <th>children</th>\n",
       "      <th>count</th>\n",
       "      <th>sum</th>\n",
       "      <th>mean</th>\n",
       "    </tr>\n",
       "    <tr>\n",
       "      <th></th>\n",
       "      <th></th>\n",
       "      <th>debt</th>\n",
       "      <th>debt</th>\n",
       "      <th>debt</th>\n",
       "    </tr>\n",
       "  </thead>\n",
       "  <tbody>\n",
       "    <tr>\n",
       "      <th>4</th>\n",
       "      <td>4</td>\n",
       "      <td>41</td>\n",
       "      <td>4</td>\n",
       "      <td>9.756098</td>\n",
       "    </tr>\n",
       "    <tr>\n",
       "      <th>2</th>\n",
       "      <td>2</td>\n",
       "      <td>2052</td>\n",
       "      <td>194</td>\n",
       "      <td>9.454191</td>\n",
       "    </tr>\n",
       "    <tr>\n",
       "      <th>1</th>\n",
       "      <td>1</td>\n",
       "      <td>4808</td>\n",
       "      <td>444</td>\n",
       "      <td>9.234609</td>\n",
       "    </tr>\n",
       "    <tr>\n",
       "      <th>3</th>\n",
       "      <td>3</td>\n",
       "      <td>330</td>\n",
       "      <td>27</td>\n",
       "      <td>8.181818</td>\n",
       "    </tr>\n",
       "    <tr>\n",
       "      <th>0</th>\n",
       "      <td>0</td>\n",
       "      <td>14091</td>\n",
       "      <td>1063</td>\n",
       "      <td>7.543822</td>\n",
       "    </tr>\n",
       "    <tr>\n",
       "      <th>5</th>\n",
       "      <td>5</td>\n",
       "      <td>9</td>\n",
       "      <td>0</td>\n",
       "      <td>0.000000</td>\n",
       "    </tr>\n",
       "  </tbody>\n",
       "</table>\n",
       "</div>"
      ],
      "text/plain": [
       "  children  count   sum      mean\n",
       "             debt  debt      debt\n",
       "4        4     41     4  9.756098\n",
       "2        2   2052   194  9.454191\n",
       "1        1   4808   444  9.234609\n",
       "3        3    330    27  8.181818\n",
       "0        0  14091  1063  7.543822\n",
       "5        5      9     0  0.000000"
      ]
     },
     "execution_count": 23,
     "metadata": {},
     "output_type": "execute_result"
    }
   ],
   "source": [
    "#1732\n",
    "#построим сводную таблицу и сбросим индексы.\n",
    "children_pivot = data.pivot_table(index = 'children', \n",
    "                                  values = 'debt', \n",
    "                                  fill_value=0,\n",
    "                                  aggfunc = ['count','sum','mean']).reset_index()\\\n",
    ".sort_values(by=('mean','debt'),ascending = False)\\\n",
    "#.style.format({('mean','debt'):'{:.2%}'})\n",
    "\n",
    "#Переведем значения в колонке 'mean' в проценты умножив на 100\n",
    "children_pivot ['mean','debt'] *= 100\n",
    "\n",
    "#выведем полученную таблицу\n",
    "children_pivot"
   ]
  },
  {
   "cell_type": "markdown",
   "id": "fb1e432e",
   "metadata": {},
   "source": [
    "Можно отметить, что у категории с детьми вероятность нарушения намного выше, при этом многодетных семей в данной популяции представлено меньше.\n",
    "\n",
    "Для улучшения качества исследования разделим популяцию на две категории `with children` и `without children`"
   ]
  },
  {
   "cell_type": "code",
   "execution_count": 25,
   "id": "021974da",
   "metadata": {},
   "outputs": [
    {
     "data": {
      "text/html": [
       "<div>\n",
       "<style scoped>\n",
       "    .dataframe tbody tr th:only-of-type {\n",
       "        vertical-align: middle;\n",
       "    }\n",
       "\n",
       "    .dataframe tbody tr th {\n",
       "        vertical-align: top;\n",
       "    }\n",
       "\n",
       "    .dataframe thead tr th {\n",
       "        text-align: left;\n",
       "    }\n",
       "</style>\n",
       "<table border=\"1\" class=\"dataframe\">\n",
       "  <thead>\n",
       "    <tr>\n",
       "      <th></th>\n",
       "      <th>children_category</th>\n",
       "      <th>count</th>\n",
       "      <th>sum</th>\n",
       "      <th>mean</th>\n",
       "    </tr>\n",
       "    <tr>\n",
       "      <th></th>\n",
       "      <th></th>\n",
       "      <th>debt</th>\n",
       "      <th>debt</th>\n",
       "      <th>debt</th>\n",
       "    </tr>\n",
       "  </thead>\n",
       "  <tbody>\n",
       "    <tr>\n",
       "      <th>0</th>\n",
       "      <td>with children</td>\n",
       "      <td>7240</td>\n",
       "      <td>669</td>\n",
       "      <td>9.240331</td>\n",
       "    </tr>\n",
       "    <tr>\n",
       "      <th>1</th>\n",
       "      <td>without children</td>\n",
       "      <td>14091</td>\n",
       "      <td>1063</td>\n",
       "      <td>7.543822</td>\n",
       "    </tr>\n",
       "  </tbody>\n",
       "</table>\n",
       "</div>"
      ],
      "text/plain": [
       "  children_category  count   sum      mean\n",
       "                      debt  debt      debt\n",
       "0     with children   7240   669  9.240331\n",
       "1  without children  14091  1063  7.543822"
      ]
     },
     "execution_count": 25,
     "metadata": {},
     "output_type": "execute_result"
    }
   ],
   "source": [
    "#напишем код для определения критерия отбора\n",
    "\n",
    "def children_category (i):\n",
    "    #try:\n",
    "        if i != 0:\n",
    "            return 'with children'\n",
    "        elif i == 0:\n",
    "            return 'without children'\n",
    "    #except:\n",
    "        #return 'without children'\n",
    "\n",
    "data ['children_category'] = data['children'].apply(children_category)\n",
    "\n",
    "#построим сводную таблицу с учетом нового столбца 'children_category'\n",
    "children_pivot = data.pivot_table (index = 'children_category',\n",
    "                                  values = 'debt',\n",
    "                                  aggfunc = ['count','sum','mean']).reset_index()\\\n",
    ".sort_values(by = ('mean', 'debt'), ascending = False)\n",
    "\n",
    "#Переведем значения в колонке 'mean' в проценты умножив на 100\n",
    "children_pivot ['mean','debt'] *= 100\n",
    "\n",
    "children_pivot"
   ]
  },
  {
   "cell_type": "markdown",
   "id": "8721b7f3",
   "metadata": {},
   "source": [
    "На основе полученных данных - `children_pivot` построим столбчатую диаграмму"
   ]
  },
  {
   "cell_type": "code",
   "execution_count": 26,
   "id": "0a957d77",
   "metadata": {
    "scrolled": true
   },
   "outputs": [
    {
     "data": {
      "image/png": "[encoded data removed]",
      "text/plain": [
       "<Figure size 720x360 with 1 Axes>"
      ]
     },
     "metadata": {
      "needs_background": "light"
     },
     "output_type": "display_data"
    }
   ],
   "source": [
    "#импортируем библиотеки matplotlib\n",
    "import matplotlib.pyplot as plt\n",
    "\n",
    "#задаем размеры диаграммы\n",
    "fig = plt.figure(figsize=(10, 5))\n",
    " \n",
    "# создаем столбчатую диаграмму\n",
    "plt.barh(children_pivot['children_category'],children_pivot['mean', 'debt'])\n",
    " \n",
    "plt.xlabel(\"% нарушения сроков\")\n",
    "plt.ylabel(\"Количество детей\")\n",
    "plt.title(\"Зависимость количества детей и нарушения сроков возврата кредита\")\n",
    "plt.show()"
   ]
  },
  {
   "cell_type": "markdown",
   "id": "1f1ff37d",
   "metadata": {},
   "source": [
    "\n",
    "   "
   ]
  },
  {
   "cell_type": "markdown",
   "id": "94c92cab",
   "metadata": {
    "deletable": false,
    "id": "3a6b99ec"
   },
   "source": [
    "**Вывод:** \n",
    "В рамках проверки гипотезы о зависимости была построена сводная таблица, были получены следующие результаты:\n",
    "\n",
    "- четыре ребенка - 9.75%\n",
    "- два ребенка - 9.45%\n",
    "- один ребенок - 9.23%\n",
    "- три ребенка - 8.18%\n",
    "- нет детей - 7.54%\n",
    "- пять детей - 0.00%\n",
    "\n",
    "Можно увиtдть, что группы с детьми имеют большую вероятность нарушения сроков оплаты кредита. При этом доля многодетных семей (более 2-х) в общей популяции очень мала. В это время группа без детей имеет наибольший вес в популяции и меньший процент нарушения сроков кредита.\n",
    "\n",
    "Целесообразно разделить нашу популяцию на две категории - `без детей` и `с детьми`.\n",
    "Таким образом мы более цельно сможем посмотреть на популяцию по данному параметру.\n",
    "\n",
    "\n",
    "На основе проведенного исследования мы получили следующие результаты:\n",
    "- с детьми (with children) - 9.24%\n",
    "- без детей (withщге children) - 7.54%\n",
    "\n",
    "Таким образом можно сделать вывод о том, что в среднем у людей у которых нет детй - вероятность нарушения сроков меньше, при этом эта категория имеет наибольший вес в общей популяции.\n",
    "\n",
    "Гипотеза о зависимости количества детей и нарушения сроков возврата подтверждена. В большей мере можно говорить о зависимости наличия детей либо их отсутствия и нарушения сроков возврата кредита."
   ]
  },
  {
   "cell_type": "markdown",
   "id": "00026219",
   "metadata": {
    "deletable": false,
    "editable": false,
    "id": "97be82ca"
   },
   "source": [
    "#### 3.2 Есть ли зависимость между семейным положением и возвратом кредита в срок?"
   ]
  },
  {
   "cell_type": "markdown",
   "id": "4d7cd347",
   "metadata": {},
   "source": [
    "Для определения зависимости между семейным положением и возвратом кредита, построим сводную таблицу `family_status_pivot` в которой мы сгруппируем данные по колонке `family_status`. \n",
    "\n",
    "Далее для каждой категории рассчитаем количество заемщиков, количество заемщиков нарушивших срок и вычислим % людей нарушивших дату выплаты кредита в этой категории.\n"
   ]
  },
  {
   "cell_type": "code",
   "execution_count": 27,
   "id": "38eab5ee",
   "metadata": {
    "deletable": false,
    "id": "dc3f7ee8"
   },
   "outputs": [
    {
     "data": {
      "text/html": [
       "<div>\n",
       "<style scoped>\n",
       "    .dataframe tbody tr th:only-of-type {\n",
       "        vertical-align: middle;\n",
       "    }\n",
       "\n",
       "    .dataframe tbody tr th {\n",
       "        vertical-align: top;\n",
       "    }\n",
       "\n",
       "    .dataframe thead tr th {\n",
       "        text-align: left;\n",
       "    }\n",
       "</style>\n",
       "<table border=\"1\" class=\"dataframe\">\n",
       "  <thead>\n",
       "    <tr>\n",
       "      <th></th>\n",
       "      <th>family_status</th>\n",
       "      <th>count</th>\n",
       "      <th>sum</th>\n",
       "      <th>mean</th>\n",
       "    </tr>\n",
       "    <tr>\n",
       "      <th></th>\n",
       "      <th></th>\n",
       "      <th>debt</th>\n",
       "      <th>debt</th>\n",
       "      <th>debt</th>\n",
       "    </tr>\n",
       "  </thead>\n",
       "  <tbody>\n",
       "    <tr>\n",
       "      <th>0</th>\n",
       "      <td>Не женат / не замужем</td>\n",
       "      <td>2796</td>\n",
       "      <td>273</td>\n",
       "      <td>9.763948</td>\n",
       "    </tr>\n",
       "    <tr>\n",
       "      <th>3</th>\n",
       "      <td>гражданский брак</td>\n",
       "      <td>4134</td>\n",
       "      <td>385</td>\n",
       "      <td>9.313014</td>\n",
       "    </tr>\n",
       "    <tr>\n",
       "      <th>4</th>\n",
       "      <td>женат / замужем</td>\n",
       "      <td>12261</td>\n",
       "      <td>927</td>\n",
       "      <td>7.560558</td>\n",
       "    </tr>\n",
       "    <tr>\n",
       "      <th>1</th>\n",
       "      <td>в разводе</td>\n",
       "      <td>1189</td>\n",
       "      <td>84</td>\n",
       "      <td>7.064760</td>\n",
       "    </tr>\n",
       "    <tr>\n",
       "      <th>2</th>\n",
       "      <td>вдовец / вдова</td>\n",
       "      <td>951</td>\n",
       "      <td>63</td>\n",
       "      <td>6.624606</td>\n",
       "    </tr>\n",
       "  </tbody>\n",
       "</table>\n",
       "</div>"
      ],
      "text/plain": [
       "           family_status  count  sum      mean\n",
       "                           debt debt      debt\n",
       "0  Не женат / не замужем   2796  273  9.763948\n",
       "3       гражданский брак   4134  385  9.313014\n",
       "4        женат / замужем  12261  927  7.560558\n",
       "1              в разводе   1189   84  7.064760\n",
       "2         вдовец / вдова    951   63  6.624606"
      ]
     },
     "execution_count": 27,
     "metadata": {},
     "output_type": "execute_result"
    }
   ],
   "source": [
    "#построим сводную таблицу и сбросим индексы.\n",
    "family_status_pivot = data.pivot_table(index = ['family_status'], \n",
    "                                  values = 'debt', \n",
    "                                  fill_value=0,\n",
    "                                  aggfunc = ['count','sum','mean']).reset_index()\\\n",
    ".sort_values(by = ('mean','debt'), ascending = False)\n",
    "\n",
    "#Переведем значения в колонке 'mean' в проценты умножив на 100\n",
    "family_status_pivot ['mean','debt'] *= 100\n",
    "\n",
    "#выведем полученную таблицу\n",
    "family_status_pivot"
   ]
  },
  {
   "cell_type": "markdown",
   "id": "7833866b",
   "metadata": {},
   "source": [
    "На основе полученных данных - `family_status_pivot` построим столбчатую диаграмму"
   ]
  },
  {
   "cell_type": "code",
   "execution_count": 28,
   "id": "5de06e7b",
   "metadata": {},
   "outputs": [
    {
     "data": {
      "image/png": "[encoded data removed]",
      "text/plain": [
       "<Figure size 720x360 with 1 Axes>"
      ]
     },
     "metadata": {
      "needs_background": "light"
     },
     "output_type": "display_data"
    }
   ],
   "source": [
    "#задаем размеры диаграммы\n",
    "fig = plt.figure(figsize=(10, 5))\n",
    " \n",
    "# создаем столбчатую диаграмму\n",
    "plt.barh(family_status_pivot['family_status'],family_status_pivot[('mean','debt')], height = 0.5)\n",
    " \n",
    "plt.xlabel(\"% нарушения сроков\")\n",
    "plt.ylabel(\"Семейное положение\")\n",
    "plt.title(\"Зависимость семейного положения и нарушения сроков возврата кредита\")\n",
    "plt.show()"
   ]
  },
  {
   "cell_type": "markdown",
   "id": "d80c102f",
   "metadata": {
    "deletable": false,
    "id": "1cef7837"
   },
   "source": [
    "**Вывод:** \n",
    "Согласно полученным данным, можно отметить следующие тенденцию:\n",
    "\n",
    "- Не женат / не замужем - 9.76%\n",
    "- гражданский брак - 9.31%\n",
    "- женат / замужем 7.56%\n",
    "- в разводе - 7.06%\n",
    "- вдовец / вдова - 6.62%\n",
    "\n",
    "В рамках данного исследования было установлено, что наибольший вес в популяции имеет категория `женат / замужем`, при этом у этой группы заемщиков средний показатель нарушения сроков возврата кредита - **7.56%**.\n",
    "\n",
    "При этом наибольшему риску подвержена группа заемщиков в семейном положении `Не женат / не замужем`- **9.76%**.\n",
    "\n",
    "Меньше всего нарушение сроков характерно для категории `Вдовец/вдова`- **6.62%**.\n",
    "\n",
    "На основе исследования можно утверждать, что заемщики с семейным положением `Не женат / не замужем`- несут более высокие риски нарушения сроков кредита. А люди находящиеся в узаконенных отношениях (`женат / замужем`) более ответственно подходят к выполнению своих обязательств. \n",
    "\n",
    "Гипотеза о зависимости между семейным положением и возвратом кредита в срок подтверждается. "
   ]
  },
  {
   "cell_type": "markdown",
   "id": "1e052f5a",
   "metadata": {
    "deletable": false,
    "editable": false,
    "id": "1e8b2fca"
   },
   "source": [
    "#### 3.3 Есть ли зависимость между уровнем дохода и возвратом кредита в срок?"
   ]
  },
  {
   "cell_type": "markdown",
   "id": "6cca7e3e",
   "metadata": {},
   "source": [
    "Для определения зависимости между уровнем дохода и возвратом кредита, построим сводную таблицу `total_income_category_pivot` в которой мы сгруппируем данные по колонке `total_income_category`. \n",
    "\n",
    "Далее для каждой категории рассчитаем количество заемщиков, количество заемщиков нарушивших срок и вычислим % людей нарушивших дату выплаты кредита в этой категории."
   ]
  },
  {
   "cell_type": "code",
   "execution_count": 29,
   "id": "d965f3ce",
   "metadata": {
    "deletable": false,
    "id": "cd7e3720"
   },
   "outputs": [
    {
     "data": {
      "text/html": [
       "<div>\n",
       "<style scoped>\n",
       "    .dataframe tbody tr th:only-of-type {\n",
       "        vertical-align: middle;\n",
       "    }\n",
       "\n",
       "    .dataframe tbody tr th {\n",
       "        vertical-align: top;\n",
       "    }\n",
       "\n",
       "    .dataframe thead tr th {\n",
       "        text-align: left;\n",
       "    }\n",
       "</style>\n",
       "<table border=\"1\" class=\"dataframe\">\n",
       "  <thead>\n",
       "    <tr>\n",
       "      <th></th>\n",
       "      <th>total_income_category</th>\n",
       "      <th>count</th>\n",
       "      <th>sum</th>\n",
       "      <th>mean</th>\n",
       "    </tr>\n",
       "    <tr>\n",
       "      <th></th>\n",
       "      <th></th>\n",
       "      <th>debt</th>\n",
       "      <th>debt</th>\n",
       "      <th>debt</th>\n",
       "    </tr>\n",
       "  </thead>\n",
       "  <tbody>\n",
       "    <tr>\n",
       "      <th>4</th>\n",
       "      <td>E</td>\n",
       "      <td>22</td>\n",
       "      <td>2</td>\n",
       "      <td>9.090909</td>\n",
       "    </tr>\n",
       "    <tr>\n",
       "      <th>2</th>\n",
       "      <td>C</td>\n",
       "      <td>15921</td>\n",
       "      <td>1353</td>\n",
       "      <td>8.498210</td>\n",
       "    </tr>\n",
       "    <tr>\n",
       "      <th>0</th>\n",
       "      <td>A</td>\n",
       "      <td>25</td>\n",
       "      <td>2</td>\n",
       "      <td>8.000000</td>\n",
       "    </tr>\n",
       "    <tr>\n",
       "      <th>1</th>\n",
       "      <td>B</td>\n",
       "      <td>5014</td>\n",
       "      <td>354</td>\n",
       "      <td>7.060231</td>\n",
       "    </tr>\n",
       "    <tr>\n",
       "      <th>3</th>\n",
       "      <td>D</td>\n",
       "      <td>349</td>\n",
       "      <td>21</td>\n",
       "      <td>6.017192</td>\n",
       "    </tr>\n",
       "  </tbody>\n",
       "</table>\n",
       "</div>"
      ],
      "text/plain": [
       "  total_income_category  count   sum      mean\n",
       "                          debt  debt      debt\n",
       "4                     E     22     2  9.090909\n",
       "2                     C  15921  1353  8.498210\n",
       "0                     A     25     2  8.000000\n",
       "1                     B   5014   354  7.060231\n",
       "3                     D    349    21  6.017192"
      ]
     },
     "execution_count": 29,
     "metadata": {},
     "output_type": "execute_result"
    }
   ],
   "source": [
    "#построим сводную таблицу и сбросим индексы.\n",
    "total_income_category_pivot = data.pivot_table(index = ['total_income_category'], \n",
    "                                  values = 'debt', \n",
    "                                  fill_value=0,\n",
    "                                  aggfunc = ['count','sum','mean']).reset_index()\\\n",
    ".sort_values(by = ('mean','debt'), ascending=False)\n",
    "\n",
    "#Переведем значения в колонке 'mean' в проценты умножив на 100\n",
    "total_income_category_pivot ['mean','debt'] *= 100\n",
    "\n",
    "#выведем полученную таблицу\n",
    "total_income_category_pivot"
   ]
  },
  {
   "cell_type": "markdown",
   "id": "0430e65e",
   "metadata": {},
   "source": [
    "На основе полученных данных - `total_income_category_pivot` построим столбчатую диаграмму"
   ]
  },
  {
   "cell_type": "code",
   "execution_count": 30,
   "id": "d3cdbaed",
   "metadata": {},
   "outputs": [
    {
     "data": {
      "image/png": "[encoded data removed]",
      "text/plain": [
       "<Figure size 720x360 with 1 Axes>"
      ]
     },
     "metadata": {
      "needs_background": "light"
     },
     "output_type": "display_data"
    }
   ],
   "source": [
    "#зададим значения для диаграммы\n",
    "\n",
    "total_income_category_pivot.replace()\n",
    "labels = ['A (более 1 000 тыс.руб.)','B (от 200 до 1 000 тыс.руб.)','C (от 50 до 200 тыс.руб.)',\n",
    "          'D ( от 30 до 50 тыс.руб)','E (< 30 тыс.руб.)']\n",
    "\n",
    "#задаем размеры диаграммы\n",
    "fig = plt.figure(figsize=(10, 5))\n",
    " \n",
    "# создаем столбчатую диаграмму\n",
    "plt.barh(labels,total_income_category_pivot[('mean','debt')], height = 0.5)\n",
    " \n",
    "plt.xlabel(\"% нарушения сроков\")\n",
    "plt.ylabel(\"Категория дохода\")\n",
    "plt.title(\"Зависимость уровня дохода и нарушения сроков возврата кредита\")\n",
    "plt.show()"
   ]
  },
  {
   "cell_type": "markdown",
   "id": "47803294",
   "metadata": {
    "deletable": false,
    "id": "e8593def"
   },
   "source": [
    "**Вывод:** \n",
    "\n",
    "На основе полученных данных, можно сделать следующие выводы в отношении вероятности нарушения сроков в зависимости от категории доходов заемщиков:\n",
    "\n",
    "- E (< 30 тыс.руб.) - 9.09%\n",
    "- C (от 50 до 200 тыс.руб.) - 8.49%\n",
    "- A (более 1 000 тыс.руб.) - 8%\n",
    "- B (от 200 до 1 000 тыс.руб.) - 7.06%\n",
    "- D ( от 30 до 50 тыс.руб) - 6.01%\n",
    "\n",
    "Группа с наименьшим уровнем дохода `E` несет наибольшее риски нарушения сроков, однако люди с таким доходом редко берут займы, это подтверждается низкими значениями количества заемщиков в общей популяции.\n",
    "\n",
    "Больше всего в популяции представлена группа заемщиков `С` при этом у этой группы достаточно высокий % нарушения сроков **8.49%**. \n",
    "\n",
    "При этом вторая категория по размеру в популяции `В` показывает более низкий процент нарушения сроков по сравнению с наибольшей категорией `С`. Это можно объяснить более высокими доходами позволяющими лучше обслуживать долги.\n",
    "\n",
    "Исследование показало, что как правило к займам прибегают люди с доходами от 50 до 200 тыс. рублей, на втором месте заемщики по с доходами от 200 до 1 000 тыс. руб. Вклад других категорий в популяции не столь существенный. \n",
    "\n",
    "Гипотеза о зависимости категории доходов и нарушения срока возврата подтверждена частично. Мы не можем с уверенностью говорить, что с увеличением дохода вероятность нарушения сроков ниже. Но на основе данных видна усредненная картина. "
   ]
  },
  {
   "cell_type": "markdown",
   "id": "4c4b88f6",
   "metadata": {
    "deletable": false,
    "editable": false,
    "id": "99ecbd1f"
   },
   "source": [
    "#### 3.4 Как разные цели кредита влияют на его возврат в срок?"
   ]
  },
  {
   "cell_type": "markdown",
   "id": "32f3fae2",
   "metadata": {},
   "source": [
    "Для определения зависимости между целью кредита и возвратом кредита, построим сводную таблицу `purpose_category_pivot` в которой мы сгруппируем данные по колонке `purpose_category`. \n",
    "\n",
    "Далее для каждой категории рассчитаем количество заемщиков, количество заемщиков нарушивших срок и вычислим % людей нарушивших дату выплаты кредита в этой категории."
   ]
  },
  {
   "cell_type": "code",
   "execution_count": 31,
   "id": "d7f3fcf7",
   "metadata": {
    "deletable": false,
    "id": "2b687290"
   },
   "outputs": [
    {
     "data": {
      "text/html": [
       "<div>\n",
       "<style scoped>\n",
       "    .dataframe tbody tr th:only-of-type {\n",
       "        vertical-align: middle;\n",
       "    }\n",
       "\n",
       "    .dataframe tbody tr th {\n",
       "        vertical-align: top;\n",
       "    }\n",
       "\n",
       "    .dataframe thead tr th {\n",
       "        text-align: left;\n",
       "    }\n",
       "</style>\n",
       "<table border=\"1\" class=\"dataframe\">\n",
       "  <thead>\n",
       "    <tr>\n",
       "      <th></th>\n",
       "      <th>purpose_category</th>\n",
       "      <th>count</th>\n",
       "      <th>sum</th>\n",
       "      <th>mean</th>\n",
       "    </tr>\n",
       "    <tr>\n",
       "      <th></th>\n",
       "      <th></th>\n",
       "      <th>debt</th>\n",
       "      <th>debt</th>\n",
       "      <th>debt</th>\n",
       "    </tr>\n",
       "  </thead>\n",
       "  <tbody>\n",
       "    <tr>\n",
       "      <th>0</th>\n",
       "      <td>операции с автомобилем</td>\n",
       "      <td>4279</td>\n",
       "      <td>400</td>\n",
       "      <td>9.347978</td>\n",
       "    </tr>\n",
       "    <tr>\n",
       "      <th>2</th>\n",
       "      <td>получение образования</td>\n",
       "      <td>3988</td>\n",
       "      <td>369</td>\n",
       "      <td>9.252758</td>\n",
       "    </tr>\n",
       "    <tr>\n",
       "      <th>3</th>\n",
       "      <td>проведение свадьбы</td>\n",
       "      <td>2313</td>\n",
       "      <td>183</td>\n",
       "      <td>7.911803</td>\n",
       "    </tr>\n",
       "    <tr>\n",
       "      <th>1</th>\n",
       "      <td>операции с недвижимостью</td>\n",
       "      <td>10751</td>\n",
       "      <td>780</td>\n",
       "      <td>7.255139</td>\n",
       "    </tr>\n",
       "  </tbody>\n",
       "</table>\n",
       "</div>"
      ],
      "text/plain": [
       "           purpose_category  count  sum      mean\n",
       "                              debt debt      debt\n",
       "0    операции с автомобилем   4279  400  9.347978\n",
       "2     получение образования   3988  369  9.252758\n",
       "3        проведение свадьбы   2313  183  7.911803\n",
       "1  операции с недвижимостью  10751  780  7.255139"
      ]
     },
     "execution_count": 31,
     "metadata": {},
     "output_type": "execute_result"
    }
   ],
   "source": [
    "#построим сводную таблицу и сбросим индексы.\n",
    "purpose_category_pivot = data.pivot_table(index = ['purpose_category'],  \n",
    "                                  values = 'debt', \n",
    "                                  fill_value=0,\n",
    "                                  aggfunc = ['count','sum','mean']).reset_index()\\\n",
    ".sort_values(by = ('mean','debt'),ascending = False)\n",
    "\n",
    "#Переведем значения в колонке 'mean' в проценты умножив на 100\n",
    "purpose_category_pivot ['mean','debt'] *= 100\n",
    "\n",
    "#выведем полученную таблицу\n",
    "purpose_category_pivot"
   ]
  },
  {
   "cell_type": "markdown",
   "id": "aec07059",
   "metadata": {},
   "source": [
    "На основе полученных данных - `purpose_category_pivot` построим круговую диаграмму"
   ]
  },
  {
   "cell_type": "code",
   "execution_count": 32,
   "id": "1efcb231",
   "metadata": {},
   "outputs": [
    {
     "data": {
      "image/png": "[encoded data removed]",
      "text/plain": [
       "<Figure size 720x360 with 1 Axes>"
      ]
     },
     "metadata": {
      "needs_background": "light"
     },
     "output_type": "display_data"
    }
   ],
   "source": [
    "#задаем размеры диаграммы\n",
    "fig = plt.figure(figsize=(10, 5))\n",
    " \n",
    "# создаем столбчатую диаграмму\n",
    "plt.barh(purpose_category_pivot['purpose_category'],purpose_category_pivot[('mean','debt')],height = 0.4)\n",
    " \n",
    "plt.xlabel(\"% нарушения сроков\")\n",
    "plt.ylabel(\"Цель кредита\")\n",
    "plt.title(\"Зависимость цели кредита и нарушения сроков возврата кредита\")\n",
    "plt.show()"
   ]
  },
  {
   "cell_type": "markdown",
   "id": "61416ada",
   "metadata": {
    "deletable": false,
    "id": "b4bb2ce6"
   },
   "source": [
    "**Вывод:** \n",
    "\n",
    "На основе полученных данных, можно говорить о следующей степени вероятности нарушения сроков возврата денежных средств в зависимости от целей кредита:\n",
    "\n",
    "- операции с автомобилем -9.34%\n",
    "- получение образования\t- 9.25%\n",
    "- проведение свадьбы - 7.91%\n",
    "- операции с недвижимостью -7.25%\n",
    "\n",
    "Наибольшая группа заемщиков в данном исследовании занимает группа с целью `операции с недвижимостью`, при этом можно увидеть, что вероятность нарушения в данной категории наиболее низкая - **7,25%**. Такие показатели достаточно логичны, так как чаще всего кредит берут на покупку жилья - сроки у таких кредитов (ипотеки) намного больше, однако процент по ним намного ниже, благодаря чему размер платежа позволяет комфортно выплачивать кредит.\n",
    "\n",
    "Что касается других категорий - то все они больше относятся к категории **потребительского** кредитования, проценты по которым выше чем при ипотечном. Соответственно обслуживать их труднее.\n",
    "\n",
    "Среди потребительской группы кредитов стоит выделить категорию **проведение свадьбы** - процент нарушения в данной категории тоже достаточно не высокий - **7.91%**.\n",
    "\n",
    "Процент нарушения сроков в категориях **операции с автомобилем** и **получение образования** имеют наибольшую вероятность нарушения сроков **9.34%** и **9.25%** соответственно \n",
    "\n",
    "Таким образом, гипотеза о зависимости цели кредита и нарушения сроков возврата подтверждается."
   ]
  },
  {
   "cell_type": "markdown",
   "id": "bfdc8e67",
   "metadata": {
    "deletable": false,
    "editable": false,
    "id": "09c3ac4c"
   },
   "source": [
    "#### 3.5 Приведите возможные причины появления пропусков в исходных данных."
   ]
  },
  {
   "cell_type": "markdown",
   "id": "4da7a845",
   "metadata": {
    "deletable": false,
    "id": "9da2ceda"
   },
   "source": [
    "*Ответ:* \n",
    "При предобработке данных, пропуски встречались в двух колонках:\n",
    "- `days_empoyed`\n",
    "- `total_income`\n",
    "\n",
    "Как правило, при выдаче кредитов в первую очередь смотрят на общий доход заемщика, так как на основе этой цифры можно понять  платежеспособность звемщика.\n",
    "Также у большинства банков имеется ограничение, в случае если сотрудник работает в компании меньше определенного срока, то такому заемщику могут отказать в получении займа.\n",
    "\n",
    "Возможно, люди сознательно скрывают свой трудовой стаж, и уровень своих доходов, чтобы сразу не получить отказ от кредитной организации. Также многие физические лица стараются не раскрывать информацию о своем заработке в силу своих личных убеждений.\n",
    "\n",
    "Для улучшения качества данных, можно прибегнуть к следующим процедурам:\n",
    "- в случае пропусков в этих полях не давать возможность заемщику отправить заявку;\n",
    "- дать клиентам возможность выбирать диапазон со значениями (например категории доходов)"
   ]
  },
  {
   "cell_type": "markdown",
   "id": "5475426f",
   "metadata": {
    "deletable": false,
    "editable": false,
    "id": "7b0487d6"
   },
   "source": [
    "#### 3.6 Объясните, почему заполнить пропуски медианным значением — лучшее решение для количественных переменных."
   ]
  },
  {
   "cell_type": "markdown",
   "id": "2804cd04",
   "metadata": {
    "deletable": false,
    "id": "7ecf2b8e"
   },
   "source": [
    "*Ответ:* \n",
    "\n",
    "Заполнение пропусков медианным значением (с учетом дополнительной категории), позволит получить более точную картину.\n",
    "Медиана разделит популяцию поровну, и выберет значение, находящееся посередине всего диапазона. Расчет среднего значение может исказить общую картину в случае, если есть аномально низкие или аномально высокие значения."
   ]
  },
  {
   "cell_type": "markdown",
   "id": "04a2522e",
   "metadata": {
    "deletable": false,
    "editable": false,
    "id": "6db5255a"
   },
   "source": [
    "### Шаг 4: общий вывод."
   ]
  },
  {
   "cell_type": "markdown",
   "id": "63135971",
   "metadata": {
    "deletable": false,
    "id": "bad65432"
   },
   "source": [
    "В рамках данного исследования были проанализированы зависимости разных параметров заемщиков .\n",
    "\n",
    "Резюмируя выполненное исследование можно утверждать, что заявленные в начале исследования гипотезы о зависимости нарушения сроков от различных параметров заемщиков были частично подтверждены. Если говорить более детально:\n",
    "\n",
    "**Есть ли зависимость между количеством детей и возвратом кредита в срок**\n",
    "По результатам исследования (п. 3.7.1), можно сделать вывод о том, что больше всего на нарушение сроков кредита влияет наличие детей, так как вероятность нарушения по группам с детьми выше, чем для категории без детей.\n",
    "\n",
    "\n",
    "**Есть ли зависимость между семейным положением и возвратом кредита в срок**\n",
    "По результатам исследования (п. 3.7.2), было выявлено, что среди случаев нарушения сроков, с большей вероятностью нарушают сроки заемщики с семейным положением - не женат/не замужем (**9.76%**), на втором месте находятся заемщики с семейным положением - гражданский брак (**9.31%**). Наибольший вес в исследовании занимают заемщики в группе женат/замужем - при этом эта группа имеет среднюю вероятность нарушения сроков (**7.56%**) в рамках всей популяции. \n",
    "\n",
    "\n",
    "**Есть ли зависимость между уровнем дохода и возвратом кредита в срок**\n",
    "По результатам исследования (п. 3.7.3) было определено, что из всех случаев нарушения сроков возврата кредита наибольшую долю занимают заемщики категории \"С\" - доходы этой группы составляют от 50 000 до 200 000 рублей (**8.49%**) - вклад данной группы в популяцию наиболее существенный.\n",
    "\n",
    "Вторая по количеству нарушения группа - \"B\" - доход группы составляет от 200 000 до 1 000 000 рублей показала более низкое значение нарушения сроков (**7.06**).\n",
    "\n",
    "Остальные группы представлены меньшим количеством заемщиков в популяции, это связанно с тем, что для данных групп брать кредит не характерно.\n",
    "\n",
    "**Есть ли зависимость между целью кредиты и возвратом кредита в срок**\n",
    "Результатом исследования (п. 3.7.4) было определено, что с меньшей вероятностью нарушают сроки заемщики, получившие деньги в рамках ипотечного кредитования, процент нарушения сроков у таких заемщиков составляет **7.25%**. \n",
    "\n",
    "Остальные группы, кредитующиеся под потребительские цели имеют больший риск нарушения сроков платежей. При этом лучше всего в данной категории кредитов представляет группа \"подготовка свадьбы\" - **7.91**\n",
    "\n",
    "На основе полученных данных можно составить 3 вида портфеля заемщиков*:\n",
    "\n",
    "1. Среднестатистический заемщик имеет параметры:\n",
    "- не имеет детей;\n",
    "- женат/замужем;\n",
    "- доходы от 50 до 200 тыс. рублей;\n",
    "- цель: операции с недвижимостью.\n",
    "\n",
    "2. Параметры заемщик имеющий наименьший риск:\n",
    "- нет детей;\n",
    "- женат/замужем;\n",
    "- категория доходов от 200 до 1 000 рублей;\n",
    "- цель: операции с недвижимостью /на свадьбу.\n",
    "\n",
    "3. Заемщик с более высоким риском:\n",
    "- имеет детей;\n",
    "- не женат/не замужем;\n",
    "- категория доходов от 30 до 200 тыс. рублей;\n",
    "- цель: покупка автомобиля/получения образования.\n",
    "\n",
    "*данные усреднены, при одобрении кредита стоит учитывать данные для информационного ознакомления*\n"
   ]
  }
 ],
 "metadata": {
  "ExecuteTimeLog": [
   {
    "duration": 479,
    "start_time": "2023-02-03T17:06:24.123Z"
   },
   {
    "duration": 64,
    "start_time": "2023-02-03T17:06:25.686Z"
   },
   {
    "duration": 67,
    "start_time": "2023-02-03T17:06:26.737Z"
   },
   {
    "duration": 66,
    "start_time": "2023-02-03T17:06:30.156Z"
   },
   {
    "duration": 43,
    "start_time": "2023-02-03T17:06:30.904Z"
   },
   {
    "duration": 66,
    "start_time": "2023-02-03T17:06:31.388Z"
   },
   {
    "duration": 83,
    "start_time": "2023-02-03T17:06:35.235Z"
   },
   {
    "duration": 24,
    "start_time": "2023-02-03T17:07:13.498Z"
   },
   {
    "duration": 14,
    "start_time": "2023-02-03T17:07:17.517Z"
   },
   {
    "duration": 22,
    "start_time": "2023-02-03T17:07:18.999Z"
   },
   {
    "duration": 47,
    "start_time": "2023-02-05T08:05:51.342Z"
   },
   {
    "duration": 7,
    "start_time": "2023-02-05T08:05:59.855Z"
   },
   {
    "duration": 505,
    "start_time": "2023-02-05T08:06:14.455Z"
   },
   {
    "duration": 22,
    "start_time": "2023-02-05T08:06:14.962Z"
   },
   {
    "duration": 14,
    "start_time": "2023-02-05T08:06:14.986Z"
   },
   {
    "duration": 12,
    "start_time": "2023-02-05T08:06:15.002Z"
   },
   {
    "duration": 42,
    "start_time": "2023-02-05T08:06:15.016Z"
   },
   {
    "duration": 3,
    "start_time": "2023-02-05T08:06:15.060Z"
   },
   {
    "duration": 17,
    "start_time": "2023-02-05T08:06:15.065Z"
   },
   {
    "duration": 10,
    "start_time": "2023-02-05T08:06:15.084Z"
   },
   {
    "duration": 15,
    "start_time": "2023-02-05T08:06:15.095Z"
   },
   {
    "duration": 4,
    "start_time": "2023-02-05T08:06:15.114Z"
   },
   {
    "duration": 35,
    "start_time": "2023-02-05T08:06:15.120Z"
   },
   {
    "duration": 9,
    "start_time": "2023-02-05T08:06:15.156Z"
   },
   {
    "duration": 5,
    "start_time": "2023-02-05T08:06:15.167Z"
   },
   {
    "duration": 28,
    "start_time": "2023-02-05T08:06:15.174Z"
   },
   {
    "duration": 21,
    "start_time": "2023-02-05T08:06:15.204Z"
   },
   {
    "duration": 16,
    "start_time": "2023-02-05T08:06:15.227Z"
   },
   {
    "duration": 3,
    "start_time": "2023-02-05T08:06:15.245Z"
   },
   {
    "duration": 13,
    "start_time": "2023-02-05T08:06:15.250Z"
   },
   {
    "duration": 11,
    "start_time": "2023-02-05T08:06:15.264Z"
   },
   {
    "duration": 24,
    "start_time": "2023-02-05T08:06:15.277Z"
   },
   {
    "duration": 17,
    "start_time": "2023-02-05T08:06:15.302Z"
   },
   {
    "duration": 67,
    "start_time": "2023-02-05T08:06:15.321Z"
   },
   {
    "duration": 0,
    "start_time": "2023-02-05T08:06:15.389Z"
   },
   {
    "duration": 0,
    "start_time": "2023-02-05T08:06:15.390Z"
   },
   {
    "duration": 0,
    "start_time": "2023-02-05T08:06:15.392Z"
   },
   {
    "duration": 0,
    "start_time": "2023-02-05T08:06:15.394Z"
   },
   {
    "duration": 0,
    "start_time": "2023-02-05T08:06:15.395Z"
   },
   {
    "duration": 12,
    "start_time": "2023-02-05T08:07:21.832Z"
   },
   {
    "duration": 16,
    "start_time": "2023-02-05T08:07:47.633Z"
   },
   {
    "duration": 23,
    "start_time": "2023-02-05T08:09:04.992Z"
   },
   {
    "duration": 16,
    "start_time": "2023-02-05T08:10:38.852Z"
   },
   {
    "duration": 20,
    "start_time": "2023-02-05T08:10:43.966Z"
   },
   {
    "duration": 13,
    "start_time": "2023-02-05T08:10:49.187Z"
   },
   {
    "duration": 12,
    "start_time": "2023-02-05T08:10:52.739Z"
   },
   {
    "duration": 14,
    "start_time": "2023-02-05T08:10:55.596Z"
   },
   {
    "duration": 4,
    "start_time": "2023-02-05T08:40:34.779Z"
   },
   {
    "duration": 23,
    "start_time": "2023-02-05T08:40:41.504Z"
   },
   {
    "duration": 5,
    "start_time": "2023-02-05T08:42:13.282Z"
   },
   {
    "duration": 4,
    "start_time": "2023-02-05T08:42:34.653Z"
   },
   {
    "duration": 19,
    "start_time": "2023-02-05T08:42:40.500Z"
   },
   {
    "duration": 16,
    "start_time": "2023-02-05T08:42:44.070Z"
   },
   {
    "duration": 8,
    "start_time": "2023-02-05T08:43:01.268Z"
   },
   {
    "duration": 102,
    "start_time": "2023-02-05T08:43:34.127Z"
   },
   {
    "duration": 6,
    "start_time": "2023-02-05T08:43:41.222Z"
   },
   {
    "duration": 8,
    "start_time": "2023-02-05T08:44:41.163Z"
   },
   {
    "duration": 8,
    "start_time": "2023-02-05T08:44:52.692Z"
   },
   {
    "duration": 9,
    "start_time": "2023-02-05T08:45:36.455Z"
   },
   {
    "duration": 8,
    "start_time": "2023-02-05T08:45:39.460Z"
   },
   {
    "duration": 10,
    "start_time": "2023-02-05T08:56:06.888Z"
   },
   {
    "duration": 11,
    "start_time": "2023-02-05T08:56:22.311Z"
   },
   {
    "duration": 11,
    "start_time": "2023-02-05T08:57:12.742Z"
   },
   {
    "duration": 8,
    "start_time": "2023-02-05T08:57:41.014Z"
   },
   {
    "duration": 9,
    "start_time": "2023-02-05T09:02:17.582Z"
   },
   {
    "duration": 8,
    "start_time": "2023-02-05T09:02:54.446Z"
   },
   {
    "duration": 13,
    "start_time": "2023-02-05T09:05:18.039Z"
   },
   {
    "duration": 12,
    "start_time": "2023-02-05T09:07:17.023Z"
   },
   {
    "duration": 11,
    "start_time": "2023-02-05T09:08:33.687Z"
   },
   {
    "duration": 9,
    "start_time": "2023-02-05T09:08:39.047Z"
   },
   {
    "duration": 8,
    "start_time": "2023-02-05T09:09:01.063Z"
   },
   {
    "duration": 12,
    "start_time": "2023-02-05T09:09:15.987Z"
   },
   {
    "duration": 7,
    "start_time": "2023-02-05T09:09:32.249Z"
   },
   {
    "duration": 12,
    "start_time": "2023-02-05T09:10:02.434Z"
   },
   {
    "duration": 8,
    "start_time": "2023-02-05T09:10:11.688Z"
   },
   {
    "duration": 1054,
    "start_time": "2023-02-05T09:20:25.686Z"
   },
   {
    "duration": 108,
    "start_time": "2023-02-05T09:21:14.830Z"
   },
   {
    "duration": 94,
    "start_time": "2023-02-05T09:21:25.850Z"
   },
   {
    "duration": 63,
    "start_time": "2023-02-05T09:21:32.937Z"
   },
   {
    "duration": 85,
    "start_time": "2023-02-05T09:21:46.337Z"
   },
   {
    "duration": 90,
    "start_time": "2023-02-05T09:21:58.737Z"
   },
   {
    "duration": 96,
    "start_time": "2023-02-05T09:22:53.769Z"
   },
   {
    "duration": 104,
    "start_time": "2023-02-05T09:23:31.979Z"
   },
   {
    "duration": 215,
    "start_time": "2023-02-05T09:25:18.219Z"
   },
   {
    "duration": 121,
    "start_time": "2023-02-05T09:25:27.682Z"
   },
   {
    "duration": 93,
    "start_time": "2023-02-05T09:25:57.488Z"
   },
   {
    "duration": 108,
    "start_time": "2023-02-05T09:26:26.902Z"
   },
   {
    "duration": 98,
    "start_time": "2023-02-05T09:27:25.845Z"
   },
   {
    "duration": 92,
    "start_time": "2023-02-05T09:27:55.469Z"
   },
   {
    "duration": 11,
    "start_time": "2023-02-05T09:33:15.732Z"
   },
   {
    "duration": 73,
    "start_time": "2023-02-05T09:34:20.892Z"
   },
   {
    "duration": 113,
    "start_time": "2023-02-05T09:34:35.009Z"
   },
   {
    "duration": 104,
    "start_time": "2023-02-05T09:34:42.008Z"
   },
   {
    "duration": 105,
    "start_time": "2023-02-05T09:34:48.479Z"
   },
   {
    "duration": 78,
    "start_time": "2023-02-05T09:34:53.408Z"
   },
   {
    "duration": 94,
    "start_time": "2023-02-05T09:34:55.786Z"
   },
   {
    "duration": 12,
    "start_time": "2023-02-05T09:35:38.133Z"
   },
   {
    "duration": 9,
    "start_time": "2023-02-05T09:35:51.397Z"
   },
   {
    "duration": 98,
    "start_time": "2023-02-05T09:35:56.209Z"
   },
   {
    "duration": 113,
    "start_time": "2023-02-05T09:37:48.740Z"
   },
   {
    "duration": 11,
    "start_time": "2023-02-05T09:38:09.685Z"
   },
   {
    "duration": 179,
    "start_time": "2023-02-05T09:39:29.089Z"
   },
   {
    "duration": 129,
    "start_time": "2023-02-05T09:39:34.637Z"
   },
   {
    "duration": 0,
    "start_time": "2023-02-05T09:40:09.328Z"
   },
   {
    "duration": 2731,
    "start_time": "2023-02-05T09:40:13.257Z"
   },
   {
    "duration": 451,
    "start_time": "2023-02-05T09:40:34.491Z"
   },
   {
    "duration": 24,
    "start_time": "2023-02-05T09:40:34.944Z"
   },
   {
    "duration": 30,
    "start_time": "2023-02-05T09:40:34.969Z"
   },
   {
    "duration": 9,
    "start_time": "2023-02-05T09:40:35.002Z"
   },
   {
    "duration": 36,
    "start_time": "2023-02-05T09:40:35.013Z"
   },
   {
    "duration": 3,
    "start_time": "2023-02-05T09:40:35.051Z"
   },
   {
    "duration": 34,
    "start_time": "2023-02-05T09:40:35.056Z"
   },
   {
    "duration": 9,
    "start_time": "2023-02-05T09:40:35.095Z"
   },
   {
    "duration": 9,
    "start_time": "2023-02-05T09:40:35.106Z"
   },
   {
    "duration": 4,
    "start_time": "2023-02-05T09:40:35.120Z"
   },
   {
    "duration": 35,
    "start_time": "2023-02-05T09:40:35.125Z"
   },
   {
    "duration": 10,
    "start_time": "2023-02-05T09:40:35.162Z"
   },
   {
    "duration": 25,
    "start_time": "2023-02-05T09:40:35.174Z"
   },
   {
    "duration": 11,
    "start_time": "2023-02-05T09:40:35.201Z"
   },
   {
    "duration": 24,
    "start_time": "2023-02-05T09:40:35.214Z"
   },
   {
    "duration": 17,
    "start_time": "2023-02-05T09:40:35.240Z"
   },
   {
    "duration": 3,
    "start_time": "2023-02-05T09:40:35.259Z"
   },
   {
    "duration": 35,
    "start_time": "2023-02-05T09:40:35.264Z"
   },
   {
    "duration": 5,
    "start_time": "2023-02-05T09:40:35.301Z"
   },
   {
    "duration": 10,
    "start_time": "2023-02-05T09:40:35.308Z"
   },
   {
    "duration": 16,
    "start_time": "2023-02-05T09:40:35.320Z"
   },
   {
    "duration": 21,
    "start_time": "2023-02-05T09:40:35.337Z"
   },
   {
    "duration": 12,
    "start_time": "2023-02-05T09:40:35.360Z"
   },
   {
    "duration": 874,
    "start_time": "2023-02-05T09:40:35.374Z"
   },
   {
    "duration": 3,
    "start_time": "2023-02-05T09:40:36.249Z"
   },
   {
    "duration": 7,
    "start_time": "2023-02-05T09:40:36.253Z"
   },
   {
    "duration": 6,
    "start_time": "2023-02-05T09:40:36.262Z"
   },
   {
    "duration": 945,
    "start_time": "2023-02-05T09:40:41.795Z"
   },
   {
    "duration": 818,
    "start_time": "2023-02-05T09:40:53.022Z"
   },
   {
    "duration": 805,
    "start_time": "2023-02-05T09:40:57.370Z"
   },
   {
    "duration": 890,
    "start_time": "2023-02-05T09:40:59.779Z"
   },
   {
    "duration": 442,
    "start_time": "2023-02-05T09:41:17.836Z"
   },
   {
    "duration": 23,
    "start_time": "2023-02-05T09:41:18.281Z"
   },
   {
    "duration": 16,
    "start_time": "2023-02-05T09:41:18.306Z"
   },
   {
    "duration": 10,
    "start_time": "2023-02-05T09:41:18.324Z"
   },
   {
    "duration": 64,
    "start_time": "2023-02-05T09:41:18.335Z"
   },
   {
    "duration": 4,
    "start_time": "2023-02-05T09:41:18.402Z"
   },
   {
    "duration": 17,
    "start_time": "2023-02-05T09:41:18.408Z"
   },
   {
    "duration": 5,
    "start_time": "2023-02-05T09:41:18.427Z"
   },
   {
    "duration": 12,
    "start_time": "2023-02-05T09:41:18.434Z"
   },
   {
    "duration": 4,
    "start_time": "2023-02-05T09:41:18.450Z"
   },
   {
    "duration": 56,
    "start_time": "2023-02-05T09:41:18.456Z"
   },
   {
    "duration": 10,
    "start_time": "2023-02-05T09:41:18.513Z"
   },
   {
    "duration": 5,
    "start_time": "2023-02-05T09:41:18.525Z"
   },
   {
    "duration": 15,
    "start_time": "2023-02-05T09:41:18.532Z"
   },
   {
    "duration": 20,
    "start_time": "2023-02-05T09:41:18.548Z"
   },
   {
    "duration": 45,
    "start_time": "2023-02-05T09:41:18.570Z"
   },
   {
    "duration": 3,
    "start_time": "2023-02-05T09:41:18.617Z"
   },
   {
    "duration": 15,
    "start_time": "2023-02-05T09:41:18.622Z"
   },
   {
    "duration": 6,
    "start_time": "2023-02-05T09:41:18.639Z"
   },
   {
    "duration": 7,
    "start_time": "2023-02-05T09:41:18.647Z"
   },
   {
    "duration": 10,
    "start_time": "2023-02-05T09:41:18.657Z"
   },
   {
    "duration": 43,
    "start_time": "2023-02-05T09:41:18.669Z"
   },
   {
    "duration": 10,
    "start_time": "2023-02-05T09:41:18.714Z"
   },
   {
    "duration": 947,
    "start_time": "2023-02-05T09:41:18.726Z"
   },
   {
    "duration": 2,
    "start_time": "2023-02-05T09:41:19.675Z"
   },
   {
    "duration": 10,
    "start_time": "2023-02-05T09:41:19.679Z"
   },
   {
    "duration": 8,
    "start_time": "2023-02-05T09:41:19.691Z"
   },
   {
    "duration": 98,
    "start_time": "2023-02-05T09:42:36.666Z"
   },
   {
    "duration": 72,
    "start_time": "2023-02-05T09:43:31.133Z"
   },
   {
    "duration": 127,
    "start_time": "2023-02-05T09:43:37.271Z"
   },
   {
    "duration": 182,
    "start_time": "2023-02-05T09:43:46.430Z"
   },
   {
    "duration": 214,
    "start_time": "2023-02-05T09:43:55.707Z"
   },
   {
    "duration": 164,
    "start_time": "2023-02-05T09:44:01.608Z"
   },
   {
    "duration": 136,
    "start_time": "2023-02-05T09:45:18.669Z"
   },
   {
    "duration": 1104,
    "start_time": "2023-02-05T09:46:37.537Z"
   },
   {
    "duration": 11,
    "start_time": "2023-02-05T09:46:48.024Z"
   },
   {
    "duration": 1168,
    "start_time": "2023-02-05T09:46:55.360Z"
   },
   {
    "duration": 147,
    "start_time": "2023-02-05T09:47:14.320Z"
   },
   {
    "duration": 10,
    "start_time": "2023-02-05T09:47:20.939Z"
   },
   {
    "duration": 1105,
    "start_time": "2023-02-05T09:47:28.330Z"
   },
   {
    "duration": 17,
    "start_time": "2023-02-05T09:47:45.964Z"
   },
   {
    "duration": 827,
    "start_time": "2023-02-05T09:47:53.942Z"
   },
   {
    "duration": 149,
    "start_time": "2023-02-05T09:48:04.095Z"
   },
   {
    "duration": 231,
    "start_time": "2023-02-05T09:49:08.671Z"
   },
   {
    "duration": 149,
    "start_time": "2023-02-05T09:49:23.969Z"
   },
   {
    "duration": 155,
    "start_time": "2023-02-05T09:49:29.827Z"
   },
   {
    "duration": 182,
    "start_time": "2023-02-05T09:49:46.189Z"
   },
   {
    "duration": 470,
    "start_time": "2023-02-05T09:50:21.579Z"
   },
   {
    "duration": 29,
    "start_time": "2023-02-05T09:50:22.051Z"
   },
   {
    "duration": 23,
    "start_time": "2023-02-05T09:50:22.082Z"
   },
   {
    "duration": 10,
    "start_time": "2023-02-05T09:50:22.107Z"
   },
   {
    "duration": 58,
    "start_time": "2023-02-05T09:50:22.118Z"
   },
   {
    "duration": 4,
    "start_time": "2023-02-05T09:50:22.178Z"
   },
   {
    "duration": 11,
    "start_time": "2023-02-05T09:50:22.198Z"
   },
   {
    "duration": 5,
    "start_time": "2023-02-05T09:50:22.211Z"
   },
   {
    "duration": 15,
    "start_time": "2023-02-05T09:50:22.218Z"
   },
   {
    "duration": 5,
    "start_time": "2023-02-05T09:50:22.236Z"
   },
   {
    "duration": 56,
    "start_time": "2023-02-05T09:50:22.243Z"
   },
   {
    "duration": 10,
    "start_time": "2023-02-05T09:50:22.301Z"
   },
   {
    "duration": 5,
    "start_time": "2023-02-05T09:50:22.313Z"
   },
   {
    "duration": 20,
    "start_time": "2023-02-05T09:50:22.319Z"
   },
   {
    "duration": 24,
    "start_time": "2023-02-05T09:50:22.341Z"
   },
   {
    "duration": 45,
    "start_time": "2023-02-05T09:50:22.366Z"
   },
   {
    "duration": 4,
    "start_time": "2023-02-05T09:50:22.413Z"
   },
   {
    "duration": 15,
    "start_time": "2023-02-05T09:50:22.418Z"
   },
   {
    "duration": 11,
    "start_time": "2023-02-05T09:50:22.435Z"
   },
   {
    "duration": 5,
    "start_time": "2023-02-05T09:50:22.448Z"
   },
   {
    "duration": 14,
    "start_time": "2023-02-05T09:50:22.455Z"
   },
   {
    "duration": 29,
    "start_time": "2023-02-05T09:50:22.472Z"
   },
   {
    "duration": 10,
    "start_time": "2023-02-05T09:50:22.503Z"
   },
   {
    "duration": 978,
    "start_time": "2023-02-05T09:50:22.514Z"
   },
   {
    "duration": 0,
    "start_time": "2023-02-05T09:50:23.499Z"
   },
   {
    "duration": 0,
    "start_time": "2023-02-05T09:50:23.499Z"
   },
   {
    "duration": 0,
    "start_time": "2023-02-05T09:50:23.500Z"
   },
   {
    "duration": 203,
    "start_time": "2023-02-05T09:50:34.051Z"
   },
   {
    "duration": 128,
    "start_time": "2023-02-05T09:50:51.573Z"
   },
   {
    "duration": 172,
    "start_time": "2023-02-05T09:50:54.813Z"
   },
   {
    "duration": 151,
    "start_time": "2023-02-05T09:51:39.266Z"
   },
   {
    "duration": 136,
    "start_time": "2023-02-05T09:52:02.021Z"
   },
   {
    "duration": 209,
    "start_time": "2023-02-05T09:52:14.020Z"
   },
   {
    "duration": 166,
    "start_time": "2023-02-05T09:53:08.746Z"
   },
   {
    "duration": 113,
    "start_time": "2023-02-05T09:53:54.610Z"
   },
   {
    "duration": 254,
    "start_time": "2023-02-05T09:54:04.936Z"
   },
   {
    "duration": 163,
    "start_time": "2023-02-05T09:54:34.696Z"
   },
   {
    "duration": 139,
    "start_time": "2023-02-05T09:54:39.814Z"
   },
   {
    "duration": 170,
    "start_time": "2023-02-05T09:54:58.769Z"
   },
   {
    "duration": 155,
    "start_time": "2023-02-05T09:55:38.309Z"
   },
   {
    "duration": 148,
    "start_time": "2023-02-05T09:55:48.509Z"
   },
   {
    "duration": 104,
    "start_time": "2023-02-05T09:56:11.240Z"
   },
   {
    "duration": 137,
    "start_time": "2023-02-05T09:56:16.041Z"
   },
   {
    "duration": 128,
    "start_time": "2023-02-05T09:56:35.638Z"
   },
   {
    "duration": 195,
    "start_time": "2023-02-05T09:56:42.966Z"
   },
   {
    "duration": 182,
    "start_time": "2023-02-05T09:56:45.749Z"
   },
   {
    "duration": 144,
    "start_time": "2023-02-05T09:57:02.042Z"
   },
   {
    "duration": 243,
    "start_time": "2023-02-05T09:57:11.217Z"
   },
   {
    "duration": 144,
    "start_time": "2023-02-05T09:57:55.031Z"
   },
   {
    "duration": 160,
    "start_time": "2023-02-05T09:58:12.849Z"
   },
   {
    "duration": 171,
    "start_time": "2023-02-05T09:59:52.302Z"
   },
   {
    "duration": 145,
    "start_time": "2023-02-05T10:00:06.740Z"
   },
   {
    "duration": 148,
    "start_time": "2023-02-05T10:01:27.528Z"
   },
   {
    "duration": 139,
    "start_time": "2023-02-05T10:01:32.337Z"
   },
   {
    "duration": 143,
    "start_time": "2023-02-05T10:01:38.351Z"
   },
   {
    "duration": 141,
    "start_time": "2023-02-05T10:01:52.912Z"
   },
   {
    "duration": 511,
    "start_time": "2023-02-05T10:09:16.820Z"
   },
   {
    "duration": 25,
    "start_time": "2023-02-05T10:09:17.334Z"
   },
   {
    "duration": 16,
    "start_time": "2023-02-05T10:09:17.361Z"
   },
   {
    "duration": 13,
    "start_time": "2023-02-05T10:09:17.398Z"
   },
   {
    "duration": 38,
    "start_time": "2023-02-05T10:09:17.413Z"
   },
   {
    "duration": 4,
    "start_time": "2023-02-05T10:09:17.453Z"
   },
   {
    "duration": 16,
    "start_time": "2023-02-05T10:09:17.459Z"
   },
   {
    "duration": 25,
    "start_time": "2023-02-05T10:09:17.477Z"
   },
   {
    "duration": 9,
    "start_time": "2023-02-05T10:09:17.504Z"
   },
   {
    "duration": 5,
    "start_time": "2023-02-05T10:09:17.517Z"
   },
   {
    "duration": 38,
    "start_time": "2023-02-05T10:09:17.524Z"
   },
   {
    "duration": 39,
    "start_time": "2023-02-05T10:09:17.564Z"
   },
   {
    "duration": 4,
    "start_time": "2023-02-05T10:09:17.605Z"
   },
   {
    "duration": 15,
    "start_time": "2023-02-05T10:09:17.611Z"
   },
   {
    "duration": 22,
    "start_time": "2023-02-05T10:09:17.628Z"
   },
   {
    "duration": 19,
    "start_time": "2023-02-05T10:09:17.652Z"
   },
   {
    "duration": 28,
    "start_time": "2023-02-05T10:09:17.672Z"
   },
   {
    "duration": 17,
    "start_time": "2023-02-05T10:09:17.702Z"
   },
   {
    "duration": 10,
    "start_time": "2023-02-05T10:09:17.721Z"
   },
   {
    "duration": 5,
    "start_time": "2023-02-05T10:09:17.734Z"
   },
   {
    "duration": 12,
    "start_time": "2023-02-05T10:09:17.741Z"
   },
   {
    "duration": 44,
    "start_time": "2023-02-05T10:09:17.755Z"
   },
   {
    "duration": 9,
    "start_time": "2023-02-05T10:09:17.801Z"
   },
   {
    "duration": 993,
    "start_time": "2023-02-05T10:09:17.812Z"
   },
   {
    "duration": 2,
    "start_time": "2023-02-05T10:09:18.807Z"
   },
   {
    "duration": 7,
    "start_time": "2023-02-05T10:09:18.811Z"
   },
   {
    "duration": 927,
    "start_time": "2023-02-05T10:14:50.258Z"
   },
   {
    "duration": 517,
    "start_time": "2023-02-05T10:15:23.377Z"
   },
   {
    "duration": 30,
    "start_time": "2023-02-05T10:15:23.897Z"
   },
   {
    "duration": 18,
    "start_time": "2023-02-05T10:15:23.929Z"
   },
   {
    "duration": 21,
    "start_time": "2023-02-05T10:15:23.951Z"
   },
   {
    "duration": 62,
    "start_time": "2023-02-05T10:15:23.974Z"
   },
   {
    "duration": 5,
    "start_time": "2023-02-05T10:15:24.038Z"
   },
   {
    "duration": 26,
    "start_time": "2023-02-05T10:15:24.045Z"
   },
   {
    "duration": 19,
    "start_time": "2023-02-05T10:15:24.075Z"
   },
   {
    "duration": 27,
    "start_time": "2023-02-05T10:15:24.097Z"
   },
   {
    "duration": 26,
    "start_time": "2023-02-05T10:15:24.129Z"
   },
   {
    "duration": 67,
    "start_time": "2023-02-05T10:15:24.157Z"
   },
   {
    "duration": 11,
    "start_time": "2023-02-05T10:15:24.225Z"
   },
   {
    "duration": 12,
    "start_time": "2023-02-05T10:15:24.239Z"
   },
   {
    "duration": 19,
    "start_time": "2023-02-05T10:15:24.252Z"
   },
   {
    "duration": 36,
    "start_time": "2023-02-05T10:15:24.272Z"
   },
   {
    "duration": 17,
    "start_time": "2023-02-05T10:15:24.309Z"
   },
   {
    "duration": 4,
    "start_time": "2023-02-05T10:15:24.328Z"
   },
   {
    "duration": 23,
    "start_time": "2023-02-05T10:15:24.334Z"
   },
   {
    "duration": 18,
    "start_time": "2023-02-05T10:15:24.359Z"
   },
   {
    "duration": 11,
    "start_time": "2023-02-05T10:15:24.380Z"
   },
   {
    "duration": 47,
    "start_time": "2023-02-05T10:15:24.393Z"
   },
   {
    "duration": 23,
    "start_time": "2023-02-05T10:15:24.442Z"
   },
   {
    "duration": 13,
    "start_time": "2023-02-05T10:15:24.467Z"
   },
   {
    "duration": 1032,
    "start_time": "2023-02-05T10:15:24.481Z"
   },
   {
    "duration": 113,
    "start_time": "2023-02-05T10:15:25.515Z"
   },
   {
    "duration": 0,
    "start_time": "2023-02-05T10:15:25.631Z"
   },
   {
    "duration": 0,
    "start_time": "2023-02-05T10:15:25.633Z"
   },
   {
    "duration": 167,
    "start_time": "2023-02-05T10:16:21.035Z"
   },
   {
    "duration": 187,
    "start_time": "2023-02-05T10:16:27.139Z"
   },
   {
    "duration": 163,
    "start_time": "2023-02-05T10:18:34.187Z"
   },
   {
    "duration": 188,
    "start_time": "2023-02-05T10:18:44.912Z"
   },
   {
    "duration": 158,
    "start_time": "2023-02-05T10:18:49.175Z"
   },
   {
    "duration": 12,
    "start_time": "2023-02-05T10:19:26.052Z"
   },
   {
    "duration": 12,
    "start_time": "2023-02-05T10:20:12.976Z"
   },
   {
    "duration": 13,
    "start_time": "2023-02-05T10:20:56.637Z"
   },
   {
    "duration": 514,
    "start_time": "2023-02-05T10:21:03.478Z"
   },
   {
    "duration": 35,
    "start_time": "2023-02-05T10:21:03.994Z"
   },
   {
    "duration": 18,
    "start_time": "2023-02-05T10:21:04.031Z"
   },
   {
    "duration": 14,
    "start_time": "2023-02-05T10:21:04.052Z"
   },
   {
    "duration": 69,
    "start_time": "2023-02-05T10:21:04.068Z"
   },
   {
    "duration": 5,
    "start_time": "2023-02-05T10:21:04.139Z"
   },
   {
    "duration": 20,
    "start_time": "2023-02-05T10:21:04.146Z"
   },
   {
    "duration": 12,
    "start_time": "2023-02-05T10:21:04.169Z"
   },
   {
    "duration": 22,
    "start_time": "2023-02-05T10:21:04.183Z"
   },
   {
    "duration": 15,
    "start_time": "2023-02-05T10:21:04.209Z"
   },
   {
    "duration": 64,
    "start_time": "2023-02-05T10:21:04.226Z"
   },
   {
    "duration": 10,
    "start_time": "2023-02-05T10:21:04.292Z"
   },
   {
    "duration": 13,
    "start_time": "2023-02-05T10:21:04.304Z"
   },
   {
    "duration": 15,
    "start_time": "2023-02-05T10:21:04.320Z"
   },
   {
    "duration": 26,
    "start_time": "2023-02-05T10:21:04.337Z"
   },
   {
    "duration": 34,
    "start_time": "2023-02-05T10:21:04.365Z"
   },
   {
    "duration": 4,
    "start_time": "2023-02-05T10:21:04.401Z"
   },
   {
    "duration": 31,
    "start_time": "2023-02-05T10:21:04.407Z"
   },
   {
    "duration": 10,
    "start_time": "2023-02-05T10:21:04.440Z"
   },
   {
    "duration": 7,
    "start_time": "2023-02-05T10:21:04.451Z"
   },
   {
    "duration": 14,
    "start_time": "2023-02-05T10:21:04.461Z"
   },
   {
    "duration": 25,
    "start_time": "2023-02-05T10:21:04.477Z"
   },
   {
    "duration": 18,
    "start_time": "2023-02-05T10:21:04.504Z"
   },
   {
    "duration": 964,
    "start_time": "2023-02-05T10:21:04.524Z"
   },
   {
    "duration": 95,
    "start_time": "2023-02-05T10:21:05.490Z"
   },
   {
    "duration": 0,
    "start_time": "2023-02-05T10:21:05.587Z"
   },
   {
    "duration": 0,
    "start_time": "2023-02-05T10:21:05.589Z"
   },
   {
    "duration": 12,
    "start_time": "2023-02-05T10:21:38.560Z"
   },
   {
    "duration": 12,
    "start_time": "2023-02-05T10:22:21.327Z"
   },
   {
    "duration": 6,
    "start_time": "2023-02-05T10:22:43.145Z"
   },
   {
    "duration": 175,
    "start_time": "2023-02-05T10:23:15.064Z"
   },
   {
    "duration": 13,
    "start_time": "2023-02-05T10:23:33.229Z"
   },
   {
    "duration": 4,
    "start_time": "2023-02-05T10:23:53.869Z"
   },
   {
    "duration": 853,
    "start_time": "2023-02-05T10:24:12.367Z"
   },
   {
    "duration": 69,
    "start_time": "2023-02-05T10:24:28.938Z"
   },
   {
    "duration": 861,
    "start_time": "2023-02-05T10:24:34.240Z"
   },
   {
    "duration": 6,
    "start_time": "2023-02-05T10:24:44.552Z"
   },
   {
    "duration": 5,
    "start_time": "2023-02-05T10:24:49.887Z"
   },
   {
    "duration": 442,
    "start_time": "2023-02-05T10:25:00.758Z"
   },
   {
    "duration": 23,
    "start_time": "2023-02-05T10:25:01.202Z"
   },
   {
    "duration": 27,
    "start_time": "2023-02-05T10:25:01.226Z"
   },
   {
    "duration": 43,
    "start_time": "2023-02-05T10:25:01.256Z"
   },
   {
    "duration": 59,
    "start_time": "2023-02-05T10:25:01.301Z"
   },
   {
    "duration": 3,
    "start_time": "2023-02-05T10:25:01.362Z"
   },
   {
    "duration": 42,
    "start_time": "2023-02-05T10:25:01.367Z"
   },
   {
    "duration": 27,
    "start_time": "2023-02-05T10:25:01.411Z"
   },
   {
    "duration": 43,
    "start_time": "2023-02-05T10:25:01.440Z"
   },
   {
    "duration": 18,
    "start_time": "2023-02-05T10:25:01.486Z"
   },
   {
    "duration": 83,
    "start_time": "2023-02-05T10:25:01.505Z"
   },
   {
    "duration": 11,
    "start_time": "2023-02-05T10:25:01.590Z"
   },
   {
    "duration": 12,
    "start_time": "2023-02-05T10:25:01.602Z"
   },
   {
    "duration": 24,
    "start_time": "2023-02-05T10:25:01.616Z"
   },
   {
    "duration": 23,
    "start_time": "2023-02-05T10:25:01.642Z"
   },
   {
    "duration": 25,
    "start_time": "2023-02-05T10:25:01.667Z"
   },
   {
    "duration": 10,
    "start_time": "2023-02-05T10:25:01.694Z"
   },
   {
    "duration": 13,
    "start_time": "2023-02-05T10:25:01.706Z"
   },
   {
    "duration": 24,
    "start_time": "2023-02-05T10:25:01.720Z"
   },
   {
    "duration": 10,
    "start_time": "2023-02-05T10:25:01.746Z"
   },
   {
    "duration": 25,
    "start_time": "2023-02-05T10:25:01.757Z"
   },
   {
    "duration": 23,
    "start_time": "2023-02-05T10:25:01.784Z"
   },
   {
    "duration": 34,
    "start_time": "2023-02-05T10:25:01.809Z"
   },
   {
    "duration": 964,
    "start_time": "2023-02-05T10:25:01.845Z"
   },
   {
    "duration": 24,
    "start_time": "2023-02-05T10:25:02.812Z"
   },
   {
    "duration": 3,
    "start_time": "2023-02-05T10:25:02.838Z"
   },
   {
    "duration": 11,
    "start_time": "2023-02-05T10:25:02.843Z"
   },
   {
    "duration": 10,
    "start_time": "2023-02-05T10:25:21.126Z"
   },
   {
    "duration": 223,
    "start_time": "2023-02-05T10:29:11.806Z"
   },
   {
    "duration": 168,
    "start_time": "2023-02-05T10:29:19.403Z"
   },
   {
    "duration": 94,
    "start_time": "2023-02-05T10:30:17.085Z"
   },
   {
    "duration": 184,
    "start_time": "2023-02-05T10:30:20.421Z"
   },
   {
    "duration": 101,
    "start_time": "2023-02-05T11:15:20.306Z"
   },
   {
    "duration": 11,
    "start_time": "2023-02-05T11:17:21.538Z"
   },
   {
    "duration": 77,
    "start_time": "2023-02-05T11:22:58.176Z"
   },
   {
    "duration": 70,
    "start_time": "2023-02-05T11:23:07.644Z"
   },
   {
    "duration": 94,
    "start_time": "2023-02-05T11:24:28.746Z"
   },
   {
    "duration": 159,
    "start_time": "2023-02-05T11:24:39.024Z"
   },
   {
    "duration": 172,
    "start_time": "2023-02-05T11:28:05.222Z"
   },
   {
    "duration": 189,
    "start_time": "2023-02-05T11:28:35.151Z"
   },
   {
    "duration": 174,
    "start_time": "2023-02-05T11:28:40.837Z"
   },
   {
    "duration": 195,
    "start_time": "2023-02-05T11:28:44.822Z"
   },
   {
    "duration": 248,
    "start_time": "2023-02-05T11:29:55.419Z"
   },
   {
    "duration": 166,
    "start_time": "2023-02-05T11:30:01.162Z"
   },
   {
    "duration": 170,
    "start_time": "2023-02-05T11:30:09.612Z"
   },
   {
    "duration": 215,
    "start_time": "2023-02-05T11:30:43.349Z"
   },
   {
    "duration": 164,
    "start_time": "2023-02-05T11:30:57.843Z"
   },
   {
    "duration": 177,
    "start_time": "2023-02-05T11:31:01.600Z"
   },
   {
    "duration": 234,
    "start_time": "2023-02-05T11:31:59.728Z"
   },
   {
    "duration": 78,
    "start_time": "2023-02-05T11:32:05.372Z"
   },
   {
    "duration": 154,
    "start_time": "2023-02-05T11:32:11.128Z"
   },
   {
    "duration": 13,
    "start_time": "2023-02-05T11:34:40.377Z"
   },
   {
    "duration": 148,
    "start_time": "2023-02-05T11:34:59.957Z"
   },
   {
    "duration": 72,
    "start_time": "2023-02-05T11:37:03.275Z"
   },
   {
    "duration": 16,
    "start_time": "2023-02-05T11:37:08.302Z"
   },
   {
    "duration": 15,
    "start_time": "2023-02-05T11:37:35.101Z"
   },
   {
    "duration": 162,
    "start_time": "2023-02-05T11:38:03.611Z"
   },
   {
    "duration": 284,
    "start_time": "2023-02-05T11:43:04.242Z"
   },
   {
    "duration": 175,
    "start_time": "2023-02-05T11:43:14.029Z"
   },
   {
    "duration": 277,
    "start_time": "2023-02-05T11:43:34.037Z"
   },
   {
    "duration": 211,
    "start_time": "2023-02-05T11:44:06.276Z"
   },
   {
    "duration": 207,
    "start_time": "2023-02-05T11:44:16.500Z"
   },
   {
    "duration": 183,
    "start_time": "2023-02-05T11:44:30.279Z"
   },
   {
    "duration": 184,
    "start_time": "2023-02-05T11:44:38.412Z"
   },
   {
    "duration": 166,
    "start_time": "2023-02-05T11:44:43.089Z"
   },
   {
    "duration": 153,
    "start_time": "2023-02-05T11:44:51.142Z"
   },
   {
    "duration": 171,
    "start_time": "2023-02-05T11:44:59.546Z"
   },
   {
    "duration": 162,
    "start_time": "2023-02-05T11:45:14.083Z"
   },
   {
    "duration": 272,
    "start_time": "2023-02-05T11:45:37.077Z"
   },
   {
    "duration": 188,
    "start_time": "2023-02-05T11:45:44.968Z"
   },
   {
    "duration": 165,
    "start_time": "2023-02-05T11:45:54.726Z"
   },
   {
    "duration": 167,
    "start_time": "2023-02-05T11:46:07.209Z"
   },
   {
    "duration": 160,
    "start_time": "2023-02-05T11:46:16.096Z"
   },
   {
    "duration": 151,
    "start_time": "2023-02-05T11:46:19.470Z"
   },
   {
    "duration": 142,
    "start_time": "2023-02-05T11:46:22.666Z"
   },
   {
    "duration": 132,
    "start_time": "2023-02-05T11:46:33.522Z"
   },
   {
    "duration": 134,
    "start_time": "2023-02-05T11:46:36.717Z"
   },
   {
    "duration": 149,
    "start_time": "2023-02-05T11:46:43.118Z"
   },
   {
    "duration": 147,
    "start_time": "2023-02-05T11:46:53.627Z"
   },
   {
    "duration": 257,
    "start_time": "2023-02-05T11:47:42.496Z"
   },
   {
    "duration": 200,
    "start_time": "2023-02-05T11:49:02.017Z"
   },
   {
    "duration": 182,
    "start_time": "2023-02-05T11:49:10.098Z"
   },
   {
    "duration": 196,
    "start_time": "2023-02-05T11:49:15.264Z"
   },
   {
    "duration": 165,
    "start_time": "2023-02-05T11:49:32.867Z"
   },
   {
    "duration": 10,
    "start_time": "2023-02-05T11:56:38.474Z"
   },
   {
    "duration": 149,
    "start_time": "2023-02-05T11:59:30.190Z"
   },
   {
    "duration": 160,
    "start_time": "2023-02-05T12:05:18.405Z"
   },
   {
    "duration": 476,
    "start_time": "2023-02-05T14:09:36.389Z"
   },
   {
    "duration": 23,
    "start_time": "2023-02-05T14:09:36.867Z"
   },
   {
    "duration": 25,
    "start_time": "2023-02-05T14:09:36.894Z"
   },
   {
    "duration": 19,
    "start_time": "2023-02-05T14:09:36.921Z"
   },
   {
    "duration": 46,
    "start_time": "2023-02-05T14:09:36.942Z"
   },
   {
    "duration": 4,
    "start_time": "2023-02-05T14:09:36.990Z"
   },
   {
    "duration": 17,
    "start_time": "2023-02-05T14:09:37.007Z"
   },
   {
    "duration": 7,
    "start_time": "2023-02-05T14:09:37.026Z"
   },
   {
    "duration": 7,
    "start_time": "2023-02-05T14:09:37.038Z"
   },
   {
    "duration": 10,
    "start_time": "2023-02-05T14:09:37.047Z"
   },
   {
    "duration": 41,
    "start_time": "2023-02-05T14:09:37.058Z"
   },
   {
    "duration": 10,
    "start_time": "2023-02-05T14:09:37.105Z"
   },
   {
    "duration": 19,
    "start_time": "2023-02-05T14:09:37.118Z"
   },
   {
    "duration": 16,
    "start_time": "2023-02-05T14:09:37.138Z"
   },
   {
    "duration": 33,
    "start_time": "2023-02-05T14:09:37.156Z"
   },
   {
    "duration": 23,
    "start_time": "2023-02-05T14:09:37.191Z"
   },
   {
    "duration": 5,
    "start_time": "2023-02-05T14:09:37.220Z"
   },
   {
    "duration": 35,
    "start_time": "2023-02-05T14:09:37.227Z"
   },
   {
    "duration": 6,
    "start_time": "2023-02-05T14:09:37.264Z"
   },
   {
    "duration": 63,
    "start_time": "2023-02-05T14:09:37.272Z"
   },
   {
    "duration": 12,
    "start_time": "2023-02-05T14:09:37.337Z"
   },
   {
    "duration": 23,
    "start_time": "2023-02-05T14:09:37.351Z"
   },
   {
    "duration": 14,
    "start_time": "2023-02-05T14:09:37.376Z"
   },
   {
    "duration": 947,
    "start_time": "2023-02-05T14:09:37.392Z"
   },
   {
    "duration": 11,
    "start_time": "2023-02-05T14:09:38.341Z"
   },
   {
    "duration": 202,
    "start_time": "2023-02-05T14:09:38.354Z"
   },
   {
    "duration": 8,
    "start_time": "2023-02-05T14:09:38.559Z"
   },
   {
    "duration": 81,
    "start_time": "2023-02-05T14:09:38.569Z"
   },
   {
    "duration": 0,
    "start_time": "2023-02-05T14:09:38.652Z"
   },
   {
    "duration": 0,
    "start_time": "2023-02-05T14:09:38.653Z"
   },
   {
    "duration": 0,
    "start_time": "2023-02-05T14:09:38.654Z"
   },
   {
    "duration": 0,
    "start_time": "2023-02-05T14:09:38.655Z"
   },
   {
    "duration": 212,
    "start_time": "2023-02-05T14:22:06.463Z"
   },
   {
    "duration": 500,
    "start_time": "2023-02-05T14:32:10.069Z"
   },
   {
    "duration": 24,
    "start_time": "2023-02-05T14:32:10.571Z"
   },
   {
    "duration": 20,
    "start_time": "2023-02-05T14:32:10.596Z"
   },
   {
    "duration": 14,
    "start_time": "2023-02-05T14:32:10.618Z"
   },
   {
    "duration": 33,
    "start_time": "2023-02-05T14:32:10.635Z"
   },
   {
    "duration": 4,
    "start_time": "2023-02-05T14:32:10.669Z"
   },
   {
    "duration": 32,
    "start_time": "2023-02-05T14:32:10.675Z"
   },
   {
    "duration": 21,
    "start_time": "2023-02-05T14:32:10.708Z"
   },
   {
    "duration": 20,
    "start_time": "2023-02-05T14:32:10.731Z"
   },
   {
    "duration": 4,
    "start_time": "2023-02-05T14:32:10.753Z"
   },
   {
    "duration": 36,
    "start_time": "2023-02-05T14:32:10.759Z"
   },
   {
    "duration": 11,
    "start_time": "2023-02-05T14:32:10.797Z"
   },
   {
    "duration": 13,
    "start_time": "2023-02-05T14:32:10.812Z"
   },
   {
    "duration": 12,
    "start_time": "2023-02-05T14:32:10.829Z"
   },
   {
    "duration": 20,
    "start_time": "2023-02-05T14:32:10.842Z"
   },
   {
    "duration": 17,
    "start_time": "2023-02-05T14:32:10.863Z"
   },
   {
    "duration": 7,
    "start_time": "2023-02-05T14:32:10.900Z"
   },
   {
    "duration": 25,
    "start_time": "2023-02-05T14:32:10.908Z"
   },
   {
    "duration": 12,
    "start_time": "2023-02-05T14:32:10.935Z"
   },
   {
    "duration": 5,
    "start_time": "2023-02-05T14:32:10.949Z"
   },
   {
    "duration": 12,
    "start_time": "2023-02-05T14:32:10.956Z"
   },
   {
    "duration": 17,
    "start_time": "2023-02-05T14:32:10.970Z"
   },
   {
    "duration": 12,
    "start_time": "2023-02-05T14:32:10.989Z"
   },
   {
    "duration": 986,
    "start_time": "2023-02-05T14:32:11.002Z"
   },
   {
    "duration": 22,
    "start_time": "2023-02-05T14:32:11.990Z"
   },
   {
    "duration": 176,
    "start_time": "2023-02-05T14:32:12.014Z"
   },
   {
    "duration": 13,
    "start_time": "2023-02-05T14:32:12.192Z"
   },
   {
    "duration": 187,
    "start_time": "2023-02-05T14:32:12.206Z"
   },
   {
    "duration": 17,
    "start_time": "2023-02-05T14:32:12.395Z"
   },
   {
    "duration": 146,
    "start_time": "2023-02-05T14:32:12.414Z"
   },
   {
    "duration": 11,
    "start_time": "2023-02-05T14:34:43.286Z"
   },
   {
    "duration": 10,
    "start_time": "2023-02-05T14:36:20.390Z"
   },
   {
    "duration": 8,
    "start_time": "2023-02-05T14:36:30.751Z"
   },
   {
    "duration": 8,
    "start_time": "2023-02-05T14:36:43.760Z"
   },
   {
    "duration": 8,
    "start_time": "2023-02-05T14:36:59.850Z"
   },
   {
    "duration": 458,
    "start_time": "2023-02-05T14:39:31.015Z"
   },
   {
    "duration": 22,
    "start_time": "2023-02-05T14:39:31.475Z"
   },
   {
    "duration": 38,
    "start_time": "2023-02-05T14:39:31.498Z"
   },
   {
    "duration": 13,
    "start_time": "2023-02-05T14:39:31.538Z"
   },
   {
    "duration": 34,
    "start_time": "2023-02-05T14:39:31.554Z"
   },
   {
    "duration": 4,
    "start_time": "2023-02-05T14:39:31.590Z"
   },
   {
    "duration": 43,
    "start_time": "2023-02-05T14:39:31.595Z"
   },
   {
    "duration": 14,
    "start_time": "2023-02-05T14:39:31.639Z"
   },
   {
    "duration": 40,
    "start_time": "2023-02-05T14:39:31.654Z"
   },
   {
    "duration": 22,
    "start_time": "2023-02-05T14:39:31.696Z"
   },
   {
    "duration": 32,
    "start_time": "2023-02-05T14:39:31.720Z"
   },
   {
    "duration": 8,
    "start_time": "2023-02-05T14:39:31.754Z"
   },
   {
    "duration": 11,
    "start_time": "2023-02-05T14:39:31.764Z"
   },
   {
    "duration": 20,
    "start_time": "2023-02-05T14:39:31.777Z"
   },
   {
    "duration": 27,
    "start_time": "2023-02-05T14:39:31.811Z"
   },
   {
    "duration": 16,
    "start_time": "2023-02-05T14:39:31.839Z"
   },
   {
    "duration": 3,
    "start_time": "2023-02-05T14:39:31.857Z"
   },
   {
    "duration": 18,
    "start_time": "2023-02-05T14:39:31.862Z"
   },
   {
    "duration": 54,
    "start_time": "2023-02-05T14:39:31.881Z"
   },
   {
    "duration": 13,
    "start_time": "2023-02-05T14:39:31.937Z"
   },
   {
    "duration": 26,
    "start_time": "2023-02-05T14:39:31.952Z"
   },
   {
    "duration": 59,
    "start_time": "2023-02-05T14:39:31.980Z"
   },
   {
    "duration": 14,
    "start_time": "2023-02-05T14:39:32.041Z"
   },
   {
    "duration": 914,
    "start_time": "2023-02-05T14:39:32.057Z"
   },
   {
    "duration": 8,
    "start_time": "2023-02-05T14:39:32.973Z"
   },
   {
    "duration": 175,
    "start_time": "2023-02-05T14:39:32.982Z"
   },
   {
    "duration": 8,
    "start_time": "2023-02-05T14:39:33.159Z"
   },
   {
    "duration": 186,
    "start_time": "2023-02-05T14:39:33.168Z"
   },
   {
    "duration": 9,
    "start_time": "2023-02-05T14:39:33.356Z"
   },
   {
    "duration": 160,
    "start_time": "2023-02-05T14:39:33.366Z"
   },
   {
    "duration": 559,
    "start_time": "2023-02-06T13:38:36.342Z"
   },
   {
    "duration": 24,
    "start_time": "2023-02-06T13:38:36.903Z"
   },
   {
    "duration": 16,
    "start_time": "2023-02-06T13:38:36.929Z"
   },
   {
    "duration": 10,
    "start_time": "2023-02-06T13:38:36.948Z"
   },
   {
    "duration": 39,
    "start_time": "2023-02-06T13:38:36.960Z"
   },
   {
    "duration": 4,
    "start_time": "2023-02-06T13:38:37.001Z"
   },
   {
    "duration": 40,
    "start_time": "2023-02-06T13:38:37.007Z"
   },
   {
    "duration": 11,
    "start_time": "2023-02-06T13:38:37.049Z"
   },
   {
    "duration": 11,
    "start_time": "2023-02-06T13:38:37.062Z"
   },
   {
    "duration": 4,
    "start_time": "2023-02-06T13:38:37.077Z"
   },
   {
    "duration": 37,
    "start_time": "2023-02-06T13:38:37.083Z"
   },
   {
    "duration": 23,
    "start_time": "2023-02-06T13:38:37.122Z"
   },
   {
    "duration": 5,
    "start_time": "2023-02-06T13:38:37.146Z"
   },
   {
    "duration": 16,
    "start_time": "2023-02-06T13:38:37.152Z"
   },
   {
    "duration": 22,
    "start_time": "2023-02-06T13:38:37.170Z"
   },
   {
    "duration": 17,
    "start_time": "2023-02-06T13:38:37.194Z"
   },
   {
    "duration": 29,
    "start_time": "2023-02-06T13:38:37.213Z"
   },
   {
    "duration": 13,
    "start_time": "2023-02-06T13:38:37.244Z"
   },
   {
    "duration": 6,
    "start_time": "2023-02-06T13:38:37.259Z"
   },
   {
    "duration": 6,
    "start_time": "2023-02-06T13:38:37.266Z"
   },
   {
    "duration": 35,
    "start_time": "2023-02-06T13:38:37.274Z"
   },
   {
    "duration": 35,
    "start_time": "2023-02-06T13:38:37.311Z"
   },
   {
    "duration": 15,
    "start_time": "2023-02-06T13:38:37.347Z"
   },
   {
    "duration": 1020,
    "start_time": "2023-02-06T13:38:37.364Z"
   },
   {
    "duration": 10,
    "start_time": "2023-02-06T13:38:38.385Z"
   },
   {
    "duration": 197,
    "start_time": "2023-02-06T13:38:38.397Z"
   },
   {
    "duration": 9,
    "start_time": "2023-02-06T13:38:38.596Z"
   },
   {
    "duration": 197,
    "start_time": "2023-02-06T13:38:38.608Z"
   },
   {
    "duration": 13,
    "start_time": "2023-02-06T13:38:38.808Z"
   },
   {
    "duration": 230,
    "start_time": "2023-02-06T13:38:38.823Z"
   },
   {
    "duration": 53,
    "start_time": "2023-02-06T15:36:56.657Z"
   },
   {
    "duration": 8,
    "start_time": "2023-02-06T15:37:01.246Z"
   },
   {
    "duration": 737,
    "start_time": "2023-02-06T15:37:21.583Z"
   },
   {
    "duration": 22,
    "start_time": "2023-02-06T15:37:22.322Z"
   },
   {
    "duration": 16,
    "start_time": "2023-02-06T15:37:22.346Z"
   },
   {
    "duration": 11,
    "start_time": "2023-02-06T15:37:22.364Z"
   },
   {
    "duration": 39,
    "start_time": "2023-02-06T15:37:22.377Z"
   },
   {
    "duration": 3,
    "start_time": "2023-02-06T15:37:22.418Z"
   },
   {
    "duration": 20,
    "start_time": "2023-02-06T15:37:22.423Z"
   },
   {
    "duration": 4,
    "start_time": "2023-02-06T15:37:22.445Z"
   },
   {
    "duration": 16,
    "start_time": "2023-02-06T15:37:22.451Z"
   },
   {
    "duration": 4,
    "start_time": "2023-02-06T15:37:22.471Z"
   },
   {
    "duration": 41,
    "start_time": "2023-02-06T15:37:22.476Z"
   },
   {
    "duration": 9,
    "start_time": "2023-02-06T15:37:22.519Z"
   },
   {
    "duration": 6,
    "start_time": "2023-02-06T15:37:22.530Z"
   },
   {
    "duration": 13,
    "start_time": "2023-02-06T15:37:22.537Z"
   },
   {
    "duration": 32,
    "start_time": "2023-02-06T15:37:22.551Z"
   },
   {
    "duration": 18,
    "start_time": "2023-02-06T15:37:22.584Z"
   },
   {
    "duration": 13,
    "start_time": "2023-02-06T15:37:22.603Z"
   },
   {
    "duration": 35,
    "start_time": "2023-02-06T15:37:22.618Z"
   },
   {
    "duration": 7,
    "start_time": "2023-02-06T15:37:22.656Z"
   },
   {
    "duration": 14,
    "start_time": "2023-02-06T15:37:22.665Z"
   },
   {
    "duration": 14,
    "start_time": "2023-02-06T15:37:22.680Z"
   },
   {
    "duration": 20,
    "start_time": "2023-02-06T15:37:22.695Z"
   },
   {
    "duration": 27,
    "start_time": "2023-02-06T15:37:22.717Z"
   },
   {
    "duration": 1123,
    "start_time": "2023-02-06T15:37:22.745Z"
   },
   {
    "duration": 0,
    "start_time": "2023-02-06T15:37:23.870Z"
   },
   {
    "duration": 0,
    "start_time": "2023-02-06T15:37:23.872Z"
   },
   {
    "duration": 0,
    "start_time": "2023-02-06T15:37:23.872Z"
   },
   {
    "duration": 0,
    "start_time": "2023-02-06T15:37:23.873Z"
   },
   {
    "duration": 0,
    "start_time": "2023-02-06T15:37:23.875Z"
   },
   {
    "duration": 0,
    "start_time": "2023-02-06T15:37:23.876Z"
   },
   {
    "duration": 31,
    "start_time": "2023-02-06T15:37:43.633Z"
   },
   {
    "duration": 21,
    "start_time": "2023-02-06T15:41:48.295Z"
   },
   {
    "duration": 13,
    "start_time": "2023-02-06T15:42:15.525Z"
   },
   {
    "duration": 13,
    "start_time": "2023-02-06T15:42:47.109Z"
   },
   {
    "duration": 54,
    "start_time": "2023-02-06T15:44:49.549Z"
   },
   {
    "duration": 26,
    "start_time": "2023-02-06T15:45:20.683Z"
   },
   {
    "duration": 26,
    "start_time": "2023-02-06T15:45:33.676Z"
   },
   {
    "duration": 649,
    "start_time": "2023-02-06T15:47:17.379Z"
   },
   {
    "duration": 22,
    "start_time": "2023-02-06T15:47:35.331Z"
   },
   {
    "duration": 39,
    "start_time": "2023-02-06T15:55:50.511Z"
   },
   {
    "duration": 18,
    "start_time": "2023-02-06T16:01:46.595Z"
   },
   {
    "duration": 649,
    "start_time": "2023-02-06T16:02:21.491Z"
   },
   {
    "duration": 531,
    "start_time": "2023-02-06T16:02:28.371Z"
   },
   {
    "duration": 17,
    "start_time": "2023-02-06T16:02:36.226Z"
   },
   {
    "duration": 19,
    "start_time": "2023-02-06T16:07:39.032Z"
   },
   {
    "duration": 18,
    "start_time": "2023-02-06T16:07:48.551Z"
   },
   {
    "duration": 18,
    "start_time": "2023-02-06T16:09:22.278Z"
   },
   {
    "duration": 20,
    "start_time": "2023-02-06T16:11:04.047Z"
   },
   {
    "duration": 19,
    "start_time": "2023-02-06T16:11:22.351Z"
   },
   {
    "duration": 577,
    "start_time": "2023-02-06T16:11:58.557Z"
   },
   {
    "duration": 111,
    "start_time": "2023-02-06T16:12:13.429Z"
   },
   {
    "duration": 541,
    "start_time": "2023-02-06T16:12:20.901Z"
   },
   {
    "duration": 16,
    "start_time": "2023-02-06T16:12:26.181Z"
   },
   {
    "duration": 49,
    "start_time": "2023-02-06T16:13:23.965Z"
   },
   {
    "duration": 69,
    "start_time": "2023-02-06T16:13:30.573Z"
   },
   {
    "duration": 18,
    "start_time": "2023-02-06T16:13:37.893Z"
   },
   {
    "duration": 16,
    "start_time": "2023-02-06T16:14:16.508Z"
   },
   {
    "duration": 812,
    "start_time": "2023-02-06T16:14:39.228Z"
   },
   {
    "duration": 16,
    "start_time": "2023-02-06T16:14:45.947Z"
   },
   {
    "duration": 25,
    "start_time": "2023-02-06T16:15:09.589Z"
   },
   {
    "duration": 17,
    "start_time": "2023-02-06T16:15:32.220Z"
   },
   {
    "duration": 18,
    "start_time": "2023-02-06T16:15:41.515Z"
   },
   {
    "duration": 21,
    "start_time": "2023-02-06T16:15:48.923Z"
   },
   {
    "duration": 20,
    "start_time": "2023-02-06T16:17:02.802Z"
   },
   {
    "duration": 48,
    "start_time": "2023-02-06T16:17:09.891Z"
   },
   {
    "duration": 20,
    "start_time": "2023-02-06T16:17:12.906Z"
   },
   {
    "duration": 20,
    "start_time": "2023-02-06T16:17:41.002Z"
   },
   {
    "duration": 20,
    "start_time": "2023-02-06T16:19:46.505Z"
   },
   {
    "duration": 20,
    "start_time": "2023-02-06T16:19:56.272Z"
   },
   {
    "duration": 19,
    "start_time": "2023-02-06T16:20:23.779Z"
   },
   {
    "duration": 18,
    "start_time": "2023-02-06T16:20:33.217Z"
   },
   {
    "duration": 24,
    "start_time": "2023-02-06T16:20:37.808Z"
   },
   {
    "duration": 18,
    "start_time": "2023-02-06T16:20:44.681Z"
   },
   {
    "duration": 18,
    "start_time": "2023-02-06T16:21:33.240Z"
   },
   {
    "duration": 13,
    "start_time": "2023-02-06T16:25:08.797Z"
   },
   {
    "duration": 48,
    "start_time": "2023-02-06T16:26:15.068Z"
   },
   {
    "duration": 145,
    "start_time": "2023-02-06T16:28:22.388Z"
   },
   {
    "duration": 1593,
    "start_time": "2023-02-07T10:53:19.325Z"
   },
   {
    "duration": 9,
    "start_time": "2023-02-07T10:53:25.424Z"
   },
   {
    "duration": 811,
    "start_time": "2023-02-07T10:53:31.708Z"
   },
   {
    "duration": 29,
    "start_time": "2023-02-07T10:53:32.521Z"
   },
   {
    "duration": 29,
    "start_time": "2023-02-07T10:53:32.552Z"
   },
   {
    "duration": 15,
    "start_time": "2023-02-07T10:53:32.583Z"
   },
   {
    "duration": 51,
    "start_time": "2023-02-07T10:53:32.600Z"
   },
   {
    "duration": 4,
    "start_time": "2023-02-07T10:53:32.654Z"
   },
   {
    "duration": 21,
    "start_time": "2023-02-07T10:53:32.660Z"
   },
   {
    "duration": 9,
    "start_time": "2023-02-07T10:53:32.683Z"
   },
   {
    "duration": 17,
    "start_time": "2023-02-07T10:53:32.694Z"
   },
   {
    "duration": 9,
    "start_time": "2023-02-07T10:53:32.716Z"
   },
   {
    "duration": 51,
    "start_time": "2023-02-07T10:53:32.726Z"
   },
   {
    "duration": 9,
    "start_time": "2023-02-07T10:53:32.779Z"
   },
   {
    "duration": 31,
    "start_time": "2023-02-07T10:53:32.790Z"
   },
   {
    "duration": 20,
    "start_time": "2023-02-07T10:53:32.823Z"
   },
   {
    "duration": 66,
    "start_time": "2023-02-07T10:53:32.845Z"
   },
   {
    "duration": 19,
    "start_time": "2023-02-07T10:53:32.914Z"
   },
   {
    "duration": 10,
    "start_time": "2023-02-07T10:53:32.935Z"
   },
   {
    "duration": 28,
    "start_time": "2023-02-07T10:53:32.947Z"
   },
   {
    "duration": 25,
    "start_time": "2023-02-07T10:53:32.976Z"
   },
   {
    "duration": 20,
    "start_time": "2023-02-07T10:53:33.003Z"
   },
   {
    "duration": 37,
    "start_time": "2023-02-07T10:53:33.025Z"
   },
   {
    "duration": 39,
    "start_time": "2023-02-07T10:53:33.064Z"
   },
   {
    "duration": 28,
    "start_time": "2023-02-07T10:53:33.105Z"
   },
   {
    "duration": 1034,
    "start_time": "2023-02-07T10:53:33.135Z"
   },
   {
    "duration": 121,
    "start_time": "2023-02-07T10:53:34.171Z"
   },
   {
    "duration": 0,
    "start_time": "2023-02-07T10:53:34.294Z"
   },
   {
    "duration": 0,
    "start_time": "2023-02-07T10:53:34.295Z"
   },
   {
    "duration": 0,
    "start_time": "2023-02-07T10:53:34.296Z"
   },
   {
    "duration": 0,
    "start_time": "2023-02-07T10:53:34.297Z"
   },
   {
    "duration": 0,
    "start_time": "2023-02-07T10:53:34.298Z"
   },
   {
    "duration": 178,
    "start_time": "2023-02-07T10:55:05.313Z"
   },
   {
    "duration": 196,
    "start_time": "2023-02-07T10:55:21.834Z"
   },
   {
    "duration": 53,
    "start_time": "2023-02-07T17:23:07.813Z"
   },
   {
    "duration": 53,
    "start_time": "2023-02-07T17:23:19.444Z"
   },
   {
    "duration": 40,
    "start_time": "2023-02-07T17:23:26.522Z"
   },
   {
    "duration": 55,
    "start_time": "2023-02-07T17:23:34.548Z"
   },
   {
    "duration": 752,
    "start_time": "2023-02-07T17:23:53.339Z"
   },
   {
    "duration": 20,
    "start_time": "2023-02-07T17:23:54.093Z"
   },
   {
    "duration": 18,
    "start_time": "2023-02-07T17:23:54.115Z"
   },
   {
    "duration": 9,
    "start_time": "2023-02-07T17:23:54.136Z"
   },
   {
    "duration": 40,
    "start_time": "2023-02-07T17:23:54.146Z"
   },
   {
    "duration": 3,
    "start_time": "2023-02-07T17:23:54.187Z"
   },
   {
    "duration": 10,
    "start_time": "2023-02-07T17:23:54.192Z"
   },
   {
    "duration": 12,
    "start_time": "2023-02-07T17:23:54.203Z"
   },
   {
    "duration": 7,
    "start_time": "2023-02-07T17:23:54.216Z"
   },
   {
    "duration": 4,
    "start_time": "2023-02-07T17:23:54.227Z"
   },
   {
    "duration": 51,
    "start_time": "2023-02-07T17:23:54.233Z"
   },
   {
    "duration": 10,
    "start_time": "2023-02-07T17:23:54.285Z"
   },
   {
    "duration": 3,
    "start_time": "2023-02-07T17:23:54.296Z"
   },
   {
    "duration": 12,
    "start_time": "2023-02-07T17:23:54.301Z"
   },
   {
    "duration": 17,
    "start_time": "2023-02-07T17:23:54.315Z"
   },
   {
    "duration": 34,
    "start_time": "2023-02-07T17:23:54.333Z"
   },
   {
    "duration": 3,
    "start_time": "2023-02-07T17:23:54.368Z"
   },
   {
    "duration": 10,
    "start_time": "2023-02-07T17:23:54.373Z"
   },
   {
    "duration": 5,
    "start_time": "2023-02-07T17:23:54.384Z"
   },
   {
    "duration": 8,
    "start_time": "2023-02-07T17:23:54.390Z"
   },
   {
    "duration": 9,
    "start_time": "2023-02-07T17:23:54.399Z"
   },
   {
    "duration": 17,
    "start_time": "2023-02-07T17:23:54.409Z"
   },
   {
    "duration": 85,
    "start_time": "2023-02-07T17:23:54.428Z"
   },
   {
    "duration": 0,
    "start_time": "2023-02-07T17:23:54.515Z"
   },
   {
    "duration": 0,
    "start_time": "2023-02-07T17:23:54.516Z"
   },
   {
    "duration": 0,
    "start_time": "2023-02-07T17:23:54.517Z"
   },
   {
    "duration": 0,
    "start_time": "2023-02-07T17:23:54.519Z"
   },
   {
    "duration": 0,
    "start_time": "2023-02-07T17:23:54.519Z"
   },
   {
    "duration": 0,
    "start_time": "2023-02-07T17:23:54.520Z"
   },
   {
    "duration": 0,
    "start_time": "2023-02-07T17:23:54.521Z"
   },
   {
    "duration": 10,
    "start_time": "2023-02-07T17:24:15.367Z"
   },
   {
    "duration": 9,
    "start_time": "2023-02-07T17:24:45.820Z"
   },
   {
    "duration": 10,
    "start_time": "2023-02-07T17:25:33.205Z"
   },
   {
    "duration": 47,
    "start_time": "2023-02-07T17:25:41.506Z"
   },
   {
    "duration": 10,
    "start_time": "2023-02-07T17:25:49.560Z"
   },
   {
    "duration": 13,
    "start_time": "2023-02-07T17:26:03.230Z"
   },
   {
    "duration": 12,
    "start_time": "2023-02-07T17:26:13.068Z"
   },
   {
    "duration": 44,
    "start_time": "2023-02-07T17:26:25.881Z"
   },
   {
    "duration": 7,
    "start_time": "2023-02-07T17:26:35.704Z"
   },
   {
    "duration": 23,
    "start_time": "2023-02-07T17:27:06.212Z"
   },
   {
    "duration": 47,
    "start_time": "2023-02-07T17:27:37.674Z"
   },
   {
    "duration": 45,
    "start_time": "2023-02-07T17:27:48.371Z"
   },
   {
    "duration": 10,
    "start_time": "2023-02-07T17:28:52.086Z"
   },
   {
    "duration": 8,
    "start_time": "2023-02-07T17:29:12.904Z"
   },
   {
    "duration": 16,
    "start_time": "2023-02-07T17:33:43.838Z"
   },
   {
    "duration": 35,
    "start_time": "2023-02-07T17:34:58.218Z"
   },
   {
    "duration": 27,
    "start_time": "2023-02-07T17:35:16.024Z"
   },
   {
    "duration": 26,
    "start_time": "2023-02-07T17:37:40.673Z"
   },
   {
    "duration": 28,
    "start_time": "2023-02-07T17:37:48.105Z"
   },
   {
    "duration": 29,
    "start_time": "2023-02-07T17:37:59.755Z"
   },
   {
    "duration": 32,
    "start_time": "2023-02-07T17:38:22.177Z"
   },
   {
    "duration": 27,
    "start_time": "2023-02-07T17:39:32.896Z"
   },
   {
    "duration": 35,
    "start_time": "2023-02-07T17:39:35.202Z"
   },
   {
    "duration": 28,
    "start_time": "2023-02-07T17:39:40.849Z"
   },
   {
    "duration": 27,
    "start_time": "2023-02-07T17:39:45.284Z"
   },
   {
    "duration": 25,
    "start_time": "2023-02-07T17:39:47.579Z"
   },
   {
    "duration": 14,
    "start_time": "2023-02-07T17:40:02.593Z"
   },
   {
    "duration": 8711,
    "start_time": "2023-02-07T17:40:54.247Z"
   },
   {
    "duration": 10,
    "start_time": "2023-02-07T17:41:07.656Z"
   },
   {
    "duration": 30,
    "start_time": "2023-02-07T17:41:14.439Z"
   },
   {
    "duration": 28,
    "start_time": "2023-02-07T17:41:36.660Z"
   },
   {
    "duration": 20,
    "start_time": "2023-02-07T17:44:12.175Z"
   },
   {
    "duration": 23,
    "start_time": "2023-02-07T17:44:25.728Z"
   },
   {
    "duration": 26,
    "start_time": "2023-02-07T17:44:46.200Z"
   },
   {
    "duration": 434,
    "start_time": "2023-02-07T17:44:56.716Z"
   },
   {
    "duration": 22,
    "start_time": "2023-02-07T17:44:57.151Z"
   },
   {
    "duration": 16,
    "start_time": "2023-02-07T17:44:57.174Z"
   },
   {
    "duration": 10,
    "start_time": "2023-02-07T17:44:57.192Z"
   },
   {
    "duration": 32,
    "start_time": "2023-02-07T17:44:57.203Z"
   },
   {
    "duration": 3,
    "start_time": "2023-02-07T17:44:57.236Z"
   },
   {
    "duration": 32,
    "start_time": "2023-02-07T17:44:57.240Z"
   },
   {
    "duration": 15,
    "start_time": "2023-02-07T17:44:57.274Z"
   },
   {
    "duration": 15,
    "start_time": "2023-02-07T17:44:57.290Z"
   },
   {
    "duration": 4,
    "start_time": "2023-02-07T17:44:57.309Z"
   },
   {
    "duration": 57,
    "start_time": "2023-02-07T17:44:57.314Z"
   },
   {
    "duration": 9,
    "start_time": "2023-02-07T17:44:57.373Z"
   },
   {
    "duration": 3,
    "start_time": "2023-02-07T17:44:57.384Z"
   },
   {
    "duration": 16,
    "start_time": "2023-02-07T17:44:57.388Z"
   },
   {
    "duration": 24,
    "start_time": "2023-02-07T17:44:57.406Z"
   },
   {
    "duration": 14,
    "start_time": "2023-02-07T17:44:57.431Z"
   },
   {
    "duration": 20,
    "start_time": "2023-02-07T17:44:57.447Z"
   },
   {
    "duration": 21,
    "start_time": "2023-02-07T17:44:57.469Z"
   },
   {
    "duration": 11,
    "start_time": "2023-02-07T17:44:57.491Z"
   },
   {
    "duration": 12,
    "start_time": "2023-02-07T17:44:57.504Z"
   },
   {
    "duration": 15,
    "start_time": "2023-02-07T17:44:57.518Z"
   },
   {
    "duration": 19,
    "start_time": "2023-02-07T17:44:57.535Z"
   },
   {
    "duration": 30,
    "start_time": "2023-02-07T17:44:57.556Z"
   },
   {
    "duration": 20,
    "start_time": "2023-02-07T17:44:57.587Z"
   },
   {
    "duration": 482,
    "start_time": "2023-02-07T17:44:57.608Z"
   },
   {
    "duration": 97,
    "start_time": "2023-02-07T17:44:58.092Z"
   },
   {
    "duration": 0,
    "start_time": "2023-02-07T17:44:58.191Z"
   },
   {
    "duration": 0,
    "start_time": "2023-02-07T17:44:58.193Z"
   },
   {
    "duration": 0,
    "start_time": "2023-02-07T17:44:58.194Z"
   },
   {
    "duration": 0,
    "start_time": "2023-02-07T17:44:58.195Z"
   },
   {
    "duration": 0,
    "start_time": "2023-02-07T17:44:58.196Z"
   },
   {
    "duration": 28,
    "start_time": "2023-02-07T17:45:14.145Z"
   },
   {
    "duration": 40,
    "start_time": "2023-02-07T17:45:24.881Z"
   },
   {
    "duration": 514,
    "start_time": "2023-02-07T17:45:31.145Z"
   },
   {
    "duration": 24,
    "start_time": "2023-02-07T17:45:31.661Z"
   },
   {
    "duration": 22,
    "start_time": "2023-02-07T17:45:31.687Z"
   },
   {
    "duration": 29,
    "start_time": "2023-02-07T17:45:31.711Z"
   },
   {
    "duration": 54,
    "start_time": "2023-02-07T17:45:31.741Z"
   },
   {
    "duration": 4,
    "start_time": "2023-02-07T17:45:31.796Z"
   },
   {
    "duration": 23,
    "start_time": "2023-02-07T17:45:31.801Z"
   },
   {
    "duration": 12,
    "start_time": "2023-02-07T17:45:31.825Z"
   },
   {
    "duration": 23,
    "start_time": "2023-02-07T17:45:31.838Z"
   },
   {
    "duration": 11,
    "start_time": "2023-02-07T17:45:31.863Z"
   },
   {
    "duration": 54,
    "start_time": "2023-02-07T17:45:31.876Z"
   },
   {
    "duration": 10,
    "start_time": "2023-02-07T17:45:31.931Z"
   },
   {
    "duration": 7,
    "start_time": "2023-02-07T17:45:31.942Z"
   },
   {
    "duration": 34,
    "start_time": "2023-02-07T17:45:31.951Z"
   },
   {
    "duration": 24,
    "start_time": "2023-02-07T17:45:31.987Z"
   },
   {
    "duration": 18,
    "start_time": "2023-02-07T17:45:32.012Z"
   },
   {
    "duration": 8,
    "start_time": "2023-02-07T17:45:32.032Z"
   },
   {
    "duration": 20,
    "start_time": "2023-02-07T17:45:32.041Z"
   },
   {
    "duration": 8,
    "start_time": "2023-02-07T17:45:32.063Z"
   },
   {
    "duration": 4,
    "start_time": "2023-02-07T17:45:32.073Z"
   },
   {
    "duration": 16,
    "start_time": "2023-02-07T17:45:32.078Z"
   },
   {
    "duration": 15,
    "start_time": "2023-02-07T17:45:32.096Z"
   },
   {
    "duration": 54,
    "start_time": "2023-02-07T17:45:32.113Z"
   },
   {
    "duration": 822,
    "start_time": "2023-02-07T17:45:32.169Z"
   },
   {
    "duration": 0,
    "start_time": "2023-02-07T17:45:32.993Z"
   },
   {
    "duration": 0,
    "start_time": "2023-02-07T17:45:32.995Z"
   },
   {
    "duration": 0,
    "start_time": "2023-02-07T17:45:32.996Z"
   },
   {
    "duration": 0,
    "start_time": "2023-02-07T17:45:32.997Z"
   },
   {
    "duration": 0,
    "start_time": "2023-02-07T17:45:32.998Z"
   },
   {
    "duration": 0,
    "start_time": "2023-02-07T17:45:32.999Z"
   },
   {
    "duration": 0,
    "start_time": "2023-02-07T17:45:33.000Z"
   },
   {
    "duration": 60,
    "start_time": "2023-02-07T17:47:34.616Z"
   },
   {
    "duration": 45,
    "start_time": "2023-02-07T17:47:45.065Z"
   },
   {
    "duration": 23,
    "start_time": "2023-02-07T17:48:04.181Z"
   },
   {
    "duration": 487,
    "start_time": "2023-02-07T17:48:11.463Z"
   },
   {
    "duration": 28,
    "start_time": "2023-02-07T17:48:11.951Z"
   },
   {
    "duration": 14,
    "start_time": "2023-02-07T17:48:11.981Z"
   },
   {
    "duration": 8,
    "start_time": "2023-02-07T17:48:11.997Z"
   },
   {
    "duration": 32,
    "start_time": "2023-02-07T17:48:12.007Z"
   },
   {
    "duration": 3,
    "start_time": "2023-02-07T17:48:12.040Z"
   },
   {
    "duration": 32,
    "start_time": "2023-02-07T17:48:12.044Z"
   },
   {
    "duration": 6,
    "start_time": "2023-02-07T17:48:12.078Z"
   },
   {
    "duration": 7,
    "start_time": "2023-02-07T17:48:12.085Z"
   },
   {
    "duration": 4,
    "start_time": "2023-02-07T17:48:12.095Z"
   },
   {
    "duration": 79,
    "start_time": "2023-02-07T17:48:12.100Z"
   },
   {
    "duration": 15,
    "start_time": "2023-02-07T17:48:12.184Z"
   },
   {
    "duration": 15,
    "start_time": "2023-02-07T17:48:12.201Z"
   },
   {
    "duration": 15,
    "start_time": "2023-02-07T17:48:12.218Z"
   },
   {
    "duration": 26,
    "start_time": "2023-02-07T17:48:12.235Z"
   },
   {
    "duration": 35,
    "start_time": "2023-02-07T17:48:12.263Z"
   },
   {
    "duration": 4,
    "start_time": "2023-02-07T17:48:12.300Z"
   },
   {
    "duration": 17,
    "start_time": "2023-02-07T17:48:12.305Z"
   },
   {
    "duration": 8,
    "start_time": "2023-02-07T17:48:12.324Z"
   },
   {
    "duration": 4,
    "start_time": "2023-02-07T17:48:12.333Z"
   },
   {
    "duration": 13,
    "start_time": "2023-02-07T17:48:12.339Z"
   },
   {
    "duration": 32,
    "start_time": "2023-02-07T17:48:12.354Z"
   },
   {
    "duration": 24,
    "start_time": "2023-02-07T17:48:12.388Z"
   },
   {
    "duration": 835,
    "start_time": "2023-02-07T17:48:12.413Z"
   },
   {
    "duration": 0,
    "start_time": "2023-02-07T17:48:13.250Z"
   },
   {
    "duration": 0,
    "start_time": "2023-02-07T17:48:13.252Z"
   },
   {
    "duration": 0,
    "start_time": "2023-02-07T17:48:13.253Z"
   },
   {
    "duration": 0,
    "start_time": "2023-02-07T17:48:13.255Z"
   },
   {
    "duration": 0,
    "start_time": "2023-02-07T17:48:13.256Z"
   },
   {
    "duration": 0,
    "start_time": "2023-02-07T17:48:13.257Z"
   },
   {
    "duration": 0,
    "start_time": "2023-02-07T17:48:13.257Z"
   },
   {
    "duration": 25,
    "start_time": "2023-02-07T17:48:42.900Z"
   },
   {
    "duration": 7,
    "start_time": "2023-02-07T17:48:58.898Z"
   },
   {
    "duration": 1130,
    "start_time": "2023-02-07T17:49:05.383Z"
   },
   {
    "duration": 24,
    "start_time": "2023-02-07T17:49:36.511Z"
   },
   {
    "duration": 7,
    "start_time": "2023-02-07T17:54:51.138Z"
   },
   {
    "duration": 18,
    "start_time": "2023-02-07T17:55:26.653Z"
   },
   {
    "duration": 330,
    "start_time": "2023-02-07T17:55:49.811Z"
   },
   {
    "duration": 23,
    "start_time": "2023-02-07T18:00:27.435Z"
   },
   {
    "duration": 130,
    "start_time": "2023-02-07T18:01:45.820Z"
   },
   {
    "duration": 144,
    "start_time": "2023-02-07T18:02:39.185Z"
   },
   {
    "duration": 121,
    "start_time": "2023-02-07T18:03:10.272Z"
   },
   {
    "duration": 71,
    "start_time": "2023-02-07T18:03:30.356Z"
   },
   {
    "duration": 22,
    "start_time": "2023-02-07T18:06:23.657Z"
   },
   {
    "duration": 28,
    "start_time": "2023-02-07T18:06:49.162Z"
   },
   {
    "duration": 51,
    "start_time": "2023-02-07T18:09:06.779Z"
   },
   {
    "duration": 9,
    "start_time": "2023-02-07T18:09:15.293Z"
   },
   {
    "duration": 136,
    "start_time": "2023-02-07T18:09:28.183Z"
   },
   {
    "duration": 46,
    "start_time": "2023-02-07T18:09:42.833Z"
   },
   {
    "duration": 78,
    "start_time": "2023-02-07T18:09:45.815Z"
   },
   {
    "duration": 39,
    "start_time": "2023-02-07T18:09:53.128Z"
   },
   {
    "duration": 70,
    "start_time": "2023-02-07T18:10:01.242Z"
   },
   {
    "duration": 184,
    "start_time": "2023-02-07T18:10:06.952Z"
   },
   {
    "duration": 143,
    "start_time": "2023-02-07T18:10:23.499Z"
   },
   {
    "duration": 11,
    "start_time": "2023-02-07T18:11:15.553Z"
   },
   {
    "duration": 126,
    "start_time": "2023-02-07T18:12:06.580Z"
   },
   {
    "duration": 74,
    "start_time": "2023-02-07T18:12:18.863Z"
   },
   {
    "duration": 133,
    "start_time": "2023-02-07T18:12:20.424Z"
   },
   {
    "duration": 145,
    "start_time": "2023-02-07T18:13:19.861Z"
   },
   {
    "duration": 796,
    "start_time": "2023-02-07T18:16:49.320Z"
   },
   {
    "duration": 796,
    "start_time": "2023-02-07T18:17:02.515Z"
   },
   {
    "duration": 878,
    "start_time": "2023-02-07T18:17:11.353Z"
   },
   {
    "duration": 165,
    "start_time": "2023-02-07T18:17:31.117Z"
   },
   {
    "duration": 27,
    "start_time": "2023-02-07T18:20:48.632Z"
   },
   {
    "duration": 184,
    "start_time": "2023-02-07T18:21:44.945Z"
   },
   {
    "duration": 129,
    "start_time": "2023-02-07T18:22:04.695Z"
   },
   {
    "duration": 49,
    "start_time": "2023-02-08T05:39:29.061Z"
   },
   {
    "duration": 38,
    "start_time": "2023-02-08T05:39:32.396Z"
   },
   {
    "duration": 42,
    "start_time": "2023-02-08T05:40:01.429Z"
   },
   {
    "duration": 47,
    "start_time": "2023-02-08T05:40:45.332Z"
   },
   {
    "duration": 51,
    "start_time": "2023-02-08T05:41:25.443Z"
   },
   {
    "duration": 45,
    "start_time": "2023-02-08T05:41:33.947Z"
   },
   {
    "duration": 53,
    "start_time": "2023-02-08T05:41:43.627Z"
   },
   {
    "duration": 49,
    "start_time": "2023-02-08T05:41:48.395Z"
   },
   {
    "duration": 66,
    "start_time": "2023-02-08T05:42:08.347Z"
   },
   {
    "duration": 48,
    "start_time": "2023-02-08T05:42:35.659Z"
   },
   {
    "duration": 47,
    "start_time": "2023-02-08T05:43:24.778Z"
   },
   {
    "duration": 680,
    "start_time": "2023-02-08T05:53:27.783Z"
   },
   {
    "duration": 20,
    "start_time": "2023-02-08T05:53:28.464Z"
   },
   {
    "duration": 13,
    "start_time": "2023-02-08T05:53:28.485Z"
   },
   {
    "duration": 8,
    "start_time": "2023-02-08T05:53:28.500Z"
   },
   {
    "duration": 30,
    "start_time": "2023-02-08T05:53:28.509Z"
   },
   {
    "duration": 4,
    "start_time": "2023-02-08T05:53:28.540Z"
   },
   {
    "duration": 10,
    "start_time": "2023-02-08T05:53:28.545Z"
   },
   {
    "duration": 26,
    "start_time": "2023-02-08T05:53:28.557Z"
   },
   {
    "duration": 7,
    "start_time": "2023-02-08T05:53:28.585Z"
   },
   {
    "duration": 4,
    "start_time": "2023-02-08T05:53:28.596Z"
   },
   {
    "duration": 31,
    "start_time": "2023-02-08T05:53:28.601Z"
   },
   {
    "duration": 8,
    "start_time": "2023-02-08T05:53:28.633Z"
   },
   {
    "duration": 3,
    "start_time": "2023-02-08T05:53:28.643Z"
   },
   {
    "duration": 41,
    "start_time": "2023-02-08T05:53:28.647Z"
   },
   {
    "duration": 19,
    "start_time": "2023-02-08T05:53:28.690Z"
   },
   {
    "duration": 16,
    "start_time": "2023-02-08T05:53:28.710Z"
   },
   {
    "duration": 4,
    "start_time": "2023-02-08T05:53:28.727Z"
   },
   {
    "duration": 11,
    "start_time": "2023-02-08T05:53:28.732Z"
   },
   {
    "duration": 10,
    "start_time": "2023-02-08T05:53:28.744Z"
   },
   {
    "duration": 5,
    "start_time": "2023-02-08T05:53:28.780Z"
   },
   {
    "duration": 13,
    "start_time": "2023-02-08T05:53:28.786Z"
   },
   {
    "duration": 12,
    "start_time": "2023-02-08T05:53:28.800Z"
   },
   {
    "duration": 6,
    "start_time": "2023-02-08T05:53:28.814Z"
   },
   {
    "duration": 21,
    "start_time": "2023-02-08T05:53:28.822Z"
   },
   {
    "duration": 511,
    "start_time": "2023-02-08T05:53:28.844Z"
   },
   {
    "duration": 28,
    "start_time": "2023-02-08T05:53:29.357Z"
   },
   {
    "duration": 49,
    "start_time": "2023-02-08T05:53:29.386Z"
   },
   {
    "duration": 0,
    "start_time": "2023-02-08T05:53:29.436Z"
   },
   {
    "duration": 0,
    "start_time": "2023-02-08T05:53:29.438Z"
   },
   {
    "duration": 0,
    "start_time": "2023-02-08T05:53:29.439Z"
   },
   {
    "duration": 0,
    "start_time": "2023-02-08T05:53:29.440Z"
   },
   {
    "duration": 651,
    "start_time": "2023-02-08T06:31:18.598Z"
   },
   {
    "duration": 27,
    "start_time": "2023-02-08T06:31:19.252Z"
   },
   {
    "duration": 28,
    "start_time": "2023-02-08T06:31:19.281Z"
   },
   {
    "duration": 14,
    "start_time": "2023-02-08T06:31:19.312Z"
   },
   {
    "duration": 71,
    "start_time": "2023-02-08T06:31:19.328Z"
   },
   {
    "duration": 5,
    "start_time": "2023-02-08T06:31:19.401Z"
   },
   {
    "duration": 16,
    "start_time": "2023-02-08T06:31:19.408Z"
   },
   {
    "duration": 7,
    "start_time": "2023-02-08T06:31:19.427Z"
   },
   {
    "duration": 11,
    "start_time": "2023-02-08T06:31:19.436Z"
   },
   {
    "duration": 37,
    "start_time": "2023-02-08T06:31:19.450Z"
   },
   {
    "duration": 62,
    "start_time": "2023-02-08T06:31:19.489Z"
   },
   {
    "duration": 34,
    "start_time": "2023-02-08T06:31:19.553Z"
   },
   {
    "duration": 8,
    "start_time": "2023-02-08T06:31:19.589Z"
   },
   {
    "duration": 21,
    "start_time": "2023-02-08T06:31:19.599Z"
   },
   {
    "duration": 30,
    "start_time": "2023-02-08T06:31:19.622Z"
   },
   {
    "duration": 44,
    "start_time": "2023-02-08T06:31:19.655Z"
   },
   {
    "duration": 6,
    "start_time": "2023-02-08T06:31:19.701Z"
   },
   {
    "duration": 31,
    "start_time": "2023-02-08T06:31:19.708Z"
   },
   {
    "duration": 8,
    "start_time": "2023-02-08T06:31:19.742Z"
   },
   {
    "duration": 30,
    "start_time": "2023-02-08T06:31:19.752Z"
   },
   {
    "duration": 26,
    "start_time": "2023-02-08T06:31:19.784Z"
   },
   {
    "duration": 31,
    "start_time": "2023-02-08T06:31:19.812Z"
   },
   {
    "duration": 15,
    "start_time": "2023-02-08T06:31:19.845Z"
   },
   {
    "duration": 52,
    "start_time": "2023-02-08T06:31:19.862Z"
   },
   {
    "duration": 444,
    "start_time": "2023-02-08T06:31:19.917Z"
   },
   {
    "duration": 45,
    "start_time": "2023-02-08T06:31:20.363Z"
   },
   {
    "duration": 64,
    "start_time": "2023-02-08T06:31:20.410Z"
   },
   {
    "duration": 0,
    "start_time": "2023-02-08T06:31:20.477Z"
   },
   {
    "duration": 0,
    "start_time": "2023-02-08T06:31:20.478Z"
   },
   {
    "duration": 0,
    "start_time": "2023-02-08T06:31:20.479Z"
   },
   {
    "duration": 0,
    "start_time": "2023-02-08T06:31:20.480Z"
   },
   {
    "duration": 47,
    "start_time": "2023-02-08T12:51:43.058Z"
   },
   {
    "duration": 472,
    "start_time": "2023-02-08T12:52:02.937Z"
   },
   {
    "duration": 22,
    "start_time": "2023-02-08T12:52:03.410Z"
   },
   {
    "duration": 14,
    "start_time": "2023-02-08T12:52:03.433Z"
   },
   {
    "duration": 9,
    "start_time": "2023-02-08T12:52:03.449Z"
   },
   {
    "duration": 33,
    "start_time": "2023-02-08T12:52:03.459Z"
   },
   {
    "duration": 4,
    "start_time": "2023-02-08T12:52:03.494Z"
   },
   {
    "duration": 29,
    "start_time": "2023-02-08T12:52:03.499Z"
   },
   {
    "duration": 4,
    "start_time": "2023-02-08T12:52:03.529Z"
   },
   {
    "duration": 13,
    "start_time": "2023-02-08T12:52:03.534Z"
   },
   {
    "duration": 3,
    "start_time": "2023-02-08T12:52:03.550Z"
   },
   {
    "duration": 33,
    "start_time": "2023-02-08T12:52:03.555Z"
   },
   {
    "duration": 8,
    "start_time": "2023-02-08T12:52:03.590Z"
   },
   {
    "duration": 27,
    "start_time": "2023-02-08T12:52:03.600Z"
   },
   {
    "duration": 11,
    "start_time": "2023-02-08T12:52:03.628Z"
   },
   {
    "duration": 24,
    "start_time": "2023-02-08T12:52:03.640Z"
   },
   {
    "duration": 16,
    "start_time": "2023-02-08T12:52:03.666Z"
   },
   {
    "duration": 3,
    "start_time": "2023-02-08T12:52:03.683Z"
   },
   {
    "duration": 17,
    "start_time": "2023-02-08T12:52:03.688Z"
   },
   {
    "duration": 21,
    "start_time": "2023-02-08T12:52:03.707Z"
   },
   {
    "duration": 4,
    "start_time": "2023-02-08T12:52:03.729Z"
   },
   {
    "duration": 12,
    "start_time": "2023-02-08T12:52:03.735Z"
   },
   {
    "duration": 16,
    "start_time": "2023-02-08T12:52:03.749Z"
   },
   {
    "duration": 10,
    "start_time": "2023-02-08T12:52:03.766Z"
   },
   {
    "duration": 22,
    "start_time": "2023-02-08T12:52:03.778Z"
   },
   {
    "duration": 375,
    "start_time": "2023-02-08T12:52:03.802Z"
   },
   {
    "duration": 22,
    "start_time": "2023-02-08T12:52:04.178Z"
   },
   {
    "duration": 153,
    "start_time": "2023-02-08T12:52:04.201Z"
   },
   {
    "duration": 21,
    "start_time": "2023-02-08T12:52:04.358Z"
   },
   {
    "duration": 158,
    "start_time": "2023-02-08T12:52:04.381Z"
   },
   {
    "duration": 21,
    "start_time": "2023-02-08T12:52:04.541Z"
   },
   {
    "duration": 148,
    "start_time": "2023-02-08T12:52:04.564Z"
   },
   {
    "duration": 72,
    "start_time": "2023-02-08T17:55:17.276Z"
   },
   {
    "duration": 44,
    "start_time": "2023-02-08T17:55:28.220Z"
   },
   {
    "duration": 474,
    "start_time": "2023-02-08T17:55:35.076Z"
   },
   {
    "duration": 23,
    "start_time": "2023-02-08T17:55:35.552Z"
   },
   {
    "duration": 14,
    "start_time": "2023-02-08T17:55:35.576Z"
   },
   {
    "duration": 23,
    "start_time": "2023-02-08T17:55:35.592Z"
   },
   {
    "duration": 33,
    "start_time": "2023-02-08T17:55:35.617Z"
   },
   {
    "duration": 4,
    "start_time": "2023-02-08T17:55:35.652Z"
   },
   {
    "duration": 25,
    "start_time": "2023-02-08T17:55:35.657Z"
   },
   {
    "duration": 4,
    "start_time": "2023-02-08T17:55:35.684Z"
   },
   {
    "duration": 9,
    "start_time": "2023-02-08T17:55:35.689Z"
   },
   {
    "duration": 4,
    "start_time": "2023-02-08T17:55:35.701Z"
   },
   {
    "duration": 46,
    "start_time": "2023-02-08T17:55:35.707Z"
   },
   {
    "duration": 10,
    "start_time": "2023-02-08T17:55:35.755Z"
   },
   {
    "duration": 6,
    "start_time": "2023-02-08T17:55:35.766Z"
   },
   {
    "duration": 12,
    "start_time": "2023-02-08T17:55:35.773Z"
   },
   {
    "duration": 41,
    "start_time": "2023-02-08T17:55:35.787Z"
   },
   {
    "duration": 17,
    "start_time": "2023-02-08T17:55:35.830Z"
   },
   {
    "duration": 4,
    "start_time": "2023-02-08T17:55:35.849Z"
   },
   {
    "duration": 21,
    "start_time": "2023-02-08T17:55:35.855Z"
   },
   {
    "duration": 9,
    "start_time": "2023-02-08T17:55:35.877Z"
   },
   {
    "duration": 5,
    "start_time": "2023-02-08T17:55:35.888Z"
   },
   {
    "duration": 10,
    "start_time": "2023-02-08T17:55:35.894Z"
   },
   {
    "duration": 35,
    "start_time": "2023-02-08T17:55:35.905Z"
   },
   {
    "duration": 10,
    "start_time": "2023-02-08T17:55:35.942Z"
   },
   {
    "duration": 1217,
    "start_time": "2023-02-08T17:55:35.954Z"
   },
   {
    "duration": 0,
    "start_time": "2023-02-08T17:55:37.172Z"
   },
   {
    "duration": 0,
    "start_time": "2023-02-08T17:55:37.174Z"
   },
   {
    "duration": 0,
    "start_time": "2023-02-08T17:55:37.175Z"
   },
   {
    "duration": 0,
    "start_time": "2023-02-08T17:55:37.177Z"
   },
   {
    "duration": 0,
    "start_time": "2023-02-08T17:55:37.178Z"
   },
   {
    "duration": 0,
    "start_time": "2023-02-08T17:55:37.180Z"
   },
   {
    "duration": 0,
    "start_time": "2023-02-08T17:55:37.181Z"
   },
   {
    "duration": 1125,
    "start_time": "2023-02-08T17:58:42.128Z"
   },
   {
    "duration": 28,
    "start_time": "2023-02-08T17:58:59.653Z"
   },
   {
    "duration": 2,
    "start_time": "2023-02-08T17:59:13.990Z"
   },
   {
    "duration": 35,
    "start_time": "2023-02-08T17:59:16.921Z"
   },
   {
    "duration": 522,
    "start_time": "2023-02-08T17:59:32.093Z"
   },
   {
    "duration": 28,
    "start_time": "2023-02-08T17:59:32.617Z"
   },
   {
    "duration": 15,
    "start_time": "2023-02-08T17:59:32.646Z"
   },
   {
    "duration": 9,
    "start_time": "2023-02-08T17:59:32.664Z"
   },
   {
    "duration": 35,
    "start_time": "2023-02-08T17:59:32.674Z"
   },
   {
    "duration": 18,
    "start_time": "2023-02-08T17:59:32.710Z"
   },
   {
    "duration": 10,
    "start_time": "2023-02-08T17:59:32.730Z"
   },
   {
    "duration": 4,
    "start_time": "2023-02-08T17:59:32.741Z"
   },
   {
    "duration": 14,
    "start_time": "2023-02-08T17:59:32.747Z"
   },
   {
    "duration": 4,
    "start_time": "2023-02-08T17:59:32.763Z"
   },
   {
    "duration": 38,
    "start_time": "2023-02-08T17:59:32.768Z"
   },
   {
    "duration": 9,
    "start_time": "2023-02-08T17:59:32.826Z"
   },
   {
    "duration": 4,
    "start_time": "2023-02-08T17:59:32.837Z"
   },
   {
    "duration": 12,
    "start_time": "2023-02-08T17:59:32.843Z"
   },
   {
    "duration": 19,
    "start_time": "2023-02-08T17:59:32.856Z"
   },
   {
    "duration": 17,
    "start_time": "2023-02-08T17:59:32.877Z"
   },
   {
    "duration": 33,
    "start_time": "2023-02-08T17:59:32.896Z"
   },
   {
    "duration": 34,
    "start_time": "2023-02-08T17:59:32.931Z"
   },
   {
    "duration": 16,
    "start_time": "2023-02-08T17:59:32.967Z"
   },
   {
    "duration": 4,
    "start_time": "2023-02-08T17:59:32.985Z"
   },
   {
    "duration": 9,
    "start_time": "2023-02-08T17:59:32.991Z"
   },
   {
    "duration": 17,
    "start_time": "2023-02-08T17:59:33.001Z"
   },
   {
    "duration": 4,
    "start_time": "2023-02-08T17:59:33.019Z"
   },
   {
    "duration": 33,
    "start_time": "2023-02-08T17:59:33.027Z"
   },
   {
    "duration": 1535,
    "start_time": "2023-02-08T17:59:33.061Z"
   },
   {
    "duration": 0,
    "start_time": "2023-02-08T17:59:34.598Z"
   },
   {
    "duration": 0,
    "start_time": "2023-02-08T17:59:34.599Z"
   },
   {
    "duration": 0,
    "start_time": "2023-02-08T17:59:34.601Z"
   },
   {
    "duration": 0,
    "start_time": "2023-02-08T17:59:34.602Z"
   },
   {
    "duration": 0,
    "start_time": "2023-02-08T17:59:34.603Z"
   },
   {
    "duration": 0,
    "start_time": "2023-02-08T17:59:34.604Z"
   },
   {
    "duration": 35,
    "start_time": "2023-02-08T18:00:20.257Z"
   },
   {
    "duration": 30,
    "start_time": "2023-02-08T18:00:27.354Z"
   },
   {
    "duration": 34,
    "start_time": "2023-02-08T18:00:35.694Z"
   },
   {
    "duration": 40,
    "start_time": "2023-02-08T18:00:45.825Z"
   },
   {
    "duration": 18,
    "start_time": "2023-02-08T18:00:57.539Z"
   },
   {
    "duration": 17,
    "start_time": "2023-02-08T18:01:06.690Z"
   },
   {
    "duration": 30,
    "start_time": "2023-02-08T18:01:17.128Z"
   },
   {
    "duration": 87,
    "start_time": "2023-02-08T18:07:13.290Z"
   },
   {
    "duration": 91,
    "start_time": "2023-02-08T18:07:26.664Z"
   },
   {
    "duration": 69,
    "start_time": "2023-02-08T18:08:26.298Z"
   },
   {
    "duration": 29,
    "start_time": "2023-02-08T18:09:24.418Z"
   },
   {
    "duration": 25,
    "start_time": "2023-02-08T18:10:53.155Z"
   },
   {
    "duration": 28,
    "start_time": "2023-02-08T18:10:55.541Z"
   },
   {
    "duration": 1099,
    "start_time": "2023-02-08T18:10:59.159Z"
   },
   {
    "duration": 101,
    "start_time": "2023-02-08T18:11:19.594Z"
   },
   {
    "duration": 79,
    "start_time": "2023-02-08T18:11:36.640Z"
   },
   {
    "duration": 68,
    "start_time": "2023-02-08T18:11:58.304Z"
   },
   {
    "duration": 1156,
    "start_time": "2023-02-08T18:12:03.352Z"
   },
   {
    "duration": 434,
    "start_time": "2023-02-08T18:12:15.662Z"
   },
   {
    "duration": 24,
    "start_time": "2023-02-08T18:12:16.098Z"
   },
   {
    "duration": 23,
    "start_time": "2023-02-08T18:12:16.124Z"
   },
   {
    "duration": 15,
    "start_time": "2023-02-08T18:12:16.149Z"
   },
   {
    "duration": 38,
    "start_time": "2023-02-08T18:12:16.165Z"
   },
   {
    "duration": 3,
    "start_time": "2023-02-08T18:12:16.205Z"
   },
   {
    "duration": 39,
    "start_time": "2023-02-08T18:12:16.209Z"
   },
   {
    "duration": 7,
    "start_time": "2023-02-08T18:12:16.249Z"
   },
   {
    "duration": 14,
    "start_time": "2023-02-08T18:12:16.258Z"
   },
   {
    "duration": 4,
    "start_time": "2023-02-08T18:12:16.275Z"
   },
   {
    "duration": 36,
    "start_time": "2023-02-08T18:12:16.280Z"
   },
   {
    "duration": 16,
    "start_time": "2023-02-08T18:12:16.318Z"
   },
   {
    "duration": 9,
    "start_time": "2023-02-08T18:12:16.336Z"
   },
   {
    "duration": 13,
    "start_time": "2023-02-08T18:12:16.347Z"
   },
   {
    "duration": 31,
    "start_time": "2023-02-08T18:12:16.361Z"
   },
   {
    "duration": 36,
    "start_time": "2023-02-08T18:12:16.394Z"
   },
   {
    "duration": 8,
    "start_time": "2023-02-08T18:12:16.432Z"
   },
   {
    "duration": 13,
    "start_time": "2023-02-08T18:12:16.443Z"
   },
   {
    "duration": 7,
    "start_time": "2023-02-08T18:12:16.457Z"
   },
   {
    "duration": 5,
    "start_time": "2023-02-08T18:12:16.465Z"
   },
   {
    "duration": 13,
    "start_time": "2023-02-08T18:12:16.471Z"
   },
   {
    "duration": 13,
    "start_time": "2023-02-08T18:12:16.486Z"
   },
   {
    "duration": 323,
    "start_time": "2023-02-08T18:12:16.501Z"
   },
   {
    "duration": 7,
    "start_time": "2023-02-08T18:12:16.826Z"
   },
   {
    "duration": 26,
    "start_time": "2023-02-08T18:12:16.835Z"
   },
   {
    "duration": 167,
    "start_time": "2023-02-08T18:12:16.862Z"
   },
   {
    "duration": 21,
    "start_time": "2023-02-08T18:12:17.031Z"
   },
   {
    "duration": 156,
    "start_time": "2023-02-08T18:12:17.056Z"
   },
   {
    "duration": 27,
    "start_time": "2023-02-08T18:12:17.214Z"
   },
   {
    "duration": 170,
    "start_time": "2023-02-08T18:12:17.243Z"
   },
   {
    "duration": 28,
    "start_time": "2023-02-08T18:12:17.415Z"
   },
   {
    "duration": 144,
    "start_time": "2023-02-08T18:12:17.445Z"
   },
   {
    "duration": 321,
    "start_time": "2023-02-08T18:13:37.663Z"
   },
   {
    "duration": 78,
    "start_time": "2023-02-08T18:14:00.712Z"
   },
   {
    "duration": 78,
    "start_time": "2023-02-08T18:14:12.794Z"
   },
   {
    "duration": 436,
    "start_time": "2023-02-08T18:14:18.564Z"
   },
   {
    "duration": 23,
    "start_time": "2023-02-08T18:14:19.002Z"
   },
   {
    "duration": 16,
    "start_time": "2023-02-08T18:14:19.027Z"
   },
   {
    "duration": 9,
    "start_time": "2023-02-08T18:14:19.045Z"
   },
   {
    "duration": 33,
    "start_time": "2023-02-08T18:14:19.057Z"
   },
   {
    "duration": 4,
    "start_time": "2023-02-08T18:14:19.092Z"
   },
   {
    "duration": 34,
    "start_time": "2023-02-08T18:14:19.098Z"
   },
   {
    "duration": 5,
    "start_time": "2023-02-08T18:14:19.134Z"
   },
   {
    "duration": 9,
    "start_time": "2023-02-08T18:14:19.141Z"
   },
   {
    "duration": 8,
    "start_time": "2023-02-08T18:14:19.152Z"
   },
   {
    "duration": 35,
    "start_time": "2023-02-08T18:14:19.162Z"
   },
   {
    "duration": 34,
    "start_time": "2023-02-08T18:14:19.199Z"
   },
   {
    "duration": 5,
    "start_time": "2023-02-08T18:14:19.234Z"
   },
   {
    "duration": 18,
    "start_time": "2023-02-08T18:14:19.241Z"
   },
   {
    "duration": 25,
    "start_time": "2023-02-08T18:14:19.260Z"
   },
   {
    "duration": 18,
    "start_time": "2023-02-08T18:14:19.287Z"
   },
   {
    "duration": 23,
    "start_time": "2023-02-08T18:14:19.306Z"
   },
   {
    "duration": 16,
    "start_time": "2023-02-08T18:14:19.330Z"
   },
   {
    "duration": 9,
    "start_time": "2023-02-08T18:14:19.348Z"
   },
   {
    "duration": 4,
    "start_time": "2023-02-08T18:14:19.359Z"
   },
   {
    "duration": 12,
    "start_time": "2023-02-08T18:14:19.364Z"
   },
   {
    "duration": 18,
    "start_time": "2023-02-08T18:14:19.378Z"
   },
   {
    "duration": 304,
    "start_time": "2023-02-08T18:14:19.397Z"
   },
   {
    "duration": 11,
    "start_time": "2023-02-08T18:14:19.702Z"
   },
   {
    "duration": 34,
    "start_time": "2023-02-08T18:14:19.715Z"
   },
   {
    "duration": 163,
    "start_time": "2023-02-08T18:14:19.751Z"
   },
   {
    "duration": 26,
    "start_time": "2023-02-08T18:14:19.916Z"
   },
   {
    "duration": 154,
    "start_time": "2023-02-08T18:14:19.943Z"
   },
   {
    "duration": 30,
    "start_time": "2023-02-08T18:14:20.099Z"
   },
   {
    "duration": 147,
    "start_time": "2023-02-08T18:14:20.130Z"
   },
   {
    "duration": 22,
    "start_time": "2023-02-08T18:14:20.279Z"
   },
   {
    "duration": 154,
    "start_time": "2023-02-08T18:14:20.303Z"
   },
   {
    "duration": 191,
    "start_time": "2023-02-08T18:14:28.807Z"
   },
   {
    "duration": 74,
    "start_time": "2023-02-08T18:14:58.008Z"
   },
   {
    "duration": 7,
    "start_time": "2023-02-08T18:14:58.576Z"
   },
   {
    "duration": 496,
    "start_time": "2023-02-08T18:15:16.111Z"
   },
   {
    "duration": 24,
    "start_time": "2023-02-08T18:15:16.608Z"
   },
   {
    "duration": 23,
    "start_time": "2023-02-08T18:15:16.633Z"
   },
   {
    "duration": 10,
    "start_time": "2023-02-08T18:15:16.658Z"
   },
   {
    "duration": 31,
    "start_time": "2023-02-08T18:15:16.671Z"
   },
   {
    "duration": 23,
    "start_time": "2023-02-08T18:15:16.704Z"
   },
   {
    "duration": 8,
    "start_time": "2023-02-08T18:15:16.729Z"
   },
   {
    "duration": 6,
    "start_time": "2023-02-08T18:15:16.738Z"
   },
   {
    "duration": 13,
    "start_time": "2023-02-08T18:15:16.745Z"
   },
   {
    "duration": 5,
    "start_time": "2023-02-08T18:15:16.760Z"
   },
   {
    "duration": 62,
    "start_time": "2023-02-08T18:15:16.766Z"
   },
   {
    "duration": 11,
    "start_time": "2023-02-08T18:15:16.829Z"
   },
   {
    "duration": 10,
    "start_time": "2023-02-08T18:15:16.842Z"
   },
   {
    "duration": 19,
    "start_time": "2023-02-08T18:15:16.856Z"
   },
   {
    "duration": 28,
    "start_time": "2023-02-08T18:15:16.877Z"
   },
   {
    "duration": 44,
    "start_time": "2023-02-08T18:15:16.907Z"
   },
   {
    "duration": 5,
    "start_time": "2023-02-08T18:15:16.953Z"
   },
   {
    "duration": 19,
    "start_time": "2023-02-08T18:15:16.960Z"
   },
   {
    "duration": 8,
    "start_time": "2023-02-08T18:15:16.981Z"
   },
   {
    "duration": 5,
    "start_time": "2023-02-08T18:15:16.992Z"
   },
   {
    "duration": 9,
    "start_time": "2023-02-08T18:15:17.026Z"
   },
   {
    "duration": 28,
    "start_time": "2023-02-08T18:15:17.037Z"
   },
   {
    "duration": 318,
    "start_time": "2023-02-08T18:15:17.067Z"
   },
   {
    "duration": 8,
    "start_time": "2023-02-08T18:15:17.387Z"
   },
   {
    "duration": 37,
    "start_time": "2023-02-08T18:15:17.397Z"
   },
   {
    "duration": 150,
    "start_time": "2023-02-08T18:15:17.436Z"
   },
   {
    "duration": 22,
    "start_time": "2023-02-08T18:15:17.588Z"
   },
   {
    "duration": 156,
    "start_time": "2023-02-08T18:15:17.611Z"
   },
   {
    "duration": 22,
    "start_time": "2023-02-08T18:15:17.769Z"
   },
   {
    "duration": 165,
    "start_time": "2023-02-08T18:15:17.793Z"
   },
   {
    "duration": 23,
    "start_time": "2023-02-08T18:15:17.960Z"
   },
   {
    "duration": 157,
    "start_time": "2023-02-08T18:15:17.984Z"
   },
   {
    "duration": 197,
    "start_time": "2023-02-08T18:15:54.571Z"
   },
   {
    "duration": 73,
    "start_time": "2023-02-08T18:16:11.518Z"
   },
   {
    "duration": 76,
    "start_time": "2023-02-08T18:16:31.234Z"
   },
   {
    "duration": 8,
    "start_time": "2023-02-08T18:16:43.958Z"
   },
   {
    "duration": 3,
    "start_time": "2023-02-08T18:16:45.561Z"
   },
   {
    "duration": 22,
    "start_time": "2023-02-08T18:16:47.530Z"
   },
   {
    "duration": 77,
    "start_time": "2023-02-08T18:18:28.256Z"
   },
   {
    "duration": 8,
    "start_time": "2023-02-08T18:18:28.723Z"
   },
   {
    "duration": 468,
    "start_time": "2023-02-08T18:18:38.529Z"
   },
   {
    "duration": 31,
    "start_time": "2023-02-08T18:18:39.000Z"
   },
   {
    "duration": 20,
    "start_time": "2023-02-08T18:18:39.033Z"
   },
   {
    "duration": 9,
    "start_time": "2023-02-08T18:18:39.055Z"
   },
   {
    "duration": 34,
    "start_time": "2023-02-08T18:18:39.066Z"
   },
   {
    "duration": 4,
    "start_time": "2023-02-08T18:18:39.102Z"
   },
   {
    "duration": 8,
    "start_time": "2023-02-08T18:18:39.128Z"
   },
   {
    "duration": 5,
    "start_time": "2023-02-08T18:18:39.137Z"
   },
   {
    "duration": 11,
    "start_time": "2023-02-08T18:18:39.144Z"
   },
   {
    "duration": 4,
    "start_time": "2023-02-08T18:18:39.158Z"
   },
   {
    "duration": 64,
    "start_time": "2023-02-08T18:18:39.163Z"
   },
   {
    "duration": 10,
    "start_time": "2023-02-08T18:18:39.228Z"
   },
   {
    "duration": 13,
    "start_time": "2023-02-08T18:18:39.240Z"
   },
   {
    "duration": 16,
    "start_time": "2023-02-08T18:18:39.256Z"
   },
   {
    "duration": 23,
    "start_time": "2023-02-08T18:18:39.274Z"
   },
   {
    "duration": 30,
    "start_time": "2023-02-08T18:18:39.299Z"
   },
   {
    "duration": 3,
    "start_time": "2023-02-08T18:18:39.331Z"
   },
   {
    "duration": 11,
    "start_time": "2023-02-08T18:18:39.337Z"
   },
   {
    "duration": 7,
    "start_time": "2023-02-08T18:18:39.350Z"
   },
   {
    "duration": 3,
    "start_time": "2023-02-08T18:18:39.359Z"
   },
   {
    "duration": 12,
    "start_time": "2023-02-08T18:18:39.364Z"
   },
   {
    "duration": 17,
    "start_time": "2023-02-08T18:18:39.378Z"
   },
   {
    "duration": 332,
    "start_time": "2023-02-08T18:18:39.397Z"
   },
   {
    "duration": 9,
    "start_time": "2023-02-08T18:18:39.731Z"
   },
   {
    "duration": 28,
    "start_time": "2023-02-08T18:18:39.742Z"
   },
   {
    "duration": 168,
    "start_time": "2023-02-08T18:18:39.772Z"
   },
   {
    "duration": 24,
    "start_time": "2023-02-08T18:18:39.942Z"
   },
   {
    "duration": 161,
    "start_time": "2023-02-08T18:18:39.970Z"
   },
   {
    "duration": 23,
    "start_time": "2023-02-08T18:18:40.133Z"
   },
   {
    "duration": 161,
    "start_time": "2023-02-08T18:18:40.157Z"
   },
   {
    "duration": 31,
    "start_time": "2023-02-08T18:18:40.320Z"
   },
   {
    "duration": 148,
    "start_time": "2023-02-08T18:18:40.353Z"
   },
   {
    "duration": 91,
    "start_time": "2023-02-08T18:19:15.182Z"
   },
   {
    "duration": 497,
    "start_time": "2023-02-08T18:19:31.000Z"
   },
   {
    "duration": 24,
    "start_time": "2023-02-08T18:19:31.499Z"
   },
   {
    "duration": 18,
    "start_time": "2023-02-08T18:19:31.525Z"
   },
   {
    "duration": 17,
    "start_time": "2023-02-08T18:19:31.546Z"
   },
   {
    "duration": 52,
    "start_time": "2023-02-08T18:19:31.565Z"
   },
   {
    "duration": 4,
    "start_time": "2023-02-08T18:19:31.619Z"
   },
   {
    "duration": 21,
    "start_time": "2023-02-08T18:19:31.626Z"
   },
   {
    "duration": 32,
    "start_time": "2023-02-08T18:19:31.649Z"
   },
   {
    "duration": 20,
    "start_time": "2023-02-08T18:19:31.683Z"
   },
   {
    "duration": 7,
    "start_time": "2023-02-08T18:19:31.707Z"
   },
   {
    "duration": 39,
    "start_time": "2023-02-08T18:19:31.715Z"
   },
   {
    "duration": 16,
    "start_time": "2023-02-08T18:19:31.757Z"
   },
   {
    "duration": 4,
    "start_time": "2023-02-08T18:19:31.774Z"
   },
   {
    "duration": 21,
    "start_time": "2023-02-08T18:19:31.780Z"
   },
   {
    "duration": 27,
    "start_time": "2023-02-08T18:19:31.803Z"
   },
   {
    "duration": 25,
    "start_time": "2023-02-08T18:19:31.832Z"
   },
   {
    "duration": 5,
    "start_time": "2023-02-08T18:19:31.859Z"
   },
   {
    "duration": 20,
    "start_time": "2023-02-08T18:19:31.866Z"
   },
   {
    "duration": 9,
    "start_time": "2023-02-08T18:19:31.888Z"
   },
   {
    "duration": 34,
    "start_time": "2023-02-08T18:19:31.899Z"
   },
   {
    "duration": 14,
    "start_time": "2023-02-08T18:19:31.934Z"
   },
   {
    "duration": 27,
    "start_time": "2023-02-08T18:19:31.950Z"
   },
   {
    "duration": 8,
    "start_time": "2023-02-08T18:19:31.979Z"
   },
   {
    "duration": 98,
    "start_time": "2023-02-08T18:19:31.989Z"
   },
   {
    "duration": 0,
    "start_time": "2023-02-08T18:19:32.088Z"
   },
   {
    "duration": 0,
    "start_time": "2023-02-08T18:19:32.090Z"
   },
   {
    "duration": 0,
    "start_time": "2023-02-08T18:19:32.091Z"
   },
   {
    "duration": 0,
    "start_time": "2023-02-08T18:19:32.092Z"
   },
   {
    "duration": 0,
    "start_time": "2023-02-08T18:19:32.093Z"
   },
   {
    "duration": 0,
    "start_time": "2023-02-08T18:19:32.094Z"
   },
   {
    "duration": 0,
    "start_time": "2023-02-08T18:19:32.095Z"
   },
   {
    "duration": 39,
    "start_time": "2023-02-08T18:20:37.194Z"
   },
   {
    "duration": 42,
    "start_time": "2023-02-08T18:21:09.108Z"
   },
   {
    "duration": 38,
    "start_time": "2023-02-08T18:21:16.681Z"
   },
   {
    "duration": 2,
    "start_time": "2023-02-08T18:21:17.603Z"
   },
   {
    "duration": 21,
    "start_time": "2023-02-08T18:22:29.619Z"
   },
   {
    "duration": 1085,
    "start_time": "2023-02-08T18:22:47.488Z"
   },
   {
    "duration": 20,
    "start_time": "2023-02-08T18:23:06.027Z"
   },
   {
    "duration": 23,
    "start_time": "2023-02-08T18:23:51.282Z"
   },
   {
    "duration": 27,
    "start_time": "2023-02-08T18:24:00.355Z"
   },
   {
    "duration": 21,
    "start_time": "2023-02-08T18:24:25.704Z"
   },
   {
    "duration": 88,
    "start_time": "2023-02-08T18:25:11.207Z"
   },
   {
    "duration": 72,
    "start_time": "2023-02-08T18:25:21.571Z"
   },
   {
    "duration": 98,
    "start_time": "2023-02-08T18:25:34.462Z"
   },
   {
    "duration": 39,
    "start_time": "2023-02-08T18:25:47.120Z"
   },
   {
    "duration": 43,
    "start_time": "2023-02-08T18:26:06.894Z"
   },
   {
    "duration": 28,
    "start_time": "2023-02-08T18:26:18.209Z"
   },
   {
    "duration": 28,
    "start_time": "2023-02-08T18:26:27.515Z"
   },
   {
    "duration": 30,
    "start_time": "2023-02-08T18:26:58.818Z"
   },
   {
    "duration": 31,
    "start_time": "2023-02-08T18:27:08.919Z"
   },
   {
    "duration": 30,
    "start_time": "2023-02-08T18:27:18.383Z"
   },
   {
    "duration": 302,
    "start_time": "2023-02-08T18:28:30.654Z"
   },
   {
    "duration": 8,
    "start_time": "2023-02-08T18:30:00.542Z"
   },
   {
    "duration": 27,
    "start_time": "2023-02-08T18:30:02.864Z"
   },
   {
    "duration": 96,
    "start_time": "2023-02-08T18:30:48.296Z"
   },
   {
    "duration": 73,
    "start_time": "2023-02-08T18:30:51.993Z"
   },
   {
    "duration": 77,
    "start_time": "2023-02-08T18:30:56.648Z"
   },
   {
    "duration": 82,
    "start_time": "2023-02-08T18:31:36.994Z"
   },
   {
    "duration": 83,
    "start_time": "2023-02-08T18:34:28.831Z"
   },
   {
    "duration": 461,
    "start_time": "2023-02-08T18:34:42.392Z"
   },
   {
    "duration": 22,
    "start_time": "2023-02-08T18:34:42.855Z"
   },
   {
    "duration": 15,
    "start_time": "2023-02-08T18:34:42.878Z"
   },
   {
    "duration": 10,
    "start_time": "2023-02-08T18:34:42.895Z"
   },
   {
    "duration": 51,
    "start_time": "2023-02-08T18:34:42.907Z"
   },
   {
    "duration": 3,
    "start_time": "2023-02-08T18:34:42.960Z"
   },
   {
    "duration": 17,
    "start_time": "2023-02-08T18:34:42.965Z"
   },
   {
    "duration": 4,
    "start_time": "2023-02-08T18:34:42.984Z"
   },
   {
    "duration": 9,
    "start_time": "2023-02-08T18:34:42.990Z"
   },
   {
    "duration": 28,
    "start_time": "2023-02-08T18:34:43.000Z"
   },
   {
    "duration": 46,
    "start_time": "2023-02-08T18:34:43.031Z"
   },
   {
    "duration": 10,
    "start_time": "2023-02-08T18:34:43.078Z"
   },
   {
    "duration": 3,
    "start_time": "2023-02-08T18:34:43.089Z"
   },
   {
    "duration": 16,
    "start_time": "2023-02-08T18:34:43.095Z"
   },
   {
    "duration": 31,
    "start_time": "2023-02-08T18:34:43.113Z"
   },
   {
    "duration": 17,
    "start_time": "2023-02-08T18:34:43.146Z"
   },
   {
    "duration": 4,
    "start_time": "2023-02-08T18:34:43.165Z"
   },
   {
    "duration": 16,
    "start_time": "2023-02-08T18:34:43.171Z"
   },
   {
    "duration": 8,
    "start_time": "2023-02-08T18:34:43.189Z"
   },
   {
    "duration": 4,
    "start_time": "2023-02-08T18:34:43.199Z"
   },
   {
    "duration": 9,
    "start_time": "2023-02-08T18:34:43.227Z"
   },
   {
    "duration": 16,
    "start_time": "2023-02-08T18:34:43.237Z"
   },
   {
    "duration": 338,
    "start_time": "2023-02-08T18:34:43.255Z"
   },
   {
    "duration": 83,
    "start_time": "2023-02-08T18:34:43.595Z"
   },
   {
    "duration": 0,
    "start_time": "2023-02-08T18:34:43.679Z"
   },
   {
    "duration": 0,
    "start_time": "2023-02-08T18:34:43.681Z"
   },
   {
    "duration": 0,
    "start_time": "2023-02-08T18:34:43.682Z"
   },
   {
    "duration": 0,
    "start_time": "2023-02-08T18:34:43.684Z"
   },
   {
    "duration": 0,
    "start_time": "2023-02-08T18:34:43.685Z"
   },
   {
    "duration": 0,
    "start_time": "2023-02-08T18:34:43.686Z"
   },
   {
    "duration": 27,
    "start_time": "2023-02-08T18:34:47.466Z"
   },
   {
    "duration": 29,
    "start_time": "2023-02-08T18:34:49.045Z"
   },
   {
    "duration": 29,
    "start_time": "2023-02-08T18:34:55.525Z"
   },
   {
    "duration": 25,
    "start_time": "2023-02-08T18:36:12.821Z"
   },
   {
    "duration": 26,
    "start_time": "2023-02-08T18:36:24.880Z"
   },
   {
    "duration": 30,
    "start_time": "2023-02-08T18:36:44.614Z"
   },
   {
    "duration": 20,
    "start_time": "2023-02-08T18:37:06.538Z"
   },
   {
    "duration": 774,
    "start_time": "2023-02-09T03:36:20.929Z"
   },
   {
    "duration": 23,
    "start_time": "2023-02-09T03:36:21.705Z"
   },
   {
    "duration": 16,
    "start_time": "2023-02-09T03:36:21.730Z"
   },
   {
    "duration": 11,
    "start_time": "2023-02-09T03:36:21.748Z"
   },
   {
    "duration": 35,
    "start_time": "2023-02-09T03:36:21.761Z"
   },
   {
    "duration": 4,
    "start_time": "2023-02-09T03:36:21.798Z"
   },
   {
    "duration": 10,
    "start_time": "2023-02-09T03:36:21.804Z"
   },
   {
    "duration": 6,
    "start_time": "2023-02-09T03:36:21.836Z"
   },
   {
    "duration": 12,
    "start_time": "2023-02-09T03:36:21.843Z"
   },
   {
    "duration": 5,
    "start_time": "2023-02-09T03:36:21.859Z"
   },
   {
    "duration": 37,
    "start_time": "2023-02-09T03:36:21.866Z"
   },
   {
    "duration": 37,
    "start_time": "2023-02-09T03:36:21.904Z"
   },
   {
    "duration": 5,
    "start_time": "2023-02-09T03:36:21.943Z"
   },
   {
    "duration": 15,
    "start_time": "2023-02-09T03:36:21.950Z"
   },
   {
    "duration": 24,
    "start_time": "2023-02-09T03:36:21.967Z"
   },
   {
    "duration": 18,
    "start_time": "2023-02-09T03:36:21.993Z"
   },
   {
    "duration": 23,
    "start_time": "2023-02-09T03:36:22.013Z"
   },
   {
    "duration": 11,
    "start_time": "2023-02-09T03:36:22.039Z"
   },
   {
    "duration": 15,
    "start_time": "2023-02-09T03:36:22.052Z"
   },
   {
    "duration": 9,
    "start_time": "2023-02-09T03:36:22.069Z"
   },
   {
    "duration": 21,
    "start_time": "2023-02-09T03:36:22.080Z"
   },
   {
    "duration": 16,
    "start_time": "2023-02-09T03:36:22.103Z"
   },
   {
    "duration": 467,
    "start_time": "2023-02-09T03:36:22.122Z"
   },
   {
    "duration": 81,
    "start_time": "2023-02-09T03:36:22.591Z"
   },
   {
    "duration": 0,
    "start_time": "2023-02-09T03:36:22.674Z"
   },
   {
    "duration": 0,
    "start_time": "2023-02-09T03:36:22.675Z"
   },
   {
    "duration": 0,
    "start_time": "2023-02-09T03:36:22.676Z"
   },
   {
    "duration": 0,
    "start_time": "2023-02-09T03:36:22.677Z"
   },
   {
    "duration": 0,
    "start_time": "2023-02-09T03:36:22.678Z"
   },
   {
    "duration": 0,
    "start_time": "2023-02-09T03:36:22.679Z"
   },
   {
    "duration": 15,
    "start_time": "2023-02-09T03:37:03.925Z"
   },
   {
    "duration": 11,
    "start_time": "2023-02-09T03:37:11.524Z"
   },
   {
    "duration": 15,
    "start_time": "2023-02-09T03:37:19.462Z"
   },
   {
    "duration": 30,
    "start_time": "2023-02-09T03:40:46.975Z"
   },
   {
    "duration": 31,
    "start_time": "2023-02-09T03:40:53.716Z"
   },
   {
    "duration": 13,
    "start_time": "2023-02-09T03:41:16.123Z"
   },
   {
    "duration": 12,
    "start_time": "2023-02-09T03:43:33.221Z"
   },
   {
    "duration": 11,
    "start_time": "2023-02-09T03:43:57.933Z"
   },
   {
    "duration": 11,
    "start_time": "2023-02-09T03:44:02.697Z"
   },
   {
    "duration": 15,
    "start_time": "2023-02-09T03:48:16.470Z"
   },
   {
    "duration": 15,
    "start_time": "2023-02-09T03:48:36.026Z"
   },
   {
    "duration": 11,
    "start_time": "2023-02-09T03:52:23.685Z"
   },
   {
    "duration": 9,
    "start_time": "2023-02-09T03:53:39.496Z"
   },
   {
    "duration": 31,
    "start_time": "2023-02-09T03:54:26.880Z"
   },
   {
    "duration": 13,
    "start_time": "2023-02-09T03:54:30.483Z"
   },
   {
    "duration": 850,
    "start_time": "2023-02-09T03:55:19.486Z"
   },
   {
    "duration": 170,
    "start_time": "2023-02-09T03:55:28.729Z"
   },
   {
    "duration": 50,
    "start_time": "2023-02-09T03:55:54.495Z"
   },
   {
    "duration": 186,
    "start_time": "2023-02-09T03:56:00.678Z"
   },
   {
    "duration": 47,
    "start_time": "2023-02-09T03:57:11.759Z"
   },
   {
    "duration": 30,
    "start_time": "2023-02-09T04:05:39.600Z"
   },
   {
    "duration": 14,
    "start_time": "2023-02-09T04:05:44.594Z"
   },
   {
    "duration": 39,
    "start_time": "2023-02-09T04:07:38.977Z"
   },
   {
    "duration": 159,
    "start_time": "2023-02-09T04:07:42.898Z"
   },
   {
    "duration": 49,
    "start_time": "2023-02-09T10:35:47.282Z"
   },
   {
    "duration": 552,
    "start_time": "2023-02-09T10:35:56.295Z"
   },
   {
    "duration": 23,
    "start_time": "2023-02-09T10:35:56.849Z"
   },
   {
    "duration": 14,
    "start_time": "2023-02-09T10:35:56.873Z"
   },
   {
    "duration": 9,
    "start_time": "2023-02-09T10:35:56.889Z"
   },
   {
    "duration": 51,
    "start_time": "2023-02-09T10:35:56.901Z"
   },
   {
    "duration": 4,
    "start_time": "2023-02-09T10:35:56.954Z"
   },
   {
    "duration": 12,
    "start_time": "2023-02-09T10:35:56.959Z"
   },
   {
    "duration": 5,
    "start_time": "2023-02-09T10:35:56.973Z"
   },
   {
    "duration": 10,
    "start_time": "2023-02-09T10:35:56.979Z"
   },
   {
    "duration": 5,
    "start_time": "2023-02-09T10:35:56.991Z"
   },
   {
    "duration": 60,
    "start_time": "2023-02-09T10:35:56.997Z"
   },
   {
    "duration": 10,
    "start_time": "2023-02-09T10:35:57.058Z"
   },
   {
    "duration": 4,
    "start_time": "2023-02-09T10:35:57.070Z"
   },
   {
    "duration": 12,
    "start_time": "2023-02-09T10:35:57.077Z"
   },
   {
    "duration": 50,
    "start_time": "2023-02-09T10:35:57.090Z"
   },
   {
    "duration": 19,
    "start_time": "2023-02-09T10:35:57.142Z"
   },
   {
    "duration": 3,
    "start_time": "2023-02-09T10:35:57.163Z"
   },
   {
    "duration": 16,
    "start_time": "2023-02-09T10:35:57.168Z"
   },
   {
    "duration": 8,
    "start_time": "2023-02-09T10:35:57.186Z"
   },
   {
    "duration": 32,
    "start_time": "2023-02-09T10:35:57.196Z"
   },
   {
    "duration": 11,
    "start_time": "2023-02-09T10:35:57.230Z"
   },
   {
    "duration": 17,
    "start_time": "2023-02-09T10:35:57.243Z"
   },
   {
    "duration": 31,
    "start_time": "2023-02-09T10:35:57.261Z"
   },
   {
    "duration": 613,
    "start_time": "2023-02-09T10:35:57.293Z"
   },
   {
    "duration": 43,
    "start_time": "2023-02-09T10:35:57.908Z"
   },
   {
    "duration": 1220,
    "start_time": "2023-02-09T10:35:57.953Z"
   },
   {
    "duration": 0,
    "start_time": "2023-02-09T10:35:59.175Z"
   },
   {
    "duration": 0,
    "start_time": "2023-02-09T10:35:59.176Z"
   },
   {
    "duration": 0,
    "start_time": "2023-02-09T10:35:59.177Z"
   },
   {
    "duration": 0,
    "start_time": "2023-02-09T10:35:59.179Z"
   },
   {
    "duration": 33,
    "start_time": "2023-02-09T10:37:14.264Z"
   },
   {
    "duration": 26,
    "start_time": "2023-02-09T10:37:32.165Z"
   },
   {
    "duration": 1192,
    "start_time": "2023-02-09T10:37:39.768Z"
   },
   {
    "duration": 29,
    "start_time": "2023-02-09T10:37:46.640Z"
   },
   {
    "duration": 149,
    "start_time": "2023-02-09T10:37:49.208Z"
   },
   {
    "duration": 44,
    "start_time": "2023-02-09T10:37:55.977Z"
   },
   {
    "duration": 71,
    "start_time": "2023-02-09T10:38:47.584Z"
   },
   {
    "duration": 5,
    "start_time": "2023-02-09T10:39:04.133Z"
   },
   {
    "duration": 204,
    "start_time": "2023-02-09T10:39:13.735Z"
   },
   {
    "duration": 35,
    "start_time": "2023-02-09T10:41:08.265Z"
   },
   {
    "duration": 30,
    "start_time": "2023-02-09T10:41:17.414Z"
   },
   {
    "duration": 73,
    "start_time": "2023-02-09T10:42:08.405Z"
   },
   {
    "duration": 144,
    "start_time": "2023-02-09T10:42:13.205Z"
   },
   {
    "duration": 35,
    "start_time": "2023-02-09T10:45:33.004Z"
   },
   {
    "duration": 33,
    "start_time": "2023-02-09T10:46:12.329Z"
   },
   {
    "duration": 34,
    "start_time": "2023-02-09T10:46:20.786Z"
   },
   {
    "duration": 30,
    "start_time": "2023-02-09T10:46:33.830Z"
   },
   {
    "duration": 4,
    "start_time": "2023-02-09T10:47:09.670Z"
   },
   {
    "duration": 126,
    "start_time": "2023-02-09T10:47:22.314Z"
   },
   {
    "duration": 130,
    "start_time": "2023-02-09T10:47:32.312Z"
   },
   {
    "duration": 137,
    "start_time": "2023-02-09T10:47:35.931Z"
   },
   {
    "duration": 138,
    "start_time": "2023-02-09T10:47:38.578Z"
   },
   {
    "duration": 132,
    "start_time": "2023-02-09T10:47:41.273Z"
   },
   {
    "duration": 131,
    "start_time": "2023-02-09T10:47:45.185Z"
   },
   {
    "duration": 491,
    "start_time": "2023-02-09T10:50:37.303Z"
   },
   {
    "duration": 27,
    "start_time": "2023-02-09T10:50:37.797Z"
   },
   {
    "duration": 15,
    "start_time": "2023-02-09T10:50:37.825Z"
   },
   {
    "duration": 9,
    "start_time": "2023-02-09T10:50:37.842Z"
   },
   {
    "duration": 37,
    "start_time": "2023-02-09T10:50:37.853Z"
   },
   {
    "duration": 4,
    "start_time": "2023-02-09T10:50:37.892Z"
   },
   {
    "duration": 35,
    "start_time": "2023-02-09T10:50:37.897Z"
   },
   {
    "duration": 4,
    "start_time": "2023-02-09T10:50:37.934Z"
   },
   {
    "duration": 9,
    "start_time": "2023-02-09T10:50:37.939Z"
   },
   {
    "duration": 4,
    "start_time": "2023-02-09T10:50:37.950Z"
   },
   {
    "duration": 34,
    "start_time": "2023-02-09T10:50:37.956Z"
   },
   {
    "duration": 39,
    "start_time": "2023-02-09T10:50:37.992Z"
   },
   {
    "duration": 5,
    "start_time": "2023-02-09T10:50:38.033Z"
   },
   {
    "duration": 16,
    "start_time": "2023-02-09T10:50:38.039Z"
   },
   {
    "duration": 21,
    "start_time": "2023-02-09T10:50:38.057Z"
   },
   {
    "duration": 60,
    "start_time": "2023-02-09T10:50:38.080Z"
   },
   {
    "duration": 4,
    "start_time": "2023-02-09T10:50:38.142Z"
   },
   {
    "duration": 17,
    "start_time": "2023-02-09T10:50:38.148Z"
   },
   {
    "duration": 7,
    "start_time": "2023-02-09T10:50:38.167Z"
   },
   {
    "duration": 4,
    "start_time": "2023-02-09T10:50:38.176Z"
   },
   {
    "duration": 10,
    "start_time": "2023-02-09T10:50:38.182Z"
   },
   {
    "duration": 43,
    "start_time": "2023-02-09T10:50:38.194Z"
   },
   {
    "duration": 34,
    "start_time": "2023-02-09T10:50:38.239Z"
   },
   {
    "duration": 405,
    "start_time": "2023-02-09T10:50:38.275Z"
   },
   {
    "duration": 47,
    "start_time": "2023-02-09T10:50:38.682Z"
   },
   {
    "duration": 164,
    "start_time": "2023-02-09T10:50:38.730Z"
   },
   {
    "duration": 49,
    "start_time": "2023-02-09T10:50:38.896Z"
   },
   {
    "duration": 155,
    "start_time": "2023-02-09T10:50:38.948Z"
   },
   {
    "duration": 49,
    "start_time": "2023-02-09T10:50:39.105Z"
   },
   {
    "duration": 151,
    "start_time": "2023-02-09T10:50:39.156Z"
   },
   {
    "duration": 90,
    "start_time": "2023-02-09T10:52:14.422Z"
   },
   {
    "duration": 28,
    "start_time": "2023-02-09T10:52:19.873Z"
   },
   {
    "duration": 37,
    "start_time": "2023-02-09T10:54:13.415Z"
   },
   {
    "duration": 34,
    "start_time": "2023-02-09T10:54:24.133Z"
   },
   {
    "duration": 37,
    "start_time": "2023-02-09T10:54:46.630Z"
   },
   {
    "duration": 159,
    "start_time": "2023-02-09T10:54:50.477Z"
   },
   {
    "duration": 32,
    "start_time": "2023-02-09T10:55:03.981Z"
   },
   {
    "duration": 199,
    "start_time": "2023-02-09T10:55:06.663Z"
   },
   {
    "duration": 36,
    "start_time": "2023-02-09T10:55:15.574Z"
   },
   {
    "duration": 126,
    "start_time": "2023-02-09T10:55:21.853Z"
   },
   {
    "duration": 74,
    "start_time": "2023-02-09T10:58:26.074Z"
   },
   {
    "duration": 93,
    "start_time": "2023-02-09T11:00:37.250Z"
   },
   {
    "duration": 70,
    "start_time": "2023-02-09T11:00:44.530Z"
   },
   {
    "duration": 72,
    "start_time": "2023-02-09T11:00:51.659Z"
   },
   {
    "duration": 506,
    "start_time": "2023-02-10T02:56:28.214Z"
   },
   {
    "duration": 20,
    "start_time": "2023-02-10T02:56:28.723Z"
   },
   {
    "duration": 13,
    "start_time": "2023-02-10T02:56:28.745Z"
   },
   {
    "duration": 8,
    "start_time": "2023-02-10T02:56:28.760Z"
   },
   {
    "duration": 29,
    "start_time": "2023-02-10T02:56:28.769Z"
   },
   {
    "duration": 3,
    "start_time": "2023-02-10T02:56:28.800Z"
   },
   {
    "duration": 34,
    "start_time": "2023-02-10T02:56:28.804Z"
   },
   {
    "duration": 8,
    "start_time": "2023-02-10T02:56:28.839Z"
   },
   {
    "duration": 16,
    "start_time": "2023-02-10T02:56:28.849Z"
   },
   {
    "duration": 20,
    "start_time": "2023-02-10T02:56:28.868Z"
   },
   {
    "duration": 35,
    "start_time": "2023-02-10T02:56:28.890Z"
   },
   {
    "duration": 8,
    "start_time": "2023-02-10T02:56:28.927Z"
   },
   {
    "duration": 10,
    "start_time": "2023-02-10T02:56:28.937Z"
   },
   {
    "duration": 12,
    "start_time": "2023-02-10T02:56:28.949Z"
   },
   {
    "duration": 27,
    "start_time": "2023-02-10T02:56:28.963Z"
   },
   {
    "duration": 15,
    "start_time": "2023-02-10T02:56:28.991Z"
   },
   {
    "duration": 3,
    "start_time": "2023-02-10T02:56:29.008Z"
   },
   {
    "duration": 26,
    "start_time": "2023-02-10T02:56:29.012Z"
   },
   {
    "duration": 8,
    "start_time": "2023-02-10T02:56:29.040Z"
   },
   {
    "duration": 3,
    "start_time": "2023-02-10T02:56:29.049Z"
   },
   {
    "duration": 10,
    "start_time": "2023-02-10T02:56:29.053Z"
   },
   {
    "duration": 13,
    "start_time": "2023-02-10T02:56:29.064Z"
   },
   {
    "duration": 31,
    "start_time": "2023-02-10T02:56:29.079Z"
   },
   {
    "duration": 1220,
    "start_time": "2023-02-10T02:56:29.137Z"
   },
   {
    "duration": 0,
    "start_time": "2023-02-10T02:56:30.359Z"
   },
   {
    "duration": 0,
    "start_time": "2023-02-10T02:56:30.360Z"
   },
   {
    "duration": 0,
    "start_time": "2023-02-10T02:56:30.361Z"
   },
   {
    "duration": 0,
    "start_time": "2023-02-10T02:56:30.362Z"
   },
   {
    "duration": 0,
    "start_time": "2023-02-10T02:56:30.363Z"
   },
   {
    "duration": 0,
    "start_time": "2023-02-10T02:56:30.364Z"
   },
   {
    "duration": 0,
    "start_time": "2023-02-10T02:56:30.365Z"
   },
   {
    "duration": 45,
    "start_time": "2023-02-10T02:56:38.994Z"
   },
   {
    "duration": 29,
    "start_time": "2023-02-10T03:01:01.577Z"
   },
   {
    "duration": 33,
    "start_time": "2023-02-10T03:04:27.146Z"
   },
   {
    "duration": 473,
    "start_time": "2023-02-10T03:32:00.261Z"
   },
   {
    "duration": 21,
    "start_time": "2023-02-10T03:32:00.736Z"
   },
   {
    "duration": 16,
    "start_time": "2023-02-10T03:32:00.759Z"
   },
   {
    "duration": 44,
    "start_time": "2023-02-10T03:32:00.777Z"
   },
   {
    "duration": 49,
    "start_time": "2023-02-10T03:32:00.822Z"
   },
   {
    "duration": 3,
    "start_time": "2023-02-10T03:32:00.873Z"
   },
   {
    "duration": 39,
    "start_time": "2023-02-10T03:32:00.877Z"
   },
   {
    "duration": 36,
    "start_time": "2023-02-10T03:32:00.918Z"
   },
   {
    "duration": 33,
    "start_time": "2023-02-10T03:32:00.956Z"
   },
   {
    "duration": 21,
    "start_time": "2023-02-10T03:32:00.992Z"
   },
   {
    "duration": 47,
    "start_time": "2023-02-10T03:32:01.014Z"
   },
   {
    "duration": 8,
    "start_time": "2023-02-10T03:32:01.063Z"
   },
   {
    "duration": 17,
    "start_time": "2023-02-10T03:32:01.072Z"
   },
   {
    "duration": 14,
    "start_time": "2023-02-10T03:32:01.091Z"
   },
   {
    "duration": 31,
    "start_time": "2023-02-10T03:32:01.107Z"
   },
   {
    "duration": 24,
    "start_time": "2023-02-10T03:32:01.140Z"
   },
   {
    "duration": 4,
    "start_time": "2023-02-10T03:32:01.166Z"
   },
   {
    "duration": 26,
    "start_time": "2023-02-10T03:32:01.172Z"
   },
   {
    "duration": 18,
    "start_time": "2023-02-10T03:32:01.199Z"
   },
   {
    "duration": 8,
    "start_time": "2023-02-10T03:32:01.218Z"
   },
   {
    "duration": 17,
    "start_time": "2023-02-10T03:32:01.227Z"
   },
   {
    "duration": 17,
    "start_time": "2023-02-10T03:32:01.246Z"
   },
   {
    "duration": 46,
    "start_time": "2023-02-10T03:32:01.265Z"
   },
   {
    "duration": 1249,
    "start_time": "2023-02-10T03:32:01.313Z"
   },
   {
    "duration": 0,
    "start_time": "2023-02-10T03:32:02.564Z"
   },
   {
    "duration": 0,
    "start_time": "2023-02-10T03:32:02.565Z"
   },
   {
    "duration": 0,
    "start_time": "2023-02-10T03:32:02.566Z"
   },
   {
    "duration": 0,
    "start_time": "2023-02-10T03:32:02.567Z"
   },
   {
    "duration": 0,
    "start_time": "2023-02-10T03:32:02.568Z"
   },
   {
    "duration": 0,
    "start_time": "2023-02-10T03:32:02.570Z"
   },
   {
    "duration": 0,
    "start_time": "2023-02-10T03:32:02.570Z"
   },
   {
    "duration": 525,
    "start_time": "2023-02-10T03:32:38.036Z"
   },
   {
    "duration": 42,
    "start_time": "2023-02-10T03:32:42.337Z"
   },
   {
    "duration": 137,
    "start_time": "2023-02-10T03:32:44.378Z"
   },
   {
    "duration": 29,
    "start_time": "2023-02-10T03:32:47.967Z"
   },
   {
    "duration": 129,
    "start_time": "2023-02-10T03:32:50.764Z"
   },
   {
    "duration": 46,
    "start_time": "2023-02-10T03:32:53.366Z"
   },
   {
    "duration": 131,
    "start_time": "2023-02-10T03:32:55.300Z"
   },
   {
    "duration": 69,
    "start_time": "2023-02-10T03:41:34.108Z"
   },
   {
    "duration": 9,
    "start_time": "2023-02-10T03:42:16.849Z"
   },
   {
    "duration": 16,
    "start_time": "2023-02-10T03:42:27.158Z"
   },
   {
    "duration": 12,
    "start_time": "2023-02-10T03:43:20.135Z"
   },
   {
    "duration": 13,
    "start_time": "2023-02-10T03:43:39.166Z"
   },
   {
    "duration": 68,
    "start_time": "2023-02-10T03:45:10.360Z"
   },
   {
    "duration": 73,
    "start_time": "2023-02-10T03:45:15.068Z"
   },
   {
    "duration": 71,
    "start_time": "2023-02-10T03:45:38.831Z"
   },
   {
    "duration": 13,
    "start_time": "2023-02-10T03:48:37.282Z"
   },
   {
    "duration": 12,
    "start_time": "2023-02-10T03:49:03.769Z"
   },
   {
    "duration": 86,
    "start_time": "2023-02-10T03:49:39.483Z"
   },
   {
    "duration": 92,
    "start_time": "2023-02-10T03:49:58.557Z"
   },
   {
    "duration": 15,
    "start_time": "2023-02-10T03:50:10.432Z"
   },
   {
    "duration": 13,
    "start_time": "2023-02-10T03:50:39.078Z"
   },
   {
    "duration": 14,
    "start_time": "2023-02-10T03:50:46.358Z"
   },
   {
    "duration": 13,
    "start_time": "2023-02-10T03:51:00.215Z"
   },
   {
    "duration": 16,
    "start_time": "2023-02-10T03:51:12.568Z"
   },
   {
    "duration": 13,
    "start_time": "2023-02-10T03:51:45.275Z"
   },
   {
    "duration": 16,
    "start_time": "2023-02-10T03:52:42.303Z"
   },
   {
    "duration": 14,
    "start_time": "2023-02-10T03:52:49.599Z"
   },
   {
    "duration": 70,
    "start_time": "2023-02-10T03:53:36.387Z"
   },
   {
    "duration": 26,
    "start_time": "2023-02-10T03:53:53.804Z"
   },
   {
    "duration": 24,
    "start_time": "2023-02-10T03:54:17.617Z"
   },
   {
    "duration": 12,
    "start_time": "2023-02-10T03:54:37.223Z"
   },
   {
    "duration": 12,
    "start_time": "2023-02-10T03:55:12.963Z"
   },
   {
    "duration": 17,
    "start_time": "2023-02-10T03:55:17.189Z"
   },
   {
    "duration": 29,
    "start_time": "2023-02-10T03:55:33.792Z"
   },
   {
    "duration": 37,
    "start_time": "2023-02-10T03:59:00.169Z"
   },
   {
    "duration": 43,
    "start_time": "2023-02-10T03:59:19.363Z"
   },
   {
    "duration": 33,
    "start_time": "2023-02-10T03:59:42.002Z"
   },
   {
    "duration": 33,
    "start_time": "2023-02-10T03:59:50.379Z"
   },
   {
    "duration": 70,
    "start_time": "2023-02-10T03:59:56.090Z"
   },
   {
    "duration": 38,
    "start_time": "2023-02-10T04:00:00.213Z"
   },
   {
    "duration": 95,
    "start_time": "2023-02-10T04:00:31.908Z"
   },
   {
    "duration": 70,
    "start_time": "2023-02-10T04:00:35.154Z"
   },
   {
    "duration": 470,
    "start_time": "2023-02-10T04:00:56.826Z"
   },
   {
    "duration": 21,
    "start_time": "2023-02-10T04:00:57.298Z"
   },
   {
    "duration": 23,
    "start_time": "2023-02-10T04:00:57.321Z"
   },
   {
    "duration": 12,
    "start_time": "2023-02-10T04:00:57.347Z"
   },
   {
    "duration": 46,
    "start_time": "2023-02-10T04:00:57.361Z"
   },
   {
    "duration": 4,
    "start_time": "2023-02-10T04:00:57.409Z"
   },
   {
    "duration": 27,
    "start_time": "2023-02-10T04:00:57.414Z"
   },
   {
    "duration": 4,
    "start_time": "2023-02-10T04:00:57.443Z"
   },
   {
    "duration": 9,
    "start_time": "2023-02-10T04:00:57.448Z"
   },
   {
    "duration": 4,
    "start_time": "2023-02-10T04:00:57.459Z"
   },
   {
    "duration": 59,
    "start_time": "2023-02-10T04:00:57.464Z"
   },
   {
    "duration": 9,
    "start_time": "2023-02-10T04:00:57.524Z"
   },
   {
    "duration": 6,
    "start_time": "2023-02-10T04:00:57.536Z"
   },
   {
    "duration": 12,
    "start_time": "2023-02-10T04:00:57.543Z"
   },
   {
    "duration": 17,
    "start_time": "2023-02-10T04:00:57.556Z"
   },
   {
    "duration": 14,
    "start_time": "2023-02-10T04:00:57.575Z"
   },
   {
    "duration": 3,
    "start_time": "2023-02-10T04:00:57.590Z"
   },
   {
    "duration": 42,
    "start_time": "2023-02-10T04:00:57.595Z"
   },
   {
    "duration": 5,
    "start_time": "2023-02-10T04:00:57.639Z"
   },
   {
    "duration": 17,
    "start_time": "2023-02-10T04:00:57.645Z"
   },
   {
    "duration": 10,
    "start_time": "2023-02-10T04:00:57.664Z"
   },
   {
    "duration": 12,
    "start_time": "2023-02-10T04:00:57.676Z"
   },
   {
    "duration": 30,
    "start_time": "2023-02-10T04:00:57.690Z"
   },
   {
    "duration": 77,
    "start_time": "2023-02-10T04:00:57.736Z"
   },
   {
    "duration": 0,
    "start_time": "2023-02-10T04:00:57.814Z"
   },
   {
    "duration": 0,
    "start_time": "2023-02-10T04:00:57.816Z"
   },
   {
    "duration": 0,
    "start_time": "2023-02-10T04:00:57.817Z"
   },
   {
    "duration": 0,
    "start_time": "2023-02-10T04:00:57.819Z"
   },
   {
    "duration": 0,
    "start_time": "2023-02-10T04:00:57.820Z"
   },
   {
    "duration": 0,
    "start_time": "2023-02-10T04:00:57.822Z"
   },
   {
    "duration": 0,
    "start_time": "2023-02-10T04:00:57.823Z"
   },
   {
    "duration": 0,
    "start_time": "2023-02-10T04:00:57.824Z"
   },
   {
    "duration": 72,
    "start_time": "2023-02-10T04:01:08.559Z"
   },
   {
    "duration": 50,
    "start_time": "2023-02-10T04:02:59.962Z"
   },
   {
    "duration": 482,
    "start_time": "2023-02-10T04:11:57.609Z"
   },
   {
    "duration": 24,
    "start_time": "2023-02-10T04:11:58.093Z"
   },
   {
    "duration": 23,
    "start_time": "2023-02-10T04:11:58.118Z"
   },
   {
    "duration": 10,
    "start_time": "2023-02-10T04:11:58.143Z"
   },
   {
    "duration": 32,
    "start_time": "2023-02-10T04:11:58.155Z"
   },
   {
    "duration": 4,
    "start_time": "2023-02-10T04:11:58.189Z"
   },
   {
    "duration": 42,
    "start_time": "2023-02-10T04:11:58.195Z"
   },
   {
    "duration": 5,
    "start_time": "2023-02-10T04:11:58.239Z"
   },
   {
    "duration": 8,
    "start_time": "2023-02-10T04:11:58.246Z"
   },
   {
    "duration": 5,
    "start_time": "2023-02-10T04:11:58.256Z"
   },
   {
    "duration": 32,
    "start_time": "2023-02-10T04:11:58.263Z"
   },
   {
    "duration": 45,
    "start_time": "2023-02-10T04:11:58.297Z"
   },
   {
    "duration": 4,
    "start_time": "2023-02-10T04:11:58.343Z"
   },
   {
    "duration": 15,
    "start_time": "2023-02-10T04:11:58.350Z"
   },
   {
    "duration": 23,
    "start_time": "2023-02-10T04:11:58.367Z"
   },
   {
    "duration": 46,
    "start_time": "2023-02-10T04:11:58.391Z"
   },
   {
    "duration": 4,
    "start_time": "2023-02-10T04:11:58.439Z"
   },
   {
    "duration": 18,
    "start_time": "2023-02-10T04:11:58.445Z"
   },
   {
    "duration": 13,
    "start_time": "2023-02-10T04:11:58.465Z"
   },
   {
    "duration": 21,
    "start_time": "2023-02-10T04:11:58.480Z"
   },
   {
    "duration": 16,
    "start_time": "2023-02-10T04:11:58.502Z"
   },
   {
    "duration": 31,
    "start_time": "2023-02-10T04:11:58.520Z"
   },
   {
    "duration": 34,
    "start_time": "2023-02-10T04:11:58.553Z"
   },
   {
    "duration": 55,
    "start_time": "2023-02-10T04:11:58.589Z"
   },
   {
    "duration": 1427,
    "start_time": "2023-02-10T04:11:58.646Z"
   },
   {
    "duration": 0,
    "start_time": "2023-02-10T04:12:00.075Z"
   },
   {
    "duration": 0,
    "start_time": "2023-02-10T04:12:00.077Z"
   },
   {
    "duration": 0,
    "start_time": "2023-02-10T04:12:00.078Z"
   },
   {
    "duration": 0,
    "start_time": "2023-02-10T04:12:00.080Z"
   },
   {
    "duration": 0,
    "start_time": "2023-02-10T04:12:00.081Z"
   },
   {
    "duration": 0,
    "start_time": "2023-02-10T04:12:00.082Z"
   },
   {
    "duration": 421,
    "start_time": "2023-02-10T04:12:10.791Z"
   },
   {
    "duration": 22,
    "start_time": "2023-02-10T04:12:11.213Z"
   },
   {
    "duration": 14,
    "start_time": "2023-02-10T04:12:11.237Z"
   },
   {
    "duration": 9,
    "start_time": "2023-02-10T04:12:11.253Z"
   },
   {
    "duration": 41,
    "start_time": "2023-02-10T04:12:11.264Z"
   },
   {
    "duration": 3,
    "start_time": "2023-02-10T04:12:11.307Z"
   },
   {
    "duration": 8,
    "start_time": "2023-02-10T04:12:11.337Z"
   },
   {
    "duration": 4,
    "start_time": "2023-02-10T04:12:11.347Z"
   },
   {
    "duration": 10,
    "start_time": "2023-02-10T04:12:11.352Z"
   },
   {
    "duration": 6,
    "start_time": "2023-02-10T04:12:11.364Z"
   },
   {
    "duration": 75,
    "start_time": "2023-02-10T04:12:11.372Z"
   },
   {
    "duration": 10,
    "start_time": "2023-02-10T04:12:11.449Z"
   },
   {
    "duration": 8,
    "start_time": "2023-02-10T04:12:11.460Z"
   },
   {
    "duration": 15,
    "start_time": "2023-02-10T04:12:11.470Z"
   },
   {
    "duration": 21,
    "start_time": "2023-02-10T04:12:11.486Z"
   },
   {
    "duration": 39,
    "start_time": "2023-02-10T04:12:11.508Z"
   },
   {
    "duration": 4,
    "start_time": "2023-02-10T04:12:11.548Z"
   },
   {
    "duration": 14,
    "start_time": "2023-02-10T04:12:11.553Z"
   },
   {
    "duration": 14,
    "start_time": "2023-02-10T04:12:11.568Z"
   },
   {
    "duration": 3,
    "start_time": "2023-02-10T04:12:11.584Z"
   },
   {
    "duration": 48,
    "start_time": "2023-02-10T04:12:11.589Z"
   },
   {
    "duration": 22,
    "start_time": "2023-02-10T04:12:11.639Z"
   },
   {
    "duration": 47,
    "start_time": "2023-02-10T04:12:11.664Z"
   },
   {
    "duration": 72,
    "start_time": "2023-02-10T04:12:11.713Z"
   },
   {
    "duration": 1464,
    "start_time": "2023-02-10T04:12:11.787Z"
   },
   {
    "duration": 0,
    "start_time": "2023-02-10T04:12:13.253Z"
   },
   {
    "duration": 0,
    "start_time": "2023-02-10T04:12:13.254Z"
   },
   {
    "duration": 0,
    "start_time": "2023-02-10T04:12:13.256Z"
   },
   {
    "duration": 0,
    "start_time": "2023-02-10T04:12:13.256Z"
   },
   {
    "duration": 0,
    "start_time": "2023-02-10T04:12:13.258Z"
   },
   {
    "duration": 0,
    "start_time": "2023-02-10T04:12:13.259Z"
   },
   {
    "duration": 1081,
    "start_time": "2023-02-10T04:13:00.720Z"
   },
   {
    "duration": 1072,
    "start_time": "2023-02-10T04:13:07.580Z"
   },
   {
    "duration": 1133,
    "start_time": "2023-02-10T04:13:21.771Z"
   },
   {
    "duration": 10,
    "start_time": "2023-02-10T04:13:33.675Z"
   },
   {
    "duration": 32,
    "start_time": "2023-02-10T04:13:46.588Z"
   },
   {
    "duration": 139,
    "start_time": "2023-02-10T04:13:48.214Z"
   },
   {
    "duration": 29,
    "start_time": "2023-02-10T04:13:51.225Z"
   },
   {
    "duration": 165,
    "start_time": "2023-02-10T04:13:52.903Z"
   },
   {
    "duration": 34,
    "start_time": "2023-02-10T04:13:55.909Z"
   },
   {
    "duration": 126,
    "start_time": "2023-02-10T04:13:58.595Z"
   },
   {
    "duration": 37,
    "start_time": "2023-02-10T04:14:16.540Z"
   },
   {
    "duration": 33,
    "start_time": "2023-02-10T04:14:45.904Z"
   },
   {
    "duration": 35,
    "start_time": "2023-02-10T04:14:57.833Z"
   },
   {
    "duration": 107,
    "start_time": "2023-02-10T04:15:00.702Z"
   },
   {
    "duration": 103,
    "start_time": "2023-02-10T04:15:05.021Z"
   },
   {
    "duration": 102,
    "start_time": "2023-02-10T04:15:11.302Z"
   },
   {
    "duration": 63,
    "start_time": "2023-02-10T10:53:28.720Z"
   },
   {
    "duration": 797,
    "start_time": "2023-02-10T10:53:41.075Z"
   },
   {
    "duration": 47,
    "start_time": "2023-02-10T10:53:41.874Z"
   },
   {
    "duration": 40,
    "start_time": "2023-02-10T10:53:41.924Z"
   },
   {
    "duration": 16,
    "start_time": "2023-02-10T10:53:41.966Z"
   },
   {
    "duration": 61,
    "start_time": "2023-02-10T10:53:41.984Z"
   },
   {
    "duration": 36,
    "start_time": "2023-02-10T10:53:42.047Z"
   },
   {
    "duration": 56,
    "start_time": "2023-02-10T10:53:42.085Z"
   },
   {
    "duration": 5,
    "start_time": "2023-02-10T10:53:42.143Z"
   },
   {
    "duration": 10,
    "start_time": "2023-02-10T10:53:42.150Z"
   },
   {
    "duration": 4,
    "start_time": "2023-02-10T10:53:42.165Z"
   },
   {
    "duration": 64,
    "start_time": "2023-02-10T10:53:42.171Z"
   },
   {
    "duration": 10,
    "start_time": "2023-02-10T10:53:42.237Z"
   },
   {
    "duration": 10,
    "start_time": "2023-02-10T10:53:42.248Z"
   },
   {
    "duration": 16,
    "start_time": "2023-02-10T10:53:42.260Z"
   },
   {
    "duration": 39,
    "start_time": "2023-02-10T10:53:42.277Z"
   },
   {
    "duration": 24,
    "start_time": "2023-02-10T10:53:42.318Z"
   },
   {
    "duration": 4,
    "start_time": "2023-02-10T10:53:42.343Z"
   },
   {
    "duration": 18,
    "start_time": "2023-02-10T10:53:42.349Z"
   },
   {
    "duration": 9,
    "start_time": "2023-02-10T10:53:42.368Z"
   },
   {
    "duration": 8,
    "start_time": "2023-02-10T10:53:42.379Z"
   },
   {
    "duration": 51,
    "start_time": "2023-02-10T10:53:42.388Z"
   },
   {
    "duration": 18,
    "start_time": "2023-02-10T10:53:42.441Z"
   },
   {
    "duration": 52,
    "start_time": "2023-02-10T10:53:42.460Z"
   },
   {
    "duration": 39,
    "start_time": "2023-02-10T10:53:42.514Z"
   },
   {
    "duration": 371,
    "start_time": "2023-02-10T10:53:42.555Z"
   },
   {
    "duration": 45,
    "start_time": "2023-02-10T10:53:42.929Z"
   },
   {
    "duration": 169,
    "start_time": "2023-02-10T10:53:42.976Z"
   },
   {
    "duration": 51,
    "start_time": "2023-02-10T10:53:43.148Z"
   },
   {
    "duration": 181,
    "start_time": "2023-02-10T10:53:43.205Z"
   },
   {
    "duration": 50,
    "start_time": "2023-02-10T10:53:43.388Z"
   },
   {
    "duration": 182,
    "start_time": "2023-02-10T10:53:43.440Z"
   },
   {
    "duration": 53,
    "start_time": "2023-02-10T10:54:03.055Z"
   },
   {
    "duration": 47,
    "start_time": "2023-02-10T10:54:08.131Z"
   },
   {
    "duration": 20,
    "start_time": "2023-02-10T10:54:13.737Z"
   },
   {
    "duration": 33,
    "start_time": "2023-02-10T10:54:22.683Z"
   },
   {
    "duration": 100,
    "start_time": "2023-02-10T10:54:41.920Z"
   },
   {
    "duration": 28,
    "start_time": "2023-02-10T10:54:51.962Z"
   },
   {
    "duration": 25,
    "start_time": "2023-02-10T10:55:03.161Z"
   },
   {
    "duration": 99,
    "start_time": "2023-02-10T10:57:32.143Z"
   },
   {
    "duration": 47,
    "start_time": "2023-02-10T10:57:54.917Z"
   },
   {
    "duration": 85,
    "start_time": "2023-02-10T10:58:46.448Z"
   },
   {
    "duration": 67,
    "start_time": "2023-05-18T11:43:33.686Z"
   },
   {
    "duration": 1130,
    "start_time": "2023-05-18T11:55:13.314Z"
   },
   {
    "duration": 21,
    "start_time": "2023-05-18T11:55:14.447Z"
   },
   {
    "duration": 21,
    "start_time": "2023-05-18T11:55:14.470Z"
   },
   {
    "duration": 17,
    "start_time": "2023-05-18T11:55:14.492Z"
   },
   {
    "duration": 43,
    "start_time": "2023-05-18T11:55:14.515Z"
   },
   {
    "duration": 3,
    "start_time": "2023-05-18T11:55:14.560Z"
   },
   {
    "duration": 10,
    "start_time": "2023-05-18T11:55:14.565Z"
   },
   {
    "duration": 4,
    "start_time": "2023-05-18T11:55:14.577Z"
   },
   {
    "duration": 7,
    "start_time": "2023-05-18T11:55:14.582Z"
   },
   {
    "duration": 10,
    "start_time": "2023-05-18T11:55:14.604Z"
   },
   {
    "duration": 43,
    "start_time": "2023-05-18T11:55:14.616Z"
   },
   {
    "duration": 9,
    "start_time": "2023-05-18T11:55:14.661Z"
   },
   {
    "duration": 4,
    "start_time": "2023-05-18T11:55:14.671Z"
   },
   {
    "duration": 12,
    "start_time": "2023-05-18T11:55:14.678Z"
   },
   {
    "duration": 27,
    "start_time": "2023-05-18T11:55:14.692Z"
   },
   {
    "duration": 14,
    "start_time": "2023-05-18T11:55:14.721Z"
   },
   {
    "duration": 4,
    "start_time": "2023-05-18T11:55:14.737Z"
   },
   {
    "duration": 42,
    "start_time": "2023-05-18T11:55:14.743Z"
   },
   {
    "duration": 26,
    "start_time": "2023-05-18T11:55:14.787Z"
   },
   {
    "duration": 24,
    "start_time": "2023-05-18T11:55:14.815Z"
   },
   {
    "duration": 10,
    "start_time": "2023-05-18T11:55:14.841Z"
   },
   {
    "duration": 17,
    "start_time": "2023-05-18T11:55:14.853Z"
   },
   {
    "duration": 41,
    "start_time": "2023-05-18T11:55:14.871Z"
   },
   {
    "duration": 27,
    "start_time": "2023-05-18T11:55:14.914Z"
   },
   {
    "duration": 42,
    "start_time": "2023-05-18T11:55:14.943Z"
   },
   {
    "duration": 594,
    "start_time": "2023-05-18T11:55:14.987Z"
   },
   {
    "duration": 38,
    "start_time": "2023-05-18T11:55:15.583Z"
   },
   {
    "duration": 155,
    "start_time": "2023-05-18T11:55:15.623Z"
   },
   {
    "duration": 39,
    "start_time": "2023-05-18T11:55:15.779Z"
   },
   {
    "duration": 163,
    "start_time": "2023-05-18T11:55:15.821Z"
   },
   {
    "duration": 43,
    "start_time": "2023-05-18T11:55:15.986Z"
   },
   {
    "duration": 144,
    "start_time": "2023-05-18T11:55:16.031Z"
   }
  ],
  "colab": {
   "name": "dpp_template_part2.ipynb",
   "provenance": []
  },
  "kernelspec": {
   "display_name": "Python 3 (ipykernel)",
   "language": "python",
   "name": "python3"
  },
  "language_info": {
   "codemirror_mode": {
    "name": "ipython",
    "version": 3
   },
   "file_extension": ".py",
   "mimetype": "text/x-python",
   "name": "python",
   "nbconvert_exporter": "python",
   "pygments_lexer": "ipython3",
   "version": "3.10.9"
  },
  "toc": {
   "base_numbering": 1,
   "nav_menu": {
    "height": "184px",
    "width": "238px"
   },
   "number_sections": true,
   "sideBar": true,
   "skip_h1_title": true,
   "title_cell": "",
   "title_sidebar": "Содержание",
   "toc_cell": false,
   "toc_position": {
    "height": "calc(100% - 180px)",
    "left": "10px",
    "top": "150px",
    "width": "318.188px"
   },
   "toc_section_display": true,
   "toc_window_display": false
  }
 },
 "nbformat": 4,
 "nbformat_minor": 5
}
