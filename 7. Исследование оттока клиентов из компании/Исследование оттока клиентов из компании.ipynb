{
 "cells": [
  {
   "cell_type": "markdown",
   "metadata": {},
   "source": [
    "# Исследование оттока клиентов из компании \"Бета-Банк\""
   ]
  },
  {
   "cell_type": "markdown",
   "metadata": {
    "toc": true
   },
   "source": [
    "<h1>Содержание<span class=\"tocSkip\"></span></h1>\n",
    "<div class=\"toc\"><ul class=\"toc-item\"><li><span><a href=\"#Анализ-и-подготовка-данных\" data-toc-modified-id=\"Анализ-и-подготовка-данных-1\"><span class=\"toc-item-num\">1&nbsp;&nbsp;</span>Анализ и подготовка данных</a></span><ul class=\"toc-item\"><li><span><a href=\"#Импортирование-библиотек\" data-toc-modified-id=\"Импортирование-библиотек-1.1\"><span class=\"toc-item-num\">1.1&nbsp;&nbsp;</span>Импортирование библиотек</a></span></li><li><span><a href=\"#Загрузка-датасета-и-первичный-анализ-данных\" data-toc-modified-id=\"Загрузка-датасета-и-первичный-анализ-данных-1.2\"><span class=\"toc-item-num\">1.2&nbsp;&nbsp;</span>Загрузка датасета и первичный анализ данных</a></span></li><li><span><a href=\"#Предобработка-данных\" data-toc-modified-id=\"Предобработка-данных-1.3\"><span class=\"toc-item-num\">1.3&nbsp;&nbsp;</span>Предобработка данных</a></span></li><li><span><a href=\"#Вывод-по-блоку-Анализ-и-подготовка-данных.\" data-toc-modified-id=\"Вывод-по-блоку-Анализ-и-подготовка-данных.-1.4\"><span class=\"toc-item-num\">1.4&nbsp;&nbsp;</span><strong>Вывод по блоку Анализ и подготовка данных</strong>.</a></span></li></ul></li><li><span><a href=\"#Исследование-задачи\" data-toc-modified-id=\"Исследование-задачи-2\"><span class=\"toc-item-num\">2&nbsp;&nbsp;</span>Исследование задачи</a></span><ul class=\"toc-item\"><li><span><a href=\"#Исследование-балансов-классов\" data-toc-modified-id=\"Исследование-балансов-классов-2.1\"><span class=\"toc-item-num\">2.1&nbsp;&nbsp;</span>Исследование балансов классов</a></span></li><li><span><a href=\"#Разделение-датафрейма\" data-toc-modified-id=\"Разделение-датафрейма-2.2\"><span class=\"toc-item-num\">2.2&nbsp;&nbsp;</span>Разделение датафрейма</a></span></li><li><span><a href=\"#Тестирование-моделей-без-учета-дисбаланса-классов\" data-toc-modified-id=\"Тестирование-моделей-без-учета-дисбаланса-классов-2.3\"><span class=\"toc-item-num\">2.3&nbsp;&nbsp;</span>Тестирование моделей без учета дисбаланса классов</a></span><ul class=\"toc-item\"><li><span><a href=\"#DecisionTreeClassifier---модель-обученная-по-алгоритму-решающего-дерева\" data-toc-modified-id=\"DecisionTreeClassifier---модель-обученная-по-алгоритму-решающего-дерева-2.3.1\"><span class=\"toc-item-num\">2.3.1&nbsp;&nbsp;</span><code>DecisionTreeClassifier</code> - модель обученная по алгоритму решающего дерева</a></span></li><li><span><a href=\"#RandomForestClassifier---модель-обученная-по-алгоритму-случайного-леса\" data-toc-modified-id=\"RandomForestClassifier---модель-обученная-по-алгоритму-случайного-леса-2.3.2\"><span class=\"toc-item-num\">2.3.2&nbsp;&nbsp;</span><code>RandomForestClassifier</code> - модель обученная по алгоритму случайного леса</a></span></li><li><span><a href=\"#LogisticRegression---модель-обученная-по-алгоритму-логистической-регрессии\" data-toc-modified-id=\"LogisticRegression---модель-обученная-по-алгоритму-логистической-регрессии-2.3.3\"><span class=\"toc-item-num\">2.3.3&nbsp;&nbsp;</span><code>LogisticRegression</code> - модель обученная по алгоритму логистической регрессии</a></span></li></ul></li><li><span><a href=\"#Вывод-по-блоку-Исследование-задачи\" data-toc-modified-id=\"Вывод-по-блоку-Исследование-задачи-2.4\"><span class=\"toc-item-num\">2.4&nbsp;&nbsp;</span><strong>Вывод по блоку Исследование задачи</strong></a></span></li></ul></li><li><span><a href=\"#Учет-дисбаланса-классов\" data-toc-modified-id=\"Учет-дисбаланса-классов-3\"><span class=\"toc-item-num\">3&nbsp;&nbsp;</span>Учет дисбаланса классов</a></span><ul class=\"toc-item\"><li><span><a href=\"#Взвешивание-классов-методом-class_weight\" data-toc-modified-id=\"Взвешивание-классов-методом-class_weight-3.1\"><span class=\"toc-item-num\">3.1&nbsp;&nbsp;</span>Взвешивание классов методом <code>class_weight</code></a></span></li><li><span><a href=\"#Увеличение-выборки---upsampling\" data-toc-modified-id=\"Увеличение-выборки---upsampling-3.2\"><span class=\"toc-item-num\">3.2&nbsp;&nbsp;</span>Увеличение выборки - upsampling</a></span></li><li><span><a href=\"#Уменьшение-выборки---downsampling\" data-toc-modified-id=\"Уменьшение-выборки---downsampling-3.3\"><span class=\"toc-item-num\">3.3&nbsp;&nbsp;</span>Уменьшение выборки - downsampling</a></span></li><li><span><a href=\"#Изменение-порога-классификации-методом-predict_proba\" data-toc-modified-id=\"Изменение-порога-классификации-методом-predict_proba-3.4\"><span class=\"toc-item-num\">3.4&nbsp;&nbsp;</span>Изменение порога классификации методом <code>predict_proba</code></a></span></li><li><span><a href=\"#Вывод-по-блоку-Учет-дисбаланса-классов\" data-toc-modified-id=\"Вывод-по-блоку-Учет-дисбаланса-классов-3.5\"><span class=\"toc-item-num\">3.5&nbsp;&nbsp;</span><strong>Вывод по блоку Учет дисбаланса классов</strong></a></span></li></ul></li><li><span><a href=\"#Тестирование-модели\" data-toc-modified-id=\"Тестирование-модели-4\"><span class=\"toc-item-num\">4&nbsp;&nbsp;</span>Тестирование модели</a></span><ul class=\"toc-item\"><li><span><a href=\"#Финальное-тестирование-модели\" data-toc-modified-id=\"Финальное-тестирование-модели-4.1\"><span class=\"toc-item-num\">4.1&nbsp;&nbsp;</span>Финальное тестирование модели</a></span></li><li><span><a href=\"#Определение-метрики-AUC-ROC\" data-toc-modified-id=\"Определение-метрики-AUC-ROC-4.2\"><span class=\"toc-item-num\">4.2&nbsp;&nbsp;</span>Определение метрики AUC-ROC</a></span></li><li><span><a href=\"#Вывод-по-блоку-&quot;Тестирование-модели&quot;\" data-toc-modified-id=\"Вывод-по-блоку-&quot;Тестирование-модели&quot;-4.3\"><span class=\"toc-item-num\">4.3&nbsp;&nbsp;</span>Вывод по блоку \"Тестирование модели\"</a></span></li></ul></li><li><span><a href=\"#Общий-вывод.\" data-toc-modified-id=\"Общий-вывод.-5\"><span class=\"toc-item-num\">5&nbsp;&nbsp;</span>Общий вывод.</a></span></li><li><span><a href=\"#Чек-лист-готовности-проекта\" data-toc-modified-id=\"Чек-лист-готовности-проекта-6\"><span class=\"toc-item-num\">6&nbsp;&nbsp;</span>Чек-лист готовности проекта</a></span></li></ul></div>"
   ]
  },
  {
   "cell_type": "markdown",
   "metadata": {},
   "source": [
    "**Описание проекта**\n",
    "\n",
    "Из «Бета-Банка» стали уходить клиенты. Каждый месяц. Немного, но заметно. Банковские маркетологи посчитали: сохранять текущих клиентов дешевле, чем привлекать новых."
   ]
  },
  {
   "cell_type": "markdown",
   "metadata": {},
   "source": [
    "**Цель проекта:**\n",
    "\n",
    "На основе предоставленных исторических данных о поведении клиентов и расторжении договоров с банком, необходимо построить модель, которая будет прогнозировать, уйдет клиент из банка из банка в ближайшее время или нет. \n",
    "\n",
    "При прогнозировании значение метрики F1 должно быть не ниже 0.59.\n",
    "\n",
    "Дополнительно необходимо измерить AUC-ROC и сравнить её значения с F1-мерой."
   ]
  },
  {
   "cell_type": "markdown",
   "metadata": {},
   "source": [
    "## Анализ и подготовка данных\n",
    "\n",
    "Первым важным шагом в проекте является анализ данных на основе которых происходит первичное формирование необходимых действий для предобработки данных.\n",
    "\n",
    "В рамках данного блока произведены следующие действия:\n",
    "1. Импортированы необходимые для работы библиотеки;\n",
    "2. Проведена загрузка датасета и сделан первичный анализ данных;\n",
    "3. Выполнены процедуры по предобработке данных;\n",
    "4. Сформулированы общие выводы по блоку."
   ]
  },
  {
   "cell_type": "markdown",
   "metadata": {},
   "source": [
    "### Импортирование библиотек\n",
    "\n",
    "В данной части были импортированы необходимые для работы библиотеки."
   ]
  },
  {
   "cell_type": "code",
   "execution_count": 1,
   "metadata": {},
   "outputs": [],
   "source": [
    "import pandas as pd\n",
    "import numpy as np\n",
    "import matplotlib.pyplot as plt\n",
    "\n",
    "from tqdm import tqdm\n",
    "from sklearn.tree import DecisionTreeClassifier\n",
    "from sklearn.ensemble import RandomForestClassifier\n",
    "from sklearn.linear_model import LogisticRegression\n",
    "from sklearn.preprocessing import StandardScaler\n",
    "from sklearn.model_selection import train_test_split\n",
    "from sklearn.metrics import accuracy_score, f1_score, roc_auc_score, classification_report, roc_curve \n",
    "from sklearn.utils import shuffle"
   ]
  },
  {
   "cell_type": "markdown",
   "metadata": {},
   "source": [
    "### Загрузка датасета и первичный анализ данных\n",
    "\n",
    "Проведем загрузку датасета и рассмотрим данные более детально"
   ]
  },
  {
   "cell_type": "code",
   "execution_count": 2,
   "metadata": {
    "scrolled": false
   },
   "outputs": [
    {
     "data": {
      "text/html": [
       "<div>\n",
       "<style scoped>\n",
       "    .dataframe tbody tr th:only-of-type {\n",
       "        vertical-align: middle;\n",
       "    }\n",
       "\n",
       "    .dataframe tbody tr th {\n",
       "        vertical-align: top;\n",
       "    }\n",
       "\n",
       "    .dataframe thead th {\n",
       "        text-align: right;\n",
       "    }\n",
       "</style>\n",
       "<table border=\"1\" class=\"dataframe\">\n",
       "  <thead>\n",
       "    <tr style=\"text-align: right;\">\n",
       "      <th></th>\n",
       "      <th>RowNumber</th>\n",
       "      <th>CustomerId</th>\n",
       "      <th>Surname</th>\n",
       "      <th>CreditScore</th>\n",
       "      <th>Geography</th>\n",
       "      <th>Gender</th>\n",
       "      <th>Age</th>\n",
       "      <th>Tenure</th>\n",
       "      <th>Balance</th>\n",
       "      <th>NumOfProducts</th>\n",
       "      <th>HasCrCard</th>\n",
       "      <th>IsActiveMember</th>\n",
       "      <th>EstimatedSalary</th>\n",
       "      <th>Exited</th>\n",
       "    </tr>\n",
       "  </thead>\n",
       "  <tbody>\n",
       "    <tr>\n",
       "      <th>0</th>\n",
       "      <td>1</td>\n",
       "      <td>15634602</td>\n",
       "      <td>Hargrave</td>\n",
       "      <td>619</td>\n",
       "      <td>France</td>\n",
       "      <td>Female</td>\n",
       "      <td>42</td>\n",
       "      <td>2.0</td>\n",
       "      <td>0.00</td>\n",
       "      <td>1</td>\n",
       "      <td>1</td>\n",
       "      <td>1</td>\n",
       "      <td>101348.88</td>\n",
       "      <td>1</td>\n",
       "    </tr>\n",
       "    <tr>\n",
       "      <th>1</th>\n",
       "      <td>2</td>\n",
       "      <td>15647311</td>\n",
       "      <td>Hill</td>\n",
       "      <td>608</td>\n",
       "      <td>Spain</td>\n",
       "      <td>Female</td>\n",
       "      <td>41</td>\n",
       "      <td>1.0</td>\n",
       "      <td>83807.86</td>\n",
       "      <td>1</td>\n",
       "      <td>0</td>\n",
       "      <td>1</td>\n",
       "      <td>112542.58</td>\n",
       "      <td>0</td>\n",
       "    </tr>\n",
       "    <tr>\n",
       "      <th>2</th>\n",
       "      <td>3</td>\n",
       "      <td>15619304</td>\n",
       "      <td>Onio</td>\n",
       "      <td>502</td>\n",
       "      <td>France</td>\n",
       "      <td>Female</td>\n",
       "      <td>42</td>\n",
       "      <td>8.0</td>\n",
       "      <td>159660.80</td>\n",
       "      <td>3</td>\n",
       "      <td>1</td>\n",
       "      <td>0</td>\n",
       "      <td>113931.57</td>\n",
       "      <td>1</td>\n",
       "    </tr>\n",
       "    <tr>\n",
       "      <th>3</th>\n",
       "      <td>4</td>\n",
       "      <td>15701354</td>\n",
       "      <td>Boni</td>\n",
       "      <td>699</td>\n",
       "      <td>France</td>\n",
       "      <td>Female</td>\n",
       "      <td>39</td>\n",
       "      <td>1.0</td>\n",
       "      <td>0.00</td>\n",
       "      <td>2</td>\n",
       "      <td>0</td>\n",
       "      <td>0</td>\n",
       "      <td>93826.63</td>\n",
       "      <td>0</td>\n",
       "    </tr>\n",
       "    <tr>\n",
       "      <th>4</th>\n",
       "      <td>5</td>\n",
       "      <td>15737888</td>\n",
       "      <td>Mitchell</td>\n",
       "      <td>850</td>\n",
       "      <td>Spain</td>\n",
       "      <td>Female</td>\n",
       "      <td>43</td>\n",
       "      <td>2.0</td>\n",
       "      <td>125510.82</td>\n",
       "      <td>1</td>\n",
       "      <td>1</td>\n",
       "      <td>1</td>\n",
       "      <td>79084.10</td>\n",
       "      <td>0</td>\n",
       "    </tr>\n",
       "    <tr>\n",
       "      <th>5</th>\n",
       "      <td>6</td>\n",
       "      <td>15574012</td>\n",
       "      <td>Chu</td>\n",
       "      <td>645</td>\n",
       "      <td>Spain</td>\n",
       "      <td>Male</td>\n",
       "      <td>44</td>\n",
       "      <td>8.0</td>\n",
       "      <td>113755.78</td>\n",
       "      <td>2</td>\n",
       "      <td>1</td>\n",
       "      <td>0</td>\n",
       "      <td>149756.71</td>\n",
       "      <td>1</td>\n",
       "    </tr>\n",
       "    <tr>\n",
       "      <th>6</th>\n",
       "      <td>7</td>\n",
       "      <td>15592531</td>\n",
       "      <td>Bartlett</td>\n",
       "      <td>822</td>\n",
       "      <td>France</td>\n",
       "      <td>Male</td>\n",
       "      <td>50</td>\n",
       "      <td>7.0</td>\n",
       "      <td>0.00</td>\n",
       "      <td>2</td>\n",
       "      <td>1</td>\n",
       "      <td>1</td>\n",
       "      <td>10062.80</td>\n",
       "      <td>0</td>\n",
       "    </tr>\n",
       "    <tr>\n",
       "      <th>7</th>\n",
       "      <td>8</td>\n",
       "      <td>15656148</td>\n",
       "      <td>Obinna</td>\n",
       "      <td>376</td>\n",
       "      <td>Germany</td>\n",
       "      <td>Female</td>\n",
       "      <td>29</td>\n",
       "      <td>4.0</td>\n",
       "      <td>115046.74</td>\n",
       "      <td>4</td>\n",
       "      <td>1</td>\n",
       "      <td>0</td>\n",
       "      <td>119346.88</td>\n",
       "      <td>1</td>\n",
       "    </tr>\n",
       "    <tr>\n",
       "      <th>8</th>\n",
       "      <td>9</td>\n",
       "      <td>15792365</td>\n",
       "      <td>He</td>\n",
       "      <td>501</td>\n",
       "      <td>France</td>\n",
       "      <td>Male</td>\n",
       "      <td>44</td>\n",
       "      <td>4.0</td>\n",
       "      <td>142051.07</td>\n",
       "      <td>2</td>\n",
       "      <td>0</td>\n",
       "      <td>1</td>\n",
       "      <td>74940.50</td>\n",
       "      <td>0</td>\n",
       "    </tr>\n",
       "    <tr>\n",
       "      <th>9</th>\n",
       "      <td>10</td>\n",
       "      <td>15592389</td>\n",
       "      <td>H?</td>\n",
       "      <td>684</td>\n",
       "      <td>France</td>\n",
       "      <td>Male</td>\n",
       "      <td>27</td>\n",
       "      <td>2.0</td>\n",
       "      <td>134603.88</td>\n",
       "      <td>1</td>\n",
       "      <td>1</td>\n",
       "      <td>1</td>\n",
       "      <td>71725.73</td>\n",
       "      <td>0</td>\n",
       "    </tr>\n",
       "    <tr>\n",
       "      <th>10</th>\n",
       "      <td>11</td>\n",
       "      <td>15767821</td>\n",
       "      <td>Bearce</td>\n",
       "      <td>528</td>\n",
       "      <td>France</td>\n",
       "      <td>Male</td>\n",
       "      <td>31</td>\n",
       "      <td>6.0</td>\n",
       "      <td>102016.72</td>\n",
       "      <td>2</td>\n",
       "      <td>0</td>\n",
       "      <td>0</td>\n",
       "      <td>80181.12</td>\n",
       "      <td>0</td>\n",
       "    </tr>\n",
       "    <tr>\n",
       "      <th>11</th>\n",
       "      <td>12</td>\n",
       "      <td>15737173</td>\n",
       "      <td>Andrews</td>\n",
       "      <td>497</td>\n",
       "      <td>Spain</td>\n",
       "      <td>Male</td>\n",
       "      <td>24</td>\n",
       "      <td>3.0</td>\n",
       "      <td>0.00</td>\n",
       "      <td>2</td>\n",
       "      <td>1</td>\n",
       "      <td>0</td>\n",
       "      <td>76390.01</td>\n",
       "      <td>0</td>\n",
       "    </tr>\n",
       "    <tr>\n",
       "      <th>12</th>\n",
       "      <td>13</td>\n",
       "      <td>15632264</td>\n",
       "      <td>Kay</td>\n",
       "      <td>476</td>\n",
       "      <td>France</td>\n",
       "      <td>Female</td>\n",
       "      <td>34</td>\n",
       "      <td>10.0</td>\n",
       "      <td>0.00</td>\n",
       "      <td>2</td>\n",
       "      <td>1</td>\n",
       "      <td>0</td>\n",
       "      <td>26260.98</td>\n",
       "      <td>0</td>\n",
       "    </tr>\n",
       "    <tr>\n",
       "      <th>13</th>\n",
       "      <td>14</td>\n",
       "      <td>15691483</td>\n",
       "      <td>Chin</td>\n",
       "      <td>549</td>\n",
       "      <td>France</td>\n",
       "      <td>Female</td>\n",
       "      <td>25</td>\n",
       "      <td>5.0</td>\n",
       "      <td>0.00</td>\n",
       "      <td>2</td>\n",
       "      <td>0</td>\n",
       "      <td>0</td>\n",
       "      <td>190857.79</td>\n",
       "      <td>0</td>\n",
       "    </tr>\n",
       "    <tr>\n",
       "      <th>14</th>\n",
       "      <td>15</td>\n",
       "      <td>15600882</td>\n",
       "      <td>Scott</td>\n",
       "      <td>635</td>\n",
       "      <td>Spain</td>\n",
       "      <td>Female</td>\n",
       "      <td>35</td>\n",
       "      <td>7.0</td>\n",
       "      <td>0.00</td>\n",
       "      <td>2</td>\n",
       "      <td>1</td>\n",
       "      <td>1</td>\n",
       "      <td>65951.65</td>\n",
       "      <td>0</td>\n",
       "    </tr>\n",
       "  </tbody>\n",
       "</table>\n",
       "</div>"
      ],
      "text/plain": [
       "    RowNumber  CustomerId   Surname  CreditScore Geography  Gender  Age  \\\n",
       "0           1    15634602  Hargrave          619    France  Female   42   \n",
       "1           2    15647311      Hill          608     Spain  Female   41   \n",
       "2           3    15619304      Onio          502    France  Female   42   \n",
       "3           4    15701354      Boni          699    France  Female   39   \n",
       "4           5    15737888  Mitchell          850     Spain  Female   43   \n",
       "5           6    15574012       Chu          645     Spain    Male   44   \n",
       "6           7    15592531  Bartlett          822    France    Male   50   \n",
       "7           8    15656148    Obinna          376   Germany  Female   29   \n",
       "8           9    15792365        He          501    France    Male   44   \n",
       "9          10    15592389        H?          684    France    Male   27   \n",
       "10         11    15767821    Bearce          528    France    Male   31   \n",
       "11         12    15737173   Andrews          497     Spain    Male   24   \n",
       "12         13    15632264       Kay          476    France  Female   34   \n",
       "13         14    15691483      Chin          549    France  Female   25   \n",
       "14         15    15600882     Scott          635     Spain  Female   35   \n",
       "\n",
       "    Tenure    Balance  NumOfProducts  HasCrCard  IsActiveMember  \\\n",
       "0      2.0       0.00              1          1               1   \n",
       "1      1.0   83807.86              1          0               1   \n",
       "2      8.0  159660.80              3          1               0   \n",
       "3      1.0       0.00              2          0               0   \n",
       "4      2.0  125510.82              1          1               1   \n",
       "5      8.0  113755.78              2          1               0   \n",
       "6      7.0       0.00              2          1               1   \n",
       "7      4.0  115046.74              4          1               0   \n",
       "8      4.0  142051.07              2          0               1   \n",
       "9      2.0  134603.88              1          1               1   \n",
       "10     6.0  102016.72              2          0               0   \n",
       "11     3.0       0.00              2          1               0   \n",
       "12    10.0       0.00              2          1               0   \n",
       "13     5.0       0.00              2          0               0   \n",
       "14     7.0       0.00              2          1               1   \n",
       "\n",
       "    EstimatedSalary  Exited  \n",
       "0         101348.88       1  \n",
       "1         112542.58       0  \n",
       "2         113931.57       1  \n",
       "3          93826.63       0  \n",
       "4          79084.10       0  \n",
       "5         149756.71       1  \n",
       "6          10062.80       0  \n",
       "7         119346.88       1  \n",
       "8          74940.50       0  \n",
       "9          71725.73       0  \n",
       "10         80181.12       0  \n",
       "11         76390.01       0  \n",
       "12         26260.98       0  \n",
       "13        190857.79       0  \n",
       "14         65951.65       0  "
      ]
     },
     "execution_count": 2,
     "metadata": {},
     "output_type": "execute_result"
    }
   ],
   "source": [
    "#загрузим данные и выведем на экран первые 15 строк датасета\n",
    "\n",
    "data = pd.read_csv('/datasets/Churn.csv')\n",
    "\n",
    "data.head(15)"
   ]
  },
  {
   "cell_type": "code",
   "execution_count": 3,
   "metadata": {},
   "outputs": [
    {
     "name": "stdout",
     "output_type": "stream",
     "text": [
      "Общая информация о данных: \n",
      "\n",
      "<class 'pandas.core.frame.DataFrame'>\n",
      "RangeIndex: 10000 entries, 0 to 9999\n",
      "Data columns (total 14 columns):\n",
      " #   Column           Non-Null Count  Dtype  \n",
      "---  ------           --------------  -----  \n",
      " 0   RowNumber        10000 non-null  int64  \n",
      " 1   CustomerId       10000 non-null  int64  \n",
      " 2   Surname          10000 non-null  object \n",
      " 3   CreditScore      10000 non-null  int64  \n",
      " 4   Geography        10000 non-null  object \n",
      " 5   Gender           10000 non-null  object \n",
      " 6   Age              10000 non-null  int64  \n",
      " 7   Tenure           9091 non-null   float64\n",
      " 8   Balance          10000 non-null  float64\n",
      " 9   NumOfProducts    10000 non-null  int64  \n",
      " 10  HasCrCard        10000 non-null  int64  \n",
      " 11  IsActiveMember   10000 non-null  int64  \n",
      " 12  EstimatedSalary  10000 non-null  float64\n",
      " 13  Exited           10000 non-null  int64  \n",
      "dtypes: float64(3), int64(8), object(3)\n",
      "memory usage: 1.1+ MB\n",
      "None \n",
      "\n"
     ]
    },
    {
     "data": {
      "text/html": [
       "<div>\n",
       "<style scoped>\n",
       "    .dataframe tbody tr th:only-of-type {\n",
       "        vertical-align: middle;\n",
       "    }\n",
       "\n",
       "    .dataframe tbody tr th {\n",
       "        vertical-align: top;\n",
       "    }\n",
       "\n",
       "    .dataframe thead th {\n",
       "        text-align: right;\n",
       "    }\n",
       "</style>\n",
       "<table border=\"1\" class=\"dataframe\">\n",
       "  <thead>\n",
       "    <tr style=\"text-align: right;\">\n",
       "      <th></th>\n",
       "      <th>RowNumber</th>\n",
       "      <th>CustomerId</th>\n",
       "      <th>CreditScore</th>\n",
       "      <th>Age</th>\n",
       "      <th>Tenure</th>\n",
       "      <th>Balance</th>\n",
       "      <th>NumOfProducts</th>\n",
       "      <th>HasCrCard</th>\n",
       "      <th>IsActiveMember</th>\n",
       "      <th>EstimatedSalary</th>\n",
       "      <th>Exited</th>\n",
       "    </tr>\n",
       "  </thead>\n",
       "  <tbody>\n",
       "    <tr>\n",
       "      <th>count</th>\n",
       "      <td>10000.00000</td>\n",
       "      <td>1.000000e+04</td>\n",
       "      <td>10000.000000</td>\n",
       "      <td>10000.000000</td>\n",
       "      <td>9091.000000</td>\n",
       "      <td>10000.000000</td>\n",
       "      <td>10000.000000</td>\n",
       "      <td>10000.00000</td>\n",
       "      <td>10000.000000</td>\n",
       "      <td>10000.000000</td>\n",
       "      <td>10000.000000</td>\n",
       "    </tr>\n",
       "    <tr>\n",
       "      <th>mean</th>\n",
       "      <td>5000.50000</td>\n",
       "      <td>1.569094e+07</td>\n",
       "      <td>650.528800</td>\n",
       "      <td>38.921800</td>\n",
       "      <td>4.997690</td>\n",
       "      <td>76485.889288</td>\n",
       "      <td>1.530200</td>\n",
       "      <td>0.70550</td>\n",
       "      <td>0.515100</td>\n",
       "      <td>100090.239881</td>\n",
       "      <td>0.203700</td>\n",
       "    </tr>\n",
       "    <tr>\n",
       "      <th>std</th>\n",
       "      <td>2886.89568</td>\n",
       "      <td>7.193619e+04</td>\n",
       "      <td>96.653299</td>\n",
       "      <td>10.487806</td>\n",
       "      <td>2.894723</td>\n",
       "      <td>62397.405202</td>\n",
       "      <td>0.581654</td>\n",
       "      <td>0.45584</td>\n",
       "      <td>0.499797</td>\n",
       "      <td>57510.492818</td>\n",
       "      <td>0.402769</td>\n",
       "    </tr>\n",
       "    <tr>\n",
       "      <th>min</th>\n",
       "      <td>1.00000</td>\n",
       "      <td>1.556570e+07</td>\n",
       "      <td>350.000000</td>\n",
       "      <td>18.000000</td>\n",
       "      <td>0.000000</td>\n",
       "      <td>0.000000</td>\n",
       "      <td>1.000000</td>\n",
       "      <td>0.00000</td>\n",
       "      <td>0.000000</td>\n",
       "      <td>11.580000</td>\n",
       "      <td>0.000000</td>\n",
       "    </tr>\n",
       "    <tr>\n",
       "      <th>25%</th>\n",
       "      <td>2500.75000</td>\n",
       "      <td>1.562853e+07</td>\n",
       "      <td>584.000000</td>\n",
       "      <td>32.000000</td>\n",
       "      <td>2.000000</td>\n",
       "      <td>0.000000</td>\n",
       "      <td>1.000000</td>\n",
       "      <td>0.00000</td>\n",
       "      <td>0.000000</td>\n",
       "      <td>51002.110000</td>\n",
       "      <td>0.000000</td>\n",
       "    </tr>\n",
       "    <tr>\n",
       "      <th>50%</th>\n",
       "      <td>5000.50000</td>\n",
       "      <td>1.569074e+07</td>\n",
       "      <td>652.000000</td>\n",
       "      <td>37.000000</td>\n",
       "      <td>5.000000</td>\n",
       "      <td>97198.540000</td>\n",
       "      <td>1.000000</td>\n",
       "      <td>1.00000</td>\n",
       "      <td>1.000000</td>\n",
       "      <td>100193.915000</td>\n",
       "      <td>0.000000</td>\n",
       "    </tr>\n",
       "    <tr>\n",
       "      <th>75%</th>\n",
       "      <td>7500.25000</td>\n",
       "      <td>1.575323e+07</td>\n",
       "      <td>718.000000</td>\n",
       "      <td>44.000000</td>\n",
       "      <td>7.000000</td>\n",
       "      <td>127644.240000</td>\n",
       "      <td>2.000000</td>\n",
       "      <td>1.00000</td>\n",
       "      <td>1.000000</td>\n",
       "      <td>149388.247500</td>\n",
       "      <td>0.000000</td>\n",
       "    </tr>\n",
       "    <tr>\n",
       "      <th>max</th>\n",
       "      <td>10000.00000</td>\n",
       "      <td>1.581569e+07</td>\n",
       "      <td>850.000000</td>\n",
       "      <td>92.000000</td>\n",
       "      <td>10.000000</td>\n",
       "      <td>250898.090000</td>\n",
       "      <td>4.000000</td>\n",
       "      <td>1.00000</td>\n",
       "      <td>1.000000</td>\n",
       "      <td>199992.480000</td>\n",
       "      <td>1.000000</td>\n",
       "    </tr>\n",
       "  </tbody>\n",
       "</table>\n",
       "</div>"
      ],
      "text/plain": [
       "         RowNumber    CustomerId   CreditScore           Age       Tenure  \\\n",
       "count  10000.00000  1.000000e+04  10000.000000  10000.000000  9091.000000   \n",
       "mean    5000.50000  1.569094e+07    650.528800     38.921800     4.997690   \n",
       "std     2886.89568  7.193619e+04     96.653299     10.487806     2.894723   \n",
       "min        1.00000  1.556570e+07    350.000000     18.000000     0.000000   \n",
       "25%     2500.75000  1.562853e+07    584.000000     32.000000     2.000000   \n",
       "50%     5000.50000  1.569074e+07    652.000000     37.000000     5.000000   \n",
       "75%     7500.25000  1.575323e+07    718.000000     44.000000     7.000000   \n",
       "max    10000.00000  1.581569e+07    850.000000     92.000000    10.000000   \n",
       "\n",
       "             Balance  NumOfProducts    HasCrCard  IsActiveMember  \\\n",
       "count   10000.000000   10000.000000  10000.00000    10000.000000   \n",
       "mean    76485.889288       1.530200      0.70550        0.515100   \n",
       "std     62397.405202       0.581654      0.45584        0.499797   \n",
       "min         0.000000       1.000000      0.00000        0.000000   \n",
       "25%         0.000000       1.000000      0.00000        0.000000   \n",
       "50%     97198.540000       1.000000      1.00000        1.000000   \n",
       "75%    127644.240000       2.000000      1.00000        1.000000   \n",
       "max    250898.090000       4.000000      1.00000        1.000000   \n",
       "\n",
       "       EstimatedSalary        Exited  \n",
       "count     10000.000000  10000.000000  \n",
       "mean     100090.239881      0.203700  \n",
       "std       57510.492818      0.402769  \n",
       "min          11.580000      0.000000  \n",
       "25%       51002.110000      0.000000  \n",
       "50%      100193.915000      0.000000  \n",
       "75%      149388.247500      0.000000  \n",
       "max      199992.480000      1.000000  "
      ]
     },
     "execution_count": 3,
     "metadata": {},
     "output_type": "execute_result"
    }
   ],
   "source": [
    "#выведем информацию о данных\n",
    "print('Общая информация о данных:','\\n')\n",
    "print(data.info(),'\\n')\n",
    "\n",
    "data.describe()"
   ]
  },
  {
   "cell_type": "markdown",
   "metadata": {},
   "source": [
    "В представленном датасете имеется **1000** строк и **14** колонок. В датасете по каждому пользователю представлена следующая информация:\n",
    "\n",
    "- `RowNumber` — индекс строки в данных;\n",
    "- `CustomerId` — уникальный идентификатор клиента;\n",
    "- `Surname` — фамилия;\n",
    "- `CreditScore` — кредитный рейтинг;\n",
    "- `Geography` — страна проживания;\n",
    "- `Gender` — пол;\n",
    "- `Age` — возраст;\n",
    "- `Tenure` — сколько лет человек является клиентом банка;\n",
    "- `Balance` — баланс на счёте;\n",
    "- `NumOfProducts` — количество продуктов банка, используемых клиентом;\n",
    "- `HasCrCard` — наличие кредитной карты;\n",
    "- `IsActiveMember` — активность клиента;\n",
    "- `EstimatedSalary` — предполагаемая зарплата;\n",
    "- `Exited` — факт ухода клиента;\n",
    "\n",
    "Можно отметить, что в столбце `Tenure` (сколько лет человек является клиентом банка) имеются пустые данные (909 значений). Необходимо более детально проанализировать данный признак и принять решение что делать с пропусками."
   ]
  },
  {
   "cell_type": "code",
   "execution_count": 4,
   "metadata": {
    "scrolled": false
   },
   "outputs": [
    {
     "name": "stdout",
     "output_type": "stream",
     "text": [
      "Количество пустых значений: \n",
      "\n",
      "909\n"
     ]
    },
    {
     "data": {
      "text/html": [
       "<div>\n",
       "<style scoped>\n",
       "    .dataframe tbody tr th:only-of-type {\n",
       "        vertical-align: middle;\n",
       "    }\n",
       "\n",
       "    .dataframe tbody tr th {\n",
       "        vertical-align: top;\n",
       "    }\n",
       "\n",
       "    .dataframe thead th {\n",
       "        text-align: right;\n",
       "    }\n",
       "</style>\n",
       "<table border=\"1\" class=\"dataframe\">\n",
       "  <thead>\n",
       "    <tr style=\"text-align: right;\">\n",
       "      <th></th>\n",
       "      <th>RowNumber</th>\n",
       "      <th>CustomerId</th>\n",
       "      <th>Surname</th>\n",
       "      <th>CreditScore</th>\n",
       "      <th>Geography</th>\n",
       "      <th>Gender</th>\n",
       "      <th>Age</th>\n",
       "      <th>Tenure</th>\n",
       "      <th>Balance</th>\n",
       "      <th>NumOfProducts</th>\n",
       "      <th>HasCrCard</th>\n",
       "      <th>IsActiveMember</th>\n",
       "      <th>EstimatedSalary</th>\n",
       "      <th>Exited</th>\n",
       "    </tr>\n",
       "  </thead>\n",
       "  <tbody>\n",
       "    <tr>\n",
       "      <th>30</th>\n",
       "      <td>31</td>\n",
       "      <td>15589475</td>\n",
       "      <td>Azikiwe</td>\n",
       "      <td>591</td>\n",
       "      <td>Spain</td>\n",
       "      <td>Female</td>\n",
       "      <td>39</td>\n",
       "      <td>NaN</td>\n",
       "      <td>0.00</td>\n",
       "      <td>3</td>\n",
       "      <td>1</td>\n",
       "      <td>0</td>\n",
       "      <td>140469.38</td>\n",
       "      <td>1</td>\n",
       "    </tr>\n",
       "    <tr>\n",
       "      <th>48</th>\n",
       "      <td>49</td>\n",
       "      <td>15766205</td>\n",
       "      <td>Yin</td>\n",
       "      <td>550</td>\n",
       "      <td>Germany</td>\n",
       "      <td>Male</td>\n",
       "      <td>38</td>\n",
       "      <td>NaN</td>\n",
       "      <td>103391.38</td>\n",
       "      <td>1</td>\n",
       "      <td>0</td>\n",
       "      <td>1</td>\n",
       "      <td>90878.13</td>\n",
       "      <td>0</td>\n",
       "    </tr>\n",
       "    <tr>\n",
       "      <th>51</th>\n",
       "      <td>52</td>\n",
       "      <td>15768193</td>\n",
       "      <td>Trevisani</td>\n",
       "      <td>585</td>\n",
       "      <td>Germany</td>\n",
       "      <td>Male</td>\n",
       "      <td>36</td>\n",
       "      <td>NaN</td>\n",
       "      <td>146050.97</td>\n",
       "      <td>2</td>\n",
       "      <td>0</td>\n",
       "      <td>0</td>\n",
       "      <td>86424.57</td>\n",
       "      <td>0</td>\n",
       "    </tr>\n",
       "    <tr>\n",
       "      <th>53</th>\n",
       "      <td>54</td>\n",
       "      <td>15702298</td>\n",
       "      <td>Parkhill</td>\n",
       "      <td>655</td>\n",
       "      <td>Germany</td>\n",
       "      <td>Male</td>\n",
       "      <td>41</td>\n",
       "      <td>NaN</td>\n",
       "      <td>125561.97</td>\n",
       "      <td>1</td>\n",
       "      <td>0</td>\n",
       "      <td>0</td>\n",
       "      <td>164040.94</td>\n",
       "      <td>1</td>\n",
       "    </tr>\n",
       "    <tr>\n",
       "      <th>60</th>\n",
       "      <td>61</td>\n",
       "      <td>15651280</td>\n",
       "      <td>Hunter</td>\n",
       "      <td>742</td>\n",
       "      <td>Germany</td>\n",
       "      <td>Male</td>\n",
       "      <td>35</td>\n",
       "      <td>NaN</td>\n",
       "      <td>136857.00</td>\n",
       "      <td>1</td>\n",
       "      <td>0</td>\n",
       "      <td>0</td>\n",
       "      <td>84509.57</td>\n",
       "      <td>0</td>\n",
       "    </tr>\n",
       "    <tr>\n",
       "      <th>82</th>\n",
       "      <td>83</td>\n",
       "      <td>15641732</td>\n",
       "      <td>Mills</td>\n",
       "      <td>543</td>\n",
       "      <td>France</td>\n",
       "      <td>Female</td>\n",
       "      <td>36</td>\n",
       "      <td>NaN</td>\n",
       "      <td>0.00</td>\n",
       "      <td>2</td>\n",
       "      <td>0</td>\n",
       "      <td>0</td>\n",
       "      <td>26019.59</td>\n",
       "      <td>0</td>\n",
       "    </tr>\n",
       "    <tr>\n",
       "      <th>85</th>\n",
       "      <td>86</td>\n",
       "      <td>15805254</td>\n",
       "      <td>Ndukaku</td>\n",
       "      <td>652</td>\n",
       "      <td>Spain</td>\n",
       "      <td>Female</td>\n",
       "      <td>75</td>\n",
       "      <td>NaN</td>\n",
       "      <td>0.00</td>\n",
       "      <td>2</td>\n",
       "      <td>1</td>\n",
       "      <td>1</td>\n",
       "      <td>114675.75</td>\n",
       "      <td>0</td>\n",
       "    </tr>\n",
       "    <tr>\n",
       "      <th>94</th>\n",
       "      <td>95</td>\n",
       "      <td>15676966</td>\n",
       "      <td>Capon</td>\n",
       "      <td>730</td>\n",
       "      <td>Spain</td>\n",
       "      <td>Male</td>\n",
       "      <td>42</td>\n",
       "      <td>NaN</td>\n",
       "      <td>0.00</td>\n",
       "      <td>2</td>\n",
       "      <td>0</td>\n",
       "      <td>1</td>\n",
       "      <td>85982.47</td>\n",
       "      <td>0</td>\n",
       "    </tr>\n",
       "    <tr>\n",
       "      <th>99</th>\n",
       "      <td>100</td>\n",
       "      <td>15633059</td>\n",
       "      <td>Fanucci</td>\n",
       "      <td>413</td>\n",
       "      <td>France</td>\n",
       "      <td>Male</td>\n",
       "      <td>34</td>\n",
       "      <td>NaN</td>\n",
       "      <td>0.00</td>\n",
       "      <td>2</td>\n",
       "      <td>0</td>\n",
       "      <td>0</td>\n",
       "      <td>6534.18</td>\n",
       "      <td>0</td>\n",
       "    </tr>\n",
       "    <tr>\n",
       "      <th>111</th>\n",
       "      <td>112</td>\n",
       "      <td>15665790</td>\n",
       "      <td>Rowntree</td>\n",
       "      <td>538</td>\n",
       "      <td>Germany</td>\n",
       "      <td>Male</td>\n",
       "      <td>39</td>\n",
       "      <td>NaN</td>\n",
       "      <td>108055.10</td>\n",
       "      <td>2</td>\n",
       "      <td>1</td>\n",
       "      <td>0</td>\n",
       "      <td>27231.26</td>\n",
       "      <td>0</td>\n",
       "    </tr>\n",
       "    <tr>\n",
       "      <th>123</th>\n",
       "      <td>124</td>\n",
       "      <td>15760085</td>\n",
       "      <td>Calabresi</td>\n",
       "      <td>684</td>\n",
       "      <td>Germany</td>\n",
       "      <td>Female</td>\n",
       "      <td>48</td>\n",
       "      <td>NaN</td>\n",
       "      <td>126384.42</td>\n",
       "      <td>1</td>\n",
       "      <td>1</td>\n",
       "      <td>1</td>\n",
       "      <td>198129.36</td>\n",
       "      <td>0</td>\n",
       "    </tr>\n",
       "    <tr>\n",
       "      <th>125</th>\n",
       "      <td>126</td>\n",
       "      <td>15627360</td>\n",
       "      <td>Fuller</td>\n",
       "      <td>432</td>\n",
       "      <td>France</td>\n",
       "      <td>Male</td>\n",
       "      <td>42</td>\n",
       "      <td>NaN</td>\n",
       "      <td>152603.45</td>\n",
       "      <td>1</td>\n",
       "      <td>1</td>\n",
       "      <td>0</td>\n",
       "      <td>110265.24</td>\n",
       "      <td>1</td>\n",
       "    </tr>\n",
       "    <tr>\n",
       "      <th>146</th>\n",
       "      <td>147</td>\n",
       "      <td>15705707</td>\n",
       "      <td>Bennelong</td>\n",
       "      <td>635</td>\n",
       "      <td>Spain</td>\n",
       "      <td>Female</td>\n",
       "      <td>29</td>\n",
       "      <td>NaN</td>\n",
       "      <td>138296.94</td>\n",
       "      <td>2</td>\n",
       "      <td>1</td>\n",
       "      <td>0</td>\n",
       "      <td>141075.51</td>\n",
       "      <td>0</td>\n",
       "    </tr>\n",
       "    <tr>\n",
       "      <th>162</th>\n",
       "      <td>163</td>\n",
       "      <td>15630910</td>\n",
       "      <td>Treacy</td>\n",
       "      <td>800</td>\n",
       "      <td>France</td>\n",
       "      <td>Female</td>\n",
       "      <td>49</td>\n",
       "      <td>NaN</td>\n",
       "      <td>108007.36</td>\n",
       "      <td>1</td>\n",
       "      <td>0</td>\n",
       "      <td>0</td>\n",
       "      <td>47125.11</td>\n",
       "      <td>0</td>\n",
       "    </tr>\n",
       "    <tr>\n",
       "      <th>173</th>\n",
       "      <td>174</td>\n",
       "      <td>15586310</td>\n",
       "      <td>Ting</td>\n",
       "      <td>578</td>\n",
       "      <td>France</td>\n",
       "      <td>Male</td>\n",
       "      <td>30</td>\n",
       "      <td>NaN</td>\n",
       "      <td>169462.09</td>\n",
       "      <td>1</td>\n",
       "      <td>1</td>\n",
       "      <td>0</td>\n",
       "      <td>112187.11</td>\n",
       "      <td>0</td>\n",
       "    </tr>\n",
       "    <tr>\n",
       "      <th>180</th>\n",
       "      <td>181</td>\n",
       "      <td>15716334</td>\n",
       "      <td>Rozier</td>\n",
       "      <td>850</td>\n",
       "      <td>Spain</td>\n",
       "      <td>Female</td>\n",
       "      <td>45</td>\n",
       "      <td>NaN</td>\n",
       "      <td>122311.21</td>\n",
       "      <td>1</td>\n",
       "      <td>1</td>\n",
       "      <td>1</td>\n",
       "      <td>19482.50</td>\n",
       "      <td>0</td>\n",
       "    </tr>\n",
       "    <tr>\n",
       "      <th>217</th>\n",
       "      <td>218</td>\n",
       "      <td>15786308</td>\n",
       "      <td>Millar</td>\n",
       "      <td>730</td>\n",
       "      <td>Spain</td>\n",
       "      <td>Female</td>\n",
       "      <td>33</td>\n",
       "      <td>NaN</td>\n",
       "      <td>0.00</td>\n",
       "      <td>2</td>\n",
       "      <td>0</td>\n",
       "      <td>0</td>\n",
       "      <td>176576.62</td>\n",
       "      <td>0</td>\n",
       "    </tr>\n",
       "    <tr>\n",
       "      <th>222</th>\n",
       "      <td>223</td>\n",
       "      <td>15727829</td>\n",
       "      <td>McIntyre</td>\n",
       "      <td>567</td>\n",
       "      <td>France</td>\n",
       "      <td>Male</td>\n",
       "      <td>42</td>\n",
       "      <td>NaN</td>\n",
       "      <td>0.00</td>\n",
       "      <td>2</td>\n",
       "      <td>1</td>\n",
       "      <td>1</td>\n",
       "      <td>167984.61</td>\n",
       "      <td>0</td>\n",
       "    </tr>\n",
       "    <tr>\n",
       "      <th>225</th>\n",
       "      <td>226</td>\n",
       "      <td>15699029</td>\n",
       "      <td>Bagley</td>\n",
       "      <td>670</td>\n",
       "      <td>France</td>\n",
       "      <td>Male</td>\n",
       "      <td>37</td>\n",
       "      <td>NaN</td>\n",
       "      <td>170557.91</td>\n",
       "      <td>2</td>\n",
       "      <td>1</td>\n",
       "      <td>0</td>\n",
       "      <td>198252.88</td>\n",
       "      <td>0</td>\n",
       "    </tr>\n",
       "    <tr>\n",
       "      <th>237</th>\n",
       "      <td>238</td>\n",
       "      <td>15764866</td>\n",
       "      <td>Synnot</td>\n",
       "      <td>539</td>\n",
       "      <td>Germany</td>\n",
       "      <td>Female</td>\n",
       "      <td>43</td>\n",
       "      <td>NaN</td>\n",
       "      <td>116220.50</td>\n",
       "      <td>3</td>\n",
       "      <td>1</td>\n",
       "      <td>0</td>\n",
       "      <td>55803.96</td>\n",
       "      <td>1</td>\n",
       "    </tr>\n",
       "  </tbody>\n",
       "</table>\n",
       "</div>"
      ],
      "text/plain": [
       "     RowNumber  CustomerId    Surname  CreditScore Geography  Gender  Age  \\\n",
       "30          31    15589475    Azikiwe          591     Spain  Female   39   \n",
       "48          49    15766205        Yin          550   Germany    Male   38   \n",
       "51          52    15768193  Trevisani          585   Germany    Male   36   \n",
       "53          54    15702298   Parkhill          655   Germany    Male   41   \n",
       "60          61    15651280     Hunter          742   Germany    Male   35   \n",
       "82          83    15641732      Mills          543    France  Female   36   \n",
       "85          86    15805254    Ndukaku          652     Spain  Female   75   \n",
       "94          95    15676966      Capon          730     Spain    Male   42   \n",
       "99         100    15633059    Fanucci          413    France    Male   34   \n",
       "111        112    15665790   Rowntree          538   Germany    Male   39   \n",
       "123        124    15760085  Calabresi          684   Germany  Female   48   \n",
       "125        126    15627360     Fuller          432    France    Male   42   \n",
       "146        147    15705707  Bennelong          635     Spain  Female   29   \n",
       "162        163    15630910     Treacy          800    France  Female   49   \n",
       "173        174    15586310       Ting          578    France    Male   30   \n",
       "180        181    15716334     Rozier          850     Spain  Female   45   \n",
       "217        218    15786308     Millar          730     Spain  Female   33   \n",
       "222        223    15727829   McIntyre          567    France    Male   42   \n",
       "225        226    15699029     Bagley          670    France    Male   37   \n",
       "237        238    15764866     Synnot          539   Germany  Female   43   \n",
       "\n",
       "     Tenure    Balance  NumOfProducts  HasCrCard  IsActiveMember  \\\n",
       "30      NaN       0.00              3          1               0   \n",
       "48      NaN  103391.38              1          0               1   \n",
       "51      NaN  146050.97              2          0               0   \n",
       "53      NaN  125561.97              1          0               0   \n",
       "60      NaN  136857.00              1          0               0   \n",
       "82      NaN       0.00              2          0               0   \n",
       "85      NaN       0.00              2          1               1   \n",
       "94      NaN       0.00              2          0               1   \n",
       "99      NaN       0.00              2          0               0   \n",
       "111     NaN  108055.10              2          1               0   \n",
       "123     NaN  126384.42              1          1               1   \n",
       "125     NaN  152603.45              1          1               0   \n",
       "146     NaN  138296.94              2          1               0   \n",
       "162     NaN  108007.36              1          0               0   \n",
       "173     NaN  169462.09              1          1               0   \n",
       "180     NaN  122311.21              1          1               1   \n",
       "217     NaN       0.00              2          0               0   \n",
       "222     NaN       0.00              2          1               1   \n",
       "225     NaN  170557.91              2          1               0   \n",
       "237     NaN  116220.50              3          1               0   \n",
       "\n",
       "     EstimatedSalary  Exited  \n",
       "30         140469.38       1  \n",
       "48          90878.13       0  \n",
       "51          86424.57       0  \n",
       "53         164040.94       1  \n",
       "60          84509.57       0  \n",
       "82          26019.59       0  \n",
       "85         114675.75       0  \n",
       "94          85982.47       0  \n",
       "99           6534.18       0  \n",
       "111         27231.26       0  \n",
       "123        198129.36       0  \n",
       "125        110265.24       1  \n",
       "146        141075.51       0  \n",
       "162         47125.11       0  \n",
       "173        112187.11       0  \n",
       "180         19482.50       0  \n",
       "217        176576.62       0  \n",
       "222        167984.61       0  \n",
       "225        198252.88       0  \n",
       "237         55803.96       1  "
      ]
     },
     "execution_count": 4,
     "metadata": {},
     "output_type": "execute_result"
    }
   ],
   "source": [
    "#рассмотрим строки по которым отсутствуют данные в столбце \"Tenure\"\n",
    "\n",
    "print ('Количество пустых значений:', '\\n')\n",
    "print (len(data[data['Tenure'].isnull()]['Tenure']))\n",
    "\n",
    "data[data['Tenure'].isnull()].head (20)"
   ]
  },
  {
   "cell_type": "markdown",
   "metadata": {},
   "source": [
    "После детального анализа было выявлено, что в данных в колонке `Tenure` имеется **909** пропусков - 1/10 от всей популяции. Нельзя однозначно выделить взаимосвязь данного признака с другими, и также нельзя отрезать 1/10 от всей популяции. Таким образом лучшим решением будет заполнить пропуски медианным значением. "
   ]
  },
  {
   "cell_type": "markdown",
   "metadata": {},
   "source": [
    "### Предобработка данных\n",
    "\n",
    "В рамках данного этапа будет проведена предобработка данных на основе выполненного выше анализа:\n",
    "\n",
    "1. Название колонок изменим на строчную запись.\n",
    "2. Признак `RowNumber` (индекс строки в данных) - не носит информативного характера, его необходимо удалить. Аналогично стоит поступить с признаком `CustomerId` (уникальный идентификатор клиента) и `Surname` (фамилия) - информация о номере или фамилии клиента не нужна для обучения модели;\n",
    "3. Пустые значение в столбце `Tenure` (сколько лет человек является клиентом банка) необходимо заполнить медианным значением данного столбца.\n"
   ]
  },
  {
   "cell_type": "code",
   "execution_count": 5,
   "metadata": {},
   "outputs": [
    {
     "name": "stdout",
     "output_type": "stream",
     "text": [
      "<class 'pandas.core.frame.DataFrame'>\n",
      "RangeIndex: 10000 entries, 0 to 9999\n",
      "Data columns (total 14 columns):\n",
      " #   Column           Non-Null Count  Dtype  \n",
      "---  ------           --------------  -----  \n",
      " 0   rownumber        10000 non-null  int64  \n",
      " 1   customerid       10000 non-null  int64  \n",
      " 2   surname          10000 non-null  object \n",
      " 3   creditscore      10000 non-null  int64  \n",
      " 4   geography        10000 non-null  object \n",
      " 5   gender           10000 non-null  object \n",
      " 6   age              10000 non-null  int64  \n",
      " 7   tenure           9091 non-null   float64\n",
      " 8   balance          10000 non-null  float64\n",
      " 9   numofproducts    10000 non-null  int64  \n",
      " 10  hascrcard        10000 non-null  int64  \n",
      " 11  isactivemember   10000 non-null  int64  \n",
      " 12  estimatedsalary  10000 non-null  float64\n",
      " 13  exited           10000 non-null  int64  \n",
      "dtypes: float64(3), int64(8), object(3)\n",
      "memory usage: 1.1+ MB\n"
     ]
    }
   ],
   "source": [
    "#сделаем строчную запись в названиях колонок\n",
    "data.columns = data.columns.str.lower()\n",
    "\n",
    "#выведем результат на экран\n",
    "data.info()"
   ]
  },
  {
   "cell_type": "code",
   "execution_count": 6,
   "metadata": {},
   "outputs": [
    {
     "data": {
      "text/html": [
       "<div>\n",
       "<style scoped>\n",
       "    .dataframe tbody tr th:only-of-type {\n",
       "        vertical-align: middle;\n",
       "    }\n",
       "\n",
       "    .dataframe tbody tr th {\n",
       "        vertical-align: top;\n",
       "    }\n",
       "\n",
       "    .dataframe thead th {\n",
       "        text-align: right;\n",
       "    }\n",
       "</style>\n",
       "<table border=\"1\" class=\"dataframe\">\n",
       "  <thead>\n",
       "    <tr style=\"text-align: right;\">\n",
       "      <th></th>\n",
       "      <th>creditscore</th>\n",
       "      <th>geography</th>\n",
       "      <th>gender</th>\n",
       "      <th>age</th>\n",
       "      <th>tenure</th>\n",
       "      <th>balance</th>\n",
       "      <th>numofproducts</th>\n",
       "      <th>hascrcard</th>\n",
       "      <th>isactivemember</th>\n",
       "      <th>estimatedsalary</th>\n",
       "      <th>exited</th>\n",
       "    </tr>\n",
       "  </thead>\n",
       "  <tbody>\n",
       "    <tr>\n",
       "      <th>0</th>\n",
       "      <td>619</td>\n",
       "      <td>France</td>\n",
       "      <td>Female</td>\n",
       "      <td>42</td>\n",
       "      <td>2.0</td>\n",
       "      <td>0.00</td>\n",
       "      <td>1</td>\n",
       "      <td>1</td>\n",
       "      <td>1</td>\n",
       "      <td>101348.88</td>\n",
       "      <td>1</td>\n",
       "    </tr>\n",
       "    <tr>\n",
       "      <th>1</th>\n",
       "      <td>608</td>\n",
       "      <td>Spain</td>\n",
       "      <td>Female</td>\n",
       "      <td>41</td>\n",
       "      <td>1.0</td>\n",
       "      <td>83807.86</td>\n",
       "      <td>1</td>\n",
       "      <td>0</td>\n",
       "      <td>1</td>\n",
       "      <td>112542.58</td>\n",
       "      <td>0</td>\n",
       "    </tr>\n",
       "    <tr>\n",
       "      <th>2</th>\n",
       "      <td>502</td>\n",
       "      <td>France</td>\n",
       "      <td>Female</td>\n",
       "      <td>42</td>\n",
       "      <td>8.0</td>\n",
       "      <td>159660.80</td>\n",
       "      <td>3</td>\n",
       "      <td>1</td>\n",
       "      <td>0</td>\n",
       "      <td>113931.57</td>\n",
       "      <td>1</td>\n",
       "    </tr>\n",
       "    <tr>\n",
       "      <th>3</th>\n",
       "      <td>699</td>\n",
       "      <td>France</td>\n",
       "      <td>Female</td>\n",
       "      <td>39</td>\n",
       "      <td>1.0</td>\n",
       "      <td>0.00</td>\n",
       "      <td>2</td>\n",
       "      <td>0</td>\n",
       "      <td>0</td>\n",
       "      <td>93826.63</td>\n",
       "      <td>0</td>\n",
       "    </tr>\n",
       "    <tr>\n",
       "      <th>4</th>\n",
       "      <td>850</td>\n",
       "      <td>Spain</td>\n",
       "      <td>Female</td>\n",
       "      <td>43</td>\n",
       "      <td>2.0</td>\n",
       "      <td>125510.82</td>\n",
       "      <td>1</td>\n",
       "      <td>1</td>\n",
       "      <td>1</td>\n",
       "      <td>79084.10</td>\n",
       "      <td>0</td>\n",
       "    </tr>\n",
       "    <tr>\n",
       "      <th>...</th>\n",
       "      <td>...</td>\n",
       "      <td>...</td>\n",
       "      <td>...</td>\n",
       "      <td>...</td>\n",
       "      <td>...</td>\n",
       "      <td>...</td>\n",
       "      <td>...</td>\n",
       "      <td>...</td>\n",
       "      <td>...</td>\n",
       "      <td>...</td>\n",
       "      <td>...</td>\n",
       "    </tr>\n",
       "    <tr>\n",
       "      <th>9995</th>\n",
       "      <td>771</td>\n",
       "      <td>France</td>\n",
       "      <td>Male</td>\n",
       "      <td>39</td>\n",
       "      <td>5.0</td>\n",
       "      <td>0.00</td>\n",
       "      <td>2</td>\n",
       "      <td>1</td>\n",
       "      <td>0</td>\n",
       "      <td>96270.64</td>\n",
       "      <td>0</td>\n",
       "    </tr>\n",
       "    <tr>\n",
       "      <th>9996</th>\n",
       "      <td>516</td>\n",
       "      <td>France</td>\n",
       "      <td>Male</td>\n",
       "      <td>35</td>\n",
       "      <td>10.0</td>\n",
       "      <td>57369.61</td>\n",
       "      <td>1</td>\n",
       "      <td>1</td>\n",
       "      <td>1</td>\n",
       "      <td>101699.77</td>\n",
       "      <td>0</td>\n",
       "    </tr>\n",
       "    <tr>\n",
       "      <th>9997</th>\n",
       "      <td>709</td>\n",
       "      <td>France</td>\n",
       "      <td>Female</td>\n",
       "      <td>36</td>\n",
       "      <td>7.0</td>\n",
       "      <td>0.00</td>\n",
       "      <td>1</td>\n",
       "      <td>0</td>\n",
       "      <td>1</td>\n",
       "      <td>42085.58</td>\n",
       "      <td>1</td>\n",
       "    </tr>\n",
       "    <tr>\n",
       "      <th>9998</th>\n",
       "      <td>772</td>\n",
       "      <td>Germany</td>\n",
       "      <td>Male</td>\n",
       "      <td>42</td>\n",
       "      <td>3.0</td>\n",
       "      <td>75075.31</td>\n",
       "      <td>2</td>\n",
       "      <td>1</td>\n",
       "      <td>0</td>\n",
       "      <td>92888.52</td>\n",
       "      <td>1</td>\n",
       "    </tr>\n",
       "    <tr>\n",
       "      <th>9999</th>\n",
       "      <td>792</td>\n",
       "      <td>France</td>\n",
       "      <td>Female</td>\n",
       "      <td>28</td>\n",
       "      <td>NaN</td>\n",
       "      <td>130142.79</td>\n",
       "      <td>1</td>\n",
       "      <td>1</td>\n",
       "      <td>0</td>\n",
       "      <td>38190.78</td>\n",
       "      <td>0</td>\n",
       "    </tr>\n",
       "  </tbody>\n",
       "</table>\n",
       "<p>10000 rows × 11 columns</p>\n",
       "</div>"
      ],
      "text/plain": [
       "      creditscore geography  gender  age  tenure    balance  numofproducts  \\\n",
       "0             619    France  Female   42     2.0       0.00              1   \n",
       "1             608     Spain  Female   41     1.0   83807.86              1   \n",
       "2             502    France  Female   42     8.0  159660.80              3   \n",
       "3             699    France  Female   39     1.0       0.00              2   \n",
       "4             850     Spain  Female   43     2.0  125510.82              1   \n",
       "...           ...       ...     ...  ...     ...        ...            ...   \n",
       "9995          771    France    Male   39     5.0       0.00              2   \n",
       "9996          516    France    Male   35    10.0   57369.61              1   \n",
       "9997          709    France  Female   36     7.0       0.00              1   \n",
       "9998          772   Germany    Male   42     3.0   75075.31              2   \n",
       "9999          792    France  Female   28     NaN  130142.79              1   \n",
       "\n",
       "      hascrcard  isactivemember  estimatedsalary  exited  \n",
       "0             1               1        101348.88       1  \n",
       "1             0               1        112542.58       0  \n",
       "2             1               0        113931.57       1  \n",
       "3             0               0         93826.63       0  \n",
       "4             1               1         79084.10       0  \n",
       "...         ...             ...              ...     ...  \n",
       "9995          1               0         96270.64       0  \n",
       "9996          1               1        101699.77       0  \n",
       "9997          0               1         42085.58       1  \n",
       "9998          1               0         92888.52       1  \n",
       "9999          1               0         38190.78       0  \n",
       "\n",
       "[10000 rows x 11 columns]"
      ]
     },
     "execution_count": 6,
     "metadata": {},
     "output_type": "execute_result"
    }
   ],
   "source": [
    "#Удалим лишний столбец\n",
    "data = data.drop(['rownumber', 'customerid', 'surname'], axis = 1)\n",
    "\n",
    "#выведем результат на экран\n",
    "data"
   ]
  },
  {
   "cell_type": "code",
   "execution_count": 7,
   "metadata": {},
   "outputs": [
    {
     "data": {
      "text/plain": [
       "False    10000\n",
       "Name: tenure, dtype: int64"
      ]
     },
     "execution_count": 7,
     "metadata": {},
     "output_type": "execute_result"
    }
   ],
   "source": [
    "#Заполним пропуски в колонке 'tenure' медианным значением\n",
    "data = data.fillna(data['tenure'].median())\n",
    "\n",
    "#убедимся, что пустые значения отсутствуют\n",
    "data['tenure'].isna().value_counts()"
   ]
  },
  {
   "cell_type": "markdown",
   "metadata": {},
   "source": [
    "### **Вывод по блоку Анализ и подготовка данных**.\n",
    "\n",
    "В рамках данного блока мы изучили полученные данные - инфомрацию о пользователях банка.\n",
    "\n",
    "Была выполнена работа по предобработке данных:\n",
    "- Название колонок изменим на строчную запись.\n",
    "- Признак `RowNumber` (индекс строки в данных) - не носит информативного характера, его необходимо удалить. Аналогично стоит поступить с признаком `CustomerId` (уникальный идентификатор клиента) и `Surname` (фамилия) - информация о номере или фамилии клиента не нужна для обучения модели;\n",
    "- Пустые значение в столбце Tenure (сколько лет человек является клиентом банка) необходимо заполнить медианным значением данного столбца.\n",
    "\n",
    "Таким образом после обработки данных мы получили следующий датафрейм:\n",
    "- датафрейм имеет записи по 10'000 пользователей (1 строка - 1 пользователь);\n",
    "- каждая запись имеет 11 признаков, в том числе и целевой признак - `Exited` — факт ухода клиента"
   ]
  },
  {
   "cell_type": "markdown",
   "metadata": {},
   "source": [
    "## Исследование задачи"
   ]
  },
  {
   "cell_type": "markdown",
   "metadata": {},
   "source": [
    "В данном блоке будут проведены следующие исследования:\n",
    "\n",
    "1. Исследование балансов классов - необходимо понять насколько сбалансирован целевой признак.\n",
    "2. Проведено разделение датафрейма на обучающую, валидационную и тестовую выборку.\n",
    "3. Проведено обучение нескольких моделей без учета дисбаланса классов:\n",
    " - `DecisionTreeClassifier` - модель обученная по алгоритму решающего дерева;\n",
    " - `RandomForestClassifier` - модель обученная по алгоритму случайного леса;\n",
    " - `LogisticRegression` - модель обученная по алгоритму логистической регрессии.\n",
    "4. Сформулированы общие выводы по блоку. "
   ]
  },
  {
   "cell_type": "markdown",
   "metadata": {},
   "source": [
    "### Исследование балансов классов\n",
    "\n",
    "В рамках исследования будет изучен целевой признак - `Exited` — факт ухода клиента. Важно понять сбалансирован данный признак или нет. Если в популяции примерно одинаковое колиество значений для 0 (Клиент остался) и 1 (Клиент ушел), то у такого датафрейма соблюден баланс классов. В противном случае имеется дисбаланс классов и будет необходимо присвоить веса для каждого класса."
   ]
  },
  {
   "cell_type": "code",
   "execution_count": 8,
   "metadata": {},
   "outputs": [
    {
     "name": "stdout",
     "output_type": "stream",
     "text": [
      "Количество оставшихся/ушедших клиентов равно: \n",
      " 0    7963\n",
      "1    2037\n",
      "Name: exited, dtype: int64\n"
     ]
    },
    {
     "data": {
      "image/png": "[encoded data removed]",
      "text/plain": [
       "<Figure size 432x288 with 1 Axes>"
      ]
     },
     "metadata": {},
     "output_type": "display_data"
    }
   ],
   "source": [
    "#изучим деление целевого признака\n",
    "\n",
    "balance_exited = data['exited'].value_counts()\n",
    "print ('Количество оставшихся/ушедших клиентов равно:','\\n', balance_exited, )\n",
    "\n",
    "fig, ax = plt.subplots()\n",
    "ax.pie(balance_exited, labels = ('оставшиеся', 'ушедшие'), autopct='%1.1f%%')\n",
    "plt.title('Доля оставшихся и ушедших пользователей')\n",
    "plt.show()"
   ]
  },
  {
   "cell_type": "markdown",
   "metadata": {},
   "source": [
    "Таким образом видно, что данный признак не сбалансирован."
   ]
  },
  {
   "cell_type": "markdown",
   "metadata": {},
   "source": [
    "### Разделение датафрейма\n",
    "\n",
    "В данной части будет проведено разделение датафрейма на три выборки в следующем соотношении:\n",
    "- обучающую (**60%**);\n",
    "- валидационную (**20%**);\n",
    "- тестовую (**20%**).\n",
    "\n",
    "В первую очередь необходимо провести прямое кодирование данных - так как алгоритмы в данном проекте не обучаются по текстовым данным. Прямое кодирование произведем для всех данных.\n",
    "\n",
    "Для начала нужно разделить популяцию на \"Признаки\" и \"Целевой признак\", после этого с помощью метода train_test_split разделим нашу популяцию. В функции используем следующие аргументы:\n",
    "- test_size - показывает в какой пропорции разделить выборки;\n",
    "- random_state - задет определенный показатель случайности, чтобы данные при перезапуске кода не менялись;\n",
    "- stratify - сохранить изначальное распределение таргетов во всех новых датасетах."
   ]
  },
  {
   "cell_type": "code",
   "execution_count": 9,
   "metadata": {
    "scrolled": false
   },
   "outputs": [
    {
     "name": "stdout",
     "output_type": "stream",
     "text": [
      "Размер \"features\"/\"target\" до деления:  (10000, 11)  /  (10000,) \n",
      "\n",
      "Структура признаков для обучения: (6000, 11) Структура целевых признаков для обучения: (6000,)\n",
      "Структура признаков для валидации: (2000, 11) Структура целевых признаков для валидации: (2000,)\n",
      "Структура признаков для тестирования: (2000, 11) Структура целевых признаков для тестирования: (2000,)\n"
     ]
    },
    {
     "data": {
      "text/html": [
       "<div>\n",
       "<style scoped>\n",
       "    .dataframe tbody tr th:only-of-type {\n",
       "        vertical-align: middle;\n",
       "    }\n",
       "\n",
       "    .dataframe tbody tr th {\n",
       "        vertical-align: top;\n",
       "    }\n",
       "\n",
       "    .dataframe thead th {\n",
       "        text-align: right;\n",
       "    }\n",
       "</style>\n",
       "<table border=\"1\" class=\"dataframe\">\n",
       "  <thead>\n",
       "    <tr style=\"text-align: right;\">\n",
       "      <th></th>\n",
       "      <th>creditscore</th>\n",
       "      <th>age</th>\n",
       "      <th>tenure</th>\n",
       "      <th>balance</th>\n",
       "      <th>numofproducts</th>\n",
       "      <th>hascrcard</th>\n",
       "      <th>isactivemember</th>\n",
       "      <th>estimatedsalary</th>\n",
       "      <th>geography_Germany</th>\n",
       "      <th>geography_Spain</th>\n",
       "      <th>gender_Male</th>\n",
       "    </tr>\n",
       "  </thead>\n",
       "  <tbody>\n",
       "    <tr>\n",
       "      <th>2837</th>\n",
       "      <td>-1.040434</td>\n",
       "      <td>0.953312</td>\n",
       "      <td>0.360600</td>\n",
       "      <td>0.774657</td>\n",
       "      <td>-0.914708</td>\n",
       "      <td>-1.525709</td>\n",
       "      <td>0.969466</td>\n",
       "      <td>-0.119110</td>\n",
       "      <td>1</td>\n",
       "      <td>0</td>\n",
       "      <td>0</td>\n",
       "    </tr>\n",
       "    <tr>\n",
       "      <th>9925</th>\n",
       "      <td>0.454006</td>\n",
       "      <td>-0.095244</td>\n",
       "      <td>-0.002786</td>\n",
       "      <td>1.910540</td>\n",
       "      <td>-0.914708</td>\n",
       "      <td>0.655433</td>\n",
       "      <td>0.969466</td>\n",
       "      <td>-0.258658</td>\n",
       "      <td>0</td>\n",
       "      <td>0</td>\n",
       "      <td>0</td>\n",
       "    </tr>\n",
       "    <tr>\n",
       "      <th>8746</th>\n",
       "      <td>0.103585</td>\n",
       "      <td>-0.476537</td>\n",
       "      <td>1.087371</td>\n",
       "      <td>0.481608</td>\n",
       "      <td>0.820981</td>\n",
       "      <td>-1.525709</td>\n",
       "      <td>0.969466</td>\n",
       "      <td>1.422836</td>\n",
       "      <td>0</td>\n",
       "      <td>0</td>\n",
       "      <td>1</td>\n",
       "    </tr>\n",
       "    <tr>\n",
       "      <th>660</th>\n",
       "      <td>-0.184996</td>\n",
       "      <td>0.190726</td>\n",
       "      <td>-0.002786</td>\n",
       "      <td>0.088439</td>\n",
       "      <td>-0.914708</td>\n",
       "      <td>0.655433</td>\n",
       "      <td>0.969466</td>\n",
       "      <td>-1.160427</td>\n",
       "      <td>1</td>\n",
       "      <td>0</td>\n",
       "      <td>0</td>\n",
       "    </tr>\n",
       "    <tr>\n",
       "      <th>3610</th>\n",
       "      <td>-0.720933</td>\n",
       "      <td>1.620574</td>\n",
       "      <td>-1.456328</td>\n",
       "      <td>0.879129</td>\n",
       "      <td>-0.914708</td>\n",
       "      <td>0.655433</td>\n",
       "      <td>-1.031496</td>\n",
       "      <td>0.113236</td>\n",
       "      <td>0</td>\n",
       "      <td>0</td>\n",
       "      <td>0</td>\n",
       "    </tr>\n",
       "    <tr>\n",
       "      <th>...</th>\n",
       "      <td>...</td>\n",
       "      <td>...</td>\n",
       "      <td>...</td>\n",
       "      <td>...</td>\n",
       "      <td>...</td>\n",
       "      <td>...</td>\n",
       "      <td>...</td>\n",
       "      <td>...</td>\n",
       "      <td>...</td>\n",
       "      <td>...</td>\n",
       "      <td>...</td>\n",
       "    </tr>\n",
       "    <tr>\n",
       "      <th>6172</th>\n",
       "      <td>-0.844611</td>\n",
       "      <td>0.381372</td>\n",
       "      <td>-0.002786</td>\n",
       "      <td>0.180068</td>\n",
       "      <td>4.292357</td>\n",
       "      <td>0.655433</td>\n",
       "      <td>0.969466</td>\n",
       "      <td>0.117350</td>\n",
       "      <td>1</td>\n",
       "      <td>0</td>\n",
       "      <td>1</td>\n",
       "    </tr>\n",
       "    <tr>\n",
       "      <th>2360</th>\n",
       "      <td>-1.359935</td>\n",
       "      <td>0.190726</td>\n",
       "      <td>-0.002786</td>\n",
       "      <td>0.547724</td>\n",
       "      <td>-0.914708</td>\n",
       "      <td>0.655433</td>\n",
       "      <td>-1.031496</td>\n",
       "      <td>-0.192524</td>\n",
       "      <td>1</td>\n",
       "      <td>0</td>\n",
       "      <td>0</td>\n",
       "    </tr>\n",
       "    <tr>\n",
       "      <th>4499</th>\n",
       "      <td>-1.174418</td>\n",
       "      <td>0.476696</td>\n",
       "      <td>-0.366172</td>\n",
       "      <td>0.727840</td>\n",
       "      <td>-0.914708</td>\n",
       "      <td>-1.525709</td>\n",
       "      <td>-1.031496</td>\n",
       "      <td>0.531933</td>\n",
       "      <td>1</td>\n",
       "      <td>0</td>\n",
       "      <td>0</td>\n",
       "    </tr>\n",
       "    <tr>\n",
       "      <th>9162</th>\n",
       "      <td>0.155118</td>\n",
       "      <td>2.287837</td>\n",
       "      <td>-0.002786</td>\n",
       "      <td>0.449382</td>\n",
       "      <td>-0.914708</td>\n",
       "      <td>0.655433</td>\n",
       "      <td>0.969466</td>\n",
       "      <td>-1.307769</td>\n",
       "      <td>1</td>\n",
       "      <td>0</td>\n",
       "      <td>1</td>\n",
       "    </tr>\n",
       "    <tr>\n",
       "      <th>700</th>\n",
       "      <td>1.031168</td>\n",
       "      <td>-0.667183</td>\n",
       "      <td>-0.002786</td>\n",
       "      <td>-1.219673</td>\n",
       "      <td>0.820981</td>\n",
       "      <td>0.655433</td>\n",
       "      <td>-1.031496</td>\n",
       "      <td>-0.083302</td>\n",
       "      <td>0</td>\n",
       "      <td>0</td>\n",
       "      <td>0</td>\n",
       "    </tr>\n",
       "  </tbody>\n",
       "</table>\n",
       "<p>6000 rows × 11 columns</p>\n",
       "</div>"
      ],
      "text/plain": [
       "      creditscore       age    tenure   balance  numofproducts  hascrcard  \\\n",
       "2837    -1.040434  0.953312  0.360600  0.774657      -0.914708  -1.525709   \n",
       "9925     0.454006 -0.095244 -0.002786  1.910540      -0.914708   0.655433   \n",
       "8746     0.103585 -0.476537  1.087371  0.481608       0.820981  -1.525709   \n",
       "660     -0.184996  0.190726 -0.002786  0.088439      -0.914708   0.655433   \n",
       "3610    -0.720933  1.620574 -1.456328  0.879129      -0.914708   0.655433   \n",
       "...           ...       ...       ...       ...            ...        ...   \n",
       "6172    -0.844611  0.381372 -0.002786  0.180068       4.292357   0.655433   \n",
       "2360    -1.359935  0.190726 -0.002786  0.547724      -0.914708   0.655433   \n",
       "4499    -1.174418  0.476696 -0.366172  0.727840      -0.914708  -1.525709   \n",
       "9162     0.155118  2.287837 -0.002786  0.449382      -0.914708   0.655433   \n",
       "700      1.031168 -0.667183 -0.002786 -1.219673       0.820981   0.655433   \n",
       "\n",
       "      isactivemember  estimatedsalary  geography_Germany  geography_Spain  \\\n",
       "2837        0.969466        -0.119110                  1                0   \n",
       "9925        0.969466        -0.258658                  0                0   \n",
       "8746        0.969466         1.422836                  0                0   \n",
       "660         0.969466        -1.160427                  1                0   \n",
       "3610       -1.031496         0.113236                  0                0   \n",
       "...              ...              ...                ...              ...   \n",
       "6172        0.969466         0.117350                  1                0   \n",
       "2360       -1.031496        -0.192524                  1                0   \n",
       "4499       -1.031496         0.531933                  1                0   \n",
       "9162        0.969466        -1.307769                  1                0   \n",
       "700        -1.031496        -0.083302                  0                0   \n",
       "\n",
       "      gender_Male  \n",
       "2837            0  \n",
       "9925            0  \n",
       "8746            1  \n",
       "660             0  \n",
       "3610            0  \n",
       "...           ...  \n",
       "6172            1  \n",
       "2360            0  \n",
       "4499            0  \n",
       "9162            1  \n",
       "700             0  \n",
       "\n",
       "[6000 rows x 11 columns]"
      ]
     },
     "execution_count": 9,
     "metadata": {},
     "output_type": "execute_result"
    }
   ],
   "source": [
    "#для начала проведем прямое кодирование и разделим нашу популяцию на признаки(features) и целевой признак(target)\n",
    "\n",
    "data_ohe = pd.get_dummies(data, drop_first = True) \n",
    "features = data_ohe.drop(['exited'], axis = 1)\n",
    "target = data_ohe['exited']\n",
    "\n",
    "#для контроля за количеством данных выборках выведем размеры features и target методом '.shape()'\n",
    "print('Размер \"features\"/\"target\" до деления: ',features.shape,' / ', target.shape, '\\n')\n",
    "\n",
    "#далее разделим нашу популяцию на выборки:\n",
    "features_train, features_vt,target_train, target_vt = (\n",
    "    train_test_split(features, target, test_size = 0.4, random_state = 12345, stratify = target))\n",
    "\n",
    "features_valid, features_test, target_valid, target_test = (\n",
    "    train_test_split (features_vt, target_vt, test_size = 0.5, random_state = 12345, stratify = target_vt))\n",
    "\n",
    "#убираем ошибку от применения StandardScaler\n",
    "pd.options.mode.chained_assignment = None\n",
    "\n",
    "#масштабируем числовые переменные\n",
    "numeric = ['creditscore', 'age', 'tenure', 'balance', 'numofproducts', 'hascrcard', 'isactivemember', 'estimatedsalary']\n",
    "\n",
    "scaler = StandardScaler ()\n",
    "scaler.fit(features_train[numeric])\n",
    "\n",
    "features_train[numeric] = scaler.transform (features_train[numeric])\n",
    "features_valid[numeric] = scaler.transform (features_valid[numeric])\n",
    "features_test[numeric] = scaler.transform (features_test[numeric])\n",
    "\n",
    "\n",
    "#убедимся, что выборки разделились корректно\n",
    "print ('Структура признаков для обучения:', features_train.shape ,\n",
    "       'Структура целевых признаков для обучения:', target_train.shape)\n",
    "print ('Структура признаков для валидации:', features_valid.shape ,\n",
    "       'Структура целевых признаков для валидации:', target_valid.shape)\n",
    "print ('Структура признаков для тестирования:', features_test.shape ,\n",
    "       'Структура целевых признаков для тестирования:', target_test.shape)\n",
    "\n",
    "features_train"
   ]
  },
  {
   "cell_type": "markdown",
   "metadata": {},
   "source": [
    "Разделение на выборки прошло успешно, соотношение соответствует 60/20/20."
   ]
  },
  {
   "cell_type": "markdown",
   "metadata": {},
   "source": [
    "### Тестирование моделей без учета дисбаланса классов\n",
    "\n",
    "Для всех обученных моделей рассмотрим несколько метрик:\n",
    "- Accuracy_score - показывает долю верных ответов;\n",
    "- F1 - метрика учитывает значения полноты (recall) и точность (precision) - чем значения метрик выше, тем выше F1 и наоборот.\n",
    "\n",
    "При подборе гиперпараметров ориентироваться будем на метрику F1, так как метрика `accuracy_score` нерепрезентативна на выборках с дисбалансом классов."
   ]
  },
  {
   "cell_type": "markdown",
   "metadata": {},
   "source": [
    "#### `DecisionTreeClassifier` - модель обученная по алгоритму решающего дерева\n",
    "\n",
    "Модель обученная на алгоритме - решающее дерево - в качестве важного параметра выделяет глубину дерева(max_depth), для определения оптимального значения данного гиперпараметра построим функцию, которая будет перебирать различные значения данного параметра и определит значения с наиболее высоким качеством модели.\n",
    "\n",
    "Выведем значение метрик Accuracy и F1 на график."
   ]
  },
  {
   "cell_type": "code",
   "execution_count": 10,
   "metadata": {
    "scrolled": true
   },
   "outputs": [
    {
     "name": "stderr",
     "output_type": "stream",
     "text": [
      "100%|██████████| 49/49 [00:01<00:00, 32.75it/s]\n"
     ]
    },
    {
     "name": "stdout",
     "output_type": "stream",
     "text": [
      "Лучшее значение F1 меры равно: 0.5924855491329479 при глубине: 7\n"
     ]
    },
    {
     "data": {
      "image/png": "[encoded data removed]",
      "text/plain": [
       "<Figure size 1080x288 with 1 Axes>"
      ]
     },
     "metadata": {
      "needs_background": "light"
     },
     "output_type": "display_data"
    }
   ],
   "source": [
    "#обучение модели алгоритмом DecisionTreeClassifier(dt)\n",
    "dt_plot = pd.DataFrame({'depth':[], 'accuracy_score':[], 'f1_score':[]})\n",
    "best_result_dt = 0\n",
    "best_depth_dt = 0\n",
    "\n",
    "for depth in tqdm(range(1,50)):\n",
    "    model = DecisionTreeClassifier(random_state = 12345, max_depth = depth)\n",
    "    model.fit (features_train, target_train)\n",
    "    prediction_dt_valid = model.predict(features_valid)\n",
    "    \n",
    "    result_dt_a = accuracy_score(target_valid,prediction_dt_valid)\n",
    "    result_dt_f1 = f1_score(target_valid,prediction_dt_valid)\n",
    "    if result_dt_f1 > best_result_dt:\n",
    "        best_result_dt= result_dt_f1\n",
    "        best_depth_dt = depth\n",
    "    dt_plot = dt_plot.append ({'depth': depth,\n",
    "                             'accuracy_score':result_dt_a, \n",
    "                             'f1_score':result_dt_f1}, ignore_index=True)\n",
    "    \n",
    "print ('Лучшее значение F1 меры равно:', best_result_dt, 'при глубине:', best_depth_dt)\n",
    "\n",
    "\n",
    "#выведем график на экран\n",
    "plt.rcParams ['figure.figsize'] = [15, 4]\n",
    "fig, ax = plt.subplots()\n",
    "ax.plot (dt_plot['depth'], dt_plot['accuracy_score'], 'o-', label = 'accuracy_score')\n",
    "ax.plot (dt_plot['depth'], dt_plot['f1_score'], 'o-', label = 'f1_score')\n",
    "plt.title ('График сравнения разных метрик')\n",
    "plt.xlabel ('Глубина')\n",
    "plt.ylabel ('Качество модели')\n",
    "plt.legend(fontsize=14)\n",
    "plt.grid()\n",
    "plt.show()\n"
   ]
  },
  {
   "cell_type": "markdown",
   "metadata": {},
   "source": [
    "Из данного анализа видно, что при сравнении различных метрик, метрика `accuracy_score` имеет достаточно высокие значения, однако мера `F1`, которая учитывает значение **полноты** и **точности**, имеет более консервативные показатели значения. \n",
    "\n",
    "В данном случае лучшие значение качества составляет - **0.5924855491329479** и достигается при глубине в **7** деревьев."
   ]
  },
  {
   "cell_type": "markdown",
   "metadata": {},
   "source": [
    "#### `RandomForestClassifier` - модель обученная по алгоритму случайного леса\n",
    "\n",
    "Модель обученная по алгоритму случайного леса. В модели обученной по данному алгоритму каждое дерево строится на отдельных данных и лучшее значения гиперпараметров \"определяются\" путем голосования всех деревьев - таким образом берется наилучшее из всех значений. Главными гиперпараметры в данном алгоритме являются `n_estimators` - количество решающих деревьев, и `max_depth` - глубина дерева.\n",
    "\n",
    "С помощью функции определим наилучшие значения для гиперпараметров и построим график отражающий изменения метрик Accuracy и F1."
   ]
  },
  {
   "cell_type": "code",
   "execution_count": 11,
   "metadata": {},
   "outputs": [
    {
     "name": "stderr",
     "output_type": "stream",
     "text": [
      "100%|██████████| 10/10 [01:03<00:00,  6.39s/it]"
     ]
    },
    {
     "name": "stdout",
     "output_type": "stream",
     "text": [
      "Лучшее значение F1 меры равно: 0.629575402635432 при глубине: 22 и количестве: 91\n"
     ]
    },
    {
     "name": "stderr",
     "output_type": "stream",
     "text": [
      "\n"
     ]
    },
    {
     "data": {
      "image/png": "[encoded data removed]",
      "text/plain": [
       "<Figure size 1080x288 with 1 Axes>"
      ]
     },
     "metadata": {
      "needs_background": "light"
     },
     "output_type": "display_data"
    }
   ],
   "source": [
    "#обучение модели алгоритмом RandomForestClassifier(rf)\n",
    "rf_plot = pd.DataFrame({'n_iter':[], 'accuracy_score':[], 'f1_score':[]})\n",
    "best_depth_rf = 0\n",
    "best_est_rf = 0\n",
    "best_result_rf = 0\n",
    "n_iter = 0\n",
    "\n",
    "for est in tqdm(range(1,100,10)):\n",
    "    for depth in (range(1,25)):\n",
    "        model = RandomForestClassifier( random_state = 12345, max_depth = depth, n_estimators = est)\n",
    "        model.fit (features_train, target_train)\n",
    "        predictions_rf_valid = model.predict (features_valid)\n",
    "        result_rf_a = accuracy_score (target_valid, predictions_rf_valid)\n",
    "        result_rf_f1 = f1_score (target_valid, predictions_rf_valid)\n",
    "        \n",
    "        if best_result_rf < result_rf_f1:\n",
    "            best_result_rf = result_rf_f1\n",
    "            best_est_rf = est\n",
    "            best_depth_rf = depth\n",
    "        \n",
    "        n_iter +=1\n",
    "        rf_plot = rf_plot.append ({'n_iter': n_iter, \n",
    "                                   'accuracy_score':result_rf_a, \n",
    "                                   'f1_score': result_rf_f1}, ignore_index=True)\n",
    "        \n",
    "print ('Лучшее значение F1 меры равно:', best_result_rf, 'при глубине:', best_depth_rf, 'и количестве:',  best_est_rf)\n",
    "\n",
    "#выведем график на экран\n",
    "plt.rcParams ['figure.figsize'] = [15, 4]\n",
    "fig, ax = plt.subplots()\n",
    "ax.plot (rf_plot['n_iter'], rf_plot['accuracy_score'], 'o-', label = 'accuracy_score')\n",
    "ax.plot (rf_plot['n_iter'], rf_plot['f1_score'], 'o-', label = 'f1_score')\n",
    "plt.title ('График сравнения разных метрик')\n",
    "plt.xlabel ('Номер итерации')\n",
    "plt.ylabel ('Качество модели')\n",
    "plt.legend(fontsize=14)\n",
    "plt.grid()\n",
    "plt.show()"
   ]
  },
  {
   "cell_type": "markdown",
   "metadata": {},
   "source": [
    "Аналогично модели обученной алгоритмом решающего дерева показатели `accuracy` выше более консервативного `f1`.\n",
    "\n",
    "Лучшее значение метрики F1 составляет **0.629575402635432** при глубине равной **22** и количестве деревьев равным **91**"
   ]
  },
  {
   "cell_type": "markdown",
   "metadata": {},
   "source": [
    "#### `LogisticRegression` - модель обученная по алгоритму логистической регрессии\n",
    "\n",
    "Проведем обучение модели алгоритмом - логистическая регрессия. В данном алгоритме важным параметром является выбор расчета (`solver`), примем данный гиперпараметр равным `liblinear` - самый распространенный вариант.\n",
    "\n",
    "Также важным гиперпарметром является количество итираций (`max_iter`) для определения оптимального значения данного гиперпараметра построим функцию, которая будет перебирать различные значения данного параметра и определит значения с наиболее высоким качеством модели.\n",
    "\n",
    "С помощью функции определим наилучшие значения для гиперпараметров и построим график отражающий изменения метрик Accuracy и F1."
   ]
  },
  {
   "cell_type": "code",
   "execution_count": 12,
   "metadata": {},
   "outputs": [
    {
     "name": "stderr",
     "output_type": "stream",
     "text": [
      "  0%|          | 0/10 [00:00<?, ?it/s]/opt/conda/lib/python3.9/site-packages/sklearn/svm/_base.py:985: ConvergenceWarning: Liblinear failed to converge, increase the number of iterations.\n",
      "  warnings.warn(\"Liblinear failed to converge, increase \"\n",
      "100%|██████████| 10/10 [00:01<00:00,  6.24it/s]\n"
     ]
    },
    {
     "name": "stdout",
     "output_type": "stream",
     "text": [
      "Лучшее значение F1 меры равно: 0.30458715596330277 при количестве итераций равное: 101\n"
     ]
    },
    {
     "data": {
      "image/png": "[encoded data removed]",
      "text/plain": [
       "<Figure size 1080x288 with 1 Axes>"
      ]
     },
     "metadata": {
      "needs_background": "light"
     },
     "output_type": "display_data"
    }
   ],
   "source": [
    "#обучение модели алгоритмом LogisticRegression(lr) \n",
    "lr_plot = pd.DataFrame({'max_iter':[], 'accuracy_score':[], 'f1_score':[]})\n",
    "best_max_iter_lr = 0\n",
    "best_result_lr = 0\n",
    "\n",
    "for iters in tqdm(range (1,1000, 100)):\n",
    "    model = LogisticRegression(random_state = 12345, solver = 'liblinear', max_iter = iters)\n",
    "    model.fit (features_train, target_train)\n",
    "    predictions_lr_valid = model.predict (features_valid)\n",
    "    result_lr_a = accuracy_score (target_valid, predictions_lr_valid)\n",
    "    result_lr_f1 = f1_score (target_valid, predictions_lr_valid)\n",
    "    \n",
    "    if best_result_lr < result_lr_f1:\n",
    "        best_result_lr = result_lr_f1\n",
    "        best_max_iter_lr = iters\n",
    "        \n",
    "    lr_plot = lr_plot.append ({'max_iter': iters,\n",
    "                               'accuracy_score': result_lr_a, \n",
    "                               'f1_score': result_lr_f1}, ignore_index=True)\n",
    "        \n",
    "print ('Лучшее значение F1 меры равно:', best_result_lr, 'при количестве итераций равное:',  best_max_iter_lr)\n",
    "\n",
    "#выведем график на экран\n",
    "plt.rcParams ['figure.figsize'] = [15, 4]\n",
    "fig, ax = plt.subplots()\n",
    "ax.plot (lr_plot['max_iter'], lr_plot['accuracy_score'], 'o-', label = 'accuracy_score')\n",
    "ax.plot (lr_plot['max_iter'], lr_plot['f1_score'], 'o-', label = 'f1_score')\n",
    "plt.title ('График сравнения разных метрик')\n",
    "plt.xlabel ('Количество итераций')\n",
    "plt.ylabel ('Качество модели')\n",
    "plt.legend(fontsize=14)\n",
    "plt.grid()\n",
    "plt.show()    "
   ]
  },
  {
   "cell_type": "markdown",
   "metadata": {},
   "source": [
    "Модель обученная на алгоритме логистической регрессии на данных без учета дисбаланса показала себя хуже всех. \n",
    "\n",
    "Значение F1 меры составляет **0.30458715596330277** и достигается при гиперпараметре `max_iter` равном **101**."
   ]
  },
  {
   "cell_type": "markdown",
   "metadata": {},
   "source": [
    "### **Вывод по блоку Исследование задачи**\n",
    "\n",
    "Результатом исследования по данному блоку стали следующие выводы:\n",
    "\n",
    "1. Было выявлено, что целевой признак - не сбалансирован. Отношение классов составляет **79.6%**(оставшиеся клиенты) к **20.4%**(клиенты покинувшие банк).\n",
    "\n",
    "2. Были проведены операции по разделению датафрейма на три выборки в следующем соотношении:\n",
    "- обучающую (**60%**);\n",
    "- валидационную (**20%**);\n",
    "- тестовую (**20%**).\n",
    "\n",
    "3. Были обучены модели на основе трех алгоритмов, детали качества моделей на основе F1 меры представлены ниже:\n",
    "- `DecisionTreeClassifier` - модель обученная по алгоритму решающего дерева - качество верных предсказаний: **59%**\n",
    "- `RandomForestClassifier` - модель обученная по алгоритму случайного леса - качество верных предсказаний: **63%**\n",
    "- `LogisticRegression` - модель обученная по алгоритму логистической регрессии - качество верных предсказаний: **30%**\n",
    "\n",
    "Лучшее значение показала модель `RandomForestClassifier`, при значении гиперпараметров равном:\n",
    "- max_depth = 22\n",
    "- n_estimators = 91\n",
    "\n",
    "Стоит отметить, что модели были обучены на данных имеющих дисбаланс классов. Решение проблемы дисбаланса классов представлено в следующем блоке."
   ]
  },
  {
   "cell_type": "markdown",
   "metadata": {},
   "source": [
    "## Учет дисбаланса классов\n",
    "\n",
    "В данном блоке будут произведены операции по учету дисбаланса классов следующими методами:\n",
    "1. Взвешивание классов методом `class_weight`;\n",
    "2. Увеличение выборки - **upsampling**;\n",
    "3. Уменьшение выборки - **downsampling**;\n",
    "4. Изменение порога классификации методом `predict_proba`.\n",
    "\n",
    "Для каждого метода будут обучены модели и проведен подбор оптимальных гиперпараметров."
   ]
  },
  {
   "cell_type": "markdown",
   "metadata": {},
   "source": [
    "### Взвешивание классов методом `class_weight`\n",
    "\n",
    "Для использования данного метода достаточно к имеющимся моделям добавить аргумент `\"class_weight = 'balanced'\"`. Данный метод самостоятельно балансирует классы присваивая меньшему классу больший вес.\n",
    "\n",
    "Добавим аргумент `class_weight` в каждую модель и рассмотрим полученные результаты."
   ]
  },
  {
   "cell_type": "code",
   "execution_count": 13,
   "metadata": {
    "scrolled": false
   },
   "outputs": [
    {
     "name": "stderr",
     "output_type": "stream",
     "text": [
      "100%|██████████| 49/49 [00:01<00:00, 30.95it/s]"
     ]
    },
    {
     "name": "stdout",
     "output_type": "stream",
     "text": [
      "Лучшее значение F1 меры равно: 0.575925925925926 при глубине: 6\n"
     ]
    },
    {
     "name": "stderr",
     "output_type": "stream",
     "text": [
      "\n"
     ]
    }
   ],
   "source": [
    "#обучение модели алгоритмом DecisionTreeClassifier(dt)\n",
    "dt_plot_cw = pd.DataFrame ({'f1_score_cw':[]})\n",
    "best_result_dt = 0\n",
    "best_depth_dt = 0\n",
    "\n",
    "for depth in tqdm(range(1,50)):\n",
    "    model = DecisionTreeClassifier(random_state = 12345, max_depth = depth, class_weight = 'balanced')\n",
    "    model.fit (features_train, target_train)\n",
    "    prediction_dt_valid = model.predict(features_valid)\n",
    "    \n",
    "    result_dt_f1 = f1_score(target_valid,prediction_dt_valid)\n",
    "    if result_dt_f1 > best_result_dt:\n",
    "        best_result_dt= result_dt_f1\n",
    "        best_depth_dt = depth\n",
    "    dt_plot_cw = dt_plot_cw.append ({'f1_score_cw':result_dt_f1}, ignore_index=True)\n",
    "    \n",
    "print ('Лучшее значение F1 меры равно:', best_result_dt, 'при глубине:', best_depth_dt)\n",
    "\n",
    "dt_plot = dt_plot.join(dt_plot_cw)"
   ]
  },
  {
   "cell_type": "code",
   "execution_count": 14,
   "metadata": {},
   "outputs": [
    {
     "name": "stderr",
     "output_type": "stream",
     "text": [
      "100%|██████████| 10/10 [01:02<00:00,  6.27s/it]"
     ]
    },
    {
     "name": "stdout",
     "output_type": "stream",
     "text": [
      "Лучшее значение F1 меры равно: 0.6530120481927711 при глубине: 10 и количестве: 61\n"
     ]
    },
    {
     "name": "stderr",
     "output_type": "stream",
     "text": [
      "\n"
     ]
    }
   ],
   "source": [
    "#обучение модели алгоритмом RandomForestClassifier(rf)\n",
    "rf_plot_cw = pd.DataFrame ({'f1_score_cw':[]})\n",
    "best_depth_rf = 0\n",
    "best_est_rf = 0\n",
    "best_result_rf = 0\n",
    "n_iter = 0\n",
    "\n",
    "for est in tqdm(range(1,100,10)):\n",
    "    for depth in (range(1,25)):\n",
    "        model = RandomForestClassifier( random_state = 12345, max_depth = depth, n_estimators = est, class_weight = 'balanced')\n",
    "        model.fit (features_train, target_train)\n",
    "        predictions_rf_valid = model.predict (features_valid)\n",
    "        result_rf_f1 = f1_score (target_valid, predictions_rf_valid)\n",
    "        \n",
    "        if best_result_rf < result_rf_f1:\n",
    "            best_result_rf = result_rf_f1\n",
    "            best_est_rf = est\n",
    "            best_depth_rf = depth\n",
    "        \n",
    "        rf_plot_cw = rf_plot_cw.append ({'f1_score_cw': result_rf_f1}, ignore_index=True)\n",
    "        \n",
    "print ('Лучшее значение F1 меры равно:', best_result_rf, 'при глубине:', best_depth_rf, 'и количестве:',  best_est_rf)\n",
    "rf_plot = rf_plot.join(rf_plot_cw)"
   ]
  },
  {
   "cell_type": "code",
   "execution_count": 15,
   "metadata": {
    "scrolled": true
   },
   "outputs": [
    {
     "name": "stderr",
     "output_type": "stream",
     "text": [
      "  0%|          | 0/10 [00:00<?, ?it/s]/opt/conda/lib/python3.9/site-packages/sklearn/svm/_base.py:985: ConvergenceWarning: Liblinear failed to converge, increase the number of iterations.\n",
      "  warnings.warn(\"Liblinear failed to converge, increase \"\n",
      "100%|██████████| 10/10 [00:01<00:00,  5.96it/s]"
     ]
    },
    {
     "name": "stdout",
     "output_type": "stream",
     "text": [
      "Лучшее значение F1 меры равно: 0.5285338015803336 при количестве итераций равное: 101\n"
     ]
    },
    {
     "name": "stderr",
     "output_type": "stream",
     "text": [
      "\n"
     ]
    }
   ],
   "source": [
    "#обучение модели алгоритмом LogisticRegression(lr) \n",
    "lr_plot_cw = pd.DataFrame({'f1_score_cw':[]})\n",
    "best_max_iter_lr = 0\n",
    "best_result_lr = 0\n",
    "\n",
    "for iters in tqdm(range (1,1000, 100)):\n",
    "    model = LogisticRegression(random_state = 12345, solver = 'liblinear', max_iter = iters, class_weight = 'balanced')\n",
    "    model.fit (features_train, target_train)\n",
    "    predictions_lr_valid = model.predict (features_valid)\n",
    "    result_lr_f1 = f1_score (target_valid, predictions_lr_valid)\n",
    "    \n",
    "    if best_result_lr < result_lr_f1:\n",
    "        best_result_lr = result_lr_f1\n",
    "        best_max_iter_lr = iters\n",
    "        \n",
    "    lr_plot_cw = lr_plot_cw.append ({'f1_score_cw': result_lr_f1}, ignore_index=True)\n",
    "        \n",
    "print ('Лучшее значение F1 меры равно:', best_result_lr, 'при количестве итераций равное:',  best_max_iter_lr)\n",
    "lr_plot = lr_plot.join(lr_plot_cw)"
   ]
  },
  {
   "cell_type": "markdown",
   "metadata": {},
   "source": [
    "**Вывод:** добавив аргумент `class_weight` были достигнуты следующий уровень качества для моделей:\n",
    "- `DecisionTreeClassifier`: значение F1 меры равно: **0.575925925925926** при глубине: **6**\n",
    "- `RandomForestClassifier`: значение F1 меры равно: **0.6530120481927711** при глубине: **10** и количестве: **61**\n",
    "- `LogisticRegression`: значение F1 меры равно: **0.5285338015803336** при количестве итераций равное: **101**"
   ]
  },
  {
   "cell_type": "markdown",
   "metadata": {},
   "source": [
    "### Увеличение выборки - upsampling\n",
    "\n",
    "Воспользуемся методом `upsampling`, который подразумевает увеличение количества ответов с значением 1. Таким образом достигается большее количество данных для обучения модели.\n",
    "\n",
    "Для использования данного метода необходимо написать функцию, которая будет принимать значения признаков и целевого признака, а также будет передавать множитель. В процессе выполнения функция будет умножать данные, значения которых равны 1 на множитель, тем самым увеличивая данные в популяции.\n",
    "\n",
    "Для того, чтобы данные не шли друг за другом используем метод `shuffle` - который отвечает за перемешивание переменных в выборке.\n",
    "\n",
    "Так как соотношение классов в целевом признаке составляет примерно 20/80 - в качестве множителя укажем 4 - таким образом будет достигнут баланс классов. \n",
    "\n",
    "Сбалансируем наши признаки и поставим полученные значения в каждую из моделей и рассмотрим полученные результаты."
   ]
  },
  {
   "cell_type": "code",
   "execution_count": 16,
   "metadata": {},
   "outputs": [],
   "source": [
    "#функция для увеличения обучающей выборки\n",
    "\n",
    "def upsample (features, target, repeat):\n",
    "    features_zeros = features[target == 0]\n",
    "    features_ones = features[target == 1]\n",
    "    target_zeros = target[target == 0]\n",
    "    target_ones = target[target == 1]\n",
    "\n",
    "    features_upsampled = pd.concat([features_zeros] + [features_ones] * repeat)\n",
    "    target_upsampled = pd.concat([target_zeros] + [target_ones] * repeat)\n",
    "    \n",
    "    features_upsampled, target_upsampled = shuffle(\n",
    "        features_upsampled, target_upsampled, random_state=12345)\n",
    "    \n",
    "    return features_upsampled, target_upsampled\n",
    "\n",
    "features_upsampled, target_upsampled = upsample(features_train, target_train, 4)"
   ]
  },
  {
   "cell_type": "code",
   "execution_count": 17,
   "metadata": {
    "scrolled": true
   },
   "outputs": [
    {
     "name": "stderr",
     "output_type": "stream",
     "text": [
      "100%|██████████| 49/49 [00:01<00:00, 28.12it/s]"
     ]
    },
    {
     "name": "stdout",
     "output_type": "stream",
     "text": [
      "Лучшее значение F1 меры равно: 0.575925925925926 при глубине: 6\n"
     ]
    },
    {
     "name": "stderr",
     "output_type": "stream",
     "text": [
      "\n"
     ]
    }
   ],
   "source": [
    "#обучение модели алгоритмом DecisionTreeClassifier(dt)\n",
    "dt_plot_ups = pd.DataFrame ({'f1_score_ups':[]})\n",
    "best_result_dt = 0\n",
    "best_depth_dt = 0\n",
    "\n",
    "for depth in tqdm(range(1,50)):\n",
    "    model = DecisionTreeClassifier(random_state = 12345, max_depth = depth)\n",
    "    model.fit (features_upsampled, target_upsampled)\n",
    "    prediction_dt_valid = model.predict(features_valid)\n",
    "    \n",
    "    result_dt_f1 = f1_score(target_valid,prediction_dt_valid)\n",
    "    if result_dt_f1 > best_result_dt:\n",
    "        best_result_dt= result_dt_f1\n",
    "        best_depth_dt = depth\n",
    "    dt_plot_ups = dt_plot_ups.append ({'f1_score_ups':result_dt_f1}, ignore_index=True)\n",
    "    \n",
    "print ('Лучшее значение F1 меры равно:', best_result_dt, 'при глубине:', best_depth_dt)\n",
    "\n",
    "dt_plot = dt_plot.join(dt_plot_ups)"
   ]
  },
  {
   "cell_type": "code",
   "execution_count": 18,
   "metadata": {
    "scrolled": true
   },
   "outputs": [
    {
     "name": "stderr",
     "output_type": "stream",
     "text": [
      "100%|██████████| 10/10 [01:24<00:00,  8.49s/it]"
     ]
    },
    {
     "name": "stdout",
     "output_type": "stream",
     "text": [
      "Лучшее значение F1 меры равно: 0.5779122541603631 при глубине: 1 и количестве: 1\n"
     ]
    },
    {
     "name": "stderr",
     "output_type": "stream",
     "text": [
      "\n"
     ]
    }
   ],
   "source": [
    "#обучение модели алгоритмом RandomForestClassifier(rf)\n",
    "rf_plot_ups = pd.DataFrame ({'f1_score_ups':[]})\n",
    "best_depth_rf = 0\n",
    "best_est_rf = 0\n",
    "best_result_rf = 0\n",
    "n_iter = 0\n",
    "\n",
    "for est in tqdm(range(1,100,10)):\n",
    "    for depth in (range(1,25)):\n",
    "        model = RandomForestClassifier( random_state = 12345, max_depth = depth, n_estimators = est)\n",
    "        model.fit (features_upsampled, target_upsampled)\n",
    "        predictiobns_rf_valid = model.predict (features_valid)\n",
    "        result_rf_f1 = f1_score (target_valid, predictions_rf_valid)\n",
    "        \n",
    "        if best_result_rf < result_rf_f1:\n",
    "            best_result_rf = result_rf_f1\n",
    "            best_est_rf = est\n",
    "            best_depth_rf = depth\n",
    "        \n",
    "        rf_plot_ups = rf_plot_ups.append ({'f1_score_ups': result_rf_f1}, ignore_index=True)\n",
    "        \n",
    "print ('Лучшее значение F1 меры равно:', best_result_rf, 'при глубине:', best_depth_rf, 'и количестве:',  best_est_rf)\n",
    "rf_plot = rf_plot.join(rf_plot_ups)"
   ]
  },
  {
   "cell_type": "code",
   "execution_count": 19,
   "metadata": {},
   "outputs": [
    {
     "name": "stderr",
     "output_type": "stream",
     "text": [
      "  0%|          | 0/10 [00:00<?, ?it/s]/opt/conda/lib/python3.9/site-packages/sklearn/svm/_base.py:985: ConvergenceWarning: Liblinear failed to converge, increase the number of iterations.\n",
      "  warnings.warn(\"Liblinear failed to converge, increase \"\n",
      "100%|██████████| 10/10 [00:01<00:00,  5.71it/s]\n"
     ]
    },
    {
     "name": "stdout",
     "output_type": "stream",
     "text": [
      "Лучшее значение F1 меры равно: 0.5246753246753246 при количестве итераций равное: 101\n"
     ]
    }
   ],
   "source": [
    "#обучение модели алгоритмом LogisticRegression(lr) \n",
    "lr_plot_ups = pd.DataFrame({'f1_score_ups':[]})\n",
    "best_max_iter_lr = 0\n",
    "best_result_lr = 0\n",
    "\n",
    "for iters in tqdm(range (1,1000, 100)):\n",
    "    model = LogisticRegression(random_state = 12345, solver = 'liblinear', max_iter = iters)\n",
    "    model.fit (features_upsampled, target_upsampled)\n",
    "    predictions_lr_valid = model.predict (features_valid)\n",
    "    result_lr_f1 = f1_score (target_valid, predictions_lr_valid)\n",
    "    \n",
    "    if best_result_lr < result_lr_f1:\n",
    "        best_result_lr = result_lr_f1\n",
    "        best_max_iter_lr = iters\n",
    "        \n",
    "    lr_plot_ups = lr_plot_ups.append ({'f1_score_ups': result_lr_f1}, ignore_index=True)\n",
    "    \n",
    "print ('Лучшее значение F1 меры равно:', best_result_lr, 'при количестве итераций равное:',  best_max_iter_lr)\n",
    "lr_plot = lr_plot.join(lr_plot_ups)"
   ]
  },
  {
   "cell_type": "markdown",
   "metadata": {},
   "source": [
    "**Вывод:** применив метод `upsamplin` были получены следующие результаты:\n",
    "- `DecisionTreeClassifier`: значение F1 меры равно: **0.575925925925926** при глубине: **6**\n",
    "- `RandomForestClassifier`: значение F1 меры равно: **0.5779122541603631** при глубине: **1** и количестве: **1**\n",
    "- `LogisticRegression`: значение **0.5246753246753246** при количестве итераций равное: **101**"
   ]
  },
  {
   "cell_type": "markdown",
   "metadata": {},
   "source": [
    "### Уменьшение выборки - downsampling\n",
    "\n",
    "Воспользуемся методом `downsampling`, данный метод противоположен методу `upsampling`. Он, наоборот уменьшает количество значений имеющих 0, тем самым сокращая общую популяцию.\n",
    "\n",
    "Для использования данного метода необходимо написать функцию, которая будет принимать значения признаков и целевого признака, а также будет передавать доли, которую необходимо \"отрезать\" от класса 0. \n",
    "\n",
    "Для того чтобы указать долю в функции используется метод `frac`, которому передается значение доли\n",
    "\n",
    "Аналогично применяем метод `shuffle` для перемешивания данных.\n",
    "Так как соотношения классов 20/80, необходимо оставить долю - 0.25."
   ]
  },
  {
   "cell_type": "code",
   "execution_count": 20,
   "metadata": {},
   "outputs": [],
   "source": [
    "def downsample(features, target, fraction):\n",
    "    features_zeros = features[target == 0]\n",
    "    features_ones = features[target == 1]\n",
    "    target_zeros = target[target == 0]\n",
    "    target_ones = target[target == 1]\n",
    "\n",
    "    features_downsampled = pd.concat(\n",
    "        [features_zeros.sample(frac=fraction, random_state=12345)] + [features_ones])\n",
    "    target_downsampled = pd.concat(\n",
    "        [target_zeros.sample(frac=fraction, random_state=12345)] + [target_ones])\n",
    "    \n",
    "    features_downsampled, target_downsampled = shuffle(\n",
    "        features_downsampled, target_downsampled, random_state=12345)\n",
    "    \n",
    "    return features_downsampled, target_downsampled\n",
    "\n",
    "features_downsampled, target_downsampled = downsample(features_train, target_train, 0.25)"
   ]
  },
  {
   "cell_type": "code",
   "execution_count": 21,
   "metadata": {
    "scrolled": true
   },
   "outputs": [
    {
     "name": "stderr",
     "output_type": "stream",
     "text": [
      "100%|██████████| 49/49 [00:00<00:00, 68.58it/s]"
     ]
    },
    {
     "name": "stdout",
     "output_type": "stream",
     "text": [
      "Лучшее значение F1 меры равно: 0.5944919278252612 при глубине: 6\n"
     ]
    },
    {
     "name": "stderr",
     "output_type": "stream",
     "text": [
      "\n"
     ]
    }
   ],
   "source": [
    "#обучение модели алгоритмом DecisionTreeClassifier(dt)\n",
    "dt_plot_dws = pd.DataFrame ({'f1_score_dws':[]})\n",
    "best_result_dt = 0\n",
    "best_depth_dt = 0\n",
    "\n",
    "for depth in tqdm(range(1,50)):\n",
    "    model = DecisionTreeClassifier(random_state = 12345, max_depth = depth)\n",
    "    model.fit (features_downsampled, target_downsampled)\n",
    "    prediction_dt_valid = model.predict(features_valid)\n",
    "    \n",
    "    result_dt_f1 = f1_score(target_valid,prediction_dt_valid)\n",
    "    if result_dt_f1 > best_result_dt:\n",
    "        best_result_dt= result_dt_f1\n",
    "        best_depth_dt = depth\n",
    "    dt_plot_dws = dt_plot_dws.append ({'f1_score_dws':result_dt_f1}, ignore_index=True)\n",
    "    \n",
    "print ('Лучшее значение F1 меры равно:', best_result_dt, 'при глубине:', best_depth_dt)\n",
    "\n",
    "dt_plot = dt_plot.join(dt_plot_dws)"
   ]
  },
  {
   "cell_type": "code",
   "execution_count": 22,
   "metadata": {
    "scrolled": true
   },
   "outputs": [
    {
     "name": "stderr",
     "output_type": "stream",
     "text": [
      "100%|██████████| 10/10 [00:35<00:00,  3.56s/it]"
     ]
    },
    {
     "name": "stdout",
     "output_type": "stream",
     "text": [
      "Лучшее значение F1 меры равно: 0.6350435624394966 при глубине: 7 и количестве: 31\n"
     ]
    },
    {
     "name": "stderr",
     "output_type": "stream",
     "text": [
      "\n"
     ]
    }
   ],
   "source": [
    "#обучение модели алгоритмом RandomForestClassifier(rf)\n",
    "rf_plot_dws = pd.DataFrame ({'f1_score_dws':[]})\n",
    "best_depth_rf = 0\n",
    "best_est_rf = 0\n",
    "best_result_rf = 0\n",
    "n_iter = 0\n",
    "\n",
    "for est in tqdm(range(1,100,10)):\n",
    "    for depth in (range(1,25)):\n",
    "        model = RandomForestClassifier( random_state = 12345, max_depth = depth, n_estimators = est)\n",
    "        model.fit (features_downsampled, target_downsampled)\n",
    "        predictions_rf_valid = model.predict (features_valid)\n",
    "        result_rf_f1 = f1_score (target_valid, predictions_rf_valid)\n",
    "        \n",
    "        if best_result_rf < result_rf_f1:\n",
    "            best_result_rf = result_rf_f1\n",
    "            best_est_rf = est\n",
    "            best_depth_rf = depth\n",
    "        \n",
    "        rf_plot_dws = rf_plot_dws.append ({'f1_score_dws': result_rf_f1}, ignore_index=True)\n",
    "        \n",
    "print ('Лучшее значение F1 меры равно:', best_result_rf, 'при глубине:', best_depth_rf, 'и количестве:',  best_est_rf)\n",
    "rf_plot = rf_plot.join(rf_plot_dws)"
   ]
  },
  {
   "cell_type": "code",
   "execution_count": 23,
   "metadata": {},
   "outputs": [
    {
     "name": "stderr",
     "output_type": "stream",
     "text": [
      "  0%|          | 0/10 [00:00<?, ?it/s]/opt/conda/lib/python3.9/site-packages/sklearn/svm/_base.py:985: ConvergenceWarning: Liblinear failed to converge, increase the number of iterations.\n",
      "  warnings.warn(\"Liblinear failed to converge, increase \"\n",
      "100%|██████████| 10/10 [00:01<00:00,  7.56it/s]\n"
     ]
    },
    {
     "name": "stdout",
     "output_type": "stream",
     "text": [
      "Лучшее значение F1 меры равно: 0.5275862068965517 при количестве итераций равное: 101\n"
     ]
    }
   ],
   "source": [
    "#обучение модели алгоритмом LogisticRegression(lr) \n",
    "lr_plot_dws = pd.DataFrame({'f1_score_dws':[]})\n",
    "best_max_iter_lr = 0\n",
    "best_result_lr = 0\n",
    "\n",
    "for iters in tqdm(range (1,1000, 100)):\n",
    "    model = LogisticRegression(random_state = 12345, solver = 'liblinear', max_iter = iters)\n",
    "    model.fit (features_downsampled, target_downsampled)\n",
    "    predictions_lr_valid = model.predict (features_valid)\n",
    "    result_lr_f1 = f1_score (target_valid, predictions_lr_valid)\n",
    "    \n",
    "    if best_result_lr < result_lr_f1:\n",
    "        best_result_lr = result_lr_f1\n",
    "        best_max_iter_lr = iters\n",
    "        \n",
    "    lr_plot_dws = lr_plot_dws.append ({'f1_score_dws': result_lr_f1}, ignore_index=True)\n",
    "    \n",
    "print ('Лучшее значение F1 меры равно:', best_result_lr, 'при количестве итераций равное:',  best_max_iter_lr)\n",
    "lr_plot = lr_plot.join(lr_plot_dws)"
   ]
  },
  {
   "cell_type": "markdown",
   "metadata": {},
   "source": [
    "**Вывод:** применив метод `downsamplin` были получены следующие результаты:\n",
    "- `DecisionTreeClassifier`: значение F1 меры равно: **0.5958254269449715** при глубине: 6\n",
    "- `RandomForestClassifier`: значение F1 меры равно: **0.6350435624394966** при глубине: **7** и количестве: **31**\n",
    "- `LogisticRegression`: значение **0.5275862068965517** при количестве итераций равное: **101**"
   ]
  },
  {
   "cell_type": "markdown",
   "metadata": {},
   "source": [
    "### Изменение порога классификации методом `predict_proba`\n",
    "\n",
    "Последним методом для баланса классов выберем метод изменения порога классификации с помощью `predict_proba`.\n",
    "\n",
    "Суть данного метода заключается в том, что мы сдвигаем порог, при котором модель принимает решения отнести предсказание на \"0\" или \"1\" \n",
    "\n",
    "В данном методе применяется функция `predict_proba`, которая предсказывает вероятность класса.\n",
    "\n",
    "Применим данный метод ко всем трем моделям и изучим полученные результаты."
   ]
  },
  {
   "cell_type": "code",
   "execution_count": 24,
   "metadata": {
    "scrolled": true
   },
   "outputs": [
    {
     "name": "stderr",
     "output_type": "stream",
     "text": [
      "100%|██████████| 49/49 [00:02<00:00, 20.24it/s]"
     ]
    },
    {
     "name": "stdout",
     "output_type": "stream",
     "text": [
      "Лучшее значение F1 меры равно: 0.6091127098321343 при глубине: 5 и пороге: 0.26\n"
     ]
    },
    {
     "name": "stderr",
     "output_type": "stream",
     "text": [
      "\n"
     ]
    }
   ],
   "source": [
    "#обучение модели алгоритмом DecisionTreeClassifier(dt)\n",
    "dt_plot_proba = pd.DataFrame ({'f1_score_proba':[]})\n",
    "best_result_dt = 0\n",
    "best_depth_dt = 0\n",
    "treshold_dt = 0\n",
    "\n",
    "for depth in tqdm(range(1,50)):\n",
    "    model = DecisionTreeClassifier(random_state = 12345, max_depth = depth)\n",
    "    model.fit (features_train, target_train)\n",
    "    \n",
    "    probabilities_valid_dt = model.predict_proba(features_valid)\n",
    "    probabilities_one_valid_dt = probabilities_valid_dt[:, 1]\n",
    "    \n",
    "    for threshold in np.arange(0, 0.3, 0.02):\n",
    "        predicted_dt_valid = probabilities_one_valid_dt > threshold\n",
    "        result_dt_f1 = f1_score(target_valid,predicted_dt_valid)\n",
    "        \n",
    "        if result_dt_f1 > best_result_dt:\n",
    "            best_result_dt= result_dt_f1\n",
    "            best_depth_dt = depth\n",
    "            treshold_dt = threshold\n",
    "            \n",
    "            \n",
    "            \n",
    "    dt_plot_proba = dt_plot_proba.append ({'f1_score_proba':result_dt_f1}, ignore_index=True)\n",
    "    \n",
    "print ('Лучшее значение F1 меры равно:', best_result_dt, 'при глубине:', best_depth_dt, 'и пороге:', treshold_dt)\n",
    "\n",
    "dt_plot = dt_plot.join(dt_plot_proba)"
   ]
  },
  {
   "cell_type": "code",
   "execution_count": 25,
   "metadata": {},
   "outputs": [
    {
     "name": "stderr",
     "output_type": "stream",
     "text": [
      "100%|██████████| 10/10 [01:06<00:00,  6.69s/it]"
     ]
    },
    {
     "name": "stdout",
     "output_type": "stream",
     "text": [
      "Лучшее значение F1 меры равно: 0.6556603773584906 при глубине: 7 и количестве: 61 и пороге: 0.28\n"
     ]
    },
    {
     "name": "stderr",
     "output_type": "stream",
     "text": [
      "\n"
     ]
    }
   ],
   "source": [
    "#обучение модели алгоритмом RandomForestClassifier(rf)\n",
    "rf_plot_proba = pd.DataFrame ({'f1_score_proba':[]})\n",
    "best_depth_rf = 0\n",
    "best_est_rf = 0\n",
    "best_result_rf = 0\n",
    "n_iter = 0\n",
    "\n",
    "for est in tqdm(range(1,100,10)):\n",
    "    for depth in (range(1,25)):\n",
    "        model = RandomForestClassifier( random_state = 12345, max_depth = depth, n_estimators = est)\n",
    "        model.fit (features_train, target_train)\n",
    "        \n",
    "        probabilities_valid_rf = model.predict_proba(features_valid)\n",
    "        probabilities_one_valid_rf = probabilities_valid_rf[:, 1]\n",
    "        \n",
    "        for threshold in np.arange(0, 0.3, 0.02):\n",
    "            predicted_rf_valid = probabilities_one_valid_rf > threshold\n",
    "            result_rf_f1 = f1_score(target_valid,predicted_rf_valid)\n",
    "        \n",
    "            if best_result_rf < result_rf_f1:\n",
    "                best_result_rf = result_rf_f1\n",
    "                best_est_rf = est\n",
    "                best_depth_rf = depth\n",
    "                treshold_rf = threshold\n",
    "        \n",
    "        rf_plot_proba = rf_plot_proba.append ({'f1_score_proba': result_rf_f1}, ignore_index=True)\n",
    "        \n",
    "print ('Лучшее значение F1 меры равно:', best_result_rf, 'при глубине:', best_depth_rf, 'и количестве:',  best_est_rf, \n",
    "       'и пороге:', treshold_rf)\n",
    "rf_plot = rf_plot.join(rf_plot_proba)"
   ]
  },
  {
   "cell_type": "code",
   "execution_count": 26,
   "metadata": {},
   "outputs": [
    {
     "name": "stderr",
     "output_type": "stream",
     "text": [
      "  0%|          | 0/10 [00:00<?, ?it/s]/opt/conda/lib/python3.9/site-packages/sklearn/svm/_base.py:985: ConvergenceWarning: Liblinear failed to converge, increase the number of iterations.\n",
      "  warnings.warn(\"Liblinear failed to converge, increase \"\n",
      "100%|██████████| 10/10 [00:01<00:00,  5.07it/s]"
     ]
    },
    {
     "name": "stdout",
     "output_type": "stream",
     "text": [
      "Лучшее значение F1 меры равно: 0.5263157894736841 при количестве итераций равное: 101 и пороге: 0.22\n"
     ]
    },
    {
     "name": "stderr",
     "output_type": "stream",
     "text": [
      "\n"
     ]
    }
   ],
   "source": [
    "#обучение модели алгоритмом LogisticRegression(lr) \n",
    "lr_plot_proba = pd.DataFrame({'f1_score_proba':[]})\n",
    "best_max_iter_lr = 0\n",
    "best_result_lr = 0\n",
    "\n",
    "for iters in tqdm(range (1,1000, 100)):\n",
    "    model = LogisticRegression(random_state = 12345, solver = 'liblinear', max_iter = iters)\n",
    "    model.fit (features_train, target_train)\n",
    "   \n",
    "    probabilities_valid_lr = model.predict_proba(features_valid)\n",
    "    probabilities_one_valid_lr = probabilities_valid_lr[:, 1]\n",
    "    \n",
    "    for threshold in np.arange(0, 0.3, 0.02):\n",
    "        predicted_lr_valid = probabilities_one_valid_lr > threshold\n",
    "        result_lr_f1 = f1_score(target_valid,predicted_lr_valid)\n",
    "    \n",
    "        if best_result_lr < result_lr_f1:\n",
    "            best_result_lr = result_lr_f1\n",
    "            best_max_iter_lr = iters\n",
    "            treshold_lr = threshold\n",
    "        \n",
    "    lr_plot_proba = lr_plot_proba.append ({'f1_score_proba': result_lr_f1}, ignore_index=True)\n",
    "    \n",
    "print ('Лучшее значение F1 меры равно:', best_result_lr, 'при количестве итераций равное:',  best_max_iter_lr,\n",
    "      'и пороге:', treshold_lr)\n",
    "lr_plot = lr_plot.join(lr_plot_proba)"
   ]
  },
  {
   "cell_type": "markdown",
   "metadata": {},
   "source": [
    "**Вывод:** применив метод изменения порога классификации были получены следующие результаты:\n",
    "- `DecisionTreeClassifier`: значение F1 меры равно: **0.6091127098321343** при глубине: **5** и пороге: **0.26**\n",
    "- `RandomForestClassifier`: значение F1 меры равно: **0.6556603773584906** при глубине: **7** и количестве: **61** и пороге: **0.28**\n",
    "- `LogisticRegression`: значение **0.5263157894736841** при количестве итераций равное: **101** и пороге: **0.2**"
   ]
  },
  {
   "cell_type": "markdown",
   "metadata": {},
   "source": [
    "Дополнительно построим графики для каждой из трех моделей. На графиках отразим изменения качества моделей по F1 мере в зависимости от метода баланса классов."
   ]
  },
  {
   "cell_type": "code",
   "execution_count": 27,
   "metadata": {},
   "outputs": [
    {
     "data": {
      "image/png": "[encoded data removed]",
      "text/plain": [
       "<Figure size 1080x576 with 1 Axes>"
      ]
     },
     "metadata": {
      "needs_background": "light"
     },
     "output_type": "display_data"
    }
   ],
   "source": [
    "#выведем график DecisionTreeClassifier(dt) на экран \n",
    "plt.rcParams ['figure.figsize'] = [15, 8]\n",
    "fig, ax = plt.subplots()\n",
    "ax.plot (dt_plot['depth'], dt_plot['f1_score'], 'o-', label = 'f1_score')\n",
    "ax.plot (dt_plot['depth'], dt_plot['f1_score_cw'], 'o-', label = 'f1_score_cw')\n",
    "ax.plot (dt_plot['depth'], dt_plot['f1_score_ups'], 'o-', label = 'f1_score_ups')\n",
    "ax.plot (dt_plot['depth'], dt_plot['f1_score_dws'], 'o-', label = 'f1_score_dws')\n",
    "ax.plot (dt_plot['depth'], dt_plot['f1_score_proba'], 'o-', label = 'f1_score_proba')\n",
    "plt.title ('График сравнения разных метрик для Решающего дерева')\n",
    "plt.xlabel ('Глубина')\n",
    "plt.ylabel ('Качество модели')\n",
    "plt.legend(fontsize=14)\n",
    "plt.grid()\n",
    "plt.show()"
   ]
  },
  {
   "cell_type": "code",
   "execution_count": 28,
   "metadata": {},
   "outputs": [
    {
     "data": {
      "image/png": "[encoded data removed]",
      "text/plain": [
       "<Figure size 1080x576 with 1 Axes>"
      ]
     },
     "metadata": {
      "needs_background": "light"
     },
     "output_type": "display_data"
    }
   ],
   "source": [
    "#выведем график RandomForestClassifier(rf) на экран \n",
    "plt.rcParams ['figure.figsize'] = [15, 8]\n",
    "fig, ax = plt.subplots()\n",
    "ax.plot (rf_plot['n_iter'], rf_plot['f1_score'], 'o-', label = 'f1_score')\n",
    "ax.plot (rf_plot['n_iter'], rf_plot['f1_score_cw'], 'o-', label = 'f1_score_cw')\n",
    "ax.plot (rf_plot['n_iter'], rf_plot['f1_score_ups'], 'o-', label = 'f1_score_ups')\n",
    "ax.plot (rf_plot['n_iter'], rf_plot['f1_score_dws'], 'o-', label = 'f1_score_dws')\n",
    "ax.plot (rf_plot['n_iter'], rf_plot['f1_score_proba'], 'o-', label = 'f1_score_proba')\n",
    "plt.title ('График сравнения разных метрик для Случайного леса')\n",
    "plt.xlabel ('Номер итерации')\n",
    "plt.ylabel ('Качество модели')\n",
    "plt.legend(fontsize=14)\n",
    "plt.grid()\n",
    "plt.show()"
   ]
  },
  {
   "cell_type": "code",
   "execution_count": 29,
   "metadata": {
    "scrolled": false
   },
   "outputs": [
    {
     "data": {
      "image/png": "[encoded data removed]",
      "text/plain": [
       "<Figure size 1080x576 with 1 Axes>"
      ]
     },
     "metadata": {
      "needs_background": "light"
     },
     "output_type": "display_data"
    }
   ],
   "source": [
    "#выведем график LogisticRegression(lr) на экран \n",
    "plt.rcParams ['figure.figsize'] = [15, 8]\n",
    "fig, ax = plt.subplots()\n",
    "ax.plot (lr_plot['max_iter'], lr_plot['f1_score'], 'o-', label = 'f1_score')\n",
    "ax.plot (lr_plot['max_iter'], lr_plot['f1_score_cw'], 'o-', label = 'f1_score_cw')\n",
    "ax.plot (lr_plot['max_iter'], lr_plot['f1_score_ups'], 'o-', label = 'f1_score_ups')\n",
    "ax.plot (lr_plot['max_iter'], lr_plot['f1_score_dws'], 'o-', label = 'f1_score_dws')\n",
    "ax.plot (lr_plot['max_iter'], lr_plot['f1_score_proba'], 'o-', label = 'f1_score_proba')\n",
    "plt.title ('График сравнения разных метрик для Логистической регрессии')\n",
    "plt.xlabel ('Количество итераций')\n",
    "plt.ylabel ('Качество модели')\n",
    "plt.legend(fontsize=14)\n",
    "plt.grid()\n",
    "plt.show()"
   ]
  },
  {
   "cell_type": "markdown",
   "metadata": {},
   "source": [
    "### **Вывод по блоку Учет дисбаланса классов**\n",
    "\n",
    "В рамках данного блока были изучены 4 варианта уменьшения дисбаланса классов:\n",
    "\n",
    "1. Взвешивание классов методом `class_weight`;\n",
    "2. Увеличение выборки - **upsampling**;\n",
    "3. Уменьшение выборки - **downsampling**;\n",
    "4. Изменение порога классификации методом `predict_proba`.\n",
    "\n",
    "Наивысшие показатели меры F1 были достигнуты с помощь методов:\n",
    "- Для модели обученной по алгоритму `DecisionTreeClassifier` лучшее значение достигнуто с помощью метода `изменения порога классификации` - значение меры F1 составило **0.6091127098321343** при глубине: **5** и пороге **0.26** \n",
    "\n",
    "- Для модели обученной по алгоритму `RandomForestClassifier` лучшее значение достигнуто с помощью метода `изменения порога классификации` - значение меры F1 составило **0.6556603773584906** при глубине: **7** и количестве: **61** и пороге: **0.28**\n",
    "\n",
    "- Для модели обученной по алгоритму `LogisticRegression` лучшее значение достигнуто с помощью метода `downsampling` - значение меры F1 составило **0.5275862068965517** при количестве итераций равное: **101**\n",
    "\n",
    "Лучше всего баланс классов повлиял на поведение логистической регрессии - по ней можно отметить достаточно сильное изменение в качестве прогнозов.\n",
    "\n",
    "На графиках выше можно детально отследить изменение в качестве предсказаний в зависимости от метода баланса классов\n",
    "\n",
    "При проверке модели на тестовой выборке будет:\n",
    "-  использоваться модель обученная по алгоритму случайного леса(`RandomForestClassifier`);\n",
    "- значение гиперпараметров max_depth = **7**, n_estimate = **61**\n",
    "- метод балансирования классов - **изменения порога классификации**"
   ]
  },
  {
   "cell_type": "markdown",
   "metadata": {},
   "source": [
    "## Тестирование модели\n",
    "\n",
    "В данном блоке будет выполнена работа:\n",
    "1. Финальное тестирование модели;\n",
    "2. Исследование метрики AUC-ROC"
   ]
  },
  {
   "cell_type": "markdown",
   "metadata": {},
   "source": [
    "### Финальное тестирование модели\n",
    "\n",
    "Так как на основе предсказаний модели на валидационных признаках мы определили наиболее оптимальные параметры, для улучшения  качества предсказания модели, объединим обучающую и валидационную выборку методом `pd.concat()`. На основе новой выборки обучим новую модель и проверим качество предсказания на тестовой выборке.\n",
    "\n",
    "Дополнительно выведем по новой модели дополнительные метрики:\n",
    "- precision (точность) -  показывает сколько объектов в предсказании имеют то же значение, что и по факту.\n",
    "- recall (полнота) - показывает долю объектов которую модель определила верно\n",
    "- F1 - ближе к единице, если параметры `precision` и `recall` ближе к единице, тоже стремится к единице, в противном случае стремится к нулю.\n",
    "- confussion matrix - имеет 4 поля и показывает количество значений попавших в эти поля в следующей классификации:\n",
    "    - Верхнее правое - True Positive\n",
    "    - Верхнее левое - False Positive\n",
    "    - Нижнее правое - Fals Negative\n",
    "    - Нижнее левое - True Negative"
   ]
  },
  {
   "cell_type": "code",
   "execution_count": 30,
   "metadata": {},
   "outputs": [
    {
     "name": "stdout",
     "output_type": "stream",
     "text": [
      "Точность модели составляет 0.6236559139784947 \n",
      "\n",
      "Отчет по дополнительным метрикам: \n",
      "               precision    recall  f1-score   support\n",
      "\n",
      "           1       0.91      0.89      0.90      1593\n",
      "           0       0.61      0.64      0.62       407\n",
      "\n",
      "    accuracy                           0.84      2000\n",
      "   macro avg       0.76      0.77      0.76      2000\n",
      "weighted avg       0.85      0.84      0.84      2000\n",
      "\n"
     ]
    }
   ],
   "source": [
    "# Объединим популяции методом pd.concat()\n",
    "features_train_valid = pd.concat([features_train, features_valid])\n",
    "target_train_valid = pd.concat([target_train, target_valid])\n",
    "\n",
    "# Обучим модель и узнаем качество предсказаний\n",
    "model_test_new = RandomForestClassifier(random_state = 12345, max_depth = 7, n_estimators = 61)\n",
    "model_test_new.fit(features_train_valid, target_train_valid)\n",
    "\n",
    "probabilities_test_rf = model_test_new.predict_proba(features_test)\n",
    "probabilities_one_test_rf = probabilities_test_rf[:, 1]\n",
    "        \n",
    "predicted_rf_test = probabilities_one_test_rf > 0.28\n",
    "result_rf_f1 = f1_score(target_test,predicted_rf_test)\n",
    "\n",
    "print('Точность модели составляет', result_rf_f1, '\\n')\n",
    "\n",
    "# Выведем дополнительные метрики (precition, recall, f1-score) c помощью classification_report()\n",
    "report = classification_report(target_test, predicted_rf_test, target_names=['1', '0'])\n",
    "\n",
    "print('Отчет по дополнительным метрикам:','\\n', report)\n"
   ]
  },
  {
   "cell_type": "markdown",
   "metadata": {},
   "source": [
    "**Вывод:** Таким образом на тестовой выборке модель показала качество по F1 мере равное **0.6236559139784947**, что выше требуемого порога (0.59)"
   ]
  },
  {
   "cell_type": "markdown",
   "metadata": {},
   "source": [
    "### Определение метрики AUC-ROC\n",
    "\n",
    "Чтобы выявить, как сильно наша модель отличается от случайной, посчитаем площадь под `ROC-кривой` — `AUC-ROC`\n",
    "AUC- ROC метрика качества, которая изменяется от 0 до 1. `AUC-ROC` случайной модели равна 0.5.\n",
    "\n",
    "Чем выше качество модели тем ближе показатель к 1,  на графике более качественная модель находится выше относительно случайной модели.\n",
    "\n",
    "Рассчитаем `AUC-ROC` и построим график."
   ]
  },
  {
   "cell_type": "code",
   "execution_count": 31,
   "metadata": {},
   "outputs": [
    {
     "name": "stdout",
     "output_type": "stream",
     "text": [
      "Метрика AUC-ROC составляет: 0.8555689742130419\n"
     ]
    },
    {
     "data": {
      "image/png": "[encoded data removed]",
      "text/plain": [
       "<Figure size 1080x576 with 1 Axes>"
      ]
     },
     "metadata": {
      "needs_background": "light"
     },
     "output_type": "display_data"
    }
   ],
   "source": [
    "# Расчет AUC-ROC\n",
    "auc_roc = roc_auc_score(target_test, probabilities_one_test_rf)\n",
    "print ('Метрика AUC-ROC составляет:',auc_roc)\n",
    "\n",
    "# построим график\n",
    "fpr, tpr, thresholds = roc_curve (target_test, probabilities_one_test_rf)\n",
    "\n",
    "plt.plot(fpr, tpr, color='darkorange',\n",
    "         label='ROC кривая (area = %0.2f)' % auc_roc)\n",
    "plt.plot([0, 1], [0, 1], color='navy', linestyle='--')\n",
    "plt.xlim([0.0, 1.0])\n",
    "plt.ylim([0.0, 1.05])\n",
    "plt.xlabel('False Positive Rate')\n",
    "plt.ylabel('True Positive Rate')\n",
    "plt.title('ROC-кривая')\n",
    "plt.legend(loc=\"lower right\")\n",
    "plt.show()"
   ]
  },
  {
   "cell_type": "markdown",
   "metadata": {},
   "source": [
    "**Вывод** Значение метрики AUC-ROC составляет **0.8555689742130419** - что намного выше случайного значения. Таким образом можно утверждать, что модель имеет хорошее качество."
   ]
  },
  {
   "cell_type": "markdown",
   "metadata": {},
   "source": [
    "### Вывод по блоку \"Тестирование модели\"\n",
    "\n",
    "В рамках данного блока был проведен тест обученной модели. Для обучения была использована выборка, включающая в себя объединенные обучающие и валидационные выборки. Результат тестирования модели составляет **0.6236559139784947** по F1 мере, что выше требуемого порога (0.59)\n",
    "\n",
    "Дополнительно была рассчитана метрика `AUC-ROC` и построена `ROC-кривая`, значение метрики составило **0.8555689742130419** - что говорит о хорошем качестве модели."
   ]
  },
  {
   "cell_type": "markdown",
   "metadata": {},
   "source": [
    "## Общий вывод.\n",
    "\n",
    "В данном проекте была проведена работа по построению модели для Банка \"Бета-Банка\". Данная модель будет предсказывать поведение Клиента - останется или перестанет пользоваться услугами банка.\n",
    "\n",
    "В проекте были выполнены следующие процедуры:\n",
    "\n",
    "**1. Проведен первичный анализ данных, изучение и предобработка полученных данных.**\n",
    "\n",
    "В рамках данного этапа был получен датафрейм содержащий 10 000 записей о клиентах банка и имеющий 14 признаков по каждому клиенту. С датафреймом были проведены следующие операции: \n",
    "\n",
    "- названия колонок приведены к нижнему регистру;\n",
    "- из датафрейма были удалены признаки, которые не нужны для обучения модели :Индекс строки данных, ИД Клиента, Фамилия, так как они никак не способствуют пониманию поведения Клиентов;\n",
    "- пропуски в данных в столбце \"Tenure\" были заполнены медианным значением.\n",
    "\n",
    "**2. Проведено построение моделей без учета дисбаланса данных.**\n",
    "\n",
    "Был изучен целевой признак на предмет сбалансированности - соотношение классов \"1\" и \"0\" составляет 20/80 - имеется дисбаланс классов.\n",
    "\n",
    "Далее, на основе популяции были сформированы 3 выборки:\n",
    "- обучающую (**60%**);\n",
    "- валидационную (**20%**);\n",
    "- тестовую (**20%**).\n",
    "\n",
    "Также были обучены модели на трех алгоритмах, качество предсказаний для каждой из моделей составляет:\n",
    "- `DecisionTreeClassifier` - модель обученная по алгоритму решающего дерева - качество верных предсказаний: 59%\n",
    "- `RandomForestClassifier` - модель обученная по алгоритму случайного леса - качество верных предсказаний: 63%\n",
    "- `LogisticRegression` - модель обученная по алгоритму логистической регрессии - качество верных предсказаний: 30%\n",
    "\n",
    "**3. Уменьшение дисбаланса классов.**\n",
    "\n",
    "В рамках данного блока были приняты действия по уменьшению дисбаланса классов с помощью 4х методов:\n",
    "- Взвешивание классов методом `class_weight`;\n",
    "- Увеличение выборки - **upsampling**;\n",
    "- Уменьшение выборки - **downsampling**;\n",
    "- Изменение порога классификации методом `predict_proba`.\n",
    "\n",
    "Для каждого из методов были обучены модели по трем алгоритмам. Лучшие результаты для каждой модели были получены с помощью следующих методов:\n",
    "\n",
    "- Для модели обученной по алгоритму `DecisionTreeClassifier` лучшее значение достигнуто с помощью метода `изменения порога классификации` - значение меры F1 составило **0.61** при глубине: **5** и пороге **0.26** \n",
    "- Для модели обученной по алгоритму `RandomForestClassifier` лучшее значение достигнуто с помощью метода `изменения порога \n",
    "классификации` - значение меры F1 составило **0.66** при глубине: **7** и количестве: **61** и пороге: **0.28**\n",
    "- Для модели обученной по алгоритму `LogisticRegression` лучшее значение достигнуто с помощью метода `downsampling` - значение меры F1 составило **0.53** при количестве итераций равное: **101**\n",
    "\n",
    "Далее была выбрана финальная модель. имеющая следующие показатели:\n",
    "\n",
    "-  модель обученная по алгоритму случайного леса(`RandomForestClassifier`);\n",
    "- значение гиперпараметров max_depth = **7**, n_estimate = **61**\n",
    "- метод балансирования классов - **изменения порога классификации**\n",
    "\n",
    "**4. Тестирование модели**\n",
    "\n",
    "В данном блоке в первую очередь были объединены обучающие и валидационные данные для более качественного обучения модели.\n",
    "На основе новых данных была обучена модель случайного леса с заданными гиперпараметрами\n",
    "Качество предсказаний, согласно F1 мере составило - **0.62**\n",
    "\n",
    "Дополнительно было построена ROC кривая и проанализирована метрика AUC ROC,\n",
    "Значение AUC ROC составляет **0.86**, что выше 0.5 - что говорит о том, что модель делает более качественные предсказания, чем случайная модель.\n",
    "\n",
    "**Рекомендации:**\n",
    "При использовании данной модели Банк может ориентироваться на значения, предсказаний: \n",
    "\n",
    "1. Для тех Клиентов, по которым модель предсказала возможное прекращение пользования услугами банка, Банк может предложить индивидуальные выгодные условия, которые повысят лояльность Клиентов.\n",
    "\n",
    "2. Также на основе информации о риски ухода Клиента и сумме средств на его счету можно сформировать ожидание оттока денежных средств и заранее подготовить резервы на случай нехватки ликвидности.\n",
    "\n",
    "3. Данную модель можно использовать и как индикатор удовлетворенности Клиентов, если предсказания об уходе в периоде Растут - то стоит пересмотреть свою политику."
   ]
  }
 ],
 "metadata": {
  "ExecuteTimeLog": [
   {
    "duration": 1127,
    "start_time": "2023-04-17T03:21:28.472Z"
   },
   {
    "duration": 11,
    "start_time": "2023-04-17T03:21:40.903Z"
   },
   {
    "duration": 3,
    "start_time": "2023-04-17T03:21:54.804Z"
   },
   {
    "duration": 3,
    "start_time": "2023-04-17T03:22:27.661Z"
   },
   {
    "duration": 3,
    "start_time": "2023-04-17T03:22:32.356Z"
   },
   {
    "duration": 3,
    "start_time": "2023-04-17T03:22:55.448Z"
   },
   {
    "duration": 169,
    "start_time": "2023-04-17T03:25:57.765Z"
   },
   {
    "duration": 59,
    "start_time": "2023-04-17T03:26:06.409Z"
   },
   {
    "duration": 50,
    "start_time": "2023-04-17T03:27:55.511Z"
   },
   {
    "duration": 60,
    "start_time": "2023-04-17T03:28:03.128Z"
   },
   {
    "duration": 50,
    "start_time": "2023-04-17T03:36:28.333Z"
   },
   {
    "duration": 54,
    "start_time": "2023-04-17T03:37:09.808Z"
   },
   {
    "duration": 61,
    "start_time": "2023-04-17T03:37:48.607Z"
   },
   {
    "duration": 44,
    "start_time": "2023-04-17T03:38:42.473Z"
   },
   {
    "duration": 60,
    "start_time": "2023-04-17T03:38:56.192Z"
   },
   {
    "duration": 57,
    "start_time": "2023-04-17T03:49:44.210Z"
   },
   {
    "duration": 22,
    "start_time": "2023-04-17T03:52:39.828Z"
   },
   {
    "duration": 34,
    "start_time": "2023-04-17T03:52:52.876Z"
   },
   {
    "duration": 21,
    "start_time": "2023-04-17T03:53:06.049Z"
   },
   {
    "duration": 9,
    "start_time": "2023-04-17T03:53:18.916Z"
   },
   {
    "duration": 5,
    "start_time": "2023-04-17T03:53:32.235Z"
   },
   {
    "duration": 19,
    "start_time": "2023-04-17T03:53:40.067Z"
   },
   {
    "duration": 33,
    "start_time": "2023-04-17T03:54:11.768Z"
   },
   {
    "duration": 8,
    "start_time": "2023-04-17T03:54:15.582Z"
   },
   {
    "duration": 5,
    "start_time": "2023-04-17T03:54:43.889Z"
   },
   {
    "duration": 5,
    "start_time": "2023-04-17T03:55:07.232Z"
   },
   {
    "duration": 15,
    "start_time": "2023-04-17T03:55:17.546Z"
   },
   {
    "duration": 7,
    "start_time": "2023-04-17T03:55:49.717Z"
   },
   {
    "duration": 19,
    "start_time": "2023-04-17T03:55:55.647Z"
   },
   {
    "duration": 714,
    "start_time": "2023-04-17T03:56:48.152Z"
   },
   {
    "duration": 6,
    "start_time": "2023-04-17T03:56:51.890Z"
   },
   {
    "duration": 8,
    "start_time": "2023-04-17T03:57:04.522Z"
   },
   {
    "duration": 6,
    "start_time": "2023-04-17T03:57:07.918Z"
   },
   {
    "duration": 11,
    "start_time": "2023-04-17T03:57:15.428Z"
   },
   {
    "duration": 6,
    "start_time": "2023-04-17T03:57:20.575Z"
   },
   {
    "duration": 12,
    "start_time": "2023-04-17T03:57:31.133Z"
   },
   {
    "duration": 10,
    "start_time": "2023-04-17T03:57:35.741Z"
   },
   {
    "duration": 6,
    "start_time": "2023-04-17T03:57:39.495Z"
   },
   {
    "duration": 10,
    "start_time": "2023-04-17T03:57:51.969Z"
   },
   {
    "duration": 6,
    "start_time": "2023-04-17T03:59:06.784Z"
   },
   {
    "duration": 3,
    "start_time": "2023-04-17T03:59:16.402Z"
   },
   {
    "duration": 4,
    "start_time": "2023-04-17T03:59:19.552Z"
   },
   {
    "duration": 6,
    "start_time": "2023-04-17T03:59:28.176Z"
   },
   {
    "duration": 22,
    "start_time": "2023-04-17T04:00:27.752Z"
   },
   {
    "duration": 19,
    "start_time": "2023-04-17T04:00:33.758Z"
   },
   {
    "duration": 27,
    "start_time": "2023-04-17T04:06:14.429Z"
   },
   {
    "duration": 1165,
    "start_time": "2023-04-17T10:41:32.061Z"
   },
   {
    "duration": 119,
    "start_time": "2023-04-17T10:41:33.228Z"
   },
   {
    "duration": 56,
    "start_time": "2023-04-17T10:41:33.349Z"
   },
   {
    "duration": 19,
    "start_time": "2023-04-17T10:41:33.406Z"
   },
   {
    "duration": 135,
    "start_time": "2023-04-17T10:45:14.412Z"
   },
   {
    "duration": 22,
    "start_time": "2023-04-17T10:45:21.348Z"
   },
   {
    "duration": 19,
    "start_time": "2023-04-17T10:45:37.117Z"
   },
   {
    "duration": 17,
    "start_time": "2023-04-17T10:46:12.525Z"
   },
   {
    "duration": 28,
    "start_time": "2023-04-17T10:46:33.342Z"
   },
   {
    "duration": 25,
    "start_time": "2023-04-17T10:46:54.359Z"
   },
   {
    "duration": 12,
    "start_time": "2023-04-17T10:46:58.820Z"
   },
   {
    "duration": 1251,
    "start_time": "2023-04-17T10:47:08.962Z"
   },
   {
    "duration": 66,
    "start_time": "2023-04-17T10:47:10.215Z"
   },
   {
    "duration": 51,
    "start_time": "2023-04-17T10:47:10.282Z"
   },
   {
    "duration": 28,
    "start_time": "2023-04-17T10:47:10.348Z"
   },
   {
    "duration": 37,
    "start_time": "2023-04-17T10:47:10.378Z"
   },
   {
    "duration": 53,
    "start_time": "2023-04-17T10:47:10.417Z"
   },
   {
    "duration": 131,
    "start_time": "2023-04-17T10:47:12.741Z"
   },
   {
    "duration": 1411,
    "start_time": "2023-04-17T10:47:31.475Z"
   },
   {
    "duration": 60,
    "start_time": "2023-04-17T10:47:32.889Z"
   },
   {
    "duration": 71,
    "start_time": "2023-04-17T10:47:32.951Z"
   },
   {
    "duration": 49,
    "start_time": "2023-04-17T10:47:33.025Z"
   },
   {
    "duration": 20,
    "start_time": "2023-04-17T10:47:33.076Z"
   },
   {
    "duration": 62,
    "start_time": "2023-04-17T10:47:33.099Z"
   },
   {
    "duration": 154,
    "start_time": "2023-04-17T10:48:39.701Z"
   },
   {
    "duration": 7,
    "start_time": "2023-04-17T10:48:43.603Z"
   },
   {
    "duration": 9,
    "start_time": "2023-04-17T10:48:51.707Z"
   },
   {
    "duration": 17,
    "start_time": "2023-04-17T10:49:06.707Z"
   },
   {
    "duration": 18,
    "start_time": "2023-04-17T10:49:37.283Z"
   },
   {
    "duration": 24,
    "start_time": "2023-04-17T10:49:40.364Z"
   },
   {
    "duration": 19,
    "start_time": "2023-04-17T10:49:44.365Z"
   },
   {
    "duration": 11,
    "start_time": "2023-04-17T10:49:55.091Z"
   },
   {
    "duration": 10,
    "start_time": "2023-04-17T10:50:05.725Z"
   },
   {
    "duration": 16,
    "start_time": "2023-04-17T10:50:53.053Z"
   },
   {
    "duration": 19,
    "start_time": "2023-04-17T10:51:12.228Z"
   },
   {
    "duration": 12,
    "start_time": "2023-04-17T10:51:25.247Z"
   },
   {
    "duration": 14,
    "start_time": "2023-04-17T10:51:36.659Z"
   },
   {
    "duration": 16,
    "start_time": "2023-04-17T10:51:41.643Z"
   },
   {
    "duration": 16,
    "start_time": "2023-04-17T10:51:47.345Z"
   },
   {
    "duration": 9,
    "start_time": "2023-04-17T10:53:18.415Z"
   },
   {
    "duration": 5,
    "start_time": "2023-04-17T10:55:50.680Z"
   },
   {
    "duration": 8,
    "start_time": "2023-04-17T10:58:14.069Z"
   },
   {
    "duration": 1216,
    "start_time": "2023-04-17T16:47:14.346Z"
   },
   {
    "duration": 100,
    "start_time": "2023-04-17T16:47:15.564Z"
   },
   {
    "duration": 48,
    "start_time": "2023-04-17T16:47:15.666Z"
   },
   {
    "duration": 19,
    "start_time": "2023-04-17T16:47:15.715Z"
   },
   {
    "duration": 11,
    "start_time": "2023-04-17T16:47:15.736Z"
   },
   {
    "duration": 20,
    "start_time": "2023-04-17T16:47:15.748Z"
   },
   {
    "duration": 9,
    "start_time": "2023-04-17T16:47:15.769Z"
   },
   {
    "duration": 124,
    "start_time": "2023-04-17T17:25:41.608Z"
   },
   {
    "duration": 1153,
    "start_time": "2023-04-17T17:25:50.811Z"
   },
   {
    "duration": 67,
    "start_time": "2023-04-17T17:25:51.966Z"
   },
   {
    "duration": 63,
    "start_time": "2023-04-17T17:25:52.035Z"
   },
   {
    "duration": 38,
    "start_time": "2023-04-17T17:25:52.099Z"
   },
   {
    "duration": 13,
    "start_time": "2023-04-17T17:25:52.139Z"
   },
   {
    "duration": 38,
    "start_time": "2023-04-17T17:25:52.153Z"
   },
   {
    "duration": 30,
    "start_time": "2023-04-17T17:25:52.192Z"
   },
   {
    "duration": 10,
    "start_time": "2023-04-17T17:25:52.223Z"
   },
   {
    "duration": 110,
    "start_time": "2023-04-17T17:26:33.212Z"
   },
   {
    "duration": 14,
    "start_time": "2023-04-17T17:26:46.206Z"
   },
   {
    "duration": 1125,
    "start_time": "2023-04-17T17:27:02.212Z"
   },
   {
    "duration": 61,
    "start_time": "2023-04-17T17:27:03.338Z"
   },
   {
    "duration": 50,
    "start_time": "2023-04-17T17:27:03.400Z"
   },
   {
    "duration": 18,
    "start_time": "2023-04-17T17:27:03.453Z"
   },
   {
    "duration": 13,
    "start_time": "2023-04-17T17:27:03.474Z"
   },
   {
    "duration": 24,
    "start_time": "2023-04-17T17:27:03.489Z"
   },
   {
    "duration": 11,
    "start_time": "2023-04-17T17:27:03.534Z"
   },
   {
    "duration": 3,
    "start_time": "2023-04-17T17:27:03.547Z"
   },
   {
    "duration": 127,
    "start_time": "2023-04-17T17:30:00.405Z"
   },
   {
    "duration": 1105,
    "start_time": "2023-04-17T17:30:16.303Z"
   },
   {
    "duration": 61,
    "start_time": "2023-04-17T17:30:17.410Z"
   },
   {
    "duration": 49,
    "start_time": "2023-04-17T17:30:17.473Z"
   },
   {
    "duration": 28,
    "start_time": "2023-04-17T17:30:17.523Z"
   },
   {
    "duration": 12,
    "start_time": "2023-04-17T17:30:17.553Z"
   },
   {
    "duration": 26,
    "start_time": "2023-04-17T17:30:17.566Z"
   },
   {
    "duration": 10,
    "start_time": "2023-04-17T17:30:17.593Z"
   },
   {
    "duration": 37,
    "start_time": "2023-04-17T17:30:17.604Z"
   },
   {
    "duration": 6,
    "start_time": "2023-04-17T17:54:40.452Z"
   },
   {
    "duration": 50,
    "start_time": "2023-04-17T17:55:43.552Z"
   },
   {
    "duration": 511,
    "start_time": "2023-04-17T17:56:55.930Z"
   },
   {
    "duration": 237,
    "start_time": "2023-04-17T17:59:50.043Z"
   },
   {
    "duration": 78,
    "start_time": "2023-04-17T18:00:01.809Z"
   },
   {
    "duration": 79,
    "start_time": "2023-04-17T18:00:15.302Z"
   },
   {
    "duration": 86,
    "start_time": "2023-04-17T18:00:24.026Z"
   },
   {
    "duration": 10,
    "start_time": "2023-04-17T18:00:31.403Z"
   },
   {
    "duration": 63,
    "start_time": "2023-04-17T18:00:35.344Z"
   },
   {
    "duration": 86,
    "start_time": "2023-04-17T18:01:09.723Z"
   },
   {
    "duration": 107,
    "start_time": "2023-04-17T18:02:19.251Z"
   },
   {
    "duration": 201,
    "start_time": "2023-04-17T18:02:38.534Z"
   },
   {
    "duration": 78,
    "start_time": "2023-04-17T18:02:51.021Z"
   },
   {
    "duration": 77,
    "start_time": "2023-04-17T18:03:03.204Z"
   },
   {
    "duration": 124,
    "start_time": "2023-04-17T18:03:37.457Z"
   },
   {
    "duration": 77,
    "start_time": "2023-04-17T18:03:51.699Z"
   },
   {
    "duration": 49,
    "start_time": "2023-04-17T18:06:02.154Z"
   },
   {
    "duration": 72,
    "start_time": "2023-04-17T18:06:09.039Z"
   },
   {
    "duration": 52,
    "start_time": "2023-04-17T18:06:11.902Z"
   },
   {
    "duration": 85,
    "start_time": "2023-04-17T18:06:15.905Z"
   },
   {
    "duration": 171,
    "start_time": "2023-04-17T18:06:22.594Z"
   },
   {
    "duration": 74,
    "start_time": "2023-04-17T18:06:32.812Z"
   },
   {
    "duration": 82,
    "start_time": "2023-04-17T18:06:40.348Z"
   },
   {
    "duration": 80,
    "start_time": "2023-04-17T18:07:12.143Z"
   },
   {
    "duration": 95,
    "start_time": "2023-04-17T18:07:18.902Z"
   },
   {
    "duration": 75,
    "start_time": "2023-04-17T18:08:21.317Z"
   },
   {
    "duration": 77,
    "start_time": "2023-04-17T18:08:26.742Z"
   },
   {
    "duration": 78,
    "start_time": "2023-04-17T18:08:32.583Z"
   },
   {
    "duration": 74,
    "start_time": "2023-04-17T18:08:38.097Z"
   },
   {
    "duration": 72,
    "start_time": "2023-04-17T18:08:46.740Z"
   },
   {
    "duration": 98,
    "start_time": "2023-04-17T18:09:08.984Z"
   },
   {
    "duration": 268,
    "start_time": "2023-04-17T18:09:19.273Z"
   },
   {
    "duration": 104,
    "start_time": "2023-04-17T18:09:39.482Z"
   },
   {
    "duration": 121,
    "start_time": "2023-04-17T18:09:43.955Z"
   },
   {
    "duration": 73,
    "start_time": "2023-04-17T18:09:50.110Z"
   },
   {
    "duration": 78,
    "start_time": "2023-04-17T18:09:55.143Z"
   },
   {
    "duration": 83,
    "start_time": "2023-04-17T18:11:11.833Z"
   },
   {
    "duration": 10,
    "start_time": "2023-04-17T18:12:24.899Z"
   },
   {
    "duration": 82,
    "start_time": "2023-04-17T18:12:36.181Z"
   },
   {
    "duration": 80,
    "start_time": "2023-04-17T18:12:53.891Z"
   },
   {
    "duration": 82,
    "start_time": "2023-04-17T18:13:07.783Z"
   },
   {
    "duration": 77,
    "start_time": "2023-04-17T18:13:12.530Z"
   },
   {
    "duration": 76,
    "start_time": "2023-04-17T18:13:15.434Z"
   },
   {
    "duration": 11,
    "start_time": "2023-04-17T18:22:03.183Z"
   },
   {
    "duration": 5,
    "start_time": "2023-04-17T18:22:11.043Z"
   },
   {
    "duration": 5,
    "start_time": "2023-04-17T18:22:25.303Z"
   },
   {
    "duration": 14,
    "start_time": "2023-04-17T18:26:04.806Z"
   },
   {
    "duration": 10,
    "start_time": "2023-04-17T18:27:08.810Z"
   },
   {
    "duration": 13,
    "start_time": "2023-04-17T18:27:31.917Z"
   },
   {
    "duration": 53,
    "start_time": "2023-04-17T18:28:13.022Z"
   },
   {
    "duration": 14,
    "start_time": "2023-04-17T18:28:22.811Z"
   },
   {
    "duration": 12,
    "start_time": "2023-04-17T18:28:28.110Z"
   },
   {
    "duration": 43,
    "start_time": "2023-04-17T18:33:39.852Z"
   },
   {
    "duration": 54,
    "start_time": "2023-04-17T18:33:53.729Z"
   },
   {
    "duration": 40,
    "start_time": "2023-04-17T18:33:59.943Z"
   },
   {
    "duration": 15,
    "start_time": "2023-04-17T18:34:07.094Z"
   },
   {
    "duration": 23,
    "start_time": "2023-04-17T18:34:52.727Z"
   },
   {
    "duration": 24,
    "start_time": "2023-04-17T18:35:35.622Z"
   },
   {
    "duration": 20,
    "start_time": "2023-04-17T18:36:21.245Z"
   },
   {
    "duration": 17,
    "start_time": "2023-04-17T18:36:50.549Z"
   },
   {
    "duration": 19,
    "start_time": "2023-04-17T18:37:07.489Z"
   },
   {
    "duration": 17,
    "start_time": "2023-04-17T18:37:35.683Z"
   },
   {
    "duration": 15,
    "start_time": "2023-04-17T18:37:50.089Z"
   },
   {
    "duration": 17,
    "start_time": "2023-04-17T18:39:57.269Z"
   },
   {
    "duration": 26,
    "start_time": "2023-04-17T18:53:15.999Z"
   },
   {
    "duration": 30,
    "start_time": "2023-04-17T18:58:08.119Z"
   },
   {
    "duration": 37,
    "start_time": "2023-04-17T18:58:25.314Z"
   },
   {
    "duration": 22,
    "start_time": "2023-04-17T18:58:37.850Z"
   },
   {
    "duration": 1333,
    "start_time": "2023-04-17T18:58:45.625Z"
   },
   {
    "duration": 1579,
    "start_time": "2023-04-17T19:00:37.110Z"
   },
   {
    "duration": 1541,
    "start_time": "2023-04-17T19:00:56.457Z"
   },
   {
    "duration": 1326,
    "start_time": "2023-04-18T10:31:48.747Z"
   },
   {
    "duration": 198,
    "start_time": "2023-04-18T10:31:50.075Z"
   },
   {
    "duration": 49,
    "start_time": "2023-04-18T10:31:50.275Z"
   },
   {
    "duration": 18,
    "start_time": "2023-04-18T10:31:50.326Z"
   },
   {
    "duration": 11,
    "start_time": "2023-04-18T10:31:50.345Z"
   },
   {
    "duration": 38,
    "start_time": "2023-04-18T10:31:50.357Z"
   },
   {
    "duration": 9,
    "start_time": "2023-04-18T10:31:50.397Z"
   },
   {
    "duration": 90,
    "start_time": "2023-04-18T10:31:50.407Z"
   },
   {
    "duration": 22,
    "start_time": "2023-04-18T10:31:50.498Z"
   },
   {
    "duration": 1299,
    "start_time": "2023-04-18T10:31:50.522Z"
   },
   {
    "duration": 3,
    "start_time": "2023-04-18T10:33:24.614Z"
   },
   {
    "duration": 93,
    "start_time": "2023-04-18T10:40:02.232Z"
   },
   {
    "duration": 98,
    "start_time": "2023-04-18T10:40:22.214Z"
   },
   {
    "duration": 2887,
    "start_time": "2023-04-18T10:40:28.662Z"
   },
   {
    "duration": 1618,
    "start_time": "2023-04-18T10:41:06.770Z"
   },
   {
    "duration": 1496,
    "start_time": "2023-04-18T10:41:23.930Z"
   },
   {
    "duration": 1285,
    "start_time": "2023-04-18T10:45:07.172Z"
   },
   {
    "duration": 23,
    "start_time": "2023-04-18T10:49:39.321Z"
   },
   {
    "duration": 35,
    "start_time": "2023-04-18T10:49:47.955Z"
   },
   {
    "duration": 22,
    "start_time": "2023-04-18T10:50:18.321Z"
   },
   {
    "duration": 1223,
    "start_time": "2023-04-18T10:50:28.759Z"
   },
   {
    "duration": 1335,
    "start_time": "2023-04-18T10:50:43.523Z"
   },
   {
    "duration": 23,
    "start_time": "2023-04-18T10:51:12.514Z"
   },
   {
    "duration": 1339,
    "start_time": "2023-04-18T10:51:24.614Z"
   },
   {
    "duration": 1472,
    "start_time": "2023-04-18T10:53:09.615Z"
   },
   {
    "duration": 50,
    "start_time": "2023-04-18T16:43:56.964Z"
   },
   {
    "duration": 1467,
    "start_time": "2023-04-18T16:44:06.958Z"
   },
   {
    "duration": 97,
    "start_time": "2023-04-18T16:44:08.427Z"
   },
   {
    "duration": 44,
    "start_time": "2023-04-18T16:44:08.526Z"
   },
   {
    "duration": 18,
    "start_time": "2023-04-18T16:44:08.572Z"
   },
   {
    "duration": 21,
    "start_time": "2023-04-18T16:44:08.591Z"
   },
   {
    "duration": 24,
    "start_time": "2023-04-18T16:44:08.613Z"
   },
   {
    "duration": 17,
    "start_time": "2023-04-18T16:44:08.639Z"
   },
   {
    "duration": 86,
    "start_time": "2023-04-18T16:44:08.658Z"
   },
   {
    "duration": 28,
    "start_time": "2023-04-18T16:44:08.746Z"
   },
   {
    "duration": 1640,
    "start_time": "2023-04-18T16:44:08.776Z"
   },
   {
    "duration": 0,
    "start_time": "2023-04-18T16:44:10.418Z"
   },
   {
    "duration": 1832,
    "start_time": "2023-04-18T16:44:39.853Z"
   },
   {
    "duration": 22,
    "start_time": "2023-04-18T16:58:12.571Z"
   },
   {
    "duration": 24,
    "start_time": "2023-04-18T16:58:20.756Z"
   },
   {
    "duration": 24,
    "start_time": "2023-04-18T16:58:33.346Z"
   },
   {
    "duration": 1240,
    "start_time": "2023-04-18T17:10:44.196Z"
   },
   {
    "duration": 61,
    "start_time": "2023-04-18T17:10:45.438Z"
   },
   {
    "duration": 43,
    "start_time": "2023-04-18T17:10:45.501Z"
   },
   {
    "duration": 33,
    "start_time": "2023-04-18T17:10:45.546Z"
   },
   {
    "duration": 16,
    "start_time": "2023-04-18T17:10:45.581Z"
   },
   {
    "duration": 19,
    "start_time": "2023-04-18T17:10:45.599Z"
   },
   {
    "duration": 12,
    "start_time": "2023-04-18T17:10:45.619Z"
   },
   {
    "duration": 106,
    "start_time": "2023-04-18T17:10:45.633Z"
   },
   {
    "duration": 37,
    "start_time": "2023-04-18T17:10:45.741Z"
   },
   {
    "duration": 1722,
    "start_time": "2023-04-18T17:10:45.780Z"
   },
   {
    "duration": 147017,
    "start_time": "2023-04-18T17:10:47.503Z"
   },
   {
    "duration": 145703,
    "start_time": "2023-04-18T17:13:54.529Z"
   },
   {
    "duration": 1440,
    "start_time": "2023-04-18T17:17:14.715Z"
   },
   {
    "duration": 52,
    "start_time": "2023-04-18T17:17:16.157Z"
   },
   {
    "duration": 42,
    "start_time": "2023-04-18T17:17:16.210Z"
   },
   {
    "duration": 19,
    "start_time": "2023-04-18T17:17:16.254Z"
   },
   {
    "duration": 11,
    "start_time": "2023-04-18T17:17:16.274Z"
   },
   {
    "duration": 19,
    "start_time": "2023-04-18T17:17:16.286Z"
   },
   {
    "duration": 8,
    "start_time": "2023-04-18T17:17:16.307Z"
   },
   {
    "duration": 98,
    "start_time": "2023-04-18T17:17:16.316Z"
   },
   {
    "duration": 21,
    "start_time": "2023-04-18T17:17:16.415Z"
   },
   {
    "duration": 1735,
    "start_time": "2023-04-18T17:17:16.437Z"
   },
   {
    "duration": 147010,
    "start_time": "2023-04-18T17:17:18.173Z"
   },
   {
    "duration": 0,
    "start_time": "2023-04-18T17:19:45.185Z"
   },
   {
    "duration": 150255,
    "start_time": "2023-04-18T17:20:06.745Z"
   },
   {
    "duration": 150791,
    "start_time": "2023-04-18T17:30:28.652Z"
   },
   {
    "duration": 1,
    "start_time": "2023-04-18T17:32:59.444Z"
   },
   {
    "duration": 65192,
    "start_time": "2023-04-18T17:35:31.350Z"
   },
   {
    "duration": 46,
    "start_time": "2023-04-18T17:37:00.431Z"
   },
   {
    "duration": 47,
    "start_time": "2023-04-18T17:37:08.285Z"
   },
   {
    "duration": 16,
    "start_time": "2023-04-18T17:37:49.296Z"
   },
   {
    "duration": 3848,
    "start_time": "2023-04-18T17:37:59.031Z"
   },
   {
    "duration": 4635,
    "start_time": "2023-04-18T17:38:15.438Z"
   },
   {
    "duration": 6380,
    "start_time": "2023-04-18T17:38:32.088Z"
   },
   {
    "duration": 4980,
    "start_time": "2023-04-18T17:40:27.484Z"
   },
   {
    "duration": 4512,
    "start_time": "2023-04-18T17:41:31.124Z"
   },
   {
    "duration": 20,
    "start_time": "2023-04-18T18:27:15.981Z"
   },
   {
    "duration": 1839,
    "start_time": "2023-04-18T18:27:30.569Z"
   },
   {
    "duration": 1674,
    "start_time": "2023-04-18T18:34:13.214Z"
   },
   {
    "duration": 1512,
    "start_time": "2023-04-18T18:34:36.112Z"
   },
   {
    "duration": 1512,
    "start_time": "2023-04-18T18:35:28.247Z"
   },
   {
    "duration": 1570,
    "start_time": "2023-04-18T18:37:07.982Z"
   },
   {
    "duration": 1576,
    "start_time": "2023-04-18T18:38:40.037Z"
   },
   {
    "duration": 1660,
    "start_time": "2023-04-18T18:40:11.619Z"
   },
   {
    "duration": 1489,
    "start_time": "2023-04-18T18:40:19.913Z"
   },
   {
    "duration": 1640,
    "start_time": "2023-04-18T18:42:42.107Z"
   },
   {
    "duration": 1222,
    "start_time": "2023-04-18T18:43:02.613Z"
   },
   {
    "duration": 55,
    "start_time": "2023-04-18T18:43:03.837Z"
   },
   {
    "duration": 44,
    "start_time": "2023-04-18T18:43:03.894Z"
   },
   {
    "duration": 34,
    "start_time": "2023-04-18T18:43:03.939Z"
   },
   {
    "duration": 11,
    "start_time": "2023-04-18T18:43:03.975Z"
   },
   {
    "duration": 25,
    "start_time": "2023-04-18T18:43:03.987Z"
   },
   {
    "duration": 32,
    "start_time": "2023-04-18T18:43:04.013Z"
   },
   {
    "duration": 99,
    "start_time": "2023-04-18T18:43:04.046Z"
   },
   {
    "duration": 26,
    "start_time": "2023-04-18T18:43:04.146Z"
   },
   {
    "duration": 1699,
    "start_time": "2023-04-18T18:43:04.174Z"
   },
   {
    "duration": 65743,
    "start_time": "2023-04-18T18:43:05.875Z"
   },
   {
    "duration": 6205,
    "start_time": "2023-04-18T18:44:11.619Z"
   },
   {
    "duration": 1533,
    "start_time": "2023-04-18T18:44:17.825Z"
   },
   {
    "duration": 1639,
    "start_time": "2023-04-18T18:44:32.511Z"
   },
   {
    "duration": 2425,
    "start_time": "2023-04-18T18:45:27.849Z"
   },
   {
    "duration": 2331,
    "start_time": "2023-04-18T18:46:01.234Z"
   },
   {
    "duration": 2302,
    "start_time": "2023-04-18T18:46:49.158Z"
   },
   {
    "duration": 1663,
    "start_time": "2023-04-18T18:47:30.610Z"
   },
   {
    "duration": 2622,
    "start_time": "2023-04-18T18:48:12.745Z"
   },
   {
    "duration": 3331,
    "start_time": "2023-04-18T18:49:16.207Z"
   },
   {
    "duration": 1725,
    "start_time": "2023-04-18T18:49:28.389Z"
   },
   {
    "duration": 1873,
    "start_time": "2023-04-18T18:51:17.706Z"
   },
   {
    "duration": 1674,
    "start_time": "2023-04-18T18:51:52.241Z"
   },
   {
    "duration": 1621,
    "start_time": "2023-04-18T18:51:55.213Z"
   },
   {
    "duration": 1760,
    "start_time": "2023-04-18T18:52:10.407Z"
   },
   {
    "duration": 1596,
    "start_time": "2023-04-18T18:52:27.537Z"
   },
   {
    "duration": 1602,
    "start_time": "2023-04-18T18:52:45.156Z"
   },
   {
    "duration": 1361,
    "start_time": "2023-04-18T18:53:19.150Z"
   },
   {
    "duration": 56,
    "start_time": "2023-04-18T18:53:20.513Z"
   },
   {
    "duration": 51,
    "start_time": "2023-04-18T18:53:20.570Z"
   },
   {
    "duration": 17,
    "start_time": "2023-04-18T18:53:20.623Z"
   },
   {
    "duration": 30,
    "start_time": "2023-04-18T18:53:20.642Z"
   },
   {
    "duration": 53,
    "start_time": "2023-04-18T18:53:20.674Z"
   },
   {
    "duration": 30,
    "start_time": "2023-04-18T18:53:20.729Z"
   },
   {
    "duration": 137,
    "start_time": "2023-04-18T18:53:20.760Z"
   },
   {
    "duration": 30,
    "start_time": "2023-04-18T18:53:20.899Z"
   },
   {
    "duration": 1808,
    "start_time": "2023-04-18T18:53:20.930Z"
   },
   {
    "duration": 68095,
    "start_time": "2023-04-18T18:53:22.740Z"
   },
   {
    "duration": 4098,
    "start_time": "2023-04-18T18:54:30.837Z"
   },
   {
    "duration": 1678,
    "start_time": "2023-04-18T18:54:34.937Z"
   },
   {
    "duration": 8,
    "start_time": "2023-04-18T18:56:15.704Z"
   },
   {
    "duration": 1793,
    "start_time": "2023-04-18T18:56:20.604Z"
   },
   {
    "duration": 1247,
    "start_time": "2023-04-18T18:56:36.503Z"
   },
   {
    "duration": 57,
    "start_time": "2023-04-18T18:56:37.751Z"
   },
   {
    "duration": 75,
    "start_time": "2023-04-18T18:56:37.810Z"
   },
   {
    "duration": 29,
    "start_time": "2023-04-18T18:56:37.887Z"
   },
   {
    "duration": 16,
    "start_time": "2023-04-18T18:56:37.919Z"
   },
   {
    "duration": 49,
    "start_time": "2023-04-18T18:56:37.937Z"
   },
   {
    "duration": 12,
    "start_time": "2023-04-18T18:56:37.987Z"
   },
   {
    "duration": 119,
    "start_time": "2023-04-18T18:56:38.001Z"
   },
   {
    "duration": 25,
    "start_time": "2023-04-18T18:56:38.122Z"
   },
   {
    "duration": 1864,
    "start_time": "2023-04-18T18:56:38.149Z"
   },
   {
    "duration": 67049,
    "start_time": "2023-04-18T18:56:40.014Z"
   },
   {
    "duration": 9948,
    "start_time": "2023-04-18T18:57:47.064Z"
   },
   {
    "duration": 1679,
    "start_time": "2023-04-18T18:57:57.013Z"
   },
   {
    "duration": 1416,
    "start_time": "2023-04-19T10:23:07.354Z"
   },
   {
    "duration": 177,
    "start_time": "2023-04-19T10:23:08.772Z"
   },
   {
    "duration": 48,
    "start_time": "2023-04-19T10:23:08.951Z"
   },
   {
    "duration": 18,
    "start_time": "2023-04-19T10:23:09.001Z"
   },
   {
    "duration": 12,
    "start_time": "2023-04-19T10:23:09.021Z"
   },
   {
    "duration": 18,
    "start_time": "2023-04-19T10:23:09.035Z"
   },
   {
    "duration": 9,
    "start_time": "2023-04-19T10:23:09.055Z"
   },
   {
    "duration": 104,
    "start_time": "2023-04-19T10:23:09.095Z"
   },
   {
    "duration": 23,
    "start_time": "2023-04-19T10:23:09.201Z"
   },
   {
    "duration": 1568,
    "start_time": "2023-04-19T10:23:09.226Z"
   },
   {
    "duration": 57099,
    "start_time": "2023-04-19T10:23:10.795Z"
   },
   {
    "duration": 5656,
    "start_time": "2023-04-19T10:24:07.896Z"
   },
   {
    "duration": 1511,
    "start_time": "2023-04-19T10:24:13.554Z"
   },
   {
    "duration": 56086,
    "start_time": "2023-04-19T10:24:15.067Z"
   },
   {
    "duration": 15,
    "start_time": "2023-04-19T10:25:11.154Z"
   },
   {
    "duration": 2191,
    "start_time": "2023-04-19T10:25:11.171Z"
   },
   {
    "duration": 10,
    "start_time": "2023-04-19T10:25:13.364Z"
   },
   {
    "duration": 767,
    "start_time": "2023-04-19T10:25:13.376Z"
   },
   {
    "duration": 2161,
    "start_time": "2023-04-19T10:25:14.145Z"
   },
   {
    "duration": 106275,
    "start_time": "2023-04-19T10:30:03.783Z"
   },
   {
    "duration": 33581,
    "start_time": "2023-04-19T10:32:22.560Z"
   },
   {
    "duration": 12,
    "start_time": "2023-04-19T10:33:05.800Z"
   },
   {
    "duration": 30582,
    "start_time": "2023-04-19T10:33:08.112Z"
   },
   {
    "duration": 10,
    "start_time": "2023-04-19T10:34:06.045Z"
   },
   {
    "duration": 33637,
    "start_time": "2023-04-19T10:34:08.726Z"
   },
   {
    "duration": 15,
    "start_time": "2023-04-19T10:35:24.421Z"
   },
   {
    "duration": 2592,
    "start_time": "2023-04-19T10:35:27.102Z"
   },
   {
    "duration": 130014,
    "start_time": "2023-04-19T10:35:37.284Z"
   },
   {
    "duration": 78,
    "start_time": "2023-04-19T10:38:56.505Z"
   },
   {
    "duration": 60572,
    "start_time": "2023-04-19T10:39:11.810Z"
   },
   {
    "duration": 21,
    "start_time": "2023-04-19T10:40:12.396Z"
   },
   {
    "duration": 105975,
    "start_time": "2023-04-19T10:40:12.419Z"
   },
   {
    "duration": 69,
    "start_time": "2023-04-19T10:42:03.233Z"
   },
   {
    "duration": 5594,
    "start_time": "2023-04-19T10:42:10.802Z"
   },
   {
    "duration": 10051,
    "start_time": "2023-04-19T10:44:35.849Z"
   },
   {
    "duration": 15,
    "start_time": "2023-04-19T10:44:46.953Z"
   },
   {
    "duration": 1992,
    "start_time": "2023-04-19T10:45:04.104Z"
   },
   {
    "duration": 1959,
    "start_time": "2023-04-19T10:45:29.537Z"
   },
   {
    "duration": 1985,
    "start_time": "2023-04-19T10:45:46.511Z"
   },
   {
    "duration": 87,
    "start_time": "2023-04-19T10:47:55.805Z"
   },
   {
    "duration": 2008,
    "start_time": "2023-04-19T10:48:26.693Z"
   },
   {
    "duration": 1246,
    "start_time": "2023-04-19T10:49:47.150Z"
   },
   {
    "duration": 1857,
    "start_time": "2023-04-19T10:50:15.342Z"
   },
   {
    "duration": 2108,
    "start_time": "2023-04-19T10:50:28.029Z"
   },
   {
    "duration": 2118,
    "start_time": "2023-04-19T10:50:38.534Z"
   },
   {
    "duration": 1925,
    "start_time": "2023-04-19T10:51:11.677Z"
   },
   {
    "duration": 2035,
    "start_time": "2023-04-19T10:51:21.861Z"
   },
   {
    "duration": 1957,
    "start_time": "2023-04-19T10:51:49.637Z"
   },
   {
    "duration": 1272,
    "start_time": "2023-04-19T10:51:56.122Z"
   },
   {
    "duration": 1989,
    "start_time": "2023-04-19T10:52:04.012Z"
   },
   {
    "duration": 1229,
    "start_time": "2023-04-19T10:52:26.350Z"
   },
   {
    "duration": 52,
    "start_time": "2023-04-19T10:52:27.581Z"
   },
   {
    "duration": 45,
    "start_time": "2023-04-19T10:52:27.634Z"
   },
   {
    "duration": 16,
    "start_time": "2023-04-19T10:52:27.681Z"
   },
   {
    "duration": 10,
    "start_time": "2023-04-19T10:52:27.699Z"
   },
   {
    "duration": 16,
    "start_time": "2023-04-19T10:52:27.711Z"
   },
   {
    "duration": 17,
    "start_time": "2023-04-19T10:52:27.729Z"
   },
   {
    "duration": 96,
    "start_time": "2023-04-19T10:52:27.747Z"
   },
   {
    "duration": 21,
    "start_time": "2023-04-19T10:52:27.845Z"
   },
   {
    "duration": 1469,
    "start_time": "2023-04-19T10:52:27.869Z"
   },
   {
    "duration": 56592,
    "start_time": "2023-04-19T10:52:29.339Z"
   },
   {
    "duration": 2084,
    "start_time": "2023-04-19T10:53:25.932Z"
   },
   {
    "duration": 1484,
    "start_time": "2023-04-19T10:53:28.018Z"
   },
   {
    "duration": 56566,
    "start_time": "2023-04-19T10:53:29.503Z"
   },
   {
    "duration": 1928,
    "start_time": "2023-04-19T10:54:26.071Z"
   },
   {
    "duration": 123,
    "start_time": "2023-04-19T10:54:28.001Z"
   },
   {
    "duration": 1287,
    "start_time": "2023-04-19T10:54:46.200Z"
   },
   {
    "duration": 51,
    "start_time": "2023-04-19T10:54:47.488Z"
   },
   {
    "duration": 43,
    "start_time": "2023-04-19T10:54:47.541Z"
   },
   {
    "duration": 17,
    "start_time": "2023-04-19T10:54:47.585Z"
   },
   {
    "duration": 10,
    "start_time": "2023-04-19T10:54:47.604Z"
   },
   {
    "duration": 30,
    "start_time": "2023-04-19T10:54:47.616Z"
   },
   {
    "duration": 14,
    "start_time": "2023-04-19T10:54:47.648Z"
   },
   {
    "duration": 87,
    "start_time": "2023-04-19T10:54:47.663Z"
   },
   {
    "duration": 22,
    "start_time": "2023-04-19T10:54:47.752Z"
   },
   {
    "duration": 1454,
    "start_time": "2023-04-19T10:54:47.776Z"
   },
   {
    "duration": 57478,
    "start_time": "2023-04-19T10:54:49.231Z"
   },
   {
    "duration": 2085,
    "start_time": "2023-04-19T10:55:46.711Z"
   },
   {
    "duration": 1460,
    "start_time": "2023-04-19T10:55:48.798Z"
   },
   {
    "duration": 57683,
    "start_time": "2023-04-19T10:55:50.260Z"
   },
   {
    "duration": 1861,
    "start_time": "2023-04-19T10:56:47.944Z"
   },
   {
    "duration": 14,
    "start_time": "2023-04-19T10:56:49.894Z"
   },
   {
    "duration": 2219,
    "start_time": "2023-04-19T10:56:49.909Z"
   },
   {
    "duration": 105347,
    "start_time": "2023-04-19T10:56:52.129Z"
   },
   {
    "duration": 2023,
    "start_time": "2023-04-19T10:58:37.477Z"
   },
   {
    "duration": 11,
    "start_time": "2023-04-19T10:58:39.502Z"
   },
   {
    "duration": 704,
    "start_time": "2023-04-19T10:58:39.514Z"
   },
   {
    "duration": 34198,
    "start_time": "2023-04-19T10:58:40.219Z"
   },
   {
    "duration": 1275,
    "start_time": "2023-04-19T10:59:14.419Z"
   },
   {
    "duration": 2266,
    "start_time": "2023-04-19T10:59:15.696Z"
   },
   {
    "duration": 61144,
    "start_time": "2023-04-19T10:59:17.963Z"
   },
   {
    "duration": 5,
    "start_time": "2023-04-19T11:00:19.108Z"
   },
   {
    "duration": 1971,
    "start_time": "2023-04-19T11:00:40.936Z"
   },
   {
    "duration": 1348,
    "start_time": "2023-04-19T11:01:43.409Z"
   },
   {
    "duration": 53,
    "start_time": "2023-04-19T11:01:44.759Z"
   },
   {
    "duration": 49,
    "start_time": "2023-04-19T11:01:44.814Z"
   },
   {
    "duration": 33,
    "start_time": "2023-04-19T11:01:44.865Z"
   },
   {
    "duration": 11,
    "start_time": "2023-04-19T11:01:44.900Z"
   },
   {
    "duration": 18,
    "start_time": "2023-04-19T11:01:44.913Z"
   },
   {
    "duration": 11,
    "start_time": "2023-04-19T11:01:44.932Z"
   },
   {
    "duration": 114,
    "start_time": "2023-04-19T11:01:44.944Z"
   },
   {
    "duration": 36,
    "start_time": "2023-04-19T11:01:45.059Z"
   },
   {
    "duration": 1550,
    "start_time": "2023-04-19T11:01:45.097Z"
   },
   {
    "duration": 56756,
    "start_time": "2023-04-19T11:01:46.648Z"
   },
   {
    "duration": 2207,
    "start_time": "2023-04-19T11:02:43.406Z"
   },
   {
    "duration": 1480,
    "start_time": "2023-04-19T11:02:45.615Z"
   },
   {
    "duration": 56706,
    "start_time": "2023-04-19T11:02:47.098Z"
   },
   {
    "duration": 1889,
    "start_time": "2023-04-19T11:03:43.805Z"
   },
   {
    "duration": 99,
    "start_time": "2023-04-19T11:03:45.701Z"
   },
   {
    "duration": 2218,
    "start_time": "2023-04-19T11:03:45.802Z"
   },
   {
    "duration": 106787,
    "start_time": "2023-04-19T11:03:48.021Z"
   },
   {
    "duration": 1884,
    "start_time": "2023-04-19T11:05:34.811Z"
   },
   {
    "duration": 100,
    "start_time": "2023-04-19T11:05:36.697Z"
   },
   {
    "duration": 690,
    "start_time": "2023-04-19T11:05:36.799Z"
   },
   {
    "duration": 34215,
    "start_time": "2023-04-19T11:05:37.494Z"
   },
   {
    "duration": 1388,
    "start_time": "2023-04-19T11:06:11.711Z"
   },
   {
    "duration": 2225,
    "start_time": "2023-04-19T11:06:13.101Z"
   },
   {
    "duration": 60127,
    "start_time": "2023-04-19T11:06:15.328Z"
   },
   {
    "duration": 1940,
    "start_time": "2023-04-19T11:07:15.457Z"
   },
   {
    "duration": 100,
    "start_time": "2023-04-19T11:11:27.680Z"
   },
   {
    "duration": 1980,
    "start_time": "2023-04-19T11:11:41.330Z"
   },
   {
    "duration": 2135,
    "start_time": "2023-04-19T11:39:35.249Z"
   },
   {
    "duration": 2035,
    "start_time": "2023-04-19T11:39:39.765Z"
   },
   {
    "duration": 103856,
    "start_time": "2023-04-19T11:39:46.212Z"
   },
   {
    "duration": 2139,
    "start_time": "2023-04-19T11:42:28.836Z"
   },
   {
    "duration": 1868,
    "start_time": "2023-04-19T11:42:37.331Z"
   },
   {
    "duration": 0,
    "start_time": "2023-04-19T11:42:39.201Z"
   },
   {
    "duration": 15,
    "start_time": "2023-04-19T11:43:17.091Z"
   },
   {
    "duration": 2142,
    "start_time": "2023-04-19T11:43:18.075Z"
   },
   {
    "duration": 106738,
    "start_time": "2023-04-19T11:43:52.234Z"
   },
   {
    "duration": 13,
    "start_time": "2023-04-19T11:46:13.977Z"
   },
   {
    "duration": 1714,
    "start_time": "2023-04-19T11:46:14.683Z"
   },
   {
    "duration": 1921,
    "start_time": "2023-04-19T11:46:37.681Z"
   },
   {
    "duration": 76039,
    "start_time": "2023-04-19T11:46:51.209Z"
   },
   {
    "duration": 11,
    "start_time": "2023-04-19T11:55:46.412Z"
   },
   {
    "duration": 1165,
    "start_time": "2023-04-19T11:55:48.092Z"
   },
   {
    "duration": 1620,
    "start_time": "2023-04-19T11:55:54.180Z"
   },
   {
    "duration": 50119,
    "start_time": "2023-04-19T11:55:59.148Z"
   },
   {
    "duration": 11,
    "start_time": "2023-04-19T11:57:03.938Z"
   },
   {
    "duration": 675,
    "start_time": "2023-04-19T11:57:05.836Z"
   },
   {
    "duration": 1282,
    "start_time": "2023-04-19T11:57:10.724Z"
   },
   {
    "duration": 33818,
    "start_time": "2023-04-19T11:57:13.212Z"
   },
   {
    "duration": 1378,
    "start_time": "2023-04-19T12:39:40.068Z"
   },
   {
    "duration": 60,
    "start_time": "2023-04-19T12:39:41.449Z"
   },
   {
    "duration": 51,
    "start_time": "2023-04-19T12:39:41.510Z"
   },
   {
    "duration": 40,
    "start_time": "2023-04-19T12:39:41.563Z"
   },
   {
    "duration": 14,
    "start_time": "2023-04-19T12:39:41.605Z"
   },
   {
    "duration": 20,
    "start_time": "2023-04-19T12:39:41.621Z"
   },
   {
    "duration": 10,
    "start_time": "2023-04-19T12:39:41.643Z"
   },
   {
    "duration": 124,
    "start_time": "2023-04-19T12:39:41.654Z"
   },
   {
    "duration": 33,
    "start_time": "2023-04-19T12:39:41.780Z"
   },
   {
    "duration": 1636,
    "start_time": "2023-04-19T12:39:41.815Z"
   },
   {
    "duration": 57366,
    "start_time": "2023-04-19T12:39:43.453Z"
   },
   {
    "duration": 2209,
    "start_time": "2023-04-19T12:40:40.821Z"
   },
   {
    "duration": 1601,
    "start_time": "2023-04-19T12:40:43.032Z"
   },
   {
    "duration": 56579,
    "start_time": "2023-04-19T12:40:44.636Z"
   },
   {
    "duration": 1799,
    "start_time": "2023-04-19T12:41:41.217Z"
   },
   {
    "duration": 99,
    "start_time": "2023-04-19T12:41:43.096Z"
   },
   {
    "duration": 1781,
    "start_time": "2023-04-19T12:41:43.197Z"
   },
   {
    "duration": 76885,
    "start_time": "2023-04-19T12:41:44.979Z"
   },
   {
    "duration": 1930,
    "start_time": "2023-04-19T12:43:01.865Z"
   },
   {
    "duration": 97,
    "start_time": "2023-04-19T12:43:03.797Z"
   },
   {
    "duration": 658,
    "start_time": "2023-04-19T12:43:03.896Z"
   },
   {
    "duration": 32258,
    "start_time": "2023-04-19T12:43:04.555Z"
   },
   {
    "duration": 1188,
    "start_time": "2023-04-19T12:43:36.814Z"
   },
   {
    "duration": 2466,
    "start_time": "2023-04-19T12:43:38.003Z"
   },
   {
    "duration": 60884,
    "start_time": "2023-04-19T12:43:40.470Z"
   },
   {
    "duration": 1952,
    "start_time": "2023-04-19T12:44:41.356Z"
   },
   {
    "duration": 302,
    "start_time": "2023-04-19T13:54:47.538Z"
   },
   {
    "duration": 308,
    "start_time": "2023-04-19T13:55:34.234Z"
   },
   {
    "duration": 441,
    "start_time": "2023-04-19T13:55:57.786Z"
   },
   {
    "duration": 331,
    "start_time": "2023-04-19T13:56:03.890Z"
   },
   {
    "duration": 354,
    "start_time": "2023-04-19T13:57:52.041Z"
   },
   {
    "duration": 310,
    "start_time": "2023-04-19T14:05:51.205Z"
   },
   {
    "duration": 324,
    "start_time": "2023-04-19T14:05:59.673Z"
   },
   {
    "duration": 338,
    "start_time": "2023-04-19T14:06:04.073Z"
   },
   {
    "duration": 324,
    "start_time": "2023-04-19T14:06:08.773Z"
   },
   {
    "duration": 300,
    "start_time": "2023-04-19T14:06:18.142Z"
   },
   {
    "duration": 313,
    "start_time": "2023-04-19T14:07:06.782Z"
   },
   {
    "duration": 318,
    "start_time": "2023-04-19T14:07:11.885Z"
   },
   {
    "duration": 325,
    "start_time": "2023-04-19T14:08:19.872Z"
   },
   {
    "duration": 319,
    "start_time": "2023-04-19T14:08:40.676Z"
   },
   {
    "duration": 309,
    "start_time": "2023-04-19T14:08:58.307Z"
   },
   {
    "duration": 295,
    "start_time": "2023-04-19T14:09:23.603Z"
   },
   {
    "duration": 395,
    "start_time": "2023-04-19T14:10:31.107Z"
   },
   {
    "duration": 384,
    "start_time": "2023-04-19T14:11:55.011Z"
   },
   {
    "duration": 333,
    "start_time": "2023-04-19T14:15:19.632Z"
   },
   {
    "duration": 313,
    "start_time": "2023-04-19T14:15:26.321Z"
   },
   {
    "duration": 333,
    "start_time": "2023-04-19T14:16:44.536Z"
   },
   {
    "duration": 425,
    "start_time": "2023-04-19T14:18:15.696Z"
   },
   {
    "duration": 3,
    "start_time": "2023-04-19T14:18:42.083Z"
   },
   {
    "duration": 304,
    "start_time": "2023-04-19T14:18:46.335Z"
   },
   {
    "duration": 391,
    "start_time": "2023-04-19T14:19:37.974Z"
   },
   {
    "duration": 23,
    "start_time": "2023-04-19T14:19:50.414Z"
   },
   {
    "duration": 440,
    "start_time": "2023-04-19T14:19:57.112Z"
   },
   {
    "duration": 320,
    "start_time": "2023-04-19T14:20:03.630Z"
   },
   {
    "duration": 316,
    "start_time": "2023-04-19T14:20:08.085Z"
   },
   {
    "duration": 363,
    "start_time": "2023-04-19T14:20:11.485Z"
   },
   {
    "duration": 322,
    "start_time": "2023-04-19T14:20:14.973Z"
   },
   {
    "duration": 179,
    "start_time": "2023-04-19T14:33:35.855Z"
   },
   {
    "duration": 188,
    "start_time": "2023-04-19T14:33:50.371Z"
   },
   {
    "duration": 230,
    "start_time": "2023-04-19T14:33:57.239Z"
   },
   {
    "duration": 1301,
    "start_time": "2023-04-19T14:34:33.734Z"
   },
   {
    "duration": 78070,
    "start_time": "2023-04-19T14:36:57.494Z"
   },
   {
    "duration": 0,
    "start_time": "2023-04-19T14:38:15.566Z"
   },
   {
    "duration": 248,
    "start_time": "2023-04-19T14:43:54.187Z"
   },
   {
    "duration": 205,
    "start_time": "2023-04-19T14:46:27.201Z"
   },
   {
    "duration": 275,
    "start_time": "2023-04-19T14:50:12.839Z"
   },
   {
    "duration": 320,
    "start_time": "2023-04-19T14:53:31.974Z"
   },
   {
    "duration": 327,
    "start_time": "2023-04-19T14:53:58.901Z"
   },
   {
    "duration": 4,
    "start_time": "2023-04-19T14:54:06.029Z"
   },
   {
    "duration": 339,
    "start_time": "2023-04-19T14:54:11.222Z"
   },
   {
    "duration": 328,
    "start_time": "2023-04-19T14:55:35.792Z"
   },
   {
    "duration": 350,
    "start_time": "2023-04-19T14:55:43.356Z"
   },
   {
    "duration": 355,
    "start_time": "2023-04-19T14:56:03.100Z"
   },
   {
    "duration": 313,
    "start_time": "2023-04-19T14:56:25.419Z"
   },
   {
    "duration": 7,
    "start_time": "2023-04-19T14:59:08.914Z"
   },
   {
    "duration": 5,
    "start_time": "2023-04-19T15:00:15.994Z"
   },
   {
    "duration": 19,
    "start_time": "2023-04-19T15:01:05.681Z"
   },
   {
    "duration": 7,
    "start_time": "2023-04-19T15:02:07.906Z"
   },
   {
    "duration": 14,
    "start_time": "2023-04-19T15:03:33.788Z"
   },
   {
    "duration": 159,
    "start_time": "2023-04-19T15:03:48.720Z"
   },
   {
    "duration": 236,
    "start_time": "2023-04-19T15:05:28.881Z"
   },
   {
    "duration": 1331,
    "start_time": "2023-04-19T15:13:28.779Z"
   },
   {
    "duration": 52,
    "start_time": "2023-04-19T15:13:30.112Z"
   },
   {
    "duration": 46,
    "start_time": "2023-04-19T15:13:30.166Z"
   },
   {
    "duration": 18,
    "start_time": "2023-04-19T15:13:30.214Z"
   },
   {
    "duration": 18,
    "start_time": "2023-04-19T15:13:30.235Z"
   },
   {
    "duration": 37,
    "start_time": "2023-04-19T15:13:30.255Z"
   },
   {
    "duration": 31,
    "start_time": "2023-04-19T15:13:30.294Z"
   },
   {
    "duration": 111,
    "start_time": "2023-04-19T15:13:30.326Z"
   },
   {
    "duration": 24,
    "start_time": "2023-04-19T15:13:30.438Z"
   },
   {
    "duration": 1533,
    "start_time": "2023-04-19T15:13:30.464Z"
   },
   {
    "duration": 56904,
    "start_time": "2023-04-19T15:13:31.998Z"
   },
   {
    "duration": 2114,
    "start_time": "2023-04-19T15:14:28.904Z"
   },
   {
    "duration": 1331,
    "start_time": "2023-04-19T15:14:31.019Z"
   },
   {
    "duration": 56278,
    "start_time": "2023-04-19T15:14:32.353Z"
   },
   {
    "duration": 1865,
    "start_time": "2023-04-19T15:15:28.633Z"
   },
   {
    "duration": 14,
    "start_time": "2023-04-19T15:15:30.593Z"
   },
   {
    "duration": 1657,
    "start_time": "2023-04-19T15:15:30.609Z"
   },
   {
    "duration": 76412,
    "start_time": "2023-04-19T15:15:32.267Z"
   },
   {
    "duration": 1917,
    "start_time": "2023-04-19T15:16:48.681Z"
   },
   {
    "duration": 100,
    "start_time": "2023-04-19T15:16:50.601Z"
   },
   {
    "duration": 654,
    "start_time": "2023-04-19T15:16:50.703Z"
   },
   {
    "duration": 32381,
    "start_time": "2023-04-19T15:16:51.359Z"
   },
   {
    "duration": 961,
    "start_time": "2023-04-19T15:17:23.742Z"
   },
   {
    "duration": 2193,
    "start_time": "2023-04-19T15:17:24.794Z"
   },
   {
    "duration": 62166,
    "start_time": "2023-04-19T15:17:26.995Z"
   },
   {
    "duration": 1948,
    "start_time": "2023-04-19T15:18:29.162Z"
   },
   {
    "duration": 229,
    "start_time": "2023-04-19T15:18:31.112Z"
   },
   {
    "duration": 277,
    "start_time": "2023-04-19T15:18:31.343Z"
   },
   {
    "duration": 199,
    "start_time": "2023-04-19T15:18:31.621Z"
   },
   {
    "duration": 327,
    "start_time": "2023-04-19T15:18:31.821Z"
   },
   {
    "duration": 162,
    "start_time": "2023-04-19T15:18:32.150Z"
   },
   {
    "duration": 2505,
    "start_time": "2023-04-19T19:09:46.491Z"
   },
   {
    "duration": 161,
    "start_time": "2023-04-19T19:09:48.999Z"
   },
   {
    "duration": 51,
    "start_time": "2023-04-19T19:09:49.161Z"
   },
   {
    "duration": 21,
    "start_time": "2023-04-19T19:09:49.215Z"
   },
   {
    "duration": 35,
    "start_time": "2023-04-19T19:09:49.238Z"
   },
   {
    "duration": 28,
    "start_time": "2023-04-19T19:09:49.275Z"
   },
   {
    "duration": 13,
    "start_time": "2023-04-19T19:09:49.305Z"
   },
   {
    "duration": 135,
    "start_time": "2023-04-19T19:09:49.319Z"
   },
   {
    "duration": 25,
    "start_time": "2023-04-19T19:09:49.464Z"
   },
   {
    "duration": 1662,
    "start_time": "2023-04-19T19:09:49.492Z"
   },
   {
    "duration": 62855,
    "start_time": "2023-04-19T19:09:51.163Z"
   },
   {
    "duration": 2179,
    "start_time": "2023-04-19T19:10:54.020Z"
   },
   {
    "duration": 1548,
    "start_time": "2023-04-19T19:10:56.201Z"
   },
   {
    "duration": 65929,
    "start_time": "2023-04-19T19:10:57.751Z"
   },
   {
    "duration": 1886,
    "start_time": "2023-04-19T19:12:03.681Z"
   },
   {
    "duration": 107,
    "start_time": "2023-04-19T19:12:05.572Z"
   },
   {
    "duration": 1763,
    "start_time": "2023-04-19T19:12:05.681Z"
   },
   {
    "duration": 85992,
    "start_time": "2023-04-19T19:12:07.446Z"
   },
   {
    "duration": 1924,
    "start_time": "2023-04-19T19:13:33.440Z"
   },
   {
    "duration": 96,
    "start_time": "2023-04-19T19:13:35.367Z"
   },
   {
    "duration": 781,
    "start_time": "2023-04-19T19:13:35.466Z"
   },
   {
    "duration": 35783,
    "start_time": "2023-04-19T19:13:36.248Z"
   },
   {
    "duration": 1142,
    "start_time": "2023-04-19T19:14:12.032Z"
   },
   {
    "duration": 2567,
    "start_time": "2023-04-19T19:14:13.180Z"
   },
   {
    "duration": 70671,
    "start_time": "2023-04-19T19:14:15.749Z"
   },
   {
    "duration": 1955,
    "start_time": "2023-04-19T19:15:26.421Z"
   },
   {
    "duration": 250,
    "start_time": "2023-04-19T19:15:28.379Z"
   },
   {
    "duration": 339,
    "start_time": "2023-04-19T19:15:28.633Z"
   },
   {
    "duration": 210,
    "start_time": "2023-04-19T19:15:28.974Z"
   },
   {
    "duration": 414,
    "start_time": "2023-04-19T19:15:29.186Z"
   },
   {
    "duration": 181,
    "start_time": "2023-04-19T19:15:29.601Z"
   },
   {
    "duration": 1579,
    "start_time": "2023-04-21T03:43:58.190Z"
   },
   {
    "duration": 100,
    "start_time": "2023-04-21T03:43:59.771Z"
   },
   {
    "duration": 52,
    "start_time": "2023-04-21T03:43:59.873Z"
   },
   {
    "duration": 19,
    "start_time": "2023-04-21T03:43:59.927Z"
   },
   {
    "duration": 13,
    "start_time": "2023-04-21T03:43:59.948Z"
   },
   {
    "duration": 49,
    "start_time": "2023-04-21T03:43:59.962Z"
   },
   {
    "duration": 11,
    "start_time": "2023-04-21T03:44:00.013Z"
   },
   {
    "duration": 119,
    "start_time": "2023-04-21T03:44:00.026Z"
   },
   {
    "duration": 43,
    "start_time": "2023-04-21T03:44:00.146Z"
   },
   {
    "duration": 1867,
    "start_time": "2023-04-21T03:44:00.191Z"
   },
   {
    "duration": 69464,
    "start_time": "2023-04-21T03:44:02.060Z"
   },
   {
    "duration": 2213,
    "start_time": "2023-04-21T03:45:11.526Z"
   },
   {
    "duration": 1600,
    "start_time": "2023-04-21T03:45:13.740Z"
   },
   {
    "duration": 67120,
    "start_time": "2023-04-21T03:45:15.343Z"
   },
   {
    "duration": 1929,
    "start_time": "2023-04-21T03:46:22.464Z"
   },
   {
    "duration": 101,
    "start_time": "2023-04-21T03:46:24.395Z"
   },
   {
    "duration": 1961,
    "start_time": "2023-04-21T03:46:24.497Z"
   },
   {
    "duration": 91646,
    "start_time": "2023-04-21T03:46:26.461Z"
   },
   {
    "duration": 1886,
    "start_time": "2023-04-21T03:47:58.109Z"
   },
   {
    "duration": 97,
    "start_time": "2023-04-21T03:48:00.000Z"
   },
   {
    "duration": 870,
    "start_time": "2023-04-21T03:48:00.099Z"
   },
   {
    "duration": 37507,
    "start_time": "2023-04-21T03:48:00.970Z"
   },
   {
    "duration": 1520,
    "start_time": "2023-04-21T03:48:38.480Z"
   },
   {
    "duration": 2590,
    "start_time": "2023-04-21T03:48:40.088Z"
   },
   {
    "duration": 71765,
    "start_time": "2023-04-21T03:48:42.680Z"
   },
   {
    "duration": 2052,
    "start_time": "2023-04-21T03:49:54.447Z"
   },
   {
    "duration": 261,
    "start_time": "2023-04-21T03:49:56.500Z"
   },
   {
    "duration": 323,
    "start_time": "2023-04-21T03:49:56.763Z"
   },
   {
    "duration": 237,
    "start_time": "2023-04-21T03:49:57.088Z"
   },
   {
    "duration": 395,
    "start_time": "2023-04-21T03:49:57.326Z"
   },
   {
    "duration": 187,
    "start_time": "2023-04-21T03:49:57.723Z"
   },
   {
    "duration": 39,
    "start_time": "2023-04-21T03:49:57.912Z"
   },
   {
    "duration": 143,
    "start_time": "2023-04-21T03:52:59.543Z"
   },
   {
    "duration": 69,
    "start_time": "2023-04-21T03:53:11.671Z"
   },
   {
    "duration": 67,
    "start_time": "2023-04-21T03:54:13.121Z"
   },
   {
    "duration": 65,
    "start_time": "2023-04-21T03:54:22.303Z"
   },
   {
    "duration": 67,
    "start_time": "2023-04-21T03:55:23.291Z"
   },
   {
    "duration": 1502,
    "start_time": "2023-04-21T03:55:48.333Z"
   },
   {
    "duration": 61,
    "start_time": "2023-04-21T03:55:49.836Z"
   },
   {
    "duration": 52,
    "start_time": "2023-04-21T03:55:49.898Z"
   },
   {
    "duration": 39,
    "start_time": "2023-04-21T03:55:49.951Z"
   },
   {
    "duration": 13,
    "start_time": "2023-04-21T03:55:49.993Z"
   },
   {
    "duration": 21,
    "start_time": "2023-04-21T03:55:50.008Z"
   },
   {
    "duration": 13,
    "start_time": "2023-04-21T03:55:50.030Z"
   },
   {
    "duration": 129,
    "start_time": "2023-04-21T03:55:50.045Z"
   },
   {
    "duration": 83,
    "start_time": "2023-04-21T03:55:50.176Z"
   },
   {
    "duration": 1809,
    "start_time": "2023-04-21T03:55:50.262Z"
   },
   {
    "duration": 69393,
    "start_time": "2023-04-21T03:55:52.073Z"
   },
   {
    "duration": 1973,
    "start_time": "2023-04-21T03:57:01.468Z"
   },
   {
    "duration": 1670,
    "start_time": "2023-04-21T03:57:03.443Z"
   },
   {
    "duration": 68591,
    "start_time": "2023-04-21T03:57:05.116Z"
   },
   {
    "duration": 1302,
    "start_time": "2023-04-21T03:58:13.708Z"
   },
   {
    "duration": 22,
    "start_time": "2023-04-21T03:58:15.087Z"
   },
   {
    "duration": 2021,
    "start_time": "2023-04-21T03:58:15.188Z"
   },
   {
    "duration": 97072,
    "start_time": "2023-04-21T03:58:17.211Z"
   },
   {
    "duration": 1419,
    "start_time": "2023-04-21T03:59:54.289Z"
   },
   {
    "duration": 91,
    "start_time": "2023-04-21T03:59:55.710Z"
   },
   {
    "duration": 916,
    "start_time": "2023-04-21T03:59:55.808Z"
   },
   {
    "duration": 41876,
    "start_time": "2023-04-21T03:59:56.725Z"
   },
   {
    "duration": 1100,
    "start_time": "2023-04-21T04:00:38.605Z"
   },
   {
    "duration": 2942,
    "start_time": "2023-04-21T04:00:39.709Z"
   },
   {
    "duration": 77262,
    "start_time": "2023-04-21T04:00:42.653Z"
   },
   {
    "duration": 1895,
    "start_time": "2023-04-21T04:01:59.916Z"
   },
   {
    "duration": 340,
    "start_time": "2023-04-21T04:02:01.815Z"
   },
   {
    "duration": 350,
    "start_time": "2023-04-21T04:02:02.157Z"
   },
   {
    "duration": 248,
    "start_time": "2023-04-21T04:02:02.509Z"
   },
   {
    "duration": 410,
    "start_time": "2023-04-21T04:02:02.759Z"
   },
   {
    "duration": 210,
    "start_time": "2023-04-21T04:02:03.171Z"
   },
   {
    "duration": 1445,
    "start_time": "2023-04-21T04:10:14.739Z"
   },
   {
    "duration": 77,
    "start_time": "2023-04-21T04:10:16.186Z"
   },
   {
    "duration": 55,
    "start_time": "2023-04-21T04:10:16.265Z"
   },
   {
    "duration": 21,
    "start_time": "2023-04-21T04:10:16.322Z"
   },
   {
    "duration": 13,
    "start_time": "2023-04-21T04:10:16.345Z"
   },
   {
    "duration": 49,
    "start_time": "2023-04-21T04:10:16.359Z"
   },
   {
    "duration": 13,
    "start_time": "2023-04-21T04:10:16.411Z"
   },
   {
    "duration": 145,
    "start_time": "2023-04-21T04:10:16.425Z"
   },
   {
    "duration": 92,
    "start_time": "2023-04-21T04:10:16.573Z"
   },
   {
    "duration": 1878,
    "start_time": "2023-04-21T04:10:16.666Z"
   },
   {
    "duration": 71753,
    "start_time": "2023-04-21T04:10:18.546Z"
   },
   {
    "duration": 1848,
    "start_time": "2023-04-21T04:11:30.302Z"
   },
   {
    "duration": 1680,
    "start_time": "2023-04-21T04:11:32.151Z"
   },
   {
    "duration": 70978,
    "start_time": "2023-04-21T04:11:33.832Z"
   },
   {
    "duration": 1181,
    "start_time": "2023-04-21T04:12:44.812Z"
   },
   {
    "duration": 91,
    "start_time": "2023-04-21T04:12:46.000Z"
   },
   {
    "duration": 2017,
    "start_time": "2023-04-21T04:12:46.097Z"
   },
   {
    "duration": 96790,
    "start_time": "2023-04-21T04:12:48.116Z"
   },
   {
    "duration": 1584,
    "start_time": "2023-04-21T04:14:24.908Z"
   },
   {
    "duration": 18,
    "start_time": "2023-04-21T04:14:26.494Z"
   },
   {
    "duration": 832,
    "start_time": "2023-04-21T04:14:26.588Z"
   },
   {
    "duration": 39961,
    "start_time": "2023-04-21T04:14:27.422Z"
   },
   {
    "duration": 1104,
    "start_time": "2023-04-21T04:15:07.385Z"
   },
   {
    "duration": 2892,
    "start_time": "2023-04-21T04:15:08.501Z"
   },
   {
    "duration": 76860,
    "start_time": "2023-04-21T04:15:11.403Z"
   },
   {
    "duration": 2031,
    "start_time": "2023-04-21T04:16:28.265Z"
   },
   {
    "duration": 283,
    "start_time": "2023-04-21T04:16:30.299Z"
   },
   {
    "duration": 410,
    "start_time": "2023-04-21T04:16:30.589Z"
   },
   {
    "duration": 265,
    "start_time": "2023-04-21T04:16:31.002Z"
   },
   {
    "duration": 432,
    "start_time": "2023-04-21T04:16:31.270Z"
   },
   {
    "duration": 202,
    "start_time": "2023-04-21T04:16:31.704Z"
   },
   {
    "duration": 68,
    "start_time": "2023-04-21T10:36:38.587Z"
   },
   {
    "duration": 1885,
    "start_time": "2023-04-21T10:37:17.196Z"
   },
   {
    "duration": 97,
    "start_time": "2023-04-21T10:37:19.083Z"
   },
   {
    "duration": 66,
    "start_time": "2023-04-21T10:37:19.182Z"
   },
   {
    "duration": 40,
    "start_time": "2023-04-21T10:37:19.255Z"
   },
   {
    "duration": 12,
    "start_time": "2023-04-21T10:37:19.296Z"
   },
   {
    "duration": 25,
    "start_time": "2023-04-21T10:37:19.309Z"
   },
   {
    "duration": 9,
    "start_time": "2023-04-21T10:37:19.336Z"
   },
   {
    "duration": 104,
    "start_time": "2023-04-21T10:37:19.347Z"
   },
   {
    "duration": 74,
    "start_time": "2023-04-21T10:37:19.453Z"
   },
   {
    "duration": 1791,
    "start_time": "2023-04-21T10:37:19.529Z"
   },
   {
    "duration": 67092,
    "start_time": "2023-04-21T10:37:21.322Z"
   },
   {
    "duration": 1792,
    "start_time": "2023-04-21T10:38:28.416Z"
   },
   {
    "duration": 1563,
    "start_time": "2023-04-21T10:38:30.211Z"
   },
   {
    "duration": 63688,
    "start_time": "2023-04-21T10:38:31.775Z"
   },
   {
    "duration": 1307,
    "start_time": "2023-04-21T10:39:35.465Z"
   },
   {
    "duration": 95,
    "start_time": "2023-04-21T10:39:36.779Z"
   },
   {
    "duration": 2157,
    "start_time": "2023-04-21T10:39:36.875Z"
   },
   {
    "duration": 87676,
    "start_time": "2023-04-21T10:39:39.034Z"
   },
   {
    "duration": 1370,
    "start_time": "2023-04-21T10:41:06.711Z"
   },
   {
    "duration": 90,
    "start_time": "2023-04-21T10:41:08.086Z"
   },
   {
    "duration": 717,
    "start_time": "2023-04-21T10:41:08.178Z"
   },
   {
    "duration": 34937,
    "start_time": "2023-04-21T10:41:08.897Z"
   },
   {
    "duration": 645,
    "start_time": "2023-04-21T10:41:43.836Z"
   },
   {
    "duration": 2376,
    "start_time": "2023-04-21T10:41:44.486Z"
   },
   {
    "duration": 69273,
    "start_time": "2023-04-21T10:41:46.864Z"
   },
   {
    "duration": 1843,
    "start_time": "2023-04-21T10:42:56.139Z"
   },
   {
    "duration": 290,
    "start_time": "2023-04-21T10:42:57.984Z"
   },
   {
    "duration": 280,
    "start_time": "2023-04-21T10:42:58.279Z"
   },
   {
    "duration": 221,
    "start_time": "2023-04-21T10:42:58.561Z"
   },
   {
    "duration": 386,
    "start_time": "2023-04-21T10:42:58.785Z"
   },
   {
    "duration": 201,
    "start_time": "2023-04-21T10:42:59.173Z"
   },
   {
    "duration": 88,
    "start_time": "2023-04-21T12:39:36.064Z"
   },
   {
    "duration": 1671,
    "start_time": "2023-04-21T12:45:10.950Z"
   },
   {
    "duration": 1339,
    "start_time": "2023-04-21T13:19:55.139Z"
   },
   {
    "duration": 54,
    "start_time": "2023-04-21T13:19:56.479Z"
   },
   {
    "duration": 41,
    "start_time": "2023-04-21T13:19:56.534Z"
   },
   {
    "duration": 16,
    "start_time": "2023-04-21T13:19:56.577Z"
   },
   {
    "duration": 10,
    "start_time": "2023-04-21T13:19:56.595Z"
   },
   {
    "duration": 16,
    "start_time": "2023-04-21T13:19:56.606Z"
   },
   {
    "duration": 11,
    "start_time": "2023-04-21T13:19:56.623Z"
   },
   {
    "duration": 98,
    "start_time": "2023-04-21T13:19:56.636Z"
   },
   {
    "duration": 65,
    "start_time": "2023-04-21T13:19:56.736Z"
   },
   {
    "duration": 1543,
    "start_time": "2023-04-21T13:19:56.803Z"
   },
   {
    "duration": 62554,
    "start_time": "2023-04-21T13:19:58.347Z"
   },
   {
    "duration": 1655,
    "start_time": "2023-04-21T13:21:00.903Z"
   },
   {
    "duration": 1439,
    "start_time": "2023-04-21T13:21:02.560Z"
   },
   {
    "duration": 60655,
    "start_time": "2023-04-21T13:21:04.001Z"
   },
   {
    "duration": 1315,
    "start_time": "2023-04-21T13:22:04.658Z"
   },
   {
    "duration": 97,
    "start_time": "2023-04-21T13:22:05.975Z"
   },
   {
    "duration": 1759,
    "start_time": "2023-04-21T13:22:06.074Z"
   },
   {
    "duration": 83718,
    "start_time": "2023-04-21T13:22:07.834Z"
   },
   {
    "duration": 1532,
    "start_time": "2023-04-21T13:23:31.553Z"
   },
   {
    "duration": 88,
    "start_time": "2023-04-21T13:23:33.087Z"
   },
   {
    "duration": 849,
    "start_time": "2023-04-21T13:23:33.177Z"
   },
   {
    "duration": 34120,
    "start_time": "2023-04-21T13:23:34.028Z"
   },
   {
    "duration": 933,
    "start_time": "2023-04-21T13:24:08.149Z"
   },
   {
    "duration": 2093,
    "start_time": "2023-04-21T13:24:09.173Z"
   },
   {
    "duration": 64324,
    "start_time": "2023-04-21T13:24:11.273Z"
   },
   {
    "duration": 1984,
    "start_time": "2023-04-21T13:25:15.599Z"
   },
   {
    "duration": 243,
    "start_time": "2023-04-21T13:25:17.585Z"
   },
   {
    "duration": 286,
    "start_time": "2023-04-21T13:25:17.829Z"
   },
   {
    "duration": 216,
    "start_time": "2023-04-21T13:25:18.117Z"
   },
   {
    "duration": 404,
    "start_time": "2023-04-21T13:25:18.334Z"
   },
   {
    "duration": 175,
    "start_time": "2023-04-21T13:25:18.740Z"
   },
   {
    "duration": 1911,
    "start_time": "2023-04-25T13:04:16.022Z"
   },
   {
    "duration": 1334,
    "start_time": "2023-05-18T14:18:32.782Z"
   },
   {
    "duration": 98,
    "start_time": "2023-05-18T14:18:34.117Z"
   },
   {
    "duration": 49,
    "start_time": "2023-05-18T14:18:34.217Z"
   },
   {
    "duration": 31,
    "start_time": "2023-05-18T14:18:34.267Z"
   },
   {
    "duration": 12,
    "start_time": "2023-05-18T14:18:34.301Z"
   },
   {
    "duration": 23,
    "start_time": "2023-05-18T14:18:34.314Z"
   },
   {
    "duration": 13,
    "start_time": "2023-05-18T14:18:34.338Z"
   },
   {
    "duration": 116,
    "start_time": "2023-05-18T14:18:34.353Z"
   },
   {
    "duration": 93,
    "start_time": "2023-05-18T14:18:34.472Z"
   },
   {
    "duration": 1665,
    "start_time": "2023-05-18T14:18:34.567Z"
   },
   {
    "duration": 64054,
    "start_time": "2023-05-18T14:18:36.233Z"
   },
   {
    "duration": 1949,
    "start_time": "2023-05-18T14:19:40.289Z"
   },
   {
    "duration": 1593,
    "start_time": "2023-05-18T14:19:42.240Z"
   },
   {
    "duration": 62676,
    "start_time": "2023-05-18T14:19:43.837Z"
   },
   {
    "duration": 1689,
    "start_time": "2023-05-18T14:20:46.514Z"
   },
   {
    "duration": 99,
    "start_time": "2023-05-18T14:20:48.206Z"
   },
   {
    "duration": 1755,
    "start_time": "2023-05-18T14:20:48.307Z"
   },
   {
    "duration": 84881,
    "start_time": "2023-05-18T14:20:50.064Z"
   },
   {
    "duration": 1853,
    "start_time": "2023-05-18T14:22:14.947Z"
   },
   {
    "duration": 11,
    "start_time": "2023-05-18T14:22:16.802Z"
   },
   {
    "duration": 808,
    "start_time": "2023-05-18T14:22:16.815Z"
   },
   {
    "duration": 35644,
    "start_time": "2023-05-18T14:22:17.624Z"
   },
   {
    "duration": 1335,
    "start_time": "2023-05-18T14:22:53.270Z"
   },
   {
    "duration": 2516,
    "start_time": "2023-05-18T14:22:54.607Z"
   },
   {
    "duration": 66901,
    "start_time": "2023-05-18T14:22:57.125Z"
   },
   {
    "duration": 1983,
    "start_time": "2023-05-18T14:24:04.028Z"
   },
   {
    "duration": 232,
    "start_time": "2023-05-18T14:24:06.012Z"
   },
   {
    "duration": 258,
    "start_time": "2023-05-18T14:24:06.246Z"
   },
   {
    "duration": 255,
    "start_time": "2023-05-18T14:24:06.506Z"
   },
   {
    "duration": 377,
    "start_time": "2023-05-18T14:24:06.763Z"
   },
   {
    "duration": 171,
    "start_time": "2023-05-18T14:24:07.142Z"
   }
  ],
  "kernelspec": {
   "display_name": "Python 3 (ipykernel)",
   "language": "python",
   "name": "python3"
  },
  "language_info": {
   "codemirror_mode": {
    "name": "ipython",
    "version": 3
   },
   "file_extension": ".py",
   "mimetype": "text/x-python",
   "name": "python",
   "nbconvert_exporter": "python",
   "pygments_lexer": "ipython3",
   "version": "3.10.9"
  },
  "toc": {
   "base_numbering": 1,
   "nav_menu": {},
   "number_sections": true,
   "sideBar": true,
   "skip_h1_title": true,
   "title_cell": "Содержание",
   "title_sidebar": "Contents",
   "toc_cell": true,
   "toc_position": {},
   "toc_section_display": true,
   "toc_window_display": true
  }
 },
 "nbformat": 4,
 "nbformat_minor": 2
}
