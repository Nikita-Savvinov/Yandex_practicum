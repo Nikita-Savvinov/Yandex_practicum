{
 "cells": [
  {
   "cell_type": "markdown",
   "metadata": {},
   "source": [
    "# Восстановление золота из руды"
   ]
  },
  {
   "cell_type": "markdown",
   "metadata": {
    "toc": true
   },
   "source": [
    "<h1>Содержание<span class=\"tocSkip\"></span></h1>\n",
    "<div class=\"toc\"><ul class=\"toc-item\"><li><span><a href=\"#Знакомство-с-данными-и-последующая-предобработка\" data-toc-modified-id=\"Знакомство-с-данными-и-последующая-предобработка-1\"><span class=\"toc-item-num\">1&nbsp;&nbsp;</span>Знакомство с данными и последующая предобработка</a></span><ul class=\"toc-item\"><li><span><a href=\"#Список-используемых-библиотек-и-функций\" data-toc-modified-id=\"Список-используемых-библиотек-и-функций-1.1\"><span class=\"toc-item-num\">1.1&nbsp;&nbsp;</span>Список используемых библиотек и функций</a></span></li><li><span><a href=\"#Первичный-анализ-предоставленных-данных\" data-toc-modified-id=\"Первичный-анализ-предоставленных-данных-1.2\"><span class=\"toc-item-num\">1.2&nbsp;&nbsp;</span>Первичный анализ предоставленных данных</a></span><ul class=\"toc-item\"><li><span><a href=\"#Формирование-информации-о-каждом-датасете\" data-toc-modified-id=\"Формирование-информации-о-каждом-датасете-1.2.1\"><span class=\"toc-item-num\">1.2.1&nbsp;&nbsp;</span>Формирование информации о каждом датасете</a></span></li><li><span><a href=\"#Анализ-отсутствующих-признаков-в-тестовой-выборке\" data-toc-modified-id=\"Анализ-отсутствующих-признаков-в-тестовой-выборке-1.2.2\"><span class=\"toc-item-num\">1.2.2&nbsp;&nbsp;</span>Анализ отсутствующих признаков в тестовой выборке</a></span></li><li><span><a href=\"#Проверена-корректность-расчета-признака-rougher.output.recovery\" data-toc-modified-id=\"Проверена-корректность-расчета-признака-rougher.output.recovery-1.2.3\"><span class=\"toc-item-num\">1.2.3&nbsp;&nbsp;</span>Проверена корректность расчета признака <code>rougher.output.recovery</code></a></span></li></ul></li><li><span><a href=\"#Предобработка-данных\" data-toc-modified-id=\"Предобработка-данных-1.3\"><span class=\"toc-item-num\">1.3&nbsp;&nbsp;</span>Предобработка данных</a></span></li><li><span><a href=\"#Вывод-по-блоку-&quot;Знакомство-с-данными-и-последующая-предобработка&quot;\" data-toc-modified-id=\"Вывод-по-блоку-&quot;Знакомство-с-данными-и-последующая-предобработка&quot;-1.4\"><span class=\"toc-item-num\">1.4&nbsp;&nbsp;</span><strong>Вывод по блоку \"Знакомство с данными и последующая предобработка\"</strong></a></span></li></ul></li><li><span><a href=\"#Анализ-данных\" data-toc-modified-id=\"Анализ-данных-2\"><span class=\"toc-item-num\">2&nbsp;&nbsp;</span>Анализ данных</a></span><ul class=\"toc-item\"><li><span><a href=\"#Изменения-концентрации-металлов-на-различных-стадиях-очистки\" data-toc-modified-id=\"Изменения-концентрации-металлов-на-различных-стадиях-очистки-2.1\"><span class=\"toc-item-num\">2.1&nbsp;&nbsp;</span>Изменения концентрации металлов на различных стадиях очистки</a></span></li><li><span><a href=\"#Сравнение-размеров-гранул-исходного-сырья\" data-toc-modified-id=\"Сравнение-размеров-гранул-исходного-сырья-2.2\"><span class=\"toc-item-num\">2.2&nbsp;&nbsp;</span>Сравнение размеров гранул исходного сырья</a></span></li><li><span><a href=\"#Суммарная-концентрация-металлов-на-различных-стадиях-очистки\" data-toc-modified-id=\"Суммарная-концентрация-металлов-на-различных-стадиях-очистки-2.3\"><span class=\"toc-item-num\">2.3&nbsp;&nbsp;</span>Суммарная концентрация металлов на различных стадиях очистки</a></span></li><li><span><a href=\"#Вывод-по-блоку-&quot;Анализ-данных&quot;\" data-toc-modified-id=\"Вывод-по-блоку-&quot;Анализ-данных&quot;-2.4\"><span class=\"toc-item-num\">2.4&nbsp;&nbsp;</span><strong>Вывод по блоку \"Анализ данных\"</strong></a></span></li></ul></li><li><span><a href=\"#Построение-моделей\" data-toc-modified-id=\"Построение-моделей-3\"><span class=\"toc-item-num\">3&nbsp;&nbsp;</span>Построение моделей</a></span><ul class=\"toc-item\"><li><span><a href=\"#Построена-функция-для-вычисления-итогового-значения-sMAPE\" data-toc-modified-id=\"Построена-функция-для-вычисления-итогового-значения-sMAPE-3.1\"><span class=\"toc-item-num\">3.1&nbsp;&nbsp;</span>Построена функция для вычисления итогового значения sMAPE</a></span></li><li><span><a href=\"#Проведено-обучение-разных-моделей-и-проверено-их-качество\" data-toc-modified-id=\"Проведено-обучение-разных-моделей-и-проверено-их-качество-3.2\"><span class=\"toc-item-num\">3.2&nbsp;&nbsp;</span>Проведено обучение разных моделей и проверено их качество</a></span></li><li><span><a href=\"#Финальное-тестирование-выбранной-модели\" data-toc-modified-id=\"Финальное-тестирование-выбранной-модели-3.3\"><span class=\"toc-item-num\">3.3&nbsp;&nbsp;</span>Финальное тестирование выбранной модели</a></span></li><li><span><a href=\"#Проверка-модели-на-адекватность\" data-toc-modified-id=\"Проверка-модели-на-адекватность-3.4\"><span class=\"toc-item-num\">3.4&nbsp;&nbsp;</span>Проверка модели на адекватность</a></span></li><li><span><a href=\"#Вывод-по-блоку-&quot;Построение-моделей&quot;\" data-toc-modified-id=\"Вывод-по-блоку-&quot;Построение-моделей&quot;-3.5\"><span class=\"toc-item-num\">3.5&nbsp;&nbsp;</span>Вывод по блоку \"Построение моделей\"</a></span></li></ul></li><li><span><a href=\"#Общий-вывод-по-проекту\" data-toc-modified-id=\"Общий-вывод-по-проекту-4\"><span class=\"toc-item-num\">4&nbsp;&nbsp;</span>Общий вывод по проекту</a></span></li><li><span><a href=\"#Чек-лист-готовности-проекта\" data-toc-modified-id=\"Чек-лист-готовности-проекта-5\"><span class=\"toc-item-num\">5&nbsp;&nbsp;</span>Чек-лист готовности проекта</a></span></li></ul></div>"
   ]
  },
  {
   "cell_type": "markdown",
   "metadata": {},
   "source": [
    "**Описание проекта:**\n",
    "Компания \"Цифры\" занимается разработкой решений для эффективной работы промышленных предприятий. Компанией был предоставлен набор данных с параметрами добычи и очистки. \n",
    "\n",
    "**Цель проекта:**\n",
    "Необходимо разработать модель машинного обучения. Модель должна уметь предсказывать коэффициенты восстановления золота из золотосодержащей руды. Модель поможет оптимизировать производство, чтобы не запускать предприятие с убыточными характеристиками. \n",
    "\n"
   ]
  },
  {
   "cell_type": "markdown",
   "metadata": {},
   "source": [
    "## Знакомство с данными и последующая предобработка\n",
    "\n",
    "Клиентом было предоставлено 3 датасета: \n",
    "\n",
    "- gold_industry_train.csv — обучающая выборка;\n",
    "- gold_industry_test.csv — тестовая выборка;\n",
    "- gold_industry_full.csv — исходные данные.\n",
    "\n",
    "Необходимо изучить данные, проверить их целостность и корректность.\n",
    "\n",
    "В данном блоке будут выполнены следующие шаги:\n",
    "- импортированы все необходимые для работы библиотеки;\n",
    "- проведен первичный анализ предоставленных данных, а именно:\n",
    "    - сформирована общая информация о каждом датасете;\n",
    "    - проведен анализ отсутствующих признаков в тестовой выборке;\n",
    "    - проверена корректность расчета признака `rougher.output.recovery`\n",
    "- проведена предобработка данных."
   ]
  },
  {
   "cell_type": "markdown",
   "metadata": {},
   "source": [
    "### Список используемых библиотек и функций\n",
    "\n",
    "Ниже представлены все импортируемые библиотеки, которые используются в рамках данного проекта."
   ]
  },
  {
   "cell_type": "code",
   "execution_count": 1,
   "metadata": {},
   "outputs": [],
   "source": [
    "import pandas as pd\n",
    "import matplotlib.pyplot as plt\n",
    "import seaborn as sns\n",
    "import numpy as np\n",
    "\n",
    "\n",
    "from tqdm import tqdm\n",
    "from sklearn.metrics import mean_absolute_error\n",
    "from sklearn.tree import DecisionTreeRegressor\n",
    "from sklearn.ensemble import RandomForestRegressor\n",
    "from sklearn.linear_model import LinearRegression\n",
    "from sklearn.model_selection import cross_val_predict\n",
    "from sklearn.model_selection import GridSearchCV\n",
    "from sklearn.dummy import DummyRegressor\n",
    "from sklearn.preprocessing import StandardScaler "
   ]
  },
  {
   "cell_type": "markdown",
   "metadata": {},
   "source": [
    "### Первичный анализ предоставленных данных\n",
    "\n",
    "Необходимо внимательно изучить все предоставленные клиентом датасеты. Загрузим информацию в соответствующие переменные:\n",
    "- data_train = gold_industry_train.csv — обучающая выборка;\n",
    "- data_test = gold_industry_test.csv — тестовая выборка;\n",
    "- data_full = gold_industry_full.csv — исходные данные."
   ]
  },
  {
   "cell_type": "code",
   "execution_count": 2,
   "metadata": {},
   "outputs": [],
   "source": [
    "# выполним загрузку данных\n",
    "data_train = pd.read_csv('/datasets/gold_industry_train.csv')\n",
    "data_test = pd.read_csv('/datasets/gold_industry_test.csv')\n",
    "data_full = pd.read_csv('/datasets/gold_industry_full.csv')"
   ]
  },
  {
   "cell_type": "markdown",
   "metadata": {},
   "source": [
    "#### Формирование информации о каждом датасете\n",
    "\n",
    "Для получения информации напишем функцию, которая в качестве аргументов будет принимать параметры, в которые сохранены датасеты, а на выходе будет формироваться общая информация по загруженным в функцию данным."
   ]
  },
  {
   "cell_type": "code",
   "execution_count": 3,
   "metadata": {
    "scrolled": true
   },
   "outputs": [
    {
     "name": "stdout",
     "output_type": "stream",
     "text": [
      "\n",
      " ******************************** \n",
      " ********** data_train ********** \n",
      " ******************************** \n",
      "\n",
      "***************** Общая информация: ****************** \n",
      "\n",
      "<class 'pandas.core.frame.DataFrame'>\n",
      "RangeIndex: 14579 entries, 0 to 14578\n",
      "Data columns (total 87 columns):\n",
      " #   Column                                              Non-Null Count  Dtype  \n",
      "---  ------                                              --------------  -----  \n",
      " 0   date                                                14579 non-null  object \n",
      " 1   rougher.input.feed_au                               14579 non-null  float64\n",
      " 2   rougher.input.feed_ag                               14579 non-null  float64\n",
      " 3   rougher.input.feed_pb                               14507 non-null  float64\n",
      " 4   rougher.input.feed_sol                              14502 non-null  float64\n",
      " 5   rougher.input.feed_rate                             14572 non-null  float64\n",
      " 6   rougher.input.feed_size                             14478 non-null  float64\n",
      " 7   rougher.input.floatbank10_sulfate                   14548 non-null  float64\n",
      " 8   rougher.input.floatbank10_xanthate                  14572 non-null  float64\n",
      " 9   rougher.state.floatbank10_a_air                     14579 non-null  float64\n",
      " 10  rougher.state.floatbank10_a_level                   14579 non-null  float64\n",
      " 11  rougher.state.floatbank10_b_air                     14579 non-null  float64\n",
      " 12  rougher.state.floatbank10_b_level                   14579 non-null  float64\n",
      " 13  rougher.state.floatbank10_c_air                     14579 non-null  float64\n",
      " 14  rougher.state.floatbank10_c_level                   14579 non-null  float64\n",
      " 15  rougher.state.floatbank10_d_air                     14579 non-null  float64\n",
      " 16  rougher.state.floatbank10_d_level                   14579 non-null  float64\n",
      " 17  rougher.state.floatbank10_e_air                     14150 non-null  float64\n",
      " 18  rougher.state.floatbank10_e_level                   14579 non-null  float64\n",
      " 19  rougher.state.floatbank10_f_air                     14579 non-null  float64\n",
      " 20  rougher.state.floatbank10_f_level                   14579 non-null  float64\n",
      " 21  rougher.input.floatbank11_sulfate                   14543 non-null  float64\n",
      " 22  rougher.input.floatbank11_xanthate                  14172 non-null  float64\n",
      " 23  rougher.calculation.sulfate_to_au_concentrate       14578 non-null  float64\n",
      " 24  rougher.calculation.floatbank10_sulfate_to_au_feed  14578 non-null  float64\n",
      " 25  rougher.calculation.floatbank11_sulfate_to_au_feed  14578 non-null  float64\n",
      " 26  rougher.calculation.au_pb_ratio                     14579 non-null  float64\n",
      " 27  rougher.output.concentrate_au                       14579 non-null  float64\n",
      " 28  rougher.output.concentrate_ag                       14579 non-null  float64\n",
      " 29  rougher.output.concentrate_pb                       14579 non-null  float64\n",
      " 30  rougher.output.concentrate_sol                      14561 non-null  float64\n",
      " 31  rougher.output.recovery                             14579 non-null  float64\n",
      " 32  rougher.output.tail_au                              14579 non-null  float64\n",
      " 33  rougher.output.tail_ag                              14578 non-null  float64\n",
      " 34  rougher.output.tail_pb                              14579 non-null  float64\n",
      " 35  rougher.output.tail_sol                             14579 non-null  float64\n",
      " 36  primary_cleaner.input.sulfate                       14556 non-null  float64\n",
      " 37  primary_cleaner.input.depressant                    14551 non-null  float64\n",
      " 38  primary_cleaner.input.feed_size                     14579 non-null  float64\n",
      " 39  primary_cleaner.input.xanthate                      14518 non-null  float64\n",
      " 40  primary_cleaner.state.floatbank8_a_air              14576 non-null  float64\n",
      " 41  primary_cleaner.state.floatbank8_a_level            14579 non-null  float64\n",
      " 42  primary_cleaner.state.floatbank8_b_air              14576 non-null  float64\n",
      " 43  primary_cleaner.state.floatbank8_b_level            14579 non-null  float64\n",
      " 44  primary_cleaner.state.floatbank8_c_air              14579 non-null  float64\n",
      " 45  primary_cleaner.state.floatbank8_c_level            14579 non-null  float64\n",
      " 46  primary_cleaner.state.floatbank8_d_air              14578 non-null  float64\n",
      " 47  primary_cleaner.state.floatbank8_d_level            14579 non-null  float64\n",
      " 48  primary_cleaner.output.concentrate_au               14579 non-null  float64\n",
      " 49  primary_cleaner.output.concentrate_ag               14579 non-null  float64\n",
      " 50  primary_cleaner.output.concentrate_pb               14491 non-null  float64\n",
      " 51  primary_cleaner.output.concentrate_sol              14314 non-null  float64\n",
      " 52  primary_cleaner.output.tail_au                      14579 non-null  float64\n",
      " 53  primary_cleaner.output.tail_ag                      14575 non-null  float64\n",
      " 54  primary_cleaner.output.tail_pb                      14573 non-null  float64\n",
      " 55  primary_cleaner.output.tail_sol                     14534 non-null  float64\n",
      " 56  secondary_cleaner.state.floatbank2_a_air            14485 non-null  float64\n",
      " 57  secondary_cleaner.state.floatbank2_a_level          14579 non-null  float64\n",
      " 58  secondary_cleaner.state.floatbank2_b_air            14557 non-null  float64\n",
      " 59  secondary_cleaner.state.floatbank2_b_level          14579 non-null  float64\n",
      " 60  secondary_cleaner.state.floatbank3_a_air            14567 non-null  float64\n",
      " 61  secondary_cleaner.state.floatbank3_a_level          14579 non-null  float64\n",
      " 62  secondary_cleaner.state.floatbank3_b_air            14579 non-null  float64\n",
      " 63  secondary_cleaner.state.floatbank3_b_level          14579 non-null  float64\n",
      " 64  secondary_cleaner.state.floatbank4_a_air            14574 non-null  float64\n",
      " 65  secondary_cleaner.state.floatbank4_a_level          14579 non-null  float64\n",
      " 66  secondary_cleaner.state.floatbank4_b_air            14579 non-null  float64\n",
      " 67  secondary_cleaner.state.floatbank4_b_level          14579 non-null  float64\n",
      " 68  secondary_cleaner.state.floatbank5_a_air            14579 non-null  float64\n",
      " 69  secondary_cleaner.state.floatbank5_a_level          14579 non-null  float64\n",
      " 70  secondary_cleaner.state.floatbank5_b_air            14579 non-null  float64\n",
      " 71  secondary_cleaner.state.floatbank5_b_level          14579 non-null  float64\n",
      " 72  secondary_cleaner.state.floatbank6_a_air            14578 non-null  float64\n",
      " 73  secondary_cleaner.state.floatbank6_a_level          14579 non-null  float64\n",
      " 74  secondary_cleaner.output.tail_au                    14579 non-null  float64\n",
      " 75  secondary_cleaner.output.tail_ag                    14578 non-null  float64\n",
      " 76  secondary_cleaner.output.tail_pb                    14575 non-null  float64\n",
      " 77  secondary_cleaner.output.tail_sol                   13659 non-null  float64\n",
      " 78  final.output.concentrate_au                         14579 non-null  float64\n",
      " 79  final.output.concentrate_ag                         14578 non-null  float64\n",
      " 80  final.output.concentrate_pb                         14578 non-null  float64\n",
      " 81  final.output.concentrate_sol                        14387 non-null  float64\n",
      " 82  final.output.recovery                               14579 non-null  float64\n",
      " 83  final.output.tail_au                                14579 non-null  float64\n",
      " 84  final.output.tail_ag                                14578 non-null  float64\n",
      " 85  final.output.tail_pb                                14504 non-null  float64\n",
      " 86  final.output.tail_sol                               14574 non-null  float64\n",
      "dtypes: float64(86), object(1)\n",
      "memory usage: 9.7+ MB\n",
      "None \n",
      " ****************** Размер датасета: ****************** \n",
      " \n",
      " (14579, 87) \n",
      " \n",
      " ****************** Первые 5 строк датасета: ****************** \n",
      " \n",
      "                   date  rougher.input.feed_au  rougher.input.feed_ag  \\\n",
      "0  2016-01-15 00:00:00               6.486150               6.100378   \n",
      "1  2016-01-15 01:00:00               6.478583               6.161113   \n",
      "2  2016-01-15 02:00:00               6.362222               6.116455   \n",
      "3  2016-01-15 03:00:00               6.118189               6.043309   \n",
      "4  2016-01-15 04:00:00               5.663707               6.060915   \n",
      "\n",
      "   rougher.input.feed_pb  rougher.input.feed_sol  rougher.input.feed_rate  \\\n",
      "0               2.284912               36.808594               523.546326   \n",
      "1               2.266033               35.753385               525.290581   \n",
      "2               2.159622               35.971630               530.026610   \n",
      "3               2.037807               36.862241               542.590390   \n",
      "4               1.786875               34.347666               540.531893   \n",
      "\n",
      "   rougher.input.feed_size  rougher.input.floatbank10_sulfate  \\\n",
      "0                55.486599                          11.986616   \n",
      "1                57.278666                          11.971193   \n",
      "2                57.510649                          11.920603   \n",
      "3                57.792734                          11.630094   \n",
      "4                56.047189                          10.957755   \n",
      "\n",
      "   rougher.input.floatbank10_xanthate  rougher.state.floatbank10_a_air  ...  \\\n",
      "0                            6.007990                       999.706909  ...   \n",
      "1                            6.005766                      1000.286398  ...   \n",
      "2                            6.197377                       999.719565  ...   \n",
      "3                            6.203177                       999.814770  ...   \n",
      "4                            6.198826                       999.678690  ...   \n",
      "\n",
      "   secondary_cleaner.output.tail_sol  final.output.concentrate_au  \\\n",
      "0                           8.764648                    42.192020   \n",
      "1                           9.001494                    42.701629   \n",
      "2                           8.842896                    42.657501   \n",
      "3                           9.122857                    42.689819   \n",
      "4                           8.871028                    42.774141   \n",
      "\n",
      "   final.output.concentrate_ag  final.output.concentrate_pb  \\\n",
      "0                     6.055403                     9.889648   \n",
      "1                     6.029369                     9.968944   \n",
      "2                     6.055926                    10.213995   \n",
      "3                     6.047977                     9.977019   \n",
      "4                     6.148599                    10.142511   \n",
      "\n",
      "   final.output.concentrate_sol  final.output.recovery  final.output.tail_au  \\\n",
      "0                      5.507324              70.541216              2.143149   \n",
      "1                      5.257781              69.266198              2.224930   \n",
      "2                      5.383759              68.116445              2.257889   \n",
      "3                      4.858634              68.347543              2.146849   \n",
      "4                      4.939416              66.927016              2.055292   \n",
      "\n",
      "   final.output.tail_ag  final.output.tail_pb  final.output.tail_sol  \n",
      "0             10.411962              0.895447              16.904297  \n",
      "1             10.462676              0.927452              16.634514  \n",
      "2             10.507046              0.953716              16.208849  \n",
      "3             10.422762              0.883763              16.532835  \n",
      "4             10.360302              0.792826              16.525686  \n",
      "\n",
      "[5 rows x 87 columns] \n",
      " \n",
      "\n",
      "\n",
      " ******************************** \n",
      " ********** data_test ********** \n",
      " ******************************** \n",
      "\n",
      "***************** Общая информация: ****************** \n",
      "\n",
      "<class 'pandas.core.frame.DataFrame'>\n",
      "RangeIndex: 4860 entries, 0 to 4859\n",
      "Data columns (total 53 columns):\n",
      " #   Column                                      Non-Null Count  Dtype  \n",
      "---  ------                                      --------------  -----  \n",
      " 0   date                                        4860 non-null   object \n",
      " 1   rougher.input.feed_au                       4860 non-null   float64\n",
      " 2   rougher.input.feed_ag                       4860 non-null   float64\n",
      " 3   rougher.input.feed_pb                       4832 non-null   float64\n",
      " 4   rougher.input.feed_sol                      4838 non-null   float64\n",
      " 5   rougher.input.feed_rate                     4856 non-null   float64\n",
      " 6   rougher.input.feed_size                     4816 non-null   float64\n",
      " 7   rougher.input.floatbank10_sulfate           4857 non-null   float64\n",
      " 8   rougher.input.floatbank10_xanthate          4859 non-null   float64\n",
      " 9   rougher.state.floatbank10_a_air             4859 non-null   float64\n",
      " 10  rougher.state.floatbank10_a_level           4859 non-null   float64\n",
      " 11  rougher.state.floatbank10_b_air             4859 non-null   float64\n",
      " 12  rougher.state.floatbank10_b_level           4859 non-null   float64\n",
      " 13  rougher.state.floatbank10_c_air             4859 non-null   float64\n",
      " 14  rougher.state.floatbank10_c_level           4859 non-null   float64\n",
      " 15  rougher.state.floatbank10_d_air             4860 non-null   float64\n",
      " 16  rougher.state.floatbank10_d_level           4860 non-null   float64\n",
      " 17  rougher.state.floatbank10_e_air             4853 non-null   float64\n",
      " 18  rougher.state.floatbank10_e_level           4860 non-null   float64\n",
      " 19  rougher.state.floatbank10_f_air             4860 non-null   float64\n",
      " 20  rougher.state.floatbank10_f_level           4860 non-null   float64\n",
      " 21  rougher.input.floatbank11_sulfate           4852 non-null   float64\n",
      " 22  rougher.input.floatbank11_xanthate          4814 non-null   float64\n",
      " 23  primary_cleaner.input.sulfate               4859 non-null   float64\n",
      " 24  primary_cleaner.input.depressant            4851 non-null   float64\n",
      " 25  primary_cleaner.input.feed_size             4860 non-null   float64\n",
      " 26  primary_cleaner.input.xanthate              4817 non-null   float64\n",
      " 27  primary_cleaner.state.floatbank8_a_air      4859 non-null   float64\n",
      " 28  primary_cleaner.state.floatbank8_a_level    4859 non-null   float64\n",
      " 29  primary_cleaner.state.floatbank8_b_air      4859 non-null   float64\n",
      " 30  primary_cleaner.state.floatbank8_b_level    4859 non-null   float64\n",
      " 31  primary_cleaner.state.floatbank8_c_air      4858 non-null   float64\n",
      " 32  primary_cleaner.state.floatbank8_c_level    4859 non-null   float64\n",
      " 33  primary_cleaner.state.floatbank8_d_air      4858 non-null   float64\n",
      " 34  primary_cleaner.state.floatbank8_d_level    4859 non-null   float64\n",
      " 35  secondary_cleaner.state.floatbank2_a_air    4734 non-null   float64\n",
      " 36  secondary_cleaner.state.floatbank2_a_level  4859 non-null   float64\n",
      " 37  secondary_cleaner.state.floatbank2_b_air    4859 non-null   float64\n",
      " 38  secondary_cleaner.state.floatbank2_b_level  4859 non-null   float64\n",
      " 39  secondary_cleaner.state.floatbank3_a_air    4859 non-null   float64\n",
      " 40  secondary_cleaner.state.floatbank3_a_level  4859 non-null   float64\n",
      " 41  secondary_cleaner.state.floatbank3_b_air    4859 non-null   float64\n",
      " 42  secondary_cleaner.state.floatbank3_b_level  4859 non-null   float64\n",
      " 43  secondary_cleaner.state.floatbank4_a_air    4859 non-null   float64\n",
      " 44  secondary_cleaner.state.floatbank4_a_level  4859 non-null   float64\n",
      " 45  secondary_cleaner.state.floatbank4_b_air    4859 non-null   float64\n",
      " 46  secondary_cleaner.state.floatbank4_b_level  4859 non-null   float64\n",
      " 47  secondary_cleaner.state.floatbank5_a_air    4859 non-null   float64\n",
      " 48  secondary_cleaner.state.floatbank5_a_level  4859 non-null   float64\n",
      " 49  secondary_cleaner.state.floatbank5_b_air    4859 non-null   float64\n",
      " 50  secondary_cleaner.state.floatbank5_b_level  4859 non-null   float64\n",
      " 51  secondary_cleaner.state.floatbank6_a_air    4859 non-null   float64\n",
      " 52  secondary_cleaner.state.floatbank6_a_level  4859 non-null   float64\n",
      "dtypes: float64(52), object(1)\n",
      "memory usage: 2.0+ MB\n",
      "None \n",
      " ****************** Размер датасета: ****************** \n",
      " \n",
      " (4860, 53) \n",
      " \n",
      " ****************** Первые 5 строк датасета: ****************** \n",
      " \n",
      "                   date  rougher.input.feed_au  rougher.input.feed_ag  \\\n",
      "0  2017-12-09 14:59:59               4.365491               6.158718   \n",
      "1  2017-12-09 15:59:59               4.362781               6.048130   \n",
      "2  2017-12-09 16:59:59               5.081681               6.082745   \n",
      "3  2017-12-09 17:59:59               5.145949               6.084374   \n",
      "4  2017-12-09 18:59:59               5.735249               6.165220   \n",
      "\n",
      "   rougher.input.feed_pb  rougher.input.feed_sol  rougher.input.feed_rate  \\\n",
      "0               3.875727               39.135119               555.820208   \n",
      "1               3.902537               39.713906               544.731687   \n",
      "2               4.564078               37.208683               558.155110   \n",
      "3               4.768124               36.808874               539.713765   \n",
      "4               4.512346               37.810642               558.713584   \n",
      "\n",
      "   rougher.input.feed_size  rougher.input.floatbank10_sulfate  \\\n",
      "0                94.544358                           6.146982   \n",
      "1               123.742430                           6.210119   \n",
      "2                82.610855                           7.363824   \n",
      "3                77.984784                           6.927072   \n",
      "4                86.434874                           7.823471   \n",
      "\n",
      "   rougher.input.floatbank10_xanthate  rougher.state.floatbank10_a_air  ...  \\\n",
      "0                            9.308612                      1196.238112  ...   \n",
      "1                            9.297709                      1201.904177  ...   \n",
      "2                            9.003562                      1200.826926  ...   \n",
      "3                            8.955597                      1199.292489  ...   \n",
      "4                            7.490356                      1198.005449  ...   \n",
      "\n",
      "   secondary_cleaner.state.floatbank4_a_air  \\\n",
      "0                                 23.018622   \n",
      "1                                 23.024963   \n",
      "2                                 22.993827   \n",
      "3                                 23.032807   \n",
      "4                                 23.001911   \n",
      "\n",
      "   secondary_cleaner.state.floatbank4_a_level  \\\n",
      "0                                 -500.492702   \n",
      "1                                 -501.153409   \n",
      "2                                 -501.559663   \n",
      "3                                 -501.287889   \n",
      "4                                 -499.947838   \n",
      "\n",
      "   secondary_cleaner.state.floatbank4_b_air  \\\n",
      "0                                 20.020205   \n",
      "1                                 20.054122   \n",
      "2                                 20.029144   \n",
      "3                                 19.977466   \n",
      "4                                 20.023735   \n",
      "\n",
      "   secondary_cleaner.state.floatbank4_b_level  \\\n",
      "0                                 -500.220296   \n",
      "1                                 -500.314711   \n",
      "2                                 -500.000662   \n",
      "3                                 -500.159903   \n",
      "4                                 -499.713680   \n",
      "\n",
      "   secondary_cleaner.state.floatbank5_a_air  \\\n",
      "0                                 17.963512   \n",
      "1                                 17.979515   \n",
      "2                                 18.012723   \n",
      "3                                 17.980463   \n",
      "4                                 17.990955   \n",
      "\n",
      "   secondary_cleaner.state.floatbank5_a_level  \\\n",
      "0                                 -499.939490   \n",
      "1                                 -499.272871   \n",
      "2                                 -500.024764   \n",
      "3                                 -500.504602   \n",
      "4                                 -500.334769   \n",
      "\n",
      "   secondary_cleaner.state.floatbank5_b_air  \\\n",
      "0                                 12.990306   \n",
      "1                                 12.992404   \n",
      "2                                 13.016445   \n",
      "3                                 12.949071   \n",
      "4                                 13.007523   \n",
      "\n",
      "   secondary_cleaner.state.floatbank5_b_level  \\\n",
      "0                                 -500.080993   \n",
      "1                                 -499.976268   \n",
      "2                                 -500.058432   \n",
      "3                                 -500.009937   \n",
      "4                                 -499.968459   \n",
      "\n",
      "   secondary_cleaner.state.floatbank6_a_air  \\\n",
      "0                                 19.990336   \n",
      "1                                 20.013986   \n",
      "2                                 19.973767   \n",
      "3                                 20.010332   \n",
      "4                                 19.995999   \n",
      "\n",
      "   secondary_cleaner.state.floatbank6_a_level  \n",
      "0                                 -499.191575  \n",
      "1                                 -500.625471  \n",
      "2                                 -501.394155  \n",
      "3                                 -508.337973  \n",
      "4                                 -499.788805  \n",
      "\n",
      "[5 rows x 53 columns] \n",
      " \n",
      "\n",
      "\n",
      " ******************************** \n",
      " ********** data_full ********** \n",
      " ******************************** \n",
      "\n",
      "***************** Общая информация: ****************** \n",
      "\n",
      "<class 'pandas.core.frame.DataFrame'>\n",
      "RangeIndex: 19439 entries, 0 to 19438\n",
      "Data columns (total 87 columns):\n",
      " #   Column                                              Non-Null Count  Dtype  \n",
      "---  ------                                              --------------  -----  \n",
      " 0   date                                                19439 non-null  object \n",
      " 1   rougher.input.feed_au                               19439 non-null  float64\n",
      " 2   rougher.input.feed_ag                               19439 non-null  float64\n",
      " 3   rougher.input.feed_pb                               19339 non-null  float64\n",
      " 4   rougher.input.feed_sol                              19340 non-null  float64\n",
      " 5   rougher.input.feed_rate                             19428 non-null  float64\n",
      " 6   rougher.input.feed_size                             19294 non-null  float64\n",
      " 7   rougher.input.floatbank10_sulfate                   19405 non-null  float64\n",
      " 8   rougher.input.floatbank10_xanthate                  19431 non-null  float64\n",
      " 9   rougher.state.floatbank10_a_air                     19438 non-null  float64\n",
      " 10  rougher.state.floatbank10_a_level                   19438 non-null  float64\n",
      " 11  rougher.state.floatbank10_b_air                     19438 non-null  float64\n",
      " 12  rougher.state.floatbank10_b_level                   19438 non-null  float64\n",
      " 13  rougher.state.floatbank10_c_air                     19438 non-null  float64\n",
      " 14  rougher.state.floatbank10_c_level                   19438 non-null  float64\n",
      " 15  rougher.state.floatbank10_d_air                     19439 non-null  float64\n",
      " 16  rougher.state.floatbank10_d_level                   19439 non-null  float64\n",
      " 17  rougher.state.floatbank10_e_air                     19003 non-null  float64\n",
      " 18  rougher.state.floatbank10_e_level                   19439 non-null  float64\n",
      " 19  rougher.state.floatbank10_f_air                     19439 non-null  float64\n",
      " 20  rougher.state.floatbank10_f_level                   19439 non-null  float64\n",
      " 21  rougher.input.floatbank11_sulfate                   19395 non-null  float64\n",
      " 22  rougher.input.floatbank11_xanthate                  18986 non-null  float64\n",
      " 23  rougher.calculation.sulfate_to_au_concentrate       19437 non-null  float64\n",
      " 24  rougher.calculation.floatbank10_sulfate_to_au_feed  19437 non-null  float64\n",
      " 25  rougher.calculation.floatbank11_sulfate_to_au_feed  19437 non-null  float64\n",
      " 26  rougher.calculation.au_pb_ratio                     19439 non-null  float64\n",
      " 27  rougher.output.concentrate_au                       19439 non-null  float64\n",
      " 28  rougher.output.concentrate_ag                       19439 non-null  float64\n",
      " 29  rougher.output.concentrate_pb                       19439 non-null  float64\n",
      " 30  rougher.output.concentrate_sol                      19416 non-null  float64\n",
      " 31  rougher.output.recovery                             19439 non-null  float64\n",
      " 32  rougher.output.tail_au                              19439 non-null  float64\n",
      " 33  rougher.output.tail_ag                              19438 non-null  float64\n",
      " 34  rougher.output.tail_pb                              19439 non-null  float64\n",
      " 35  rougher.output.tail_sol                             19439 non-null  float64\n",
      " 36  primary_cleaner.input.sulfate                       19415 non-null  float64\n",
      " 37  primary_cleaner.input.depressant                    19402 non-null  float64\n",
      " 38  primary_cleaner.input.feed_size                     19439 non-null  float64\n",
      " 39  primary_cleaner.input.xanthate                      19335 non-null  float64\n",
      " 40  primary_cleaner.state.floatbank8_a_air              19435 non-null  float64\n",
      " 41  primary_cleaner.state.floatbank8_a_level            19438 non-null  float64\n",
      " 42  primary_cleaner.state.floatbank8_b_air              19435 non-null  float64\n",
      " 43  primary_cleaner.state.floatbank8_b_level            19438 non-null  float64\n",
      " 44  primary_cleaner.state.floatbank8_c_air              19437 non-null  float64\n",
      " 45  primary_cleaner.state.floatbank8_c_level            19438 non-null  float64\n",
      " 46  primary_cleaner.state.floatbank8_d_air              19436 non-null  float64\n",
      " 47  primary_cleaner.state.floatbank8_d_level            19438 non-null  float64\n",
      " 48  primary_cleaner.output.concentrate_au               19439 non-null  float64\n",
      " 49  primary_cleaner.output.concentrate_ag               19439 non-null  float64\n",
      " 50  primary_cleaner.output.concentrate_pb               19323 non-null  float64\n",
      " 51  primary_cleaner.output.concentrate_sol              19069 non-null  float64\n",
      " 52  primary_cleaner.output.tail_au                      19439 non-null  float64\n",
      " 53  primary_cleaner.output.tail_ag                      19435 non-null  float64\n",
      " 54  primary_cleaner.output.tail_pb                      19418 non-null  float64\n",
      " 55  primary_cleaner.output.tail_sol                     19377 non-null  float64\n",
      " 56  secondary_cleaner.state.floatbank2_a_air            19219 non-null  float64\n",
      " 57  secondary_cleaner.state.floatbank2_a_level          19438 non-null  float64\n",
      " 58  secondary_cleaner.state.floatbank2_b_air            19416 non-null  float64\n",
      " 59  secondary_cleaner.state.floatbank2_b_level          19438 non-null  float64\n",
      " 60  secondary_cleaner.state.floatbank3_a_air            19426 non-null  float64\n",
      " 61  secondary_cleaner.state.floatbank3_a_level          19438 non-null  float64\n",
      " 62  secondary_cleaner.state.floatbank3_b_air            19438 non-null  float64\n",
      " 63  secondary_cleaner.state.floatbank3_b_level          19438 non-null  float64\n",
      " 64  secondary_cleaner.state.floatbank4_a_air            19433 non-null  float64\n",
      " 65  secondary_cleaner.state.floatbank4_a_level          19438 non-null  float64\n",
      " 66  secondary_cleaner.state.floatbank4_b_air            19438 non-null  float64\n",
      " 67  secondary_cleaner.state.floatbank4_b_level          19438 non-null  float64\n",
      " 68  secondary_cleaner.state.floatbank5_a_air            19438 non-null  float64\n",
      " 69  secondary_cleaner.state.floatbank5_a_level          19438 non-null  float64\n",
      " 70  secondary_cleaner.state.floatbank5_b_air            19438 non-null  float64\n",
      " 71  secondary_cleaner.state.floatbank5_b_level          19438 non-null  float64\n",
      " 72  secondary_cleaner.state.floatbank6_a_air            19437 non-null  float64\n",
      " 73  secondary_cleaner.state.floatbank6_a_level          19438 non-null  float64\n",
      " 74  secondary_cleaner.output.tail_au                    19439 non-null  float64\n",
      " 75  secondary_cleaner.output.tail_ag                    19437 non-null  float64\n",
      " 76  secondary_cleaner.output.tail_pb                    19427 non-null  float64\n",
      " 77  secondary_cleaner.output.tail_sol                   17691 non-null  float64\n",
      " 78  final.output.concentrate_au                         19439 non-null  float64\n",
      " 79  final.output.concentrate_ag                         19438 non-null  float64\n",
      " 80  final.output.concentrate_pb                         19438 non-null  float64\n",
      " 81  final.output.concentrate_sol                        19228 non-null  float64\n",
      " 82  final.output.recovery                               19439 non-null  float64\n",
      " 83  final.output.tail_au                                19439 non-null  float64\n",
      " 84  final.output.tail_ag                                19438 non-null  float64\n",
      " 85  final.output.tail_pb                                19338 non-null  float64\n",
      " 86  final.output.tail_sol                               19433 non-null  float64\n",
      "dtypes: float64(86), object(1)\n",
      "memory usage: 12.9+ MB\n",
      "None \n",
      " ****************** Размер датасета: ****************** \n",
      " \n",
      " (19439, 87) \n",
      " \n",
      " ****************** Первые 5 строк датасета: ****************** \n",
      " \n",
      "                   date  rougher.input.feed_au  rougher.input.feed_ag  \\\n",
      "0  2016-01-15 00:00:00               6.486150               6.100378   \n",
      "1  2016-01-15 01:00:00               6.478583               6.161113   \n",
      "2  2016-01-15 02:00:00               6.362222               6.116455   \n",
      "3  2016-01-15 03:00:00               6.118189               6.043309   \n",
      "4  2016-01-15 04:00:00               5.663707               6.060915   \n",
      "\n",
      "   rougher.input.feed_pb  rougher.input.feed_sol  rougher.input.feed_rate  \\\n",
      "0               2.284912               36.808594               523.546326   \n",
      "1               2.266033               35.753385               525.290581   \n",
      "2               2.159622               35.971630               530.026610   \n",
      "3               2.037807               36.862241               542.590390   \n",
      "4               1.786875               34.347666               540.531893   \n",
      "\n",
      "   rougher.input.feed_size  rougher.input.floatbank10_sulfate  \\\n",
      "0                55.486599                          11.986616   \n",
      "1                57.278666                          11.971193   \n",
      "2                57.510649                          11.920603   \n",
      "3                57.792734                          11.630094   \n",
      "4                56.047189                          10.957755   \n",
      "\n",
      "   rougher.input.floatbank10_xanthate  rougher.state.floatbank10_a_air  ...  \\\n",
      "0                            6.007990                       999.706909  ...   \n",
      "1                            6.005766                      1000.286398  ...   \n",
      "2                            6.197377                       999.719565  ...   \n",
      "3                            6.203177                       999.814770  ...   \n",
      "4                            6.198826                       999.678690  ...   \n",
      "\n",
      "   secondary_cleaner.output.tail_sol  final.output.concentrate_au  \\\n",
      "0                           8.764648                    42.192020   \n",
      "1                           9.001494                    42.701629   \n",
      "2                           8.842896                    42.657501   \n",
      "3                           9.122857                    42.689819   \n",
      "4                           8.871028                    42.774141   \n",
      "\n",
      "   final.output.concentrate_ag  final.output.concentrate_pb  \\\n",
      "0                     6.055403                     9.889648   \n",
      "1                     6.029369                     9.968944   \n",
      "2                     6.055926                    10.213995   \n",
      "3                     6.047977                     9.977019   \n",
      "4                     6.148599                    10.142511   \n",
      "\n",
      "   final.output.concentrate_sol  final.output.recovery  final.output.tail_au  \\\n",
      "0                      5.507324              70.541216              2.143149   \n",
      "1                      5.257781              69.266198              2.224930   \n",
      "2                      5.383759              68.116445              2.257889   \n",
      "3                      4.858634              68.347543              2.146849   \n",
      "4                      4.939416              66.927016              2.055292   \n",
      "\n",
      "   final.output.tail_ag  final.output.tail_pb  final.output.tail_sol  \n",
      "0             10.411962              0.895447              16.904297  \n",
      "1             10.462676              0.927452              16.634514  \n",
      "2             10.507046              0.953716              16.208849  \n",
      "3             10.422762              0.883763              16.532835  \n",
      "4             10.360302              0.792826              16.525686  \n",
      "\n",
      "[5 rows x 87 columns] \n",
      " \n",
      "\n"
     ]
    }
   ],
   "source": [
    "# напишем функцию формирующую первичный анализ по входящим данным\n",
    "\n",
    "def info_func (data):\n",
    "    print(\"***************** Общая информация: ******************\",'\\n')\n",
    "    print(data.info(),'\\n',\n",
    "          \"****************** Размер датасета: ******************\", '\\n','\\n', data.shape,'\\n','\\n',\n",
    "          #\"****************** Основные показатели: ******************\", '\\n','\\n', data.describe(),'\\n','\\n',\n",
    "          \"****************** Первые 5 строк датасета: ******************\", '\\n','\\n', data.head(),'\\n','\\n')\n",
    "\n",
    "print ('\\n','********************************', '\\n', \n",
    "       '********** data_train **********','\\n',\n",
    "       '********************************','\\n')\n",
    "info_func(data_train)\n",
    "\n",
    "print ('\\n','********************************', '\\n', \n",
    "       '********** data_test **********','\\n',\n",
    "       '********************************','\\n')\n",
    "info_func(data_test)\n",
    "\n",
    "print ('\\n','********************************', '\\n', \n",
    "       '********** data_full **********','\\n',\n",
    "       '********************************','\\n')\n",
    "info_func(data_full)"
   ]
  },
  {
   "cell_type": "markdown",
   "metadata": {},
   "source": [
    "**Результаты первичного анализа данных:**\n",
    "\n",
    "Из полученных данных можно сделать следующие выводы:\n",
    "\n",
    "1. Данные имеют размерность:\n",
    "- `data_train` - 14579 строк и 87 столбцов;\n",
    "- `data_test` - 4860 строк и 53 столбцов;\n",
    "- `data_full` - 19439 строк и 87 столбцов; \n",
    "\n",
    "Общая популяция была разделена на обучающую и тестовую выборку в соотношении **75% / 25%** соответственно.\n",
    "Популяция разделена без потери строк.\n",
    "\n",
    "2. В данных имеются пропуски - необходимо заполнить пропущенные данные.\n",
    "\n",
    "3. В данных имеется параметр даты и времени, однако у данного параметра некорректно указан тип данных, данный параметр необходимо перевести в корректный тип.\n",
    "\n",
    "4. Датасет `data_test`, содержащий тестовую выборку имеет меньшее количество признаков:\n",
    "\n",
    "У общего и обучающего датасета имеется 87 признаков, в то время как у тестовой выборки - 53. Далее необходимо более детально изучить признаки не попавшие в тестовый датасет и выяснить причину их отсутствия."
   ]
  },
  {
   "cell_type": "markdown",
   "metadata": {},
   "source": [
    "#### Анализ отсутствующих признаков в тестовой выборке \n",
    "\n",
    "Определим какие признаки не попали в тестовую выборку `data_test`."
   ]
  },
  {
   "cell_type": "code",
   "execution_count": 4,
   "metadata": {
    "scrolled": true
   },
   "outputs": [
    {
     "data": {
      "text/plain": [
       "23        rougher.calculation.sulfate_to_au_concentrate\n",
       "24    rougher.calculation.floatbank10_sulfate_to_au_...\n",
       "25    rougher.calculation.floatbank11_sulfate_to_au_...\n",
       "26                      rougher.calculation.au_pb_ratio\n",
       "27                        rougher.output.concentrate_au\n",
       "28                        rougher.output.concentrate_ag\n",
       "29                        rougher.output.concentrate_pb\n",
       "30                       rougher.output.concentrate_sol\n",
       "31                              rougher.output.recovery\n",
       "32                               rougher.output.tail_au\n",
       "33                               rougher.output.tail_ag\n",
       "34                               rougher.output.tail_pb\n",
       "35                              rougher.output.tail_sol\n",
       "48                primary_cleaner.output.concentrate_au\n",
       "49                primary_cleaner.output.concentrate_ag\n",
       "50                primary_cleaner.output.concentrate_pb\n",
       "51               primary_cleaner.output.concentrate_sol\n",
       "52                       primary_cleaner.output.tail_au\n",
       "53                       primary_cleaner.output.tail_ag\n",
       "54                       primary_cleaner.output.tail_pb\n",
       "55                      primary_cleaner.output.tail_sol\n",
       "74                     secondary_cleaner.output.tail_au\n",
       "75                     secondary_cleaner.output.tail_ag\n",
       "76                     secondary_cleaner.output.tail_pb\n",
       "77                    secondary_cleaner.output.tail_sol\n",
       "78                          final.output.concentrate_au\n",
       "79                          final.output.concentrate_ag\n",
       "80                          final.output.concentrate_pb\n",
       "81                         final.output.concentrate_sol\n",
       "82                                final.output.recovery\n",
       "83                                 final.output.tail_au\n",
       "84                                 final.output.tail_ag\n",
       "85                                 final.output.tail_pb\n",
       "86                                final.output.tail_sol\n",
       "dtype: object"
      ]
     },
     "execution_count": 4,
     "metadata": {},
     "output_type": "execute_result"
    }
   ],
   "source": [
    "#переведем названия признаков в Series и применим функцию \"isin\" вместе с \"~\", \n",
    "#таким образом найдем непересекающиеся названия признаков\n",
    "\n",
    "features_drop_list = pd.Series(list(data_full))[~pd.Series(list(data_full)).isin(pd.Series(list(data_test)))]\n",
    "features_drop_list"
   ]
  },
  {
   "cell_type": "markdown",
   "metadata": {},
   "source": [
    "Согласно полученным данным в тестовом датасете отсутствуют два типа признаков:\n",
    " - .calculation -  расчётные характеристики;\n",
    " - .output - параметры продукта.\n",
    " \n",
    " Согласно вводной информации по проекту - отсутствующие признаки рассчитываются позже, как мы видим это преимущественно признаки полученного на том или ином этапе продукта, либо расчетные характериситки. Таким образом необходимо обучать модель без учета данных признаков, так как в будущем модель будет строить свои предсказания на основе данных не имеющих информации о параметрах продукта или расчетных характеристиках.\n",
    " \n",
    "**Вывод по изучению отсутствующих параметров:**\n",
    "\n",
    "На этапе предобработки данных необходимо удалить из популяции информацию о параметрах продуктов (**.output**) и расчетных характеристиках продуктов (**.calculation**)"
   ]
  },
  {
   "cell_type": "markdown",
   "metadata": {},
   "source": [
    "#### Проверена корректность расчета признака `rougher.output.recovery`\n",
    "\n",
    "`rougher.output.recovery` - эффективность обогащения на этапе флотации. По полученным данным необходимо убедиться в корректности расчета данного признака.\n",
    "\n",
    "Формула расчета описывается следующим образом:\n",
    "\n",
    "recovery = ((C*(F-T)/(F*(C-T))*100% \n",
    "где,\n",
    "\n",
    "- `C` — доля золота в концентрате после флотации/очистки;\n",
    "- `F` — доля золота в сырье/концентрате до флотации/очистки;\n",
    "- `T` — доля золота в отвальных хвостах после флотации/очистки.\n",
    "\n",
    "Так как речь идет о этапе `rougher` - флотация, необходимо получить информацию о переменных `C`, `F`, `T` для процесса флотации.\n",
    "\n",
    "В данном случае параметрами будут выступать:\n",
    "- `C` - rougher.output.concentrate_au - содержание золота в концентрате после флотации;\n",
    "- `F` - rougher.input.feed_au - содержание золота в сырье;\n",
    "- `T` - rougher.output.tail_au - содержание золота в отвальных хвостах после флотации;\n",
    "\n",
    "Рассчитам информацию самостоятельно и сравним с фактическим значением."
   ]
  },
  {
   "cell_type": "code",
   "execution_count": 5,
   "metadata": {},
   "outputs": [],
   "source": [
    "# сформируем датафрейм содержащий только необходимые для вычисления столбцы и столбец- результат \"rougher.output.recovery\"\n",
    "check = data_full[['rougher.output.concentrate_au', \n",
    "                             'rougher.input.feed_au', \n",
    "                             'rougher.output.tail_au',\n",
    "                             'rougher.output.recovery']]"
   ]
  },
  {
   "cell_type": "code",
   "execution_count": 6,
   "metadata": {},
   "outputs": [
    {
     "name": "stdout",
     "output_type": "stream",
     "text": [
      "среднее абсолютное отклонение равно: 0.0\n"
     ]
    },
    {
     "name": "stderr",
     "output_type": "stream",
     "text": [
      "/tmp/ipykernel_47/3731470714.py:2: SettingWithCopyWarning: \n",
      "A value is trying to be set on a copy of a slice from a DataFrame.\n",
      "Try using .loc[row_indexer,col_indexer] = value instead\n",
      "\n",
      "See the caveats in the documentation: https://pandas.pydata.org/pandas-docs/stable/user_guide/indexing.html#returning-a-view-versus-a-copy\n",
      "  check['calculated'] = ((check['rougher.output.concentrate_au']*\n"
     ]
    }
   ],
   "source": [
    "# проведем расчет \n",
    "check['calculated'] = ((check['rougher.output.concentrate_au']*\n",
    "                 (check['rougher.input.feed_au']-check['rougher.output.tail_au'])\n",
    "                 /\n",
    "                 (check['rougher.input.feed_au']*\n",
    "                  (check['rougher.output.concentrate_au']-check['rougher.output.tail_au'])))*100)\n",
    "\n",
    "print ('среднее абсолютное отклонение равно:', \n",
    "       mean_absolute_error(check['rougher.output.recovery'], check['calculated']).round())"
   ]
  },
  {
   "cell_type": "code",
   "execution_count": 7,
   "metadata": {},
   "outputs": [
    {
     "name": "stdout",
     "output_type": "stream",
     "text": [
      "Отличия в данных:  \n",
      " 0.0 \n",
      " \n",
      "Первые 10 проверочных строк: \n"
     ]
    },
    {
     "name": "stderr",
     "output_type": "stream",
     "text": [
      "/tmp/ipykernel_47/3185371155.py:2: SettingWithCopyWarning: \n",
      "A value is trying to be set on a copy of a slice from a DataFrame.\n",
      "Try using .loc[row_indexer,col_indexer] = value instead\n",
      "\n",
      "See the caveats in the documentation: https://pandas.pydata.org/pandas-docs/stable/user_guide/indexing.html#returning-a-view-versus-a-copy\n",
      "  check['dif'] = (check['rougher.output.recovery']-check['calculated']).round()\n"
     ]
    },
    {
     "data": {
      "text/html": [
       "<div>\n",
       "<style scoped>\n",
       "    .dataframe tbody tr th:only-of-type {\n",
       "        vertical-align: middle;\n",
       "    }\n",
       "\n",
       "    .dataframe tbody tr th {\n",
       "        vertical-align: top;\n",
       "    }\n",
       "\n",
       "    .dataframe thead th {\n",
       "        text-align: right;\n",
       "    }\n",
       "</style>\n",
       "<table border=\"1\" class=\"dataframe\">\n",
       "  <thead>\n",
       "    <tr style=\"text-align: right;\">\n",
       "      <th></th>\n",
       "      <th>rougher.output.concentrate_au</th>\n",
       "      <th>rougher.input.feed_au</th>\n",
       "      <th>rougher.output.tail_au</th>\n",
       "      <th>rougher.output.recovery</th>\n",
       "      <th>calculated</th>\n",
       "      <th>dif</th>\n",
       "    </tr>\n",
       "  </thead>\n",
       "  <tbody>\n",
       "    <tr>\n",
       "      <th>0</th>\n",
       "      <td>19.793808</td>\n",
       "      <td>6.486150</td>\n",
       "      <td>1.170244</td>\n",
       "      <td>87.107763</td>\n",
       "      <td>87.107763</td>\n",
       "      <td>0.0</td>\n",
       "    </tr>\n",
       "    <tr>\n",
       "      <th>1</th>\n",
       "      <td>20.050975</td>\n",
       "      <td>6.478583</td>\n",
       "      <td>1.184827</td>\n",
       "      <td>86.843261</td>\n",
       "      <td>86.843261</td>\n",
       "      <td>-0.0</td>\n",
       "    </tr>\n",
       "    <tr>\n",
       "      <th>2</th>\n",
       "      <td>19.737170</td>\n",
       "      <td>6.362222</td>\n",
       "      <td>1.162562</td>\n",
       "      <td>86.842308</td>\n",
       "      <td>86.842308</td>\n",
       "      <td>-0.0</td>\n",
       "    </tr>\n",
       "    <tr>\n",
       "      <th>3</th>\n",
       "      <td>19.320810</td>\n",
       "      <td>6.118189</td>\n",
       "      <td>1.079755</td>\n",
       "      <td>87.226430</td>\n",
       "      <td>87.226430</td>\n",
       "      <td>0.0</td>\n",
       "    </tr>\n",
       "    <tr>\n",
       "      <th>4</th>\n",
       "      <td>19.216101</td>\n",
       "      <td>5.663707</td>\n",
       "      <td>1.012642</td>\n",
       "      <td>86.688794</td>\n",
       "      <td>86.688794</td>\n",
       "      <td>0.0</td>\n",
       "    </tr>\n",
       "    <tr>\n",
       "      <th>5</th>\n",
       "      <td>18.950385</td>\n",
       "      <td>5.687168</td>\n",
       "      <td>0.915835</td>\n",
       "      <td>88.156912</td>\n",
       "      <td>88.156912</td>\n",
       "      <td>-0.0</td>\n",
       "    </tr>\n",
       "    <tr>\n",
       "      <th>6</th>\n",
       "      <td>19.319591</td>\n",
       "      <td>6.038436</td>\n",
       "      <td>0.986248</td>\n",
       "      <td>88.168065</td>\n",
       "      <td>88.168065</td>\n",
       "      <td>0.0</td>\n",
       "    </tr>\n",
       "    <tr>\n",
       "      <th>7</th>\n",
       "      <td>19.507897</td>\n",
       "      <td>6.433854</td>\n",
       "      <td>1.116110</td>\n",
       "      <td>87.668336</td>\n",
       "      <td>87.668336</td>\n",
       "      <td>0.0</td>\n",
       "    </tr>\n",
       "    <tr>\n",
       "      <th>8</th>\n",
       "      <td>19.789465</td>\n",
       "      <td>6.526612</td>\n",
       "      <td>1.186780</td>\n",
       "      <td>87.035862</td>\n",
       "      <td>87.035862</td>\n",
       "      <td>-0.0</td>\n",
       "    </tr>\n",
       "    <tr>\n",
       "      <th>9</th>\n",
       "      <td>19.550973</td>\n",
       "      <td>6.747693</td>\n",
       "      <td>1.137303</td>\n",
       "      <td>88.280699</td>\n",
       "      <td>88.280699</td>\n",
       "      <td>0.0</td>\n",
       "    </tr>\n",
       "  </tbody>\n",
       "</table>\n",
       "</div>"
      ],
      "text/plain": [
       "   rougher.output.concentrate_au  rougher.input.feed_au  \\\n",
       "0                      19.793808               6.486150   \n",
       "1                      20.050975               6.478583   \n",
       "2                      19.737170               6.362222   \n",
       "3                      19.320810               6.118189   \n",
       "4                      19.216101               5.663707   \n",
       "5                      18.950385               5.687168   \n",
       "6                      19.319591               6.038436   \n",
       "7                      19.507897               6.433854   \n",
       "8                      19.789465               6.526612   \n",
       "9                      19.550973               6.747693   \n",
       "\n",
       "   rougher.output.tail_au  rougher.output.recovery  calculated  dif  \n",
       "0                1.170244                87.107763   87.107763  0.0  \n",
       "1                1.184827                86.843261   86.843261 -0.0  \n",
       "2                1.162562                86.842308   86.842308 -0.0  \n",
       "3                1.079755                87.226430   87.226430  0.0  \n",
       "4                1.012642                86.688794   86.688794  0.0  \n",
       "5                0.915835                88.156912   88.156912 -0.0  \n",
       "6                0.986248                88.168065   88.168065  0.0  \n",
       "7                1.116110                87.668336   87.668336  0.0  \n",
       "8                1.186780                87.035862   87.035862 -0.0  \n",
       "9                1.137303                88.280699   88.280699  0.0  "
      ]
     },
     "execution_count": 7,
     "metadata": {},
     "output_type": "execute_result"
    }
   ],
   "source": [
    "#убедимся, что расхождения действительно отсутствуют\n",
    "check['dif'] = (check['rougher.output.recovery']-check['calculated']).round()\n",
    "\n",
    "print('Отличия в данных: ', '\\n', check['dif'].sum().sum(), '\\n', '\\n'\n",
    "      'Первые 10 проверочных строк: ')\n",
    "check.head(10)\n"
   ]
  },
  {
   "cell_type": "markdown",
   "metadata": {},
   "source": [
    "**Вывод:**\n",
    "\n",
    "В результате проверки формулы было выяснено, что признак `rougher.output.recovery` имеет корректные значения, это доказано путем \n",
    "\n",
    "1. Расчета среднего абсолютного отклонения значение которого при округлении составляет **0** \n",
    "2. Проведенного самостоятельного пересчета и выявления разниц `dif`. По всем строкам общей популяции разница равна **0**."
   ]
  },
  {
   "cell_type": "markdown",
   "metadata": {},
   "source": [
    "**Вывод по разделу \"Первичный анализ представленных данных\"**\n",
    "\n",
    "В данном разделе была сформирована информация о данных:\n",
    "\n",
    "1. Общая информация о предоставленных датасетах.\n",
    "2. Был проведен анализ отсутствующих признаков из тестируемой выборки, согласно полученным данным отсутствуют признаки в отношении **параметров готового продукта** и **рассчитанных показателей**. \n",
    "3. Был проверен признак `rougher.output.recovery` - который отражает эффективность обогащения на этапе флотации. Данные из параметра были пересчитаны \"вручную\" и благодаря расчетам можно отметить, что данный признак рассчитан корректно.\n",
    "\n",
    "Также были даны следующие рекомендации для предобработки данных:\n",
    "\n",
    "1. Перевести тип признака `date` в корректный формат - DataTime;\n",
    "2. Из обучающей выборки необходимо убрать столбцы отвечающие за\n",
    "    - параметры продуктов (**.output**) \n",
    "    - расчетные характеристиках продуктов (**.calculation**)\n",
    "    \n",
    "так как эти данные поступают позже и могут отсутствовать при передачи модели информации для предсказаний.\n",
    "\n",
    "3. Необходимо изучить пропуски и заполнить данные;"
   ]
  },
  {
   "cell_type": "markdown",
   "metadata": {},
   "source": [
    "### Предобработка данных\n",
    "\n",
    "Согласно полученным выводам из раздела 1.2.2., необходимо выполнить следующие этапы по предобработке данных:\n",
    "\n",
    "1. Перевести тип признака `date` в корректный формат - DataTime;\n",
    "2. Из обучающей выборки необходимо убрать столбцы отвечающие за\n",
    "    - параметры продуктов (**.output**) \n",
    "    - расчетные характеристиках продуктов (**.calculation**)\n",
    "    \n",
    "    \n",
    "3. Необходимо изучить пропуски и заполнить данные;"
   ]
  },
  {
   "cell_type": "code",
   "execution_count": 8,
   "metadata": {
    "scrolled": true
   },
   "outputs": [],
   "source": [
    "# переведем признак `date` во всех датасетах в корректный формат\n",
    "\n",
    "data_train['date'] =  pd.to_datetime(data_train['date'], format='%Y%m%d %H:%M:%S') \n",
    "data_test['date'] =  pd.to_datetime(data_train['date'], format='%Y%m%d %H:%M:%S') \n",
    "data_full['date'] =  pd.to_datetime(data_train['date'], format='%Y%m%d %H:%M:%S')  "
   ]
  },
  {
   "cell_type": "code",
   "execution_count": 9,
   "metadata": {},
   "outputs": [
    {
     "name": "stdout",
     "output_type": "stream",
     "text": [
      "0       2016-01-15 00:00:00\n",
      "1       2016-01-15 01:00:00\n",
      "2       2016-01-15 02:00:00\n",
      "3       2016-01-15 03:00:00\n",
      "4       2016-01-15 04:00:00\n",
      "                ...        \n",
      "14574   2017-12-09 09:59:59\n",
      "14575   2017-12-09 10:59:59\n",
      "14576   2017-12-09 11:59:59\n",
      "14577   2017-12-09 12:59:59\n",
      "14578   2017-12-09 13:59:59\n",
      "Name: date, Length: 14579, dtype: datetime64[ns] \n",
      " \n",
      " 0      2016-01-15 00:00:00\n",
      "1      2016-01-15 01:00:00\n",
      "2      2016-01-15 02:00:00\n",
      "3      2016-01-15 03:00:00\n",
      "4      2016-01-15 04:00:00\n",
      "               ...        \n",
      "4855   2016-09-08 13:59:59\n",
      "4856   2016-09-08 14:59:59\n",
      "4857   2016-09-08 15:59:59\n",
      "4858   2016-09-08 16:59:59\n",
      "4859   2016-09-08 17:59:59\n",
      "Name: date, Length: 4860, dtype: datetime64[ns] \n",
      " \n",
      " 0       2016-01-15 00:00:00\n",
      "1       2016-01-15 01:00:00\n",
      "2       2016-01-15 02:00:00\n",
      "3       2016-01-15 03:00:00\n",
      "4       2016-01-15 04:00:00\n",
      "                ...        \n",
      "19434                   NaT\n",
      "19435                   NaT\n",
      "19436                   NaT\n",
      "19437                   NaT\n",
      "19438                   NaT\n",
      "Name: date, Length: 19439, dtype: datetime64[ns]\n"
     ]
    }
   ],
   "source": [
    "# убедимся, что данные имеют формат datetime64\n",
    "print (data_train['date'], '\\n', '\\n',\n",
    "data_test['date'], '\\n', '\\n',\n",
    "data_full['date'])"
   ]
  },
  {
   "cell_type": "code",
   "execution_count": 10,
   "metadata": {},
   "outputs": [
    {
     "name": "stdout",
     "output_type": "stream",
     "text": [
      "<class 'pandas.core.frame.DataFrame'>\n",
      "RangeIndex: 14579 entries, 0 to 14578\n",
      "Data columns (total 55 columns):\n",
      " #   Column                                      Non-Null Count  Dtype         \n",
      "---  ------                                      --------------  -----         \n",
      " 0   date                                        14579 non-null  datetime64[ns]\n",
      " 1   rougher.input.feed_au                       14579 non-null  float64       \n",
      " 2   rougher.input.feed_ag                       14579 non-null  float64       \n",
      " 3   rougher.input.feed_pb                       14507 non-null  float64       \n",
      " 4   rougher.input.feed_sol                      14502 non-null  float64       \n",
      " 5   rougher.input.feed_rate                     14572 non-null  float64       \n",
      " 6   rougher.input.feed_size                     14478 non-null  float64       \n",
      " 7   rougher.input.floatbank10_sulfate           14548 non-null  float64       \n",
      " 8   rougher.input.floatbank10_xanthate          14572 non-null  float64       \n",
      " 9   rougher.state.floatbank10_a_air             14579 non-null  float64       \n",
      " 10  rougher.state.floatbank10_a_level           14579 non-null  float64       \n",
      " 11  rougher.state.floatbank10_b_air             14579 non-null  float64       \n",
      " 12  rougher.state.floatbank10_b_level           14579 non-null  float64       \n",
      " 13  rougher.state.floatbank10_c_air             14579 non-null  float64       \n",
      " 14  rougher.state.floatbank10_c_level           14579 non-null  float64       \n",
      " 15  rougher.state.floatbank10_d_air             14579 non-null  float64       \n",
      " 16  rougher.state.floatbank10_d_level           14579 non-null  float64       \n",
      " 17  rougher.state.floatbank10_e_air             14150 non-null  float64       \n",
      " 18  rougher.state.floatbank10_e_level           14579 non-null  float64       \n",
      " 19  rougher.state.floatbank10_f_air             14579 non-null  float64       \n",
      " 20  rougher.state.floatbank10_f_level           14579 non-null  float64       \n",
      " 21  rougher.input.floatbank11_sulfate           14543 non-null  float64       \n",
      " 22  rougher.input.floatbank11_xanthate          14172 non-null  float64       \n",
      " 23  rougher.output.recovery                     14579 non-null  float64       \n",
      " 24  primary_cleaner.input.sulfate               14556 non-null  float64       \n",
      " 25  primary_cleaner.input.depressant            14551 non-null  float64       \n",
      " 26  primary_cleaner.input.feed_size             14579 non-null  float64       \n",
      " 27  primary_cleaner.input.xanthate              14518 non-null  float64       \n",
      " 28  primary_cleaner.state.floatbank8_a_air      14576 non-null  float64       \n",
      " 29  primary_cleaner.state.floatbank8_a_level    14579 non-null  float64       \n",
      " 30  primary_cleaner.state.floatbank8_b_air      14576 non-null  float64       \n",
      " 31  primary_cleaner.state.floatbank8_b_level    14579 non-null  float64       \n",
      " 32  primary_cleaner.state.floatbank8_c_air      14579 non-null  float64       \n",
      " 33  primary_cleaner.state.floatbank8_c_level    14579 non-null  float64       \n",
      " 34  primary_cleaner.state.floatbank8_d_air      14578 non-null  float64       \n",
      " 35  primary_cleaner.state.floatbank8_d_level    14579 non-null  float64       \n",
      " 36  secondary_cleaner.state.floatbank2_a_air    14485 non-null  float64       \n",
      " 37  secondary_cleaner.state.floatbank2_a_level  14579 non-null  float64       \n",
      " 38  secondary_cleaner.state.floatbank2_b_air    14557 non-null  float64       \n",
      " 39  secondary_cleaner.state.floatbank2_b_level  14579 non-null  float64       \n",
      " 40  secondary_cleaner.state.floatbank3_a_air    14567 non-null  float64       \n",
      " 41  secondary_cleaner.state.floatbank3_a_level  14579 non-null  float64       \n",
      " 42  secondary_cleaner.state.floatbank3_b_air    14579 non-null  float64       \n",
      " 43  secondary_cleaner.state.floatbank3_b_level  14579 non-null  float64       \n",
      " 44  secondary_cleaner.state.floatbank4_a_air    14574 non-null  float64       \n",
      " 45  secondary_cleaner.state.floatbank4_a_level  14579 non-null  float64       \n",
      " 46  secondary_cleaner.state.floatbank4_b_air    14579 non-null  float64       \n",
      " 47  secondary_cleaner.state.floatbank4_b_level  14579 non-null  float64       \n",
      " 48  secondary_cleaner.state.floatbank5_a_air    14579 non-null  float64       \n",
      " 49  secondary_cleaner.state.floatbank5_a_level  14579 non-null  float64       \n",
      " 50  secondary_cleaner.state.floatbank5_b_air    14579 non-null  float64       \n",
      " 51  secondary_cleaner.state.floatbank5_b_level  14579 non-null  float64       \n",
      " 52  secondary_cleaner.state.floatbank6_a_air    14578 non-null  float64       \n",
      " 53  secondary_cleaner.state.floatbank6_a_level  14579 non-null  float64       \n",
      " 54  final.output.recovery                       14579 non-null  float64       \n",
      "dtypes: datetime64[ns](1), float64(54)\n",
      "memory usage: 6.1 MB\n"
     ]
    }
   ],
   "source": [
    "#ранее был сформирован список признаков, которые отсутствуют в тестовой выборке\n",
    "#для начала удалим целевые признаки из списка этого списка\n",
    "words_to_remove = ['rougher.output.recovery', 'final.output.recovery']\n",
    "drops = features_drop_list.str.contains('|'.join(words_to_remove)) \n",
    "features_drop_list = features_drop_list[~drops]\n",
    "\n",
    "#удалим из обучающей выборки все ненужные признаки и убедимся что признаков осталось 55\n",
    "data_train = data_train.drop(list(features_drop_list), axis =1)\n",
    "data_train.info()"
   ]
  },
  {
   "cell_type": "markdown",
   "metadata": {},
   "source": [
    "Согласно имеющейся информации -соседние по времени параметры часто похожи. таким образом для заполнения пропусков используем параметры - которые являются соседними, для этого используем метод `.ffill`"
   ]
  },
  {
   "cell_type": "code",
   "execution_count": 11,
   "metadata": {},
   "outputs": [
    {
     "name": "stdout",
     "output_type": "stream",
     "text": [
      "Количество пропусков в \"data_train\": 0\n",
      "Количество пропусков в \"data_test\": 0\n",
      "Количество пропусков в \"data_full\": 0\n"
     ]
    }
   ],
   "source": [
    "#заполним пропуски для всех датафреймов\n",
    "data_train = data_train.ffill()\n",
    "data_test = data_test.ffill()\n",
    "data_full = data_full.ffill()\n",
    "\n",
    "#убедимся, что пропуски отсутствуют\n",
    "print ('Количество пропусков в \"data_train\":', data_train.isna().sum().sum())\n",
    "print ('Количество пропусков в \"data_test\":', data_test.isna().sum().sum())\n",
    "print ('Количество пропусков в \"data_full\":', data_full.isna().sum().sum())"
   ]
  },
  {
   "cell_type": "markdown",
   "metadata": {},
   "source": [
    "**Вывод по разделу \"Предобработка данных\"**\n",
    "\n",
    "В результате предобработки были выполнены следующие операции:\n",
    "- для признака `date` установлено корректное значение типа данных - **datetime**;\n",
    "- признаки которые не участвуют в обучении модели удалены из тестовой выборки;\n",
    "- пустые значения во всех датасетах заполнены."
   ]
  },
  {
   "cell_type": "markdown",
   "metadata": {},
   "source": [
    "### **Вывод по блоку \"Знакомство с данными и последующая предобработка\"**\n",
    "\n",
    "В рамках данного блока были выполнены следующие операции:\n",
    "\n",
    "1. Был выполнен импорт всех используемых библиотек и методов.\n",
    "2. Проведена загрузка и анализ предоставленных данных.\n",
    "\n",
    "Для обработки были предоставлены 3 датасета со следующими размерами:\n",
    " - обучающая выборка (14579 строк и 87 столбцов);\n",
    " - тестовая выборка (4860 строк и 53 столбцов);\n",
    " - общая популяция (19439 строк и 87 столбцов).\n",
    " \n",
    "Популяция разделена на выборки в пропорции 75% к 25%.\n",
    " \n",
    "Было установлено, что в тесовой выборке отсутствуют некоторые признаки. После анализа было выяснено, что по сравнению с обучающей выборкой в тестовой отсутствуют признаки категорий:\n",
    "- параметры продуктов (**.output**) \n",
    "- расчетные характеристиках продуктов (**.calculation**)\n",
    "\n",
    "Согласно полученной информации, данные признаки рассчитываются позже и в модель данные могут поступать без них. Таким образом было принято решение для обучения модели не использовать данные признаки.\n",
    "\n",
    "Также была выполнена проверка признака `rougher.output.recovery` - эффективность обогащения на этапе флотации.\n",
    "\n",
    "Данные параметр вычисляется по формуле: \n",
    "\n",
    "recovery = ((C*(F-T)/(F*(C-T))*100% \n",
    "где,\n",
    "\n",
    "- `C` — доля золота в концентрате после флотации/очистки;\n",
    "- `F` — доля золота в сырье/концентрате до флотации/очистки;\n",
    "- `T` — доля золота в отвальных хвостах после флотации/очистки.\n",
    "\n",
    "Зная всю необходимую информацию был проведен пересчет параметра. Далее было вычислено среднее квадратичное отклонение между фактическими и рассчитанными данными - значения MSE составило **0**, то есть отклонение отсутствует. Таким образом можно сделать вывод о том, что данный признак рассчитан корректно.\n",
    "\n",
    "3. Были выполнены процедуры по предобработке данных, которые включали:\n",
    "- для признака `date` установлено корректное значение типа данных - **datetime**;\n",
    "- из обучающей выборки были удалены все не участвующие в обучении признаки;\n",
    "- пропуски в данных были заполнены ближайшим предыдущим значением с помощью метода `ffill`"
   ]
  },
  {
   "cell_type": "markdown",
   "metadata": {},
   "source": [
    "## Анализ данных\n",
    "\n",
    "В данном блоке будут проанализированы предоставленные данные, а именно:\n",
    "- изменение концентрации металлов на различных этапах очистки;\n",
    "- произведено сравнение размеров гранул исходного сырья у обучающей и тестовой выборки;\n",
    "- исследовано суммарная концентрация металлов на различных стадиях очистки."
   ]
  },
  {
   "cell_type": "markdown",
   "metadata": {},
   "source": [
    "### Изменения концентрации металлов на различных стадиях очистки\n",
    "\n",
    "В золотосодержащей руде имеются разные металлы:\n",
    "- au - золото;\n",
    "- ag - серебро;\n",
    "- pb - свинец.\n",
    "\n",
    "Проходя различные этапы очистки концентрация данных металлов меняется. Изучим значения концентрации на каждом этапе очистки:\n",
    "1. Поступающее сырье;\n",
    "2. Черновой концентрат;\n",
    "3. Концентрат после первичной очистки;\n",
    "4. Финальный концентрат.\n",
    "\n",
    "Рассмотрим особенности распределений и сформируем общие выводы."
   ]
  },
  {
   "cell_type": "code",
   "execution_count": 12,
   "metadata": {},
   "outputs": [
    {
     "name": "stdout",
     "output_type": "stream",
     "text": [
      "Содержание золота на каждом этапе очистки \n",
      " 1. Поступающее сырье: 8.13 \n",
      " 2. Черновой концентрат: 20.28 \n",
      " 3. Концентрат после первичной очистки:  32.84 \n",
      " 4. Финальный концентрат:  45.01 \n",
      "\n",
      "Содержание серебра на каждом этапе очистки \n",
      " 1. Поступающее сырье: 8.59 \n",
      " 2. Черновой концентрат: 12.1 \n",
      " 3. Концентрат после первичной очистки:  8.51 \n",
      " 4. Финальный концентрат:  5.07 \n",
      "\n",
      "Содержание свинца на каждом этапе очистки \n",
      " 1. Поступающее сырье: 3.53 \n",
      " 2. Черновой концентрат: 7.74 \n",
      " 3. Концентрат после первичной очистки:  10.14 \n",
      " 4. Финальный концентрат:  10.1 \n",
      "\n"
     ]
    }
   ],
   "source": [
    "# определим медианное значения для каждой группы металлов на каждом этапе:\n",
    "\n",
    "print ('Содержание золота на каждом этапе очистки', '\\n',\n",
    "       '1. Поступающее сырье:',data_full['rougher.input.feed_au'].median().round(2), '\\n',\n",
    "       '2. Черновой концентрат:',data_full['rougher.output.concentrate_au'].median().round(2),'\\n',\n",
    "       '3. Концентрат после первичной очистки: ',data_full['primary_cleaner.output.concentrate_au'].median().round(2),'\\n',\n",
    "       '4. Финальный концентрат: ',data_full['final.output.concentrate_au'].median().round(2), '\\n')\n",
    "\n",
    "print ('Содержание серебра на каждом этапе очистки', '\\n',\n",
    "       '1. Поступающее сырье:',data_full['rougher.input.feed_ag'].median().round(2), '\\n',\n",
    "       '2. Черновой концентрат:',data_full['rougher.output.concentrate_ag'].median().round(2),'\\n',\n",
    "       '3. Концентрат после первичной очистки: ',data_full['primary_cleaner.output.concentrate_ag'].median().round(2),'\\n',\n",
    "       '4. Финальный концентрат: ',data_full['final.output.concentrate_ag'].median().round(2), '\\n')\n",
    "\n",
    "print ('Содержание свинца на каждом этапе очистки', '\\n',\n",
    "       '1. Поступающее сырье:',data_full['rougher.input.feed_pb'].median().round(2), '\\n',\n",
    "       '2. Черновой концентрат:',data_full['rougher.output.concentrate_pb'].median().round(2),'\\n',\n",
    "       '3. Концентрат после первичной очистки: ',data_full['primary_cleaner.output.concentrate_pb'].median().round(2),'\\n',\n",
    "       '4. Финальный концентрат: ',data_full['final.output.concentrate_pb'].median().round(2), '\\n')"
   ]
  },
  {
   "cell_type": "code",
   "execution_count": 13,
   "metadata": {},
   "outputs": [
    {
     "data": {
      "image/png": "[encoded data removed]",
      "text/plain": [
       "<Figure size 1080x288 with 1 Axes>"
      ]
     },
     "metadata": {
      "needs_background": "light"
     },
     "output_type": "display_data"
    }
   ],
   "source": [
    "#сформируем датафрейм с данными для графика изменения концентрации металлов\n",
    "concentrate_graph = pd.DataFrame ({'part':['Поступающее сырье', 'Черновой концентрат', \n",
    "                                           'Концентрат после первичной очистки', 'Финальный концентрат'],\n",
    "                                   'au':[data_full['rougher.input.feed_au'].median(),\n",
    "                                         data_full['rougher.output.concentrate_au'].median(),\n",
    "                                         data_full['primary_cleaner.output.concentrate_au'].median(), \n",
    "                                         data_full['final.output.concentrate_au'].median()],\n",
    "                                   \n",
    "                                   'ag':[data_full['rougher.input.feed_ag'].median(),\n",
    "                                         data_full['rougher.output.concentrate_ag'].median(),\n",
    "                                         data_full['primary_cleaner.output.concentrate_ag'].median(), \n",
    "                                         data_full['final.output.concentrate_ag'].median()],\n",
    "                                   \n",
    "                                   'pb':[data_full['rougher.input.feed_pb'].median(),\n",
    "                                         data_full['rougher.output.concentrate_pb'].median(),\n",
    "                                         data_full['primary_cleaner.output.concentrate_pb'].median(), \n",
    "                                         data_full['final.output.concentrate_pb'].median()]})\n",
    "\n",
    "concentrate_graph.set_index('part', inplace=True)\n",
    "\n",
    "# построим график изменения концентрации в зависимости от этапа\n",
    "concentrate_graph.plot(kind = 'line', figsize = (15,4))\n",
    "\n",
    "plt.title ('График изменения концентрации металлов')\n",
    "plt.xlabel ('Этап очистки')\n",
    "plt.ylabel ('Концентрация металла')\n",
    "plt.legend(fontsize=14)\n",
    "plt.grid()\n",
    "plt.show()"
   ]
  },
  {
   "cell_type": "markdown",
   "metadata": {},
   "source": [
    "**Вывод по разделу:**\n",
    "\n",
    "Согласно анализу было выяснено, что с каждым этапом очистки:\n",
    "- концентрация золота увеличивается, так с этапа поступления сырья до финального этапа концентрация золота возросла с **8.13** до **45.01**;\n",
    "- концентрация серебра уменьшается, с этапа поступления сырья до финального этапа концентрация серебра уменьшилась с **8.59** до **5.07**;\n",
    "- концентрация свинца увеличилась, с этапа поступления сырья до финального этапа концентрация свинца увеличилась с **3.53** до **10.01**.\n",
    "\n",
    "Также был построен график подтверждающий изменения концентрации металлов."
   ]
  },
  {
   "cell_type": "markdown",
   "metadata": {},
   "source": [
    "### Сравнение размеров гранул исходного сырья \n",
    "\n",
    "Сравним распределения размеров гранул исходного сырья на обучающей и тестовой выборках. Если распределения сильно отличаются друг от друга, оценка модели будет неправильной.\n",
    "\n",
    "В данных размер гранул описан в признаке `rougher.input.feed_size`\n",
    "\n",
    "Построим графики распределения значения этого признака для обучающей и тестовой выборки."
   ]
  },
  {
   "cell_type": "code",
   "execution_count": 14,
   "metadata": {},
   "outputs": [
    {
     "data": {
      "image/png": "[encoded data removed]",
      "text/plain": [
       "<Figure size 1080x288 with 1 Axes>"
      ]
     },
     "metadata": {
      "needs_background": "light"
     },
     "output_type": "display_data"
    }
   ],
   "source": [
    "#построим график для параметра rougher.input.feed_size\n",
    "\n",
    "plt.figure(figsize=(15,4))\n",
    "sns.kdeplot (data_train['rougher.input.feed_size'], fill= True, \n",
    "             alpha = 0.3, color = 'blue', label = 'Обучающая выборка')\n",
    "sns.kdeplot (data_test['rougher.input.feed_size'], fill= True, \n",
    "             alpha = 0.5, color = 'red', label = 'Тестовая выборка')\n",
    "\n",
    "plt.title('Распределение размера гранул сырья в обучающей и тестовой выборке')\n",
    "plt.legend()\n",
    "plt.xlabel('Количество гранул')\n",
    "plt.ylabel('Частота')\n",
    "\n",
    "plt.show()"
   ]
  },
  {
   "cell_type": "markdown",
   "metadata": {},
   "source": [
    "**Вывод по разделу:**\n",
    "\n",
    "В данном разделе был построен график распределения значений `rougher.input.feed_size`для обучающей и тестовой выборки. Согласно проведенному анализу данные распределены равномерно."
   ]
  },
  {
   "cell_type": "markdown",
   "metadata": {},
   "source": [
    "### Суммарная концентрация металлов на различных стадиях очистки\n",
    "\n",
    "Исследуйте суммарную концентрацию металлов на разных стадиях: в сырье, в черновом концентрате, в концентрате после первой очистки и в финальном концентрате."
   ]
  },
  {
   "cell_type": "code",
   "execution_count": 15,
   "metadata": {},
   "outputs": [
    {
     "data": {
      "image/png": "[encoded data removed]",
      "text/plain": [
       "<Figure size 1080x288 with 1 Axes>"
      ]
     },
     "metadata": {
      "needs_background": "light"
     },
     "output_type": "display_data"
    }
   ],
   "source": [
    "# просуммируем значения металлов для каждого этапа\n",
    "data_metal= pd.DataFrame()\n",
    "data_metal['rougher.input.feed']= data_full[['rougher.input.feed_au',\n",
    "                                             'rougher.input.feed_ag',\n",
    "                                             'rougher.input.feed_pb']].sum(axis = 1)\n",
    "\n",
    "data_metal['ougher.output.concentrate']= data_full[['rougher.output.concentrate_au',\n",
    "                                                    'rougher.output.concentrate_ag',\n",
    "                                                    'rougher.output.concentrate_pb']].sum(axis = 1)\n",
    "\n",
    "data_metal['primary_cleaner.output.concentrate']= data_full[['primary_cleaner.output.concentrate_au',\n",
    "                                                             'primary_cleaner.output.concentrate_ag',\n",
    "                                                             'primary_cleaner.output.concentrate_pb']].sum(axis = 1)\n",
    "\n",
    "data_metal['final.output.concentrate']= data_full[['final.output.concentrate_au',\n",
    "                                                   'final.output.concentrate_ag',\n",
    "                                                   'final.output.concentrate_pb']].sum(axis = 1)\n",
    "\n",
    "\n",
    "# построим распределения на гистограмме\n",
    "\n",
    "plt.figure(figsize=(15,4))\n",
    "plt.hist (data_metal['rougher.input.feed'], bins = 100, alpha = 0.5, color = 'red', label = 'Сырье')\n",
    "plt.hist (data_metal['ougher.output.concentrate'], bins = 100, alpha = 0.5, color = 'grey', label = 'Черновой концентрат')\n",
    "plt.hist (data_metal['primary_cleaner.output.concentrate'], bins = 100, alpha = 0.5, color = 'blue', label = 'Концентрат после первичной очистки')\n",
    "plt.hist (data_metal['final.output.concentrate'], bins = 100, alpha = 0.5, color = 'green', label = 'Финальный концентрат')\n",
    "\n",
    "plt.title('Распределение суммарной концентрации металлов на разных стадиях очистки')\n",
    "plt.legend ()\n",
    "plt.xlabel('Концентрация металлов')\n",
    "plt.ylabel('Частота')\n",
    "plt.grid()\n",
    "\n",
    "plt.show()\n"
   ]
  },
  {
   "cell_type": "code",
   "execution_count": 16,
   "metadata": {
    "scrolled": true
   },
   "outputs": [],
   "source": [
    "#избавимся от выбрасов в модели \n",
    " \n",
    "data_full = data_full[(data_full['rougher.input.feed_au']>=1)&\n",
    "                      (data_full['rougher.input.feed_ag']>=1)&\n",
    "                      (data_full['rougher.input.feed_pb']>=1)&\n",
    "                      \n",
    "                      (data_full['rougher.output.concentrate_pb']>=1)&\n",
    "                      (data_full['rougher.output.concentrate_pb']>=1)&\n",
    "                      (data_full['rougher.output.concentrate_pb']>=1)&\n",
    "                      \n",
    "                      (data_full['primary_cleaner.output.concentrate_pb']>=1)&\n",
    "                      (data_full['primary_cleaner.output.concentrate_pb']>=1)&\n",
    "                      (data_full['primary_cleaner.output.concentrate_pb']>=1)&\n",
    "                      \n",
    "                      (data_full['final.output.concentrate_pb']>=1)&\n",
    "                      (data_full['final.output.concentrate_pb']>=1)&\n",
    "                      (data_full['final.output.concentrate_pb']>=1)]\n"
   ]
  },
  {
   "cell_type": "code",
   "execution_count": 17,
   "metadata": {
    "scrolled": false
   },
   "outputs": [
    {
     "data": {
      "image/png": "[encoded data removed]",
      "text/plain": [
       "<Figure size 1080x288 with 1 Axes>"
      ]
     },
     "metadata": {
      "needs_background": "light"
     },
     "output_type": "display_data"
    }
   ],
   "source": [
    "# убедимся, что выбросы ушли\n",
    "data_metal= pd.DataFrame()\n",
    "data_metal['rougher.input.feed']= data_full[['rougher.input.feed_au',\n",
    "                                             'rougher.input.feed_ag',\n",
    "                                             'rougher.input.feed_pb']].sum(axis = 1)\n",
    "\n",
    "data_metal['ougher.output.concentrate']= data_full[['rougher.output.concentrate_au',\n",
    "                                                    'rougher.output.concentrate_ag',\n",
    "                                                    'rougher.output.concentrate_pb']].sum(axis = 1)\n",
    "\n",
    "data_metal['primary_cleaner.output.concentrate']= data_full[['primary_cleaner.output.concentrate_au',\n",
    "                                                             'primary_cleaner.output.concentrate_ag',\n",
    "                                                             'primary_cleaner.output.concentrate_pb']].sum(axis = 1)\n",
    "\n",
    "data_metal['final.output.concentrate']= data_full[['final.output.concentrate_au',\n",
    "                                                   'final.output.concentrate_ag',\n",
    "                                                   'final.output.concentrate_pb']].sum(axis = 1)\n",
    "\n",
    "# построим распределения на гистограмме\n",
    "\n",
    "plt.figure(figsize=(15,4))\n",
    "plt.hist (data_metal['rougher.input.feed'], bins = 100, alpha = 0.5, color = 'red', label = 'Сырье')\n",
    "plt.hist (data_metal['ougher.output.concentrate'], bins = 100, alpha = 0.5, color = 'grey', label = 'Черновой концентрат')\n",
    "plt.hist (data_metal['primary_cleaner.output.concentrate'], bins = 100, alpha = 0.5, color = 'blue', label = 'Концентрат после первичной очистки')\n",
    "plt.hist (data_metal['final.output.concentrate'], bins = 100, alpha = 0.5, color = 'green', label = 'Финальный концентрат')\n",
    "\n",
    "plt.title('Распределение суммарной концентрации металлов на разных стадиях очистки')\n",
    "plt.legend ()\n",
    "plt.xlabel('Концентрация металлов')\n",
    "plt.ylabel('Частота')\n",
    "plt.grid()\n",
    "\n",
    "plt.show()"
   ]
  },
  {
   "cell_type": "code",
   "execution_count": 18,
   "metadata": {},
   "outputs": [],
   "source": [
    "# удалим аналогичные выбросы из обучающей и тестовой выборки\n",
    "\n",
    "data_train = data_train[(data_train['rougher.input.feed_au']>=1)&\n",
    "                        (data_train['rougher.input.feed_ag']>=1)&\n",
    "                        (data_train['rougher.input.feed_pb']>=1)]\n",
    "\n",
    "data_test = data_test[(data_test['rougher.input.feed_au']>=1)&\n",
    "                      (data_test['rougher.input.feed_ag']>=1)&\n",
    "                      (data_test['rougher.input.feed_pb']>=1)]"
   ]
  },
  {
   "cell_type": "markdown",
   "metadata": {},
   "source": [
    "**Вывод по разделу:**\n",
    "\n",
    "Результатом анализа в данном разделе является график распределения суммарной концентрации всех металлов на каждом этапе очистки.\n",
    "\n",
    "Из графика видно, что с каждым этапом концентрация металлов увеличивается:\n",
    "1. На этапе сырья концентрация металлов сильнее всего распределена в границах примерно от **10** до **30**;\n",
    "2. На этапе чернового концентрата распределение основной массы смещается на промежуток от **30** до **50** с пиком в **40**;\n",
    "3. После первичной очистки распределение основной массы находится на промежутке от **40** до **60** с пиком в ~**53**;\n",
    "4. На финальном этапе концентрация металлов расположена на интервале от **50** до **65** - пиком является значение в **61**\n",
    "\n",
    "Таким образом наибольшая концентрация металлов достигается на финальном этапе очистки.\n",
    "\n",
    "При этом можно отметить, что имелись выбросы около 0 - их необходимо было убрать из популяций для корректного построения моделей."
   ]
  },
  {
   "cell_type": "markdown",
   "metadata": {},
   "source": [
    "### **Вывод по блоку \"Анализ данных\"**\n",
    "\n",
    "В данном блоке были сформулированы выводы по следующим видам анализа данных:\n",
    "\n",
    "1. Было определено, что каждый металл на различных стадиях очистки имеет разную концентрацию. Так, от этапа сырья, до этапа финальной очистки кратно возрастает концентрация золота с **8.13** до **45.01**, в свою очередь содержание серебра снижается **8.59** до **5.07**, а свинца увеличивается, но не так сильно как золота - с **3.53** до **10.01**.\n",
    "\n",
    "2. Был проведен анализ распределения гранул в сырье для обучающей и тестовой выборки. Было выяснено, что распределение гранул является равномерным. Таким образом на имеющихся данных можно обучать модель.\n",
    "\n",
    "3. Была проанализирована суммарная концентрация всех металлов на разных этапах очистки. Результатом анализа является график распределения, на котором видно, что с каждым этапом очистки концентрация металлов возрастает и достигает своих пиков на финальном этапе.\n",
    "\n",
    "Также благодаря графику были выявлены аномальные выбросы, которые могли повлиять на предсказания модели, таким образом они были удалены из популяции."
   ]
  },
  {
   "cell_type": "markdown",
   "metadata": {},
   "source": [
    "## Построение моделей\n",
    "\n",
    "В данном блоке будут выполнены следующие операции:\n",
    "\n",
    "1. Построена функция для вычисления итогового значения `sMAPE` - симметричное среднее абсолютное процентное отклонение.\n",
    "2. Проведено обучение разных моделей и проверено их качество.\n",
    "3. Наилучшая модель проверена на тестовой выборке."
   ]
  },
  {
   "cell_type": "markdown",
   "metadata": {},
   "source": [
    "### Построена функция для вычисления итогового значения sMAPE\n",
    "\n",
    "`sMAPE` (англ. Symmetric Mean Absolute Percentage Error) - симметричное среднее абсолютное процентное отклонение. Она одинаково учитывает масштаб и целевого признака, и предсказания.\n",
    "\n",
    "в формуле используются следующие переменные:\n",
    "\n",
    "`sMAPE` = 1/N*sumNi((|Yi-Y^i|)/((|Yi|+|Y^i|)|2)*100%\n",
    "\n",
    "- Yi - значение целевого признака для объекта с порядковым номером i в выборке, на которой измеряется качество.\n",
    "- Y^i - Значение предсказания для объекта с порядковым номером i, например, в тестовой выборке.\n",
    "- N - Количество объектов в выборке.\n",
    "- sumNi - cуммирование по всем объектам выборки (i меняется от 1 до N).\n",
    "\n",
    "Так как элемент формулы 1/N*sumNi по своей сути вычисляет среднее - используем функцию mean()\n",
    "\n",
    "При этом основной метрикой в данном проекте является `Итоговое sMAPE`\n",
    "\n",
    "Для его определение необходимо рассчитать `sMAPE` для двух процессов:\n",
    "- rougher.output.recovery\n",
    "- final.output.recovery\n",
    "\n",
    "Формула расчета `Итогового sMAPE` равняется:\n",
    "\n",
    "`Итогового sMAPE` = 25%*`sMAPE`(rougher.output.recovery)+75%*`sMAPE`(final.output.recovery)\n",
    "\n",
    "Напишем функцию для определения `Итоговго sMAPE`"
   ]
  },
  {
   "cell_type": "code",
   "execution_count": 19,
   "metadata": {},
   "outputs": [],
   "source": [
    "#функция расчета Итогового sMAPE\n",
    "def sMAPE(y1_ror,y2_ror,y1_for,y2_for):\n",
    "    sMAPEROR = (abs(y1_ror - y2_ror)/((abs(y1_ror)+abs(y2_ror))/2)).mean()*100\n",
    "    sMAPEFOR = (abs(y1_ror - y2_ror)/((abs(y1_ror)+abs(y2_ror))/2)).mean()*100\n",
    "    return 0.25*sMAPEROR+0.75*sMAPEFOR"
   ]
  },
  {
   "cell_type": "markdown",
   "metadata": {},
   "source": [
    "### Проведено обучение разных моделей и проверено их качество\n",
    "\n",
    "В данном разделе будут выполнены следующие операции:\n",
    "- сформированы выборки по основным и целевым признакам;\n",
    "- проведено обучение разных моделей для определения наилучшей модели;\n",
    "- проведено тестирование модели на тестовых данных;\n",
    "- проверена адекватность модели путем сравнения с простой моделью.\n"
   ]
  },
  {
   "cell_type": "code",
   "execution_count": 20,
   "metadata": {},
   "outputs": [],
   "source": [
    "# сформируем датасеты с признаками и целевыми признаками для обучающей выборки\n",
    "# сохраним название признаков необходимых для модели для первой очистки в переменную rougher_list\n",
    "rougher_list = list(data_train)[1:22]\n",
    "final_list = list(data_train)[24:53]\n",
    "\n",
    "data_train_features_1 = data_train[rougher_list]\n",
    "data_train_target_1 = data_train['rougher.output.recovery']\n",
    "data_train_features_2 = data_train[final_list]\n",
    "data_train_target_2 = data_train['final.output.recovery']"
   ]
  },
  {
   "cell_type": "markdown",
   "metadata": {},
   "source": [
    "Модели линейной регрессии очень сильно реагируют на данные, в рамках одного признака, слишком отличающиеся от других - в таком случае модель присваивает более высоким признакам более высокий вес, а это не является корректным. Чтобы избежать данной ловушки нам необходимо \"отмасштабировать\" данные - привести к одному масштабу.\n",
    "\n",
    "Произвести масштабирование данных можно с помощью SatndardScaler()"
   ]
  },
  {
   "cell_type": "code",
   "execution_count": 21,
   "metadata": {},
   "outputs": [],
   "source": [
    "#убираем ошибку от применения StandardScaler\n",
    "pd.options.mode.chained_assignment = None\n",
    "\n",
    "#отмасштабируем данные \n",
    "scaler_1 = StandardScaler()\n",
    "scaler_2 = StandardScaler()\n",
    "\n",
    "scaler_1.fit(data_train_features_1)\n",
    "data_train_features_1 = scaler_1.transform (data_train_features_1)\n",
    "\n",
    "scaler_2.fit(data_train_features_2)\n",
    "data_train_features_2 = scaler_2.transform (data_train_features_2)"
   ]
  },
  {
   "cell_type": "code",
   "execution_count": 22,
   "metadata": {
    "scrolled": true
   },
   "outputs": [
    {
     "name": "stderr",
     "output_type": "stream",
     "text": [
      "100%|██████████| 9/9 [00:13<00:00,  1.47s/it]"
     ]
    },
    {
     "name": "stdout",
     "output_type": "stream",
     "text": [
      "Итоговый sMAPE: 12.692379390404787 при глубине равной: 5\n"
     ]
    },
    {
     "name": "stderr",
     "output_type": "stream",
     "text": [
      "\n"
     ]
    }
   ],
   "source": [
    "# построим модель решающего дерева (dt)\n",
    "b_depth_dt = 0\n",
    "b_result_dt = 1000\n",
    "\n",
    "for depth in tqdm (range (1,10)):\n",
    "    model_dt = DecisionTreeRegressor(random_state=12345, max_depth=depth)\n",
    "    \n",
    "    predicted_1 = cross_val_predict(model_dt, data_train_features_1, data_train_target_1, cv=5)\n",
    "    predicted_2 = cross_val_predict(model_dt, data_train_features_2, data_train_target_2, cv=5)\n",
    "    \n",
    "    result =  sMAPE(data_train_target_1, predicted_1, \n",
    "                        data_train_target_2, predicted_2)\n",
    "    \n",
    "    if result < b_result_dt:\n",
    "        b_result_dt = result\n",
    "        b_depth_dt = depth\n",
    "        \n",
    "print ('Итоговый sMAPE:',b_result_dt,'при глубине равной:', b_depth_dt)"
   ]
  },
  {
   "cell_type": "code",
   "execution_count": 23,
   "metadata": {},
   "outputs": [
    {
     "name": "stderr",
     "output_type": "stream",
     "text": [
      "100%|██████████| 10/10 [32:36<00:00, 195.68s/it]"
     ]
    },
    {
     "name": "stdout",
     "output_type": "stream",
     "text": [
      "Итоговый sMAPE: 12.735829043617313 колличество деревьев равно 91 при глубине равной: 5\n"
     ]
    },
    {
     "name": "stderr",
     "output_type": "stream",
     "text": [
      "\n"
     ]
    }
   ],
   "source": [
    "# построим модель случайного леса (rf)\n",
    "\n",
    "b_result_rf = 1000\n",
    "b_depth_rf = 0\n",
    "b_n_estimators_rf = 0\n",
    "\n",
    "for est in tqdm(range (1,100,10)):\n",
    "    for depth in range (1,10,2):\n",
    "        model_rf = RandomForestRegressor (random_state = 12345, n_estimators = est, max_depth = depth)\n",
    "        \n",
    "        predicted_1 = cross_val_predict(model_rf, data_train_features_1, data_train_target_1, cv=5)\n",
    "        predicted_2 = cross_val_predict(model_rf, data_train_features_2, data_train_target_2, cv=5)\n",
    "        \n",
    "        result =  sMAPE(data_train_target_1, predicted_1, \n",
    "                        data_train_target_2, predicted_2)\n",
    "        \n",
    "        if b_result_rf > result:\n",
    "            b_result_rf = result\n",
    "            b_n_estimators_rf = est\n",
    "            b_depth_rf = depth\n",
    "            \n",
    "print ('Итоговый sMAPE:', b_result_rf, 'колличество деревьев равно', b_n_estimators_rf, 'при глубине равной:',b_depth_rf)"
   ]
  },
  {
   "cell_type": "code",
   "execution_count": 24,
   "metadata": {},
   "outputs": [
    {
     "name": "stdout",
     "output_type": "stream",
     "text": [
      "Итоговый sMAPE: 12.658268706013349\n"
     ]
    }
   ],
   "source": [
    "# построим модель линейной регрессии (lr)\n",
    "model_lr = LinearRegression()\n",
    "    \n",
    "predicted_1 = cross_val_predict(model_lr, data_train_features_1, data_train_target_1, cv=5)\n",
    "predicted_2 = cross_val_predict(model_lr, data_train_features_2, data_train_target_2, cv=5)\n",
    "\n",
    "result =  sMAPE(data_train_target_1, predicted_1, \n",
    "                data_train_target_2, predicted_2)\n",
    "    \n",
    "print ('Итоговый sMAPE:', result)"
   ]
  },
  {
   "cell_type": "markdown",
   "metadata": {},
   "source": [
    "### Финальное тестирование выбранной модели\n",
    "\n",
    "Для тестирования, в первую очередь необходимо к тестовой выборке добавить целевые признаки. Согласно информации целевыми признаками являются:\n",
    "- `rougher.output.recovery`\n",
    "- `final.output.recovery`\n",
    "\n",
    "Данные признаки встречаются в общей популяции."
   ]
  },
  {
   "cell_type": "code",
   "execution_count": 25,
   "metadata": {},
   "outputs": [],
   "source": [
    "# добавим целевые признаки в тестовую выборку - общим параметром в данном случае будет выступать дата\n",
    "# для объединения присвоим индексу значение даты\n",
    "data_test.set_index('date', inplace = True)\n",
    "data_full.set_index('date', inplace = True)"
   ]
  },
  {
   "cell_type": "code",
   "execution_count": 26,
   "metadata": {},
   "outputs": [],
   "source": [
    "#добавим целевые признаки из общей популяции по индексу - дате\n",
    "data_test = data_test.join (data_full['rougher.output.recovery'])\n",
    "data_test = data_test.join (data_full['final.output.recovery'])"
   ]
  },
  {
   "cell_type": "code",
   "execution_count": 27,
   "metadata": {},
   "outputs": [
    {
     "name": "stdout",
     "output_type": "stream",
     "text": [
      "Количество нулевых значений равно:  0\n"
     ]
    }
   ],
   "source": [
    "#удалим пустые значения появившиеся в связи с присоединением датасета\n",
    "data_test = data_test.dropna()\n",
    "print('Количество нулевых значений равно: ', data_test.isna().sum().sum())"
   ]
  },
  {
   "cell_type": "code",
   "execution_count": 28,
   "metadata": {},
   "outputs": [],
   "source": [
    "#разделим популяцию на общие и целевые признаки\n",
    "data_test_features_1 = data_test[rougher_list]\n",
    "data_test_target_1 = data_test['rougher.output.recovery']\n",
    "data_test_features_2 = data_test[final_list]\n",
    "data_test_target_2 = data_test['final.output.recovery']"
   ]
  },
  {
   "cell_type": "code",
   "execution_count": 29,
   "metadata": {},
   "outputs": [],
   "source": [
    "#отмасштабируем тестовые данные \n",
    "data_test_features_1 = scaler_1.transform (data_test_features_1)\n",
    "data_test_features_2 = scaler_2.transform (data_test_features_2)"
   ]
  },
  {
   "cell_type": "code",
   "execution_count": 30,
   "metadata": {},
   "outputs": [
    {
     "name": "stdout",
     "output_type": "stream",
     "text": [
      "9.887850540356506\n"
     ]
    }
   ],
   "source": [
    "#проведем проверку модели линейной регрессии\n",
    "model_test = LinearRegression()\n",
    "model_test.fit (data_train_features_1, data_train_target_1)\n",
    "predicted_1 = model_test.predict(data_test_features_1)\n",
    "\n",
    "model_test.fit (data_train_features_2, data_train_target_2)\n",
    "predicted_2 = model_test.predict(data_test_features_2)\n",
    "\n",
    "        \n",
    "result =  sMAPE(data_test_target_1, predicted_1, \n",
    "                data_test_target_2, predicted_2)\n",
    "\n",
    "print (result)"
   ]
  },
  {
   "cell_type": "markdown",
   "metadata": {},
   "source": [
    "### Проверка модели на адекватность\n",
    "\n",
    "Для проверки модели на адекватность используем алгоритм - DummyRegressor\n",
    "\n",
    "Модель ,будет считаться адекватной, если ее значения выше \"тривиальной модели\". Тривиальной моделью может быть предсказание случайным, или средним (возможно с группировкой по каким-то признакам), или наиболее частым классом.\n",
    "\n",
    "В данном случае в качестве параметра strategy применим значение - median(медианное)"
   ]
  },
  {
   "cell_type": "code",
   "execution_count": 31,
   "metadata": {},
   "outputs": [
    {
     "name": "stdout",
     "output_type": "stream",
     "text": [
      "Результат DummyRegressor равен 8.9401456408053\n"
     ]
    }
   ],
   "source": [
    "model_dm = DummyRegressor(strategy = 'median')\n",
    "model_dm.fit (data_train_features_1, data_train_target_1)\n",
    "predicted_1 = model_dm.predict(data_test_features_1)\n",
    "\n",
    "model_dm.fit (data_train_features_2, data_train_target_2)\n",
    "predicted_2 = model_dm.predict(data_test_features_2)\n",
    "\n",
    "result =  sMAPE(data_test_target_1, predicted_1, \n",
    "                data_test_target_2, predicted_2)\n",
    "\n",
    "print ('Результат DummyRegressor равен', result)"
   ]
  },
  {
   "cell_type": "markdown",
   "metadata": {},
   "source": [
    "### Вывод по блоку \"Построение моделей\"\n",
    "\n",
    "В рамках данного блока была проведена работа:\n",
    "\n",
    "1. Сформулирована и составлена функция расчета метрики **sMAPE** - симметричное среднее абсолютное процентное отклонение.\n",
    "2. Произведен перебор разных моделей, с целью определения наилучшей.\n",
    "\n",
    "В качестве тестируемых моделей были выбраны:\n",
    "- Модель решающего дерева (DecissionTreeRegressor) - лучший результат **12.69** при значении глубины **5**;\n",
    "- Модель случайного леса (RandomForestRegressor) -  лучший результат **12.73** при значении глубины **5** и количество деревьев **91**;\n",
    "- Модель линейной регрессии (LinearRegressor) - результат **12.66**;\n",
    "\n",
    "Таким образом лучшей моделью стала  - Модель линейной регрессии (LinearRegressor)\n",
    "\n",
    "3. Проведена проверка модели на тестовой выборке, значение предсказаний модели составляет - **9.89**\n",
    "4. Дополнительно модель была проверена на адекватность с помощью DummyRegressor - значение средних предсказаний составляет - **8.94**, таким образом значение моделей отличается на 1."
   ]
  },
  {
   "cell_type": "markdown",
   "metadata": {},
   "source": [
    "## Общий вывод по проекту \n",
    "\n",
    "В данном проекте была проведена следующая работа:\n",
    "\n",
    "1. Блок \"Знакомство с данными и последующая обработка\".\n",
    "\n",
    "В данном блоке были загружены основные библиотеки, которые необходимы для этого проекта.\n",
    "\n",
    "Были загружены данные предоставленные клиентом - 3 датасета, которые содержали в себе следующую информацию:\n",
    "- обучающая выборка;\n",
    "- тестовая выборка;\n",
    "- общая популяция.\n",
    "\n",
    "Популяция разделена на выборки в пропорции 75% к 25%.\n",
    "\n",
    "После проведения первичного анализа было выявлено наличие предпосылок для последующей предобработки, таких как:\n",
    "- некорректный тип данных у признака `date`;\n",
    "- отсутствие ряда признаков в тесововй выборке;\n",
    "- наличие пропусков в данных.\n",
    " \n",
    "Было установлено, что в тесовой выборке отсутствуют некоторые признаки. После анализа было выяснено, что по сравнению с обучающей выборкой в тестовой отсутствуют признаки категорий:\n",
    "- параметры продуктов (**.output**) \n",
    "- расчетные характеристиках продуктов (**.calculation**)\n",
    "\n",
    "Целевыми признаками в проекте являются 2 показателя, в качестве проверки было принято решение проверить расчет параметра `rougher.output.recovery` - расчет показал, что данные посчитаны корректно.\n",
    "\n",
    "В заключении данного блока была выполнена работа по предобработке данных на основе полученных предпосылок.\n",
    "\n",
    "2. Блок \"Анализ данных\"\n",
    "\n",
    "В рамках данного блока были детально проанализированы следующие элементы данных:\n",
    "\n",
    "- изменение концентрации металлов на различных этапах обработки;\n",
    "для трех видов металлов (au,ag,pb) были получены графики в отношении изменения содержания данных металлов на каждом этапе. Так было выявлено, что с каждым этапом концентрация золота в продукте увеличивается, концентрация серебра снижается, а свинца увеличивается в небольшом объеме.\n",
    "\n",
    "Так как основным продуктом является золото, приведем информацию в отношении его концентрации - от этапа сырья, до этапа финальной очистки кратно возрастает концентрация золота с **8.13** до **45.01**.\n",
    "\n",
    "- сравнение размеров гранул исходного сырья;\n",
    "Был проведен анализ распределения гранул между обучающей и тестовой выборкой. Благодаря анализу было установлено, что распределение в выборках равномерно, что говорит о том, что обученная модель сможет адекватно воспринимать данные из тестовой модели.\n",
    "\n",
    "- суммарная концентрация металлов на различных этапах;\n",
    "Были проанализированы данные о суммарной концентрации металлов на каждом этапе очистки, было выявлено, что с каждым этапом очистки концентрация металлов в продукте увеличивается и достигает своих пиков на финальном этапе очистки.\n",
    "\n",
    "3. Блок \"Построение моделей\"\n",
    "Данный блок затрагивает следующие этапы проекта:\n",
    "\n",
    "- построение функции для расчета метрики sMAPE\n",
    "\n",
    "`sMAPE` - симметричное среднее абсолютное процентное отклонение, она одинаково учитывает масштаб и целевого признака, и предсказания. Данный показатель будет использоваться как метрика качества наших моделей.\n",
    "\n",
    "- подбор гипперпараметров для разных моделей и определение наилучшей;\n",
    "\n",
    "Были построены 3 функции, для которых был произведен подбор параметров:\n",
    "- DecisionTreeRegressor (Решающее дерево регрессии) - лучший результат модели: **12.69**\n",
    "- RandomForestRegressor (Случайный лес регрессии) - лучший результат модели: **12.73**\n",
    "- LinearRegression (Линейная регрессия) - лучший результат модели: **12.66**\n",
    "\n",
    "Таким образом была выбрана модель, LinearRegression (Линейная регрессия) - так как значение ошибки меньше всего. \n",
    "\n",
    "- проверка лучшей модели на тестовой выборке \n",
    "\n",
    "На основе проведенного в предыдущем шаге подбора модели была проведена проверка модели на тестовых данных, качество предсказаний составляет - **9.89**. \n",
    "\n",
    "Таким образом модель построена, ошибка в качестве предсказания составляет около 10 единиц."
   ]
  }
 ],
 "metadata": {
  "ExecuteTimeLog": [
   {
    "duration": 958,
    "start_time": "2023-05-10T10:43:10.852Z"
   },
   {
    "duration": 895,
    "start_time": "2023-05-10T10:46:08.269Z"
   },
   {
    "duration": 216,
    "start_time": "2023-05-10T10:50:41.568Z"
   },
   {
    "duration": 3610,
    "start_time": "2023-05-10T10:51:26.808Z"
   },
   {
    "duration": 56,
    "start_time": "2023-05-10T10:51:42.370Z"
   },
   {
    "duration": 21,
    "start_time": "2023-05-10T10:51:48.223Z"
   },
   {
    "duration": 100,
    "start_time": "2023-05-10T10:55:45.343Z"
   },
   {
    "duration": 3,
    "start_time": "2023-05-10T10:56:13.426Z"
   },
   {
    "duration": 13,
    "start_time": "2023-05-10T10:57:20.220Z"
   },
   {
    "duration": 324,
    "start_time": "2023-05-10T10:57:24.839Z"
   },
   {
    "duration": 130,
    "start_time": "2023-05-10T10:58:27.033Z"
   },
   {
    "duration": 126,
    "start_time": "2023-05-10T10:58:45.742Z"
   },
   {
    "duration": 385,
    "start_time": "2023-05-10T10:59:01.031Z"
   },
   {
    "duration": 311,
    "start_time": "2023-05-10T10:59:14.774Z"
   },
   {
    "duration": 140,
    "start_time": "2023-05-10T10:59:26.974Z"
   },
   {
    "duration": 344,
    "start_time": "2023-05-10T10:59:30.018Z"
   },
   {
    "duration": 280,
    "start_time": "2023-05-10T10:59:39.523Z"
   },
   {
    "duration": 321,
    "start_time": "2023-05-10T11:02:13.616Z"
   },
   {
    "duration": 1496,
    "start_time": "2023-05-10T16:43:59.661Z"
   },
   {
    "duration": 2419,
    "start_time": "2023-05-10T16:44:01.159Z"
   },
   {
    "duration": 253,
    "start_time": "2023-05-10T16:46:42.272Z"
   },
   {
    "duration": 217,
    "start_time": "2023-05-10T16:49:07.811Z"
   },
   {
    "duration": 230,
    "start_time": "2023-05-10T16:49:25.612Z"
   },
   {
    "duration": 211,
    "start_time": "2023-05-10T16:50:08.474Z"
   },
   {
    "duration": 202,
    "start_time": "2023-05-10T16:50:25.073Z"
   },
   {
    "duration": 246,
    "start_time": "2023-05-10T16:50:45.171Z"
   },
   {
    "duration": 210,
    "start_time": "2023-05-10T16:51:35.607Z"
   },
   {
    "duration": 215,
    "start_time": "2023-05-10T16:52:10.887Z"
   },
   {
    "duration": 182,
    "start_time": "2023-05-10T16:52:21.626Z"
   },
   {
    "duration": 208,
    "start_time": "2023-05-10T16:52:33.896Z"
   },
   {
    "duration": 205,
    "start_time": "2023-05-10T16:53:20.452Z"
   },
   {
    "duration": 403,
    "start_time": "2023-05-10T16:53:56.885Z"
   },
   {
    "duration": 403,
    "start_time": "2023-05-10T16:54:57.551Z"
   },
   {
    "duration": 348,
    "start_time": "2023-05-10T16:55:12.989Z"
   },
   {
    "duration": 325,
    "start_time": "2023-05-10T16:55:21.882Z"
   },
   {
    "duration": 293,
    "start_time": "2023-05-10T16:55:27.212Z"
   },
   {
    "duration": 302,
    "start_time": "2023-05-10T16:55:37.455Z"
   },
   {
    "duration": 317,
    "start_time": "2023-05-10T16:55:55.581Z"
   },
   {
    "duration": 320,
    "start_time": "2023-05-10T16:56:07.653Z"
   },
   {
    "duration": 352,
    "start_time": "2023-05-10T16:56:30.452Z"
   },
   {
    "duration": 318,
    "start_time": "2023-05-10T16:56:41.769Z"
   },
   {
    "duration": 375,
    "start_time": "2023-05-10T16:58:10.683Z"
   },
   {
    "duration": 327,
    "start_time": "2023-05-10T16:58:19.645Z"
   },
   {
    "duration": 324,
    "start_time": "2023-05-10T16:59:09.871Z"
   },
   {
    "duration": 311,
    "start_time": "2023-05-10T16:59:18.887Z"
   },
   {
    "duration": 312,
    "start_time": "2023-05-10T16:59:27.034Z"
   },
   {
    "duration": 282,
    "start_time": "2023-05-10T17:00:03.877Z"
   },
   {
    "duration": 524,
    "start_time": "2023-05-10T17:00:38.493Z"
   },
   {
    "duration": 60,
    "start_time": "2023-05-10T17:04:44.040Z"
   },
   {
    "duration": 85,
    "start_time": "2023-05-10T17:05:10.202Z"
   },
   {
    "duration": 44,
    "start_time": "2023-05-10T17:05:22.388Z"
   },
   {
    "duration": 125,
    "start_time": "2023-05-10T17:06:41.201Z"
   },
   {
    "duration": 46,
    "start_time": "2023-05-10T17:07:02.990Z"
   },
   {
    "duration": 35,
    "start_time": "2023-05-10T17:08:03.383Z"
   },
   {
    "duration": 4,
    "start_time": "2023-05-10T17:09:52.086Z"
   },
   {
    "duration": 554,
    "start_time": "2023-05-10T17:09:58.287Z"
   },
   {
    "duration": 529,
    "start_time": "2023-05-10T17:10:47.731Z"
   },
   {
    "duration": 545,
    "start_time": "2023-05-10T17:11:05.799Z"
   },
   {
    "duration": 60,
    "start_time": "2023-05-10T17:14:54.996Z"
   },
   {
    "duration": 6,
    "start_time": "2023-05-10T17:48:39.584Z"
   },
   {
    "duration": 8,
    "start_time": "2023-05-10T17:56:50.794Z"
   },
   {
    "duration": 13,
    "start_time": "2023-05-10T17:56:56.971Z"
   },
   {
    "duration": 9,
    "start_time": "2023-05-10T17:57:02.924Z"
   },
   {
    "duration": 8,
    "start_time": "2023-05-10T17:57:15.848Z"
   },
   {
    "duration": 9,
    "start_time": "2023-05-10T17:57:20.416Z"
   },
   {
    "duration": 9,
    "start_time": "2023-05-10T18:13:50.652Z"
   },
   {
    "duration": 4,
    "start_time": "2023-05-10T18:14:07.548Z"
   },
   {
    "duration": 9,
    "start_time": "2023-05-10T18:16:04.365Z"
   },
   {
    "duration": 8,
    "start_time": "2023-05-10T18:16:09.143Z"
   },
   {
    "duration": 10,
    "start_time": "2023-05-10T18:17:52.607Z"
   },
   {
    "duration": 4,
    "start_time": "2023-05-10T18:17:58.660Z"
   },
   {
    "duration": 10,
    "start_time": "2023-05-10T18:20:10.298Z"
   },
   {
    "duration": 2,
    "start_time": "2023-05-10T18:20:41.062Z"
   },
   {
    "duration": 6,
    "start_time": "2023-05-10T18:20:46.708Z"
   },
   {
    "duration": 4,
    "start_time": "2023-05-10T18:21:09.617Z"
   },
   {
    "duration": 9,
    "start_time": "2023-05-10T18:21:41.971Z"
   },
   {
    "duration": 17,
    "start_time": "2023-05-10T18:22:02.253Z"
   },
   {
    "duration": 9,
    "start_time": "2023-05-10T18:24:26.755Z"
   },
   {
    "duration": 11,
    "start_time": "2023-05-10T18:25:04.411Z"
   },
   {
    "duration": 15,
    "start_time": "2023-05-10T18:25:34.123Z"
   },
   {
    "duration": 12,
    "start_time": "2023-05-10T18:26:16.401Z"
   },
   {
    "duration": 10,
    "start_time": "2023-05-10T18:28:04.111Z"
   },
   {
    "duration": 12,
    "start_time": "2023-05-10T18:28:11.690Z"
   },
   {
    "duration": 18,
    "start_time": "2023-05-10T18:29:49.091Z"
   },
   {
    "duration": 4,
    "start_time": "2023-05-10T18:30:29.410Z"
   },
   {
    "duration": 5,
    "start_time": "2023-05-10T18:30:45.431Z"
   },
   {
    "duration": 3,
    "start_time": "2023-05-10T18:30:50.426Z"
   },
   {
    "duration": 1894,
    "start_time": "2023-05-11T09:29:20.806Z"
   },
   {
    "duration": 2285,
    "start_time": "2023-05-11T09:29:22.702Z"
   },
   {
    "duration": 69,
    "start_time": "2023-05-11T09:29:24.989Z"
   },
   {
    "duration": 3,
    "start_time": "2023-05-11T09:29:25.059Z"
   },
   {
    "duration": 9,
    "start_time": "2023-05-11T09:29:29.193Z"
   },
   {
    "duration": 7,
    "start_time": "2023-05-11T09:37:29.799Z"
   },
   {
    "duration": 101,
    "start_time": "2023-05-11T09:38:08.568Z"
   },
   {
    "duration": 9,
    "start_time": "2023-05-11T09:40:21.349Z"
   },
   {
    "duration": 8,
    "start_time": "2023-05-11T09:40:53.566Z"
   },
   {
    "duration": 1349,
    "start_time": "2023-05-11T10:43:55.786Z"
   },
   {
    "duration": 630,
    "start_time": "2023-05-11T10:43:57.137Z"
   },
   {
    "duration": 60,
    "start_time": "2023-05-11T10:43:57.769Z"
   },
   {
    "duration": 7,
    "start_time": "2023-05-11T10:43:57.831Z"
   },
   {
    "duration": 1234,
    "start_time": "2023-05-11T10:57:58.750Z"
   },
   {
    "duration": 673,
    "start_time": "2023-05-11T10:57:59.986Z"
   },
   {
    "duration": 92,
    "start_time": "2023-05-11T10:58:00.661Z"
   },
   {
    "duration": 11,
    "start_time": "2023-05-11T10:58:00.756Z"
   },
   {
    "duration": 1376,
    "start_time": "2023-05-11T16:28:22.758Z"
   },
   {
    "duration": 2726,
    "start_time": "2023-05-11T16:28:24.136Z"
   },
   {
    "duration": 88,
    "start_time": "2023-05-11T16:28:26.864Z"
   },
   {
    "duration": 12,
    "start_time": "2023-05-11T16:28:26.956Z"
   },
   {
    "duration": 11,
    "start_time": "2023-05-11T16:30:32.600Z"
   },
   {
    "duration": 35,
    "start_time": "2023-05-11T16:30:47.889Z"
   },
   {
    "duration": 99,
    "start_time": "2023-05-11T16:30:58.294Z"
   },
   {
    "duration": 1266,
    "start_time": "2023-05-11T16:31:10.157Z"
   },
   {
    "duration": 70,
    "start_time": "2023-05-11T16:31:42.685Z"
   },
   {
    "duration": 37,
    "start_time": "2023-05-11T16:31:47.288Z"
   },
   {
    "duration": 8,
    "start_time": "2023-05-11T16:32:03.509Z"
   },
   {
    "duration": 39,
    "start_time": "2023-05-11T16:32:11.790Z"
   },
   {
    "duration": 9,
    "start_time": "2023-05-11T16:32:29.991Z"
   },
   {
    "duration": 94,
    "start_time": "2023-05-11T16:32:42.613Z"
   },
   {
    "duration": 6,
    "start_time": "2023-05-11T16:32:46.213Z"
   },
   {
    "duration": 1180,
    "start_time": "2023-05-11T16:32:53.234Z"
   },
   {
    "duration": 10,
    "start_time": "2023-05-11T16:33:05.937Z"
   },
   {
    "duration": 11,
    "start_time": "2023-05-11T16:34:12.102Z"
   },
   {
    "duration": 102,
    "start_time": "2023-05-11T16:34:37.009Z"
   },
   {
    "duration": 11,
    "start_time": "2023-05-11T16:34:41.232Z"
   },
   {
    "duration": 11,
    "start_time": "2023-05-11T16:35:01.042Z"
   },
   {
    "duration": 104,
    "start_time": "2023-05-11T16:46:09.946Z"
   },
   {
    "duration": 79,
    "start_time": "2023-05-11T16:46:24.083Z"
   },
   {
    "duration": 95,
    "start_time": "2023-05-11T16:46:36.145Z"
   },
   {
    "duration": 90,
    "start_time": "2023-05-11T16:46:47.983Z"
   },
   {
    "duration": 97,
    "start_time": "2023-05-11T16:47:36.718Z"
   },
   {
    "duration": 69,
    "start_time": "2023-05-11T16:47:48.440Z"
   },
   {
    "duration": 75,
    "start_time": "2023-05-11T16:48:11.091Z"
   },
   {
    "duration": 263,
    "start_time": "2023-05-11T16:48:46.298Z"
   },
   {
    "duration": 86,
    "start_time": "2023-05-11T16:48:53.749Z"
   },
   {
    "duration": 80,
    "start_time": "2023-05-11T16:49:14.747Z"
   },
   {
    "duration": 113,
    "start_time": "2023-05-11T16:53:31.341Z"
   },
   {
    "duration": 76,
    "start_time": "2023-05-11T16:53:41.324Z"
   },
   {
    "duration": 5,
    "start_time": "2023-05-11T16:56:48.286Z"
   },
   {
    "duration": 9,
    "start_time": "2023-05-11T17:00:03.552Z"
   },
   {
    "duration": 17,
    "start_time": "2023-05-11T17:00:13.790Z"
   },
   {
    "duration": 24,
    "start_time": "2023-05-11T17:00:22.583Z"
   },
   {
    "duration": 81,
    "start_time": "2023-05-11T17:01:42.009Z"
   },
   {
    "duration": 1419,
    "start_time": "2023-05-11T17:02:01.132Z"
   },
   {
    "duration": 102,
    "start_time": "2023-05-11T17:02:17.852Z"
   },
   {
    "duration": 118,
    "start_time": "2023-05-11T17:02:31.232Z"
   },
   {
    "duration": 97,
    "start_time": "2023-05-11T17:02:49.662Z"
   },
   {
    "duration": 11,
    "start_time": "2023-05-11T17:02:59.561Z"
   },
   {
    "duration": 7,
    "start_time": "2023-05-11T17:03:07.761Z"
   },
   {
    "duration": 17,
    "start_time": "2023-05-11T17:03:14.497Z"
   },
   {
    "duration": 13,
    "start_time": "2023-05-11T17:03:37.080Z"
   },
   {
    "duration": 7,
    "start_time": "2023-05-11T17:03:44.973Z"
   },
   {
    "duration": 7,
    "start_time": "2023-05-11T17:04:12.258Z"
   },
   {
    "duration": 16,
    "start_time": "2023-05-11T17:04:26.277Z"
   },
   {
    "duration": 24,
    "start_time": "2023-05-11T17:04:35.455Z"
   },
   {
    "duration": 22,
    "start_time": "2023-05-11T17:04:54.773Z"
   },
   {
    "duration": 14,
    "start_time": "2023-05-11T17:05:10.165Z"
   },
   {
    "duration": 14,
    "start_time": "2023-05-11T17:05:20.752Z"
   },
   {
    "duration": 8,
    "start_time": "2023-05-11T17:05:27.655Z"
   },
   {
    "duration": 14,
    "start_time": "2023-05-11T17:05:44.628Z"
   },
   {
    "duration": 103,
    "start_time": "2023-05-11T17:06:47.648Z"
   },
   {
    "duration": 20,
    "start_time": "2023-05-11T17:06:54.603Z"
   },
   {
    "duration": 12,
    "start_time": "2023-05-11T17:07:04.185Z"
   },
   {
    "duration": 16,
    "start_time": "2023-05-11T17:07:19.314Z"
   },
   {
    "duration": 93,
    "start_time": "2023-05-11T17:08:22.375Z"
   },
   {
    "duration": 15,
    "start_time": "2023-05-11T17:08:28.140Z"
   },
   {
    "duration": 19,
    "start_time": "2023-05-11T17:08:39.168Z"
   },
   {
    "duration": 20,
    "start_time": "2023-05-11T17:08:49.211Z"
   },
   {
    "duration": 20,
    "start_time": "2023-05-11T17:08:58.756Z"
   },
   {
    "duration": 21,
    "start_time": "2023-05-11T17:09:19.651Z"
   },
   {
    "duration": 1484,
    "start_time": "2023-05-11T17:09:27.581Z"
   },
   {
    "duration": 817,
    "start_time": "2023-05-11T17:09:29.066Z"
   },
   {
    "duration": 108,
    "start_time": "2023-05-11T17:09:29.885Z"
   },
   {
    "duration": 7,
    "start_time": "2023-05-11T17:09:29.996Z"
   },
   {
    "duration": 51,
    "start_time": "2023-05-11T17:09:30.005Z"
   },
   {
    "duration": 61,
    "start_time": "2023-05-11T17:09:30.063Z"
   },
   {
    "duration": 21,
    "start_time": "2023-05-11T17:09:48.077Z"
   },
   {
    "duration": 24,
    "start_time": "2023-05-11T17:12:20.552Z"
   },
   {
    "duration": 128,
    "start_time": "2023-05-11T17:38:30.384Z"
   },
   {
    "duration": 1392,
    "start_time": "2023-05-11T17:38:43.907Z"
   },
   {
    "duration": 1280,
    "start_time": "2023-05-11T17:42:16.117Z"
   },
   {
    "duration": 6,
    "start_time": "2023-05-11T17:42:55.293Z"
   },
   {
    "duration": 16,
    "start_time": "2023-05-11T17:43:09.223Z"
   },
   {
    "duration": 13,
    "start_time": "2023-05-11T17:43:19.488Z"
   },
   {
    "duration": 19,
    "start_time": "2023-05-11T17:43:55.825Z"
   },
   {
    "duration": 1349,
    "start_time": "2023-05-11T17:44:02.939Z"
   },
   {
    "duration": 789,
    "start_time": "2023-05-11T17:44:04.291Z"
   },
   {
    "duration": 87,
    "start_time": "2023-05-11T17:44:05.082Z"
   },
   {
    "duration": 9,
    "start_time": "2023-05-11T17:44:05.170Z"
   },
   {
    "duration": 40,
    "start_time": "2023-05-11T17:44:05.181Z"
   },
   {
    "duration": 21,
    "start_time": "2023-05-11T17:44:05.224Z"
   },
   {
    "duration": 18,
    "start_time": "2023-05-11T17:44:05.247Z"
   },
   {
    "duration": 109,
    "start_time": "2023-05-11T17:44:18.014Z"
   },
   {
    "duration": 1393,
    "start_time": "2023-05-11T17:44:25.344Z"
   },
   {
    "duration": 743,
    "start_time": "2023-05-11T17:44:26.739Z"
   },
   {
    "duration": 90,
    "start_time": "2023-05-11T17:44:27.483Z"
   },
   {
    "duration": 8,
    "start_time": "2023-05-11T17:44:27.574Z"
   },
   {
    "duration": 22,
    "start_time": "2023-05-11T17:44:27.585Z"
   },
   {
    "duration": 33,
    "start_time": "2023-05-11T17:44:27.608Z"
   },
   {
    "duration": 122,
    "start_time": "2023-05-11T17:44:27.642Z"
   },
   {
    "duration": 21,
    "start_time": "2023-05-11T17:44:43.604Z"
   },
   {
    "duration": 1235,
    "start_time": "2023-05-11T17:44:51.142Z"
   },
   {
    "duration": 794,
    "start_time": "2023-05-11T17:44:52.378Z"
   },
   {
    "duration": 73,
    "start_time": "2023-05-11T17:44:53.174Z"
   },
   {
    "duration": 7,
    "start_time": "2023-05-11T17:44:53.249Z"
   },
   {
    "duration": 19,
    "start_time": "2023-05-11T17:44:53.258Z"
   },
   {
    "duration": 39,
    "start_time": "2023-05-11T17:44:53.279Z"
   },
   {
    "duration": 14,
    "start_time": "2023-05-11T17:44:53.320Z"
   },
   {
    "duration": 119,
    "start_time": "2023-05-11T17:45:03.321Z"
   },
   {
    "duration": 1401,
    "start_time": "2023-05-11T17:45:23.850Z"
   },
   {
    "duration": 788,
    "start_time": "2023-05-11T17:45:25.253Z"
   },
   {
    "duration": 84,
    "start_time": "2023-05-11T17:45:26.043Z"
   },
   {
    "duration": 7,
    "start_time": "2023-05-11T17:45:26.130Z"
   },
   {
    "duration": 6,
    "start_time": "2023-05-11T17:45:26.139Z"
   },
   {
    "duration": 24,
    "start_time": "2023-05-11T17:45:26.147Z"
   },
   {
    "duration": 41,
    "start_time": "2023-05-11T17:45:26.173Z"
   },
   {
    "duration": 9,
    "start_time": "2023-05-11T17:46:46.004Z"
   },
   {
    "duration": 93,
    "start_time": "2023-05-11T17:47:10.321Z"
   },
   {
    "duration": 6,
    "start_time": "2023-05-11T17:47:15.898Z"
   },
   {
    "duration": 9,
    "start_time": "2023-05-11T17:47:23.516Z"
   },
   {
    "duration": 1297,
    "start_time": "2023-05-11T17:47:36.304Z"
   },
   {
    "duration": 695,
    "start_time": "2023-05-11T17:47:37.602Z"
   },
   {
    "duration": 74,
    "start_time": "2023-05-11T17:47:38.299Z"
   },
   {
    "duration": 7,
    "start_time": "2023-05-11T17:47:38.375Z"
   },
   {
    "duration": 33,
    "start_time": "2023-05-11T17:47:38.383Z"
   },
   {
    "duration": 21,
    "start_time": "2023-05-11T17:47:38.418Z"
   },
   {
    "duration": 19,
    "start_time": "2023-05-11T17:47:38.441Z"
   },
   {
    "duration": 6,
    "start_time": "2023-05-11T17:47:38.462Z"
   },
   {
    "duration": 9,
    "start_time": "2023-05-11T17:48:10.077Z"
   },
   {
    "duration": 13,
    "start_time": "2023-05-11T17:49:53.869Z"
   },
   {
    "duration": 4,
    "start_time": "2023-05-11T17:51:08.492Z"
   },
   {
    "duration": 124,
    "start_time": "2023-05-11T17:51:23.397Z"
   },
   {
    "duration": 41,
    "start_time": "2023-05-11T17:51:38.854Z"
   },
   {
    "duration": 21,
    "start_time": "2023-05-11T17:51:58.222Z"
   },
   {
    "duration": 39,
    "start_time": "2023-05-11T18:07:11.535Z"
   },
   {
    "duration": 23,
    "start_time": "2023-05-11T18:07:37.822Z"
   },
   {
    "duration": 29,
    "start_time": "2023-05-11T18:08:35.806Z"
   },
   {
    "duration": 59,
    "start_time": "2023-05-11T18:09:00.070Z"
   },
   {
    "duration": 55,
    "start_time": "2023-05-11T18:09:12.767Z"
   },
   {
    "duration": 36,
    "start_time": "2023-05-11T18:09:34.372Z"
   },
   {
    "duration": 21,
    "start_time": "2023-05-11T18:09:55.214Z"
   },
   {
    "duration": 27,
    "start_time": "2023-05-11T18:10:04.098Z"
   },
   {
    "duration": 22,
    "start_time": "2023-05-11T18:10:07.414Z"
   },
   {
    "duration": 22,
    "start_time": "2023-05-11T18:10:13.609Z"
   },
   {
    "duration": 33,
    "start_time": "2023-05-11T18:10:17.000Z"
   },
   {
    "duration": 43,
    "start_time": "2023-05-11T18:10:20.068Z"
   },
   {
    "duration": 19,
    "start_time": "2023-05-11T18:11:06.688Z"
   },
   {
    "duration": 27,
    "start_time": "2023-05-11T18:11:46.728Z"
   },
   {
    "duration": 31,
    "start_time": "2023-05-11T18:12:04.687Z"
   },
   {
    "duration": 25,
    "start_time": "2023-05-11T18:12:31.293Z"
   },
   {
    "duration": 70,
    "start_time": "2023-05-11T18:13:00.546Z"
   },
   {
    "duration": 24,
    "start_time": "2023-05-11T18:13:11.028Z"
   },
   {
    "duration": 22,
    "start_time": "2023-05-11T18:13:49.223Z"
   },
   {
    "duration": 76,
    "start_time": "2023-05-11T18:18:28.428Z"
   },
   {
    "duration": 20,
    "start_time": "2023-05-11T18:18:35.661Z"
   },
   {
    "duration": 14,
    "start_time": "2023-05-11T18:19:03.984Z"
   },
   {
    "duration": 17,
    "start_time": "2023-05-11T18:19:09.637Z"
   },
   {
    "duration": 1862,
    "start_time": "2023-05-11T18:19:33.439Z"
   },
   {
    "duration": 673,
    "start_time": "2023-05-11T18:19:35.303Z"
   },
   {
    "duration": 71,
    "start_time": "2023-05-11T18:19:35.978Z"
   },
   {
    "duration": 7,
    "start_time": "2023-05-11T18:19:36.052Z"
   },
   {
    "duration": 25,
    "start_time": "2023-05-11T18:19:36.060Z"
   },
   {
    "duration": 33,
    "start_time": "2023-05-11T18:19:36.087Z"
   },
   {
    "duration": 21,
    "start_time": "2023-05-11T18:19:36.122Z"
   },
   {
    "duration": 31,
    "start_time": "2023-05-11T18:19:36.144Z"
   },
   {
    "duration": 41,
    "start_time": "2023-05-11T18:19:36.176Z"
   },
   {
    "duration": 48,
    "start_time": "2023-05-11T18:19:36.219Z"
   },
   {
    "duration": 8,
    "start_time": "2023-05-11T18:20:33.642Z"
   },
   {
    "duration": 7,
    "start_time": "2023-05-11T18:20:53.786Z"
   },
   {
    "duration": 16,
    "start_time": "2023-05-11T18:22:25.700Z"
   },
   {
    "duration": 21,
    "start_time": "2023-05-11T18:22:45.682Z"
   },
   {
    "duration": 15,
    "start_time": "2023-05-11T18:22:49.921Z"
   },
   {
    "duration": 13,
    "start_time": "2023-05-11T18:22:54.256Z"
   },
   {
    "duration": 14,
    "start_time": "2023-05-11T18:22:57.545Z"
   },
   {
    "duration": 1236,
    "start_time": "2023-05-11T18:23:10.761Z"
   },
   {
    "duration": 790,
    "start_time": "2023-05-11T18:23:11.998Z"
   },
   {
    "duration": 72,
    "start_time": "2023-05-11T18:23:12.790Z"
   },
   {
    "duration": 8,
    "start_time": "2023-05-11T18:23:12.864Z"
   },
   {
    "duration": 3,
    "start_time": "2023-05-11T18:23:12.875Z"
   },
   {
    "duration": 48,
    "start_time": "2023-05-11T18:23:12.880Z"
   },
   {
    "duration": 26,
    "start_time": "2023-05-11T18:23:12.930Z"
   },
   {
    "duration": 8,
    "start_time": "2023-05-11T18:23:12.958Z"
   },
   {
    "duration": 19,
    "start_time": "2023-05-11T18:23:12.968Z"
   },
   {
    "duration": 47,
    "start_time": "2023-05-11T18:23:12.989Z"
   },
   {
    "duration": 16,
    "start_time": "2023-05-11T18:23:34.385Z"
   },
   {
    "duration": 115,
    "start_time": "2023-05-11T18:24:53.683Z"
   },
   {
    "duration": 7,
    "start_time": "2023-05-11T18:24:59.262Z"
   },
   {
    "duration": 7,
    "start_time": "2023-05-11T18:25:11.534Z"
   },
   {
    "duration": 20,
    "start_time": "2023-05-11T18:25:30.625Z"
   },
   {
    "duration": 3,
    "start_time": "2023-05-11T18:32:54.885Z"
   },
   {
    "duration": 1675,
    "start_time": "2023-05-13T07:45:01.660Z"
   },
   {
    "duration": 3020,
    "start_time": "2023-05-13T07:45:03.338Z"
   },
   {
    "duration": 82,
    "start_time": "2023-05-13T07:45:06.360Z"
   },
   {
    "duration": 8,
    "start_time": "2023-05-13T07:45:06.444Z"
   },
   {
    "duration": 37,
    "start_time": "2023-05-13T07:45:06.455Z"
   },
   {
    "duration": 22,
    "start_time": "2023-05-13T07:45:06.493Z"
   },
   {
    "duration": 25,
    "start_time": "2023-05-13T07:45:06.517Z"
   },
   {
    "duration": 30,
    "start_time": "2023-05-13T07:45:06.544Z"
   },
   {
    "duration": 20,
    "start_time": "2023-05-13T07:45:06.576Z"
   },
   {
    "duration": 45,
    "start_time": "2023-05-13T07:45:06.597Z"
   },
   {
    "duration": 46,
    "start_time": "2023-05-13T07:45:06.644Z"
   },
   {
    "duration": 21,
    "start_time": "2023-05-13T07:46:55.007Z"
   },
   {
    "duration": 32,
    "start_time": "2023-05-13T07:47:31.670Z"
   },
   {
    "duration": 25,
    "start_time": "2023-05-13T07:47:47.043Z"
   },
   {
    "duration": 19,
    "start_time": "2023-05-13T07:48:06.675Z"
   },
   {
    "duration": 8,
    "start_time": "2023-05-13T07:48:10.623Z"
   },
   {
    "duration": 18,
    "start_time": "2023-05-13T07:48:27.547Z"
   },
   {
    "duration": 28,
    "start_time": "2023-05-13T07:50:16.858Z"
   },
   {
    "duration": 640,
    "start_time": "2023-05-13T07:51:13.071Z"
   },
   {
    "duration": 69,
    "start_time": "2023-05-13T07:51:53.039Z"
   },
   {
    "duration": 121,
    "start_time": "2023-05-13T07:54:29.254Z"
   },
   {
    "duration": 18,
    "start_time": "2023-05-13T07:54:40.088Z"
   },
   {
    "duration": 10,
    "start_time": "2023-05-13T07:55:35.763Z"
   },
   {
    "duration": 10,
    "start_time": "2023-05-13T07:55:59.631Z"
   },
   {
    "duration": 6,
    "start_time": "2023-05-13T07:56:12.668Z"
   },
   {
    "duration": 6,
    "start_time": "2023-05-13T07:56:22.827Z"
   },
   {
    "duration": 11,
    "start_time": "2023-05-13T07:56:26.615Z"
   },
   {
    "duration": 30,
    "start_time": "2023-05-13T07:56:30.139Z"
   },
   {
    "duration": 10,
    "start_time": "2023-05-13T07:57:08.935Z"
   },
   {
    "duration": 13,
    "start_time": "2023-05-13T07:57:13.419Z"
   },
   {
    "duration": 36,
    "start_time": "2023-05-13T07:57:17.717Z"
   },
   {
    "duration": 50,
    "start_time": "2023-05-13T07:58:48.475Z"
   },
   {
    "duration": 33,
    "start_time": "2023-05-13T07:58:59.615Z"
   },
   {
    "duration": 1512,
    "start_time": "2023-05-13T07:59:10.907Z"
   },
   {
    "duration": 789,
    "start_time": "2023-05-13T07:59:12.421Z"
   },
   {
    "duration": 99,
    "start_time": "2023-05-13T07:59:13.212Z"
   },
   {
    "duration": 9,
    "start_time": "2023-05-13T07:59:13.313Z"
   },
   {
    "duration": 5,
    "start_time": "2023-05-13T07:59:13.325Z"
   },
   {
    "duration": 10,
    "start_time": "2023-05-13T07:59:13.331Z"
   },
   {
    "duration": 48,
    "start_time": "2023-05-13T07:59:13.342Z"
   },
   {
    "duration": 31,
    "start_time": "2023-05-13T07:59:13.395Z"
   },
   {
    "duration": 7,
    "start_time": "2023-05-13T07:59:13.428Z"
   },
   {
    "duration": 44,
    "start_time": "2023-05-13T07:59:13.437Z"
   },
   {
    "duration": 41,
    "start_time": "2023-05-13T07:59:13.488Z"
   },
   {
    "duration": 49,
    "start_time": "2023-05-13T07:59:13.531Z"
   },
   {
    "duration": 48,
    "start_time": "2023-05-13T07:59:27.760Z"
   },
   {
    "duration": 36,
    "start_time": "2023-05-13T07:59:51.199Z"
   },
   {
    "duration": 37,
    "start_time": "2023-05-13T08:00:03.594Z"
   },
   {
    "duration": 1446,
    "start_time": "2023-05-13T08:02:13.017Z"
   },
   {
    "duration": 770,
    "start_time": "2023-05-13T08:02:14.466Z"
   },
   {
    "duration": 101,
    "start_time": "2023-05-13T08:02:15.238Z"
   },
   {
    "duration": 8,
    "start_time": "2023-05-13T08:02:15.341Z"
   },
   {
    "duration": 24,
    "start_time": "2023-05-13T08:02:15.351Z"
   },
   {
    "duration": 27,
    "start_time": "2023-05-13T08:02:15.378Z"
   },
   {
    "duration": 22,
    "start_time": "2023-05-13T08:02:15.407Z"
   },
   {
    "duration": 35,
    "start_time": "2023-05-13T08:02:15.430Z"
   },
   {
    "duration": 21,
    "start_time": "2023-05-13T08:02:15.467Z"
   },
   {
    "duration": 53,
    "start_time": "2023-05-13T08:02:15.491Z"
   },
   {
    "duration": 55,
    "start_time": "2023-05-13T08:02:15.546Z"
   },
   {
    "duration": 52,
    "start_time": "2023-05-13T08:02:15.604Z"
   },
   {
    "duration": 36,
    "start_time": "2023-05-13T08:02:31.305Z"
   },
   {
    "duration": 329,
    "start_time": "2023-05-13T08:12:11.623Z"
   },
   {
    "duration": 486,
    "start_time": "2023-05-13T08:12:56.804Z"
   },
   {
    "duration": 107,
    "start_time": "2023-05-13T08:14:31.450Z"
   },
   {
    "duration": 17,
    "start_time": "2023-05-13T08:14:35.899Z"
   },
   {
    "duration": 9,
    "start_time": "2023-05-13T08:14:46.093Z"
   },
   {
    "duration": 10,
    "start_time": "2023-05-13T08:15:39.030Z"
   },
   {
    "duration": 8,
    "start_time": "2023-05-13T08:19:06.769Z"
   },
   {
    "duration": 327,
    "start_time": "2023-05-13T08:19:20.032Z"
   },
   {
    "duration": 236,
    "start_time": "2023-05-13T08:19:34.312Z"
   },
   {
    "duration": 12,
    "start_time": "2023-05-13T08:24:47.591Z"
   },
   {
    "duration": 310,
    "start_time": "2023-05-13T08:24:55.603Z"
   },
   {
    "duration": 1436,
    "start_time": "2023-05-13T08:25:07.587Z"
   },
   {
    "duration": 170,
    "start_time": "2023-05-13T08:26:46.984Z"
   },
   {
    "duration": 12,
    "start_time": "2023-05-13T08:27:24.731Z"
   },
   {
    "duration": 75,
    "start_time": "2023-05-13T08:27:36.845Z"
   },
   {
    "duration": 20,
    "start_time": "2023-05-13T08:27:42.316Z"
   },
   {
    "duration": 13,
    "start_time": "2023-05-13T08:27:47.115Z"
   },
   {
    "duration": 11,
    "start_time": "2023-05-13T08:28:05.497Z"
   },
   {
    "duration": 7,
    "start_time": "2023-05-13T08:28:17.686Z"
   },
   {
    "duration": 5,
    "start_time": "2023-05-13T08:28:21.571Z"
   },
   {
    "duration": 20,
    "start_time": "2023-05-13T08:28:26.583Z"
   },
   {
    "duration": 147,
    "start_time": "2023-05-13T08:30:48.113Z"
   },
   {
    "duration": 189,
    "start_time": "2023-05-13T08:31:23.894Z"
   },
   {
    "duration": 270,
    "start_time": "2023-05-13T08:31:29.567Z"
   },
   {
    "duration": 141,
    "start_time": "2023-05-13T08:32:03.960Z"
   },
   {
    "duration": 151,
    "start_time": "2023-05-13T08:32:10.832Z"
   },
   {
    "duration": 150,
    "start_time": "2023-05-13T08:32:39.306Z"
   },
   {
    "duration": 30,
    "start_time": "2023-05-13T08:34:19.437Z"
   },
   {
    "duration": 73,
    "start_time": "2023-05-13T08:35:20.878Z"
   },
   {
    "duration": 19,
    "start_time": "2023-05-13T08:35:26.772Z"
   },
   {
    "duration": 20,
    "start_time": "2023-05-13T08:35:49.707Z"
   },
   {
    "duration": 608,
    "start_time": "2023-05-13T08:36:02.633Z"
   },
   {
    "duration": 227,
    "start_time": "2023-05-13T08:36:26.841Z"
   },
   {
    "duration": 25,
    "start_time": "2023-05-13T08:42:10.278Z"
   },
   {
    "duration": 28,
    "start_time": "2023-05-13T08:42:46.652Z"
   },
   {
    "duration": 14,
    "start_time": "2023-05-13T08:44:28.770Z"
   },
   {
    "duration": 13,
    "start_time": "2023-05-13T08:46:21.702Z"
   },
   {
    "duration": 16,
    "start_time": "2023-05-13T08:46:27.091Z"
   },
   {
    "duration": 18,
    "start_time": "2023-05-13T08:47:09.052Z"
   },
   {
    "duration": 103,
    "start_time": "2023-05-13T08:48:30.839Z"
   },
   {
    "duration": 74,
    "start_time": "2023-05-13T08:48:35.562Z"
   },
   {
    "duration": 227,
    "start_time": "2023-05-13T08:48:40.847Z"
   },
   {
    "duration": 261,
    "start_time": "2023-05-13T08:50:17.384Z"
   },
   {
    "duration": 238,
    "start_time": "2023-05-13T08:51:08.633Z"
   },
   {
    "duration": 236,
    "start_time": "2023-05-13T08:52:06.283Z"
   },
   {
    "duration": 291,
    "start_time": "2023-05-13T08:52:13.864Z"
   },
   {
    "duration": 36,
    "start_time": "2023-05-13T08:55:54.063Z"
   },
   {
    "duration": 426,
    "start_time": "2023-05-13T08:56:34.275Z"
   },
   {
    "duration": 546,
    "start_time": "2023-05-13T08:56:48.114Z"
   },
   {
    "duration": 8,
    "start_time": "2023-05-13T09:19:33.575Z"
   },
   {
    "duration": 9,
    "start_time": "2023-05-13T09:20:03.765Z"
   },
   {
    "duration": 14,
    "start_time": "2023-05-13T09:22:15.255Z"
   },
   {
    "duration": 75,
    "start_time": "2023-05-13T09:23:52.015Z"
   },
   {
    "duration": 13,
    "start_time": "2023-05-13T09:23:59.533Z"
   },
   {
    "duration": 9,
    "start_time": "2023-05-13T09:24:13.023Z"
   },
   {
    "duration": 1148,
    "start_time": "2023-05-13T09:28:57.961Z"
   },
   {
    "duration": 1207,
    "start_time": "2023-05-13T09:29:07.879Z"
   },
   {
    "duration": 7,
    "start_time": "2023-05-13T09:29:48.053Z"
   },
   {
    "duration": 9,
    "start_time": "2023-05-13T09:31:05.991Z"
   },
   {
    "duration": 1486,
    "start_time": "2023-05-13T09:33:34.382Z"
   },
   {
    "duration": 703,
    "start_time": "2023-05-13T09:33:35.871Z"
   },
   {
    "duration": 83,
    "start_time": "2023-05-13T09:33:36.580Z"
   },
   {
    "duration": 18,
    "start_time": "2023-05-13T09:33:36.665Z"
   },
   {
    "duration": 5,
    "start_time": "2023-05-13T09:33:36.685Z"
   },
   {
    "duration": 16,
    "start_time": "2023-05-13T09:33:36.693Z"
   },
   {
    "duration": 20,
    "start_time": "2023-05-13T09:33:36.711Z"
   },
   {
    "duration": 65,
    "start_time": "2023-05-13T09:33:36.733Z"
   },
   {
    "duration": 8,
    "start_time": "2023-05-13T09:33:36.800Z"
   },
   {
    "duration": 26,
    "start_time": "2023-05-13T09:33:36.810Z"
   },
   {
    "duration": 56,
    "start_time": "2023-05-13T09:33:36.837Z"
   },
   {
    "duration": 8,
    "start_time": "2023-05-13T09:33:36.895Z"
   },
   {
    "duration": 544,
    "start_time": "2023-05-13T09:33:36.905Z"
   },
   {
    "duration": 8,
    "start_time": "2023-05-13T09:34:55.341Z"
   },
   {
    "duration": 21,
    "start_time": "2023-05-13T09:36:05.484Z"
   },
   {
    "duration": 17,
    "start_time": "2023-05-13T09:36:18.870Z"
   },
   {
    "duration": 1558,
    "start_time": "2023-05-13T09:37:09.266Z"
   },
   {
    "duration": 832,
    "start_time": "2023-05-13T09:37:10.827Z"
   },
   {
    "duration": 88,
    "start_time": "2023-05-13T09:37:11.661Z"
   },
   {
    "duration": 9,
    "start_time": "2023-05-13T09:37:11.752Z"
   },
   {
    "duration": 5,
    "start_time": "2023-05-13T09:37:11.779Z"
   },
   {
    "duration": 12,
    "start_time": "2023-05-13T09:37:11.786Z"
   },
   {
    "duration": 22,
    "start_time": "2023-05-13T09:37:11.800Z"
   },
   {
    "duration": 85,
    "start_time": "2023-05-13T09:37:11.825Z"
   },
   {
    "duration": 13,
    "start_time": "2023-05-13T09:37:11.913Z"
   },
   {
    "duration": 22,
    "start_time": "2023-05-13T09:37:11.928Z"
   },
   {
    "duration": 50,
    "start_time": "2023-05-13T09:37:11.952Z"
   },
   {
    "duration": 22,
    "start_time": "2023-05-13T09:37:12.003Z"
   },
   {
    "duration": 3,
    "start_time": "2023-05-13T09:37:12.028Z"
   },
   {
    "duration": 1580,
    "start_time": "2023-05-13T09:37:46.097Z"
   },
   {
    "duration": 945,
    "start_time": "2023-05-13T09:37:47.680Z"
   },
   {
    "duration": 110,
    "start_time": "2023-05-13T09:37:48.627Z"
   },
   {
    "duration": 9,
    "start_time": "2023-05-13T09:37:48.740Z"
   },
   {
    "duration": 5,
    "start_time": "2023-05-13T09:37:48.751Z"
   },
   {
    "duration": 13,
    "start_time": "2023-05-13T09:37:48.778Z"
   },
   {
    "duration": 24,
    "start_time": "2023-05-13T09:37:48.792Z"
   },
   {
    "duration": 69,
    "start_time": "2023-05-13T09:37:48.818Z"
   },
   {
    "duration": 10,
    "start_time": "2023-05-13T09:37:48.889Z"
   },
   {
    "duration": 33,
    "start_time": "2023-05-13T09:37:48.902Z"
   },
   {
    "duration": 63,
    "start_time": "2023-05-13T09:37:48.938Z"
   },
   {
    "duration": 23,
    "start_time": "2023-05-13T09:37:49.003Z"
   },
   {
    "duration": 3,
    "start_time": "2023-05-13T09:37:49.028Z"
   },
   {
    "duration": 18,
    "start_time": "2023-05-13T09:43:17.197Z"
   },
   {
    "duration": 17,
    "start_time": "2023-05-13T09:43:42.987Z"
   },
   {
    "duration": 1533,
    "start_time": "2023-05-13T09:44:17.270Z"
   },
   {
    "duration": 768,
    "start_time": "2023-05-13T09:44:18.806Z"
   },
   {
    "duration": 25,
    "start_time": "2023-05-13T09:44:19.578Z"
   },
   {
    "duration": 105,
    "start_time": "2023-05-13T09:44:19.604Z"
   },
   {
    "duration": 9,
    "start_time": "2023-05-13T09:44:19.712Z"
   },
   {
    "duration": 59,
    "start_time": "2023-05-13T09:44:19.723Z"
   },
   {
    "duration": 14,
    "start_time": "2023-05-13T09:44:19.784Z"
   },
   {
    "duration": 18,
    "start_time": "2023-05-13T09:44:19.800Z"
   },
   {
    "duration": 82,
    "start_time": "2023-05-13T09:44:19.819Z"
   },
   {
    "duration": 9,
    "start_time": "2023-05-13T09:44:19.903Z"
   },
   {
    "duration": 77,
    "start_time": "2023-05-13T09:44:19.914Z"
   },
   {
    "duration": 88,
    "start_time": "2023-05-13T09:44:19.993Z"
   },
   {
    "duration": 25,
    "start_time": "2023-05-13T09:44:20.083Z"
   },
   {
    "duration": 4,
    "start_time": "2023-05-13T09:44:20.111Z"
   },
   {
    "duration": 1404,
    "start_time": "2023-05-13T09:47:01.911Z"
   },
   {
    "duration": 775,
    "start_time": "2023-05-13T09:47:03.317Z"
   },
   {
    "duration": 99,
    "start_time": "2023-05-13T09:47:04.094Z"
   },
   {
    "duration": 9,
    "start_time": "2023-05-13T09:47:04.195Z"
   },
   {
    "duration": 4,
    "start_time": "2023-05-13T09:47:04.207Z"
   },
   {
    "duration": 13,
    "start_time": "2023-05-13T09:47:04.213Z"
   },
   {
    "duration": 18,
    "start_time": "2023-05-13T09:47:04.227Z"
   },
   {
    "duration": 51,
    "start_time": "2023-05-13T09:47:04.246Z"
   },
   {
    "duration": 9,
    "start_time": "2023-05-13T09:47:04.299Z"
   },
   {
    "duration": 24,
    "start_time": "2023-05-13T09:47:04.310Z"
   },
   {
    "duration": 78,
    "start_time": "2023-05-13T09:47:04.336Z"
   },
   {
    "duration": 27,
    "start_time": "2023-05-13T09:47:04.417Z"
   },
   {
    "duration": 3,
    "start_time": "2023-05-13T09:47:04.447Z"
   },
   {
    "duration": 1403,
    "start_time": "2023-05-13T09:49:12.542Z"
   },
   {
    "duration": 70,
    "start_time": "2023-05-13T09:49:23.615Z"
   },
   {
    "duration": 26,
    "start_time": "2023-05-13T09:49:33.404Z"
   },
   {
    "duration": 1230,
    "start_time": "2023-05-13T09:50:03.926Z"
   },
   {
    "duration": 1474,
    "start_time": "2023-05-13T09:50:17.739Z"
   },
   {
    "duration": 789,
    "start_time": "2023-05-13T09:50:19.215Z"
   },
   {
    "duration": 13,
    "start_time": "2023-05-13T09:50:20.007Z"
   },
   {
    "duration": 126,
    "start_time": "2023-05-13T09:50:20.022Z"
   },
   {
    "duration": 9,
    "start_time": "2023-05-13T09:50:20.151Z"
   },
   {
    "duration": 19,
    "start_time": "2023-05-13T09:50:20.162Z"
   },
   {
    "duration": 27,
    "start_time": "2023-05-13T09:50:20.183Z"
   },
   {
    "duration": 21,
    "start_time": "2023-05-13T09:50:20.212Z"
   },
   {
    "duration": 44,
    "start_time": "2023-05-13T09:50:20.234Z"
   },
   {
    "duration": 11,
    "start_time": "2023-05-13T09:50:20.280Z"
   },
   {
    "duration": 34,
    "start_time": "2023-05-13T09:50:20.293Z"
   },
   {
    "duration": 53,
    "start_time": "2023-05-13T09:50:20.330Z"
   },
   {
    "duration": 1326,
    "start_time": "2023-05-13T09:50:20.386Z"
   },
   {
    "duration": 0,
    "start_time": "2023-05-13T09:50:21.714Z"
   },
   {
    "duration": 23,
    "start_time": "2023-05-13T09:50:38.600Z"
   },
   {
    "duration": 403,
    "start_time": "2023-05-13T09:51:23.620Z"
   },
   {
    "duration": 1255,
    "start_time": "2023-05-13T09:57:47.354Z"
   },
   {
    "duration": 19,
    "start_time": "2023-05-13T09:58:18.011Z"
   },
   {
    "duration": 4,
    "start_time": "2023-05-13T10:04:35.069Z"
   },
   {
    "duration": 7,
    "start_time": "2023-05-13T10:04:51.320Z"
   },
   {
    "duration": 85,
    "start_time": "2023-05-13T10:07:12.212Z"
   },
   {
    "duration": 85,
    "start_time": "2023-05-13T10:07:19.807Z"
   },
   {
    "duration": 15,
    "start_time": "2023-05-13T10:07:27.278Z"
   },
   {
    "duration": 146,
    "start_time": "2023-05-13T10:07:36.539Z"
   },
   {
    "duration": 296,
    "start_time": "2023-05-13T10:10:04.634Z"
   },
   {
    "duration": 179,
    "start_time": "2023-05-13T10:11:59.540Z"
   },
   {
    "duration": 259,
    "start_time": "2023-05-13T10:12:17.353Z"
   },
   {
    "duration": 195,
    "start_time": "2023-05-13T10:12:50.706Z"
   },
   {
    "duration": 194,
    "start_time": "2023-05-13T10:14:00.794Z"
   },
   {
    "duration": 35,
    "start_time": "2023-05-13T13:26:35.722Z"
   },
   {
    "duration": 1517,
    "start_time": "2023-05-13T13:27:49.534Z"
   },
   {
    "duration": 906,
    "start_time": "2023-05-13T13:27:51.053Z"
   },
   {
    "duration": 111,
    "start_time": "2023-05-13T13:27:51.961Z"
   },
   {
    "duration": 13,
    "start_time": "2023-05-13T13:27:52.074Z"
   },
   {
    "duration": 4,
    "start_time": "2023-05-13T13:27:52.089Z"
   },
   {
    "duration": 33,
    "start_time": "2023-05-13T13:27:52.097Z"
   },
   {
    "duration": 15,
    "start_time": "2023-05-13T13:27:52.132Z"
   },
   {
    "duration": 22,
    "start_time": "2023-05-13T13:27:52.148Z"
   },
   {
    "duration": 29,
    "start_time": "2023-05-13T13:27:52.171Z"
   },
   {
    "duration": 24,
    "start_time": "2023-05-13T13:27:52.208Z"
   },
   {
    "duration": 33,
    "start_time": "2023-05-13T13:27:52.234Z"
   },
   {
    "duration": 29,
    "start_time": "2023-05-13T13:27:52.269Z"
   },
   {
    "duration": 235,
    "start_time": "2023-05-13T13:27:52.299Z"
   },
   {
    "duration": 151,
    "start_time": "2023-05-13T13:27:52.537Z"
   },
   {
    "duration": 371,
    "start_time": "2023-05-13T13:27:57.011Z"
   },
   {
    "duration": 424,
    "start_time": "2023-05-13T13:28:26.507Z"
   },
   {
    "duration": 106,
    "start_time": "2023-05-13T13:28:38.749Z"
   },
   {
    "duration": 281,
    "start_time": "2023-05-13T13:28:41.677Z"
   },
   {
    "duration": 278,
    "start_time": "2023-05-13T13:28:45.076Z"
   },
   {
    "duration": 297,
    "start_time": "2023-05-13T13:28:49.631Z"
   },
   {
    "duration": 386,
    "start_time": "2023-05-13T13:28:53.271Z"
   },
   {
    "duration": 465,
    "start_time": "2023-05-13T13:28:59.250Z"
   },
   {
    "duration": 9,
    "start_time": "2023-05-13T13:29:33.330Z"
   },
   {
    "duration": 145,
    "start_time": "2023-05-13T13:29:54.202Z"
   },
   {
    "duration": 210,
    "start_time": "2023-05-13T13:30:16.142Z"
   },
   {
    "duration": 10,
    "start_time": "2023-05-13T13:34:01.233Z"
   },
   {
    "duration": 319,
    "start_time": "2023-05-13T13:34:14.026Z"
   },
   {
    "duration": 583,
    "start_time": "2023-05-13T13:34:31.362Z"
   },
   {
    "duration": 496,
    "start_time": "2023-05-13T13:35:32.352Z"
   },
   {
    "duration": 515,
    "start_time": "2023-05-13T13:39:27.633Z"
   },
   {
    "duration": 34,
    "start_time": "2023-05-13T13:44:43.694Z"
   },
   {
    "duration": 15,
    "start_time": "2023-05-13T13:45:29.018Z"
   },
   {
    "duration": 25,
    "start_time": "2023-05-13T13:45:32.472Z"
   },
   {
    "duration": 225,
    "start_time": "2023-05-13T13:48:39.757Z"
   },
   {
    "duration": 14,
    "start_time": "2023-05-13T13:49:28.817Z"
   },
   {
    "duration": 7,
    "start_time": "2023-05-13T14:02:40.869Z"
   },
   {
    "duration": 18,
    "start_time": "2023-05-13T14:03:41.486Z"
   },
   {
    "duration": 12,
    "start_time": "2023-05-13T14:04:19.757Z"
   },
   {
    "duration": 13,
    "start_time": "2023-05-13T14:04:26.442Z"
   },
   {
    "duration": 16,
    "start_time": "2023-05-13T14:04:56.708Z"
   },
   {
    "duration": 117,
    "start_time": "2023-05-13T14:06:25.885Z"
   },
   {
    "duration": 17,
    "start_time": "2023-05-13T14:06:29.154Z"
   },
   {
    "duration": 1368,
    "start_time": "2023-05-13T14:06:36.586Z"
   },
   {
    "duration": 18,
    "start_time": "2023-05-13T14:06:45.099Z"
   },
   {
    "duration": 26,
    "start_time": "2023-05-13T14:07:36.312Z"
   },
   {
    "duration": 19,
    "start_time": "2023-05-13T14:09:55.626Z"
   },
   {
    "duration": 29,
    "start_time": "2023-05-13T14:10:43.264Z"
   },
   {
    "duration": 637,
    "start_time": "2023-05-13T14:12:03.248Z"
   },
   {
    "duration": 736,
    "start_time": "2023-05-13T14:12:45.193Z"
   },
   {
    "duration": 782,
    "start_time": "2023-05-13T14:13:05.579Z"
   },
   {
    "duration": 915,
    "start_time": "2023-05-13T14:13:10.331Z"
   },
   {
    "duration": 746,
    "start_time": "2023-05-13T14:13:19.111Z"
   },
   {
    "duration": 908,
    "start_time": "2023-05-13T14:13:35.398Z"
   },
   {
    "duration": 728,
    "start_time": "2023-05-13T14:14:03.525Z"
   },
   {
    "duration": 1075,
    "start_time": "2023-05-13T14:15:10.692Z"
   },
   {
    "duration": 896,
    "start_time": "2023-05-13T14:15:24.020Z"
   },
   {
    "duration": 1014,
    "start_time": "2023-05-13T14:15:33.151Z"
   },
   {
    "duration": 482,
    "start_time": "2023-05-13T14:15:43.870Z"
   },
   {
    "duration": 420,
    "start_time": "2023-05-13T14:17:24.901Z"
   },
   {
    "duration": 667,
    "start_time": "2023-05-13T14:17:32.370Z"
   },
   {
    "duration": 536,
    "start_time": "2023-05-13T14:18:10.760Z"
   },
   {
    "duration": 1004,
    "start_time": "2023-05-13T14:19:19.592Z"
   },
   {
    "duration": 1078,
    "start_time": "2023-05-13T14:30:20.699Z"
   },
   {
    "duration": 3,
    "start_time": "2023-05-13T14:35:31.203Z"
   },
   {
    "duration": 1402,
    "start_time": "2023-05-13T14:52:01.121Z"
   },
   {
    "duration": 796,
    "start_time": "2023-05-13T14:52:02.525Z"
   },
   {
    "duration": 98,
    "start_time": "2023-05-13T14:52:03.323Z"
   },
   {
    "duration": 10,
    "start_time": "2023-05-13T14:52:03.423Z"
   },
   {
    "duration": 27,
    "start_time": "2023-05-13T14:52:03.436Z"
   },
   {
    "duration": 55,
    "start_time": "2023-05-13T14:52:03.465Z"
   },
   {
    "duration": 29,
    "start_time": "2023-05-13T14:52:03.522Z"
   },
   {
    "duration": 36,
    "start_time": "2023-05-13T14:52:03.553Z"
   },
   {
    "duration": 9,
    "start_time": "2023-05-13T14:52:03.594Z"
   },
   {
    "duration": 33,
    "start_time": "2023-05-13T14:52:03.604Z"
   },
   {
    "duration": 45,
    "start_time": "2023-05-13T14:52:03.639Z"
   },
   {
    "duration": 25,
    "start_time": "2023-05-13T14:52:03.685Z"
   },
   {
    "duration": 225,
    "start_time": "2023-05-13T14:52:03.712Z"
   },
   {
    "duration": 590,
    "start_time": "2023-05-13T14:52:03.940Z"
   },
   {
    "duration": 977,
    "start_time": "2023-05-13T14:52:04.532Z"
   },
   {
    "duration": 1738,
    "start_time": "2023-05-13T15:19:23.522Z"
   },
   {
    "duration": 1004,
    "start_time": "2023-05-13T15:19:25.263Z"
   },
   {
    "duration": 119,
    "start_time": "2023-05-13T15:19:26.269Z"
   },
   {
    "duration": 13,
    "start_time": "2023-05-13T15:19:26.394Z"
   },
   {
    "duration": 9,
    "start_time": "2023-05-13T15:19:26.410Z"
   },
   {
    "duration": 13,
    "start_time": "2023-05-13T15:19:26.421Z"
   },
   {
    "duration": 19,
    "start_time": "2023-05-13T15:19:26.436Z"
   },
   {
    "duration": 64,
    "start_time": "2023-05-13T15:19:26.457Z"
   },
   {
    "duration": 10,
    "start_time": "2023-05-13T15:19:26.523Z"
   },
   {
    "duration": 26,
    "start_time": "2023-05-13T15:19:26.536Z"
   },
   {
    "duration": 61,
    "start_time": "2023-05-13T15:19:26.564Z"
   },
   {
    "duration": 26,
    "start_time": "2023-05-13T15:19:26.627Z"
   },
   {
    "duration": 315,
    "start_time": "2023-05-13T15:19:26.656Z"
   },
   {
    "duration": 843,
    "start_time": "2023-05-13T15:19:26.982Z"
   },
   {
    "duration": 1159,
    "start_time": "2023-05-13T15:19:27.827Z"
   },
   {
    "duration": 11,
    "start_time": "2023-05-14T07:34:46.303Z"
   },
   {
    "duration": 5,
    "start_time": "2023-05-14T07:34:51.002Z"
   },
   {
    "duration": 94,
    "start_time": "2023-05-14T08:01:11.304Z"
   },
   {
    "duration": 120,
    "start_time": "2023-05-14T08:01:55.016Z"
   },
   {
    "duration": 106,
    "start_time": "2023-05-14T08:02:30.460Z"
   },
   {
    "duration": 1881,
    "start_time": "2023-05-14T08:02:45.327Z"
   },
   {
    "duration": 5493,
    "start_time": "2023-05-14T08:02:47.211Z"
   },
   {
    "duration": 89,
    "start_time": "2023-05-14T08:02:52.706Z"
   },
   {
    "duration": 13,
    "start_time": "2023-05-14T08:02:52.798Z"
   },
   {
    "duration": 11,
    "start_time": "2023-05-14T08:02:52.813Z"
   },
   {
    "duration": 19,
    "start_time": "2023-05-14T08:02:52.826Z"
   },
   {
    "duration": 35,
    "start_time": "2023-05-14T08:02:52.847Z"
   },
   {
    "duration": 47,
    "start_time": "2023-05-14T08:02:52.887Z"
   },
   {
    "duration": 9,
    "start_time": "2023-05-14T08:02:52.936Z"
   },
   {
    "duration": 21,
    "start_time": "2023-05-14T08:02:52.947Z"
   },
   {
    "duration": 65,
    "start_time": "2023-05-14T08:02:52.969Z"
   },
   {
    "duration": 18,
    "start_time": "2023-05-14T08:02:53.036Z"
   },
   {
    "duration": 240,
    "start_time": "2023-05-14T08:02:53.056Z"
   },
   {
    "duration": 657,
    "start_time": "2023-05-14T08:02:53.301Z"
   },
   {
    "duration": 1250,
    "start_time": "2023-05-14T08:02:53.959Z"
   },
   {
    "duration": 140,
    "start_time": "2023-05-14T08:02:55.211Z"
   },
   {
    "duration": 118,
    "start_time": "2023-05-14T08:03:05.221Z"
   },
   {
    "duration": 117,
    "start_time": "2023-05-14T08:03:09.028Z"
   },
   {
    "duration": 136,
    "start_time": "2023-05-14T08:03:17.928Z"
   },
   {
    "duration": 158,
    "start_time": "2023-05-14T08:03:39.755Z"
   },
   {
    "duration": 12,
    "start_time": "2023-05-14T08:05:12.696Z"
   },
   {
    "duration": 29,
    "start_time": "2023-05-14T08:06:22.796Z"
   },
   {
    "duration": 33,
    "start_time": "2023-05-14T08:06:59.216Z"
   },
   {
    "duration": 19,
    "start_time": "2023-05-14T08:07:51.059Z"
   },
   {
    "duration": 15,
    "start_time": "2023-05-14T08:08:37.548Z"
   },
   {
    "duration": 20,
    "start_time": "2023-05-14T08:09:31.815Z"
   },
   {
    "duration": 27,
    "start_time": "2023-05-14T08:45:57.800Z"
   },
   {
    "duration": 205,
    "start_time": "2023-05-14T08:46:04.290Z"
   },
   {
    "duration": 494,
    "start_time": "2023-05-14T08:46:42.144Z"
   },
   {
    "duration": 421,
    "start_time": "2023-05-14T08:47:10.005Z"
   },
   {
    "duration": 420,
    "start_time": "2023-05-14T08:47:26.217Z"
   },
   {
    "duration": 6,
    "start_time": "2023-05-14T08:47:35.923Z"
   },
   {
    "duration": 37,
    "start_time": "2023-05-14T08:47:56.404Z"
   },
   {
    "duration": 1617,
    "start_time": "2023-05-14T08:48:18.411Z"
   },
   {
    "duration": 908,
    "start_time": "2023-05-14T08:48:20.030Z"
   },
   {
    "duration": 89,
    "start_time": "2023-05-14T08:48:20.940Z"
   },
   {
    "duration": 8,
    "start_time": "2023-05-14T08:48:21.031Z"
   },
   {
    "duration": 40,
    "start_time": "2023-05-14T08:48:21.042Z"
   },
   {
    "duration": 13,
    "start_time": "2023-05-14T08:48:21.084Z"
   },
   {
    "duration": 23,
    "start_time": "2023-05-14T08:48:21.099Z"
   },
   {
    "duration": 26,
    "start_time": "2023-05-14T08:48:21.124Z"
   },
   {
    "duration": 28,
    "start_time": "2023-05-14T08:48:21.151Z"
   },
   {
    "duration": 42,
    "start_time": "2023-05-14T08:48:21.183Z"
   },
   {
    "duration": 39,
    "start_time": "2023-05-14T08:48:21.226Z"
   },
   {
    "duration": 22,
    "start_time": "2023-05-14T08:48:21.267Z"
   },
   {
    "duration": 245,
    "start_time": "2023-05-14T08:48:21.291Z"
   },
   {
    "duration": 628,
    "start_time": "2023-05-14T08:48:21.539Z"
   },
   {
    "duration": 1049,
    "start_time": "2023-05-14T08:48:22.169Z"
   },
   {
    "duration": 6,
    "start_time": "2023-05-14T08:48:23.220Z"
   },
   {
    "duration": 52,
    "start_time": "2023-05-14T08:48:23.228Z"
   },
   {
    "duration": 6,
    "start_time": "2023-05-14T08:48:41.139Z"
   },
   {
    "duration": 7,
    "start_time": "2023-05-14T08:48:45.436Z"
   },
   {
    "duration": 129,
    "start_time": "2023-05-14T08:48:56.402Z"
   },
   {
    "duration": 36,
    "start_time": "2023-05-14T08:49:00.602Z"
   },
   {
    "duration": 25,
    "start_time": "2023-05-14T08:49:20.529Z"
   },
   {
    "duration": 25,
    "start_time": "2023-05-14T08:49:26.011Z"
   },
   {
    "duration": 35,
    "start_time": "2023-05-14T08:49:33.710Z"
   },
   {
    "duration": 29,
    "start_time": "2023-05-14T08:49:47.132Z"
   },
   {
    "duration": 33,
    "start_time": "2023-05-14T08:50:19.022Z"
   },
   {
    "duration": 32,
    "start_time": "2023-05-14T08:50:30.331Z"
   },
   {
    "duration": 125,
    "start_time": "2023-05-14T08:50:44.112Z"
   },
   {
    "duration": 10598,
    "start_time": "2023-05-14T08:50:49.259Z"
   },
   {
    "duration": 15,
    "start_time": "2023-05-14T08:53:44.834Z"
   },
   {
    "duration": 26,
    "start_time": "2023-05-14T08:54:45.643Z"
   },
   {
    "duration": 2035,
    "start_time": "2023-05-14T08:58:25.021Z"
   },
   {
    "duration": 1440,
    "start_time": "2023-05-14T08:59:15.798Z"
   },
   {
    "duration": 1548,
    "start_time": "2023-05-14T08:59:22.900Z"
   },
   {
    "duration": 258,
    "start_time": "2023-05-14T08:59:38.470Z"
   },
   {
    "duration": 189,
    "start_time": "2023-05-14T08:59:44.803Z"
   },
   {
    "duration": 152,
    "start_time": "2023-05-14T08:59:51.518Z"
   },
   {
    "duration": 33,
    "start_time": "2023-05-14T08:59:55.402Z"
   },
   {
    "duration": 1539,
    "start_time": "2023-05-14T09:00:14.866Z"
   },
   {
    "duration": 1624,
    "start_time": "2023-05-14T09:00:55.866Z"
   },
   {
    "duration": 1416,
    "start_time": "2023-05-14T09:01:22.425Z"
   },
   {
    "duration": 1972,
    "start_time": "2023-05-14T09:01:31.151Z"
   },
   {
    "duration": 1251,
    "start_time": "2023-05-14T09:01:33.126Z"
   },
   {
    "duration": 120,
    "start_time": "2023-05-14T09:01:34.386Z"
   },
   {
    "duration": 11,
    "start_time": "2023-05-14T09:01:34.508Z"
   },
   {
    "duration": 17,
    "start_time": "2023-05-14T09:01:34.522Z"
   },
   {
    "duration": 12,
    "start_time": "2023-05-14T09:01:34.542Z"
   },
   {
    "duration": 39,
    "start_time": "2023-05-14T09:01:34.561Z"
   },
   {
    "duration": 52,
    "start_time": "2023-05-14T09:01:34.603Z"
   },
   {
    "duration": 10,
    "start_time": "2023-05-14T09:01:34.658Z"
   },
   {
    "duration": 31,
    "start_time": "2023-05-14T09:01:34.677Z"
   },
   {
    "duration": 44,
    "start_time": "2023-05-14T09:01:34.710Z"
   },
   {
    "duration": 49,
    "start_time": "2023-05-14T09:01:34.758Z"
   },
   {
    "duration": 343,
    "start_time": "2023-05-14T09:01:34.810Z"
   },
   {
    "duration": 750,
    "start_time": "2023-05-14T09:01:35.156Z"
   },
   {
    "duration": 1102,
    "start_time": "2023-05-14T09:01:35.908Z"
   },
   {
    "duration": 21,
    "start_time": "2023-05-14T09:01:37.014Z"
   },
   {
    "duration": 1534,
    "start_time": "2023-05-14T09:01:37.038Z"
   },
   {
    "duration": 12,
    "start_time": "2023-05-14T09:01:38.576Z"
   },
   {
    "duration": 2110,
    "start_time": "2023-05-14T09:02:18.663Z"
   },
   {
    "duration": 1121,
    "start_time": "2023-05-14T09:02:20.777Z"
   },
   {
    "duration": 137,
    "start_time": "2023-05-14T09:02:21.901Z"
   },
   {
    "duration": 10,
    "start_time": "2023-05-14T09:02:22.041Z"
   },
   {
    "duration": 6,
    "start_time": "2023-05-14T09:02:22.053Z"
   },
   {
    "duration": 15,
    "start_time": "2023-05-14T09:02:22.061Z"
   },
   {
    "duration": 47,
    "start_time": "2023-05-14T09:02:22.078Z"
   },
   {
    "duration": 41,
    "start_time": "2023-05-14T09:02:22.127Z"
   },
   {
    "duration": 19,
    "start_time": "2023-05-14T09:02:22.171Z"
   },
   {
    "duration": 40,
    "start_time": "2023-05-14T09:02:22.199Z"
   },
   {
    "duration": 35,
    "start_time": "2023-05-14T09:02:22.240Z"
   },
   {
    "duration": 43,
    "start_time": "2023-05-14T09:02:22.278Z"
   },
   {
    "duration": 308,
    "start_time": "2023-05-14T09:02:22.324Z"
   },
   {
    "duration": 827,
    "start_time": "2023-05-14T09:02:22.635Z"
   },
   {
    "duration": 1189,
    "start_time": "2023-05-14T09:02:23.464Z"
   },
   {
    "duration": 31,
    "start_time": "2023-05-14T09:02:24.655Z"
   },
   {
    "duration": 1441,
    "start_time": "2023-05-14T09:02:24.697Z"
   },
   {
    "duration": 5,
    "start_time": "2023-05-14T09:02:26.141Z"
   },
   {
    "duration": 1406,
    "start_time": "2023-05-14T09:03:33.157Z"
   },
   {
    "duration": 983,
    "start_time": "2023-05-14T09:04:26.050Z"
   },
   {
    "duration": 784,
    "start_time": "2023-05-14T09:04:51.155Z"
   },
   {
    "duration": 706,
    "start_time": "2023-05-14T09:05:02.551Z"
   },
   {
    "duration": 1981,
    "start_time": "2023-05-14T09:05:25.202Z"
   },
   {
    "duration": 1210,
    "start_time": "2023-05-14T09:05:27.191Z"
   },
   {
    "duration": 114,
    "start_time": "2023-05-14T09:05:28.403Z"
   },
   {
    "duration": 11,
    "start_time": "2023-05-14T09:05:28.519Z"
   },
   {
    "duration": 18,
    "start_time": "2023-05-14T09:05:28.533Z"
   },
   {
    "duration": 19,
    "start_time": "2023-05-14T09:05:28.553Z"
   },
   {
    "duration": 36,
    "start_time": "2023-05-14T09:05:28.575Z"
   },
   {
    "duration": 44,
    "start_time": "2023-05-14T09:05:28.613Z"
   },
   {
    "duration": 10,
    "start_time": "2023-05-14T09:05:28.660Z"
   },
   {
    "duration": 41,
    "start_time": "2023-05-14T09:05:28.673Z"
   },
   {
    "duration": 46,
    "start_time": "2023-05-14T09:05:28.716Z"
   },
   {
    "duration": 28,
    "start_time": "2023-05-14T09:05:28.764Z"
   },
   {
    "duration": 284,
    "start_time": "2023-05-14T09:05:28.795Z"
   },
   {
    "duration": 789,
    "start_time": "2023-05-14T09:05:29.083Z"
   },
   {
    "duration": 1381,
    "start_time": "2023-05-14T09:05:29.877Z"
   },
   {
    "duration": 23,
    "start_time": "2023-05-14T09:05:31.260Z"
   },
   {
    "duration": 1600,
    "start_time": "2023-05-14T09:05:31.285Z"
   },
   {
    "duration": 6,
    "start_time": "2023-05-14T09:05:32.888Z"
   },
   {
    "duration": 2099,
    "start_time": "2023-05-14T09:09:25.562Z"
   },
   {
    "duration": 4035,
    "start_time": "2023-05-14T09:09:50.224Z"
   },
   {
    "duration": 127,
    "start_time": "2023-05-14T09:10:38.853Z"
   },
   {
    "duration": 16,
    "start_time": "2023-05-14T09:10:53.116Z"
   },
   {
    "duration": 42,
    "start_time": "2023-05-14T09:23:29.400Z"
   },
   {
    "duration": 31,
    "start_time": "2023-05-14T09:23:36.532Z"
   },
   {
    "duration": 15,
    "start_time": "2023-05-14T09:24:29.003Z"
   },
   {
    "duration": 10,
    "start_time": "2023-05-14T09:24:38.541Z"
   },
   {
    "duration": 4,
    "start_time": "2023-05-14T09:24:46.347Z"
   },
   {
    "duration": 19,
    "start_time": "2023-05-14T09:24:51.499Z"
   },
   {
    "duration": 37,
    "start_time": "2023-05-14T09:25:10.095Z"
   },
   {
    "duration": 45,
    "start_time": "2023-05-14T09:25:22.806Z"
   },
   {
    "duration": 39,
    "start_time": "2023-05-14T09:25:33.612Z"
   },
   {
    "duration": 15,
    "start_time": "2023-05-14T09:26:29.147Z"
   },
   {
    "duration": 44,
    "start_time": "2023-05-14T09:27:03.898Z"
   },
   {
    "duration": 1859,
    "start_time": "2023-05-14T09:27:44.603Z"
   },
   {
    "duration": 1156,
    "start_time": "2023-05-14T09:27:46.465Z"
   },
   {
    "duration": 126,
    "start_time": "2023-05-14T09:27:47.627Z"
   },
   {
    "duration": 12,
    "start_time": "2023-05-14T09:27:47.755Z"
   },
   {
    "duration": 5,
    "start_time": "2023-05-14T09:27:47.786Z"
   },
   {
    "duration": 13,
    "start_time": "2023-05-14T09:27:47.793Z"
   },
   {
    "duration": 31,
    "start_time": "2023-05-14T09:27:47.809Z"
   },
   {
    "duration": 59,
    "start_time": "2023-05-14T09:27:47.842Z"
   },
   {
    "duration": 12,
    "start_time": "2023-05-14T09:27:47.903Z"
   },
   {
    "duration": 31,
    "start_time": "2023-05-14T09:27:47.917Z"
   },
   {
    "duration": 53,
    "start_time": "2023-05-14T09:27:47.951Z"
   },
   {
    "duration": 25,
    "start_time": "2023-05-14T09:27:48.006Z"
   },
   {
    "duration": 293,
    "start_time": "2023-05-14T09:27:48.034Z"
   },
   {
    "duration": 729,
    "start_time": "2023-05-14T09:27:48.332Z"
   },
   {
    "duration": 1136,
    "start_time": "2023-05-14T09:27:49.064Z"
   },
   {
    "duration": 21,
    "start_time": "2023-05-14T09:27:50.202Z"
   },
   {
    "duration": 1112,
    "start_time": "2023-05-14T09:27:50.225Z"
   },
   {
    "duration": 16,
    "start_time": "2023-05-14T09:27:51.339Z"
   },
   {
    "duration": 23,
    "start_time": "2023-05-14T09:27:51.357Z"
   },
   {
    "duration": 8,
    "start_time": "2023-05-14T09:27:51.384Z"
   },
   {
    "duration": 16,
    "start_time": "2023-05-14T09:27:51.394Z"
   },
   {
    "duration": 19,
    "start_time": "2023-05-14T09:27:51.413Z"
   },
   {
    "duration": 21,
    "start_time": "2023-05-14T09:27:51.434Z"
   },
   {
    "duration": 229,
    "start_time": "2023-05-14T09:29:55.555Z"
   },
   {
    "duration": 39,
    "start_time": "2023-05-14T09:30:11.548Z"
   },
   {
    "duration": 15,
    "start_time": "2023-05-14T09:32:35.118Z"
   },
   {
    "duration": 703,
    "start_time": "2023-05-14T09:33:44.802Z"
   },
   {
    "duration": 552,
    "start_time": "2023-05-14T09:34:00.420Z"
   },
   {
    "duration": 1704,
    "start_time": "2023-05-14T09:34:23.442Z"
   },
   {
    "duration": 9,
    "start_time": "2023-05-14T09:34:25.940Z"
   },
   {
    "duration": 1822,
    "start_time": "2023-05-14T09:34:33.951Z"
   },
   {
    "duration": 1066,
    "start_time": "2023-05-14T09:34:35.776Z"
   },
   {
    "duration": 104,
    "start_time": "2023-05-14T09:34:36.844Z"
   },
   {
    "duration": 9,
    "start_time": "2023-05-14T09:34:36.950Z"
   },
   {
    "duration": 18,
    "start_time": "2023-05-14T09:34:36.962Z"
   },
   {
    "duration": 11,
    "start_time": "2023-05-14T09:34:36.983Z"
   },
   {
    "duration": 22,
    "start_time": "2023-05-14T09:34:36.996Z"
   },
   {
    "duration": 46,
    "start_time": "2023-05-14T09:34:37.019Z"
   },
   {
    "duration": 10,
    "start_time": "2023-05-14T09:34:37.077Z"
   },
   {
    "duration": 35,
    "start_time": "2023-05-14T09:34:37.090Z"
   },
   {
    "duration": 53,
    "start_time": "2023-05-14T09:34:37.131Z"
   },
   {
    "duration": 34,
    "start_time": "2023-05-14T09:34:37.189Z"
   },
   {
    "duration": 298,
    "start_time": "2023-05-14T09:34:37.224Z"
   },
   {
    "duration": 785,
    "start_time": "2023-05-14T09:34:37.526Z"
   },
   {
    "duration": 1010,
    "start_time": "2023-05-14T09:34:38.313Z"
   },
   {
    "duration": 20,
    "start_time": "2023-05-14T09:34:39.324Z"
   },
   {
    "duration": 1276,
    "start_time": "2023-05-14T09:34:39.346Z"
   },
   {
    "duration": 15,
    "start_time": "2023-05-14T09:34:40.626Z"
   },
   {
    "duration": 6,
    "start_time": "2023-05-14T09:34:40.644Z"
   },
   {
    "duration": 8,
    "start_time": "2023-05-14T09:34:40.652Z"
   },
   {
    "duration": 2091,
    "start_time": "2023-05-14T09:35:18.716Z"
   },
   {
    "duration": 4614,
    "start_time": "2023-05-14T09:35:20.810Z"
   },
   {
    "duration": 103,
    "start_time": "2023-05-14T09:35:25.426Z"
   },
   {
    "duration": 11,
    "start_time": "2023-05-14T09:35:25.532Z"
   },
   {
    "duration": 18,
    "start_time": "2023-05-14T09:35:25.545Z"
   },
   {
    "duration": 35,
    "start_time": "2023-05-14T09:35:25.566Z"
   },
   {
    "duration": 29,
    "start_time": "2023-05-14T09:35:25.606Z"
   },
   {
    "duration": 39,
    "start_time": "2023-05-14T09:35:25.636Z"
   },
   {
    "duration": 15,
    "start_time": "2023-05-14T09:35:25.676Z"
   },
   {
    "duration": 30,
    "start_time": "2023-05-14T09:35:25.693Z"
   },
   {
    "duration": 46,
    "start_time": "2023-05-14T09:35:25.725Z"
   },
   {
    "duration": 34,
    "start_time": "2023-05-14T09:35:25.773Z"
   },
   {
    "duration": 268,
    "start_time": "2023-05-14T09:35:25.809Z"
   },
   {
    "duration": 753,
    "start_time": "2023-05-14T09:35:26.081Z"
   },
   {
    "duration": 1219,
    "start_time": "2023-05-14T09:35:26.837Z"
   },
   {
    "duration": 20,
    "start_time": "2023-05-14T09:35:28.060Z"
   },
   {
    "duration": 1207,
    "start_time": "2023-05-14T09:35:28.082Z"
   },
   {
    "duration": 13,
    "start_time": "2023-05-14T09:35:29.291Z"
   },
   {
    "duration": 7,
    "start_time": "2023-05-14T09:35:29.306Z"
   },
   {
    "duration": 9,
    "start_time": "2023-05-14T09:35:29.314Z"
   },
   {
    "duration": 32,
    "start_time": "2023-05-14T09:35:29.324Z"
   },
   {
    "duration": 24,
    "start_time": "2023-05-14T09:35:29.358Z"
   },
   {
    "duration": 2,
    "start_time": "2023-05-14T09:35:29.384Z"
   },
   {
    "duration": 1824,
    "start_time": "2023-05-14T09:35:50.719Z"
   },
   {
    "duration": 1741,
    "start_time": "2023-05-14T09:36:21.203Z"
   },
   {
    "duration": 898,
    "start_time": "2023-05-14T09:36:22.946Z"
   },
   {
    "duration": 102,
    "start_time": "2023-05-14T09:36:23.846Z"
   },
   {
    "duration": 9,
    "start_time": "2023-05-14T09:36:23.950Z"
   },
   {
    "duration": 17,
    "start_time": "2023-05-14T09:36:23.962Z"
   },
   {
    "duration": 12,
    "start_time": "2023-05-14T09:36:23.981Z"
   },
   {
    "duration": 26,
    "start_time": "2023-05-14T09:36:23.995Z"
   },
   {
    "duration": 71,
    "start_time": "2023-05-14T09:36:24.023Z"
   },
   {
    "duration": 12,
    "start_time": "2023-05-14T09:36:24.097Z"
   },
   {
    "duration": 33,
    "start_time": "2023-05-14T09:36:24.112Z"
   },
   {
    "duration": 51,
    "start_time": "2023-05-14T09:36:24.146Z"
   },
   {
    "duration": 24,
    "start_time": "2023-05-14T09:36:24.198Z"
   },
   {
    "duration": 281,
    "start_time": "2023-05-14T09:36:24.224Z"
   },
   {
    "duration": 650,
    "start_time": "2023-05-14T09:36:24.508Z"
   },
   {
    "duration": 1048,
    "start_time": "2023-05-14T09:36:25.160Z"
   },
   {
    "duration": 18,
    "start_time": "2023-05-14T09:36:26.210Z"
   },
   {
    "duration": 1242,
    "start_time": "2023-05-14T09:36:26.230Z"
   },
   {
    "duration": 14,
    "start_time": "2023-05-14T09:36:27.478Z"
   },
   {
    "duration": 9,
    "start_time": "2023-05-14T09:36:27.494Z"
   },
   {
    "duration": 28,
    "start_time": "2023-05-14T09:36:27.505Z"
   },
   {
    "duration": 1886,
    "start_time": "2023-05-14T09:37:14.326Z"
   },
   {
    "duration": 3915,
    "start_time": "2023-05-14T09:37:16.214Z"
   },
   {
    "duration": 98,
    "start_time": "2023-05-14T09:37:20.132Z"
   },
   {
    "duration": 8,
    "start_time": "2023-05-14T09:37:20.232Z"
   },
   {
    "duration": 5,
    "start_time": "2023-05-14T09:37:20.242Z"
   },
   {
    "duration": 33,
    "start_time": "2023-05-14T09:37:20.249Z"
   },
   {
    "duration": 28,
    "start_time": "2023-05-14T09:37:20.284Z"
   },
   {
    "duration": 36,
    "start_time": "2023-05-14T09:37:20.313Z"
   },
   {
    "duration": 8,
    "start_time": "2023-05-14T09:37:20.350Z"
   },
   {
    "duration": 50,
    "start_time": "2023-05-14T09:37:20.360Z"
   },
   {
    "duration": 41,
    "start_time": "2023-05-14T09:37:20.412Z"
   },
   {
    "duration": 37,
    "start_time": "2023-05-14T09:37:20.455Z"
   },
   {
    "duration": 252,
    "start_time": "2023-05-14T09:37:20.494Z"
   },
   {
    "duration": 622,
    "start_time": "2023-05-14T09:37:20.749Z"
   },
   {
    "duration": 975,
    "start_time": "2023-05-14T09:37:21.373Z"
   },
   {
    "duration": 35,
    "start_time": "2023-05-14T09:37:22.350Z"
   },
   {
    "duration": 1045,
    "start_time": "2023-05-14T09:37:22.401Z"
   },
   {
    "duration": 13,
    "start_time": "2023-05-14T09:37:23.448Z"
   },
   {
    "duration": 27,
    "start_time": "2023-05-14T09:37:23.463Z"
   },
   {
    "duration": 23,
    "start_time": "2023-05-14T09:37:23.493Z"
   },
   {
    "duration": 28,
    "start_time": "2023-05-14T09:37:23.519Z"
   },
   {
    "duration": 15,
    "start_time": "2023-05-14T09:37:23.550Z"
   },
   {
    "duration": 8,
    "start_time": "2023-05-14T09:37:23.567Z"
   },
   {
    "duration": 1616,
    "start_time": "2023-05-14T09:38:04.948Z"
   },
   {
    "duration": 916,
    "start_time": "2023-05-14T09:38:06.566Z"
   },
   {
    "duration": 117,
    "start_time": "2023-05-14T09:38:07.487Z"
   },
   {
    "duration": 12,
    "start_time": "2023-05-14T09:38:07.606Z"
   },
   {
    "duration": 4,
    "start_time": "2023-05-14T09:38:07.627Z"
   },
   {
    "duration": 33,
    "start_time": "2023-05-14T09:38:07.633Z"
   },
   {
    "duration": 30,
    "start_time": "2023-05-14T09:38:07.673Z"
   },
   {
    "duration": 38,
    "start_time": "2023-05-14T09:38:07.709Z"
   },
   {
    "duration": 10,
    "start_time": "2023-05-14T09:38:07.749Z"
   },
   {
    "duration": 40,
    "start_time": "2023-05-14T09:38:07.761Z"
   },
   {
    "duration": 44,
    "start_time": "2023-05-14T09:38:07.806Z"
   },
   {
    "duration": 40,
    "start_time": "2023-05-14T09:38:07.852Z"
   },
   {
    "duration": 316,
    "start_time": "2023-05-14T09:38:07.894Z"
   },
   {
    "duration": 643,
    "start_time": "2023-05-14T09:38:08.214Z"
   },
   {
    "duration": 1057,
    "start_time": "2023-05-14T09:38:08.859Z"
   },
   {
    "duration": 16,
    "start_time": "2023-05-14T09:38:09.919Z"
   },
   {
    "duration": 1192,
    "start_time": "2023-05-14T09:38:09.937Z"
   },
   {
    "duration": 14,
    "start_time": "2023-05-14T09:38:11.131Z"
   },
   {
    "duration": 7,
    "start_time": "2023-05-14T09:38:11.147Z"
   },
   {
    "duration": 29,
    "start_time": "2023-05-14T09:38:11.155Z"
   },
   {
    "duration": 63,
    "start_time": "2023-05-14T09:38:32.625Z"
   },
   {
    "duration": 1788,
    "start_time": "2023-05-14T09:38:43.797Z"
   },
   {
    "duration": 3829,
    "start_time": "2023-05-14T09:38:45.588Z"
   },
   {
    "duration": 95,
    "start_time": "2023-05-14T09:38:49.419Z"
   },
   {
    "duration": 15,
    "start_time": "2023-05-14T09:38:49.517Z"
   },
   {
    "duration": 9,
    "start_time": "2023-05-14T09:38:49.534Z"
   },
   {
    "duration": 12,
    "start_time": "2023-05-14T09:38:49.545Z"
   },
   {
    "duration": 39,
    "start_time": "2023-05-14T09:38:49.559Z"
   },
   {
    "duration": 32,
    "start_time": "2023-05-14T09:38:49.599Z"
   },
   {
    "duration": 11,
    "start_time": "2023-05-14T09:38:49.633Z"
   },
   {
    "duration": 59,
    "start_time": "2023-05-14T09:38:49.647Z"
   },
   {
    "duration": 41,
    "start_time": "2023-05-14T09:38:49.708Z"
   },
   {
    "duration": 34,
    "start_time": "2023-05-14T09:38:49.751Z"
   },
   {
    "duration": 267,
    "start_time": "2023-05-14T09:38:49.787Z"
   },
   {
    "duration": 609,
    "start_time": "2023-05-14T09:38:50.056Z"
   },
   {
    "duration": 988,
    "start_time": "2023-05-14T09:38:50.668Z"
   },
   {
    "duration": 28,
    "start_time": "2023-05-14T09:38:51.658Z"
   },
   {
    "duration": 1085,
    "start_time": "2023-05-14T09:38:51.688Z"
   },
   {
    "duration": 15,
    "start_time": "2023-05-14T09:38:52.778Z"
   },
   {
    "duration": 8,
    "start_time": "2023-05-14T09:38:52.795Z"
   },
   {
    "duration": 13,
    "start_time": "2023-05-14T09:38:52.809Z"
   },
   {
    "duration": 20,
    "start_time": "2023-05-14T09:38:52.824Z"
   },
   {
    "duration": 51,
    "start_time": "2023-05-14T09:39:18.102Z"
   },
   {
    "duration": 2297,
    "start_time": "2023-05-14T09:39:54.602Z"
   },
   {
    "duration": 3925,
    "start_time": "2023-05-14T09:39:56.905Z"
   },
   {
    "duration": 96,
    "start_time": "2023-05-14T09:40:00.832Z"
   },
   {
    "duration": 9,
    "start_time": "2023-05-14T09:40:00.931Z"
   },
   {
    "duration": 45,
    "start_time": "2023-05-14T09:40:00.943Z"
   },
   {
    "duration": 64,
    "start_time": "2023-05-14T09:40:00.990Z"
   },
   {
    "duration": 59,
    "start_time": "2023-05-14T09:40:01.056Z"
   },
   {
    "duration": 30,
    "start_time": "2023-05-14T09:40:01.117Z"
   },
   {
    "duration": 38,
    "start_time": "2023-05-14T09:40:01.149Z"
   },
   {
    "duration": 66,
    "start_time": "2023-05-14T09:40:01.192Z"
   },
   {
    "duration": 73,
    "start_time": "2023-05-14T09:40:01.260Z"
   },
   {
    "duration": 19,
    "start_time": "2023-05-14T09:40:01.335Z"
   },
   {
    "duration": 409,
    "start_time": "2023-05-14T09:40:01.356Z"
   },
   {
    "duration": 747,
    "start_time": "2023-05-14T09:40:01.767Z"
   },
   {
    "duration": 998,
    "start_time": "2023-05-14T09:40:02.516Z"
   },
   {
    "duration": 20,
    "start_time": "2023-05-14T09:40:03.516Z"
   },
   {
    "duration": 1287,
    "start_time": "2023-05-14T09:40:03.538Z"
   },
   {
    "duration": 14,
    "start_time": "2023-05-14T09:40:04.827Z"
   },
   {
    "duration": 6,
    "start_time": "2023-05-14T09:40:04.844Z"
   },
   {
    "duration": 32,
    "start_time": "2023-05-14T09:40:04.852Z"
   },
   {
    "duration": 1538,
    "start_time": "2023-05-14T09:41:07.301Z"
   },
   {
    "duration": 4008,
    "start_time": "2023-05-14T09:41:08.841Z"
   },
   {
    "duration": 122,
    "start_time": "2023-05-14T09:41:12.852Z"
   },
   {
    "duration": 22,
    "start_time": "2023-05-14T09:41:12.980Z"
   },
   {
    "duration": 7,
    "start_time": "2023-05-14T09:41:13.005Z"
   },
   {
    "duration": 25,
    "start_time": "2023-05-14T09:41:13.014Z"
   },
   {
    "duration": 30,
    "start_time": "2023-05-14T09:41:13.041Z"
   },
   {
    "duration": 62,
    "start_time": "2023-05-14T09:41:13.074Z"
   },
   {
    "duration": 11,
    "start_time": "2023-05-14T09:41:13.141Z"
   },
   {
    "duration": 38,
    "start_time": "2023-05-14T09:41:13.155Z"
   },
   {
    "duration": 43,
    "start_time": "2023-05-14T09:41:13.195Z"
   },
   {
    "duration": 41,
    "start_time": "2023-05-14T09:41:13.242Z"
   },
   {
    "duration": 250,
    "start_time": "2023-05-14T09:41:13.285Z"
   },
   {
    "duration": 623,
    "start_time": "2023-05-14T09:41:13.539Z"
   },
   {
    "duration": 975,
    "start_time": "2023-05-14T09:41:14.164Z"
   },
   {
    "duration": 19,
    "start_time": "2023-05-14T09:41:15.141Z"
   },
   {
    "duration": 1208,
    "start_time": "2023-05-14T09:41:15.162Z"
   },
   {
    "duration": 17,
    "start_time": "2023-05-14T09:41:16.373Z"
   },
   {
    "duration": 10,
    "start_time": "2023-05-14T09:41:16.392Z"
   },
   {
    "duration": 9,
    "start_time": "2023-05-14T09:41:16.404Z"
   },
   {
    "duration": 14,
    "start_time": "2023-05-14T09:41:16.417Z"
   },
   {
    "duration": 7,
    "start_time": "2023-05-14T09:41:16.433Z"
   },
   {
    "duration": 2,
    "start_time": "2023-05-14T09:41:16.442Z"
   },
   {
    "duration": 34,
    "start_time": "2023-05-14T09:41:16.446Z"
   },
   {
    "duration": 628,
    "start_time": "2023-05-14T09:41:51.035Z"
   },
   {
    "duration": 58,
    "start_time": "2023-05-14T09:42:45.714Z"
   },
   {
    "duration": 1491,
    "start_time": "2023-05-14T09:42:55.546Z"
   },
   {
    "duration": 3685,
    "start_time": "2023-05-14T09:42:57.040Z"
   },
   {
    "duration": 87,
    "start_time": "2023-05-14T09:43:00.727Z"
   },
   {
    "duration": 9,
    "start_time": "2023-05-14T09:43:00.816Z"
   },
   {
    "duration": 31,
    "start_time": "2023-05-14T09:43:00.828Z"
   },
   {
    "duration": 32,
    "start_time": "2023-05-14T09:43:00.861Z"
   },
   {
    "duration": 29,
    "start_time": "2023-05-14T09:43:00.895Z"
   },
   {
    "duration": 47,
    "start_time": "2023-05-14T09:43:00.926Z"
   },
   {
    "duration": 40,
    "start_time": "2023-05-14T09:43:00.975Z"
   },
   {
    "duration": 31,
    "start_time": "2023-05-14T09:43:01.017Z"
   },
   {
    "duration": 85,
    "start_time": "2023-05-14T09:43:01.050Z"
   },
   {
    "duration": 60,
    "start_time": "2023-05-14T09:43:01.137Z"
   },
   {
    "duration": 304,
    "start_time": "2023-05-14T09:43:01.208Z"
   },
   {
    "duration": 692,
    "start_time": "2023-05-14T09:43:01.516Z"
   },
   {
    "duration": 960,
    "start_time": "2023-05-14T09:43:02.210Z"
   },
   {
    "duration": 21,
    "start_time": "2023-05-14T09:43:03.180Z"
   },
   {
    "duration": 1108,
    "start_time": "2023-05-14T09:43:03.204Z"
   },
   {
    "duration": 15,
    "start_time": "2023-05-14T09:43:04.315Z"
   },
   {
    "duration": 9,
    "start_time": "2023-05-14T09:43:04.332Z"
   },
   {
    "duration": 61,
    "start_time": "2023-05-14T09:43:04.343Z"
   },
   {
    "duration": 21,
    "start_time": "2023-05-14T09:43:04.407Z"
   },
   {
    "duration": 1662,
    "start_time": "2023-05-14T09:43:04.430Z"
   },
   {
    "duration": 0,
    "start_time": "2023-05-14T09:43:06.097Z"
   },
   {
    "duration": 0,
    "start_time": "2023-05-14T09:43:06.098Z"
   },
   {
    "duration": 13,
    "start_time": "2023-05-14T09:43:18.739Z"
   },
   {
    "duration": 8,
    "start_time": "2023-05-14T09:43:34.942Z"
   },
   {
    "duration": 18,
    "start_time": "2023-05-14T09:43:45.899Z"
   },
   {
    "duration": 526,
    "start_time": "2023-05-14T09:43:50.108Z"
   },
   {
    "duration": 71,
    "start_time": "2023-05-14T09:46:41.240Z"
   },
   {
    "duration": 1480,
    "start_time": "2023-05-14T09:47:45.910Z"
   },
   {
    "duration": 3482,
    "start_time": "2023-05-14T09:47:47.392Z"
   },
   {
    "duration": 85,
    "start_time": "2023-05-14T09:47:50.876Z"
   },
   {
    "duration": 17,
    "start_time": "2023-05-14T09:47:50.963Z"
   },
   {
    "duration": 8,
    "start_time": "2023-05-14T09:47:50.981Z"
   },
   {
    "duration": 15,
    "start_time": "2023-05-14T09:47:50.993Z"
   },
   {
    "duration": 23,
    "start_time": "2023-05-14T09:47:51.011Z"
   },
   {
    "duration": 27,
    "start_time": "2023-05-14T09:47:57.152Z"
   },
   {
    "duration": 10,
    "start_time": "2023-05-14T09:47:57.997Z"
   },
   {
    "duration": 104,
    "start_time": "2023-05-14T09:48:05.392Z"
   },
   {
    "duration": 15,
    "start_time": "2023-05-14T09:48:21.299Z"
   },
   {
    "duration": 6,
    "start_time": "2023-05-14T09:48:34.815Z"
   },
   {
    "duration": 5,
    "start_time": "2023-05-14T09:49:23.678Z"
   },
   {
    "duration": 7,
    "start_time": "2023-05-14T09:49:34.947Z"
   },
   {
    "duration": 15,
    "start_time": "2023-05-14T09:49:58.592Z"
   },
   {
    "duration": 13,
    "start_time": "2023-05-14T09:53:09.100Z"
   },
   {
    "duration": 15,
    "start_time": "2023-05-14T09:53:25.706Z"
   },
   {
    "duration": 11,
    "start_time": "2023-05-14T09:53:42.796Z"
   },
   {
    "duration": 1430,
    "start_time": "2023-05-14T09:54:13.349Z"
   },
   {
    "duration": 813,
    "start_time": "2023-05-14T09:54:14.786Z"
   },
   {
    "duration": 120,
    "start_time": "2023-05-14T09:54:15.602Z"
   },
   {
    "duration": 14,
    "start_time": "2023-05-14T09:54:16.195Z"
   },
   {
    "duration": 5,
    "start_time": "2023-05-14T09:54:17.654Z"
   },
   {
    "duration": 10,
    "start_time": "2023-05-14T09:54:18.244Z"
   },
   {
    "duration": 20,
    "start_time": "2023-05-14T09:54:18.641Z"
   },
   {
    "duration": 37,
    "start_time": "2023-05-14T09:54:21.171Z"
   },
   {
    "duration": 19,
    "start_time": "2023-05-14T09:54:21.686Z"
   },
   {
    "duration": 8,
    "start_time": "2023-05-14T09:54:23.652Z"
   },
   {
    "duration": 8,
    "start_time": "2023-05-14T09:55:18.924Z"
   },
   {
    "duration": 6,
    "start_time": "2023-05-14T09:55:33.706Z"
   },
   {
    "duration": 117,
    "start_time": "2023-05-14T09:55:42.895Z"
   },
   {
    "duration": 1434,
    "start_time": "2023-05-14T09:55:55.285Z"
   },
   {
    "duration": 746,
    "start_time": "2023-05-14T09:55:56.721Z"
   },
   {
    "duration": 89,
    "start_time": "2023-05-14T09:55:57.469Z"
   },
   {
    "duration": 27,
    "start_time": "2023-05-14T09:55:57.560Z"
   },
   {
    "duration": 6,
    "start_time": "2023-05-14T09:55:57.725Z"
   },
   {
    "duration": 11,
    "start_time": "2023-05-14T09:55:58.142Z"
   },
   {
    "duration": 16,
    "start_time": "2023-05-14T09:55:58.520Z"
   },
   {
    "duration": 26,
    "start_time": "2023-05-14T09:56:00.587Z"
   },
   {
    "duration": 13,
    "start_time": "2023-05-14T09:56:01.186Z"
   },
   {
    "duration": 145,
    "start_time": "2023-05-14T09:56:02.276Z"
   },
   {
    "duration": 10,
    "start_time": "2023-05-14T09:57:24.092Z"
   },
   {
    "duration": 7,
    "start_time": "2023-05-14T09:57:30.095Z"
   },
   {
    "duration": 7,
    "start_time": "2023-05-14T09:58:13.067Z"
   },
   {
    "duration": 1396,
    "start_time": "2023-05-14T09:58:36.097Z"
   },
   {
    "duration": 803,
    "start_time": "2023-05-14T09:58:37.495Z"
   },
   {
    "duration": 94,
    "start_time": "2023-05-14T09:58:38.300Z"
   },
   {
    "duration": 9,
    "start_time": "2023-05-14T09:58:38.396Z"
   },
   {
    "duration": 9,
    "start_time": "2023-05-14T09:58:38.438Z"
   },
   {
    "duration": 9,
    "start_time": "2023-05-14T09:58:38.591Z"
   },
   {
    "duration": 16,
    "start_time": "2023-05-14T09:58:38.741Z"
   },
   {
    "duration": 24,
    "start_time": "2023-05-14T09:58:39.951Z"
   },
   {
    "duration": 12,
    "start_time": "2023-05-14T09:58:40.290Z"
   },
   {
    "duration": 7,
    "start_time": "2023-05-14T09:58:43.348Z"
   },
   {
    "duration": 1404,
    "start_time": "2023-05-14T10:00:05.534Z"
   },
   {
    "duration": 820,
    "start_time": "2023-05-14T10:00:06.941Z"
   },
   {
    "duration": 95,
    "start_time": "2023-05-14T10:00:07.768Z"
   },
   {
    "duration": 26,
    "start_time": "2023-05-14T10:00:07.865Z"
   },
   {
    "duration": 5,
    "start_time": "2023-05-14T10:00:07.894Z"
   },
   {
    "duration": 12,
    "start_time": "2023-05-14T10:00:07.900Z"
   },
   {
    "duration": 20,
    "start_time": "2023-05-14T10:00:07.914Z"
   },
   {
    "duration": 61,
    "start_time": "2023-05-14T10:00:07.936Z"
   },
   {
    "duration": 8,
    "start_time": "2023-05-14T10:00:07.999Z"
   },
   {
    "duration": 21,
    "start_time": "2023-05-14T10:00:08.008Z"
   },
   {
    "duration": 54,
    "start_time": "2023-05-14T10:00:08.031Z"
   },
   {
    "duration": 19,
    "start_time": "2023-05-14T10:00:08.086Z"
   },
   {
    "duration": 212,
    "start_time": "2023-05-14T10:00:08.107Z"
   },
   {
    "duration": 599,
    "start_time": "2023-05-14T10:00:08.322Z"
   },
   {
    "duration": 895,
    "start_time": "2023-05-14T10:00:08.923Z"
   },
   {
    "duration": 16,
    "start_time": "2023-05-14T10:00:09.820Z"
   },
   {
    "duration": 1060,
    "start_time": "2023-05-14T10:00:09.838Z"
   },
   {
    "duration": 12,
    "start_time": "2023-05-14T10:00:10.901Z"
   },
   {
    "duration": 5,
    "start_time": "2023-05-14T10:00:10.915Z"
   },
   {
    "duration": 10,
    "start_time": "2023-05-14T10:00:10.922Z"
   },
   {
    "duration": 10,
    "start_time": "2023-05-14T10:00:10.934Z"
   },
   {
    "duration": 6,
    "start_time": "2023-05-14T10:00:10.946Z"
   },
   {
    "duration": 6,
    "start_time": "2023-05-14T10:07:08.012Z"
   },
   {
    "duration": 6,
    "start_time": "2023-05-14T10:07:52.422Z"
   },
   {
    "duration": 109,
    "start_time": "2023-05-14T10:08:09.213Z"
   },
   {
    "duration": 10,
    "start_time": "2023-05-14T10:08:14.312Z"
   },
   {
    "duration": 18,
    "start_time": "2023-05-14T10:08:31.197Z"
   },
   {
    "duration": 8,
    "start_time": "2023-05-14T10:08:40.036Z"
   },
   {
    "duration": 17,
    "start_time": "2023-05-14T10:09:35.638Z"
   },
   {
    "duration": 11,
    "start_time": "2023-05-14T10:09:51.736Z"
   },
   {
    "duration": 6,
    "start_time": "2023-05-14T10:11:26.412Z"
   },
   {
    "duration": 5,
    "start_time": "2023-05-14T10:11:31.096Z"
   },
   {
    "duration": 5,
    "start_time": "2023-05-14T10:11:34.348Z"
   },
   {
    "duration": 8,
    "start_time": "2023-05-14T10:11:42.089Z"
   },
   {
    "duration": 6,
    "start_time": "2023-05-14T10:11:45.642Z"
   },
   {
    "duration": 6,
    "start_time": "2023-05-14T10:11:50.395Z"
   },
   {
    "duration": 5,
    "start_time": "2023-05-14T10:11:53.196Z"
   },
   {
    "duration": 5,
    "start_time": "2023-05-14T10:11:56.085Z"
   },
   {
    "duration": 7,
    "start_time": "2023-05-14T10:14:27.058Z"
   },
   {
    "duration": 34,
    "start_time": "2023-05-14T10:14:32.906Z"
   },
   {
    "duration": 34,
    "start_time": "2023-05-14T10:14:46.809Z"
   },
   {
    "duration": 31,
    "start_time": "2023-05-14T10:14:52.697Z"
   },
   {
    "duration": 11,
    "start_time": "2023-05-14T10:17:00.552Z"
   },
   {
    "duration": 6,
    "start_time": "2023-05-14T10:17:36.145Z"
   },
   {
    "duration": 6,
    "start_time": "2023-05-14T10:17:40.153Z"
   },
   {
    "duration": 5,
    "start_time": "2023-05-14T10:17:46.524Z"
   },
   {
    "duration": 7,
    "start_time": "2023-05-14T10:17:59.288Z"
   },
   {
    "duration": 6,
    "start_time": "2023-05-14T10:18:05.477Z"
   },
   {
    "duration": 10,
    "start_time": "2023-05-14T10:18:10.888Z"
   },
   {
    "duration": 5,
    "start_time": "2023-05-14T10:18:14.318Z"
   },
   {
    "duration": 6,
    "start_time": "2023-05-14T10:18:22.256Z"
   },
   {
    "duration": 7,
    "start_time": "2023-05-14T10:18:25.657Z"
   },
   {
    "duration": 5,
    "start_time": "2023-05-14T10:18:28.710Z"
   },
   {
    "duration": 5,
    "start_time": "2023-05-14T10:18:31.355Z"
   },
   {
    "duration": 10,
    "start_time": "2023-05-14T10:19:20.010Z"
   },
   {
    "duration": 53,
    "start_time": "2023-05-14T10:19:29.907Z"
   },
   {
    "duration": 6,
    "start_time": "2023-05-14T10:20:09.322Z"
   },
   {
    "duration": 102,
    "start_time": "2023-05-14T10:31:04.725Z"
   },
   {
    "duration": 13,
    "start_time": "2023-05-14T10:31:31.196Z"
   },
   {
    "duration": 1444,
    "start_time": "2023-05-14T10:32:29.514Z"
   },
   {
    "duration": 807,
    "start_time": "2023-05-14T10:32:30.960Z"
   },
   {
    "duration": 110,
    "start_time": "2023-05-14T10:32:31.770Z"
   },
   {
    "duration": 22,
    "start_time": "2023-05-14T10:32:31.886Z"
   },
   {
    "duration": 5,
    "start_time": "2023-05-14T10:32:31.911Z"
   },
   {
    "duration": 26,
    "start_time": "2023-05-14T10:32:31.918Z"
   },
   {
    "duration": 20,
    "start_time": "2023-05-14T10:32:31.947Z"
   },
   {
    "duration": 33,
    "start_time": "2023-05-14T10:32:31.983Z"
   },
   {
    "duration": 9,
    "start_time": "2023-05-14T10:32:32.018Z"
   },
   {
    "duration": 32,
    "start_time": "2023-05-14T10:32:32.030Z"
   },
   {
    "duration": 46,
    "start_time": "2023-05-14T10:32:32.064Z"
   },
   {
    "duration": 21,
    "start_time": "2023-05-14T10:32:32.112Z"
   },
   {
    "duration": 260,
    "start_time": "2023-05-14T10:32:32.135Z"
   },
   {
    "duration": 604,
    "start_time": "2023-05-14T10:32:32.399Z"
   },
   {
    "duration": 946,
    "start_time": "2023-05-14T10:32:33.006Z"
   },
   {
    "duration": 42,
    "start_time": "2023-05-14T10:32:33.954Z"
   },
   {
    "duration": 1096,
    "start_time": "2023-05-14T10:32:34.001Z"
   },
   {
    "duration": 13,
    "start_time": "2023-05-14T10:32:35.100Z"
   },
   {
    "duration": 16,
    "start_time": "2023-05-14T10:32:35.116Z"
   },
   {
    "duration": 23,
    "start_time": "2023-05-14T10:32:35.134Z"
   },
   {
    "duration": 300,
    "start_time": "2023-05-14T10:32:35.159Z"
   },
   {
    "duration": 0,
    "start_time": "2023-05-14T10:32:35.461Z"
   },
   {
    "duration": 0,
    "start_time": "2023-05-14T10:32:35.462Z"
   },
   {
    "duration": 194,
    "start_time": "2023-05-14T10:33:09.795Z"
   },
   {
    "duration": 11,
    "start_time": "2023-05-14T10:39:06.110Z"
   },
   {
    "duration": 1450,
    "start_time": "2023-05-14T10:40:13.095Z"
   },
   {
    "duration": 785,
    "start_time": "2023-05-14T10:40:14.547Z"
   },
   {
    "duration": 95,
    "start_time": "2023-05-14T10:40:15.334Z"
   },
   {
    "duration": 8,
    "start_time": "2023-05-14T10:40:15.431Z"
   },
   {
    "duration": 24,
    "start_time": "2023-05-14T10:40:15.442Z"
   },
   {
    "duration": 29,
    "start_time": "2023-05-14T10:40:15.468Z"
   },
   {
    "duration": 30,
    "start_time": "2023-05-14T10:40:15.498Z"
   },
   {
    "duration": 24,
    "start_time": "2023-05-14T10:40:15.530Z"
   },
   {
    "duration": 20,
    "start_time": "2023-05-14T10:40:15.556Z"
   },
   {
    "duration": 46,
    "start_time": "2023-05-14T10:40:15.581Z"
   },
   {
    "duration": 37,
    "start_time": "2023-05-14T10:40:15.629Z"
   },
   {
    "duration": 23,
    "start_time": "2023-05-14T10:40:15.668Z"
   },
   {
    "duration": 279,
    "start_time": "2023-05-14T10:40:15.693Z"
   },
   {
    "duration": 628,
    "start_time": "2023-05-14T10:40:15.979Z"
   },
   {
    "duration": 896,
    "start_time": "2023-05-14T10:40:16.609Z"
   },
   {
    "duration": 35,
    "start_time": "2023-05-14T10:40:17.507Z"
   },
   {
    "duration": 1138,
    "start_time": "2023-05-14T10:40:17.546Z"
   },
   {
    "duration": 14,
    "start_time": "2023-05-14T10:40:18.691Z"
   },
   {
    "duration": 5,
    "start_time": "2023-05-14T10:40:18.707Z"
   },
   {
    "duration": 11,
    "start_time": "2023-05-14T10:40:18.714Z"
   },
   {
    "duration": 237,
    "start_time": "2023-05-14T10:40:18.727Z"
   },
   {
    "duration": 0,
    "start_time": "2023-05-14T10:40:18.966Z"
   },
   {
    "duration": 0,
    "start_time": "2023-05-14T10:40:18.968Z"
   },
   {
    "duration": 0,
    "start_time": "2023-05-14T10:40:18.970Z"
   },
   {
    "duration": 149,
    "start_time": "2023-05-14T10:41:18.958Z"
   },
   {
    "duration": 128,
    "start_time": "2023-05-14T10:41:39.152Z"
   },
   {
    "duration": 143,
    "start_time": "2023-05-14T10:41:53.713Z"
   },
   {
    "duration": 13,
    "start_time": "2023-05-14T10:42:37.863Z"
   },
   {
    "duration": 10,
    "start_time": "2023-05-14T10:42:46.713Z"
   },
   {
    "duration": 9,
    "start_time": "2023-05-14T10:42:51.005Z"
   },
   {
    "duration": 9,
    "start_time": "2023-05-14T10:42:57.450Z"
   },
   {
    "duration": 113,
    "start_time": "2023-05-14T10:43:16.642Z"
   },
   {
    "duration": 1464,
    "start_time": "2023-05-14T11:41:05.606Z"
   },
   {
    "duration": 821,
    "start_time": "2023-05-14T11:41:07.072Z"
   },
   {
    "duration": 70,
    "start_time": "2023-05-14T11:41:07.894Z"
   },
   {
    "duration": 16,
    "start_time": "2023-05-14T11:41:07.965Z"
   },
   {
    "duration": 4,
    "start_time": "2023-05-14T11:41:07.984Z"
   },
   {
    "duration": 11,
    "start_time": "2023-05-14T11:41:07.989Z"
   },
   {
    "duration": 16,
    "start_time": "2023-05-14T11:41:08.002Z"
   },
   {
    "duration": 65,
    "start_time": "2023-05-14T11:41:08.020Z"
   },
   {
    "duration": 9,
    "start_time": "2023-05-14T11:41:08.087Z"
   },
   {
    "duration": 21,
    "start_time": "2023-05-14T11:41:08.097Z"
   },
   {
    "duration": 58,
    "start_time": "2023-05-14T11:41:08.120Z"
   },
   {
    "duration": 19,
    "start_time": "2023-05-14T11:41:08.180Z"
   },
   {
    "duration": 218,
    "start_time": "2023-05-14T11:41:08.200Z"
   },
   {
    "duration": 547,
    "start_time": "2023-05-14T11:41:08.420Z"
   },
   {
    "duration": 882,
    "start_time": "2023-05-14T11:41:08.968Z"
   },
   {
    "duration": 28,
    "start_time": "2023-05-14T11:41:09.852Z"
   },
   {
    "duration": 984,
    "start_time": "2023-05-14T11:41:09.882Z"
   },
   {
    "duration": 18,
    "start_time": "2023-05-14T11:41:10.868Z"
   },
   {
    "duration": 5,
    "start_time": "2023-05-14T11:41:10.888Z"
   },
   {
    "duration": 20,
    "start_time": "2023-05-14T11:41:10.894Z"
   },
   {
    "duration": 17,
    "start_time": "2023-05-14T11:41:10.916Z"
   },
   {
    "duration": 10,
    "start_time": "2023-05-14T11:41:10.935Z"
   },
   {
    "duration": 108,
    "start_time": "2023-05-14T11:46:14.635Z"
   },
   {
    "duration": 119,
    "start_time": "2023-05-14T11:46:30.255Z"
   },
   {
    "duration": 34,
    "start_time": "2023-05-14T11:47:13.394Z"
   },
   {
    "duration": 6,
    "start_time": "2023-05-14T11:47:25.354Z"
   },
   {
    "duration": 18,
    "start_time": "2023-05-14T11:48:28.502Z"
   },
   {
    "duration": 9,
    "start_time": "2023-05-14T11:48:39.163Z"
   },
   {
    "duration": 12,
    "start_time": "2023-05-14T11:48:43.262Z"
   },
   {
    "duration": 89,
    "start_time": "2023-05-14T11:49:34.861Z"
   },
   {
    "duration": 17,
    "start_time": "2023-05-14T11:49:52.813Z"
   },
   {
    "duration": 16,
    "start_time": "2023-05-14T11:49:54.764Z"
   },
   {
    "duration": 14,
    "start_time": "2023-05-14T11:50:02.163Z"
   },
   {
    "duration": 18,
    "start_time": "2023-05-14T11:50:10.513Z"
   },
   {
    "duration": 14,
    "start_time": "2023-05-14T11:54:45.392Z"
   },
   {
    "duration": 3,
    "start_time": "2023-05-14T11:56:19.853Z"
   },
   {
    "duration": 16,
    "start_time": "2023-05-14T11:56:25.551Z"
   },
   {
    "duration": 4,
    "start_time": "2023-05-14T11:56:34.058Z"
   },
   {
    "duration": 14,
    "start_time": "2023-05-14T11:56:42.892Z"
   },
   {
    "duration": 16,
    "start_time": "2023-05-14T11:57:17.751Z"
   },
   {
    "duration": 5286,
    "start_time": "2023-05-14T11:57:27.627Z"
   },
   {
    "duration": 104,
    "start_time": "2023-05-14T11:58:44.651Z"
   },
   {
    "duration": 4,
    "start_time": "2023-05-14T11:59:50.192Z"
   },
   {
    "duration": 47710,
    "start_time": "2023-05-14T11:59:54.575Z"
   },
   {
    "duration": 47692,
    "start_time": "2023-05-14T12:00:58.759Z"
   },
   {
    "duration": 13370,
    "start_time": "2023-05-14T12:02:48.954Z"
   },
   {
    "duration": 1736,
    "start_time": "2023-05-14T12:03:08.890Z"
   },
   {
    "duration": 804,
    "start_time": "2023-05-14T12:03:10.628Z"
   },
   {
    "duration": 90,
    "start_time": "2023-05-14T12:03:11.434Z"
   },
   {
    "duration": 10,
    "start_time": "2023-05-14T12:03:11.526Z"
   },
   {
    "duration": 5,
    "start_time": "2023-05-14T12:03:11.538Z"
   },
   {
    "duration": 34,
    "start_time": "2023-05-14T12:03:11.544Z"
   },
   {
    "duration": 18,
    "start_time": "2023-05-14T12:03:11.580Z"
   },
   {
    "duration": 25,
    "start_time": "2023-05-14T12:03:11.599Z"
   },
   {
    "duration": 8,
    "start_time": "2023-05-14T12:03:11.626Z"
   },
   {
    "duration": 56,
    "start_time": "2023-05-14T12:03:11.635Z"
   },
   {
    "duration": 33,
    "start_time": "2023-05-14T12:03:11.693Z"
   },
   {
    "duration": 19,
    "start_time": "2023-05-14T12:03:11.728Z"
   },
   {
    "duration": 229,
    "start_time": "2023-05-14T12:03:11.749Z"
   },
   {
    "duration": 546,
    "start_time": "2023-05-14T12:03:11.981Z"
   },
   {
    "duration": 806,
    "start_time": "2023-05-14T12:03:12.529Z"
   },
   {
    "duration": 14,
    "start_time": "2023-05-14T12:03:13.337Z"
   },
   {
    "duration": 933,
    "start_time": "2023-05-14T12:03:13.353Z"
   },
   {
    "duration": 11,
    "start_time": "2023-05-14T12:03:14.288Z"
   },
   {
    "duration": 4,
    "start_time": "2023-05-14T12:03:14.300Z"
   },
   {
    "duration": 16,
    "start_time": "2023-05-14T12:03:14.306Z"
   },
   {
    "duration": 13778,
    "start_time": "2023-05-14T12:03:14.323Z"
   },
   {
    "duration": 5,
    "start_time": "2023-05-14T12:03:28.103Z"
   },
   {
    "duration": 19,
    "start_time": "2023-05-14T12:03:28.109Z"
   },
   {
    "duration": 7,
    "start_time": "2023-05-14T12:10:27.047Z"
   },
   {
    "duration": 2654,
    "start_time": "2023-05-14T12:10:33.493Z"
   },
   {
    "duration": 2404,
    "start_time": "2023-05-14T12:10:56.143Z"
   },
   {
    "duration": 2374,
    "start_time": "2023-05-14T12:11:07.108Z"
   },
   {
    "duration": 2340,
    "start_time": "2023-05-14T12:12:01.845Z"
   },
   {
    "duration": 21975,
    "start_time": "2023-05-14T12:12:54.926Z"
   },
   {
    "duration": 2268,
    "start_time": "2023-05-14T12:13:36.534Z"
   },
   {
    "duration": 21535,
    "start_time": "2023-05-14T12:16:36.269Z"
   },
   {
    "duration": 2402,
    "start_time": "2023-05-14T12:18:57.398Z"
   },
   {
    "duration": 21908,
    "start_time": "2023-05-14T12:22:11.136Z"
   },
   {
    "duration": 4489,
    "start_time": "2023-05-14T12:22:50.458Z"
   },
   {
    "duration": 4666,
    "start_time": "2023-05-14T12:24:07.515Z"
   },
   {
    "duration": 4680,
    "start_time": "2023-05-14T12:25:04.066Z"
   },
   {
    "duration": 4,
    "start_time": "2023-05-14T12:26:22.332Z"
   },
   {
    "duration": 4591,
    "start_time": "2023-05-14T12:26:28.893Z"
   },
   {
    "duration": 4,
    "start_time": "2023-05-14T12:27:33.493Z"
   },
   {
    "duration": 4594,
    "start_time": "2023-05-14T12:27:36.589Z"
   },
   {
    "duration": 5,
    "start_time": "2023-05-14T12:29:10.239Z"
   },
   {
    "duration": 2318,
    "start_time": "2023-05-14T12:29:13.808Z"
   },
   {
    "duration": 1369,
    "start_time": "2023-05-14T12:29:25.840Z"
   },
   {
    "duration": 806,
    "start_time": "2023-05-14T12:29:27.211Z"
   },
   {
    "duration": 88,
    "start_time": "2023-05-14T12:29:28.019Z"
   },
   {
    "duration": 8,
    "start_time": "2023-05-14T12:29:28.108Z"
   },
   {
    "duration": 12,
    "start_time": "2023-05-14T12:29:28.119Z"
   },
   {
    "duration": 18,
    "start_time": "2023-05-14T12:29:28.132Z"
   },
   {
    "duration": 28,
    "start_time": "2023-05-14T12:29:28.152Z"
   },
   {
    "duration": 25,
    "start_time": "2023-05-14T12:29:28.182Z"
   },
   {
    "duration": 17,
    "start_time": "2023-05-14T12:29:28.208Z"
   },
   {
    "duration": 25,
    "start_time": "2023-05-14T12:29:28.226Z"
   },
   {
    "duration": 52,
    "start_time": "2023-05-14T12:29:28.252Z"
   },
   {
    "duration": 19,
    "start_time": "2023-05-14T12:29:28.307Z"
   },
   {
    "duration": 211,
    "start_time": "2023-05-14T12:29:28.328Z"
   },
   {
    "duration": 524,
    "start_time": "2023-05-14T12:29:28.541Z"
   },
   {
    "duration": 830,
    "start_time": "2023-05-14T12:29:29.067Z"
   },
   {
    "duration": 16,
    "start_time": "2023-05-14T12:29:29.899Z"
   },
   {
    "duration": 989,
    "start_time": "2023-05-14T12:29:29.917Z"
   },
   {
    "duration": 11,
    "start_time": "2023-05-14T12:29:30.908Z"
   },
   {
    "duration": 25,
    "start_time": "2023-05-14T12:29:30.921Z"
   },
   {
    "duration": 90,
    "start_time": "2023-05-14T12:29:30.948Z"
   },
   {
    "duration": 192,
    "start_time": "2023-05-14T12:29:31.040Z"
   },
   {
    "duration": 0,
    "start_time": "2023-05-14T12:29:31.234Z"
   },
   {
    "duration": 0,
    "start_time": "2023-05-14T12:29:31.235Z"
   },
   {
    "duration": 0,
    "start_time": "2023-05-14T12:29:31.236Z"
   },
   {
    "duration": 413,
    "start_time": "2023-05-14T12:29:53.701Z"
   },
   {
    "duration": 5,
    "start_time": "2023-05-14T12:31:23.532Z"
   },
   {
    "duration": 1141,
    "start_time": "2023-05-14T12:33:18.545Z"
   },
   {
    "duration": 1094,
    "start_time": "2023-05-14T12:33:55.442Z"
   },
   {
    "duration": 5,
    "start_time": "2023-05-14T12:34:59.388Z"
   },
   {
    "duration": 1155,
    "start_time": "2023-05-14T12:35:01.188Z"
   },
   {
    "duration": 4,
    "start_time": "2023-05-14T12:35:17.304Z"
   },
   {
    "duration": 1091,
    "start_time": "2023-05-14T12:35:21.143Z"
   },
   {
    "duration": 4,
    "start_time": "2023-05-14T12:36:38.311Z"
   },
   {
    "duration": 1121,
    "start_time": "2023-05-14T12:36:40.559Z"
   },
   {
    "duration": 1075,
    "start_time": "2023-05-14T12:38:28.942Z"
   },
   {
    "duration": 13499,
    "start_time": "2023-05-14T12:38:35.608Z"
   },
   {
    "duration": 3446,
    "start_time": "2023-05-14T12:39:02.804Z"
   },
   {
    "duration": 4897,
    "start_time": "2023-05-14T12:39:18.829Z"
   },
   {
    "duration": 92,
    "start_time": "2023-05-14T12:40:46.132Z"
   },
   {
    "duration": 3,
    "start_time": "2023-05-14T12:43:23.445Z"
   },
   {
    "duration": 4913,
    "start_time": "2023-05-14T12:43:27.313Z"
   },
   {
    "duration": 5,
    "start_time": "2023-05-14T12:43:37.548Z"
   },
   {
    "duration": 13546,
    "start_time": "2023-05-14T12:43:40.801Z"
   },
   {
    "duration": 4,
    "start_time": "2023-05-14T12:47:09.851Z"
   },
   {
    "duration": 13653,
    "start_time": "2023-05-14T12:47:12.851Z"
   },
   {
    "duration": 5,
    "start_time": "2023-05-14T12:48:51.064Z"
   },
   {
    "duration": 13644,
    "start_time": "2023-05-14T12:49:07.948Z"
   },
   {
    "duration": 13541,
    "start_time": "2023-05-14T12:54:55.401Z"
   },
   {
    "duration": 398,
    "start_time": "2023-05-14T12:58:14.444Z"
   },
   {
    "duration": 4,
    "start_time": "2023-05-14T12:58:19.012Z"
   },
   {
    "duration": 13852,
    "start_time": "2023-05-14T12:58:21.779Z"
   },
   {
    "duration": 13593,
    "start_time": "2023-05-14T12:59:37.679Z"
   },
   {
    "duration": 406,
    "start_time": "2023-05-14T13:00:39.297Z"
   },
   {
    "duration": 4,
    "start_time": "2023-05-14T13:00:43.769Z"
   },
   {
    "duration": 13754,
    "start_time": "2023-05-14T13:00:45.426Z"
   },
   {
    "duration": 3,
    "start_time": "2023-05-14T13:01:43.296Z"
   },
   {
    "duration": 13816,
    "start_time": "2023-05-14T13:01:45.211Z"
   },
   {
    "duration": 12457,
    "start_time": "2023-05-14T13:05:10.094Z"
   },
   {
    "duration": 15,
    "start_time": "2023-05-14T13:07:14.072Z"
   },
   {
    "duration": 15,
    "start_time": "2023-05-14T13:07:27.168Z"
   },
   {
    "duration": 13,
    "start_time": "2023-05-14T13:08:12.281Z"
   },
   {
    "duration": 1466,
    "start_time": "2023-05-14T17:12:14.551Z"
   },
   {
    "duration": 2414,
    "start_time": "2023-05-14T17:12:16.019Z"
   },
   {
    "duration": 71,
    "start_time": "2023-05-14T17:12:18.434Z"
   },
   {
    "duration": 10,
    "start_time": "2023-05-14T17:12:18.507Z"
   },
   {
    "duration": 21,
    "start_time": "2023-05-14T17:12:18.518Z"
   },
   {
    "duration": 23,
    "start_time": "2023-05-14T17:12:18.541Z"
   },
   {
    "duration": 21,
    "start_time": "2023-05-14T17:12:18.565Z"
   },
   {
    "duration": 26,
    "start_time": "2023-05-14T17:12:18.588Z"
   },
   {
    "duration": 7,
    "start_time": "2023-05-14T17:12:18.615Z"
   },
   {
    "duration": 27,
    "start_time": "2023-05-14T17:12:18.624Z"
   },
   {
    "duration": 32,
    "start_time": "2023-05-14T17:12:18.653Z"
   },
   {
    "duration": 15,
    "start_time": "2023-05-14T17:12:18.687Z"
   },
   {
    "duration": 195,
    "start_time": "2023-05-14T17:12:18.704Z"
   },
   {
    "duration": 457,
    "start_time": "2023-05-14T17:12:18.900Z"
   },
   {
    "duration": 719,
    "start_time": "2023-05-14T17:12:19.358Z"
   },
   {
    "duration": 13,
    "start_time": "2023-05-14T17:12:20.078Z"
   },
   {
    "duration": 836,
    "start_time": "2023-05-14T17:12:20.092Z"
   },
   {
    "duration": 14,
    "start_time": "2023-05-14T17:12:20.929Z"
   },
   {
    "duration": 8,
    "start_time": "2023-05-14T17:12:20.945Z"
   },
   {
    "duration": 9,
    "start_time": "2023-05-14T17:12:20.954Z"
   },
   {
    "duration": 14400,
    "start_time": "2023-05-14T17:12:20.964Z"
   },
   {
    "duration": 1635,
    "start_time": "2023-05-15T02:41:58.237Z"
   },
   {
    "duration": 2698,
    "start_time": "2023-05-15T02:41:59.875Z"
   },
   {
    "duration": 145,
    "start_time": "2023-05-15T02:42:02.576Z"
   },
   {
    "duration": 13,
    "start_time": "2023-05-15T02:42:02.724Z"
   },
   {
    "duration": 54,
    "start_time": "2023-05-15T02:42:02.740Z"
   },
   {
    "duration": 29,
    "start_time": "2023-05-15T02:42:02.796Z"
   },
   {
    "duration": 45,
    "start_time": "2023-05-15T02:42:02.827Z"
   },
   {
    "duration": 31,
    "start_time": "2023-05-15T02:42:02.873Z"
   },
   {
    "duration": 14,
    "start_time": "2023-05-15T02:42:02.906Z"
   },
   {
    "duration": 44,
    "start_time": "2023-05-15T02:42:02.921Z"
   },
   {
    "duration": 47,
    "start_time": "2023-05-15T02:42:02.966Z"
   },
   {
    "duration": 38,
    "start_time": "2023-05-15T02:42:03.015Z"
   },
   {
    "duration": 272,
    "start_time": "2023-05-15T02:42:03.056Z"
   },
   {
    "duration": 620,
    "start_time": "2023-05-15T02:42:03.330Z"
   },
   {
    "duration": 1016,
    "start_time": "2023-05-15T02:42:03.952Z"
   },
   {
    "duration": 22,
    "start_time": "2023-05-15T02:42:04.969Z"
   },
   {
    "duration": 1151,
    "start_time": "2023-05-15T02:42:04.993Z"
   },
   {
    "duration": 14,
    "start_time": "2023-05-15T02:42:06.146Z"
   },
   {
    "duration": 32,
    "start_time": "2023-05-15T02:42:06.178Z"
   },
   {
    "duration": 35,
    "start_time": "2023-05-15T02:42:06.211Z"
   },
   {
    "duration": 13893,
    "start_time": "2023-05-15T02:42:06.248Z"
   },
   {
    "duration": 2458821,
    "start_time": "2023-05-15T02:42:20.142Z"
   },
   {
    "duration": 125,
    "start_time": "2023-05-15T03:23:18.971Z"
   },
   {
    "duration": 0,
    "start_time": "2023-05-15T03:23:19.098Z"
   },
   {
    "duration": 0,
    "start_time": "2023-05-15T03:23:19.099Z"
   },
   {
    "duration": 0,
    "start_time": "2023-05-15T03:23:19.100Z"
   },
   {
    "duration": 22,
    "start_time": "2023-05-15T03:25:31.521Z"
   },
   {
    "duration": 24,
    "start_time": "2023-05-15T03:25:43.275Z"
   },
   {
    "duration": 39769,
    "start_time": "2023-05-15T03:29:35.440Z"
   },
   {
    "duration": 5,
    "start_time": "2023-05-15T03:30:35.643Z"
   },
   {
    "duration": 34,
    "start_time": "2023-05-15T03:30:40.998Z"
   },
   {
    "duration": 10,
    "start_time": "2023-05-15T03:32:52.415Z"
   },
   {
    "duration": 50,
    "start_time": "2023-05-15T03:39:32.701Z"
   },
   {
    "duration": 92,
    "start_time": "2023-05-15T03:41:34.655Z"
   },
   {
    "duration": 307,
    "start_time": "2023-05-15T03:48:06.041Z"
   },
   {
    "duration": 249,
    "start_time": "2023-05-15T03:48:14.129Z"
   },
   {
    "duration": 602,
    "start_time": "2023-05-15T03:48:41.739Z"
   },
   {
    "duration": 38,
    "start_time": "2023-05-15T03:49:09.622Z"
   },
   {
    "duration": 10,
    "start_time": "2023-05-15T03:49:22.231Z"
   },
   {
    "duration": 62,
    "start_time": "2023-05-15T03:50:30.413Z"
   },
   {
    "duration": 50,
    "start_time": "2023-05-15T03:50:34.046Z"
   },
   {
    "duration": 8,
    "start_time": "2023-05-15T03:51:43.706Z"
   },
   {
    "duration": 8,
    "start_time": "2023-05-15T03:51:58.522Z"
   },
   {
    "duration": 8,
    "start_time": "2023-05-15T03:52:40.019Z"
   },
   {
    "duration": 436,
    "start_time": "2023-05-15T03:52:44.884Z"
   },
   {
    "duration": 548,
    "start_time": "2023-05-15T03:53:06.336Z"
   },
   {
    "duration": 474,
    "start_time": "2023-05-15T03:53:21.049Z"
   },
   {
    "duration": 483,
    "start_time": "2023-05-15T03:59:20.145Z"
   },
   {
    "duration": 501,
    "start_time": "2023-05-15T03:59:29.556Z"
   },
   {
    "duration": 17,
    "start_time": "2023-05-15T03:59:59.968Z"
   },
   {
    "duration": 13,
    "start_time": "2023-05-15T04:02:33.110Z"
   },
   {
    "duration": 554,
    "start_time": "2023-05-15T04:02:40.146Z"
   },
   {
    "duration": 12,
    "start_time": "2023-05-15T04:02:53.086Z"
   },
   {
    "duration": 10,
    "start_time": "2023-05-15T04:03:55.463Z"
   },
   {
    "duration": 390,
    "start_time": "2023-05-15T04:04:01.913Z"
   },
   {
    "duration": 463,
    "start_time": "2023-05-15T04:05:54.729Z"
   },
   {
    "duration": 395,
    "start_time": "2023-05-15T04:06:03.994Z"
   },
   {
    "duration": 455,
    "start_time": "2023-05-15T04:06:24.858Z"
   },
   {
    "duration": 447,
    "start_time": "2023-05-15T04:06:30.051Z"
   },
   {
    "duration": 8,
    "start_time": "2023-05-15T04:06:45.905Z"
   },
   {
    "duration": 7,
    "start_time": "2023-05-15T04:06:53.424Z"
   },
   {
    "duration": 7,
    "start_time": "2023-05-15T04:06:58.057Z"
   },
   {
    "duration": 434,
    "start_time": "2023-05-15T04:07:03.478Z"
   },
   {
    "duration": 434,
    "start_time": "2023-05-15T04:07:06.153Z"
   },
   {
    "duration": 7,
    "start_time": "2023-05-15T04:07:14.046Z"
   },
   {
    "duration": 12,
    "start_time": "2023-05-15T04:07:17.365Z"
   },
   {
    "duration": 1735,
    "start_time": "2023-05-15T04:07:36.669Z"
   },
   {
    "duration": 908,
    "start_time": "2023-05-15T04:07:38.407Z"
   },
   {
    "duration": 117,
    "start_time": "2023-05-15T04:07:39.317Z"
   },
   {
    "duration": 10,
    "start_time": "2023-05-15T04:07:39.436Z"
   },
   {
    "duration": 11,
    "start_time": "2023-05-15T04:07:39.449Z"
   },
   {
    "duration": 28,
    "start_time": "2023-05-15T04:07:39.462Z"
   },
   {
    "duration": 45,
    "start_time": "2023-05-15T04:07:39.492Z"
   },
   {
    "duration": 38,
    "start_time": "2023-05-15T04:07:39.539Z"
   },
   {
    "duration": 13,
    "start_time": "2023-05-15T04:07:39.584Z"
   },
   {
    "duration": 38,
    "start_time": "2023-05-15T04:07:39.604Z"
   },
   {
    "duration": 55,
    "start_time": "2023-05-15T04:07:39.644Z"
   },
   {
    "duration": 25,
    "start_time": "2023-05-15T04:07:39.705Z"
   },
   {
    "duration": 266,
    "start_time": "2023-05-15T04:07:39.733Z"
   },
   {
    "duration": 707,
    "start_time": "2023-05-15T04:07:40.004Z"
   },
   {
    "duration": 1008,
    "start_time": "2023-05-15T04:07:40.714Z"
   },
   {
    "duration": 16,
    "start_time": "2023-05-15T04:07:41.724Z"
   },
   {
    "duration": 1159,
    "start_time": "2023-05-15T04:07:41.743Z"
   },
   {
    "duration": 13,
    "start_time": "2023-05-15T04:07:42.906Z"
   },
   {
    "duration": 22,
    "start_time": "2023-05-15T04:07:42.921Z"
   },
   {
    "duration": 18,
    "start_time": "2023-05-15T04:07:42.945Z"
   },
   {
    "duration": 14493,
    "start_time": "2023-05-15T04:07:42.965Z"
   },
   {
    "duration": 1618,
    "start_time": "2023-05-15T04:18:10.956Z"
   },
   {
    "duration": 852,
    "start_time": "2023-05-15T04:18:12.582Z"
   },
   {
    "duration": 104,
    "start_time": "2023-05-15T04:18:13.436Z"
   },
   {
    "duration": 9,
    "start_time": "2023-05-15T04:18:13.542Z"
   },
   {
    "duration": 21,
    "start_time": "2023-05-15T04:18:13.554Z"
   },
   {
    "duration": 25,
    "start_time": "2023-05-15T04:18:13.578Z"
   },
   {
    "duration": 18,
    "start_time": "2023-05-15T04:18:13.605Z"
   },
   {
    "duration": 49,
    "start_time": "2023-05-15T04:18:13.625Z"
   },
   {
    "duration": 15,
    "start_time": "2023-05-15T04:18:13.676Z"
   },
   {
    "duration": 30,
    "start_time": "2023-05-15T04:18:13.696Z"
   },
   {
    "duration": 65,
    "start_time": "2023-05-15T04:18:13.729Z"
   },
   {
    "duration": 26,
    "start_time": "2023-05-15T04:18:13.797Z"
   },
   {
    "duration": 269,
    "start_time": "2023-05-15T04:18:13.826Z"
   },
   {
    "duration": 707,
    "start_time": "2023-05-15T04:18:14.099Z"
   },
   {
    "duration": 1049,
    "start_time": "2023-05-15T04:18:14.812Z"
   },
   {
    "duration": 30,
    "start_time": "2023-05-15T04:18:15.865Z"
   },
   {
    "duration": 1166,
    "start_time": "2023-05-15T04:18:15.898Z"
   },
   {
    "duration": 18,
    "start_time": "2023-05-15T04:18:17.075Z"
   },
   {
    "duration": 15,
    "start_time": "2023-05-15T04:18:17.094Z"
   },
   {
    "duration": 11,
    "start_time": "2023-05-15T04:18:17.111Z"
   },
   {
    "duration": 13885,
    "start_time": "2023-05-15T04:18:17.124Z"
   },
   {
    "duration": 3,
    "start_time": "2023-05-15T04:18:31.012Z"
   },
   {
    "duration": 151,
    "start_time": "2023-05-15T04:18:31.018Z"
   },
   {
    "duration": 0,
    "start_time": "2023-05-15T04:18:31.176Z"
   },
   {
    "duration": 0,
    "start_time": "2023-05-15T04:18:31.177Z"
   },
   {
    "duration": 0,
    "start_time": "2023-05-15T04:18:31.178Z"
   },
   {
    "duration": 0,
    "start_time": "2023-05-15T04:18:31.185Z"
   },
   {
    "duration": 0,
    "start_time": "2023-05-15T04:18:31.187Z"
   },
   {
    "duration": 0,
    "start_time": "2023-05-15T04:18:31.188Z"
   },
   {
    "duration": 0,
    "start_time": "2023-05-15T04:18:31.189Z"
   },
   {
    "duration": 12,
    "start_time": "2023-05-15T04:18:42.925Z"
   },
   {
    "duration": 2024,
    "start_time": "2023-05-15T04:18:48.462Z"
   },
   {
    "duration": 5,
    "start_time": "2023-05-15T04:18:58.186Z"
   },
   {
    "duration": 11,
    "start_time": "2023-05-15T04:18:58.403Z"
   },
   {
    "duration": 7,
    "start_time": "2023-05-15T04:18:58.589Z"
   },
   {
    "duration": 9,
    "start_time": "2023-05-15T04:18:58.888Z"
   },
   {
    "duration": 421,
    "start_time": "2023-05-15T04:18:59.110Z"
   },
   {
    "duration": 345,
    "start_time": "2023-05-15T04:18:59.746Z"
   },
   {
    "duration": 21,
    "start_time": "2023-05-15T04:19:36.867Z"
   },
   {
    "duration": 13,
    "start_time": "2023-05-15T04:19:52.077Z"
   },
   {
    "duration": 17,
    "start_time": "2023-05-15T04:20:49.062Z"
   },
   {
    "duration": 10,
    "start_time": "2023-05-15T04:20:54.301Z"
   },
   {
    "duration": 11,
    "start_time": "2023-05-15T04:21:03.309Z"
   },
   {
    "duration": 10,
    "start_time": "2023-05-15T04:21:28.560Z"
   },
   {
    "duration": 424,
    "start_time": "2023-05-15T04:21:33.146Z"
   },
   {
    "duration": 863,
    "start_time": "2023-05-15T04:21:38.646Z"
   },
   {
    "duration": 10,
    "start_time": "2023-05-15T04:21:49.958Z"
   },
   {
    "duration": 12,
    "start_time": "2023-05-15T04:21:59.741Z"
   },
   {
    "duration": 12,
    "start_time": "2023-05-15T04:22:06.107Z"
   },
   {
    "duration": 1572,
    "start_time": "2023-05-15T05:34:16.633Z"
   },
   {
    "duration": 2358,
    "start_time": "2023-05-15T05:34:18.208Z"
   },
   {
    "duration": 86,
    "start_time": "2023-05-15T05:34:20.568Z"
   },
   {
    "duration": 8,
    "start_time": "2023-05-15T05:34:20.656Z"
   },
   {
    "duration": 16,
    "start_time": "2023-05-15T05:34:20.666Z"
   },
   {
    "duration": 14,
    "start_time": "2023-05-15T05:34:20.684Z"
   },
   {
    "duration": 46,
    "start_time": "2023-05-15T05:34:20.700Z"
   },
   {
    "duration": 25,
    "start_time": "2023-05-15T05:34:20.748Z"
   },
   {
    "duration": 24,
    "start_time": "2023-05-15T05:34:20.774Z"
   },
   {
    "duration": 36,
    "start_time": "2023-05-15T05:34:20.801Z"
   },
   {
    "duration": 32,
    "start_time": "2023-05-15T05:34:20.838Z"
   },
   {
    "duration": 23,
    "start_time": "2023-05-15T05:34:20.873Z"
   },
   {
    "duration": 244,
    "start_time": "2023-05-15T05:34:20.898Z"
   },
   {
    "duration": 516,
    "start_time": "2023-05-15T05:34:21.144Z"
   },
   {
    "duration": 776,
    "start_time": "2023-05-15T05:34:21.662Z"
   },
   {
    "duration": 14,
    "start_time": "2023-05-15T05:34:22.440Z"
   },
   {
    "duration": 929,
    "start_time": "2023-05-15T05:34:22.456Z"
   },
   {
    "duration": 12,
    "start_time": "2023-05-15T05:34:23.387Z"
   },
   {
    "duration": 34,
    "start_time": "2023-05-15T05:34:23.401Z"
   },
   {
    "duration": 30,
    "start_time": "2023-05-15T05:34:23.437Z"
   },
   {
    "duration": 12858,
    "start_time": "2023-05-15T05:34:23.469Z"
   },
   {
    "duration": 3,
    "start_time": "2023-05-15T05:34:36.329Z"
   },
   {
    "duration": 2390,
    "start_time": "2023-05-15T05:34:36.335Z"
   },
   {
    "duration": 6,
    "start_time": "2023-05-15T05:34:38.727Z"
   },
   {
    "duration": 18,
    "start_time": "2023-05-15T05:34:38.735Z"
   },
   {
    "duration": 11,
    "start_time": "2023-05-15T05:34:38.824Z"
   },
   {
    "duration": 15,
    "start_time": "2023-05-15T05:34:38.838Z"
   },
   {
    "duration": 439,
    "start_time": "2023-05-15T05:34:38.857Z"
   },
   {
    "duration": 326,
    "start_time": "2023-05-15T05:34:39.298Z"
   },
   {
    "duration": 99,
    "start_time": "2023-05-15T05:34:39.627Z"
   },
   {
    "duration": 1328,
    "start_time": "2023-05-15T05:35:39.645Z"
   },
   {
    "duration": 800,
    "start_time": "2023-05-15T05:35:40.975Z"
   },
   {
    "duration": 84,
    "start_time": "2023-05-15T05:35:41.777Z"
   },
   {
    "duration": 8,
    "start_time": "2023-05-15T05:35:41.863Z"
   },
   {
    "duration": 5,
    "start_time": "2023-05-15T05:35:41.874Z"
   },
   {
    "duration": 23,
    "start_time": "2023-05-15T05:35:41.881Z"
   },
   {
    "duration": 32,
    "start_time": "2023-05-15T05:35:41.906Z"
   },
   {
    "duration": 23,
    "start_time": "2023-05-15T05:35:41.940Z"
   },
   {
    "duration": 9,
    "start_time": "2023-05-15T05:35:41.965Z"
   },
   {
    "duration": 50,
    "start_time": "2023-05-15T05:35:41.975Z"
   },
   {
    "duration": 34,
    "start_time": "2023-05-15T05:35:42.026Z"
   },
   {
    "duration": 21,
    "start_time": "2023-05-15T05:35:42.062Z"
   },
   {
    "duration": 242,
    "start_time": "2023-05-15T05:35:42.085Z"
   },
   {
    "duration": 547,
    "start_time": "2023-05-15T05:35:42.330Z"
   },
   {
    "duration": 906,
    "start_time": "2023-05-15T05:35:42.879Z"
   },
   {
    "duration": 17,
    "start_time": "2023-05-15T05:35:43.788Z"
   },
   {
    "duration": 1062,
    "start_time": "2023-05-15T05:35:43.807Z"
   },
   {
    "duration": 22,
    "start_time": "2023-05-15T05:35:44.872Z"
   },
   {
    "duration": 8,
    "start_time": "2023-05-15T05:35:44.898Z"
   },
   {
    "duration": 8,
    "start_time": "2023-05-15T05:35:44.924Z"
   },
   {
    "duration": 13100,
    "start_time": "2023-05-15T05:35:44.934Z"
   },
   {
    "duration": 3737965,
    "start_time": "2023-05-15T05:35:58.036Z"
   },
   {
    "duration": 2530,
    "start_time": "2023-05-15T06:38:16.002Z"
   },
   {
    "duration": 5,
    "start_time": "2023-05-15T06:38:18.537Z"
   },
   {
    "duration": 38,
    "start_time": "2023-05-15T06:38:18.548Z"
   },
   {
    "duration": 40,
    "start_time": "2023-05-15T06:38:18.588Z"
   },
   {
    "duration": 60,
    "start_time": "2023-05-15T06:38:18.629Z"
   },
   {
    "duration": 408,
    "start_time": "2023-05-15T06:38:18.690Z"
   },
   {
    "duration": 632,
    "start_time": "2023-05-15T06:38:19.100Z"
   },
   {
    "duration": 16,
    "start_time": "2023-05-15T06:38:19.744Z"
   },
   {
    "duration": 4,
    "start_time": "2023-05-15T07:11:53.178Z"
   },
   {
    "duration": 7,
    "start_time": "2023-05-15T07:11:58.742Z"
   },
   {
    "duration": 11,
    "start_time": "2023-05-15T07:12:00.554Z"
   },
   {
    "duration": 10336,
    "start_time": "2023-05-15T07:12:05.050Z"
   },
   {
    "duration": 1714,
    "start_time": "2023-05-15T07:12:28.912Z"
   },
   {
    "duration": 14,
    "start_time": "2023-05-15T07:12:40.602Z"
   },
   {
    "duration": 1503,
    "start_time": "2023-05-15T07:12:47.633Z"
   },
   {
    "duration": 14,
    "start_time": "2023-05-15T07:16:11.344Z"
   },
   {
    "duration": 1145,
    "start_time": "2023-05-15T07:16:14.080Z"
   },
   {
    "duration": 129,
    "start_time": "2023-05-15T07:16:36.119Z"
   },
   {
    "duration": 11,
    "start_time": "2023-05-15T07:17:00.779Z"
   },
   {
    "duration": 294,
    "start_time": "2023-05-15T07:17:18.392Z"
   },
   {
    "duration": 1636,
    "start_time": "2023-05-15T07:17:50.751Z"
   },
   {
    "duration": 724,
    "start_time": "2023-05-15T07:17:52.389Z"
   },
   {
    "duration": 74,
    "start_time": "2023-05-15T07:17:53.115Z"
   },
   {
    "duration": 8,
    "start_time": "2023-05-15T07:17:53.190Z"
   },
   {
    "duration": 30,
    "start_time": "2023-05-15T07:17:53.200Z"
   },
   {
    "duration": 18,
    "start_time": "2023-05-15T07:17:53.232Z"
   },
   {
    "duration": 17,
    "start_time": "2023-05-15T07:17:53.253Z"
   },
   {
    "duration": 25,
    "start_time": "2023-05-15T07:17:53.271Z"
   },
   {
    "duration": 32,
    "start_time": "2023-05-15T07:17:53.297Z"
   },
   {
    "duration": 20,
    "start_time": "2023-05-15T07:17:53.333Z"
   },
   {
    "duration": 31,
    "start_time": "2023-05-15T07:17:53.355Z"
   },
   {
    "duration": 42,
    "start_time": "2023-05-15T07:17:53.388Z"
   },
   {
    "duration": 195,
    "start_time": "2023-05-15T07:17:53.432Z"
   },
   {
    "duration": 518,
    "start_time": "2023-05-15T07:17:53.629Z"
   },
   {
    "duration": 779,
    "start_time": "2023-05-15T07:17:54.149Z"
   },
   {
    "duration": 17,
    "start_time": "2023-05-15T07:17:54.930Z"
   },
   {
    "duration": 866,
    "start_time": "2023-05-15T07:17:54.948Z"
   },
   {
    "duration": 15,
    "start_time": "2023-05-15T07:17:55.816Z"
   },
   {
    "duration": 4,
    "start_time": "2023-05-15T07:17:55.832Z"
   },
   {
    "duration": 11,
    "start_time": "2023-05-15T07:17:55.838Z"
   },
   {
    "duration": 27,
    "start_time": "2023-05-15T07:17:55.850Z"
   },
   {
    "duration": 12264,
    "start_time": "2023-05-15T07:17:55.878Z"
   },
   {
    "duration": 2,
    "start_time": "2023-05-15T07:18:08.144Z"
   },
   {
    "duration": 1980,
    "start_time": "2023-05-15T07:18:08.148Z"
   },
   {
    "duration": 6,
    "start_time": "2023-05-15T07:18:10.138Z"
   },
   {
    "duration": 14,
    "start_time": "2023-05-15T07:18:10.146Z"
   },
   {
    "duration": 7,
    "start_time": "2023-05-15T07:18:10.162Z"
   },
   {
    "duration": 14,
    "start_time": "2023-05-15T07:18:10.172Z"
   },
   {
    "duration": 528,
    "start_time": "2023-05-15T07:18:10.188Z"
   },
   {
    "duration": 0,
    "start_time": "2023-05-15T07:18:10.718Z"
   },
   {
    "duration": 0,
    "start_time": "2023-05-15T07:18:10.719Z"
   },
   {
    "duration": 9,
    "start_time": "2023-05-15T07:20:09.326Z"
   },
   {
    "duration": 9,
    "start_time": "2023-05-15T07:21:43.190Z"
   },
   {
    "duration": 8,
    "start_time": "2023-05-15T07:22:16.453Z"
   },
   {
    "duration": 5,
    "start_time": "2023-05-15T07:22:19.900Z"
   },
   {
    "duration": 13,
    "start_time": "2023-05-15T07:22:20.804Z"
   },
   {
    "duration": 5,
    "start_time": "2023-05-15T07:22:36.484Z"
   },
   {
    "duration": 13,
    "start_time": "2023-05-15T07:22:37.804Z"
   },
   {
    "duration": 365,
    "start_time": "2023-05-15T07:22:41.578Z"
   },
   {
    "duration": 521,
    "start_time": "2023-05-15T07:22:55.908Z"
   },
   {
    "duration": 10,
    "start_time": "2023-05-15T07:23:01.055Z"
   },
   {
    "duration": 1664,
    "start_time": "2023-05-15T07:30:12.138Z"
   },
   {
    "duration": 784,
    "start_time": "2023-05-15T07:30:13.805Z"
   },
   {
    "duration": 82,
    "start_time": "2023-05-15T07:30:14.591Z"
   },
   {
    "duration": 8,
    "start_time": "2023-05-15T07:30:14.675Z"
   },
   {
    "duration": 13,
    "start_time": "2023-05-15T07:30:14.685Z"
   },
   {
    "duration": 13,
    "start_time": "2023-05-15T07:30:14.699Z"
   },
   {
    "duration": 23,
    "start_time": "2023-05-15T07:30:14.713Z"
   },
   {
    "duration": 38,
    "start_time": "2023-05-15T07:30:14.737Z"
   },
   {
    "duration": 10,
    "start_time": "2023-05-15T07:30:14.779Z"
   },
   {
    "duration": 41,
    "start_time": "2023-05-15T07:30:14.791Z"
   },
   {
    "duration": 40,
    "start_time": "2023-05-15T07:30:14.834Z"
   },
   {
    "duration": 24,
    "start_time": "2023-05-15T07:30:14.877Z"
   },
   {
    "duration": 224,
    "start_time": "2023-05-15T07:30:14.903Z"
   },
   {
    "duration": 553,
    "start_time": "2023-05-15T07:30:15.130Z"
   },
   {
    "duration": 798,
    "start_time": "2023-05-15T07:30:15.685Z"
   },
   {
    "duration": 14,
    "start_time": "2023-05-15T07:30:16.485Z"
   },
   {
    "duration": 930,
    "start_time": "2023-05-15T07:30:16.501Z"
   },
   {
    "duration": 16,
    "start_time": "2023-05-15T07:30:17.433Z"
   },
   {
    "duration": 23,
    "start_time": "2023-05-15T07:30:17.450Z"
   },
   {
    "duration": 13,
    "start_time": "2023-05-15T07:30:17.475Z"
   },
   {
    "duration": 41,
    "start_time": "2023-05-15T07:30:17.490Z"
   },
   {
    "duration": 12731,
    "start_time": "2023-05-15T07:30:17.533Z"
   },
   {
    "duration": 3,
    "start_time": "2023-05-15T07:30:30.266Z"
   },
   {
    "duration": 2158,
    "start_time": "2023-05-15T07:30:30.270Z"
   },
   {
    "duration": 8,
    "start_time": "2023-05-15T07:30:32.431Z"
   },
   {
    "duration": 34,
    "start_time": "2023-05-15T07:30:32.524Z"
   },
   {
    "duration": 32,
    "start_time": "2023-05-15T07:30:32.560Z"
   },
   {
    "duration": 15,
    "start_time": "2023-05-15T07:30:32.593Z"
   },
   {
    "duration": 34,
    "start_time": "2023-05-15T07:30:32.610Z"
   },
   {
    "duration": 389,
    "start_time": "2023-05-15T07:30:32.645Z"
   },
   {
    "duration": 95,
    "start_time": "2023-05-15T07:30:33.037Z"
   },
   {
    "duration": 2009,
    "start_time": "2023-05-15T07:30:57.912Z"
   },
   {
    "duration": 772,
    "start_time": "2023-05-15T07:30:59.923Z"
   },
   {
    "duration": 77,
    "start_time": "2023-05-15T07:31:00.696Z"
   },
   {
    "duration": 7,
    "start_time": "2023-05-15T07:31:00.775Z"
   },
   {
    "duration": 45,
    "start_time": "2023-05-15T07:31:00.785Z"
   },
   {
    "duration": 34,
    "start_time": "2023-05-15T07:31:00.832Z"
   },
   {
    "duration": 38,
    "start_time": "2023-05-15T07:31:00.868Z"
   },
   {
    "duration": 57,
    "start_time": "2023-05-15T07:31:00.907Z"
   },
   {
    "duration": 51,
    "start_time": "2023-05-15T07:31:00.966Z"
   },
   {
    "duration": 54,
    "start_time": "2023-05-15T07:31:01.019Z"
   },
   {
    "duration": 68,
    "start_time": "2023-05-15T07:31:01.074Z"
   },
   {
    "duration": 107,
    "start_time": "2023-05-15T07:31:01.143Z"
   },
   {
    "duration": 372,
    "start_time": "2023-05-15T07:31:01.252Z"
   },
   {
    "duration": 547,
    "start_time": "2023-05-15T07:31:01.628Z"
   },
   {
    "duration": 795,
    "start_time": "2023-05-15T07:31:02.177Z"
   },
   {
    "duration": 14,
    "start_time": "2023-05-15T07:31:02.973Z"
   },
   {
    "duration": 947,
    "start_time": "2023-05-15T07:31:02.988Z"
   },
   {
    "duration": 11,
    "start_time": "2023-05-15T07:31:03.939Z"
   },
   {
    "duration": 25,
    "start_time": "2023-05-15T07:31:03.952Z"
   },
   {
    "duration": 16,
    "start_time": "2023-05-15T07:31:03.979Z"
   },
   {
    "duration": 55,
    "start_time": "2023-05-15T07:31:03.996Z"
   },
   {
    "duration": 12575,
    "start_time": "2023-05-15T07:31:04.053Z"
   },
   {
    "duration": 1958058,
    "start_time": "2023-05-15T07:31:16.630Z"
   },
   {
    "duration": 1435,
    "start_time": "2023-05-15T08:03:54.690Z"
   },
   {
    "duration": 4,
    "start_time": "2023-05-15T08:03:56.128Z"
   },
   {
    "duration": 14,
    "start_time": "2023-05-15T08:03:56.134Z"
   },
   {
    "duration": 81,
    "start_time": "2023-05-15T08:03:56.150Z"
   },
   {
    "duration": 5,
    "start_time": "2023-05-15T08:03:56.233Z"
   },
   {
    "duration": 22,
    "start_time": "2023-05-15T08:03:56.240Z"
   },
   {
    "duration": 369,
    "start_time": "2023-05-15T08:03:56.264Z"
   },
   {
    "duration": 8,
    "start_time": "2023-05-15T08:03:56.725Z"
   },
   {
    "duration": 48,
    "start_time": "2023-05-15T13:30:21.990Z"
   },
   {
    "duration": 1654,
    "start_time": "2023-05-15T13:36:05.050Z"
   },
   {
    "duration": 3098,
    "start_time": "2023-05-15T13:36:06.707Z"
   },
   {
    "duration": 84,
    "start_time": "2023-05-15T13:36:09.809Z"
   },
   {
    "duration": 9,
    "start_time": "2023-05-15T13:36:09.894Z"
   },
   {
    "duration": 5,
    "start_time": "2023-05-15T13:36:09.904Z"
   },
   {
    "duration": 30,
    "start_time": "2023-05-15T13:36:09.910Z"
   },
   {
    "duration": 16,
    "start_time": "2023-05-15T13:36:09.942Z"
   },
   {
    "duration": 27,
    "start_time": "2023-05-15T13:36:09.960Z"
   },
   {
    "duration": 17,
    "start_time": "2023-05-15T13:36:09.990Z"
   },
   {
    "duration": 44,
    "start_time": "2023-05-15T13:36:10.009Z"
   },
   {
    "duration": 63,
    "start_time": "2023-05-15T13:36:10.055Z"
   },
   {
    "duration": 19,
    "start_time": "2023-05-15T13:36:10.120Z"
   },
   {
    "duration": 223,
    "start_time": "2023-05-15T13:36:10.141Z"
   },
   {
    "duration": 583,
    "start_time": "2023-05-15T13:36:10.366Z"
   },
   {
    "duration": 879,
    "start_time": "2023-05-15T13:36:10.951Z"
   },
   {
    "duration": 21,
    "start_time": "2023-05-15T13:36:11.832Z"
   },
   {
    "duration": 989,
    "start_time": "2023-05-15T13:36:11.855Z"
   },
   {
    "duration": 12,
    "start_time": "2023-05-15T13:36:12.846Z"
   },
   {
    "duration": 3,
    "start_time": "2023-05-15T13:36:12.860Z"
   },
   {
    "duration": 15,
    "start_time": "2023-05-15T13:36:12.865Z"
   },
   {
    "duration": 31,
    "start_time": "2023-05-15T13:36:12.882Z"
   },
   {
    "duration": 12888,
    "start_time": "2023-05-15T13:36:12.914Z"
   },
   {
    "duration": 0,
    "start_time": "2023-05-15T13:36:25.804Z"
   },
   {
    "duration": 0,
    "start_time": "2023-05-15T13:36:25.806Z"
   },
   {
    "duration": 0,
    "start_time": "2023-05-15T13:36:25.807Z"
   },
   {
    "duration": 0,
    "start_time": "2023-05-15T13:36:25.809Z"
   },
   {
    "duration": 0,
    "start_time": "2023-05-15T13:36:25.810Z"
   },
   {
    "duration": 0,
    "start_time": "2023-05-15T13:36:25.811Z"
   },
   {
    "duration": 0,
    "start_time": "2023-05-15T13:36:25.812Z"
   },
   {
    "duration": 0,
    "start_time": "2023-05-15T13:36:25.813Z"
   },
   {
    "duration": 0,
    "start_time": "2023-05-15T13:36:25.814Z"
   },
   {
    "duration": 1626,
    "start_time": "2023-05-15T13:36:58.497Z"
   },
   {
    "duration": 764,
    "start_time": "2023-05-15T13:37:00.126Z"
   },
   {
    "duration": 95,
    "start_time": "2023-05-15T13:37:00.891Z"
   },
   {
    "duration": 9,
    "start_time": "2023-05-15T13:37:00.987Z"
   },
   {
    "duration": 42,
    "start_time": "2023-05-15T13:37:00.999Z"
   },
   {
    "duration": 30,
    "start_time": "2023-05-15T13:37:01.043Z"
   },
   {
    "duration": 63,
    "start_time": "2023-05-15T13:37:01.074Z"
   },
   {
    "duration": 52,
    "start_time": "2023-05-15T13:37:01.139Z"
   },
   {
    "duration": 52,
    "start_time": "2023-05-15T13:37:01.192Z"
   },
   {
    "duration": 49,
    "start_time": "2023-05-15T13:37:01.246Z"
   },
   {
    "duration": 99,
    "start_time": "2023-05-15T13:37:01.297Z"
   },
   {
    "duration": 76,
    "start_time": "2023-05-15T13:37:01.398Z"
   },
   {
    "duration": 306,
    "start_time": "2023-05-15T13:37:01.476Z"
   },
   {
    "duration": 627,
    "start_time": "2023-05-15T13:37:01.787Z"
   },
   {
    "duration": 881,
    "start_time": "2023-05-15T13:37:02.417Z"
   },
   {
    "duration": 18,
    "start_time": "2023-05-15T13:37:03.300Z"
   },
   {
    "duration": 997,
    "start_time": "2023-05-15T13:37:03.320Z"
   },
   {
    "duration": 19,
    "start_time": "2023-05-15T13:37:04.318Z"
   },
   {
    "duration": 4,
    "start_time": "2023-05-15T13:37:04.339Z"
   },
   {
    "duration": 8,
    "start_time": "2023-05-15T13:37:04.344Z"
   },
   {
    "duration": 46,
    "start_time": "2023-05-15T13:37:04.354Z"
   },
   {
    "duration": 12825,
    "start_time": "2023-05-15T13:37:04.401Z"
   },
   {
    "duration": 0,
    "start_time": "2023-05-15T13:37:17.228Z"
   },
   {
    "duration": 0,
    "start_time": "2023-05-15T13:37:17.237Z"
   },
   {
    "duration": 0,
    "start_time": "2023-05-15T13:37:17.238Z"
   },
   {
    "duration": 0,
    "start_time": "2023-05-15T13:37:17.239Z"
   },
   {
    "duration": 0,
    "start_time": "2023-05-15T13:37:17.240Z"
   },
   {
    "duration": 0,
    "start_time": "2023-05-15T13:37:17.241Z"
   },
   {
    "duration": 0,
    "start_time": "2023-05-15T13:37:17.242Z"
   },
   {
    "duration": 0,
    "start_time": "2023-05-15T13:37:17.243Z"
   },
   {
    "duration": 0,
    "start_time": "2023-05-15T13:37:17.244Z"
   },
   {
    "duration": 13099,
    "start_time": "2023-05-15T13:38:42.897Z"
   },
   {
    "duration": 13423,
    "start_time": "2023-05-15T13:39:31.923Z"
   },
   {
    "duration": 1537,
    "start_time": "2023-05-15T13:39:58.521Z"
   },
   {
    "duration": 762,
    "start_time": "2023-05-15T13:40:00.060Z"
   },
   {
    "duration": 86,
    "start_time": "2023-05-15T13:40:00.824Z"
   },
   {
    "duration": 8,
    "start_time": "2023-05-15T13:40:00.913Z"
   },
   {
    "duration": 22,
    "start_time": "2023-05-15T13:40:00.922Z"
   },
   {
    "duration": 50,
    "start_time": "2023-05-15T13:40:00.946Z"
   },
   {
    "duration": 30,
    "start_time": "2023-05-15T13:40:00.997Z"
   },
   {
    "duration": 45,
    "start_time": "2023-05-15T13:40:01.029Z"
   },
   {
    "duration": 29,
    "start_time": "2023-05-15T13:40:01.076Z"
   },
   {
    "duration": 47,
    "start_time": "2023-05-15T13:40:01.108Z"
   },
   {
    "duration": 68,
    "start_time": "2023-05-15T13:40:01.157Z"
   },
   {
    "duration": 20,
    "start_time": "2023-05-15T13:40:01.227Z"
   },
   {
    "duration": 255,
    "start_time": "2023-05-15T13:40:01.249Z"
   },
   {
    "duration": 633,
    "start_time": "2023-05-15T13:40:01.506Z"
   },
   {
    "duration": 999,
    "start_time": "2023-05-15T13:40:02.141Z"
   },
   {
    "duration": 16,
    "start_time": "2023-05-15T13:40:03.142Z"
   },
   {
    "duration": 1217,
    "start_time": "2023-05-15T13:40:03.160Z"
   },
   {
    "duration": 12,
    "start_time": "2023-05-15T13:40:04.379Z"
   },
   {
    "duration": 14,
    "start_time": "2023-05-15T13:40:04.393Z"
   },
   {
    "duration": 29,
    "start_time": "2023-05-15T13:40:04.409Z"
   },
   {
    "duration": 46,
    "start_time": "2023-05-15T13:40:04.440Z"
   },
   {
    "duration": 13007,
    "start_time": "2023-05-15T13:40:04.487Z"
   },
   {
    "duration": 2,
    "start_time": "2023-05-15T13:40:17.496Z"
   },
   {
    "duration": 1443,
    "start_time": "2023-05-15T13:40:17.500Z"
   },
   {
    "duration": 93,
    "start_time": "2023-05-15T13:40:18.945Z"
   },
   {
    "duration": 17,
    "start_time": "2023-05-15T13:40:19.039Z"
   },
   {
    "duration": 10,
    "start_time": "2023-05-15T13:40:19.058Z"
   },
   {
    "duration": 5,
    "start_time": "2023-05-15T13:40:19.072Z"
   },
   {
    "duration": 10,
    "start_time": "2023-05-15T13:40:19.079Z"
   },
   {
    "duration": 350,
    "start_time": "2023-05-15T13:40:19.091Z"
   },
   {
    "duration": 95,
    "start_time": "2023-05-15T13:40:19.443Z"
   },
   {
    "duration": 1965409,
    "start_time": "2023-05-15T13:41:16.090Z"
   },
   {
    "duration": 126,
    "start_time": "2023-05-15T14:14:01.501Z"
   },
   {
    "duration": 0,
    "start_time": "2023-05-15T14:14:01.630Z"
   },
   {
    "duration": 20109,
    "start_time": "2023-05-15T14:16:55.626Z"
   },
   {
    "duration": 15,
    "start_time": "2023-05-15T14:17:35.092Z"
   },
   {
    "duration": 67,
    "start_time": "2023-05-15T14:17:41.699Z"
   },
   {
    "duration": 416,
    "start_time": "2023-05-15T14:17:45.148Z"
   },
   {
    "duration": 428,
    "start_time": "2023-05-15T14:17:55.931Z"
   },
   {
    "duration": 588,
    "start_time": "2023-05-15T14:18:01.570Z"
   },
   {
    "duration": 442,
    "start_time": "2023-05-15T14:18:08.924Z"
   },
   {
    "duration": 391,
    "start_time": "2023-05-15T14:18:34.067Z"
   },
   {
    "duration": 389,
    "start_time": "2023-05-15T14:19:10.971Z"
   },
   {
    "duration": 396,
    "start_time": "2023-05-15T14:19:22.763Z"
   },
   {
    "duration": 432,
    "start_time": "2023-05-15T14:19:56.418Z"
   },
   {
    "duration": 1638,
    "start_time": "2023-05-15T14:25:09.846Z"
   },
   {
    "duration": 758,
    "start_time": "2023-05-15T14:25:11.486Z"
   },
   {
    "duration": 92,
    "start_time": "2023-05-15T14:25:12.247Z"
   },
   {
    "duration": 8,
    "start_time": "2023-05-15T14:25:12.342Z"
   },
   {
    "duration": 16,
    "start_time": "2023-05-15T14:25:12.351Z"
   },
   {
    "duration": 14,
    "start_time": "2023-05-15T14:25:12.369Z"
   },
   {
    "duration": 17,
    "start_time": "2023-05-15T14:25:12.385Z"
   },
   {
    "duration": 40,
    "start_time": "2023-05-15T14:25:12.404Z"
   },
   {
    "duration": 8,
    "start_time": "2023-05-15T14:25:12.446Z"
   },
   {
    "duration": 28,
    "start_time": "2023-05-15T14:25:12.457Z"
   },
   {
    "duration": 50,
    "start_time": "2023-05-15T14:25:12.487Z"
   },
   {
    "duration": 18,
    "start_time": "2023-05-15T14:25:12.539Z"
   },
   {
    "duration": 218,
    "start_time": "2023-05-15T14:25:12.559Z"
   },
   {
    "duration": 481,
    "start_time": "2023-05-15T14:25:12.779Z"
   },
   {
    "duration": 863,
    "start_time": "2023-05-15T14:25:13.262Z"
   },
   {
    "duration": 18,
    "start_time": "2023-05-15T14:25:14.127Z"
   },
   {
    "duration": 1000,
    "start_time": "2023-05-15T14:25:14.147Z"
   },
   {
    "duration": 10,
    "start_time": "2023-05-15T14:25:15.149Z"
   },
   {
    "duration": 15,
    "start_time": "2023-05-15T14:25:15.161Z"
   },
   {
    "duration": 579,
    "start_time": "2023-05-15T14:25:15.177Z"
   },
   {
    "duration": 0,
    "start_time": "2023-05-15T14:25:15.758Z"
   },
   {
    "duration": 0,
    "start_time": "2023-05-15T14:25:15.759Z"
   },
   {
    "duration": 0,
    "start_time": "2023-05-15T14:25:15.760Z"
   },
   {
    "duration": 1,
    "start_time": "2023-05-15T14:25:15.761Z"
   },
   {
    "duration": 0,
    "start_time": "2023-05-15T14:25:15.763Z"
   },
   {
    "duration": 0,
    "start_time": "2023-05-15T14:25:15.764Z"
   },
   {
    "duration": 0,
    "start_time": "2023-05-15T14:25:15.765Z"
   },
   {
    "duration": 0,
    "start_time": "2023-05-15T14:25:15.767Z"
   },
   {
    "duration": 0,
    "start_time": "2023-05-15T14:25:15.768Z"
   },
   {
    "duration": 0,
    "start_time": "2023-05-15T14:25:15.769Z"
   },
   {
    "duration": 0,
    "start_time": "2023-05-15T14:25:15.770Z"
   },
   {
    "duration": 0,
    "start_time": "2023-05-15T14:25:15.771Z"
   },
   {
    "duration": 1726,
    "start_time": "2023-05-15T14:26:38.834Z"
   },
   {
    "duration": 736,
    "start_time": "2023-05-15T14:26:40.563Z"
   },
   {
    "duration": 84,
    "start_time": "2023-05-15T14:26:41.301Z"
   },
   {
    "duration": 9,
    "start_time": "2023-05-15T14:26:41.387Z"
   },
   {
    "duration": 11,
    "start_time": "2023-05-15T14:26:41.397Z"
   },
   {
    "duration": 12,
    "start_time": "2023-05-15T14:26:41.410Z"
   },
   {
    "duration": 29,
    "start_time": "2023-05-15T14:26:41.423Z"
   },
   {
    "duration": 24,
    "start_time": "2023-05-15T14:26:41.454Z"
   },
   {
    "duration": 8,
    "start_time": "2023-05-15T14:26:41.479Z"
   },
   {
    "duration": 51,
    "start_time": "2023-05-15T14:26:41.490Z"
   },
   {
    "duration": 32,
    "start_time": "2023-05-15T14:26:41.542Z"
   },
   {
    "duration": 18,
    "start_time": "2023-05-15T14:26:41.576Z"
   },
   {
    "duration": 238,
    "start_time": "2023-05-15T14:26:41.595Z"
   },
   {
    "duration": 574,
    "start_time": "2023-05-15T14:26:41.838Z"
   },
   {
    "duration": 1038,
    "start_time": "2023-05-15T14:26:42.414Z"
   },
   {
    "duration": 18,
    "start_time": "2023-05-15T14:26:43.454Z"
   },
   {
    "duration": 1080,
    "start_time": "2023-05-15T14:26:43.474Z"
   },
   {
    "duration": 10,
    "start_time": "2023-05-15T14:26:44.556Z"
   },
   {
    "duration": 20,
    "start_time": "2023-05-15T14:26:44.568Z"
   },
   {
    "duration": 8,
    "start_time": "2023-05-15T14:26:44.590Z"
   },
   {
    "duration": 31,
    "start_time": "2023-05-15T14:26:44.600Z"
   },
   {
    "duration": 12294,
    "start_time": "2023-05-15T14:26:44.633Z"
   },
   {
    "duration": 9,
    "start_time": "2023-05-15T14:26:56.929Z"
   },
   {
    "duration": 1198,
    "start_time": "2023-05-15T14:26:56.940Z"
   },
   {
    "duration": 6,
    "start_time": "2023-05-15T14:26:58.140Z"
   },
   {
    "duration": 11,
    "start_time": "2023-05-15T14:26:58.236Z"
   },
   {
    "duration": 9,
    "start_time": "2023-05-15T14:26:58.249Z"
   },
   {
    "duration": 5,
    "start_time": "2023-05-15T14:26:58.263Z"
   },
   {
    "duration": 15,
    "start_time": "2023-05-15T14:26:58.269Z"
   },
   {
    "duration": 356,
    "start_time": "2023-05-15T14:26:58.286Z"
   },
   {
    "duration": 98,
    "start_time": "2023-05-15T14:26:58.645Z"
   },
   {
    "duration": 1489,
    "start_time": "2023-05-15T14:27:57.625Z"
   },
   {
    "duration": 768,
    "start_time": "2023-05-15T14:27:59.116Z"
   },
   {
    "duration": 88,
    "start_time": "2023-05-15T14:27:59.886Z"
   },
   {
    "duration": 8,
    "start_time": "2023-05-15T14:27:59.976Z"
   },
   {
    "duration": 7,
    "start_time": "2023-05-15T14:27:59.986Z"
   },
   {
    "duration": 38,
    "start_time": "2023-05-15T14:27:59.994Z"
   },
   {
    "duration": 39,
    "start_time": "2023-05-15T14:28:00.033Z"
   },
   {
    "duration": 32,
    "start_time": "2023-05-15T14:28:00.073Z"
   },
   {
    "duration": 8,
    "start_time": "2023-05-15T14:28:00.107Z"
   },
   {
    "duration": 43,
    "start_time": "2023-05-15T14:28:00.118Z"
   },
   {
    "duration": 32,
    "start_time": "2023-05-15T14:28:00.162Z"
   },
   {
    "duration": 18,
    "start_time": "2023-05-15T14:28:00.196Z"
   },
   {
    "duration": 245,
    "start_time": "2023-05-15T14:28:00.215Z"
   },
   {
    "duration": 498,
    "start_time": "2023-05-15T14:28:00.462Z"
   },
   {
    "duration": 1064,
    "start_time": "2023-05-15T14:28:00.963Z"
   },
   {
    "duration": 23,
    "start_time": "2023-05-15T14:28:02.029Z"
   },
   {
    "duration": 1433,
    "start_time": "2023-05-15T14:28:02.055Z"
   },
   {
    "duration": 12,
    "start_time": "2023-05-15T14:28:03.490Z"
   },
   {
    "duration": 4,
    "start_time": "2023-05-15T14:28:03.504Z"
   },
   {
    "duration": 27,
    "start_time": "2023-05-15T14:28:03.510Z"
   },
   {
    "duration": 26,
    "start_time": "2023-05-15T14:28:03.539Z"
   },
   {
    "duration": 12590,
    "start_time": "2023-05-15T14:28:03.567Z"
   },
   {
    "duration": 3,
    "start_time": "2023-05-15T14:28:16.159Z"
   },
   {
    "duration": 1477,
    "start_time": "2023-05-15T14:28:16.163Z"
   },
   {
    "duration": 5,
    "start_time": "2023-05-15T14:28:17.642Z"
   },
   {
    "duration": 16,
    "start_time": "2023-05-15T14:28:17.648Z"
   },
   {
    "duration": 13,
    "start_time": "2023-05-15T14:28:17.666Z"
   },
   {
    "duration": 6,
    "start_time": "2023-05-15T14:28:17.682Z"
   },
   {
    "duration": 10,
    "start_time": "2023-05-15T14:28:17.690Z"
   },
   {
    "duration": 338,
    "start_time": "2023-05-15T14:28:17.702Z"
   },
   {
    "duration": 99,
    "start_time": "2023-05-15T14:28:18.043Z"
   },
   {
    "duration": 1563,
    "start_time": "2023-05-15T15:04:49.002Z"
   },
   {
    "duration": 766,
    "start_time": "2023-05-15T15:04:50.567Z"
   },
   {
    "duration": 80,
    "start_time": "2023-05-15T15:04:51.335Z"
   },
   {
    "duration": 22,
    "start_time": "2023-05-15T15:04:51.417Z"
   },
   {
    "duration": 35,
    "start_time": "2023-05-15T15:04:51.440Z"
   },
   {
    "duration": 58,
    "start_time": "2023-05-15T15:04:51.477Z"
   },
   {
    "duration": 24,
    "start_time": "2023-05-15T15:04:51.537Z"
   },
   {
    "duration": 46,
    "start_time": "2023-05-15T15:04:51.564Z"
   },
   {
    "duration": 48,
    "start_time": "2023-05-15T15:04:51.612Z"
   },
   {
    "duration": 39,
    "start_time": "2023-05-15T15:04:51.664Z"
   },
   {
    "duration": 39,
    "start_time": "2023-05-15T15:04:51.705Z"
   },
   {
    "duration": 23,
    "start_time": "2023-05-15T15:04:51.747Z"
   },
   {
    "duration": 290,
    "start_time": "2023-05-15T15:04:51.773Z"
   },
   {
    "duration": 508,
    "start_time": "2023-05-15T15:04:52.065Z"
   },
   {
    "duration": 923,
    "start_time": "2023-05-15T15:04:52.575Z"
   },
   {
    "duration": 16,
    "start_time": "2023-05-15T15:04:53.500Z"
   },
   {
    "duration": 1032,
    "start_time": "2023-05-15T15:04:53.518Z"
   },
   {
    "duration": 12,
    "start_time": "2023-05-15T15:04:54.552Z"
   },
   {
    "duration": 16,
    "start_time": "2023-05-15T15:04:54.566Z"
   },
   {
    "duration": 28,
    "start_time": "2023-05-15T15:04:54.583Z"
   },
   {
    "duration": 34,
    "start_time": "2023-05-15T15:04:54.613Z"
   },
   {
    "duration": 13131,
    "start_time": "2023-05-15T15:04:54.649Z"
   },
   {
    "duration": 1967530,
    "start_time": "2023-05-15T15:05:07.781Z"
   },
   {
    "duration": 2128,
    "start_time": "2023-05-15T15:37:55.313Z"
   },
   {
    "duration": 6,
    "start_time": "2023-05-15T15:37:57.443Z"
   },
   {
    "duration": 12,
    "start_time": "2023-05-15T15:37:57.451Z"
   },
   {
    "duration": 73,
    "start_time": "2023-05-15T15:37:57.465Z"
   },
   {
    "duration": 7,
    "start_time": "2023-05-15T15:37:57.541Z"
   },
   {
    "duration": 14,
    "start_time": "2023-05-15T15:37:57.550Z"
   },
   {
    "duration": 378,
    "start_time": "2023-05-15T15:37:57.566Z"
   },
   {
    "duration": 94,
    "start_time": "2023-05-15T15:37:57.947Z"
   },
   {
    "duration": 1523,
    "start_time": "2023-05-19T07:43:05.916Z"
   },
   {
    "duration": 2845,
    "start_time": "2023-05-19T07:43:07.441Z"
   },
   {
    "duration": 69,
    "start_time": "2023-05-19T07:43:10.288Z"
   },
   {
    "duration": 7,
    "start_time": "2023-05-19T07:43:10.359Z"
   },
   {
    "duration": 12,
    "start_time": "2023-05-19T07:43:10.368Z"
   },
   {
    "duration": 14,
    "start_time": "2023-05-19T07:43:10.381Z"
   },
   {
    "duration": 15,
    "start_time": "2023-05-19T07:43:10.396Z"
   },
   {
    "duration": 28,
    "start_time": "2023-05-19T07:43:10.413Z"
   },
   {
    "duration": 9,
    "start_time": "2023-05-19T07:43:10.442Z"
   },
   {
    "duration": 39,
    "start_time": "2023-05-19T07:43:10.454Z"
   },
   {
    "duration": 31,
    "start_time": "2023-05-19T07:43:10.495Z"
   },
   {
    "duration": 17,
    "start_time": "2023-05-19T07:43:10.528Z"
   },
   {
    "duration": 221,
    "start_time": "2023-05-19T07:43:10.547Z"
   },
   {
    "duration": 499,
    "start_time": "2023-05-19T07:43:10.774Z"
   },
   {
    "duration": 764,
    "start_time": "2023-05-19T07:43:11.275Z"
   },
   {
    "duration": 14,
    "start_time": "2023-05-19T07:43:12.041Z"
   },
   {
    "duration": 819,
    "start_time": "2023-05-19T07:43:12.056Z"
   },
   {
    "duration": 12,
    "start_time": "2023-05-19T07:43:12.876Z"
   },
   {
    "duration": 4,
    "start_time": "2023-05-19T07:43:12.889Z"
   },
   {
    "duration": 9,
    "start_time": "2023-05-19T07:43:12.895Z"
   },
   {
    "duration": 24,
    "start_time": "2023-05-19T07:43:12.906Z"
   },
   {
    "duration": 11767,
    "start_time": "2023-05-19T07:43:12.931Z"
   },
   {
    "duration": 1826728,
    "start_time": "2023-05-19T07:43:24.699Z"
   },
   {
    "duration": 1449,
    "start_time": "2023-05-19T08:13:51.429Z"
   },
   {
    "duration": 5,
    "start_time": "2023-05-19T08:13:52.880Z"
   },
   {
    "duration": 94,
    "start_time": "2023-05-19T08:13:52.887Z"
   },
   {
    "duration": 8,
    "start_time": "2023-05-19T08:13:52.983Z"
   },
   {
    "duration": 5,
    "start_time": "2023-05-19T08:13:52.994Z"
   },
   {
    "duration": 9,
    "start_time": "2023-05-19T08:13:53.000Z"
   },
   {
    "duration": 464,
    "start_time": "2023-05-19T08:13:53.010Z"
   },
   {
    "duration": 7,
    "start_time": "2023-05-19T08:13:53.476Z"
   },
   {
    "duration": 5,
    "start_time": "2023-05-19T08:42:54.255Z"
   },
   {
    "duration": 1838,
    "start_time": "2023-05-19T11:00:28.479Z"
   },
   {
    "duration": 973,
    "start_time": "2023-05-19T11:00:30.321Z"
   },
   {
    "duration": 95,
    "start_time": "2023-05-19T11:00:31.296Z"
   },
   {
    "duration": 12,
    "start_time": "2023-05-19T11:00:31.393Z"
   },
   {
    "duration": 44,
    "start_time": "2023-05-19T11:00:31.409Z"
   },
   {
    "duration": 40,
    "start_time": "2023-05-19T11:00:31.455Z"
   },
   {
    "duration": 26,
    "start_time": "2023-05-19T11:00:31.497Z"
   },
   {
    "duration": 38,
    "start_time": "2023-05-19T11:00:31.525Z"
   },
   {
    "duration": 64,
    "start_time": "2023-05-19T11:00:31.564Z"
   },
   {
    "duration": 104,
    "start_time": "2023-05-19T11:00:31.631Z"
   },
   {
    "duration": 35,
    "start_time": "2023-05-19T11:00:31.736Z"
   },
   {
    "duration": 31,
    "start_time": "2023-05-19T11:00:31.773Z"
   },
   {
    "duration": 260,
    "start_time": "2023-05-19T11:00:31.806Z"
   },
   {
    "duration": 741,
    "start_time": "2023-05-19T11:00:32.068Z"
   },
   {
    "duration": 1133,
    "start_time": "2023-05-19T11:00:32.811Z"
   },
   {
    "duration": 21,
    "start_time": "2023-05-19T11:00:33.946Z"
   },
   {
    "duration": 1198,
    "start_time": "2023-05-19T11:00:33.969Z"
   },
   {
    "duration": 28,
    "start_time": "2023-05-19T11:00:35.169Z"
   },
   {
    "duration": 9,
    "start_time": "2023-05-19T11:00:35.201Z"
   },
   {
    "duration": 22,
    "start_time": "2023-05-19T11:00:35.212Z"
   },
   {
    "duration": 26,
    "start_time": "2023-05-19T11:00:35.237Z"
   },
   {
    "duration": 14893,
    "start_time": "2023-05-19T11:00:35.264Z"
   },
   {
    "duration": 2209406,
    "start_time": "2023-05-19T11:00:50.159Z"
   },
   {
    "duration": 2024,
    "start_time": "2023-05-19T11:37:39.567Z"
   },
   {
    "duration": 18,
    "start_time": "2023-05-19T11:37:41.606Z"
   },
   {
    "duration": 32,
    "start_time": "2023-05-19T11:37:41.681Z"
   },
   {
    "duration": 12,
    "start_time": "2023-05-19T11:37:41.721Z"
   },
   {
    "duration": 5,
    "start_time": "2023-05-19T11:37:41.736Z"
   },
   {
    "duration": 13,
    "start_time": "2023-05-19T11:37:41.742Z"
   },
   {
    "duration": 358,
    "start_time": "2023-05-19T11:37:41.756Z"
   },
   {
    "duration": 20,
    "start_time": "2023-05-19T11:37:42.175Z"
   },
   {
    "duration": 1844,
    "start_time": "2023-05-21T07:07:43.989Z"
   },
   {
    "duration": 3284,
    "start_time": "2023-05-21T07:07:45.837Z"
   },
   {
    "duration": 84,
    "start_time": "2023-05-21T07:07:49.123Z"
   },
   {
    "duration": 20,
    "start_time": "2023-05-21T07:07:49.209Z"
   },
   {
    "duration": 7,
    "start_time": "2023-05-21T07:07:49.231Z"
   },
   {
    "duration": 13,
    "start_time": "2023-05-21T07:07:49.240Z"
   },
   {
    "duration": 16,
    "start_time": "2023-05-21T07:07:49.254Z"
   },
   {
    "duration": 67,
    "start_time": "2023-05-21T07:07:49.271Z"
   },
   {
    "duration": 8,
    "start_time": "2023-05-21T07:07:49.342Z"
   },
   {
    "duration": 25,
    "start_time": "2023-05-21T07:07:49.352Z"
   },
   {
    "duration": 30,
    "start_time": "2023-05-21T07:07:49.378Z"
   },
   {
    "duration": 33,
    "start_time": "2023-05-21T07:07:49.410Z"
   },
   {
    "duration": 261,
    "start_time": "2023-05-21T07:07:49.445Z"
   },
   {
    "duration": 560,
    "start_time": "2023-05-21T07:07:49.710Z"
   },
   {
    "duration": 936,
    "start_time": "2023-05-21T07:07:50.271Z"
   },
   {
    "duration": 27,
    "start_time": "2023-05-21T07:07:51.209Z"
   },
   {
    "duration": 975,
    "start_time": "2023-05-21T07:07:51.241Z"
   },
   {
    "duration": 19,
    "start_time": "2023-05-21T07:07:52.217Z"
   },
   {
    "duration": 5,
    "start_time": "2023-05-21T07:07:52.239Z"
   },
   {
    "duration": 8,
    "start_time": "2023-05-21T07:07:52.245Z"
   },
   {
    "duration": 26,
    "start_time": "2023-05-21T07:07:52.255Z"
   },
   {
    "duration": 13249,
    "start_time": "2023-05-21T07:07:52.283Z"
   },
   {
    "duration": 1956841,
    "start_time": "2023-05-21T07:08:05.534Z"
   },
   {
    "duration": 1549,
    "start_time": "2023-05-21T07:40:42.377Z"
   },
   {
    "duration": 5,
    "start_time": "2023-05-21T07:40:43.928Z"
   },
   {
    "duration": 12,
    "start_time": "2023-05-21T07:40:43.934Z"
   },
   {
    "duration": 10,
    "start_time": "2023-05-21T07:40:43.948Z"
   },
   {
    "duration": 5,
    "start_time": "2023-05-21T07:40:43.959Z"
   },
   {
    "duration": 8,
    "start_time": "2023-05-21T07:40:43.966Z"
   },
   {
    "duration": 249,
    "start_time": "2023-05-21T07:40:43.976Z"
   },
   {
    "duration": 98,
    "start_time": "2023-05-21T07:40:44.228Z"
   }
  ],
  "kernelspec": {
   "display_name": "Python 3 (ipykernel)",
   "language": "python",
   "name": "python3"
  },
  "language_info": {
   "codemirror_mode": {
    "name": "ipython",
    "version": 3
   },
   "file_extension": ".py",
   "mimetype": "text/x-python",
   "name": "python",
   "nbconvert_exporter": "python",
   "pygments_lexer": "ipython3",
   "version": "3.10.9"
  },
  "toc": {
   "base_numbering": 1,
   "nav_menu": {},
   "number_sections": true,
   "sideBar": true,
   "skip_h1_title": true,
   "title_cell": "Содержание",
   "title_sidebar": "Contents",
   "toc_cell": true,
   "toc_position": {
    "height": "calc(100% - 180px)",
    "left": "10px",
    "top": "150px",
    "width": "165px"
   },
   "toc_section_display": true,
   "toc_window_display": true
  }
 },
 "nbformat": 4,
 "nbformat_minor": 2
}
