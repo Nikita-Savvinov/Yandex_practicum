{
 "cells": [
  {
   "cell_type": "markdown",
   "metadata": {},
   "source": [
    "# Выбор локации для бурения скважины"
   ]
  },
  {
   "cell_type": "markdown",
   "metadata": {
    "toc": true
   },
   "source": [
    "<h1>Содержание<span class=\"tocSkip\"></span></h1>\n",
    "<div class=\"toc\"><ul class=\"toc-item\"><li><span><a href=\"#Анализ-и-подготовка-данных\" data-toc-modified-id=\"Анализ-и-подготовка-данных-1\"><span class=\"toc-item-num\">1&nbsp;&nbsp;</span>Анализ и подготовка данных</a></span><ul class=\"toc-item\"><li><span><a href=\"#Список-используемых-библиотек-и-функций\" data-toc-modified-id=\"Список-используемых-библиотек-и-функций-1.1\"><span class=\"toc-item-num\">1.1&nbsp;&nbsp;</span>Список используемых библиотек и функций</a></span></li><li><span><a href=\"#Загрузка-данных-и-первичный-анализ\" data-toc-modified-id=\"Загрузка-данных-и-первичный-анализ-1.2\"><span class=\"toc-item-num\">1.2&nbsp;&nbsp;</span>Загрузка данных и первичный анализ</a></span></li><li><span><a href=\"#Предобработка-данных-на-основе-анализа\" data-toc-modified-id=\"Предобработка-данных-на-основе-анализа-1.3\"><span class=\"toc-item-num\">1.3&nbsp;&nbsp;</span>Предобработка данных на основе анализа</a></span></li><li><span><a href=\"#Вывод-по-блоку-&quot;Анализ-и-подготовка-данных&quot;\" data-toc-modified-id=\"Вывод-по-блоку-&quot;Анализ-и-подготовка-данных&quot;-1.4\"><span class=\"toc-item-num\">1.4&nbsp;&nbsp;</span><strong>Вывод по блоку \"Анализ и подготовка данных\"</strong></a></span></li></ul></li><li><span><a href=\"#Обучение-и-проверка-модели\" data-toc-modified-id=\"Обучение-и-проверка-модели-2\"><span class=\"toc-item-num\">2&nbsp;&nbsp;</span>Обучение и проверка модели</a></span><ul class=\"toc-item\"><li><span><a href=\"#Разделение-популяции-на-обучающую-и-валидационную-выборку\" data-toc-modified-id=\"Разделение-популяции-на-обучающую-и-валидационную-выборку-2.1\"><span class=\"toc-item-num\">2.1&nbsp;&nbsp;</span>Разделение популяции на обучающую и валидационную выборку</a></span></li><li><span><a href=\"#Масштабирование-параметров\" data-toc-modified-id=\"Масштабирование-параметров-2.2\"><span class=\"toc-item-num\">2.2&nbsp;&nbsp;</span>Масштабирование параметров</a></span></li><li><span><a href=\"#Обучим-модель-Линейной-регрессии\" data-toc-modified-id=\"Обучим-модель-Линейной-регрессии-2.3\"><span class=\"toc-item-num\">2.3&nbsp;&nbsp;</span>Обучим модель Линейной регрессии</a></span></li><li><span><a href=\"#Вывод-по-блоку-&quot;Обучение-и-проверка-модели&quot;\" data-toc-modified-id=\"Вывод-по-блоку-&quot;Обучение-и-проверка-модели&quot;-2.4\"><span class=\"toc-item-num\">2.4&nbsp;&nbsp;</span><strong>Вывод по блоку \"Обучение и проверка модели\"</strong></a></span></li></ul></li><li><span><a href=\"#Подготовка-к-расчёту-прибыли\" data-toc-modified-id=\"Подготовка-к-расчёту-прибыли-3\"><span class=\"toc-item-num\">3&nbsp;&nbsp;</span>Подготовка к расчёту прибыли</a></span><ul class=\"toc-item\"><li><span><a href=\"#Константы-для-расчетов\" data-toc-modified-id=\"Константы-для-расчетов-3.1\"><span class=\"toc-item-num\">3.1&nbsp;&nbsp;</span>Константы для расчетов</a></span></li><li><span><a href=\"#Точка-безубыточности\" data-toc-modified-id=\"Точка-безубыточности-3.2\"><span class=\"toc-item-num\">3.2&nbsp;&nbsp;</span>Точка безубыточности</a></span></li><li><span><a href=\"#Сравнение-точки-безубыточности-с-запасами-в-регионе\" data-toc-modified-id=\"Сравнение-точки-безубыточности-с-запасами-в-регионе-3.3\"><span class=\"toc-item-num\">3.3&nbsp;&nbsp;</span>Сравнение точки безубыточности с запасами в регионе</a></span></li><li><span><a href=\"#Вывод-по-блоку-&quot;Подготовка-к-расчету-прибыли&quot;\" data-toc-modified-id=\"Вывод-по-блоку-&quot;Подготовка-к-расчету-прибыли&quot;-3.4\"><span class=\"toc-item-num\">3.4&nbsp;&nbsp;</span><strong>Вывод по блоку \"Подготовка к расчету прибыли\"</strong></a></span></li></ul></li><li><span><a href=\"#Расчёт-прибыли-и-рисков\" data-toc-modified-id=\"Расчёт-прибыли-и-рисков-4\"><span class=\"toc-item-num\">4&nbsp;&nbsp;</span>Расчёт прибыли и рисков</a></span><ul class=\"toc-item\"><li><span><a href=\"#Функция-расчета-прибыли\" data-toc-modified-id=\"Функция-расчета-прибыли-4.1\"><span class=\"toc-item-num\">4.1&nbsp;&nbsp;</span>Функция расчета прибыли</a></span></li><li><span><a href=\"#Применение-процедуры-Bootstrap\" data-toc-modified-id=\"Применение-процедуры-Bootstrap-4.2\"><span class=\"toc-item-num\">4.2&nbsp;&nbsp;</span>Применение процедуры Bootstrap</a></span></li><li><span><a href=\"#Выбор-лучшего-региона\" data-toc-modified-id=\"Выбор-лучшего-региона-4.3\"><span class=\"toc-item-num\">4.3&nbsp;&nbsp;</span>Выбор лучшего региона</a></span></li><li><span><a href=\"#Вывод-по-блоку-&quot;Расчет-прибыли-и-рисков&quot;\" data-toc-modified-id=\"Вывод-по-блоку-&quot;Расчет-прибыли-и-рисков&quot;-4.4\"><span class=\"toc-item-num\">4.4&nbsp;&nbsp;</span><strong>Вывод по блоку \"Расчет прибыли и рисков\"</strong></a></span></li></ul></li><li><span><a href=\"#Вывод-по-проекту\" data-toc-modified-id=\"Вывод-по-проекту-5\"><span class=\"toc-item-num\">5&nbsp;&nbsp;</span>Вывод по проекту</a></span></li><li><span><a href=\"#Чек-лист-готовности-проекта\" data-toc-modified-id=\"Чек-лист-готовности-проекта-6\"><span class=\"toc-item-num\">6&nbsp;&nbsp;</span>Чек-лист готовности проекта</a></span></li></ul></div>"
   ]
  },
  {
   "cell_type": "markdown",
   "metadata": {},
   "source": [
    "**Описание прокта:**\n",
    "\n",
    "Для нефтедобывающей компании \"ГлавРосГосНефть\" необходимо принять решение о местоположении бурения скважины.\n",
    "\n",
    "Компания провела исследование месторождений в трёх регионах, для каждого региона было выбрано 10 000 месторождений нефти. Исследование включало получение информации в отношении качества нефти и объемов запасов месторождения. На основе исследования были предоставлены данные о пробах в трёх исследуемых регионах.\n"
   ]
  },
  {
   "cell_type": "markdown",
   "metadata": {},
   "source": [
    "**Цель работы:**\n",
    "\n",
    "Необходимо построить модель машинного обучения, которая поможет определить регион, где добыча принесёт наибольшую прибыль. Проанализировать возможную прибыль и риски техникой Bootstrap."
   ]
  },
  {
   "cell_type": "markdown",
   "metadata": {},
   "source": [
    "**Вводные данные для определения прибыльности:**\n",
    "\n",
    "Имеются следующие данные на основе которых можно строить понимание о прибыльности/убыточности месторождения:\n",
    "- Для обучения модели подходит только линейная регрессия (остальные — недостаточно предсказуемые).\n",
    "- При разведке региона исследуют 500 точек, из которых с помощью машинного обучения выбирают 200 лучших для разработки.\n",
    "- Бюджет на разработку скважин в регионе — 10 млрд рублей.\n",
    "- При нынешних ценах один баррель сырья приносит 450 рублей дохода. Доход с каждой единицы продукта составляет 450 тыс. рублей, поскольку объём указан в тысячах баррелей.\n",
    "- После оценки рисков нужно оставить лишь те регионы, в которых вероятность убытков меньше 2.5%. Среди них выбирают регион с наибольшей средней прибылью."
   ]
  },
  {
   "cell_type": "markdown",
   "metadata": {},
   "source": [
    "## Анализ и подготовка данных"
   ]
  },
  {
   "cell_type": "markdown",
   "metadata": {},
   "source": [
    "В рамках данного блока будут проведены следующие операции:\n",
    "- формирование списка используемых библиотек;\n",
    "- загрузка данных и первичный анализ;\n",
    "- предобработка данных на основе анализа"
   ]
  },
  {
   "cell_type": "markdown",
   "metadata": {},
   "source": [
    "### Список используемых библиотек и функций\n",
    "\n",
    "Ниже представлены все импортируемые библиотеки, которые используются в рамках данного проекта."
   ]
  },
  {
   "cell_type": "code",
   "execution_count": 1,
   "metadata": {},
   "outputs": [],
   "source": [
    "import pandas as pd\n",
    "import scipy as st\n",
    "import numpy as np \n",
    "import matplotlib.pyplot as plt\n",
    "from sklearn.metrics import mean_squared_error\n",
    "\n",
    "from tqdm import tqdm\n",
    "from sklearn.linear_model import LinearRegression\n",
    "from sklearn.model_selection import train_test_split, cross_val_score\n",
    "from sklearn.preprocessing import StandardScaler "
   ]
  },
  {
   "cell_type": "markdown",
   "metadata": {},
   "source": [
    "### Загрузка данных и первичный анализ\n",
    "\n",
    "Нам было предоставлено три датасета в которых имеется информация о 10 000 месторождениях для каждого региона. Загрузим информацию из файлов и проведем первичный анализ"
   ]
  },
  {
   "cell_type": "code",
   "execution_count": 2,
   "metadata": {},
   "outputs": [],
   "source": [
    "#загрузим датасеты\n",
    "\n",
    "data_1 = pd.read_csv ('/datasets/geo_data_0.csv')\n",
    "data_2 = pd.read_csv ('/datasets/geo_data_1.csv')\n",
    "data_3 = pd.read_csv ('/datasets/geo_data_2.csv')"
   ]
  },
  {
   "cell_type": "code",
   "execution_count": 3,
   "metadata": {
    "scrolled": false
   },
   "outputs": [
    {
     "name": "stdout",
     "output_type": "stream",
     "text": [
      "Общая информация о данных: \n",
      "\n",
      "<class 'pandas.core.frame.DataFrame'>\n",
      "RangeIndex: 100000 entries, 0 to 99999\n",
      "Data columns (total 5 columns):\n",
      " #   Column   Non-Null Count   Dtype  \n",
      "---  ------   --------------   -----  \n",
      " 0   id       100000 non-null  object \n",
      " 1   f0       100000 non-null  float64\n",
      " 2   f1       100000 non-null  float64\n",
      " 3   f2       100000 non-null  float64\n",
      " 4   product  100000 non-null  float64\n",
      "dtypes: float64(4), object(1)\n",
      "memory usage: 3.8+ MB\n",
      "None \n",
      "\n",
      "Количество дубликатов: 10\n"
     ]
    },
    {
     "data": {
      "text/html": [
       "<div>\n",
       "<style scoped>\n",
       "    .dataframe tbody tr th:only-of-type {\n",
       "        vertical-align: middle;\n",
       "    }\n",
       "\n",
       "    .dataframe tbody tr th {\n",
       "        vertical-align: top;\n",
       "    }\n",
       "\n",
       "    .dataframe thead th {\n",
       "        text-align: right;\n",
       "    }\n",
       "</style>\n",
       "<table border=\"1\" class=\"dataframe\">\n",
       "  <thead>\n",
       "    <tr style=\"text-align: right;\">\n",
       "      <th></th>\n",
       "      <th>id</th>\n",
       "      <th>f0</th>\n",
       "      <th>f1</th>\n",
       "      <th>f2</th>\n",
       "      <th>product</th>\n",
       "    </tr>\n",
       "  </thead>\n",
       "  <tbody>\n",
       "    <tr>\n",
       "      <th>0</th>\n",
       "      <td>txEyH</td>\n",
       "      <td>0.705745</td>\n",
       "      <td>-0.497823</td>\n",
       "      <td>1.221170</td>\n",
       "      <td>105.280062</td>\n",
       "    </tr>\n",
       "    <tr>\n",
       "      <th>1</th>\n",
       "      <td>2acmU</td>\n",
       "      <td>1.334711</td>\n",
       "      <td>-0.340164</td>\n",
       "      <td>4.365080</td>\n",
       "      <td>73.037750</td>\n",
       "    </tr>\n",
       "    <tr>\n",
       "      <th>2</th>\n",
       "      <td>409Wp</td>\n",
       "      <td>1.022732</td>\n",
       "      <td>0.151990</td>\n",
       "      <td>1.419926</td>\n",
       "      <td>85.265647</td>\n",
       "    </tr>\n",
       "    <tr>\n",
       "      <th>3</th>\n",
       "      <td>iJLyR</td>\n",
       "      <td>-0.032172</td>\n",
       "      <td>0.139033</td>\n",
       "      <td>2.978566</td>\n",
       "      <td>168.620776</td>\n",
       "    </tr>\n",
       "    <tr>\n",
       "      <th>4</th>\n",
       "      <td>Xdl7t</td>\n",
       "      <td>1.988431</td>\n",
       "      <td>0.155413</td>\n",
       "      <td>4.751769</td>\n",
       "      <td>154.036647</td>\n",
       "    </tr>\n",
       "    <tr>\n",
       "      <th>5</th>\n",
       "      <td>wX4Hy</td>\n",
       "      <td>0.969570</td>\n",
       "      <td>0.489775</td>\n",
       "      <td>-0.735383</td>\n",
       "      <td>64.741541</td>\n",
       "    </tr>\n",
       "    <tr>\n",
       "      <th>6</th>\n",
       "      <td>tL6pL</td>\n",
       "      <td>0.645075</td>\n",
       "      <td>0.530656</td>\n",
       "      <td>1.780266</td>\n",
       "      <td>49.055285</td>\n",
       "    </tr>\n",
       "    <tr>\n",
       "      <th>7</th>\n",
       "      <td>BYPU6</td>\n",
       "      <td>-0.400648</td>\n",
       "      <td>0.808337</td>\n",
       "      <td>-5.624670</td>\n",
       "      <td>72.943292</td>\n",
       "    </tr>\n",
       "    <tr>\n",
       "      <th>8</th>\n",
       "      <td>j9Oui</td>\n",
       "      <td>0.643105</td>\n",
       "      <td>-0.551583</td>\n",
       "      <td>2.372141</td>\n",
       "      <td>113.356160</td>\n",
       "    </tr>\n",
       "    <tr>\n",
       "      <th>9</th>\n",
       "      <td>OLuZU</td>\n",
       "      <td>2.173381</td>\n",
       "      <td>0.563698</td>\n",
       "      <td>9.441852</td>\n",
       "      <td>127.910945</td>\n",
       "    </tr>\n",
       "    <tr>\n",
       "      <th>10</th>\n",
       "      <td>b8WQ6</td>\n",
       "      <td>0.371066</td>\n",
       "      <td>-0.036585</td>\n",
       "      <td>0.009208</td>\n",
       "      <td>70.326617</td>\n",
       "    </tr>\n",
       "    <tr>\n",
       "      <th>11</th>\n",
       "      <td>1YYm1</td>\n",
       "      <td>0.015920</td>\n",
       "      <td>1.062729</td>\n",
       "      <td>-0.722248</td>\n",
       "      <td>45.110381</td>\n",
       "    </tr>\n",
       "    <tr>\n",
       "      <th>12</th>\n",
       "      <td>zIYPq</td>\n",
       "      <td>-0.276476</td>\n",
       "      <td>0.924865</td>\n",
       "      <td>0.095584</td>\n",
       "      <td>89.158678</td>\n",
       "    </tr>\n",
       "    <tr>\n",
       "      <th>13</th>\n",
       "      <td>iqTqq</td>\n",
       "      <td>0.212696</td>\n",
       "      <td>-0.111147</td>\n",
       "      <td>5.770095</td>\n",
       "      <td>164.298520</td>\n",
       "    </tr>\n",
       "    <tr>\n",
       "      <th>14</th>\n",
       "      <td>Ct5yY</td>\n",
       "      <td>-0.018578</td>\n",
       "      <td>0.187516</td>\n",
       "      <td>2.944683</td>\n",
       "      <td>158.633720</td>\n",
       "    </tr>\n",
       "  </tbody>\n",
       "</table>\n",
       "</div>"
      ],
      "text/plain": [
       "       id        f0        f1        f2     product\n",
       "0   txEyH  0.705745 -0.497823  1.221170  105.280062\n",
       "1   2acmU  1.334711 -0.340164  4.365080   73.037750\n",
       "2   409Wp  1.022732  0.151990  1.419926   85.265647\n",
       "3   iJLyR -0.032172  0.139033  2.978566  168.620776\n",
       "4   Xdl7t  1.988431  0.155413  4.751769  154.036647\n",
       "5   wX4Hy  0.969570  0.489775 -0.735383   64.741541\n",
       "6   tL6pL  0.645075  0.530656  1.780266   49.055285\n",
       "7   BYPU6 -0.400648  0.808337 -5.624670   72.943292\n",
       "8   j9Oui  0.643105 -0.551583  2.372141  113.356160\n",
       "9   OLuZU  2.173381  0.563698  9.441852  127.910945\n",
       "10  b8WQ6  0.371066 -0.036585  0.009208   70.326617\n",
       "11  1YYm1  0.015920  1.062729 -0.722248   45.110381\n",
       "12  zIYPq -0.276476  0.924865  0.095584   89.158678\n",
       "13  iqTqq  0.212696 -0.111147  5.770095  164.298520\n",
       "14  Ct5yY -0.018578  0.187516  2.944683  158.633720"
      ]
     },
     "execution_count": 3,
     "metadata": {},
     "output_type": "execute_result"
    }
   ],
   "source": [
    "#Проведем анализ первого датасета\n",
    "\n",
    "print('Общая информация о данных:','\\n')\n",
    "print(data_1.info(),'\\n')\n",
    "\n",
    "print ('Количество дубликатов:',data_1[data_1['id'].duplicated()]['id'].count())\n",
    "\n",
    "data_1.head(15)"
   ]
  },
  {
   "cell_type": "code",
   "execution_count": 4,
   "metadata": {
    "scrolled": false
   },
   "outputs": [
    {
     "name": "stdout",
     "output_type": "stream",
     "text": [
      "Общая информация о данных: \n",
      "\n",
      "<class 'pandas.core.frame.DataFrame'>\n",
      "RangeIndex: 100000 entries, 0 to 99999\n",
      "Data columns (total 5 columns):\n",
      " #   Column   Non-Null Count   Dtype  \n",
      "---  ------   --------------   -----  \n",
      " 0   id       100000 non-null  object \n",
      " 1   f0       100000 non-null  float64\n",
      " 2   f1       100000 non-null  float64\n",
      " 3   f2       100000 non-null  float64\n",
      " 4   product  100000 non-null  float64\n",
      "dtypes: float64(4), object(1)\n",
      "memory usage: 3.8+ MB\n",
      "None \n",
      "\n",
      "Количество дубликатов: 4\n"
     ]
    },
    {
     "data": {
      "text/html": [
       "<div>\n",
       "<style scoped>\n",
       "    .dataframe tbody tr th:only-of-type {\n",
       "        vertical-align: middle;\n",
       "    }\n",
       "\n",
       "    .dataframe tbody tr th {\n",
       "        vertical-align: top;\n",
       "    }\n",
       "\n",
       "    .dataframe thead th {\n",
       "        text-align: right;\n",
       "    }\n",
       "</style>\n",
       "<table border=\"1\" class=\"dataframe\">\n",
       "  <thead>\n",
       "    <tr style=\"text-align: right;\">\n",
       "      <th></th>\n",
       "      <th>id</th>\n",
       "      <th>f0</th>\n",
       "      <th>f1</th>\n",
       "      <th>f2</th>\n",
       "      <th>product</th>\n",
       "    </tr>\n",
       "  </thead>\n",
       "  <tbody>\n",
       "    <tr>\n",
       "      <th>0</th>\n",
       "      <td>kBEdx</td>\n",
       "      <td>-15.001348</td>\n",
       "      <td>-8.276000</td>\n",
       "      <td>-0.005876</td>\n",
       "      <td>3.179103</td>\n",
       "    </tr>\n",
       "    <tr>\n",
       "      <th>1</th>\n",
       "      <td>62mP7</td>\n",
       "      <td>14.272088</td>\n",
       "      <td>-3.475083</td>\n",
       "      <td>0.999183</td>\n",
       "      <td>26.953261</td>\n",
       "    </tr>\n",
       "    <tr>\n",
       "      <th>2</th>\n",
       "      <td>vyE1P</td>\n",
       "      <td>6.263187</td>\n",
       "      <td>-5.948386</td>\n",
       "      <td>5.001160</td>\n",
       "      <td>134.766305</td>\n",
       "    </tr>\n",
       "    <tr>\n",
       "      <th>3</th>\n",
       "      <td>KcrkZ</td>\n",
       "      <td>-13.081196</td>\n",
       "      <td>-11.506057</td>\n",
       "      <td>4.999415</td>\n",
       "      <td>137.945408</td>\n",
       "    </tr>\n",
       "    <tr>\n",
       "      <th>4</th>\n",
       "      <td>AHL4O</td>\n",
       "      <td>12.702195</td>\n",
       "      <td>-8.147433</td>\n",
       "      <td>5.004363</td>\n",
       "      <td>134.766305</td>\n",
       "    </tr>\n",
       "    <tr>\n",
       "      <th>5</th>\n",
       "      <td>HHckp</td>\n",
       "      <td>-3.327590</td>\n",
       "      <td>-2.205276</td>\n",
       "      <td>3.003647</td>\n",
       "      <td>84.038886</td>\n",
       "    </tr>\n",
       "    <tr>\n",
       "      <th>6</th>\n",
       "      <td>h5Ujo</td>\n",
       "      <td>-11.142655</td>\n",
       "      <td>-10.133399</td>\n",
       "      <td>4.002382</td>\n",
       "      <td>110.992147</td>\n",
       "    </tr>\n",
       "    <tr>\n",
       "      <th>7</th>\n",
       "      <td>muH9x</td>\n",
       "      <td>4.234715</td>\n",
       "      <td>-0.001354</td>\n",
       "      <td>2.004588</td>\n",
       "      <td>53.906522</td>\n",
       "    </tr>\n",
       "    <tr>\n",
       "      <th>8</th>\n",
       "      <td>YiRkx</td>\n",
       "      <td>13.355129</td>\n",
       "      <td>-0.332068</td>\n",
       "      <td>4.998647</td>\n",
       "      <td>134.766305</td>\n",
       "    </tr>\n",
       "    <tr>\n",
       "      <th>9</th>\n",
       "      <td>jG6Gi</td>\n",
       "      <td>1.069227</td>\n",
       "      <td>-11.025667</td>\n",
       "      <td>4.997844</td>\n",
       "      <td>137.945408</td>\n",
       "    </tr>\n",
       "    <tr>\n",
       "      <th>10</th>\n",
       "      <td>7uHUe</td>\n",
       "      <td>11.777049</td>\n",
       "      <td>-5.334084</td>\n",
       "      <td>2.003033</td>\n",
       "      <td>53.906522</td>\n",
       "    </tr>\n",
       "    <tr>\n",
       "      <th>11</th>\n",
       "      <td>OXyvW</td>\n",
       "      <td>16.320755</td>\n",
       "      <td>-0.562946</td>\n",
       "      <td>-0.001783</td>\n",
       "      <td>0.000000</td>\n",
       "    </tr>\n",
       "    <tr>\n",
       "      <th>12</th>\n",
       "      <td>cB8re</td>\n",
       "      <td>7.736313</td>\n",
       "      <td>-6.093374</td>\n",
       "      <td>3.982531</td>\n",
       "      <td>107.813044</td>\n",
       "    </tr>\n",
       "    <tr>\n",
       "      <th>13</th>\n",
       "      <td>igmai</td>\n",
       "      <td>6.695604</td>\n",
       "      <td>-0.749449</td>\n",
       "      <td>-0.007630</td>\n",
       "      <td>0.000000</td>\n",
       "    </tr>\n",
       "    <tr>\n",
       "      <th>14</th>\n",
       "      <td>3OdkE</td>\n",
       "      <td>-10.985487</td>\n",
       "      <td>-5.605994</td>\n",
       "      <td>2.991130</td>\n",
       "      <td>84.038886</td>\n",
       "    </tr>\n",
       "  </tbody>\n",
       "</table>\n",
       "</div>"
      ],
      "text/plain": [
       "       id         f0         f1        f2     product\n",
       "0   kBEdx -15.001348  -8.276000 -0.005876    3.179103\n",
       "1   62mP7  14.272088  -3.475083  0.999183   26.953261\n",
       "2   vyE1P   6.263187  -5.948386  5.001160  134.766305\n",
       "3   KcrkZ -13.081196 -11.506057  4.999415  137.945408\n",
       "4   AHL4O  12.702195  -8.147433  5.004363  134.766305\n",
       "5   HHckp  -3.327590  -2.205276  3.003647   84.038886\n",
       "6   h5Ujo -11.142655 -10.133399  4.002382  110.992147\n",
       "7   muH9x   4.234715  -0.001354  2.004588   53.906522\n",
       "8   YiRkx  13.355129  -0.332068  4.998647  134.766305\n",
       "9   jG6Gi   1.069227 -11.025667  4.997844  137.945408\n",
       "10  7uHUe  11.777049  -5.334084  2.003033   53.906522\n",
       "11  OXyvW  16.320755  -0.562946 -0.001783    0.000000\n",
       "12  cB8re   7.736313  -6.093374  3.982531  107.813044\n",
       "13  igmai   6.695604  -0.749449 -0.007630    0.000000\n",
       "14  3OdkE -10.985487  -5.605994  2.991130   84.038886"
      ]
     },
     "execution_count": 4,
     "metadata": {},
     "output_type": "execute_result"
    }
   ],
   "source": [
    "#Проведем анализ первого датасета\n",
    "\n",
    "print('Общая информация о данных:','\\n')\n",
    "print(data_2.info(),'\\n')\n",
    "\n",
    "print ('Количество дубликатов:', data_2[data_2['id'].duplicated()]['id'].count())\n",
    "\n",
    "data_2.head(15)"
   ]
  },
  {
   "cell_type": "code",
   "execution_count": 5,
   "metadata": {
    "scrolled": false
   },
   "outputs": [
    {
     "name": "stdout",
     "output_type": "stream",
     "text": [
      "Общая информация о данных: \n",
      "\n",
      "<class 'pandas.core.frame.DataFrame'>\n",
      "RangeIndex: 100000 entries, 0 to 99999\n",
      "Data columns (total 5 columns):\n",
      " #   Column   Non-Null Count   Dtype  \n",
      "---  ------   --------------   -----  \n",
      " 0   id       100000 non-null  object \n",
      " 1   f0       100000 non-null  float64\n",
      " 2   f1       100000 non-null  float64\n",
      " 3   f2       100000 non-null  float64\n",
      " 4   product  100000 non-null  float64\n",
      "dtypes: float64(4), object(1)\n",
      "memory usage: 3.8+ MB\n",
      "None \n",
      "\n",
      "Количество дубликатов: 4\n"
     ]
    },
    {
     "data": {
      "text/html": [
       "<div>\n",
       "<style scoped>\n",
       "    .dataframe tbody tr th:only-of-type {\n",
       "        vertical-align: middle;\n",
       "    }\n",
       "\n",
       "    .dataframe tbody tr th {\n",
       "        vertical-align: top;\n",
       "    }\n",
       "\n",
       "    .dataframe thead th {\n",
       "        text-align: right;\n",
       "    }\n",
       "</style>\n",
       "<table border=\"1\" class=\"dataframe\">\n",
       "  <thead>\n",
       "    <tr style=\"text-align: right;\">\n",
       "      <th></th>\n",
       "      <th>id</th>\n",
       "      <th>f0</th>\n",
       "      <th>f1</th>\n",
       "      <th>f2</th>\n",
       "      <th>product</th>\n",
       "    </tr>\n",
       "  </thead>\n",
       "  <tbody>\n",
       "    <tr>\n",
       "      <th>0</th>\n",
       "      <td>fwXo0</td>\n",
       "      <td>-1.146987</td>\n",
       "      <td>0.963328</td>\n",
       "      <td>-0.828965</td>\n",
       "      <td>27.758673</td>\n",
       "    </tr>\n",
       "    <tr>\n",
       "      <th>1</th>\n",
       "      <td>WJtFt</td>\n",
       "      <td>0.262778</td>\n",
       "      <td>0.269839</td>\n",
       "      <td>-2.530187</td>\n",
       "      <td>56.069697</td>\n",
       "    </tr>\n",
       "    <tr>\n",
       "      <th>2</th>\n",
       "      <td>ovLUW</td>\n",
       "      <td>0.194587</td>\n",
       "      <td>0.289035</td>\n",
       "      <td>-5.586433</td>\n",
       "      <td>62.871910</td>\n",
       "    </tr>\n",
       "    <tr>\n",
       "      <th>3</th>\n",
       "      <td>q6cA6</td>\n",
       "      <td>2.236060</td>\n",
       "      <td>-0.553760</td>\n",
       "      <td>0.930038</td>\n",
       "      <td>114.572842</td>\n",
       "    </tr>\n",
       "    <tr>\n",
       "      <th>4</th>\n",
       "      <td>WPMUX</td>\n",
       "      <td>-0.515993</td>\n",
       "      <td>1.716266</td>\n",
       "      <td>5.899011</td>\n",
       "      <td>149.600746</td>\n",
       "    </tr>\n",
       "    <tr>\n",
       "      <th>5</th>\n",
       "      <td>LzZXx</td>\n",
       "      <td>-0.758092</td>\n",
       "      <td>0.710691</td>\n",
       "      <td>2.585887</td>\n",
       "      <td>90.222465</td>\n",
       "    </tr>\n",
       "    <tr>\n",
       "      <th>6</th>\n",
       "      <td>WBHRv</td>\n",
       "      <td>-0.574891</td>\n",
       "      <td>0.317727</td>\n",
       "      <td>1.773745</td>\n",
       "      <td>45.641478</td>\n",
       "    </tr>\n",
       "    <tr>\n",
       "      <th>7</th>\n",
       "      <td>XO8fn</td>\n",
       "      <td>-1.906649</td>\n",
       "      <td>-2.458350</td>\n",
       "      <td>-0.177097</td>\n",
       "      <td>72.480640</td>\n",
       "    </tr>\n",
       "    <tr>\n",
       "      <th>8</th>\n",
       "      <td>ybmQ5</td>\n",
       "      <td>1.776292</td>\n",
       "      <td>-0.279356</td>\n",
       "      <td>3.004156</td>\n",
       "      <td>106.616832</td>\n",
       "    </tr>\n",
       "    <tr>\n",
       "      <th>9</th>\n",
       "      <td>OilcN</td>\n",
       "      <td>-1.214452</td>\n",
       "      <td>-0.439314</td>\n",
       "      <td>5.922514</td>\n",
       "      <td>52.954532</td>\n",
       "    </tr>\n",
       "    <tr>\n",
       "      <th>10</th>\n",
       "      <td>myq2g</td>\n",
       "      <td>0.628659</td>\n",
       "      <td>-2.120049</td>\n",
       "      <td>5.362437</td>\n",
       "      <td>166.799132</td>\n",
       "    </tr>\n",
       "    <tr>\n",
       "      <th>11</th>\n",
       "      <td>V9R1y</td>\n",
       "      <td>-0.544565</td>\n",
       "      <td>0.039088</td>\n",
       "      <td>8.635293</td>\n",
       "      <td>150.859435</td>\n",
       "    </tr>\n",
       "    <tr>\n",
       "      <th>12</th>\n",
       "      <td>bKDo0</td>\n",
       "      <td>-0.960453</td>\n",
       "      <td>-0.127113</td>\n",
       "      <td>7.764734</td>\n",
       "      <td>96.910855</td>\n",
       "    </tr>\n",
       "    <tr>\n",
       "      <th>13</th>\n",
       "      <td>eXvhs</td>\n",
       "      <td>1.432891</td>\n",
       "      <td>-1.242074</td>\n",
       "      <td>3.557168</td>\n",
       "      <td>8.704162</td>\n",
       "    </tr>\n",
       "    <tr>\n",
       "      <th>14</th>\n",
       "      <td>wI4j3</td>\n",
       "      <td>-0.935464</td>\n",
       "      <td>2.420523</td>\n",
       "      <td>1.150536</td>\n",
       "      <td>116.829811</td>\n",
       "    </tr>\n",
       "  </tbody>\n",
       "</table>\n",
       "</div>"
      ],
      "text/plain": [
       "       id        f0        f1        f2     product\n",
       "0   fwXo0 -1.146987  0.963328 -0.828965   27.758673\n",
       "1   WJtFt  0.262778  0.269839 -2.530187   56.069697\n",
       "2   ovLUW  0.194587  0.289035 -5.586433   62.871910\n",
       "3   q6cA6  2.236060 -0.553760  0.930038  114.572842\n",
       "4   WPMUX -0.515993  1.716266  5.899011  149.600746\n",
       "5   LzZXx -0.758092  0.710691  2.585887   90.222465\n",
       "6   WBHRv -0.574891  0.317727  1.773745   45.641478\n",
       "7   XO8fn -1.906649 -2.458350 -0.177097   72.480640\n",
       "8   ybmQ5  1.776292 -0.279356  3.004156  106.616832\n",
       "9   OilcN -1.214452 -0.439314  5.922514   52.954532\n",
       "10  myq2g  0.628659 -2.120049  5.362437  166.799132\n",
       "11  V9R1y -0.544565  0.039088  8.635293  150.859435\n",
       "12  bKDo0 -0.960453 -0.127113  7.764734   96.910855\n",
       "13  eXvhs  1.432891 -1.242074  3.557168    8.704162\n",
       "14  wI4j3 -0.935464  2.420523  1.150536  116.829811"
      ]
     },
     "execution_count": 5,
     "metadata": {},
     "output_type": "execute_result"
    }
   ],
   "source": [
    "#Проведем анализ первого датасета\n",
    "\n",
    "print('Общая информация о данных:','\\n')\n",
    "print(data_3.info(),'\\n')\n",
    "\n",
    "print ('Количество дубликатов:',data_3[data_3['id'].duplicated()]['id'].count())\n",
    "\n",
    "data_3.head(15)"
   ]
  },
  {
   "cell_type": "markdown",
   "metadata": {},
   "source": [
    "**Выводы по пункту 1.2:**\n",
    "\n",
    "При анализе полученных данных можно выделить следующие ключевые моменты:\n",
    "- в каждом из следующих датасетов представлено 10 000 строк и 5 столбцов;\n",
    "- пустые значения отсутствуют;\n",
    "- данные в каждом датасете соответствуют типу друг друга;\n",
    "- наименование колонок в строчной записи;\n",
    "- в данных имеются дубликаты по показателю `id`\n",
    "\n",
    "Датафреймы имеют следующие признаки:\n",
    "\n",
    "- `id` — уникальный идентификатор скважины;\n",
    "- `f0`, `f1`, `f2` — три признака точек (синтетические параметры, важные для обучения);\n",
    "- `product` — объём запасов в скважине (тыс. баррелей).\n",
    "\n",
    "Таким образом можно выделить следующие предпосылки по предобработке данных:\n",
    "1. При обучении модели признак `id` не нужен, он никак не влияет на прогнозирование модели, таким образом для обучения его необходимо удалить.\n",
    "2. Так как уникальным идентификатором месторождения является `id`, и при этом в популяции `id` месторождения могут повторяться - необходимо сформировать список дубликатов и на финальном этапе убедиться что выбранное для бурения месторождение не попадает в список дубликатов. Таким образом мы избежим ошибку в случае если наиболее прибыльным месторождением окажется месторождение с дублирующимися `id`. "
   ]
  },
  {
   "cell_type": "markdown",
   "metadata": {},
   "source": [
    "### Предобработка данных на основе анализа\n",
    "\n",
    "На основе проведенного анализа данных выделены следующие шаги по предобработке данных:\n",
    "\n",
    "1. выделение списка дубликатов в признаке `id` в отдельный массив;\n",
    "2. удаления признака `id` из датасета для обучения модели."
   ]
  },
  {
   "cell_type": "code",
   "execution_count": 6,
   "metadata": {
    "scrolled": false
   },
   "outputs": [
    {
     "name": "stdout",
     "output_type": "stream",
     "text": [
      "Количество дубликатов для первого региона: 10 \n",
      "Список дубликатов для первого региона: \n",
      " 7530     HZww2\n",
      "41724    bxg6G\n",
      "51970    A5aEY\n",
      "63593    QcMuo\n",
      "66136    74z30\n",
      "69163    AGS9W\n",
      "75715    Tdehs\n",
      "90815    fiKDv\n",
      "92341    TtcGQ\n",
      "97785    bsk9y\n",
      "Name: id, dtype: object \n",
      " \n",
      "Количество дубликатов для второго региона: 4 \n",
      "Список дубликатов для второго региона: \n",
      " 41906    LHZR0\n",
      "82178    bfPNe\n",
      "82873    wt4Uk\n",
      "84461    5ltQ6\n",
      "Name: id, dtype: object \n",
      " \n",
      "Количество дубликатов для третьего региона: 4 \n",
      "Список дубликатов для третьего региона: \n",
      " 41906    TzK85\n",
      "82178    WzvSU\n",
      "82873    uxqyU\n",
      "84461    unTDF\n",
      "Name: id, dtype: object \n",
      "\n"
     ]
    }
   ],
   "source": [
    "#сформируем список дубликатов для каждого региона\n",
    "\n",
    "duplicated_list_1 = data_1[data_1['id'].duplicated()]['id']\n",
    "duplicated_list_2 = data_2[data_2['id'].duplicated()]['id']\n",
    "duplicated_list_3 = data_3[data_2['id'].duplicated()]['id']\n",
    "\n",
    "#выведем полученную информацию на экран\n",
    "\n",
    "print('Количество дубликатов для первого региона:',len(duplicated_list_1),'\\n'\n",
    "      'Список дубликатов для первого региона:','\\n',duplicated_list_1,'\\n','\\n'\n",
    "      \n",
    "      'Количество дубликатов для второго региона:',len(duplicated_list_2),'\\n'\n",
    "      'Список дубликатов для второго региона:','\\n',duplicated_list_2,'\\n','\\n'\n",
    "      \n",
    "      'Количество дубликатов для третьего региона:',len(duplicated_list_3),'\\n'\n",
    "      'Список дубликатов для третьего региона:','\\n',duplicated_list_3,'\\n')"
   ]
  },
  {
   "cell_type": "markdown",
   "metadata": {},
   "source": [
    "Список `id` - дубликатов сформирован."
   ]
  },
  {
   "cell_type": "code",
   "execution_count": 7,
   "metadata": {},
   "outputs": [
    {
     "name": "stdout",
     "output_type": "stream",
     "text": [
      "<class 'pandas.core.frame.DataFrame'>\n",
      "RangeIndex: 100000 entries, 0 to 99999\n",
      "Data columns (total 4 columns):\n",
      " #   Column   Non-Null Count   Dtype  \n",
      "---  ------   --------------   -----  \n",
      " 0   f0       100000 non-null  float64\n",
      " 1   f1       100000 non-null  float64\n",
      " 2   f2       100000 non-null  float64\n",
      " 3   product  100000 non-null  float64\n",
      "dtypes: float64(4)\n",
      "memory usage: 3.1 MB\n",
      "None \n",
      "\n",
      "<class 'pandas.core.frame.DataFrame'>\n",
      "RangeIndex: 100000 entries, 0 to 99999\n",
      "Data columns (total 4 columns):\n",
      " #   Column   Non-Null Count   Dtype  \n",
      "---  ------   --------------   -----  \n",
      " 0   f0       100000 non-null  float64\n",
      " 1   f1       100000 non-null  float64\n",
      " 2   f2       100000 non-null  float64\n",
      " 3   product  100000 non-null  float64\n",
      "dtypes: float64(4)\n",
      "memory usage: 3.1 MB\n",
      "None \n",
      "\n",
      "<class 'pandas.core.frame.DataFrame'>\n",
      "RangeIndex: 100000 entries, 0 to 99999\n",
      "Data columns (total 4 columns):\n",
      " #   Column   Non-Null Count   Dtype  \n",
      "---  ------   --------------   -----  \n",
      " 0   f0       100000 non-null  float64\n",
      " 1   f1       100000 non-null  float64\n",
      " 2   f2       100000 non-null  float64\n",
      " 3   product  100000 non-null  float64\n",
      "dtypes: float64(4)\n",
      "memory usage: 3.1 MB\n",
      "None\n"
     ]
    }
   ],
   "source": [
    "#удалим столбец 'id' из датасетов\n",
    "\n",
    "data_1 = data_1.drop(['id'], axis = 1)\n",
    "data_2 = data_2.drop(['id'], axis = 1)\n",
    "data_3 = data_3.drop(['id'], axis = 1)\n",
    "\n",
    "print(data_1.info(),'\\n')\n",
    "print(data_2.info(),'\\n')\n",
    "print(data_3.info())"
   ]
  },
  {
   "cell_type": "markdown",
   "metadata": {},
   "source": [
    "Столбец `id` удален, другие данные не изменились"
   ]
  },
  {
   "cell_type": "markdown",
   "metadata": {},
   "source": [
    "### **Вывод по блоку \"Анализ и подготовка данных\"**\n",
    "\n",
    "В рамках данного блока были выполнены следующие процедуры:\n",
    "1. Импортированы необходимые для проекта библиотеки и функции.\n",
    "2. Проведена загрузка и первичный анализ данных:\n",
    "\n",
    "Было получено 3 датасета, каждый содержал **10 000** строк и **5** столбцов. В данных отсутствуют пропуски, в колонке `id` имеются дубликаты.\n",
    "\n",
    "3. Предобработка данных на основе анализа:\n",
    "Были сформированы списоки дубликатов в в колонке `id`, так как при финальном выборе месторождения `id` лучшего местоположения может попасть в список дубликатов, что может привести к ошибке при выборе месторождения. При этом из датафреймов строки с дублирующими `id` не удалены, так как потенциально могут иметь высокие показатели.\n",
    "\n",
    "Так как значение столбца `id` для обучения модели не является необходимым - данный элемент удален из датафреймов"
   ]
  },
  {
   "cell_type": "markdown",
   "metadata": {},
   "source": [
    "## Обучение и проверка модели\n",
    "\n",
    "На основе предобработанных данных из блока 1 проведем следующие действия:\n",
    "1. Разделим популяции на `обучающую` и `валидационную` выборку для каждого региона;\n",
    "2. Масштабируем параметры;\n",
    "3. Обучим модель Линейной регрессии"
   ]
  },
  {
   "cell_type": "markdown",
   "metadata": {},
   "source": [
    "### Разделение популяции на обучающую и валидационную выборку\n",
    "\n",
    "В первую очередь перед разделением необходимо выделить общие признаки и целевой признак.\n",
    "\n",
    "В данных датафреймах колонки относятся к следующим признакам:\n",
    "\n",
    "- `f0`, `f1`, `f2` — общие признаки (три признака точек);\n",
    "- `product` — целевой признак (объём запасов в скважине).\n",
    "\n",
    "Для обучения моделей необходимо разделить датафреймы на две выборки - на одной выборке модель будет обучаться, а на основе второй будет исследовано качество предсказаний модели.\n",
    "\n",
    "Разделим популяцию каждого региона в следующей пропорции:\n",
    "- обучающая выборка - **75%**\n",
    "- валидационная выборка - **25%**\n",
    "\n",
    "Для разделения популяции воспользуемся методом `train_test_split`"
   ]
  },
  {
   "cell_type": "code",
   "execution_count": 8,
   "metadata": {},
   "outputs": [],
   "source": [
    "#сформируем одинаковое значение для random_state\n",
    "state = np.random.RandomState(12345)"
   ]
  },
  {
   "cell_type": "code",
   "execution_count": 9,
   "metadata": {},
   "outputs": [
    {
     "name": "stdout",
     "output_type": "stream",
     "text": [
      "Размер популяции до деления: в первом регионе \n",
      " размер общих признаков: (100000, 3) \n",
      " размер целевых признаков: (100000,) \n",
      "\n",
      "Размер популяции после деления в первом регионе: \n",
      " размер общих обучающих признаков: (75000, 3) \n",
      " размер целевых обучающих признаков: (75000,) \n",
      " размер общих валидационных признаков: (25000, 3) \n",
      " размер целевых валидационных признаков: (25000,)\n"
     ]
    }
   ],
   "source": [
    "#разделение для первого региона\n",
    "#разделим признаки\n",
    "\n",
    "features_1 = data_1.drop(['product'], axis = 1)\n",
    "target_1 = data_1['product']\n",
    "\n",
    "#сформируем общие размеры популяции до разделения:\n",
    "\n",
    "print ('Размер популяции до деления: в первом регионе','\\n',\n",
    "       'размер общих признаков:', features_1.shape, '\\n',\n",
    "       'размер целевых признаков:', target_1.shape, '\\n')\n",
    "\n",
    "#проведем разделение популяции на выборки\n",
    "features_train_1, features_valid_1, target_train_1, target_valid_1 = train_test_split (\n",
    "    features_1, target_1, test_size = 0.25, random_state = state)\n",
    "\n",
    "#сформируем размеры выборок после разделения:\n",
    "print ('Размер популяции после деления в первом регионе:','\\n',\n",
    "       'размер общих обучающих признаков:', features_train_1.shape,'\\n',\n",
    "       'размер целевых обучающих признаков:', target_train_1.shape,'\\n',\n",
    "       'размер общих валидационных признаков:', features_valid_1.shape,'\\n',\n",
    "       'размер целевых валидационных признаков:', target_valid_1.shape)"
   ]
  },
  {
   "cell_type": "code",
   "execution_count": 10,
   "metadata": {},
   "outputs": [
    {
     "name": "stdout",
     "output_type": "stream",
     "text": [
      "Размер популяции до деления: во втором регионе \n",
      " размер общих признаков: (100000, 3) \n",
      " размер целевых признаков: (100000,) \n",
      "\n",
      "Размер популяции после деления во втором регионе: \n",
      " размер общих обучающих признаков: (75000, 3) \n",
      " размер целевых обучающих признаков: (75000,) \n",
      " размер общих валидационных признаков: (25000, 3) \n",
      " размер целевых валидационных признаков: (25000,)\n"
     ]
    }
   ],
   "source": [
    "#разделение для второго региона\n",
    "#разделим признаки\n",
    "\n",
    "features_2 = data_2.drop(['product'], axis = 1)\n",
    "target_2 = data_2['product']\n",
    "\n",
    "#сформируем общие размеры популяции до разделения:\n",
    "\n",
    "print ('Размер популяции до деления: во втором регионе','\\n',\n",
    "       'размер общих признаков:', features_2.shape, '\\n',\n",
    "       'размер целевых признаков:', target_2.shape, '\\n')\n",
    "\n",
    "#проведем разделение популяции на выборки\n",
    "features_train_2, features_valid_2, target_train_2, target_valid_2 = train_test_split (\n",
    "    features_2, target_2, test_size = 0.25, random_state = state)\n",
    "\n",
    "#сформируем размеры выборок после разделения:\n",
    "print ('Размер популяции после деления во втором регионе:','\\n',\n",
    "       'размер общих обучающих признаков:', features_train_2.shape,'\\n',\n",
    "       'размер целевых обучающих признаков:', target_train_2.shape,'\\n',\n",
    "       'размер общих валидационных признаков:', features_valid_2.shape,'\\n',\n",
    "       'размер целевых валидационных признаков:', target_valid_2.shape)"
   ]
  },
  {
   "cell_type": "code",
   "execution_count": 11,
   "metadata": {},
   "outputs": [
    {
     "name": "stdout",
     "output_type": "stream",
     "text": [
      "Размер популяции до деления: в третьем регионе \n",
      " размер общих признаков: (100000, 3) \n",
      " размер целевых признаков: (100000,) \n",
      "\n",
      "Размер популяции после деления в третьем регионе: \n",
      " размер общих обучающих признаков: (75000, 3) \n",
      " размер целевых обучающих признаков: (75000,) \n",
      " размер общих валидационных признаков: (25000, 3) \n",
      " размер целевых валидационных признаков: (25000,)\n"
     ]
    }
   ],
   "source": [
    "#разделение для третьего региона\n",
    "#разделим признаки\n",
    "\n",
    "features_3 = data_3.drop(['product'], axis = 1)\n",
    "target_3 = data_3['product']\n",
    "\n",
    "#сформируем общие размеры популяции до разделения:\n",
    "\n",
    "print ('Размер популяции до деления: в третьем регионе','\\n',\n",
    "       'размер общих признаков:', features_3.shape, '\\n',\n",
    "       'размер целевых признаков:', target_3.shape, '\\n')\n",
    "\n",
    "#проведем разделение популяции на выборки\n",
    "features_train_3, features_valid_3, target_train_3, target_valid_3 = train_test_split (\n",
    "    features_3, target_3, test_size = 0.25, random_state = state)\n",
    "\n",
    "#сформируем размеры выборок после разделения:\n",
    "print ('Размер популяции после деления в третьем регионе:','\\n',\n",
    "       'размер общих обучающих признаков:', features_train_3.shape,'\\n',\n",
    "       'размер целевых обучающих признаков:', target_train_3.shape,'\\n',\n",
    "       'размер общих валидационных признаков:', features_valid_3.shape,'\\n',\n",
    "       'размер целевых валидационных признаков:', target_valid_3.shape)"
   ]
  },
  {
   "cell_type": "markdown",
   "metadata": {},
   "source": [
    "**Вывод по пункту 2.1**\n",
    "\n",
    "Популяции для каждого региона разделены на обучающую и валидационную в пропорции **75/25** соответственно.\n",
    "\n",
    "Разделение прошло корректно, все данные разделены в верной пропорции."
   ]
  },
  {
   "cell_type": "markdown",
   "metadata": {},
   "source": [
    "### Масштабирование параметров\n",
    "\n",
    "Модели линейной регрессии очень сильно реагируют на данные, в рамках одного признака, слишком отличающиеся от других - в таком случае модель присваивает более высоким признакам более высокий вес, а это не является корректным. Чтобы избежать данной ловушки нам необходимо \"отмасштабировать\" данные - привести к одному масштабу.\n",
    "\n",
    "Произвести масштабирование данных можно с помощью SatndardScaler()"
   ]
  },
  {
   "cell_type": "code",
   "execution_count": 12,
   "metadata": {},
   "outputs": [],
   "source": [
    "#убираем ошибку от применения StandardScaler\n",
    "pd.options.mode.chained_assignment = None\n",
    "\n",
    "#укажем числовые переменные\n",
    "numeric = ['f0', 'f1', 'f2']"
   ]
  },
  {
   "cell_type": "code",
   "execution_count": 13,
   "metadata": {},
   "outputs": [],
   "source": [
    "#для первого региона\n",
    "#отмасштабируем данные \n",
    "scaler_1 = StandardScaler()\n",
    "scaler_1.fit(features_train_1[numeric])\n",
    "\n",
    "features_train_1[numeric] = scaler_1.transform (features_train_1[numeric])\n",
    "features_valid_1[numeric] = scaler_1.transform (features_valid_1[numeric])"
   ]
  },
  {
   "cell_type": "code",
   "execution_count": 14,
   "metadata": {},
   "outputs": [],
   "source": [
    "#для первого региона\n",
    "#отмасштабируем данные \n",
    "scaler_2 = StandardScaler()\n",
    "scaler_2.fit(features_train_2[numeric])\n",
    "\n",
    "features_train_2[numeric] = scaler_2.transform (features_train_2[numeric])\n",
    "features_valid_2[numeric] = scaler_2.transform (features_valid_2[numeric])"
   ]
  },
  {
   "cell_type": "code",
   "execution_count": 15,
   "metadata": {},
   "outputs": [],
   "source": [
    "#для первого региона\n",
    "#отмасштабируем данные \n",
    "scaler_3 = StandardScaler()\n",
    "scaler_3.fit(features_train_3[numeric])\n",
    "\n",
    "features_train_3[numeric] = scaler_3.transform (features_train_3[numeric])\n",
    "features_valid_3[numeric] = scaler_3.transform (features_valid_3[numeric])"
   ]
  },
  {
   "cell_type": "markdown",
   "metadata": {},
   "source": [
    "**Вывод по пункту 2.2**\n",
    "\n",
    "Данные отмасштабированы."
   ]
  },
  {
   "cell_type": "markdown",
   "metadata": {},
   "source": [
    "### Обучим модель Линейной регрессии \n",
    "\n",
    "Согласно условиям задания, для обучения лучше использовать модель Линейной регрессии. Из-за малого количества гиперпараметров линейная регрессия менее склонна к переобучению, чем деревья решений.\n",
    "\n",
    "Наиболее распространённая метрика качества в задаче регрессии — **средняя квадратичная ошибка(MSE)**. однако так как MSE - число возведенное в квадрат, определим метрику **корень из средней квадратичной ошибки (RMSE)**.\n",
    "\n",
    "Метрика **RMSE** показывает как сильно отклоняется предсказанное значение от реального - таким образом, чем **RMSE** меньше, тем лучше предсказывает модель.\n",
    "\n",
    "Сделаем предсказания на основе валидационной выборки и сравним с фактическими целевыми значениями валидационной выборки."
   ]
  },
  {
   "cell_type": "code",
   "execution_count": 16,
   "metadata": {},
   "outputs": [
    {
     "name": "stdout",
     "output_type": "stream",
     "text": [
      "Средний запас предсказанного сырья для первого региона: 92.59256778438035 \n",
      "Средний запас фактического сырья для первого региона: 92.07859674082927 \n",
      "RMSE для первого региона 37.5794217150813\n"
     ]
    }
   ],
   "source": [
    "#для первого региона\n",
    "model_1 = LinearRegression()\n",
    "model_1.fit (features_train_1, target_train_1)\n",
    "predicted_valid_1 = model_1.predict(features_valid_1)\n",
    "rmse_1 = mean_squared_error(target_valid_1, predicted_valid_1)** 0.5\n",
    "\n",
    "\n",
    "print('Средний запас предсказанного сырья для первого региона:', predicted_valid_1.mean(), '\\n' \n",
    "      'Средний запас фактического сырья для первого региона:', target_valid_1.mean(), '\\n'\n",
    "      'RMSE для первого региона', rmse_1)"
   ]
  },
  {
   "cell_type": "code",
   "execution_count": 17,
   "metadata": {},
   "outputs": [
    {
     "name": "stdout",
     "output_type": "stream",
     "text": [
      "Средний запас предсказанного сырья для второго региона: 68.76995145799754 \n",
      "Средний запас фактического сырья для второго региона: 68.77162424984647 \n",
      "RMSE для третьего региона 0.889736773768065\n"
     ]
    }
   ],
   "source": [
    "#для второго региона\n",
    "model_2 = LinearRegression()\n",
    "model_2.fit (features_train_2, target_train_2)\n",
    "predicted_valid_2 = model_2.predict(features_valid_2)\n",
    "rmse_2 = mean_squared_error(target_valid_2, predicted_valid_2)** 0.5\n",
    "\n",
    "\n",
    "print('Средний запас предсказанного сырья для второго региона:', predicted_valid_2.mean(), '\\n' \n",
    "      'Средний запас фактического сырья для второго региона:', target_valid_2.mean(), '\\n'\n",
    "      'RMSE для третьего региона', rmse_2)"
   ]
  },
  {
   "cell_type": "code",
   "execution_count": 18,
   "metadata": {},
   "outputs": [
    {
     "name": "stdout",
     "output_type": "stream",
     "text": [
      "Средний запас предсказанного сырья для третьего региона: 95.087528122523 \n",
      "Средний запас фактического сырья для третьего региона: 94.74895871720241 \n",
      "RMSE для третьего региона 39.958042459521614\n"
     ]
    }
   ],
   "source": [
    "#для третьего региона\n",
    "model_3 = LinearRegression()\n",
    "model_3.fit (features_train_3, target_train_3)\n",
    "predicted_valid_3 = model_3.predict(features_valid_3)\n",
    "rmse_3 = mean_squared_error(target_valid_3, predicted_valid_3)** 0.5\n",
    "\n",
    "\n",
    "print('Средний запас предсказанного сырья для третьего региона:', predicted_valid_3.mean(), '\\n' \n",
    "      'Средний запас фактического сырья для третьего региона:', target_valid_3.mean(), '\\n'\n",
    "      'RMSE для третьего региона', rmse_3)"
   ]
  },
  {
   "cell_type": "markdown",
   "metadata": {},
   "source": [
    "**Вывод по пункту 2.3**\n",
    "\n",
    "Модели Линейной регрессии обучены, предсказания моделей на валидационных данных сформулированы. "
   ]
  },
  {
   "cell_type": "markdown",
   "metadata": {},
   "source": [
    "### **Вывод по блоку \"Обучение и проверка модели\"**\n",
    "\n",
    "В рамках данного блока были получены следующие результаты:\n",
    "\n",
    "1. Популяции, для каждого региона были разделены на две выборки в следующей пропорции:\n",
    "- обучающая выборка - **75%**\n",
    "- валидационная выборка - **25%**\n",
    "\n",
    "2. С помощью метода `Масштабирвоания` все признаки были приведены к общему масштабу с целью избежания слишком высоких или слишком низких значений признаков, которые могли повлиять на качество модели.\n",
    "\n",
    "3. Для каждого региона мы обучили модель Линейной регрессии, которая по синтетическим данным определяет количество запасов сырья у месторождения. Также для каждого региона была определена метрика **RMSE** - корень из квадратного среднего отклонения.\n",
    "\n",
    "Были получены следующие результаты:\n",
    "\n",
    "- Для региона №1, среднее количество запасов предсказанных моделью составляет **92,59** тыс. баррелей, что достаточно близко к фактическому значению среднего количества запасов - **92.08** тыс. баррелей. При этом показатель метрики RMSE составляет **37.58**, таким образом отклонение предсказаний от факта составляет **37.58** тыс. баррелей. Таким образом при близких средних и высоком RMSE можно сделать вывод, что индивидуально предсказания и факт расходятся как в большую так и в меньшую сторону.\n",
    "- Для региона №2, среднее количество запасов предсказанных моделью составляет **68,77** тыс. баррелей, что эквивалентно фактическому значению среднего количества запасов - **68.77** тыс. баррелей. При этом показатель метрики RMSE составляет **0.88**, модель делает достаточно точные предсказания.\n",
    "- Для региона №3 , среднее количество запасов предсказанных моделью составляет **95,08** тыс. баррелей, что достаточно близко к фактическому значению среднего количества запасов - **94.75** тыс. баррелей. При этом показатель метрики RMSE составляет **39.96**, таким образом ситуация подобна региону один, только в данном случае отклонение еще выше.\n",
    "\n",
    "Подводя итог можно сказать, что в Регионе 1 и Регионе 2 - достаточно высокие запасы сырья, но при этом вероятность отклонения достаточно велика, в Регионе 2 - запасов меньше (примерно на 25%) - однако модель достаточно точно предсказывает значения каждого месторождения."
   ]
  },
  {
   "cell_type": "markdown",
   "metadata": {},
   "source": [
    "## Подготовка к расчёту прибыли\n",
    "\n",
    "В данном блоке будут подготовлены данные для расчета прибыли по каждому месторождению:\n",
    "\n",
    "1. Сформированы константы, которые будут участвовать в расчетах;\n",
    "2. Рассчитана точка безубыточности для бурения новой скважины. \n",
    "3. Объем сырья для точки безубыточности будет сравнен со средними значениями сырья для каждого региона.\n",
    " "
   ]
  },
  {
   "cell_type": "markdown",
   "metadata": {},
   "source": [
    "### Константы для расчетов\n",
    "\n",
    "Имеются вводные данные:\n",
    "- При разведке региона исследуют 500 точек, из которых с помощью машинного обучения выбирают 200 лучших для разработки.\n",
    "- Бюджет на разработку скважин в регионе — 10 млрд рублей.\n",
    "- При нынешних ценах один баррель сырья приносит 450 рублей дохода. Доход с каждой единицы продукта составляет 450 тыс. рублей, поскольку объём указан в тысячах баррелей.\n",
    "- После оценки рисков нужно оставить лишь те регионы, в которых вероятность убытков меньше 2.5%.\n",
    "\n",
    "Так как количество сырья указано в тысячах рублей, для сохранения масштаба все монетарные переменные будут в тысячах рублей\n",
    "\n",
    "Сохраним эту информацию в переменных"
   ]
  },
  {
   "cell_type": "code",
   "execution_count": 19,
   "metadata": {},
   "outputs": [],
   "source": [
    "#константу бюджета сохраним в переменную 'BUDGET' - тыс. руб.:\n",
    "BUDGET = 10000000\n",
    "#прибыль на одну тысячу баррелей сохраним в переменную 'PFB' - profit_from_barrel - тыс. руб:\n",
    "PFB = 450\n",
    "#количество исследуемых месторождений 'NED' - number explored deposits - шт.\n",
    "NED = 500\n",
    "#количество месторождения для разработки 'QFD' - quantity field development - шт.\n",
    "QFD = 200\n"
   ]
  },
  {
   "cell_type": "markdown",
   "metadata": {},
   "source": [
    "**Вывод по пункту 3.2:**\n",
    "\n",
    "Константы сформированы."
   ]
  },
  {
   "cell_type": "markdown",
   "metadata": {},
   "source": [
    "### Точка безубыточности\n",
    "\n",
    "Точка безубыточности - объём производства и реализации продукции, при котором расходы будут компенсированы доходами. В рамках данного проекта под *объемом* подразумевается - запас сырья. Таким образом точкой безубыточности будет являться такое количество сырья, расходы на добычу которого будут компенсированы доходами от его реализации.\n",
    "\n",
    "Объем добытый сверх точки безубыточности является чистой прибылью организации.\n",
    "\n",
    "Рассчитаем точку безубыточности для данного проекта и сохраним в переменную `BEP` - break-even point."
   ]
  },
  {
   "cell_type": "code",
   "execution_count": 20,
   "metadata": {},
   "outputs": [
    {
     "name": "stdout",
     "output_type": "stream",
     "text": [
      "Объем сырья, который необходимо добыть в регионе составляет: 22222.222222222223\n"
     ]
    }
   ],
   "source": [
    "#расчет происходит по формуле бюджет/стоимость единицы\n",
    "BEP = BUDGET/PFB\n",
    "\n",
    "print ('Объем сырья, который необходимо добыть в регионе составляет:',BEP)"
   ]
  },
  {
   "cell_type": "markdown",
   "metadata": {},
   "source": [
    "**Вывод по пункту 3.2:**\n",
    "\n",
    "Для того, чтобы покрыть все расходы на разработку необходимо добыть в регионе не менее **22 223** тыс. баррелей сырья."
   ]
  },
  {
   "cell_type": "markdown",
   "metadata": {},
   "source": [
    "### Сравнение точки безубыточности с запасами в регионе\n",
    "\n",
    "Так как по условиям проекта будет разработано 200 месторождений в выбранном регионе, необходимо для каждого региона умножить среднее фактическое значение (рассчитанное выше) на константу `qfd` (которая хранит в себе те самые 200 шт.). Полученное значение необходимо сравнить с точкой безубыточности."
   ]
  },
  {
   "cell_type": "code",
   "execution_count": 21,
   "metadata": {},
   "outputs": [
    {
     "name": "stdout",
     "output_type": "stream",
     "text": [
      "Точка безубыточности по региону: 22222.222222222223 \n",
      " \n",
      "Размер средней добычи в первом регионе: 18415.719348165854 \n",
      "Размер средней добычи во втором регионе: 13754.324849969293 \n",
      "Размер средней добычи в третьем регионе: 18949.79174344048\n"
     ]
    }
   ],
   "source": [
    "# сравнение средней добычи и точки безубыточности\n",
    "\n",
    "print('Точка безубыточности по региону:', BEP,'\\n','\\n'\n",
    "      'Размер средней добычи в первом регионе:', target_valid_1.mean()*QFD,'\\n'\n",
    "      'Размер средней добычи во втором регионе:',target_valid_2.mean()*QFD,'\\n'\n",
    "      'Размер средней добычи в третьем регионе:',target_valid_3.mean()*QFD)"
   ]
  },
  {
   "cell_type": "markdown",
   "metadata": {},
   "source": [
    "**Вывод по блоку 3.3**\n",
    "\n",
    "При анализе было выявлено, что если мы будем брать средние значения сырья в регионе - мы не выйдем на доход, который в состоянии компенсировать расходы на добычу. Однако в данном проекте для разведки будут отобраны месторождения с наиболее высокими показателями запасов сырья."
   ]
  },
  {
   "cell_type": "markdown",
   "metadata": {},
   "source": [
    "### **Вывод по блоку \"Подготовка к расчету прибыли\"**\n",
    "\n",
    "В рамках данного блока были выполнены следующие задачи:\n",
    "1. Сформированы константы, необходимые для расчетов, были выделены следующие константы:\n",
    "- **BUDGET** = 10000000 - бюджет разработки;\n",
    "- **PFB** = 450 - прибыль с 1 тыс. баррелей сырья\n",
    "- **NED** = 500 - количество исследуемых месторождений\n",
    "- **QFD** = 200 - лучшие месторождения из исследуемых\n",
    "- **TH** = 0.025 - критический уровень убытков\n",
    "\n",
    "2. Была определена точка безубыточности - для того чтобы разработка была прибыльной, в регионе необходимо добыть не менее **22223** тыс. баррелей сырья.\n",
    "\n",
    "3. Было проведено сравнение со средними запасами сырья в каждом регионе, для этого среднее значения сырья одного месторождения умножили на количество разрабатываемых месторождений (согласно плану) - 200 шт.\n",
    "Значения для регионов:\n",
    "- Размер средней добычи в первом регионе: **18415.71** \n",
    "- Размер средней добычи во втором регионе: **13754.32** \n",
    "- Размер средней добычи в третьем регионе: **18949.79**\n",
    "\n",
    "Для каждого региона при средней добычи и требуемой точкой безубыточности в 22222 тыс. баррелей сырья - проект разработки будет убыточен, однако планируется отбирать лучшие варианты. Детально см. следующий блок."
   ]
  },
  {
   "cell_type": "markdown",
   "metadata": {},
   "source": [
    "## Расчёт прибыли и рисков \n",
    "\n",
    "В данном блоке будут выполнены следующие операции:\n",
    "\n",
    "1. Построена функция определяющая прибыль по каждому региону;\n",
    "2. Проведена процедура *Bootstrap* \n",
    "3. Проведен выбор лучшего региона."
   ]
  },
  {
   "cell_type": "markdown",
   "metadata": {},
   "source": [
    "### Функция расчета прибыли\n",
    "\n",
    "Согласно условиям для определения прибыли будут исследоваться 500 месторождений и из них будут отбираться 200 месторождений с лучшими показателями согласно предсказанию модели. \n",
    "\n",
    "Таким образом в функцию будут поступать данные о 500 месторождениях - далее будет фильтроваться результаты предсказания в порядке убывания и отсекаться 200 (`QFD`) строк.\n",
    "\n",
    "Для определения прибыли необходимо будет умножить сумму запасов двухста месторождений на стоимость 1 тыс. баррелей (`PFB`) и вычесть планируемый бюджет разработки месторождений (`BUDGET`)\n",
    "\n",
    "Построенная функция представлена ниже:"
   ]
  },
  {
   "cell_type": "code",
   "execution_count": 22,
   "metadata": {},
   "outputs": [],
   "source": [
    "def revenue (target, predictions):\n",
    "    predictions_sorted = predictions.sort_values(ascending = False)\n",
    "    selected = target[predictions_sorted.index][:QFD]   \n",
    "    return selected.sum()*PFB-BUDGET"
   ]
  },
  {
   "cell_type": "markdown",
   "metadata": {},
   "source": [
    "### Применение процедуры Bootstrap\n",
    "\n",
    "Bootstrap - процедура которая семплирует данные согласно указанным гипперпараметрам.\n",
    "\n",
    "Согласно услвоиям функция будет переберать выборки **1000** раз, каждый раз семплируюя случайные позиции. \n",
    "\n",
    "Гиперпараметрами данной функции будут являться значения:\n",
    "- n - число элементов в выборке - 500 шт.`NED`\n",
    "- random_state = 12345 \n",
    "- replace = True - данный гиперпараметр позволяет возвращать в выборку позиции, которые уже были использованы в других выборках.\n",
    "\n",
    "Результатом функции будет список из **500** целевых признаков и предсказаний.\n",
    "\n",
    "Дополнительно добавим функцию `bts`, которая будет принимать значения целевых признаков и предсказаний."
   ]
  },
  {
   "cell_type": "code",
   "execution_count": 23,
   "metadata": {
    "scrolled": true
   },
   "outputs": [],
   "source": [
    " def bts (target, predictions):\n",
    "    \n",
    "    values = []\n",
    "    loss =0\n",
    "    for i in tqdm(range(1000)):\n",
    "        target_subsample = (target.reset_index(drop=True)\n",
    "                            .sample(n = NED, random_state = state, replace = True))\n",
    "        predictions_subsample = pd.Series(predictions)[target_subsample.index]\n",
    "        \n",
    "#Данный блок необходим для расчета риска убытков\n",
    "        profit = revenue(target_subsample, predictions_subsample)\n",
    "        if profit <0:\n",
    "            loss += 1\n",
    "        \n",
    "        values.append (revenue(target_subsample, predictions_subsample))\n",
    "        \n",
    "    values = pd.Series(values)\n",
    "    \n",
    "#расчет %% убытков и вывод значений    \n",
    "    loss_prob = loss/1000*100\n",
    "    return values, loss_prob"
   ]
  },
  {
   "cell_type": "markdown",
   "metadata": {},
   "source": [
    "### Выбор лучшего региона\n",
    "\n",
    "Для определения лучшего региона нам необходимо получить информацию о следующих показателях добычи в данном регионе:\n",
    "- средняя прибыль региона;\n",
    "- 95%-й доверительный интервал;\n",
    "- риск убытков.\n",
    "\n",
    "Рассчитаем необходимые значения для каждого региона"
   ]
  },
  {
   "cell_type": "code",
   "execution_count": 24,
   "metadata": {},
   "outputs": [
    {
     "name": "stderr",
     "output_type": "stream",
     "text": [
      "100%|██████████| 1000/1000 [00:02<00:00, 389.24it/s]"
     ]
    },
    {
     "name": "stdout",
     "output_type": "stream",
     "text": [
      "Информация для региона №1 \n",
      " \n",
      "Средняя прибыль в регионе составляет, тыс. руб.:  423897.2379169053 \n",
      " \n",
      "Значения 95% доверительного интервала между:  \n",
      " Нижнее значение:  -76187.81389036294 \n",
      " Верхнее значение:  957846.5319517821 \n",
      " \n",
      "Риск убытков, %:  4.8\n"
     ]
    },
    {
     "name": "stderr",
     "output_type": "stream",
     "text": [
      "\n"
     ]
    }
   ],
   "source": [
    "region_1, prob_loss_region_1 = bts(target_valid_1, predicted_valid_1)\n",
    "print ('Информация для региона №1', '\\n','\\n'\n",
    "       'Средняя прибыль в регионе составляет, тыс. руб.: ',region_1.mean(), '\\n','\\n'\n",
    "       'Значения 95% доверительного интервала между: ', '\\n',\n",
    "       'Нижнее значение: ', region_1.quantile(0.025), '\\n',\n",
    "       'Верхнее значение: ', region_1.quantile(1-0.025),'\\n','\\n'\n",
    "       'Риск убытков, %: ', prob_loss_region_1) "
   ]
  },
  {
   "cell_type": "code",
   "execution_count": 25,
   "metadata": {},
   "outputs": [
    {
     "name": "stderr",
     "output_type": "stream",
     "text": [
      "100%|██████████| 1000/1000 [00:02<00:00, 363.44it/s]"
     ]
    },
    {
     "name": "stdout",
     "output_type": "stream",
     "text": [
      "Информация для региона №2 \n",
      " \n",
      "Средняя прибыль в регионе составляет, тыс. руб.:  513256.69891726074 \n",
      " \n",
      "Значения 95% доверительного интервала между:  \n",
      " Нижнее значение:  108066.89523396171 \n",
      " Верхнее значение:  928574.439232496 \n",
      " \n",
      "Риск убытков, %:  0.6\n"
     ]
    },
    {
     "name": "stderr",
     "output_type": "stream",
     "text": [
      "\n"
     ]
    }
   ],
   "source": [
    "region_2, prob_loss_region_2 = bts(target_valid_2, predicted_valid_2)\n",
    "print ('Информация для региона №2', '\\n','\\n'\n",
    "       'Средняя прибыль в регионе составляет, тыс. руб.: ',region_2.mean(), '\\n','\\n'\n",
    "       'Значения 95% доверительного интервала между: ', '\\n',\n",
    "       'Нижнее значение: ', region_2.quantile(0.025), '\\n',\n",
    "       'Верхнее значение: ', region_2.quantile(1-0.025),'\\n','\\n'\n",
    "       'Риск убытков, %: ', prob_loss_region_2) "
   ]
  },
  {
   "cell_type": "code",
   "execution_count": 26,
   "metadata": {
    "scrolled": true
   },
   "outputs": [
    {
     "name": "stderr",
     "output_type": "stream",
     "text": [
      "100%|██████████| 1000/1000 [00:02<00:00, 372.00it/s]"
     ]
    },
    {
     "name": "stdout",
     "output_type": "stream",
     "text": [
      "Информация для региона №3 \n",
      " \n",
      "Средняя прибыль в регионе составляет, тыс. руб.:  381120.3595759014 \n",
      " \n",
      "Значения 95% доверительного интервала между:  \n",
      " Нижнее значение:  -142800.63008786933 \n",
      " Верхнее значение:  893380.5657504003 \n",
      " \n",
      "Риск убытков, %:  7.3999999999999995\n"
     ]
    },
    {
     "name": "stderr",
     "output_type": "stream",
     "text": [
      "\n"
     ]
    }
   ],
   "source": [
    "region_3, prob_loss_region_3 = bts(target_valid_3, predicted_valid_3)\n",
    "print ('Информация для региона №3', '\\n','\\n'\n",
    "       'Средняя прибыль в регионе составляет, тыс. руб.: ',region_3.mean(), '\\n','\\n'\n",
    "       'Значения 95% доверительного интервала между: ', '\\n',\n",
    "       'Нижнее значение: ', region_3.quantile(0.025), '\\n',\n",
    "       'Верхнее значение: ', region_3.quantile(1-0.025),'\\n','\\n'\n",
    "       'Риск убытков, %: ', prob_loss_region_3) "
   ]
  },
  {
   "cell_type": "markdown",
   "metadata": {},
   "source": [
    "### **Вывод по блоку \"Расчет прибыли и рисков\"**\n",
    "\n",
    "В данном блоке были выполнены следующие процедуры:\n",
    "\n",
    "1. Сформирована функция для расчета прибыли в регионе;\n",
    "2. Сформирована функция для применения процедуры bootstrap\n",
    "3. Для каждого региона были получены показатели:\n",
    "\n",
    "**Регион №1**\n",
    "\n",
    "Средняя прибыль в регионе составляет:  **425 063.85** тыс. руб.\n",
    " \n",
    "Значения 95% доверительного интервала между:  \n",
    " Нижнее значение:  -120224.31621769907 \n",
    " Верхнее значение:  982554.8633446723 \n",
    " \n",
    "Таким образом с вероятностью 95% прибыль в регионе будет находится в интервале от **-120 224.31** до **982 554.86**\n",
    " \n",
    "Риск убытков:  **6.2%** - что противоречит заданному уровню риска в 2,5%\n",
    "\n",
    "**Регион №2**\n",
    "\n",
    "Средняя прибыль в регионе составляет:  **516 331.42** тыс. руб.\n",
    " \n",
    "Значения 95% доверительного интервала между:  \n",
    " Нижнее значение:  117121.63594472969 \n",
    " Верхнее значение:  960002.4599272121 \n",
    " \n",
    "Таким образом с вероятностью 95% прибыль в регионе будет находится в интервале от **117 121.63** до **960 002.45**\n",
    " \n",
    "Риск убытков:  **0.5%** - что допускается заданным уровнем риска в 2,5%\n",
    "\n",
    "**Регион №3**\n",
    "\n",
    "Средняя прибыль в регионе составляет:  **364 601.99** тыс. руб.\n",
    " \n",
    "Значения 95% доверительного интервала между:  \n",
    " Нижнее значение:  -161963.86069313608 \n",
    " Верхнее значение:  929509.7313283813 \n",
    " \n",
    "Таким образом с вероятностью 95% прибыль в регионе будет находится в интервале от **-161963.86** до **929509.73**\n",
    " \n",
    "Риск убытков:  **9.7%** - что противоречит заданному уровню риска в 2,5%"
   ]
  },
  {
   "cell_type": "markdown",
   "metadata": {},
   "source": [
    "## Вывод по проекту\n",
    "\n",
    "Целью данного проекта является сформировать понимание, в каком из трех предложенных регионов стоит начать разработку месторождений, необходимо выбрать самый прибыль регион с наименьшем уровнем риска убытков.\n",
    "\n",
    "**Блок №1 - Анализ и подготовка данных**\n",
    "\n",
    "В рамках первого блока была проведена загрузка и предварительный анализ данных по трем датафреймам содержащим данные в отношении запасов сырья и дополнительных параметрах расположенных в регионе месторождений в разрезе индивидуального месторождения. В каждом датафрейме имеется **10 000** строк и **5** признаков - где одна строка - одно месторождение.\n",
    "\n",
    "В ходе процедуры анализа были выявлены дубликаты, информация о которых сохранена в отдельный список. Данная информация необходима для того чтобы не допустить ошибку при выборе месторождения для разработки.\n",
    "\n",
    "Также в ходе предобработки был удален столбец содержащий информация о `ID` месторождения, так как данная информация не нужна для обучения модели.\n",
    "\n",
    "**Блок №2 - Обучение и проверка модели**\n",
    "\n",
    "В данном блоке были выполнены шаги для успешного обучения моделей прогнозирования.\n",
    "\n",
    "Популяции по каждому региону были разделены на 2 выборки - обучающую и валидационную в пропорции **75/25** соответственно.\n",
    "\n",
    "Далее признаки на которых обучается модель были приведены к одному масштабу с помощью функции `StandardScaler`, с целью уменьшения ошибки при некорректном присвоении веса.\n",
    "\n",
    "После этого были проведено обучение моделей `Линейно регрессии` для каждого региона. В качестве метрики качества предсказания моделей была использована метрика **RMSE** - которая показывает насколько сильно среднее значение предсказания отличается от фактического значения. Качество предсказаний моделей составляют следующее значения:\n",
    "- качество модели первого региона составляет: 37.58 тыс. баррелей\n",
    "- качество модели второго региона составляет: 0.88 тыс. баррелей\n",
    "- качество модели третьего региона составляет: 39.96 тыс. баррелей\n",
    "\n",
    "**Блок №3 - Подготовка к расчету прибыли**\n",
    "\n",
    "Блок №3 затрагивает формирование информации для расчета прибыли, в этом блоке были выполнены операции:\n",
    "1. Формирование констант для использования в расчетах;\n",
    "2. Определена точка безубыточности для добычи в регионе, которая составили **22 223** тыс. баррелей.\n",
    "3. Определено среднее количество добываемого сырья в каждом из регионов. Для этого среднее значение сырья для одного месторождения умножили на 200 (Число планируемых скважин в регионе). Для регионов были получены следующие средние показатели добычи:\n",
    "- Размер средней добычи в первом регионе: **18415.71** \n",
    "- Размер средней добычи во втором регионе: **13754.32** \n",
    "- Размер средней добычи в третьем регионе: **18949.79**\n",
    "\n",
    "Согласно полученным данных есть риск, что добыча не будет успешной, так как ни один из регионов не показал необходимой цифры. Однако согласно условиям с помощью моделей машинного обучения мы отберем наиболее богатые на сырье месторождения.\n",
    "\n",
    "**Блок №4 - Расчет прибыли и рисков**\n",
    "\n",
    "В данном блоке были проведены основные расчеты:\n",
    "- Сформирована функция отвечающая за расчет прибыли;\n",
    "- Сформирована функция в рамках которой применяется процедура Bootstrap;\n",
    "- Рассчитаны основные показатели для каждого региона.\n",
    "\n",
    "Для каждого региона были получены следующие значения:\n",
    "\n",
    "Потенциальная прибыль от разработки в регионе:\n",
    "- Регоин №1: **425 063.85** тыс. руб\n",
    "- Регоин №2: **516 331.42** тыс. руб.\n",
    "- Регоин №3: **364 601.99** тыс. руб.\n",
    "\n",
    "95% доверительный интервал для каждого региона:\n",
    "- Регоин №1: от **-120 224.31** до **982 554.86**\n",
    "- Регоин №2: от **117 121.63** до **960 002.45**\n",
    "- Регоин №3: от **-161963.86** до **929509.73**\n",
    "\n",
    "Потенциальные убытки от разработки в каждом регионе:\n",
    "- Регоин №1: **6.2%**\n",
    "- Регоин №2: **0.5%**\n",
    "- Регоин №3: **9.7%**\n",
    "\n",
    "\n",
    "**Рекомендации**\n",
    "\n",
    "На основе полученных данных можно сделать вывод, что самым прибыльным регионом для запуска проекта по разработке месторождений является **Регион №2** - средняя прогнозная прибыль составляет **516 331.42**. При этом, согласно входящим данным риск убытка от разработки не должен составлять более **2.5%** - значения риска для второго региона - **0.5**%. Таким образом **Регион №2** лучше всего подходит для запуска проекта по разработке и добычи сырья.\n",
    "\n",
    "Что касается Региона №1 и Региона №3 - несмотря на прибыльность в данных регионах, уровень риска убытка составляет **6.2%** и **9.7%** - что противоречит установленному уровню допустимого риска."
   ]
  }
 ],
 "metadata": {
  "ExecuteTimeLog": [
   {
    "duration": 1433,
    "start_time": "2023-04-26T07:44:53.754Z"
   },
   {
    "duration": 77,
    "start_time": "2023-04-26T08:28:01.609Z"
   },
   {
    "duration": 477,
    "start_time": "2023-04-26T08:32:28.650Z"
   },
   {
    "duration": 131,
    "start_time": "2023-04-26T08:32:38.265Z"
   },
   {
    "duration": 336,
    "start_time": "2023-04-26T08:32:49.497Z"
   },
   {
    "duration": 647,
    "start_time": "2023-04-26T08:37:46.759Z"
   },
   {
    "duration": 3,
    "start_time": "2023-04-26T08:46:40.500Z"
   },
   {
    "duration": 226,
    "start_time": "2023-04-26T08:50:10.664Z"
   },
   {
    "duration": 527,
    "start_time": "2023-04-26T08:50:30.127Z"
   },
   {
    "duration": 362,
    "start_time": "2023-04-26T08:50:42.704Z"
   },
   {
    "duration": 31,
    "start_time": "2023-04-26T08:51:16.360Z"
   },
   {
    "duration": 16,
    "start_time": "2023-04-26T08:52:52.430Z"
   },
   {
    "duration": 19,
    "start_time": "2023-04-26T08:53:07.174Z"
   },
   {
    "duration": 22,
    "start_time": "2023-04-26T08:53:13.167Z"
   },
   {
    "duration": 22,
    "start_time": "2023-04-26T08:53:43.861Z"
   },
   {
    "duration": 28,
    "start_time": "2023-04-26T08:53:45.662Z"
   },
   {
    "duration": 73,
    "start_time": "2023-04-26T08:55:13.334Z"
   },
   {
    "duration": 19,
    "start_time": "2023-04-26T08:57:02.611Z"
   },
   {
    "duration": 2479,
    "start_time": "2023-04-26T08:57:54.160Z"
   },
   {
    "duration": 24,
    "start_time": "2023-04-26T08:58:06.124Z"
   },
   {
    "duration": 41,
    "start_time": "2023-04-26T08:58:17.732Z"
   },
   {
    "duration": 34,
    "start_time": "2023-04-26T08:59:59.474Z"
   },
   {
    "duration": 30,
    "start_time": "2023-04-26T09:00:24.876Z"
   },
   {
    "duration": 9,
    "start_time": "2023-04-26T09:00:39.877Z"
   },
   {
    "duration": 10,
    "start_time": "2023-04-26T09:00:48.844Z"
   },
   {
    "duration": 10,
    "start_time": "2023-04-26T09:01:02.955Z"
   },
   {
    "duration": 10,
    "start_time": "2023-04-26T09:01:18.216Z"
   },
   {
    "duration": 10,
    "start_time": "2023-04-26T09:02:59.260Z"
   },
   {
    "duration": 1527,
    "start_time": "2023-04-26T09:03:07.429Z"
   },
   {
    "duration": 376,
    "start_time": "2023-04-26T09:03:08.958Z"
   },
   {
    "duration": 39,
    "start_time": "2023-04-26T09:03:09.335Z"
   },
   {
    "duration": 24,
    "start_time": "2023-04-26T09:03:09.376Z"
   },
   {
    "duration": 21,
    "start_time": "2023-04-26T09:03:09.402Z"
   },
   {
    "duration": 117,
    "start_time": "2023-04-26T09:03:23.466Z"
   },
   {
    "duration": 12,
    "start_time": "2023-04-26T09:04:21.497Z"
   },
   {
    "duration": 10,
    "start_time": "2023-04-26T09:04:28.850Z"
   },
   {
    "duration": 15,
    "start_time": "2023-04-26T09:04:36.300Z"
   },
   {
    "duration": 2017,
    "start_time": "2023-04-26T09:04:49.023Z"
   },
   {
    "duration": 438,
    "start_time": "2023-04-26T09:04:51.042Z"
   },
   {
    "duration": 33,
    "start_time": "2023-04-26T09:04:51.481Z"
   },
   {
    "duration": 43,
    "start_time": "2023-04-26T09:04:51.516Z"
   },
   {
    "duration": 24,
    "start_time": "2023-04-26T09:04:51.561Z"
   },
   {
    "duration": 11,
    "start_time": "2023-04-26T09:05:25.796Z"
   },
   {
    "duration": 11,
    "start_time": "2023-04-26T09:05:33.666Z"
   },
   {
    "duration": 15,
    "start_time": "2023-04-26T09:06:00.160Z"
   },
   {
    "duration": 18,
    "start_time": "2023-04-26T09:06:05.696Z"
   },
   {
    "duration": 17,
    "start_time": "2023-04-26T09:06:26.529Z"
   },
   {
    "duration": 21,
    "start_time": "2023-04-26T09:06:34.188Z"
   },
   {
    "duration": 19,
    "start_time": "2023-04-26T09:06:40.377Z"
   },
   {
    "duration": 19,
    "start_time": "2023-04-26T09:06:52.720Z"
   },
   {
    "duration": 18,
    "start_time": "2023-04-26T09:06:58.768Z"
   },
   {
    "duration": 19,
    "start_time": "2023-04-26T09:07:26.706Z"
   },
   {
    "duration": 23,
    "start_time": "2023-04-26T09:07:31.144Z"
   },
   {
    "duration": 19,
    "start_time": "2023-04-26T09:07:36.399Z"
   },
   {
    "duration": 1377,
    "start_time": "2023-04-26T09:07:44.608Z"
   },
   {
    "duration": 380,
    "start_time": "2023-04-26T09:07:45.987Z"
   },
   {
    "duration": 39,
    "start_time": "2023-04-26T09:07:46.368Z"
   },
   {
    "duration": 40,
    "start_time": "2023-04-26T09:07:46.409Z"
   },
   {
    "duration": 25,
    "start_time": "2023-04-26T09:07:46.451Z"
   },
   {
    "duration": 38,
    "start_time": "2023-04-26T09:08:02.327Z"
   },
   {
    "duration": 39,
    "start_time": "2023-04-26T09:08:51.438Z"
   },
   {
    "duration": 139,
    "start_time": "2023-04-26T09:09:08.961Z"
   },
   {
    "duration": 42,
    "start_time": "2023-04-26T09:09:14.677Z"
   },
   {
    "duration": 32,
    "start_time": "2023-04-26T09:09:31.943Z"
   },
   {
    "duration": 34,
    "start_time": "2023-04-26T09:10:48.206Z"
   },
   {
    "duration": 40,
    "start_time": "2023-04-26T09:11:22.026Z"
   },
   {
    "duration": 35,
    "start_time": "2023-04-26T09:12:31.149Z"
   },
   {
    "duration": 54,
    "start_time": "2023-04-26T09:14:15.644Z"
   },
   {
    "duration": 43,
    "start_time": "2023-04-26T09:14:42.524Z"
   },
   {
    "duration": 46,
    "start_time": "2023-04-26T09:14:47.924Z"
   },
   {
    "duration": 39,
    "start_time": "2023-04-26T09:14:53.636Z"
   },
   {
    "duration": 4514,
    "start_time": "2023-04-26T09:15:20.379Z"
   },
   {
    "duration": 36,
    "start_time": "2023-04-26T09:15:40.547Z"
   },
   {
    "duration": 30,
    "start_time": "2023-04-26T09:15:56.299Z"
   },
   {
    "duration": 44,
    "start_time": "2023-04-26T09:16:16.671Z"
   },
   {
    "duration": 32,
    "start_time": "2023-04-26T09:16:31.667Z"
   },
   {
    "duration": 30,
    "start_time": "2023-04-26T09:21:54.174Z"
   },
   {
    "duration": 25,
    "start_time": "2023-04-26T09:23:07.871Z"
   },
   {
    "duration": 27,
    "start_time": "2023-04-26T09:23:13.736Z"
   },
   {
    "duration": 31,
    "start_time": "2023-04-26T09:23:20.711Z"
   },
   {
    "duration": 33,
    "start_time": "2023-04-26T09:23:32.615Z"
   },
   {
    "duration": 16,
    "start_time": "2023-04-26T09:49:12.776Z"
   },
   {
    "duration": 20,
    "start_time": "2023-04-26T09:50:11.405Z"
   },
   {
    "duration": 43,
    "start_time": "2023-04-26T09:50:17.028Z"
   },
   {
    "duration": 16,
    "start_time": "2023-04-26T09:50:31.449Z"
   },
   {
    "duration": 35,
    "start_time": "2023-04-26T09:50:40.681Z"
   },
   {
    "duration": 32,
    "start_time": "2023-04-26T09:50:50.025Z"
   },
   {
    "duration": 11,
    "start_time": "2023-04-26T10:41:15.136Z"
   },
   {
    "duration": 368,
    "start_time": "2023-04-26T10:41:22.311Z"
   },
   {
    "duration": 54,
    "start_time": "2023-04-26T10:41:33.911Z"
   },
   {
    "duration": 46,
    "start_time": "2023-04-26T10:41:56.545Z"
   },
   {
    "duration": 27,
    "start_time": "2023-04-26T10:42:13.182Z"
   },
   {
    "duration": 37,
    "start_time": "2023-04-26T10:42:22.828Z"
   },
   {
    "duration": 44,
    "start_time": "2023-04-26T10:42:38.769Z"
   },
   {
    "duration": 86,
    "start_time": "2023-04-26T10:43:30.902Z"
   },
   {
    "duration": 28,
    "start_time": "2023-04-26T10:43:36.806Z"
   },
   {
    "duration": 35,
    "start_time": "2023-04-26T10:44:31.400Z"
   },
   {
    "duration": 31,
    "start_time": "2023-04-26T10:45:16.800Z"
   },
   {
    "duration": 69,
    "start_time": "2023-04-26T10:45:29.039Z"
   },
   {
    "duration": 4,
    "start_time": "2023-04-26T10:46:16.713Z"
   },
   {
    "duration": 62,
    "start_time": "2023-04-26T10:46:19.685Z"
   },
   {
    "duration": 38,
    "start_time": "2023-04-26T10:46:40.700Z"
   },
   {
    "duration": 52,
    "start_time": "2023-04-26T10:46:53.165Z"
   },
   {
    "duration": 35,
    "start_time": "2023-04-26T10:46:59.877Z"
   },
   {
    "duration": 15,
    "start_time": "2023-04-26T10:49:06.130Z"
   },
   {
    "duration": 16,
    "start_time": "2023-04-26T10:49:17.812Z"
   },
   {
    "duration": 1588,
    "start_time": "2023-04-27T07:25:02.661Z"
   },
   {
    "duration": 1679,
    "start_time": "2023-04-27T07:25:04.410Z"
   },
   {
    "duration": 44,
    "start_time": "2023-04-27T07:25:06.092Z"
   },
   {
    "duration": 37,
    "start_time": "2023-04-27T07:25:27.115Z"
   },
   {
    "duration": 37,
    "start_time": "2023-04-27T07:25:35.105Z"
   },
   {
    "duration": 40,
    "start_time": "2023-04-27T07:25:43.185Z"
   },
   {
    "duration": 48,
    "start_time": "2023-04-27T07:25:48.537Z"
   },
   {
    "duration": 18,
    "start_time": "2023-04-27T07:25:49.640Z"
   },
   {
    "duration": 1396,
    "start_time": "2023-04-27T07:44:07.034Z"
   },
   {
    "duration": 366,
    "start_time": "2023-04-27T07:44:08.432Z"
   },
   {
    "duration": 46,
    "start_time": "2023-04-27T07:44:08.800Z"
   },
   {
    "duration": 53,
    "start_time": "2023-04-27T07:44:08.847Z"
   },
   {
    "duration": 35,
    "start_time": "2023-04-27T07:44:08.902Z"
   },
   {
    "duration": 55,
    "start_time": "2023-04-27T07:44:08.938Z"
   },
   {
    "duration": 41,
    "start_time": "2023-04-27T07:44:08.995Z"
   },
   {
    "duration": 18,
    "start_time": "2023-04-27T07:44:09.038Z"
   },
   {
    "duration": 7,
    "start_time": "2023-04-27T07:50:43.416Z"
   },
   {
    "duration": 9,
    "start_time": "2023-04-27T07:54:36.110Z"
   },
   {
    "duration": 112,
    "start_time": "2023-04-27T07:55:05.682Z"
   },
   {
    "duration": 10,
    "start_time": "2023-04-27T07:56:15.959Z"
   },
   {
    "duration": 14,
    "start_time": "2023-04-27T07:56:43.159Z"
   },
   {
    "duration": 21,
    "start_time": "2023-04-27T07:58:01.429Z"
   },
   {
    "duration": 60,
    "start_time": "2023-04-27T07:58:16.133Z"
   },
   {
    "duration": 59,
    "start_time": "2023-04-27T07:58:57.053Z"
   },
   {
    "duration": 63,
    "start_time": "2023-04-27T07:59:23.076Z"
   },
   {
    "duration": 68,
    "start_time": "2023-04-27T07:59:33.565Z"
   },
   {
    "duration": 54,
    "start_time": "2023-04-27T08:00:08.668Z"
   },
   {
    "duration": 28,
    "start_time": "2023-04-27T08:00:31.524Z"
   },
   {
    "duration": 34,
    "start_time": "2023-04-27T08:02:14.101Z"
   },
   {
    "duration": 30,
    "start_time": "2023-04-27T08:02:46.660Z"
   },
   {
    "duration": 31,
    "start_time": "2023-04-27T08:04:07.234Z"
   },
   {
    "duration": 33,
    "start_time": "2023-04-27T08:04:15.027Z"
   },
   {
    "duration": 30,
    "start_time": "2023-04-27T08:05:10.508Z"
   },
   {
    "duration": 32,
    "start_time": "2023-04-27T08:05:27.369Z"
   },
   {
    "duration": 29,
    "start_time": "2023-04-27T08:05:40.834Z"
   },
   {
    "duration": 32,
    "start_time": "2023-04-27T08:05:52.629Z"
   },
   {
    "duration": 55,
    "start_time": "2023-04-27T08:06:44.977Z"
   },
   {
    "duration": 1422,
    "start_time": "2023-04-27T08:06:54.399Z"
   },
   {
    "duration": 387,
    "start_time": "2023-04-27T08:06:55.823Z"
   },
   {
    "duration": 44,
    "start_time": "2023-04-27T08:06:56.212Z"
   },
   {
    "duration": 52,
    "start_time": "2023-04-27T08:06:56.258Z"
   },
   {
    "duration": 39,
    "start_time": "2023-04-27T08:06:56.313Z"
   },
   {
    "duration": 53,
    "start_time": "2023-04-27T08:06:56.353Z"
   },
   {
    "duration": 47,
    "start_time": "2023-04-27T08:06:56.408Z"
   },
   {
    "duration": 36,
    "start_time": "2023-04-27T08:06:56.457Z"
   },
   {
    "duration": 172,
    "start_time": "2023-04-27T08:06:56.495Z"
   },
   {
    "duration": 58,
    "start_time": "2023-04-27T08:09:02.401Z"
   },
   {
    "duration": 41,
    "start_time": "2023-04-27T08:24:13.825Z"
   },
   {
    "duration": 40,
    "start_time": "2023-04-27T08:25:47.389Z"
   },
   {
    "duration": 25,
    "start_time": "2023-04-27T08:39:40.697Z"
   },
   {
    "duration": 18,
    "start_time": "2023-04-27T08:41:17.170Z"
   },
   {
    "duration": 33,
    "start_time": "2023-04-27T08:41:51.502Z"
   },
   {
    "duration": 27,
    "start_time": "2023-04-27T08:41:59.654Z"
   },
   {
    "duration": 34,
    "start_time": "2023-04-27T08:42:15.471Z"
   },
   {
    "duration": 46,
    "start_time": "2023-04-27T08:42:41.517Z"
   },
   {
    "duration": 1433,
    "start_time": "2023-04-27T08:43:00.490Z"
   },
   {
    "duration": 390,
    "start_time": "2023-04-27T08:43:01.925Z"
   },
   {
    "duration": 58,
    "start_time": "2023-04-27T08:43:02.317Z"
   },
   {
    "duration": 65,
    "start_time": "2023-04-27T08:43:02.377Z"
   },
   {
    "duration": 66,
    "start_time": "2023-04-27T08:43:02.445Z"
   },
   {
    "duration": 38,
    "start_time": "2023-04-27T08:43:02.513Z"
   },
   {
    "duration": 78,
    "start_time": "2023-04-27T08:43:02.553Z"
   },
   {
    "duration": 20,
    "start_time": "2023-04-27T08:43:02.633Z"
   },
   {
    "duration": 52,
    "start_time": "2023-04-27T08:43:02.655Z"
   },
   {
    "duration": 52,
    "start_time": "2023-04-27T08:43:02.710Z"
   },
   {
    "duration": 34,
    "start_time": "2023-04-27T08:43:22.759Z"
   },
   {
    "duration": 34,
    "start_time": "2023-04-27T08:43:36.933Z"
   },
   {
    "duration": 104,
    "start_time": "2023-04-27T08:56:36.206Z"
   },
   {
    "duration": 5,
    "start_time": "2023-04-27T08:56:55.598Z"
   },
   {
    "duration": 786,
    "start_time": "2023-04-27T08:56:59.823Z"
   },
   {
    "duration": 662,
    "start_time": "2023-04-27T08:57:53.757Z"
   },
   {
    "duration": 34,
    "start_time": "2023-04-27T09:00:08.589Z"
   },
   {
    "duration": 4,
    "start_time": "2023-04-27T09:00:39.012Z"
   },
   {
    "duration": 30,
    "start_time": "2023-04-27T09:00:45.591Z"
   },
   {
    "duration": 31,
    "start_time": "2023-04-27T09:12:43.551Z"
   },
   {
    "duration": 115,
    "start_time": "2023-04-27T09:15:46.878Z"
   },
   {
    "duration": 30,
    "start_time": "2023-04-27T09:16:52.405Z"
   },
   {
    "duration": 30,
    "start_time": "2023-04-27T09:17:11.428Z"
   },
   {
    "duration": 66,
    "start_time": "2023-04-27T09:17:22.428Z"
   },
   {
    "duration": 1444,
    "start_time": "2023-04-27T10:40:47.511Z"
   },
   {
    "duration": 442,
    "start_time": "2023-04-27T10:40:48.970Z"
   },
   {
    "duration": 47,
    "start_time": "2023-04-27T10:40:49.414Z"
   },
   {
    "duration": 64,
    "start_time": "2023-04-27T10:40:49.462Z"
   },
   {
    "duration": 42,
    "start_time": "2023-04-27T10:40:49.528Z"
   },
   {
    "duration": 46,
    "start_time": "2023-04-27T10:40:49.593Z"
   },
   {
    "duration": 86,
    "start_time": "2023-04-27T10:40:49.641Z"
   },
   {
    "duration": 17,
    "start_time": "2023-04-27T10:40:49.730Z"
   },
   {
    "duration": 74,
    "start_time": "2023-04-27T10:40:49.749Z"
   },
   {
    "duration": 2,
    "start_time": "2023-04-27T10:40:49.825Z"
   },
   {
    "duration": 72,
    "start_time": "2023-04-27T10:40:49.829Z"
   },
   {
    "duration": 49,
    "start_time": "2023-04-27T10:41:03.209Z"
   },
   {
    "duration": 62,
    "start_time": "2023-04-27T10:41:07.031Z"
   },
   {
    "duration": 117,
    "start_time": "2023-04-27T10:45:34.911Z"
   },
   {
    "duration": 78,
    "start_time": "2023-04-27T10:45:40.916Z"
   },
   {
    "duration": 83,
    "start_time": "2023-04-27T10:47:02.124Z"
   },
   {
    "duration": 35,
    "start_time": "2023-04-27T10:47:06.260Z"
   },
   {
    "duration": 78,
    "start_time": "2023-04-27T10:47:10.814Z"
   },
   {
    "duration": 59,
    "start_time": "2023-04-27T10:49:20.267Z"
   },
   {
    "duration": 29,
    "start_time": "2023-04-27T10:49:37.835Z"
   },
   {
    "duration": 23,
    "start_time": "2023-04-27T11:57:12.336Z"
   },
   {
    "duration": 29,
    "start_time": "2023-04-27T11:57:25.656Z"
   },
   {
    "duration": 40,
    "start_time": "2023-04-27T12:02:39.326Z"
   },
   {
    "duration": 45,
    "start_time": "2023-04-27T12:02:57.925Z"
   },
   {
    "duration": 40,
    "start_time": "2023-04-27T12:03:04.603Z"
   },
   {
    "duration": 44,
    "start_time": "2023-04-27T12:03:13.277Z"
   },
   {
    "duration": 40,
    "start_time": "2023-04-27T12:03:45.510Z"
   },
   {
    "duration": 22,
    "start_time": "2023-04-27T12:04:52.500Z"
   },
   {
    "duration": 77,
    "start_time": "2023-04-27T12:06:27.835Z"
   },
   {
    "duration": 89,
    "start_time": "2023-04-27T12:06:40.386Z"
   },
   {
    "duration": 73,
    "start_time": "2023-04-27T12:06:48.266Z"
   },
   {
    "duration": 18,
    "start_time": "2023-04-27T12:06:55.468Z"
   },
   {
    "duration": 14,
    "start_time": "2023-04-27T12:07:03.867Z"
   },
   {
    "duration": 1471,
    "start_time": "2023-04-27T12:07:29.971Z"
   },
   {
    "duration": 418,
    "start_time": "2023-04-27T12:07:31.444Z"
   },
   {
    "duration": 74,
    "start_time": "2023-04-27T12:07:31.867Z"
   },
   {
    "duration": 74,
    "start_time": "2023-04-27T12:07:31.945Z"
   },
   {
    "duration": 52,
    "start_time": "2023-04-27T12:07:32.022Z"
   },
   {
    "duration": 70,
    "start_time": "2023-04-27T12:07:32.076Z"
   },
   {
    "duration": 57,
    "start_time": "2023-04-27T12:07:32.148Z"
   },
   {
    "duration": 135,
    "start_time": "2023-04-27T12:07:32.207Z"
   },
   {
    "duration": 1,
    "start_time": "2023-04-27T12:07:32.344Z"
   },
   {
    "duration": 0,
    "start_time": "2023-04-27T12:07:32.346Z"
   },
   {
    "duration": 17,
    "start_time": "2023-04-27T12:07:49.370Z"
   },
   {
    "duration": 1422,
    "start_time": "2023-04-27T12:08:01.642Z"
   },
   {
    "duration": 397,
    "start_time": "2023-04-27T12:08:03.066Z"
   },
   {
    "duration": 48,
    "start_time": "2023-04-27T12:08:03.465Z"
   },
   {
    "duration": 39,
    "start_time": "2023-04-27T12:08:03.515Z"
   },
   {
    "duration": 60,
    "start_time": "2023-04-27T12:08:03.556Z"
   },
   {
    "duration": 40,
    "start_time": "2023-04-27T12:08:03.617Z"
   },
   {
    "duration": 64,
    "start_time": "2023-04-27T12:08:03.659Z"
   },
   {
    "duration": 124,
    "start_time": "2023-04-27T12:08:03.725Z"
   },
   {
    "duration": 0,
    "start_time": "2023-04-27T12:08:03.851Z"
   },
   {
    "duration": 0,
    "start_time": "2023-04-27T12:08:03.852Z"
   },
   {
    "duration": 2230,
    "start_time": "2023-04-27T12:08:43.609Z"
   },
   {
    "duration": 814,
    "start_time": "2023-04-27T12:08:45.893Z"
   },
   {
    "duration": 100,
    "start_time": "2023-04-27T12:08:46.709Z"
   },
   {
    "duration": 119,
    "start_time": "2023-04-27T12:08:46.810Z"
   },
   {
    "duration": 161,
    "start_time": "2023-04-27T12:08:46.933Z"
   },
   {
    "duration": 43,
    "start_time": "2023-04-27T12:08:47.096Z"
   },
   {
    "duration": 41,
    "start_time": "2023-04-27T12:08:47.193Z"
   },
   {
    "duration": 393,
    "start_time": "2023-04-27T12:08:47.236Z"
   },
   {
    "duration": 0,
    "start_time": "2023-04-27T12:08:47.631Z"
   },
   {
    "duration": 0,
    "start_time": "2023-04-27T12:08:47.632Z"
   },
   {
    "duration": 20,
    "start_time": "2023-04-27T12:15:03.900Z"
   },
   {
    "duration": 3,
    "start_time": "2023-04-27T12:15:13.270Z"
   },
   {
    "duration": 26,
    "start_time": "2023-04-27T12:15:14.206Z"
   },
   {
    "duration": 20,
    "start_time": "2023-04-27T12:16:34.142Z"
   },
   {
    "duration": 22,
    "start_time": "2023-04-27T12:17:19.469Z"
   },
   {
    "duration": 3,
    "start_time": "2023-04-27T12:21:38.923Z"
   },
   {
    "duration": 18,
    "start_time": "2023-04-27T12:21:39.538Z"
   },
   {
    "duration": 16,
    "start_time": "2023-04-27T12:21:50.739Z"
   },
   {
    "duration": 17,
    "start_time": "2023-04-27T12:21:56.508Z"
   },
   {
    "duration": 19,
    "start_time": "2023-04-27T12:22:02.601Z"
   },
   {
    "duration": 22,
    "start_time": "2023-04-27T12:28:07.816Z"
   },
   {
    "duration": 15,
    "start_time": "2023-04-27T12:29:09.110Z"
   },
   {
    "duration": 18,
    "start_time": "2023-04-27T12:30:24.831Z"
   },
   {
    "duration": 18,
    "start_time": "2023-04-27T12:30:25.645Z"
   },
   {
    "duration": 21,
    "start_time": "2023-04-27T12:30:31.937Z"
   },
   {
    "duration": 18,
    "start_time": "2023-04-27T12:30:32.829Z"
   },
   {
    "duration": 2,
    "start_time": "2023-04-27T13:33:22.213Z"
   },
   {
    "duration": 2,
    "start_time": "2023-04-27T13:40:32.643Z"
   },
   {
    "duration": 4,
    "start_time": "2023-04-27T13:40:44.568Z"
   },
   {
    "duration": 4,
    "start_time": "2023-04-27T13:42:41.707Z"
   },
   {
    "duration": 1363,
    "start_time": "2023-04-27T13:45:02.930Z"
   },
   {
    "duration": 376,
    "start_time": "2023-04-27T13:45:04.295Z"
   },
   {
    "duration": 50,
    "start_time": "2023-04-27T13:45:04.673Z"
   },
   {
    "duration": 39,
    "start_time": "2023-04-27T13:45:04.725Z"
   },
   {
    "duration": 58,
    "start_time": "2023-04-27T13:45:04.767Z"
   },
   {
    "duration": 39,
    "start_time": "2023-04-27T13:45:04.827Z"
   },
   {
    "duration": 52,
    "start_time": "2023-04-27T13:45:04.868Z"
   },
   {
    "duration": 3,
    "start_time": "2023-04-27T13:45:04.921Z"
   },
   {
    "duration": 24,
    "start_time": "2023-04-27T13:45:04.926Z"
   },
   {
    "duration": 42,
    "start_time": "2023-04-27T13:45:04.952Z"
   },
   {
    "duration": 20,
    "start_time": "2023-04-27T13:45:04.996Z"
   },
   {
    "duration": 3,
    "start_time": "2023-04-27T13:45:05.018Z"
   },
   {
    "duration": 21,
    "start_time": "2023-04-27T13:45:05.023Z"
   },
   {
    "duration": 18,
    "start_time": "2023-04-27T13:45:05.047Z"
   },
   {
    "duration": 41,
    "start_time": "2023-04-27T13:45:05.067Z"
   },
   {
    "duration": 182,
    "start_time": "2023-04-27T13:45:05.110Z"
   },
   {
    "duration": 18,
    "start_time": "2023-04-27T13:45:05.294Z"
   },
   {
    "duration": 186,
    "start_time": "2023-04-27T13:45:05.314Z"
   },
   {
    "duration": 92,
    "start_time": "2023-04-27T13:45:05.501Z"
   },
   {
    "duration": 8,
    "start_time": "2023-04-27T13:45:05.595Z"
   },
   {
    "duration": 121,
    "start_time": "2023-04-27T14:01:44.365Z"
   },
   {
    "duration": 7,
    "start_time": "2023-04-27T14:01:49.190Z"
   },
   {
    "duration": 5,
    "start_time": "2023-04-27T14:01:51.715Z"
   },
   {
    "duration": 10,
    "start_time": "2023-04-27T14:01:53.765Z"
   },
   {
    "duration": 11,
    "start_time": "2023-04-27T14:02:10.405Z"
   },
   {
    "duration": 9,
    "start_time": "2023-04-27T14:02:26.421Z"
   },
   {
    "duration": 6,
    "start_time": "2023-04-27T14:02:31.237Z"
   },
   {
    "duration": 5,
    "start_time": "2023-04-27T14:02:38.617Z"
   },
   {
    "duration": 5,
    "start_time": "2023-04-27T14:02:42.948Z"
   },
   {
    "duration": 6,
    "start_time": "2023-04-27T14:03:27.556Z"
   },
   {
    "duration": 5,
    "start_time": "2023-04-27T14:04:21.723Z"
   },
   {
    "duration": 5,
    "start_time": "2023-04-27T14:12:53.824Z"
   },
   {
    "duration": 6,
    "start_time": "2023-04-27T14:14:15.870Z"
   },
   {
    "duration": 9,
    "start_time": "2023-04-27T14:16:57.195Z"
   },
   {
    "duration": 3,
    "start_time": "2023-04-27T14:18:45.956Z"
   },
   {
    "duration": 3,
    "start_time": "2023-04-27T14:19:14.237Z"
   },
   {
    "duration": 3,
    "start_time": "2023-04-27T14:19:21.444Z"
   },
   {
    "duration": 6,
    "start_time": "2023-04-27T14:20:00.218Z"
   },
   {
    "duration": 5,
    "start_time": "2023-04-27T14:20:43.755Z"
   },
   {
    "duration": 6,
    "start_time": "2023-04-27T14:21:21.027Z"
   },
   {
    "duration": 6,
    "start_time": "2023-04-27T14:21:26.874Z"
   },
   {
    "duration": 6,
    "start_time": "2023-04-27T14:21:46.858Z"
   },
   {
    "duration": 1509,
    "start_time": "2023-04-27T14:25:20.674Z"
   },
   {
    "duration": 397,
    "start_time": "2023-04-27T14:25:22.185Z"
   },
   {
    "duration": 52,
    "start_time": "2023-04-27T14:25:22.583Z"
   },
   {
    "duration": 39,
    "start_time": "2023-04-27T14:25:22.637Z"
   },
   {
    "duration": 38,
    "start_time": "2023-04-27T14:25:22.694Z"
   },
   {
    "duration": 61,
    "start_time": "2023-04-27T14:25:22.734Z"
   },
   {
    "duration": 43,
    "start_time": "2023-04-27T14:25:22.797Z"
   },
   {
    "duration": 4,
    "start_time": "2023-04-27T14:25:22.843Z"
   },
   {
    "duration": 43,
    "start_time": "2023-04-27T14:25:22.848Z"
   },
   {
    "duration": 33,
    "start_time": "2023-04-27T14:25:22.894Z"
   },
   {
    "duration": 20,
    "start_time": "2023-04-27T14:25:22.929Z"
   },
   {
    "duration": 17,
    "start_time": "2023-04-27T14:25:22.951Z"
   },
   {
    "duration": 27,
    "start_time": "2023-04-27T14:25:22.970Z"
   },
   {
    "duration": 20,
    "start_time": "2023-04-27T14:25:23.000Z"
   },
   {
    "duration": 22,
    "start_time": "2023-04-27T14:25:23.022Z"
   },
   {
    "duration": 51,
    "start_time": "2023-04-27T14:25:23.046Z"
   },
   {
    "duration": 102,
    "start_time": "2023-04-27T14:25:23.099Z"
   },
   {
    "duration": 103,
    "start_time": "2023-04-27T14:25:23.202Z"
   },
   {
    "duration": 93,
    "start_time": "2023-04-27T14:25:23.306Z"
   },
   {
    "duration": 88,
    "start_time": "2023-04-27T14:25:23.406Z"
   },
   {
    "duration": 5,
    "start_time": "2023-04-27T14:25:23.497Z"
   },
   {
    "duration": 1434,
    "start_time": "2023-04-28T07:09:40.403Z"
   },
   {
    "duration": 1841,
    "start_time": "2023-04-28T07:09:41.839Z"
   },
   {
    "duration": 41,
    "start_time": "2023-04-28T07:09:43.682Z"
   },
   {
    "duration": 38,
    "start_time": "2023-04-28T07:09:43.725Z"
   },
   {
    "duration": 37,
    "start_time": "2023-04-28T07:09:43.765Z"
   },
   {
    "duration": 60,
    "start_time": "2023-04-28T07:09:43.804Z"
   },
   {
    "duration": 37,
    "start_time": "2023-04-28T07:09:43.866Z"
   },
   {
    "duration": 4,
    "start_time": "2023-04-28T07:09:43.905Z"
   },
   {
    "duration": 50,
    "start_time": "2023-04-28T07:09:43.912Z"
   },
   {
    "duration": 23,
    "start_time": "2023-04-28T07:09:43.965Z"
   },
   {
    "duration": 26,
    "start_time": "2023-04-28T07:09:43.990Z"
   },
   {
    "duration": 3,
    "start_time": "2023-04-28T07:09:44.018Z"
   },
   {
    "duration": 55,
    "start_time": "2023-04-28T07:09:44.023Z"
   },
   {
    "duration": 24,
    "start_time": "2023-04-28T07:09:44.081Z"
   },
   {
    "duration": 25,
    "start_time": "2023-04-28T07:09:44.108Z"
   },
   {
    "duration": 27,
    "start_time": "2023-04-28T07:09:44.155Z"
   },
   {
    "duration": 105,
    "start_time": "2023-04-28T07:09:44.256Z"
   },
   {
    "duration": 96,
    "start_time": "2023-04-28T07:09:44.363Z"
   },
   {
    "duration": 6,
    "start_time": "2023-04-28T07:09:44.461Z"
   },
   {
    "duration": 268,
    "start_time": "2023-04-28T07:09:44.470Z"
   },
   {
    "duration": 0,
    "start_time": "2023-04-28T07:09:44.740Z"
   },
   {
    "duration": 1341,
    "start_time": "2023-04-28T07:25:40.645Z"
   },
   {
    "duration": 399,
    "start_time": "2023-04-28T07:25:41.988Z"
   },
   {
    "duration": 55,
    "start_time": "2023-04-28T07:25:42.389Z"
   },
   {
    "duration": 46,
    "start_time": "2023-04-28T07:25:42.456Z"
   },
   {
    "duration": 70,
    "start_time": "2023-04-28T07:25:42.504Z"
   },
   {
    "duration": 59,
    "start_time": "2023-04-28T07:25:42.576Z"
   },
   {
    "duration": 50,
    "start_time": "2023-04-28T07:25:42.637Z"
   },
   {
    "duration": 5,
    "start_time": "2023-04-28T07:25:42.689Z"
   },
   {
    "duration": 37,
    "start_time": "2023-04-28T07:25:42.696Z"
   },
   {
    "duration": 28,
    "start_time": "2023-04-28T07:25:42.736Z"
   },
   {
    "duration": 46,
    "start_time": "2023-04-28T07:25:42.766Z"
   },
   {
    "duration": 3,
    "start_time": "2023-04-28T07:25:42.815Z"
   },
   {
    "duration": 28,
    "start_time": "2023-04-28T07:25:42.820Z"
   },
   {
    "duration": 21,
    "start_time": "2023-04-28T07:25:42.851Z"
   },
   {
    "duration": 19,
    "start_time": "2023-04-28T07:25:42.874Z"
   },
   {
    "duration": 68,
    "start_time": "2023-04-28T07:25:42.895Z"
   },
   {
    "duration": 193,
    "start_time": "2023-04-28T07:25:42.965Z"
   },
   {
    "duration": 114,
    "start_time": "2023-04-28T07:25:43.159Z"
   },
   {
    "duration": 82,
    "start_time": "2023-04-28T07:25:43.275Z"
   },
   {
    "duration": 184,
    "start_time": "2023-04-28T07:25:43.360Z"
   },
   {
    "duration": 0,
    "start_time": "2023-04-28T07:25:43.546Z"
   },
   {
    "duration": 4,
    "start_time": "2023-04-28T07:48:30.568Z"
   },
   {
    "duration": 12,
    "start_time": "2023-04-28T08:02:06.107Z"
   },
   {
    "duration": 6,
    "start_time": "2023-04-28T08:03:50.250Z"
   },
   {
    "duration": 12,
    "start_time": "2023-04-28T08:12:25.757Z"
   },
   {
    "duration": 1449,
    "start_time": "2023-04-28T08:12:44.349Z"
   },
   {
    "duration": 363,
    "start_time": "2023-04-28T08:12:45.800Z"
   },
   {
    "duration": 59,
    "start_time": "2023-04-28T08:12:46.165Z"
   },
   {
    "duration": 55,
    "start_time": "2023-04-28T08:12:46.226Z"
   },
   {
    "duration": 39,
    "start_time": "2023-04-28T08:12:46.285Z"
   },
   {
    "duration": 82,
    "start_time": "2023-04-28T08:12:46.326Z"
   },
   {
    "duration": 47,
    "start_time": "2023-04-28T08:12:46.410Z"
   },
   {
    "duration": 4,
    "start_time": "2023-04-28T08:12:46.459Z"
   },
   {
    "duration": 28,
    "start_time": "2023-04-28T08:12:46.465Z"
   },
   {
    "duration": 20,
    "start_time": "2023-04-28T08:12:46.495Z"
   },
   {
    "duration": 48,
    "start_time": "2023-04-28T08:12:46.517Z"
   },
   {
    "duration": 3,
    "start_time": "2023-04-28T08:12:46.567Z"
   },
   {
    "duration": 39,
    "start_time": "2023-04-28T08:12:46.574Z"
   },
   {
    "duration": 19,
    "start_time": "2023-04-28T08:12:46.616Z"
   },
   {
    "duration": 36,
    "start_time": "2023-04-28T08:12:46.636Z"
   },
   {
    "duration": 186,
    "start_time": "2023-04-28T08:12:46.674Z"
   },
   {
    "duration": 102,
    "start_time": "2023-04-28T08:12:46.863Z"
   },
   {
    "duration": 109,
    "start_time": "2023-04-28T08:12:46.967Z"
   },
   {
    "duration": 6,
    "start_time": "2023-04-28T08:12:47.155Z"
   },
   {
    "duration": 229,
    "start_time": "2023-04-28T08:12:47.164Z"
   },
   {
    "duration": 0,
    "start_time": "2023-04-28T08:12:47.395Z"
   },
   {
    "duration": 0,
    "start_time": "2023-04-28T08:12:47.397Z"
   },
   {
    "duration": 0,
    "start_time": "2023-04-28T08:12:47.398Z"
   },
   {
    "duration": 0,
    "start_time": "2023-04-28T08:12:47.400Z"
   },
   {
    "duration": 0,
    "start_time": "2023-04-28T08:12:47.403Z"
   },
   {
    "duration": 1495,
    "start_time": "2023-04-28T08:12:59.852Z"
   },
   {
    "duration": 427,
    "start_time": "2023-04-28T08:13:01.350Z"
   },
   {
    "duration": 58,
    "start_time": "2023-04-28T08:13:01.780Z"
   },
   {
    "duration": 45,
    "start_time": "2023-04-28T08:13:01.855Z"
   },
   {
    "duration": 68,
    "start_time": "2023-04-28T08:13:01.902Z"
   },
   {
    "duration": 64,
    "start_time": "2023-04-28T08:13:01.973Z"
   },
   {
    "duration": 75,
    "start_time": "2023-04-28T08:13:02.057Z"
   },
   {
    "duration": 38,
    "start_time": "2023-04-28T08:13:02.134Z"
   },
   {
    "duration": 75,
    "start_time": "2023-04-28T08:13:02.174Z"
   },
   {
    "duration": 54,
    "start_time": "2023-04-28T08:13:02.253Z"
   },
   {
    "duration": 51,
    "start_time": "2023-04-28T08:13:02.309Z"
   },
   {
    "duration": 28,
    "start_time": "2023-04-28T08:13:02.363Z"
   },
   {
    "duration": 29,
    "start_time": "2023-04-28T08:13:02.395Z"
   },
   {
    "duration": 22,
    "start_time": "2023-04-28T08:13:02.426Z"
   },
   {
    "duration": 30,
    "start_time": "2023-04-28T08:13:02.449Z"
   },
   {
    "duration": 39,
    "start_time": "2023-04-28T08:13:02.481Z"
   },
   {
    "duration": 110,
    "start_time": "2023-04-28T08:13:02.561Z"
   },
   {
    "duration": 184,
    "start_time": "2023-04-28T08:13:02.674Z"
   },
   {
    "duration": 5,
    "start_time": "2023-04-28T08:13:02.860Z"
   },
   {
    "duration": 196,
    "start_time": "2023-04-28T08:13:02.867Z"
   },
   {
    "duration": 0,
    "start_time": "2023-04-28T08:13:03.065Z"
   },
   {
    "duration": 0,
    "start_time": "2023-04-28T08:13:03.067Z"
   },
   {
    "duration": 0,
    "start_time": "2023-04-28T08:13:03.068Z"
   },
   {
    "duration": 0,
    "start_time": "2023-04-28T08:13:03.069Z"
   },
   {
    "duration": 0,
    "start_time": "2023-04-28T08:13:03.070Z"
   },
   {
    "duration": 1421,
    "start_time": "2023-04-28T08:13:11.315Z"
   },
   {
    "duration": 391,
    "start_time": "2023-04-28T08:13:12.738Z"
   },
   {
    "duration": 70,
    "start_time": "2023-04-28T08:13:13.130Z"
   },
   {
    "duration": 67,
    "start_time": "2023-04-28T08:13:13.202Z"
   },
   {
    "duration": 51,
    "start_time": "2023-04-28T08:13:13.272Z"
   },
   {
    "duration": 72,
    "start_time": "2023-04-28T08:13:13.325Z"
   },
   {
    "duration": 34,
    "start_time": "2023-04-28T08:13:13.400Z"
   },
   {
    "duration": 4,
    "start_time": "2023-04-28T08:13:13.436Z"
   },
   {
    "duration": 26,
    "start_time": "2023-04-28T08:13:13.455Z"
   },
   {
    "duration": 21,
    "start_time": "2023-04-28T08:13:13.483Z"
   },
   {
    "duration": 22,
    "start_time": "2023-04-28T08:13:13.506Z"
   },
   {
    "duration": 4,
    "start_time": "2023-04-28T08:13:13.557Z"
   },
   {
    "duration": 24,
    "start_time": "2023-04-28T08:13:13.563Z"
   },
   {
    "duration": 21,
    "start_time": "2023-04-28T08:13:13.591Z"
   },
   {
    "duration": 50,
    "start_time": "2023-04-28T08:13:13.614Z"
   },
   {
    "duration": 100,
    "start_time": "2023-04-28T08:13:13.667Z"
   },
   {
    "duration": 112,
    "start_time": "2023-04-28T08:13:13.770Z"
   },
   {
    "duration": 117,
    "start_time": "2023-04-28T08:13:13.957Z"
   },
   {
    "duration": 6,
    "start_time": "2023-04-28T08:13:14.077Z"
   },
   {
    "duration": 202,
    "start_time": "2023-04-28T08:13:14.158Z"
   },
   {
    "duration": 0,
    "start_time": "2023-04-28T08:13:14.363Z"
   },
   {
    "duration": 0,
    "start_time": "2023-04-28T08:13:14.364Z"
   },
   {
    "duration": 0,
    "start_time": "2023-04-28T08:13:14.366Z"
   },
   {
    "duration": 0,
    "start_time": "2023-04-28T08:13:14.369Z"
   },
   {
    "duration": 0,
    "start_time": "2023-04-28T08:13:14.370Z"
   },
   {
    "duration": 4,
    "start_time": "2023-04-28T08:13:45.877Z"
   },
   {
    "duration": 15,
    "start_time": "2023-04-28T08:13:49.357Z"
   },
   {
    "duration": 8,
    "start_time": "2023-04-28T08:14:01.982Z"
   },
   {
    "duration": 3,
    "start_time": "2023-04-28T08:14:06.253Z"
   },
   {
    "duration": 14,
    "start_time": "2023-04-28T08:14:06.905Z"
   },
   {
    "duration": 5,
    "start_time": "2023-04-28T08:14:07.949Z"
   },
   {
    "duration": 10,
    "start_time": "2023-04-28T08:14:09.310Z"
   },
   {
    "duration": 5,
    "start_time": "2023-04-28T08:16:33.068Z"
   },
   {
    "duration": 4,
    "start_time": "2023-04-28T08:16:37.003Z"
   },
   {
    "duration": 79,
    "start_time": "2023-04-28T08:16:37.523Z"
   },
   {
    "duration": 72,
    "start_time": "2023-04-28T08:16:48.946Z"
   },
   {
    "duration": 4,
    "start_time": "2023-04-28T08:16:49.799Z"
   },
   {
    "duration": 9,
    "start_time": "2023-04-28T08:16:50.443Z"
   },
   {
    "duration": 4,
    "start_time": "2023-04-28T08:17:23.380Z"
   },
   {
    "duration": 4,
    "start_time": "2023-04-28T08:17:25.627Z"
   },
   {
    "duration": 20,
    "start_time": "2023-04-28T08:17:26.179Z"
   },
   {
    "duration": 4781,
    "start_time": "2023-04-28T08:18:21.170Z"
   },
   {
    "duration": 377,
    "start_time": "2023-04-28T08:18:25.953Z"
   },
   {
    "duration": 54,
    "start_time": "2023-04-28T08:18:26.332Z"
   },
   {
    "duration": 70,
    "start_time": "2023-04-28T08:18:26.389Z"
   },
   {
    "duration": 42,
    "start_time": "2023-04-28T08:18:26.461Z"
   },
   {
    "duration": 75,
    "start_time": "2023-04-28T08:18:26.505Z"
   },
   {
    "duration": 58,
    "start_time": "2023-04-28T08:18:26.582Z"
   },
   {
    "duration": 3,
    "start_time": "2023-04-28T08:18:26.642Z"
   },
   {
    "duration": 24,
    "start_time": "2023-04-28T08:18:26.647Z"
   },
   {
    "duration": 21,
    "start_time": "2023-04-28T08:18:26.674Z"
   },
   {
    "duration": 20,
    "start_time": "2023-04-28T08:18:26.697Z"
   },
   {
    "duration": 5,
    "start_time": "2023-04-28T08:18:26.719Z"
   },
   {
    "duration": 28,
    "start_time": "2023-04-28T08:18:26.755Z"
   },
   {
    "duration": 25,
    "start_time": "2023-04-28T08:18:26.785Z"
   },
   {
    "duration": 19,
    "start_time": "2023-04-28T08:18:26.811Z"
   },
   {
    "duration": 27,
    "start_time": "2023-04-28T08:18:26.855Z"
   },
   {
    "duration": 104,
    "start_time": "2023-04-28T08:18:26.956Z"
   },
   {
    "duration": 99,
    "start_time": "2023-04-28T08:18:27.062Z"
   },
   {
    "duration": 4,
    "start_time": "2023-04-28T08:18:27.163Z"
   },
   {
    "duration": 6,
    "start_time": "2023-04-28T08:18:27.169Z"
   },
   {
    "duration": 8,
    "start_time": "2023-04-28T08:18:27.257Z"
   },
   {
    "duration": 87,
    "start_time": "2023-04-28T08:18:27.268Z"
   },
   {
    "duration": 18,
    "start_time": "2023-04-28T08:18:27.357Z"
   },
   {
    "duration": 145,
    "start_time": "2023-04-28T08:18:27.377Z"
   },
   {
    "duration": 0,
    "start_time": "2023-04-28T08:18:27.524Z"
   },
   {
    "duration": 19,
    "start_time": "2023-04-28T08:26:03.100Z"
   },
   {
    "duration": 18,
    "start_time": "2023-04-28T08:26:13.478Z"
   },
   {
    "duration": 4,
    "start_time": "2023-04-28T08:41:55.638Z"
   },
   {
    "duration": 23,
    "start_time": "2023-04-28T08:42:51.404Z"
   },
   {
    "duration": 5,
    "start_time": "2023-04-28T08:43:12.029Z"
   },
   {
    "duration": 4,
    "start_time": "2023-04-28T08:44:06.780Z"
   },
   {
    "duration": 7,
    "start_time": "2023-04-28T08:44:20.776Z"
   },
   {
    "duration": 4,
    "start_time": "2023-04-28T08:44:21.812Z"
   },
   {
    "duration": 15,
    "start_time": "2023-04-28T08:44:22.223Z"
   },
   {
    "duration": 3,
    "start_time": "2023-04-28T08:44:29.452Z"
   },
   {
    "duration": 4,
    "start_time": "2023-04-28T08:44:30.204Z"
   },
   {
    "duration": 15,
    "start_time": "2023-04-28T08:44:30.619Z"
   },
   {
    "duration": 4,
    "start_time": "2023-04-28T08:46:42.803Z"
   },
   {
    "duration": 7,
    "start_time": "2023-04-28T08:46:43.491Z"
   },
   {
    "duration": 14,
    "start_time": "2023-04-28T08:46:50.546Z"
   },
   {
    "duration": 11,
    "start_time": "2023-04-28T08:47:16.834Z"
   },
   {
    "duration": 113,
    "start_time": "2023-04-28T08:48:01.634Z"
   },
   {
    "duration": 118,
    "start_time": "2023-04-28T08:48:13.988Z"
   },
   {
    "duration": 218,
    "start_time": "2023-04-28T08:50:42.317Z"
   },
   {
    "duration": 92,
    "start_time": "2023-04-28T08:50:46.182Z"
   },
   {
    "duration": 2,
    "start_time": "2023-04-28T08:50:47.084Z"
   },
   {
    "duration": 12,
    "start_time": "2023-04-28T08:50:48.199Z"
   },
   {
    "duration": 124,
    "start_time": "2023-04-28T08:51:05.216Z"
   },
   {
    "duration": 1789,
    "start_time": "2023-04-28T08:56:29.921Z"
   },
   {
    "duration": 581,
    "start_time": "2023-04-28T08:56:31.713Z"
   },
   {
    "duration": 74,
    "start_time": "2023-04-28T08:56:32.297Z"
   },
   {
    "duration": 72,
    "start_time": "2023-04-28T08:56:32.373Z"
   },
   {
    "duration": 102,
    "start_time": "2023-04-28T08:56:32.448Z"
   },
   {
    "duration": 69,
    "start_time": "2023-04-28T08:56:32.552Z"
   },
   {
    "duration": 73,
    "start_time": "2023-04-28T08:56:32.623Z"
   },
   {
    "duration": 15,
    "start_time": "2023-04-28T08:56:32.699Z"
   },
   {
    "duration": 24,
    "start_time": "2023-04-28T08:56:32.716Z"
   },
   {
    "duration": 35,
    "start_time": "2023-04-28T08:56:32.743Z"
   },
   {
    "duration": 29,
    "start_time": "2023-04-28T08:56:32.782Z"
   },
   {
    "duration": 3,
    "start_time": "2023-04-28T08:56:32.813Z"
   },
   {
    "duration": 48,
    "start_time": "2023-04-28T08:56:32.818Z"
   },
   {
    "duration": 40,
    "start_time": "2023-04-28T08:56:32.869Z"
   },
   {
    "duration": 34,
    "start_time": "2023-04-28T08:56:32.911Z"
   },
   {
    "duration": 50,
    "start_time": "2023-04-28T08:56:32.948Z"
   },
   {
    "duration": 172,
    "start_time": "2023-04-28T08:56:33.003Z"
   },
   {
    "duration": 95,
    "start_time": "2023-04-28T08:56:33.181Z"
   },
   {
    "duration": 29,
    "start_time": "2023-04-28T08:56:33.370Z"
   },
   {
    "duration": 47,
    "start_time": "2023-04-28T08:56:33.410Z"
   },
   {
    "duration": 25,
    "start_time": "2023-04-28T08:56:33.460Z"
   },
   {
    "duration": 44,
    "start_time": "2023-04-28T08:56:33.489Z"
   },
   {
    "duration": 302,
    "start_time": "2023-04-28T08:56:33.536Z"
   },
   {
    "duration": 0,
    "start_time": "2023-04-28T08:56:33.840Z"
   },
   {
    "duration": 0,
    "start_time": "2023-04-28T08:56:33.842Z"
   },
   {
    "duration": 9,
    "start_time": "2023-04-28T09:00:17.488Z"
   },
   {
    "duration": 13,
    "start_time": "2023-04-28T09:00:41.609Z"
   },
   {
    "duration": 5,
    "start_time": "2023-04-28T09:00:48.981Z"
   },
   {
    "duration": 111,
    "start_time": "2023-04-28T09:03:59.017Z"
   },
   {
    "duration": 5,
    "start_time": "2023-04-28T09:05:27.353Z"
   },
   {
    "duration": 1407,
    "start_time": "2023-04-28T09:05:35.342Z"
   },
   {
    "duration": 395,
    "start_time": "2023-04-28T09:05:36.750Z"
   },
   {
    "duration": 50,
    "start_time": "2023-04-28T09:05:37.147Z"
   },
   {
    "duration": 39,
    "start_time": "2023-04-28T09:05:37.199Z"
   },
   {
    "duration": 44,
    "start_time": "2023-04-28T09:05:37.256Z"
   },
   {
    "duration": 67,
    "start_time": "2023-04-28T09:05:37.302Z"
   },
   {
    "duration": 34,
    "start_time": "2023-04-28T09:05:37.371Z"
   },
   {
    "duration": 4,
    "start_time": "2023-04-28T09:05:37.406Z"
   },
   {
    "duration": 34,
    "start_time": "2023-04-28T09:05:37.411Z"
   },
   {
    "duration": 27,
    "start_time": "2023-04-28T09:05:37.455Z"
   },
   {
    "duration": 22,
    "start_time": "2023-04-28T09:05:37.483Z"
   },
   {
    "duration": 3,
    "start_time": "2023-04-28T09:05:37.507Z"
   },
   {
    "duration": 62,
    "start_time": "2023-04-28T09:05:37.511Z"
   },
   {
    "duration": 21,
    "start_time": "2023-04-28T09:05:37.575Z"
   },
   {
    "duration": 21,
    "start_time": "2023-04-28T09:05:37.598Z"
   },
   {
    "duration": 56,
    "start_time": "2023-04-28T09:05:37.621Z"
   },
   {
    "duration": 20,
    "start_time": "2023-04-28T09:05:37.763Z"
   },
   {
    "duration": 96,
    "start_time": "2023-04-28T09:05:37.785Z"
   },
   {
    "duration": 7,
    "start_time": "2023-04-28T09:05:37.956Z"
   },
   {
    "duration": 15,
    "start_time": "2023-04-28T09:05:37.965Z"
   },
   {
    "duration": 8,
    "start_time": "2023-04-28T09:05:38.062Z"
   },
   {
    "duration": 5,
    "start_time": "2023-04-28T09:05:38.072Z"
   },
   {
    "duration": 182,
    "start_time": "2023-04-28T09:05:38.079Z"
   },
   {
    "duration": 0,
    "start_time": "2023-04-28T09:05:38.263Z"
   },
   {
    "duration": 0,
    "start_time": "2023-04-28T09:05:38.264Z"
   },
   {
    "duration": 0,
    "start_time": "2023-04-28T09:05:38.265Z"
   },
   {
    "duration": 0,
    "start_time": "2023-04-28T09:05:38.265Z"
   },
   {
    "duration": 1449,
    "start_time": "2023-04-28T09:07:14.588Z"
   },
   {
    "duration": 464,
    "start_time": "2023-04-28T09:07:16.039Z"
   },
   {
    "duration": 59,
    "start_time": "2023-04-28T09:07:16.505Z"
   },
   {
    "duration": 53,
    "start_time": "2023-04-28T09:07:16.566Z"
   },
   {
    "duration": 81,
    "start_time": "2023-04-28T09:07:16.622Z"
   },
   {
    "duration": 59,
    "start_time": "2023-04-28T09:07:16.705Z"
   },
   {
    "duration": 41,
    "start_time": "2023-04-28T09:07:16.767Z"
   },
   {
    "duration": 3,
    "start_time": "2023-04-28T09:07:16.809Z"
   },
   {
    "duration": 43,
    "start_time": "2023-04-28T09:07:16.814Z"
   },
   {
    "duration": 27,
    "start_time": "2023-04-28T09:07:16.860Z"
   },
   {
    "duration": 26,
    "start_time": "2023-04-28T09:07:16.889Z"
   },
   {
    "duration": 4,
    "start_time": "2023-04-28T09:07:16.916Z"
   },
   {
    "duration": 60,
    "start_time": "2023-04-28T09:07:16.922Z"
   },
   {
    "duration": 25,
    "start_time": "2023-04-28T09:07:16.991Z"
   },
   {
    "duration": 22,
    "start_time": "2023-04-28T09:07:17.017Z"
   },
   {
    "duration": 55,
    "start_time": "2023-04-28T09:07:17.041Z"
   },
   {
    "duration": 83,
    "start_time": "2023-04-28T09:07:17.097Z"
   },
   {
    "duration": 277,
    "start_time": "2023-04-28T09:07:17.183Z"
   },
   {
    "duration": 4,
    "start_time": "2023-04-28T09:07:17.461Z"
   },
   {
    "duration": 5,
    "start_time": "2023-04-28T09:07:17.467Z"
   },
   {
    "duration": 91,
    "start_time": "2023-04-28T09:07:17.476Z"
   },
   {
    "duration": 13,
    "start_time": "2023-04-28T09:07:17.569Z"
   },
   {
    "duration": 245,
    "start_time": "2023-04-28T09:07:17.584Z"
   },
   {
    "duration": 0,
    "start_time": "2023-04-28T09:07:17.831Z"
   },
   {
    "duration": 0,
    "start_time": "2023-04-28T09:07:17.833Z"
   },
   {
    "duration": 123,
    "start_time": "2023-04-28T09:13:14.508Z"
   },
   {
    "duration": 90,
    "start_time": "2023-04-28T09:14:01.558Z"
   },
   {
    "duration": 170,
    "start_time": "2023-04-28T09:14:18.338Z"
   },
   {
    "duration": 1453,
    "start_time": "2023-04-28T09:14:30.690Z"
   },
   {
    "duration": 1462,
    "start_time": "2023-04-28T09:17:58.941Z"
   },
   {
    "duration": 430,
    "start_time": "2023-04-28T09:18:00.405Z"
   },
   {
    "duration": 61,
    "start_time": "2023-04-28T09:18:00.837Z"
   },
   {
    "duration": 71,
    "start_time": "2023-04-28T09:18:00.901Z"
   },
   {
    "duration": 49,
    "start_time": "2023-04-28T09:18:00.974Z"
   },
   {
    "duration": 108,
    "start_time": "2023-04-28T09:18:01.026Z"
   },
   {
    "duration": 90,
    "start_time": "2023-04-28T09:18:01.136Z"
   },
   {
    "duration": 23,
    "start_time": "2023-04-28T09:18:01.228Z"
   },
   {
    "duration": 76,
    "start_time": "2023-04-28T09:18:01.253Z"
   },
   {
    "duration": 87,
    "start_time": "2023-04-28T09:18:01.332Z"
   },
   {
    "duration": 56,
    "start_time": "2023-04-28T09:18:01.421Z"
   },
   {
    "duration": 53,
    "start_time": "2023-04-28T09:18:01.479Z"
   },
   {
    "duration": 47,
    "start_time": "2023-04-28T09:18:01.534Z"
   },
   {
    "duration": 79,
    "start_time": "2023-04-28T09:18:01.583Z"
   },
   {
    "duration": 77,
    "start_time": "2023-04-28T09:18:01.664Z"
   },
   {
    "duration": 105,
    "start_time": "2023-04-28T09:18:01.743Z"
   },
   {
    "duration": 209,
    "start_time": "2023-04-28T09:18:01.850Z"
   },
   {
    "duration": 124,
    "start_time": "2023-04-28T09:18:02.061Z"
   },
   {
    "duration": 171,
    "start_time": "2023-04-28T09:18:02.187Z"
   },
   {
    "duration": 72,
    "start_time": "2023-04-28T09:18:02.360Z"
   },
   {
    "duration": 12,
    "start_time": "2023-04-28T09:18:02.434Z"
   },
   {
    "duration": 23,
    "start_time": "2023-04-28T09:18:02.450Z"
   },
   {
    "duration": 196,
    "start_time": "2023-04-28T09:18:02.475Z"
   },
   {
    "duration": 0,
    "start_time": "2023-04-28T09:18:02.673Z"
   },
   {
    "duration": 0,
    "start_time": "2023-04-28T09:18:02.674Z"
   },
   {
    "duration": 5,
    "start_time": "2023-04-28T09:21:28.968Z"
   },
   {
    "duration": 7,
    "start_time": "2023-04-28T09:21:40.751Z"
   },
   {
    "duration": 4,
    "start_time": "2023-04-28T09:22:08.088Z"
   },
   {
    "duration": 6,
    "start_time": "2023-04-28T09:22:14.887Z"
   },
   {
    "duration": 11,
    "start_time": "2023-04-28T09:22:35.497Z"
   },
   {
    "duration": 5,
    "start_time": "2023-04-28T09:22:54.487Z"
   },
   {
    "duration": 13,
    "start_time": "2023-04-28T09:23:02.719Z"
   },
   {
    "duration": 4,
    "start_time": "2023-04-28T09:23:06.410Z"
   },
   {
    "duration": 9,
    "start_time": "2023-04-28T09:23:43.775Z"
   },
   {
    "duration": 21,
    "start_time": "2023-04-28T09:23:53.878Z"
   },
   {
    "duration": 12,
    "start_time": "2023-04-28T09:24:47.062Z"
   },
   {
    "duration": 96,
    "start_time": "2023-04-28T09:25:15.079Z"
   },
   {
    "duration": 3,
    "start_time": "2023-04-28T09:25:26.630Z"
   },
   {
    "duration": 137,
    "start_time": "2023-04-28T09:25:30.717Z"
   },
   {
    "duration": 11,
    "start_time": "2023-04-28T09:26:30.998Z"
   },
   {
    "duration": 12,
    "start_time": "2023-04-28T09:26:34.814Z"
   },
   {
    "duration": 14,
    "start_time": "2023-04-28T09:26:50.279Z"
   },
   {
    "duration": 1397,
    "start_time": "2023-04-28T09:27:27.338Z"
   },
   {
    "duration": 371,
    "start_time": "2023-04-28T09:27:28.737Z"
   },
   {
    "duration": 52,
    "start_time": "2023-04-28T09:27:29.110Z"
   },
   {
    "duration": 39,
    "start_time": "2023-04-28T09:27:29.164Z"
   },
   {
    "duration": 67,
    "start_time": "2023-04-28T09:27:29.206Z"
   },
   {
    "duration": 47,
    "start_time": "2023-04-28T09:27:29.276Z"
   },
   {
    "duration": 55,
    "start_time": "2023-04-28T09:27:29.325Z"
   },
   {
    "duration": 3,
    "start_time": "2023-04-28T09:27:29.382Z"
   },
   {
    "duration": 22,
    "start_time": "2023-04-28T09:27:29.387Z"
   },
   {
    "duration": 55,
    "start_time": "2023-04-28T09:27:29.411Z"
   },
   {
    "duration": 38,
    "start_time": "2023-04-28T09:27:29.468Z"
   },
   {
    "duration": 5,
    "start_time": "2023-04-28T09:27:29.508Z"
   },
   {
    "duration": 26,
    "start_time": "2023-04-28T09:27:29.515Z"
   },
   {
    "duration": 28,
    "start_time": "2023-04-28T09:27:29.543Z"
   },
   {
    "duration": 29,
    "start_time": "2023-04-28T09:27:29.573Z"
   },
   {
    "duration": 54,
    "start_time": "2023-04-28T09:27:29.604Z"
   },
   {
    "duration": 104,
    "start_time": "2023-04-28T09:27:29.659Z"
   },
   {
    "duration": 100,
    "start_time": "2023-04-28T09:27:29.766Z"
   },
   {
    "duration": 99,
    "start_time": "2023-04-28T09:27:29.868Z"
   },
   {
    "duration": 108,
    "start_time": "2023-04-28T09:27:29.972Z"
   },
   {
    "duration": 19,
    "start_time": "2023-04-28T09:27:30.081Z"
   },
   {
    "duration": 5,
    "start_time": "2023-04-28T09:27:30.102Z"
   },
   {
    "duration": 27,
    "start_time": "2023-04-28T09:27:30.108Z"
   },
   {
    "duration": 225,
    "start_time": "2023-04-28T09:27:30.138Z"
   },
   {
    "duration": 0,
    "start_time": "2023-04-28T09:27:30.365Z"
   },
   {
    "duration": 0,
    "start_time": "2023-04-28T09:27:30.366Z"
   },
   {
    "duration": 1300,
    "start_time": "2023-04-28T09:28:05.674Z"
   },
   {
    "duration": 365,
    "start_time": "2023-04-28T09:28:06.977Z"
   },
   {
    "duration": 48,
    "start_time": "2023-04-28T09:28:07.346Z"
   },
   {
    "duration": 80,
    "start_time": "2023-04-28T09:28:07.397Z"
   },
   {
    "duration": 58,
    "start_time": "2023-04-28T09:28:07.479Z"
   },
   {
    "duration": 62,
    "start_time": "2023-04-28T09:28:07.539Z"
   },
   {
    "duration": 41,
    "start_time": "2023-04-28T09:28:07.603Z"
   },
   {
    "duration": 4,
    "start_time": "2023-04-28T09:28:07.656Z"
   },
   {
    "duration": 37,
    "start_time": "2023-04-28T09:28:07.661Z"
   },
   {
    "duration": 20,
    "start_time": "2023-04-28T09:28:07.700Z"
   },
   {
    "duration": 43,
    "start_time": "2023-04-28T09:28:07.722Z"
   },
   {
    "duration": 2,
    "start_time": "2023-04-28T09:28:07.768Z"
   },
   {
    "duration": 31,
    "start_time": "2023-04-28T09:28:07.774Z"
   },
   {
    "duration": 24,
    "start_time": "2023-04-28T09:28:07.806Z"
   },
   {
    "duration": 61,
    "start_time": "2023-04-28T09:28:07.831Z"
   },
   {
    "duration": 63,
    "start_time": "2023-04-28T09:28:07.894Z"
   },
   {
    "duration": 103,
    "start_time": "2023-04-28T09:28:07.958Z"
   },
   {
    "duration": 96,
    "start_time": "2023-04-28T09:28:08.064Z"
   },
   {
    "duration": 4,
    "start_time": "2023-04-28T09:28:08.162Z"
   },
   {
    "duration": 91,
    "start_time": "2023-04-28T09:28:08.168Z"
   },
   {
    "duration": 15,
    "start_time": "2023-04-28T09:28:08.262Z"
   },
   {
    "duration": 76,
    "start_time": "2023-04-28T09:28:08.281Z"
   },
   {
    "duration": 20,
    "start_time": "2023-04-28T09:28:08.359Z"
   },
   {
    "duration": 198,
    "start_time": "2023-04-28T09:28:08.381Z"
   },
   {
    "duration": 0,
    "start_time": "2023-04-28T09:28:08.581Z"
   },
   {
    "duration": 0,
    "start_time": "2023-04-28T09:28:08.583Z"
   },
   {
    "duration": 11,
    "start_time": "2023-04-28T09:28:26.540Z"
   },
   {
    "duration": 1447,
    "start_time": "2023-04-28T09:29:17.566Z"
   },
   {
    "duration": 395,
    "start_time": "2023-04-28T09:29:19.016Z"
   },
   {
    "duration": 57,
    "start_time": "2023-04-28T09:29:19.413Z"
   },
   {
    "duration": 52,
    "start_time": "2023-04-28T09:29:19.472Z"
   },
   {
    "duration": 63,
    "start_time": "2023-04-28T09:29:19.527Z"
   },
   {
    "duration": 46,
    "start_time": "2023-04-28T09:29:19.592Z"
   },
   {
    "duration": 37,
    "start_time": "2023-04-28T09:29:19.655Z"
   },
   {
    "duration": 4,
    "start_time": "2023-04-28T09:29:19.694Z"
   },
   {
    "duration": 49,
    "start_time": "2023-04-28T09:29:19.700Z"
   },
   {
    "duration": 26,
    "start_time": "2023-04-28T09:29:19.757Z"
   },
   {
    "duration": 23,
    "start_time": "2023-04-28T09:29:19.785Z"
   },
   {
    "duration": 10,
    "start_time": "2023-04-28T09:29:19.810Z"
   },
   {
    "duration": 51,
    "start_time": "2023-04-28T09:29:19.822Z"
   },
   {
    "duration": 24,
    "start_time": "2023-04-28T09:29:19.877Z"
   },
   {
    "duration": 23,
    "start_time": "2023-04-28T09:29:19.903Z"
   },
   {
    "duration": 43,
    "start_time": "2023-04-28T09:29:19.928Z"
   },
   {
    "duration": 189,
    "start_time": "2023-04-28T09:29:19.973Z"
   },
   {
    "duration": 191,
    "start_time": "2023-04-28T09:29:20.165Z"
   },
   {
    "duration": 5,
    "start_time": "2023-04-28T09:29:20.358Z"
   },
   {
    "duration": 93,
    "start_time": "2023-04-28T09:29:20.365Z"
   },
   {
    "duration": 14,
    "start_time": "2023-04-28T09:29:20.460Z"
   },
   {
    "duration": 3,
    "start_time": "2023-04-28T09:29:20.476Z"
   },
   {
    "duration": 26,
    "start_time": "2023-04-28T09:29:20.481Z"
   },
   {
    "duration": 223,
    "start_time": "2023-04-28T09:29:20.509Z"
   },
   {
    "duration": 0,
    "start_time": "2023-04-28T09:29:20.734Z"
   },
   {
    "duration": 0,
    "start_time": "2023-04-28T09:29:20.737Z"
   },
   {
    "duration": 11,
    "start_time": "2023-04-28T09:29:27.612Z"
   },
   {
    "duration": 1379,
    "start_time": "2023-04-28T09:29:45.182Z"
   },
   {
    "duration": 368,
    "start_time": "2023-04-28T09:29:46.564Z"
   },
   {
    "duration": 56,
    "start_time": "2023-04-28T09:29:46.934Z"
   },
   {
    "duration": 71,
    "start_time": "2023-04-28T09:29:46.993Z"
   },
   {
    "duration": 43,
    "start_time": "2023-04-28T09:29:47.066Z"
   },
   {
    "duration": 81,
    "start_time": "2023-04-28T09:29:47.111Z"
   },
   {
    "duration": 32,
    "start_time": "2023-04-28T09:29:47.194Z"
   },
   {
    "duration": 3,
    "start_time": "2023-04-28T09:29:47.228Z"
   },
   {
    "duration": 48,
    "start_time": "2023-04-28T09:29:47.233Z"
   },
   {
    "duration": 25,
    "start_time": "2023-04-28T09:29:47.284Z"
   },
   {
    "duration": 45,
    "start_time": "2023-04-28T09:29:47.311Z"
   },
   {
    "duration": 3,
    "start_time": "2023-04-28T09:29:47.357Z"
   },
   {
    "duration": 32,
    "start_time": "2023-04-28T09:29:47.362Z"
   },
   {
    "duration": 23,
    "start_time": "2023-04-28T09:29:47.396Z"
   },
   {
    "duration": 44,
    "start_time": "2023-04-28T09:29:47.422Z"
   },
   {
    "duration": 97,
    "start_time": "2023-04-28T09:29:47.468Z"
   },
   {
    "duration": 189,
    "start_time": "2023-04-28T09:29:47.568Z"
   },
   {
    "duration": 112,
    "start_time": "2023-04-28T09:29:47.758Z"
   },
   {
    "duration": 85,
    "start_time": "2023-04-28T09:29:47.872Z"
   },
   {
    "duration": 5,
    "start_time": "2023-04-28T09:29:47.959Z"
   },
   {
    "duration": 90,
    "start_time": "2023-04-28T09:29:47.966Z"
   },
   {
    "duration": 16,
    "start_time": "2023-04-28T09:29:48.059Z"
   },
   {
    "duration": 26,
    "start_time": "2023-04-28T09:29:48.076Z"
   },
   {
    "duration": 1751,
    "start_time": "2023-04-28T09:29:48.104Z"
   },
   {
    "duration": 0,
    "start_time": "2023-04-28T09:29:49.858Z"
   },
   {
    "duration": 0,
    "start_time": "2023-04-28T09:29:49.859Z"
   },
   {
    "duration": 1522,
    "start_time": "2023-04-28T09:30:14.620Z"
   },
   {
    "duration": 411,
    "start_time": "2023-04-28T09:30:16.146Z"
   },
   {
    "duration": 62,
    "start_time": "2023-04-28T09:30:16.559Z"
   },
   {
    "duration": 66,
    "start_time": "2023-04-28T09:30:16.624Z"
   },
   {
    "duration": 63,
    "start_time": "2023-04-28T09:30:16.693Z"
   },
   {
    "duration": 67,
    "start_time": "2023-04-28T09:30:16.758Z"
   },
   {
    "duration": 54,
    "start_time": "2023-04-28T09:30:16.827Z"
   },
   {
    "duration": 4,
    "start_time": "2023-04-28T09:30:16.883Z"
   },
   {
    "duration": 30,
    "start_time": "2023-04-28T09:30:16.890Z"
   },
   {
    "duration": 51,
    "start_time": "2023-04-28T09:30:16.923Z"
   },
   {
    "duration": 23,
    "start_time": "2023-04-28T09:30:16.975Z"
   },
   {
    "duration": 5,
    "start_time": "2023-04-28T09:30:17.000Z"
   },
   {
    "duration": 52,
    "start_time": "2023-04-28T09:30:17.006Z"
   },
   {
    "duration": 25,
    "start_time": "2023-04-28T09:30:17.059Z"
   },
   {
    "duration": 48,
    "start_time": "2023-04-28T09:30:17.086Z"
   },
   {
    "duration": 42,
    "start_time": "2023-04-28T09:30:17.136Z"
   },
   {
    "duration": 179,
    "start_time": "2023-04-28T09:30:17.182Z"
   },
   {
    "duration": 109,
    "start_time": "2023-04-28T09:30:17.365Z"
   },
   {
    "duration": 11,
    "start_time": "2023-04-28T09:30:17.559Z"
   },
   {
    "duration": 4,
    "start_time": "2023-04-28T09:30:17.657Z"
   },
   {
    "duration": 13,
    "start_time": "2023-04-28T09:30:17.662Z"
   },
   {
    "duration": 2,
    "start_time": "2023-04-28T09:30:17.677Z"
   },
   {
    "duration": 1887,
    "start_time": "2023-04-28T09:30:17.681Z"
   },
   {
    "duration": 0,
    "start_time": "2023-04-28T09:30:19.569Z"
   },
   {
    "duration": 0,
    "start_time": "2023-04-28T09:30:19.571Z"
   },
   {
    "duration": 1736,
    "start_time": "2023-04-28T09:30:55.523Z"
   },
   {
    "duration": 1603,
    "start_time": "2023-04-28T09:31:05.475Z"
   },
   {
    "duration": 1842,
    "start_time": "2023-04-28T09:31:22.426Z"
   },
   {
    "duration": 1745,
    "start_time": "2023-04-28T09:31:26.219Z"
   },
   {
    "duration": 76,
    "start_time": "2023-04-28T09:35:37.313Z"
   },
   {
    "duration": 5,
    "start_time": "2023-04-28T09:35:53.608Z"
   },
   {
    "duration": 1956,
    "start_time": "2023-04-28T09:35:54.448Z"
   },
   {
    "duration": 2006,
    "start_time": "2023-04-28T09:36:12.561Z"
   },
   {
    "duration": 2187,
    "start_time": "2023-04-28T09:36:33.488Z"
   },
   {
    "duration": 1999,
    "start_time": "2023-04-28T09:36:37.248Z"
   },
   {
    "duration": 2445,
    "start_time": "2023-04-28T09:39:03.200Z"
   },
   {
    "duration": 2046,
    "start_time": "2023-04-28T09:39:05.646Z"
   },
   {
    "duration": 1812,
    "start_time": "2023-04-28T09:39:35.927Z"
   },
   {
    "duration": 1624,
    "start_time": "2023-04-28T09:40:14.153Z"
   },
   {
    "duration": 439,
    "start_time": "2023-04-28T09:40:15.779Z"
   },
   {
    "duration": 73,
    "start_time": "2023-04-28T09:40:16.219Z"
   },
   {
    "duration": 70,
    "start_time": "2023-04-28T09:40:16.296Z"
   },
   {
    "duration": 56,
    "start_time": "2023-04-28T09:40:16.371Z"
   },
   {
    "duration": 70,
    "start_time": "2023-04-28T09:40:16.429Z"
   },
   {
    "duration": 61,
    "start_time": "2023-04-28T09:40:16.501Z"
   },
   {
    "duration": 7,
    "start_time": "2023-04-28T09:40:16.569Z"
   },
   {
    "duration": 44,
    "start_time": "2023-04-28T09:40:16.578Z"
   },
   {
    "duration": 25,
    "start_time": "2023-04-28T09:40:16.627Z"
   },
   {
    "duration": 31,
    "start_time": "2023-04-28T09:40:16.654Z"
   },
   {
    "duration": 4,
    "start_time": "2023-04-28T09:40:16.687Z"
   },
   {
    "duration": 26,
    "start_time": "2023-04-28T09:40:16.693Z"
   },
   {
    "duration": 59,
    "start_time": "2023-04-28T09:40:16.722Z"
   },
   {
    "duration": 30,
    "start_time": "2023-04-28T09:40:16.783Z"
   },
   {
    "duration": 61,
    "start_time": "2023-04-28T09:40:16.815Z"
   },
   {
    "duration": 114,
    "start_time": "2023-04-28T09:40:16.878Z"
   },
   {
    "duration": 110,
    "start_time": "2023-04-28T09:40:17.058Z"
   },
   {
    "duration": 4,
    "start_time": "2023-04-28T09:40:17.170Z"
   },
   {
    "duration": 87,
    "start_time": "2023-04-28T09:40:17.179Z"
   },
   {
    "duration": 10,
    "start_time": "2023-04-28T09:40:17.272Z"
   },
   {
    "duration": 11,
    "start_time": "2023-04-28T09:40:17.284Z"
   },
   {
    "duration": 13,
    "start_time": "2023-04-28T09:40:17.297Z"
   },
   {
    "duration": 6,
    "start_time": "2023-04-28T09:40:17.312Z"
   },
   {
    "duration": 2418,
    "start_time": "2023-04-28T09:40:17.321Z"
   },
   {
    "duration": 0,
    "start_time": "2023-04-28T09:40:19.741Z"
   },
   {
    "duration": 0,
    "start_time": "2023-04-28T09:40:19.742Z"
   },
   {
    "duration": 1398,
    "start_time": "2023-04-28T09:41:46.875Z"
   },
   {
    "duration": 391,
    "start_time": "2023-04-28T09:41:48.275Z"
   },
   {
    "duration": 63,
    "start_time": "2023-04-28T09:41:48.668Z"
   },
   {
    "duration": 63,
    "start_time": "2023-04-28T09:41:48.733Z"
   },
   {
    "duration": 42,
    "start_time": "2023-04-28T09:41:48.798Z"
   },
   {
    "duration": 71,
    "start_time": "2023-04-28T09:41:48.842Z"
   },
   {
    "duration": 68,
    "start_time": "2023-04-28T09:41:48.915Z"
   },
   {
    "duration": 4,
    "start_time": "2023-04-28T09:41:48.985Z"
   },
   {
    "duration": 28,
    "start_time": "2023-04-28T09:41:48.991Z"
   },
   {
    "duration": 43,
    "start_time": "2023-04-28T09:41:49.021Z"
   },
   {
    "duration": 20,
    "start_time": "2023-04-28T09:41:49.073Z"
   },
   {
    "duration": 4,
    "start_time": "2023-04-28T09:41:49.095Z"
   },
   {
    "duration": 23,
    "start_time": "2023-04-28T09:41:49.101Z"
   },
   {
    "duration": 37,
    "start_time": "2023-04-28T09:41:49.127Z"
   },
   {
    "duration": 26,
    "start_time": "2023-04-28T09:41:49.169Z"
   },
   {
    "duration": 17,
    "start_time": "2023-04-28T09:41:49.197Z"
   },
   {
    "duration": 61,
    "start_time": "2023-04-28T09:41:49.215Z"
   },
   {
    "duration": 190,
    "start_time": "2023-04-28T09:41:49.278Z"
   },
   {
    "duration": 4,
    "start_time": "2023-04-28T09:41:49.469Z"
   },
   {
    "duration": 3,
    "start_time": "2023-04-28T09:41:49.477Z"
   },
   {
    "duration": 18,
    "start_time": "2023-04-28T09:41:49.557Z"
   },
   {
    "duration": 81,
    "start_time": "2023-04-28T09:41:49.577Z"
   },
   {
    "duration": 5,
    "start_time": "2023-04-28T09:41:49.660Z"
   },
   {
    "duration": 13,
    "start_time": "2023-04-28T09:41:49.666Z"
   },
   {
    "duration": 15,
    "start_time": "2023-04-28T09:41:49.681Z"
   },
   {
    "duration": 14,
    "start_time": "2023-04-28T09:41:49.698Z"
   },
   {
    "duration": 21,
    "start_time": "2023-04-28T09:41:49.714Z"
   },
   {
    "duration": 1491,
    "start_time": "2023-04-28T09:41:57.849Z"
   },
   {
    "duration": 465,
    "start_time": "2023-04-28T09:41:59.342Z"
   },
   {
    "duration": 64,
    "start_time": "2023-04-28T09:41:59.810Z"
   },
   {
    "duration": 59,
    "start_time": "2023-04-28T09:41:59.876Z"
   },
   {
    "duration": 61,
    "start_time": "2023-04-28T09:41:59.936Z"
   },
   {
    "duration": 78,
    "start_time": "2023-04-28T09:41:59.999Z"
   },
   {
    "duration": 41,
    "start_time": "2023-04-28T09:42:00.080Z"
   },
   {
    "duration": 4,
    "start_time": "2023-04-28T09:42:00.123Z"
   },
   {
    "duration": 73,
    "start_time": "2023-04-28T09:42:00.131Z"
   },
   {
    "duration": 33,
    "start_time": "2023-04-28T09:42:00.206Z"
   },
   {
    "duration": 35,
    "start_time": "2023-04-28T09:42:00.242Z"
   },
   {
    "duration": 24,
    "start_time": "2023-04-28T09:42:00.279Z"
   },
   {
    "duration": 61,
    "start_time": "2023-04-28T09:42:00.305Z"
   },
   {
    "duration": 31,
    "start_time": "2023-04-28T09:42:00.368Z"
   },
   {
    "duration": 41,
    "start_time": "2023-04-28T09:42:00.401Z"
   },
   {
    "duration": 114,
    "start_time": "2023-04-28T09:42:00.443Z"
   },
   {
    "duration": 105,
    "start_time": "2023-04-28T09:42:00.559Z"
   },
   {
    "duration": 116,
    "start_time": "2023-04-28T09:42:00.666Z"
   },
   {
    "duration": 12,
    "start_time": "2023-04-28T09:42:00.858Z"
   },
   {
    "duration": 84,
    "start_time": "2023-04-28T09:42:00.873Z"
   },
   {
    "duration": 8,
    "start_time": "2023-04-28T09:42:00.959Z"
   },
   {
    "duration": 37,
    "start_time": "2023-04-28T09:42:00.969Z"
   },
   {
    "duration": 47,
    "start_time": "2023-04-28T09:42:01.009Z"
   },
   {
    "duration": 2486,
    "start_time": "2023-04-28T09:42:01.062Z"
   },
   {
    "duration": 0,
    "start_time": "2023-04-28T09:42:03.555Z"
   },
   {
    "duration": 0,
    "start_time": "2023-04-28T09:42:03.557Z"
   },
   {
    "duration": 0,
    "start_time": "2023-04-28T09:42:03.563Z"
   },
   {
    "duration": 77,
    "start_time": "2023-04-28T09:42:16.733Z"
   },
   {
    "duration": 1589,
    "start_time": "2023-04-28T09:42:49.895Z"
   },
   {
    "duration": 1669,
    "start_time": "2023-04-28T09:43:07.477Z"
   },
   {
    "duration": 1770,
    "start_time": "2023-04-28T09:43:23.723Z"
   },
   {
    "duration": 2,
    "start_time": "2023-04-28T09:44:02.949Z"
   },
   {
    "duration": 18,
    "start_time": "2023-04-28T09:45:58.416Z"
   },
   {
    "duration": 1794,
    "start_time": "2023-04-28T09:46:30.867Z"
   },
   {
    "duration": 1816,
    "start_time": "2023-04-28T09:46:43.044Z"
   },
   {
    "duration": 1784,
    "start_time": "2023-04-28T09:46:50.835Z"
   },
   {
    "duration": 1697,
    "start_time": "2023-04-28T09:47:58.709Z"
   },
   {
    "duration": 1610,
    "start_time": "2023-04-28T09:48:05.523Z"
   },
   {
    "duration": 3,
    "start_time": "2023-04-28T09:48:12.682Z"
   },
   {
    "duration": 4,
    "start_time": "2023-04-28T09:48:14.626Z"
   },
   {
    "duration": 1670,
    "start_time": "2023-04-28T09:48:18.314Z"
   },
   {
    "duration": 1876,
    "start_time": "2023-04-28T09:48:25.219Z"
   },
   {
    "duration": 1700,
    "start_time": "2023-04-28T09:50:29.337Z"
   },
   {
    "duration": 4,
    "start_time": "2023-04-28T09:50:54.282Z"
   },
   {
    "duration": 1715,
    "start_time": "2023-04-28T09:50:58.880Z"
   },
   {
    "duration": 4,
    "start_time": "2023-04-28T09:51:23.472Z"
   },
   {
    "duration": 6,
    "start_time": "2023-04-28T09:51:24.218Z"
   },
   {
    "duration": 1730,
    "start_time": "2023-04-28T09:51:25.919Z"
   },
   {
    "duration": 3,
    "start_time": "2023-04-28T09:52:02.336Z"
   },
   {
    "duration": 1773,
    "start_time": "2023-04-28T09:52:04.511Z"
   },
   {
    "duration": 1929,
    "start_time": "2023-04-28T09:52:12.521Z"
   },
   {
    "duration": 1851,
    "start_time": "2023-04-28T09:52:24.002Z"
   },
   {
    "duration": 1714,
    "start_time": "2023-04-28T09:52:29.071Z"
   },
   {
    "duration": 2,
    "start_time": "2023-04-28T09:52:32.176Z"
   },
   {
    "duration": 1601,
    "start_time": "2023-04-28T09:52:49.232Z"
   },
   {
    "duration": 1735,
    "start_time": "2023-04-28T09:52:52.440Z"
   },
   {
    "duration": 1618,
    "start_time": "2023-04-28T09:52:55.832Z"
   },
   {
    "duration": 1764,
    "start_time": "2023-04-28T09:53:36.508Z"
   },
   {
    "duration": 1656,
    "start_time": "2023-04-28T09:53:38.817Z"
   },
   {
    "duration": 1677,
    "start_time": "2023-04-28T09:53:44.216Z"
   },
   {
    "duration": 3,
    "start_time": "2023-04-28T09:53:47.313Z"
   },
   {
    "duration": 1690,
    "start_time": "2023-04-28T09:54:26.894Z"
   },
   {
    "duration": 1779,
    "start_time": "2023-04-28T09:55:17.910Z"
   },
   {
    "duration": 1732,
    "start_time": "2023-04-28T09:55:31.863Z"
   },
   {
    "duration": 1850,
    "start_time": "2023-04-28T09:55:33.643Z"
   },
   {
    "duration": 1968,
    "start_time": "2023-04-28T09:55:43.630Z"
   },
   {
    "duration": 1489,
    "start_time": "2023-04-28T09:56:15.085Z"
   },
   {
    "duration": 411,
    "start_time": "2023-04-28T09:56:16.576Z"
   },
   {
    "duration": 49,
    "start_time": "2023-04-28T09:56:16.989Z"
   },
   {
    "duration": 59,
    "start_time": "2023-04-28T09:56:17.040Z"
   },
   {
    "duration": 73,
    "start_time": "2023-04-28T09:56:17.101Z"
   },
   {
    "duration": 48,
    "start_time": "2023-04-28T09:56:17.176Z"
   },
   {
    "duration": 59,
    "start_time": "2023-04-28T09:56:17.226Z"
   },
   {
    "duration": 3,
    "start_time": "2023-04-28T09:56:17.287Z"
   },
   {
    "duration": 23,
    "start_time": "2023-04-28T09:56:17.292Z"
   },
   {
    "duration": 43,
    "start_time": "2023-04-28T09:56:17.318Z"
   },
   {
    "duration": 38,
    "start_time": "2023-04-28T09:56:17.364Z"
   },
   {
    "duration": 18,
    "start_time": "2023-04-28T09:56:17.404Z"
   },
   {
    "duration": 25,
    "start_time": "2023-04-28T09:56:17.424Z"
   },
   {
    "duration": 27,
    "start_time": "2023-04-28T09:56:17.451Z"
   },
   {
    "duration": 42,
    "start_time": "2023-04-28T09:56:17.480Z"
   },
   {
    "duration": 37,
    "start_time": "2023-04-28T09:56:17.524Z"
   },
   {
    "duration": 107,
    "start_time": "2023-04-28T09:56:17.563Z"
   },
   {
    "duration": 108,
    "start_time": "2023-04-28T09:56:17.672Z"
   },
   {
    "duration": 11,
    "start_time": "2023-04-28T09:56:17.861Z"
   },
   {
    "duration": 83,
    "start_time": "2023-04-28T09:56:17.875Z"
   },
   {
    "duration": 12,
    "start_time": "2023-04-28T09:56:17.962Z"
   },
   {
    "duration": 5,
    "start_time": "2023-04-28T09:56:17.977Z"
   },
   {
    "duration": 12,
    "start_time": "2023-04-28T09:56:17.984Z"
   },
   {
    "duration": 1950,
    "start_time": "2023-04-28T09:56:17.998Z"
   },
   {
    "duration": 1686,
    "start_time": "2023-04-28T09:56:19.949Z"
   },
   {
    "duration": 1863,
    "start_time": "2023-04-28T09:56:21.637Z"
   },
   {
    "duration": 3,
    "start_time": "2023-04-28T09:56:23.502Z"
   },
   {
    "duration": 128,
    "start_time": "2023-04-28T10:03:34.002Z"
   },
   {
    "duration": 4,
    "start_time": "2023-04-28T10:03:40.106Z"
   },
   {
    "duration": 1683,
    "start_time": "2023-04-28T10:03:50.082Z"
   },
   {
    "duration": 1722,
    "start_time": "2023-04-28T10:03:53.674Z"
   },
   {
    "duration": 1603,
    "start_time": "2023-04-28T10:03:56.921Z"
   },
   {
    "duration": 1319,
    "start_time": "2023-04-28T10:04:21.914Z"
   },
   {
    "duration": 358,
    "start_time": "2023-04-28T10:04:23.235Z"
   },
   {
    "duration": 41,
    "start_time": "2023-04-28T10:04:23.595Z"
   },
   {
    "duration": 48,
    "start_time": "2023-04-28T10:04:23.638Z"
   },
   {
    "duration": 39,
    "start_time": "2023-04-28T10:04:23.689Z"
   },
   {
    "duration": 61,
    "start_time": "2023-04-28T10:04:23.729Z"
   },
   {
    "duration": 36,
    "start_time": "2023-04-28T10:04:23.792Z"
   },
   {
    "duration": 3,
    "start_time": "2023-04-28T10:04:23.832Z"
   },
   {
    "duration": 19,
    "start_time": "2023-04-28T10:04:23.856Z"
   },
   {
    "duration": 20,
    "start_time": "2023-04-28T10:04:23.877Z"
   },
   {
    "duration": 24,
    "start_time": "2023-04-28T10:04:23.899Z"
   },
   {
    "duration": 31,
    "start_time": "2023-04-28T10:04:23.925Z"
   },
   {
    "duration": 37,
    "start_time": "2023-04-28T10:04:23.959Z"
   },
   {
    "duration": 24,
    "start_time": "2023-04-28T10:04:23.999Z"
   },
   {
    "duration": 39,
    "start_time": "2023-04-28T10:04:24.025Z"
   },
   {
    "duration": 93,
    "start_time": "2023-04-28T10:04:24.066Z"
   },
   {
    "duration": 102,
    "start_time": "2023-04-28T10:04:24.161Z"
   },
   {
    "duration": 191,
    "start_time": "2023-04-28T10:04:24.265Z"
   },
   {
    "duration": 3,
    "start_time": "2023-04-28T10:04:24.458Z"
   },
   {
    "duration": 94,
    "start_time": "2023-04-28T10:04:24.463Z"
   },
   {
    "duration": 12,
    "start_time": "2023-04-28T10:04:24.558Z"
   },
   {
    "duration": 4,
    "start_time": "2023-04-28T10:04:24.571Z"
   },
   {
    "duration": 6,
    "start_time": "2023-04-28T10:04:24.577Z"
   },
   {
    "duration": 1649,
    "start_time": "2023-04-28T10:04:24.584Z"
   },
   {
    "duration": 1764,
    "start_time": "2023-04-28T10:04:26.235Z"
   },
   {
    "duration": 1616,
    "start_time": "2023-04-28T10:04:28.001Z"
   },
   {
    "duration": 2,
    "start_time": "2023-04-28T10:04:29.619Z"
   },
   {
    "duration": 73,
    "start_time": "2023-04-28T10:57:27.413Z"
   },
   {
    "duration": 1726,
    "start_time": "2023-04-28T10:57:34.982Z"
   },
   {
    "duration": 77,
    "start_time": "2023-04-28T11:03:56.270Z"
   },
   {
    "duration": 82,
    "start_time": "2023-04-28T11:04:01.796Z"
   },
   {
    "duration": 1670,
    "start_time": "2023-04-28T11:04:09.770Z"
   },
   {
    "duration": 1704,
    "start_time": "2023-04-28T11:04:19.691Z"
   },
   {
    "duration": 1914,
    "start_time": "2023-04-28T11:08:35.251Z"
   },
   {
    "duration": 4,
    "start_time": "2023-04-28T11:08:40.090Z"
   },
   {
    "duration": 4,
    "start_time": "2023-04-28T11:08:42.404Z"
   },
   {
    "duration": 1825,
    "start_time": "2023-04-28T11:08:44.475Z"
   },
   {
    "duration": 4,
    "start_time": "2023-04-28T11:10:12.505Z"
   },
   {
    "duration": 5,
    "start_time": "2023-04-28T11:10:14.506Z"
   },
   {
    "duration": 1878,
    "start_time": "2023-04-28T11:10:16.205Z"
   },
   {
    "duration": 7,
    "start_time": "2023-04-28T11:14:44.655Z"
   },
   {
    "duration": 4,
    "start_time": "2023-04-28T11:14:45.805Z"
   },
   {
    "duration": 1800,
    "start_time": "2023-04-28T11:14:47.905Z"
   },
   {
    "duration": 4,
    "start_time": "2023-04-28T11:15:26.983Z"
   },
   {
    "duration": 6,
    "start_time": "2023-04-28T11:15:27.623Z"
   },
   {
    "duration": 1801,
    "start_time": "2023-04-28T11:15:29.075Z"
   },
   {
    "duration": 4,
    "start_time": "2023-04-28T11:16:05.286Z"
   },
   {
    "duration": 4,
    "start_time": "2023-04-28T11:16:06.638Z"
   },
   {
    "duration": 1791,
    "start_time": "2023-04-28T11:16:07.647Z"
   },
   {
    "duration": 3,
    "start_time": "2023-04-28T11:16:59.782Z"
   },
   {
    "duration": 88,
    "start_time": "2023-04-28T11:19:04.550Z"
   },
   {
    "duration": 6,
    "start_time": "2023-04-28T11:19:10.870Z"
   },
   {
    "duration": 2889,
    "start_time": "2023-04-28T11:19:14.222Z"
   },
   {
    "duration": 2757,
    "start_time": "2023-04-28T11:19:29.989Z"
   },
   {
    "duration": 4,
    "start_time": "2023-04-28T11:19:42.308Z"
   },
   {
    "duration": 2955,
    "start_time": "2023-04-28T11:19:43.852Z"
   },
   {
    "duration": 2811,
    "start_time": "2023-04-28T11:21:34.220Z"
   },
   {
    "duration": 2775,
    "start_time": "2023-04-28T11:21:53.355Z"
   },
   {
    "duration": 2798,
    "start_time": "2023-04-28T11:22:15.284Z"
   },
   {
    "duration": 4,
    "start_time": "2023-04-28T11:22:33.836Z"
   },
   {
    "duration": 2752,
    "start_time": "2023-04-28T11:24:30.918Z"
   },
   {
    "duration": 720,
    "start_time": "2023-04-28T11:24:33.672Z"
   },
   {
    "duration": 45,
    "start_time": "2023-04-28T11:24:34.394Z"
   },
   {
    "duration": 54,
    "start_time": "2023-04-28T11:24:34.441Z"
   },
   {
    "duration": 38,
    "start_time": "2023-04-28T11:24:34.498Z"
   },
   {
    "duration": 50,
    "start_time": "2023-04-28T11:24:34.556Z"
   },
   {
    "duration": 56,
    "start_time": "2023-04-28T11:24:34.607Z"
   },
   {
    "duration": 3,
    "start_time": "2023-04-28T11:24:34.670Z"
   },
   {
    "duration": 23,
    "start_time": "2023-04-28T11:24:34.675Z"
   },
   {
    "duration": 20,
    "start_time": "2023-04-28T11:24:34.700Z"
   },
   {
    "duration": 41,
    "start_time": "2023-04-28T11:24:34.722Z"
   },
   {
    "duration": 4,
    "start_time": "2023-04-28T11:24:34.765Z"
   },
   {
    "duration": 30,
    "start_time": "2023-04-28T11:24:34.771Z"
   },
   {
    "duration": 19,
    "start_time": "2023-04-28T11:24:34.804Z"
   },
   {
    "duration": 20,
    "start_time": "2023-04-28T11:24:34.825Z"
   },
   {
    "duration": 25,
    "start_time": "2023-04-28T11:24:34.855Z"
   },
   {
    "duration": 181,
    "start_time": "2023-04-28T11:24:34.882Z"
   },
   {
    "duration": 103,
    "start_time": "2023-04-28T11:24:35.065Z"
   },
   {
    "duration": 4,
    "start_time": "2023-04-28T11:24:35.176Z"
   },
   {
    "duration": 19,
    "start_time": "2023-04-28T11:24:35.255Z"
   },
   {
    "duration": 83,
    "start_time": "2023-04-28T11:24:35.277Z"
   },
   {
    "duration": 6,
    "start_time": "2023-04-28T11:24:35.362Z"
   },
   {
    "duration": 21,
    "start_time": "2023-04-28T11:24:35.369Z"
   },
   {
    "duration": 2750,
    "start_time": "2023-04-28T11:24:35.391Z"
   },
   {
    "duration": 2720,
    "start_time": "2023-04-28T11:24:38.143Z"
   },
   {
    "duration": 2721,
    "start_time": "2023-04-28T11:24:40.868Z"
   },
   {
    "duration": 2781,
    "start_time": "2023-04-28T11:29:56.039Z"
   },
   {
    "duration": 3044,
    "start_time": "2023-04-28T11:29:58.822Z"
   },
   {
    "duration": 3436,
    "start_time": "2023-04-28T11:30:01.867Z"
   },
   {
    "duration": 3,
    "start_time": "2023-04-28T11:37:06.827Z"
   },
   {
    "duration": 1586,
    "start_time": "2023-04-28T12:20:48.313Z"
   },
   {
    "duration": 1688,
    "start_time": "2023-04-28T12:20:49.902Z"
   },
   {
    "duration": 70,
    "start_time": "2023-04-28T12:20:51.593Z"
   },
   {
    "duration": 66,
    "start_time": "2023-04-28T12:20:51.666Z"
   },
   {
    "duration": 75,
    "start_time": "2023-04-28T12:20:51.734Z"
   },
   {
    "duration": 64,
    "start_time": "2023-04-28T12:20:51.812Z"
   },
   {
    "duration": 80,
    "start_time": "2023-04-28T12:20:51.878Z"
   },
   {
    "duration": 3,
    "start_time": "2023-04-28T12:20:51.960Z"
   },
   {
    "duration": 36,
    "start_time": "2023-04-28T12:20:51.966Z"
   },
   {
    "duration": 52,
    "start_time": "2023-04-28T12:20:52.006Z"
   },
   {
    "duration": 37,
    "start_time": "2023-04-28T12:20:52.061Z"
   },
   {
    "duration": 19,
    "start_time": "2023-04-28T12:20:52.100Z"
   },
   {
    "duration": 31,
    "start_time": "2023-04-28T12:20:52.121Z"
   },
   {
    "duration": 29,
    "start_time": "2023-04-28T12:20:52.154Z"
   },
   {
    "duration": 27,
    "start_time": "2023-04-28T12:20:52.185Z"
   },
   {
    "duration": 148,
    "start_time": "2023-04-28T12:20:52.214Z"
   },
   {
    "duration": 194,
    "start_time": "2023-04-28T12:20:52.365Z"
   },
   {
    "duration": 95,
    "start_time": "2023-04-28T12:20:52.561Z"
   },
   {
    "duration": 99,
    "start_time": "2023-04-28T12:20:52.658Z"
   },
   {
    "duration": 13,
    "start_time": "2023-04-28T12:20:52.759Z"
   },
   {
    "duration": 16,
    "start_time": "2023-04-28T12:20:52.774Z"
   },
   {
    "duration": 8,
    "start_time": "2023-04-28T12:20:52.792Z"
   },
   {
    "duration": 10,
    "start_time": "2023-04-28T12:20:52.802Z"
   },
   {
    "duration": 2861,
    "start_time": "2023-04-28T12:20:52.813Z"
   },
   {
    "duration": 2801,
    "start_time": "2023-04-28T12:20:55.676Z"
   },
   {
    "duration": 2992,
    "start_time": "2023-04-28T12:20:58.479Z"
   },
   {
    "duration": 1446,
    "start_time": "2023-04-28T12:21:39.206Z"
   },
   {
    "duration": 439,
    "start_time": "2023-04-28T12:21:40.655Z"
   },
   {
    "duration": 76,
    "start_time": "2023-04-28T12:21:41.096Z"
   },
   {
    "duration": 100,
    "start_time": "2023-04-28T12:21:41.177Z"
   },
   {
    "duration": 91,
    "start_time": "2023-04-28T12:21:41.280Z"
   },
   {
    "duration": 122,
    "start_time": "2023-04-28T12:21:41.378Z"
   },
   {
    "duration": 102,
    "start_time": "2023-04-28T12:21:41.502Z"
   },
   {
    "duration": 54,
    "start_time": "2023-04-28T12:21:41.606Z"
   },
   {
    "duration": 29,
    "start_time": "2023-04-28T12:21:41.662Z"
   },
   {
    "duration": 74,
    "start_time": "2023-04-28T12:21:41.695Z"
   },
   {
    "duration": 29,
    "start_time": "2023-04-28T12:21:41.771Z"
   },
   {
    "duration": 5,
    "start_time": "2023-04-28T12:21:41.857Z"
   },
   {
    "duration": 95,
    "start_time": "2023-04-28T12:21:41.864Z"
   },
   {
    "duration": 23,
    "start_time": "2023-04-28T12:21:41.968Z"
   },
   {
    "duration": 87,
    "start_time": "2023-04-28T12:21:41.993Z"
   },
   {
    "duration": 85,
    "start_time": "2023-04-28T12:21:42.083Z"
   },
   {
    "duration": 105,
    "start_time": "2023-04-28T12:21:42.172Z"
   },
   {
    "duration": 198,
    "start_time": "2023-04-28T12:21:42.279Z"
   },
   {
    "duration": 80,
    "start_time": "2023-04-28T12:21:42.482Z"
   },
   {
    "duration": 11,
    "start_time": "2023-04-28T12:21:42.569Z"
   },
   {
    "duration": 9,
    "start_time": "2023-04-28T12:21:42.582Z"
   },
   {
    "duration": 4,
    "start_time": "2023-04-28T12:21:42.593Z"
   },
   {
    "duration": 9,
    "start_time": "2023-04-28T12:21:42.599Z"
   },
   {
    "duration": 3766,
    "start_time": "2023-04-28T12:21:42.610Z"
   },
   {
    "duration": 2705,
    "start_time": "2023-04-28T12:21:46.377Z"
   },
   {
    "duration": 2810,
    "start_time": "2023-04-28T12:21:49.085Z"
   },
   {
    "duration": 49,
    "start_time": "2023-04-28T13:51:18.773Z"
   },
   {
    "duration": 103,
    "start_time": "2023-05-05T10:04:01.434Z"
   },
   {
    "duration": 1497,
    "start_time": "2023-05-18T14:39:54.283Z"
   },
   {
    "duration": 783,
    "start_time": "2023-05-18T14:39:55.782Z"
   },
   {
    "duration": 43,
    "start_time": "2023-05-18T14:39:56.566Z"
   },
   {
    "duration": 38,
    "start_time": "2023-05-18T14:39:56.611Z"
   },
   {
    "duration": 53,
    "start_time": "2023-05-18T14:39:56.651Z"
   },
   {
    "duration": 46,
    "start_time": "2023-05-18T14:39:56.706Z"
   },
   {
    "duration": 57,
    "start_time": "2023-05-18T14:39:56.753Z"
   },
   {
    "duration": 4,
    "start_time": "2023-05-18T14:39:56.812Z"
   },
   {
    "duration": 26,
    "start_time": "2023-05-18T14:39:56.818Z"
   },
   {
    "duration": 24,
    "start_time": "2023-05-18T14:39:56.846Z"
   },
   {
    "duration": 43,
    "start_time": "2023-05-18T14:39:56.872Z"
   },
   {
    "duration": 36,
    "start_time": "2023-05-18T14:39:56.917Z"
   },
   {
    "duration": 36,
    "start_time": "2023-05-18T14:39:56.955Z"
   },
   {
    "duration": 31,
    "start_time": "2023-05-18T14:39:56.994Z"
   },
   {
    "duration": 35,
    "start_time": "2023-05-18T14:39:57.027Z"
   },
   {
    "duration": 45,
    "start_time": "2023-05-18T14:39:57.064Z"
   },
   {
    "duration": 104,
    "start_time": "2023-05-18T14:39:57.112Z"
   },
   {
    "duration": 206,
    "start_time": "2023-05-18T14:39:57.218Z"
   },
   {
    "duration": 82,
    "start_time": "2023-05-18T14:39:57.426Z"
   },
   {
    "duration": 99,
    "start_time": "2023-05-18T14:39:57.510Z"
   },
   {
    "duration": 9,
    "start_time": "2023-05-18T14:39:57.611Z"
   },
   {
    "duration": 4,
    "start_time": "2023-05-18T14:39:57.622Z"
   },
   {
    "duration": 9,
    "start_time": "2023-05-18T14:39:57.627Z"
   },
   {
    "duration": 2584,
    "start_time": "2023-05-18T14:39:57.637Z"
   },
   {
    "duration": 2760,
    "start_time": "2023-05-18T14:40:00.223Z"
   },
   {
    "duration": 2714,
    "start_time": "2023-05-18T14:40:02.985Z"
   }
  ],
  "kernelspec": {
   "display_name": "Python 3 (ipykernel)",
   "language": "python",
   "name": "python3"
  },
  "language_info": {
   "codemirror_mode": {
    "name": "ipython",
    "version": 3
   },
   "file_extension": ".py",
   "mimetype": "text/x-python",
   "name": "python",
   "nbconvert_exporter": "python",
   "pygments_lexer": "ipython3",
   "version": "3.10.9"
  },
  "toc": {
   "base_numbering": 1,
   "nav_menu": {},
   "number_sections": true,
   "sideBar": true,
   "skip_h1_title": true,
   "title_cell": "Содержание",
   "title_sidebar": "Contents",
   "toc_cell": true,
   "toc_position": {
    "height": "1226.25px",
    "left": "37px",
    "top": "111.86px",
    "width": "444.725px"
   },
   "toc_section_display": true,
   "toc_window_display": true
  }
 },
 "nbformat": 4,
 "nbformat_minor": 2
}
