{
 "cells": [
  {
   "cell_type": "markdown",
   "metadata": {},
   "source": [
    "# Рекомендация тарифов"
   ]
  },
  {
   "cell_type": "markdown",
   "metadata": {},
   "source": [
    "**Описание проекта:**\n",
    "\n",
    "Оператор мобильной связи «Мегалайн» выяснил: многие клиенты пользуются архивными тарифами. Компания «Мегалайн» хочет построить систему, способную проанализировать поведение клиентов и предложить пользователям новый тариф: «Смарт» или «Ультра»."
   ]
  },
  {
   "cell_type": "markdown",
   "metadata": {},
   "source": [
    "**Цель работы:**\n",
    "\n",
    "В рамках данной проектной работы необходимо построить модель рекомендации тарифов, доля правильных ответов должна составлять не менее 75%."
   ]
  },
  {
   "cell_type": "markdown",
   "metadata": {},
   "source": [
    "## Анализ данных"
   ]
  },
  {
   "cell_type": "markdown",
   "metadata": {},
   "source": [
    "### Импортирование библиотек\n",
    "\n",
    "В данном разделе будет проведен импорт всех необходимых библиотек."
   ]
  },
  {
   "cell_type": "code",
   "execution_count": 1,
   "metadata": {},
   "outputs": [],
   "source": [
    "#импортируем необходимые для работы библиотеки\n",
    "import pandas as pd\n",
    "from tqdm import tqdm\n",
    "import matplotlib.pyplot as plt \n",
    "\n",
    "from sklearn.tree import DecisionTreeClassifier\n",
    "from sklearn import tree\n",
    "from sklearn.ensemble import RandomForestClassifier\n",
    "from sklearn.linear_model import LogisticRegression\n",
    "from sklearn.dummy import DummyClassifier\n",
    "from sklearn.model_selection import train_test_split\n",
    "from sklearn.metrics import accuracy_score, classification_report, confusion_matrix"
   ]
  },
  {
   "cell_type": "markdown",
   "metadata": {},
   "source": [
    "### Изучение полученных данных\n",
    "\n",
    "Откроем полученные данные и проведем общий анализ."
   ]
  },
  {
   "cell_type": "code",
   "execution_count": 2,
   "metadata": {},
   "outputs": [
    {
     "data": {
      "text/html": [
       "<div>\n",
       "<style scoped>\n",
       "    .dataframe tbody tr th:only-of-type {\n",
       "        vertical-align: middle;\n",
       "    }\n",
       "\n",
       "    .dataframe tbody tr th {\n",
       "        vertical-align: top;\n",
       "    }\n",
       "\n",
       "    .dataframe thead th {\n",
       "        text-align: right;\n",
       "    }\n",
       "</style>\n",
       "<table border=\"1\" class=\"dataframe\">\n",
       "  <thead>\n",
       "    <tr style=\"text-align: right;\">\n",
       "      <th></th>\n",
       "      <th>calls</th>\n",
       "      <th>minutes</th>\n",
       "      <th>messages</th>\n",
       "      <th>mb_used</th>\n",
       "      <th>is_ultra</th>\n",
       "    </tr>\n",
       "  </thead>\n",
       "  <tbody>\n",
       "    <tr>\n",
       "      <th>0</th>\n",
       "      <td>40.0</td>\n",
       "      <td>311.90</td>\n",
       "      <td>83.0</td>\n",
       "      <td>19915.42</td>\n",
       "      <td>0</td>\n",
       "    </tr>\n",
       "    <tr>\n",
       "      <th>1</th>\n",
       "      <td>85.0</td>\n",
       "      <td>516.75</td>\n",
       "      <td>56.0</td>\n",
       "      <td>22696.96</td>\n",
       "      <td>0</td>\n",
       "    </tr>\n",
       "    <tr>\n",
       "      <th>2</th>\n",
       "      <td>77.0</td>\n",
       "      <td>467.66</td>\n",
       "      <td>86.0</td>\n",
       "      <td>21060.45</td>\n",
       "      <td>0</td>\n",
       "    </tr>\n",
       "    <tr>\n",
       "      <th>3</th>\n",
       "      <td>106.0</td>\n",
       "      <td>745.53</td>\n",
       "      <td>81.0</td>\n",
       "      <td>8437.39</td>\n",
       "      <td>1</td>\n",
       "    </tr>\n",
       "    <tr>\n",
       "      <th>4</th>\n",
       "      <td>66.0</td>\n",
       "      <td>418.74</td>\n",
       "      <td>1.0</td>\n",
       "      <td>14502.75</td>\n",
       "      <td>0</td>\n",
       "    </tr>\n",
       "    <tr>\n",
       "      <th>5</th>\n",
       "      <td>58.0</td>\n",
       "      <td>344.56</td>\n",
       "      <td>21.0</td>\n",
       "      <td>15823.37</td>\n",
       "      <td>0</td>\n",
       "    </tr>\n",
       "    <tr>\n",
       "      <th>6</th>\n",
       "      <td>57.0</td>\n",
       "      <td>431.64</td>\n",
       "      <td>20.0</td>\n",
       "      <td>3738.90</td>\n",
       "      <td>1</td>\n",
       "    </tr>\n",
       "    <tr>\n",
       "      <th>7</th>\n",
       "      <td>15.0</td>\n",
       "      <td>132.40</td>\n",
       "      <td>6.0</td>\n",
       "      <td>21911.60</td>\n",
       "      <td>0</td>\n",
       "    </tr>\n",
       "    <tr>\n",
       "      <th>8</th>\n",
       "      <td>7.0</td>\n",
       "      <td>43.39</td>\n",
       "      <td>3.0</td>\n",
       "      <td>2538.67</td>\n",
       "      <td>1</td>\n",
       "    </tr>\n",
       "    <tr>\n",
       "      <th>9</th>\n",
       "      <td>90.0</td>\n",
       "      <td>665.41</td>\n",
       "      <td>38.0</td>\n",
       "      <td>17358.61</td>\n",
       "      <td>0</td>\n",
       "    </tr>\n",
       "  </tbody>\n",
       "</table>\n",
       "</div>"
      ],
      "text/plain": [
       "   calls  minutes  messages   mb_used  is_ultra\n",
       "0   40.0   311.90      83.0  19915.42         0\n",
       "1   85.0   516.75      56.0  22696.96         0\n",
       "2   77.0   467.66      86.0  21060.45         0\n",
       "3  106.0   745.53      81.0   8437.39         1\n",
       "4   66.0   418.74       1.0  14502.75         0\n",
       "5   58.0   344.56      21.0  15823.37         0\n",
       "6   57.0   431.64      20.0   3738.90         1\n",
       "7   15.0   132.40       6.0  21911.60         0\n",
       "8    7.0    43.39       3.0   2538.67         1\n",
       "9   90.0   665.41      38.0  17358.61         0"
      ]
     },
     "execution_count": 2,
     "metadata": {},
     "output_type": "execute_result"
    }
   ],
   "source": [
    "#откроем файл с данными\n",
    "df = pd.read_csv('/datasets/users_behavior.csv')\n",
    "\n",
    "#выведем на экран 10 строк из файла\n",
    "df.head(10)"
   ]
  },
  {
   "cell_type": "code",
   "execution_count": 3,
   "metadata": {},
   "outputs": [
    {
     "name": "stdout",
     "output_type": "stream",
     "text": [
      "<class 'pandas.core.frame.DataFrame'>\n",
      "RangeIndex: 3214 entries, 0 to 3213\n",
      "Data columns (total 5 columns):\n",
      " #   Column    Non-Null Count  Dtype  \n",
      "---  ------    --------------  -----  \n",
      " 0   calls     3214 non-null   float64\n",
      " 1   minutes   3214 non-null   float64\n",
      " 2   messages  3214 non-null   float64\n",
      " 3   mb_used   3214 non-null   float64\n",
      " 4   is_ultra  3214 non-null   int64  \n",
      "dtypes: float64(4), int64(1)\n",
      "memory usage: 125.7 KB\n",
      "None \n",
      "\n",
      "Количетво пользователи тарифа \"Смарт(0)\" и \"Ультра(1)\":\n",
      "0    2229\n",
      "1     985\n",
      "Name: is_ultra, dtype: int64\n"
     ]
    },
    {
     "data": {
      "text/html": [
       "<div>\n",
       "<style scoped>\n",
       "    .dataframe tbody tr th:only-of-type {\n",
       "        vertical-align: middle;\n",
       "    }\n",
       "\n",
       "    .dataframe tbody tr th {\n",
       "        vertical-align: top;\n",
       "    }\n",
       "\n",
       "    .dataframe thead th {\n",
       "        text-align: right;\n",
       "    }\n",
       "</style>\n",
       "<table border=\"1\" class=\"dataframe\">\n",
       "  <thead>\n",
       "    <tr style=\"text-align: right;\">\n",
       "      <th></th>\n",
       "      <th>calls</th>\n",
       "      <th>minutes</th>\n",
       "      <th>messages</th>\n",
       "      <th>mb_used</th>\n",
       "      <th>is_ultra</th>\n",
       "    </tr>\n",
       "  </thead>\n",
       "  <tbody>\n",
       "    <tr>\n",
       "      <th>count</th>\n",
       "      <td>3214.000000</td>\n",
       "      <td>3214.000000</td>\n",
       "      <td>3214.000000</td>\n",
       "      <td>3214.000000</td>\n",
       "      <td>3214.000000</td>\n",
       "    </tr>\n",
       "    <tr>\n",
       "      <th>mean</th>\n",
       "      <td>63.038892</td>\n",
       "      <td>438.208787</td>\n",
       "      <td>38.281269</td>\n",
       "      <td>17207.673836</td>\n",
       "      <td>0.306472</td>\n",
       "    </tr>\n",
       "    <tr>\n",
       "      <th>std</th>\n",
       "      <td>33.236368</td>\n",
       "      <td>234.569872</td>\n",
       "      <td>36.148326</td>\n",
       "      <td>7570.968246</td>\n",
       "      <td>0.461100</td>\n",
       "    </tr>\n",
       "    <tr>\n",
       "      <th>min</th>\n",
       "      <td>0.000000</td>\n",
       "      <td>0.000000</td>\n",
       "      <td>0.000000</td>\n",
       "      <td>0.000000</td>\n",
       "      <td>0.000000</td>\n",
       "    </tr>\n",
       "    <tr>\n",
       "      <th>25%</th>\n",
       "      <td>40.000000</td>\n",
       "      <td>274.575000</td>\n",
       "      <td>9.000000</td>\n",
       "      <td>12491.902500</td>\n",
       "      <td>0.000000</td>\n",
       "    </tr>\n",
       "    <tr>\n",
       "      <th>50%</th>\n",
       "      <td>62.000000</td>\n",
       "      <td>430.600000</td>\n",
       "      <td>30.000000</td>\n",
       "      <td>16943.235000</td>\n",
       "      <td>0.000000</td>\n",
       "    </tr>\n",
       "    <tr>\n",
       "      <th>75%</th>\n",
       "      <td>82.000000</td>\n",
       "      <td>571.927500</td>\n",
       "      <td>57.000000</td>\n",
       "      <td>21424.700000</td>\n",
       "      <td>1.000000</td>\n",
       "    </tr>\n",
       "    <tr>\n",
       "      <th>max</th>\n",
       "      <td>244.000000</td>\n",
       "      <td>1632.060000</td>\n",
       "      <td>224.000000</td>\n",
       "      <td>49745.730000</td>\n",
       "      <td>1.000000</td>\n",
       "    </tr>\n",
       "  </tbody>\n",
       "</table>\n",
       "</div>"
      ],
      "text/plain": [
       "             calls      minutes     messages       mb_used     is_ultra\n",
       "count  3214.000000  3214.000000  3214.000000   3214.000000  3214.000000\n",
       "mean     63.038892   438.208787    38.281269  17207.673836     0.306472\n",
       "std      33.236368   234.569872    36.148326   7570.968246     0.461100\n",
       "min       0.000000     0.000000     0.000000      0.000000     0.000000\n",
       "25%      40.000000   274.575000     9.000000  12491.902500     0.000000\n",
       "50%      62.000000   430.600000    30.000000  16943.235000     0.000000\n",
       "75%      82.000000   571.927500    57.000000  21424.700000     1.000000\n",
       "max     244.000000  1632.060000   224.000000  49745.730000     1.000000"
      ]
     },
     "execution_count": 3,
     "metadata": {},
     "output_type": "execute_result"
    }
   ],
   "source": [
    "#получим информацию о загруженном датасете\n",
    "print (df.info(),'\\n')\n",
    "\n",
    "#рассмотрим сколько пользователей пользуются тарифом \"Смарт\" и \"Ультра\"\n",
    "print('Количетво пользователи тарифа \"Смарт(0)\" и \"Ультра(1)\":')\n",
    "print(df['is_ultra'].value_counts())\n",
    "\n",
    "#сформируем детальную информацию о каждом столбце датасета\n",
    "df.describe()"
   ]
  },
  {
   "cell_type": "code",
   "execution_count": 4,
   "metadata": {},
   "outputs": [
    {
     "data": {
      "text/plain": [
       "0.693528313627878"
      ]
     },
     "execution_count": 4,
     "metadata": {},
     "output_type": "execute_result"
    }
   ],
   "source": [
    "2229/3214"
   ]
  },
  {
   "cell_type": "code",
   "execution_count": 5,
   "metadata": {
    "scrolled": true
   },
   "outputs": [
    {
     "data": {
      "text/html": [
       "<div>\n",
       "<style scoped>\n",
       "    .dataframe tbody tr th:only-of-type {\n",
       "        vertical-align: middle;\n",
       "    }\n",
       "\n",
       "    .dataframe tbody tr th {\n",
       "        vertical-align: top;\n",
       "    }\n",
       "\n",
       "    .dataframe thead th {\n",
       "        text-align: right;\n",
       "    }\n",
       "</style>\n",
       "<table border=\"1\" class=\"dataframe\">\n",
       "  <thead>\n",
       "    <tr style=\"text-align: right;\">\n",
       "      <th></th>\n",
       "      <th>calls</th>\n",
       "      <th>minutes</th>\n",
       "      <th>messages</th>\n",
       "      <th>mb_used</th>\n",
       "      <th>is_ultra</th>\n",
       "    </tr>\n",
       "  </thead>\n",
       "  <tbody>\n",
       "    <tr>\n",
       "      <th>calls</th>\n",
       "      <td>1.000000</td>\n",
       "      <td>0.982083</td>\n",
       "      <td>0.177385</td>\n",
       "      <td>0.286442</td>\n",
       "      <td>0.207122</td>\n",
       "    </tr>\n",
       "    <tr>\n",
       "      <th>minutes</th>\n",
       "      <td>0.982083</td>\n",
       "      <td>1.000000</td>\n",
       "      <td>0.173110</td>\n",
       "      <td>0.280967</td>\n",
       "      <td>0.206955</td>\n",
       "    </tr>\n",
       "    <tr>\n",
       "      <th>messages</th>\n",
       "      <td>0.177385</td>\n",
       "      <td>0.173110</td>\n",
       "      <td>1.000000</td>\n",
       "      <td>0.195721</td>\n",
       "      <td>0.203830</td>\n",
       "    </tr>\n",
       "    <tr>\n",
       "      <th>mb_used</th>\n",
       "      <td>0.286442</td>\n",
       "      <td>0.280967</td>\n",
       "      <td>0.195721</td>\n",
       "      <td>1.000000</td>\n",
       "      <td>0.198568</td>\n",
       "    </tr>\n",
       "    <tr>\n",
       "      <th>is_ultra</th>\n",
       "      <td>0.207122</td>\n",
       "      <td>0.206955</td>\n",
       "      <td>0.203830</td>\n",
       "      <td>0.198568</td>\n",
       "      <td>1.000000</td>\n",
       "    </tr>\n",
       "  </tbody>\n",
       "</table>\n",
       "</div>"
      ],
      "text/plain": [
       "             calls   minutes  messages   mb_used  is_ultra\n",
       "calls     1.000000  0.982083  0.177385  0.286442  0.207122\n",
       "minutes   0.982083  1.000000  0.173110  0.280967  0.206955\n",
       "messages  0.177385  0.173110  1.000000  0.195721  0.203830\n",
       "mb_used   0.286442  0.280967  0.195721  1.000000  0.198568\n",
       "is_ultra  0.207122  0.206955  0.203830  0.198568  1.000000"
      ]
     },
     "execution_count": 5,
     "metadata": {},
     "output_type": "execute_result"
    }
   ],
   "source": [
    "df.corr()"
   ]
  },
  {
   "cell_type": "markdown",
   "metadata": {},
   "source": [
    "### Вывод по блоку \"Анализ данных\":\n",
    "\n",
    "Был предоставлен датасет с расшифровкой трафика пользователей мобильного оператора \"Мегалайн\". Каждая строка - информация об одном пользователе за месяц. \n",
    "\n",
    "Датасет имеет следующие колонки:\n",
    "- `сalls` — количество звонков,\n",
    "- `minutes` — суммарная длительность звонков в минутах,\n",
    "- `messages` — количество sms-сообщений,\n",
    "- `mb_used` — израсходованный интернет-трафик в Мб,\n",
    "- `is_ultra` — каким тарифом пользовался в течение месяца («Ультра» — 1, «Смарт» — 0)\n",
    "\n",
    "После загрузке данных было установлено, что в датасете 3214 записей. Пустые значения отсутствуют, тип данных для каждой колонки соответствует находящемся в данных колонках данных, аномальные значения отсутствуют. Данные являются предобработанными.\n",
    "\n",
    "Для общего понимания было обнаружено, что тарифом \"Смарт\" пользуются **2229** (**69%**) пользователей, а тарифом \"Ултра\" - **985** (**31%**) пользователей."
   ]
  },
  {
   "cell_type": "markdown",
   "metadata": {},
   "source": [
    "## Подготовка выборок и обучение модели\n",
    "\n",
    "В данном блоке будет проведена следующая работа:\n",
    "- подготовка выборок для обучения и тестирования модели.\n",
    "- обучение модели разными алгоритмами и определение наиболее качественной модели рекомендаций."
   ]
  },
  {
   "cell_type": "markdown",
   "metadata": {},
   "source": [
    "### Разделение данных на выборки \n",
    "\n",
    "Для проведения корректного тестирования модели необходимо подготовить 3 выборки:\n",
    "- обучающую;\n",
    "- валидационную;\n",
    "- тестовую.\n",
    "\n",
    "Выборки будут получены на основе имеющихся данных и разделены в пропорции 3:1:1, таким образом `обучающая` выборка будет составлять **60%**, `валидационная` - **20%** и `тестовая` - **20%**."
   ]
  },
  {
   "cell_type": "code",
   "execution_count": 6,
   "metadata": {},
   "outputs": [
    {
     "name": "stdout",
     "output_type": "stream",
     "text": [
      "Размер \"features\"/\"target\" до деления:  (3214, 4)  /  (3214,)\n",
      "features и target для обучающей выборки (1928, 4)  /  (1928,)\n",
      "features и target для валидационной выборки (643, 4)  /  (643,)\n",
      "features и target, для тестовой выборки (643, 4)  /  (643,)\n"
     ]
    }
   ],
   "source": [
    "#для начала разделим наш датасет на данные - признаки (features) и целевые значения (target)\n",
    "features= df.drop(['is_ultra'], axis =1)\n",
    "target = df['is_ultra']\n",
    "\n",
    "#для контроля за количеством данных выборках выведем размеры features и target методом '.shape()'\n",
    "print('Размер \"features\"/\"target\" до деления: ',features.shape,' / ', target.shape)\n",
    "\n",
    "#для составления выборок используем функцию `train_test_split` дважды:\n",
    "#популяцию разделим на две выборки - обучающую(train) и тест-валидационную(test_valid) \n",
    "features_train,features_test_valid, target_train , target_test_valid = (\n",
    "train_test_split (features, target, test_size = 0.4, random_state = 12345, stratify = target))\n",
    "\n",
    "#далее разделим тест-валидационную на валидационную выборку и выборку для тестирования\n",
    "features_valid,features_test,target_valid,target_test = (\n",
    "train_test_split(features_test_valid, target_test_valid, test_size = 0.5, random_state = 12345, stratify = target_test_valid))\n",
    "\n",
    "#убедимся что при делении не потеряли данные\n",
    "print('features и target для обучающей выборки',features_train.shape,' / ', target_train.shape)\n",
    "print('features и target для валидационной выборки',features_valid.shape,' / ', target_valid.shape)\n",
    "print('features и target, для тестовой выборки',features_valid.shape,' / ', target_valid.shape)"
   ]
  },
  {
   "cell_type": "markdown",
   "metadata": {},
   "source": [
    "### Обучение модели на алгоритме - решающее дерево (DecisionTreeClassifier)\n",
    "\n",
    "Проведем обучение модели алгоритмом - решающее дерево. В данном алгоритме важным параметром является глубина дерева(`max_depth`), для определения оптимального значения данного гиперпараметра построим функцию, которая будет перебирать различные значения данного параметра и определит значения с наиболее высоким качеством модели."
   ]
  },
  {
   "cell_type": "code",
   "execution_count": 7,
   "metadata": {},
   "outputs": [
    {
     "name": "stderr",
     "output_type": "stream",
     "text": [
      "100%|██████████| 24/24 [00:00<00:00, 79.05it/s]\n"
     ]
    },
    {
     "name": "stdout",
     "output_type": "stream",
     "text": [
      "Качество модели составляет: 0.80248833592535 Глубина дерева: 8\n"
     ]
    },
    {
     "data": {
      "image/png": "[encoded data removed]",
      "text/plain": [
       "<Figure size 1080x288 with 1 Axes>"
      ]
     },
     "metadata": {
      "needs_background": "light"
     },
     "output_type": "display_data"
    },
    {
     "data": {
      "image/png": "[encoded data removed]",
      "text/plain": [
       "<Figure size 1080x288 with 1 Axes>"
      ]
     },
     "metadata": {
      "needs_background": "light"
     },
     "output_type": "display_data"
    }
   ],
   "source": [
    "#напишем функцию для перебора максимального значения глубины для алгоритма решающего дерева\n",
    "\n",
    "best_tree_depth = 0\n",
    "best_tree_result = 0\n",
    "depth_plt_result = pd.DataFrame({'depth':[], 'result_train':[], 'result_valid':[]})\n",
    "\n",
    "for depth in tqdm(range(1,25)):\n",
    "    model_tree = DecisionTreeClassifier(random_state = 12345, max_depth = depth)\n",
    "    model_tree.fit(features_train, target_train)\n",
    "    \n",
    "    predictions_train_tree = model_tree.predict(features_train) \n",
    "    predictions_valid_tree = model_tree.predict(features_valid)\n",
    "    \n",
    "    result_valid_tree = accuracy_score(target_valid, predictions_valid_tree)\n",
    "    result_train_tree = accuracy_score(target_train, predictions_train_tree)\n",
    "    \n",
    "    if best_tree_result < result_valid_tree:\n",
    "            best_tree_result = result_valid_tree\n",
    "            best_tree_depth = depth\n",
    "    \n",
    "    depth_plt_result = depth_plt_result.append ({'depth': depth, \n",
    "                                                 'result_train': result_train_tree, \n",
    "                                                 'result_valid': result_valid_tree}, ignore_index = True)\n",
    "    \n",
    "print('Качество модели составляет:', best_tree_result,'Глубина дерева:',best_tree_depth)\n",
    "\n",
    "plt.rcParams ['figure.figsize'] = [15, 4]\n",
    "fig, ax = plt.subplots()\n",
    "ax.plot (depth_plt_result['depth'], depth_plt_result['result_train'], 'o-', label = 'result_train')\n",
    "ax.plot (depth_plt_result['depth'], depth_plt_result['result_valid'], 'o-', label = 'result_valid')\n",
    "plt.title ('График изменения качества модели в зависимости от глубины дерева')\n",
    "plt.xlabel ('Глубина')\n",
    "plt.ylabel ('Качество модели')\n",
    "plt.legend(fontsize=14)\n",
    "plt.grid()\n",
    "plt.show()\n",
    "\n",
    "tree.plot_tree(model_tree, max_depth = 3, fontsize = 8)\n",
    "plt.title('Решение принимаемые моделью')\n",
    "plt.show()"
   ]
  },
  {
   "cell_type": "markdown",
   "metadata": {},
   "source": [
    "### Обучение модели на алгоритме - случайный лес (RandomForestClassifier)\n",
    "\n",
    "Проведем обучение модели алгоритмом - случайный лес. В данном алгоритме важным параметром является глубина дерева(`max_depth`) и количество деревьев (`n_estimators`), для определения оптимального значения данных гиперпараметров построим функцию, которая будет перебирать различные значения данных параметров и определит значения с наиболее высоким качеством модели."
   ]
  },
  {
   "cell_type": "code",
   "execution_count": 8,
   "metadata": {},
   "outputs": [
    {
     "name": "stderr",
     "output_type": "stream",
     "text": [
      "100%|██████████| 49/49 [00:30<00:00,  1.60it/s]"
     ]
    },
    {
     "name": "stdout",
     "output_type": "stream",
     "text": [
      "Качество модели составляет: 0.8227060653188181 Глубина дерева: 9 Количество деревьев: 39 \n",
      "\n"
     ]
    },
    {
     "name": "stderr",
     "output_type": "stream",
     "text": [
      "\n"
     ]
    }
   ],
   "source": [
    "#напишем функцию для перебора максимального значения глубины и количества деревьев для алгоритма случайного леса.\n",
    "\n",
    "best_forest_result = 0\n",
    "best_forest_depth = 0\n",
    "best_forest_n_estimators = 0\n",
    "\n",
    "for est in tqdm(range (1,50)):\n",
    "    for depth in range (1,10):\n",
    "        model_forest = RandomForestClassifier (random_state = 12345, n_estimators = est, max_depth = depth)\n",
    "        model_forest.fit(features_train,target_train)\n",
    "        predictions_forest = model_forest.predict(features_valid)\n",
    "        result_forest = accuracy_score (target_valid, predictions_forest)\n",
    "        if best_forest_result < result_forest:\n",
    "            best_forest_result = result_forest\n",
    "            best_forest_n_estimators = est\n",
    "            best_forest_depth = depth\n",
    "\n",
    "print('Качество модели составляет:', best_forest_result, \n",
    "      'Глубина дерева:',  best_forest_depth,\n",
    "      'Количество деревьев:', best_forest_n_estimators, '\\n')"
   ]
  },
  {
   "cell_type": "markdown",
   "metadata": {},
   "source": [
    "### Обучение модели на алгоритме - логистическая регрессия (LogisticRegression)\n",
    "\n",
    "Проведем обучение модели алгоритмом - логистическая регрессия. В данном алгоритме важным параметром является выбор расчета (`solver`), примем данный гиперпараметр равным `'lbfgs'` - самый распространенный вариант.\n",
    "\n",
    "Также важным гиперпарметром является количество итираций (`max_iter`) для определения оптимального значения данного гиперпараметра построим функцию, которая будет перебирать различные значения данного параметра и определит значения с наиболее высоким качеством модели."
   ]
  },
  {
   "cell_type": "code",
   "execution_count": 9,
   "metadata": {},
   "outputs": [
    {
     "name": "stderr",
     "output_type": "stream",
     "text": [
      "100%|██████████| 99/99 [00:03<00:00, 26.05it/s]"
     ]
    },
    {
     "name": "stdout",
     "output_type": "stream",
     "text": [
      "Качество модели составляет: 0.7387247278382582 Количество итераций: 100\n"
     ]
    },
    {
     "name": "stderr",
     "output_type": "stream",
     "text": [
      "\n"
     ]
    }
   ],
   "source": [
    "#напишем функцию для перебора максимального значения количества итераций\n",
    "\n",
    "best_log_result = 0\n",
    "best_iters = 0\n",
    "\n",
    "for iters in tqdm(range(100, 10000, 100)):\n",
    "    model_log = LogisticRegression(random_state = 12345, solver = 'lbfgs', max_iter = iters)\n",
    "    model_log.fit(features_train, target_train)\n",
    "    predictions_log = model_log.predict (features_valid)\n",
    "    result_log = accuracy_score (target_valid, predictions_log)\n",
    "    if best_log_result < result_log:\n",
    "        best_log_result = result_log\n",
    "        best_iters = iters\n",
    "        \n",
    "print('Качество модели составляет:', best_log_result, \n",
    "      'Количество итераций:', best_iters)        "
   ]
  },
  {
   "cell_type": "markdown",
   "metadata": {},
   "source": [
    "### Выводы по блоку \"Подготовка выборок и обучение модели\"\n",
    "\n",
    "В рамках данного блока было подготовлено три выборки:\n",
    "- обучающая (**60%**);\n",
    "- валидационная (**20%**);\n",
    "- тестовая (**20%**).\n",
    "\n",
    "На основе обучающей выборки были обучены 3 модели с разными алгоритмами, а также была проведена проверка качества моделей и подбор наиболее оптимального значения гиперпарметров каждой из них:\n",
    "\n",
    "1. Решающее дерево (DecisionTreeClassifier):\n",
    "\n",
    "Для данного алгоритма лучшее значение составляет **0.7853810264385692** при гиперпараметре `max_depth` равное **3**.\n",
    "\n",
    "2. Cлучайный лес (RandomForestClassifier):\n",
    "\n",
    "Для данного алгоритма лучшее значение составляет **0.8087091757387247** при гиперпараметре `max_depth` равное **8** и `n_estimators` равное **40**.\n",
    "\n",
    "3. Логистическая регрессия (LogisticRegression):\n",
    "\n",
    "Для данного алгоритма лучшее значение составляет **0.7107309486780715** при гиперпараметре `max_iter` равное **100**\n",
    "\n",
    "Таким образом для проверки модели на тестовой выборке будет использована модель №2 - случайный лес (RandomForestClassifier), при значении гиперпараметров:\n",
    "- `max_depth` = 8\n",
    "- `n_estimators`= 40"
   ]
  },
  {
   "cell_type": "markdown",
   "metadata": {},
   "source": [
    "## Тестирование модели и проверка на адекватность\n",
    "\n",
    "В данном блоке будет проведена проверка модели на тестовой выборке, подготовленной в рамках предыдущего блока. Также будет сделана дополнительная проверка модели на адекватность."
   ]
  },
  {
   "cell_type": "markdown",
   "metadata": {},
   "source": [
    "### Проведение тестирования модели\n",
    "\n",
    "В результате изучения различных алгоритмов обучения - наилучший результат был у модели №2 - случайный лес (RandomForestClassifier), при этом значения гиперпараметров были:\n",
    "\n",
    "- `max_depth` = 8\n",
    "- `n_estimators`= 40\n",
    "\n",
    "Проведем проверку тестовой выборки с указанными гиперпараметрами."
   ]
  },
  {
   "cell_type": "code",
   "execution_count": 10,
   "metadata": {
    "scrolled": true
   },
   "outputs": [
    {
     "name": "stdout",
     "output_type": "stream",
     "text": [
      "Точность модели составляет 0.8087091757387247\n"
     ]
    }
   ],
   "source": [
    "#проведем проверку модели на тестовой выборке\n",
    "\n",
    "model_test = RandomForestClassifier(random_state = 12345, max_depth = 8, n_estimators = 40)\n",
    "model_test.fit(features_train, target_train)\n",
    "predictions_test = model_test.predict(features_test)\n",
    "result_test = accuracy_score (target_test, predictions_test)\n",
    "\n",
    "print('Точность модели составляет', result_test)"
   ]
  },
  {
   "cell_type": "markdown",
   "metadata": {},
   "source": [
    "### Улучшения качества модели\n",
    "\n",
    "Так как на основе предсказаний модели на валидационных признаках мы определили наиболее оптимальные параметры, для улучшения  качества предсказания модели, объединим обучающую и валидационную выборку. На основе новой выборки обучим новую модель и проверим качество предсказания на тестовой выборке.\n",
    "\n",
    "Дополнительно выведем по новой модели дополнительные метрики:\n",
    "- precision (точность) -  показывает сколько объектов в предсказании имеют то же значение, что и по факту.\n",
    "- recall (полнота) - показывает долю объектов которую модель определила верно\n",
    "- F1 - ближе к единице, если параметры `precision` и `recall` ближе к единице, тоже стремится к единице, в противном случае стремится к нулю.\n",
    "- confussion matrix - имеет 4 поля и показывает количество значений попавших в эти поля в следующей классификации:\n",
    "    - Верхнее правое - True Positive\n",
    "    - Верхнее левое - False Positive\n",
    "    - Нижнее правое - Fals Negative\n",
    "    - Нижнее левое - True Negative"
   ]
  },
  {
   "cell_type": "code",
   "execution_count": 11,
   "metadata": {},
   "outputs": [
    {
     "name": "stdout",
     "output_type": "stream",
     "text": [
      "Точность модели составляет 0.8289269051321928 \n",
      "\n",
      "Отчет по дополнительным метрикам: \n",
      "               precision    recall  f1-score   support\n",
      "\n",
      "           1       0.83      0.95      0.88       446\n",
      "           0       0.83      0.56      0.67       197\n",
      "\n",
      "    accuracy                           0.83       643\n",
      "   macro avg       0.83      0.75      0.78       643\n",
      "weighted avg       0.83      0.83      0.82       643\n",
      "\n",
      "Матрица ошибок: \n",
      " [[423  23]\n",
      " [ 87 110]]\n"
     ]
    }
   ],
   "source": [
    "# Объединим популяции методом pd.concat()\n",
    "features_train_valid = pd.concat([features_train, features_valid])\n",
    "target_train_valid = pd.concat([target_train, target_valid])\n",
    "\n",
    "model_test_new = RandomForestClassifier(random_state = 12345, max_depth = 8, n_estimators = 40)\n",
    "model_test_new.fit(features_train_valid, target_train_valid)\n",
    "predictions_test_new = model_test_new.predict(features_test)\n",
    "result_test_new = accuracy_score (target_test, predictions_test_new)\n",
    "\n",
    "print('Точность модели составляет', result_test_new, '\\n')\n",
    "\n",
    "# Выведем дополнительные метрики (precition, recall, f1-score) c помощью classification_report()\n",
    "report = classification_report(target_test, predictions_test_new, target_names=['1', '0'])\n",
    "\n",
    "print('Отчет по дополнительным метрикам:','\\n', report)\n",
    "\n",
    "#Построим матрицу ошибок\n",
    "confusion_matrix = confusion_matrix(target_test, predictions_test_new)\n",
    "print ('Матрица ошибок:','\\n', confusion_matrix)"
   ]
  },
  {
   "cell_type": "markdown",
   "metadata": {},
   "source": [
    "### Проверка модели на адекватность\n",
    "\n",
    "Для проверки модели на адекватность используем алгоритм - DummyClassifier.\n",
    "\n",
    "Модель ,будет считаться адекватной, если ее значения выше \"тривиальной модели\". Тривиальной моделью может быть предсказание случайным, или средним (возможно с группировкой по каким-то признакам), или наиболее частым классом. \n",
    "\n",
    "В данном случае в качестве параметра `strategy` применим значение - `most_frequent`(самые частые значения)"
   ]
  },
  {
   "cell_type": "code",
   "execution_count": 12,
   "metadata": {},
   "outputs": [
    {
     "data": {
      "text/plain": [
       "0.6936236391912908"
      ]
     },
     "execution_count": 12,
     "metadata": {},
     "output_type": "execute_result"
    }
   ],
   "source": [
    "#обучим модель и проверим ее качество\n",
    "\n",
    "model_d = DummyClassifier(strategy = 'most_frequent')\n",
    "model_d.fit(features_train, target_train)\n",
    "result_d = model_d.score (features_test, target_test)\n",
    "\n",
    "result_d"
   ]
  },
  {
   "cell_type": "markdown",
   "metadata": {},
   "source": [
    "### Вывод по блоку \"Тестирование модели и проверка на адекватность\"\n",
    "\n",
    "В данном блоке было произведено тестирование выбранной модели. Качество модели, построенной на алгоритме Случайного леса при заданных значениях гиперпараметров, составило ~ **80%**, что соответствует приемлемому уровню качества.\n",
    "\n",
    "Что касается проверки на адекватность, значение модели обученной по стратегии \"Самые частые значения\" (параметр `strategy` равен \"most_frequent\" показал качество модели равное ~ **69%**, что ниже качества основной модели (**80%**), таким образом выбранную модель можно считать адекватной."
   ]
  },
  {
   "cell_type": "markdown",
   "metadata": {},
   "source": [
    "## Общий вывод\n",
    "\n",
    "В ходе выполнения данного проекта была построена модель рекомендации тарифов на основе данных о трафике пользователей мобильного оператора \"Мегалайн\". Лучшими показателями качества обладает модель построенная на алгоритме \"Случайный лес\" - качество предсказаний данной модели составляет около **80%**. Детальная информация по проекту представлена ниже: \n",
    "\n",
    "В ходе проекта была проведена следующая работа:\n",
    "\n",
    "**1. Блок \"Анализ данных\"** \n",
    "\n",
    "Был проведен первичный анализ предоставленного датасета.\n",
    "\n",
    "**2. Блок \"Подготовка выборок и обучение модели\"** \n",
    "\n",
    "На основе полученного датасета были подготовлены 3 выборки:\n",
    "\n",
    "- обучающая выборка - **60%** от общей популяции - на основе данной выборки производилось обучение моделей;\n",
    "- валидационная выборка - **20%** от общей популяции - данная выборка служила для проверки качества обученных моделей;\n",
    "- тестовая выборка - **20%** от общей популяции - выборка для проведения основного тестирования модели, показавшей лучший результат\n",
    "\n",
    "Далее в данном блоке были обучены 3 модели с применением разных алгоритмов. Для каждой из моделей был проведен подбор значения гиперпараметров, таким образом, чтобы достигалось наиболее высокое качество моделей.\n",
    "\n",
    "Информация об обученных моделях представлена ниже:\n",
    "\n",
    "1. Решающее дерево (DecisionTreeClassifier):\n",
    "\n",
    "Для данного алгоритма лучшее значение составляет **0.7853810264385692** при гиперпараметре `max_depth` равное **3**.\n",
    "\n",
    "2. Cлучайный лес (RandomForestClassifier):\n",
    "\n",
    "Для данного алгоритма лучшее значение составляет **0.8087091757387247** при гиперпараметре `max_depth` равное **8** и `n_estimators` равное **40**.\n",
    "\n",
    "3. Логистическая регрессия (LogisticRegression):\n",
    "\n",
    "Для данного алгоритма лучшее значение составляет **0.7107309486780715** при гиперпараметре `max_iter` равное **100**\n",
    "\n",
    "Таким образом был выбран алгоритм №2 - случайный лес с значениями гиперпараметров глубины - равное 8 и количества - равное 40.\n",
    "\n",
    "**3. Блок \"Тестирование модели и проверка на адекватность\"**\n",
    "\n",
    "На основе выбранного алгоритма (*Cлучайный лес (RandomForestClassifier)*) и указанных гиперпараметров была обучена модель.\n",
    "\n",
    "Проверка модели на тестовой выборке показала, что качество модели составляет **0.8087091757387247** - около **81%**, что соответствует заранее установленной планке качества модели.\n",
    "\n",
    "Далее, путем увеличения обучающей выборки за счет присоединения к обучающей выборки валидационной, было улучшено качество модели. Качество предсказаний финальной модели составляет **0.8289269051321928** или около **83%**, что выше первоначальной оценки.\n",
    "\n",
    "Также были сформированы дополнительные метрики:\n",
    "\n",
    "- precition - значение данной метрики составляет **83**, что говорит о том, что в **83%** случаев определялось корректное значение (предсказание тарифа \"ультра\" и \"стандарт\", соответствовало действительности)\n",
    "- recall - значение данной метрики составляет **95** для тарифа \"ультра\" и **56** для тарифа стандарт, то есть доля правильных ответов из всех правильных ответов составляет **95%** и **56%** соответственно.\n",
    "- confusion_matrix показала:\n",
    "    - Верно определен тариф \"Ультра\" в 423 случаях;\n",
    "    - Неверно определен тариф \"Ультра\" в 23 случаях;\n",
    "    - Неверно определен тариф \"Стандарт\" в 87 случаях;\n",
    "    - Верно определен тариф \"Стандарт\" в 110 случаях.\n",
    "    \n",
    "Таким образом, все метрики имеют достаточно высокое значение показателей, что говорит о хорошем качестве обученной модели.\n",
    "\n",
    "В дополнение была проведена проверка модели на адекватность.\n",
    "\n",
    "Тест модели обученной по алгоритму *DummyClassifier*, с указанным параметром `strategy` равным `most_frequent`(самые частые значения), показал более низкое значение качества модели  - **69%**. Таким образом можно утверждать, что модель является адекватной.\n",
    "\n",
    "**Рекомендации**\n",
    "\n",
    "Задачей было разработать модель, которая поможет перевести пользователей архивных тарифов на один из двух новых тарифов, однако данную модель можно дополнительно использовать в следующих целях:\n",
    "\n",
    "Сформировать систему рекомендаций\n",
    "1. Рекомендации для пользователей тарифа \"Стандарт\", в случае если модель рекомендуют тариф \"Ультра\".\n",
    "    \n",
    "2. Рекомендации для новых пользователях - при заполнении заявки новые пользователи указывают свое среднее потребление трафика и система рекомендует им тарифы."
   ]
  }
 ],
 "metadata": {
  "ExecuteTimeLog": [
   {
    "duration": 386,
    "start_time": "2023-04-02T07:47:30.940Z"
   },
   {
    "duration": 4,
    "start_time": "2023-04-02T07:48:15.828Z"
   },
   {
    "duration": 3,
    "start_time": "2023-04-02T07:51:37.912Z"
   },
   {
    "duration": 3,
    "start_time": "2023-04-02T07:52:07.910Z"
   },
   {
    "duration": 136,
    "start_time": "2023-04-02T07:53:19.881Z"
   },
   {
    "duration": 52,
    "start_time": "2023-04-02T07:54:02.597Z"
   },
   {
    "duration": 48,
    "start_time": "2023-04-02T07:55:47.003Z"
   },
   {
    "duration": 14,
    "start_time": "2023-04-02T08:04:45.274Z"
   },
   {
    "duration": 34,
    "start_time": "2023-04-02T08:04:55.060Z"
   },
   {
    "duration": 43,
    "start_time": "2023-04-02T08:05:29.916Z"
   },
   {
    "duration": 50,
    "start_time": "2023-04-02T08:07:21.065Z"
   },
   {
    "duration": 41,
    "start_time": "2023-04-02T08:09:25.136Z"
   },
   {
    "duration": 36,
    "start_time": "2023-04-02T08:10:00.240Z"
   },
   {
    "duration": 37,
    "start_time": "2023-04-02T08:10:12.565Z"
   },
   {
    "duration": 36,
    "start_time": "2023-04-02T08:10:23.885Z"
   },
   {
    "duration": 3,
    "start_time": "2023-04-02T08:12:59.872Z"
   },
   {
    "duration": 96,
    "start_time": "2023-04-02T08:17:56.109Z"
   },
   {
    "duration": 15,
    "start_time": "2023-04-02T08:18:14.803Z"
   },
   {
    "duration": 10,
    "start_time": "2023-04-02T08:18:23.920Z"
   },
   {
    "duration": 16,
    "start_time": "2023-04-02T08:18:30.974Z"
   },
   {
    "duration": 8,
    "start_time": "2023-04-02T08:19:59.747Z"
   },
   {
    "duration": 803,
    "start_time": "2023-04-02T08:25:41.543Z"
   },
   {
    "duration": 35,
    "start_time": "2023-04-02T08:25:54.426Z"
   },
   {
    "duration": 10,
    "start_time": "2023-04-02T08:26:44.634Z"
   },
   {
    "duration": 3,
    "start_time": "2023-04-02T08:27:29.533Z"
   },
   {
    "duration": 18,
    "start_time": "2023-04-02T08:48:25.029Z"
   },
   {
    "duration": 9,
    "start_time": "2023-04-02T08:53:09.316Z"
   },
   {
    "duration": 5,
    "start_time": "2023-04-02T08:53:35.081Z"
   },
   {
    "duration": 23,
    "start_time": "2023-04-02T08:55:27.928Z"
   },
   {
    "duration": 9,
    "start_time": "2023-04-02T08:55:44.280Z"
   },
   {
    "duration": 20,
    "start_time": "2023-04-02T08:57:54.800Z"
   },
   {
    "duration": 13,
    "start_time": "2023-04-02T09:00:08.231Z"
   },
   {
    "duration": 62,
    "start_time": "2023-04-02T09:00:28.488Z"
   },
   {
    "duration": 103,
    "start_time": "2023-04-02T09:00:38.275Z"
   },
   {
    "duration": 77,
    "start_time": "2023-04-02T09:00:48.216Z"
   },
   {
    "duration": 63,
    "start_time": "2023-04-02T09:00:56.215Z"
   },
   {
    "duration": 9,
    "start_time": "2023-04-02T09:01:09.649Z"
   },
   {
    "duration": 47,
    "start_time": "2023-04-02T16:27:06.519Z"
   },
   {
    "duration": 1218,
    "start_time": "2023-04-02T16:27:21.261Z"
   },
   {
    "duration": 138,
    "start_time": "2023-04-02T16:27:22.482Z"
   },
   {
    "duration": 38,
    "start_time": "2023-04-02T16:27:22.622Z"
   },
   {
    "duration": 4,
    "start_time": "2023-04-02T16:27:22.662Z"
   },
   {
    "duration": 14,
    "start_time": "2023-04-02T16:27:22.668Z"
   },
   {
    "duration": 129,
    "start_time": "2023-04-02T16:27:22.683Z"
   },
   {
    "duration": 21,
    "start_time": "2023-04-02T16:32:09.556Z"
   },
   {
    "duration": 12,
    "start_time": "2023-04-02T16:36:46.168Z"
   },
   {
    "duration": 3,
    "start_time": "2023-04-02T16:36:52.702Z"
   },
   {
    "duration": 14,
    "start_time": "2023-04-02T16:36:56.227Z"
   },
   {
    "duration": 13,
    "start_time": "2023-04-02T16:37:27.217Z"
   },
   {
    "duration": 14,
    "start_time": "2023-04-02T16:40:03.761Z"
   },
   {
    "duration": 52,
    "start_time": "2023-04-02T16:40:12.161Z"
   },
   {
    "duration": 52,
    "start_time": "2023-04-02T16:40:18.527Z"
   },
   {
    "duration": 52,
    "start_time": "2023-04-02T16:40:23.087Z"
   },
   {
    "duration": 53,
    "start_time": "2023-04-02T16:40:24.861Z"
   },
   {
    "duration": 50,
    "start_time": "2023-04-02T16:40:45.957Z"
   },
   {
    "duration": 51,
    "start_time": "2023-04-02T16:40:50.223Z"
   },
   {
    "duration": 50,
    "start_time": "2023-04-02T16:40:50.759Z"
   },
   {
    "duration": 52,
    "start_time": "2023-04-02T16:40:51.132Z"
   },
   {
    "duration": 50,
    "start_time": "2023-04-02T16:40:51.391Z"
   },
   {
    "duration": 60,
    "start_time": "2023-04-02T16:40:51.689Z"
   },
   {
    "duration": 50,
    "start_time": "2023-04-02T16:40:51.912Z"
   },
   {
    "duration": 53,
    "start_time": "2023-04-02T16:40:52.206Z"
   },
   {
    "duration": 43,
    "start_time": "2023-04-02T16:41:34.286Z"
   },
   {
    "duration": 41,
    "start_time": "2023-04-02T16:41:36.604Z"
   },
   {
    "duration": 50,
    "start_time": "2023-04-02T16:41:43.318Z"
   },
   {
    "duration": 32,
    "start_time": "2023-04-02T16:41:52.003Z"
   },
   {
    "duration": 39,
    "start_time": "2023-04-02T16:41:57.111Z"
   },
   {
    "duration": 41,
    "start_time": "2023-04-02T16:42:06.381Z"
   },
   {
    "duration": 45,
    "start_time": "2023-04-02T16:42:12.153Z"
   },
   {
    "duration": 52,
    "start_time": "2023-04-02T16:42:17.964Z"
   },
   {
    "duration": 50,
    "start_time": "2023-04-02T16:42:23.773Z"
   },
   {
    "duration": 51,
    "start_time": "2023-04-02T16:42:30.031Z"
   },
   {
    "duration": 60,
    "start_time": "2023-04-02T16:52:44.678Z"
   },
   {
    "duration": 2095,
    "start_time": "2023-04-02T16:56:31.818Z"
   },
   {
    "duration": 2261,
    "start_time": "2023-04-02T16:57:28.686Z"
   },
   {
    "duration": 1950,
    "start_time": "2023-04-02T16:57:41.912Z"
   },
   {
    "duration": 1018,
    "start_time": "2023-04-02T16:59:10.272Z"
   },
   {
    "duration": 41,
    "start_time": "2023-04-02T16:59:11.291Z"
   },
   {
    "duration": 25,
    "start_time": "2023-04-02T16:59:11.333Z"
   },
   {
    "duration": 4,
    "start_time": "2023-04-02T16:59:11.360Z"
   },
   {
    "duration": 10,
    "start_time": "2023-04-02T16:59:11.366Z"
   },
   {
    "duration": 54,
    "start_time": "2023-04-02T16:59:11.377Z"
   },
   {
    "duration": 24391,
    "start_time": "2023-04-02T16:59:11.432Z"
   },
   {
    "duration": 2014,
    "start_time": "2023-04-02T16:59:53.360Z"
   },
   {
    "duration": 113,
    "start_time": "2023-04-02T17:00:14.477Z"
   },
   {
    "duration": 37321,
    "start_time": "2023-04-02T17:00:31.437Z"
   },
   {
    "duration": 23835,
    "start_time": "2023-04-02T17:01:51.184Z"
   },
   {
    "duration": 34,
    "start_time": "2023-04-02T17:18:15.213Z"
   },
   {
    "duration": 11069,
    "start_time": "2023-04-02T17:18:52.219Z"
   },
   {
    "duration": 10631,
    "start_time": "2023-04-02T17:20:42.999Z"
   },
   {
    "duration": 11782,
    "start_time": "2023-04-02T17:21:08.649Z"
   },
   {
    "duration": 1571,
    "start_time": "2023-04-02T17:21:24.292Z"
   },
   {
    "duration": 50,
    "start_time": "2023-04-02T17:22:49.371Z"
   },
   {
    "duration": 50,
    "start_time": "2023-04-02T17:23:05.516Z"
   },
   {
    "duration": 1194,
    "start_time": "2023-04-02T17:23:30.129Z"
   },
   {
    "duration": 22791,
    "start_time": "2023-04-02T17:23:34.272Z"
   },
   {
    "duration": 1157,
    "start_time": "2023-04-03T03:23:10.473Z"
   },
   {
    "duration": 138,
    "start_time": "2023-04-03T03:23:11.632Z"
   },
   {
    "duration": 38,
    "start_time": "2023-04-03T03:23:11.771Z"
   },
   {
    "duration": 4,
    "start_time": "2023-04-03T03:23:11.811Z"
   },
   {
    "duration": 12,
    "start_time": "2023-04-03T03:23:11.817Z"
   },
   {
    "duration": 85,
    "start_time": "2023-04-03T03:23:11.831Z"
   },
   {
    "duration": 27517,
    "start_time": "2023-04-03T03:23:11.919Z"
   },
   {
    "duration": 1893,
    "start_time": "2023-04-03T03:23:39.438Z"
   },
   {
    "duration": 125,
    "start_time": "2023-04-03T03:33:12.259Z"
   },
   {
    "duration": 125,
    "start_time": "2023-04-03T03:52:36.867Z"
   },
   {
    "duration": 1155,
    "start_time": "2023-04-03T04:01:53.867Z"
   },
   {
    "duration": 44,
    "start_time": "2023-04-03T04:01:55.024Z"
   },
   {
    "duration": 34,
    "start_time": "2023-04-03T04:01:55.070Z"
   },
   {
    "duration": 4,
    "start_time": "2023-04-03T04:01:55.106Z"
   },
   {
    "duration": 8,
    "start_time": "2023-04-03T04:01:55.112Z"
   },
   {
    "duration": 91,
    "start_time": "2023-04-03T04:01:55.122Z"
   },
   {
    "duration": 27696,
    "start_time": "2023-04-03T04:01:55.214Z"
   },
   {
    "duration": 1959,
    "start_time": "2023-04-03T04:02:22.912Z"
   },
   {
    "duration": 141,
    "start_time": "2023-04-03T04:02:24.873Z"
   },
   {
    "duration": 49,
    "start_time": "2023-04-03T10:46:39.615Z"
   },
   {
    "duration": 1197,
    "start_time": "2023-04-03T10:46:46.555Z"
   },
   {
    "duration": 83,
    "start_time": "2023-04-03T10:46:47.754Z"
   },
   {
    "duration": 40,
    "start_time": "2023-04-03T10:46:47.839Z"
   },
   {
    "duration": 4,
    "start_time": "2023-04-03T10:46:47.882Z"
   },
   {
    "duration": 12,
    "start_time": "2023-04-03T10:46:47.888Z"
   },
   {
    "duration": 84,
    "start_time": "2023-04-03T10:46:47.902Z"
   },
   {
    "duration": 29461,
    "start_time": "2023-04-03T10:46:47.988Z"
   },
   {
    "duration": 2086,
    "start_time": "2023-04-03T10:47:17.451Z"
   },
   {
    "duration": 133,
    "start_time": "2023-04-03T10:47:19.540Z"
   },
   {
    "duration": 0,
    "start_time": "2023-04-03T10:47:19.789Z"
   },
   {
    "duration": 12,
    "start_time": "2023-04-03T10:47:26.784Z"
   },
   {
    "duration": 11,
    "start_time": "2023-04-03T10:52:14.285Z"
   },
   {
    "duration": 5,
    "start_time": "2023-04-03T10:52:19.615Z"
   },
   {
    "duration": 6,
    "start_time": "2023-04-03T10:52:38.444Z"
   },
   {
    "duration": 6,
    "start_time": "2023-04-03T10:54:01.780Z"
   },
   {
    "duration": 6,
    "start_time": "2023-04-03T10:54:32.971Z"
   },
   {
    "duration": 6,
    "start_time": "2023-04-03T10:56:07.154Z"
   },
   {
    "duration": 1155,
    "start_time": "2023-04-03T11:01:07.625Z"
   },
   {
    "duration": 43,
    "start_time": "2023-04-03T11:01:08.782Z"
   },
   {
    "duration": 32,
    "start_time": "2023-04-03T11:01:08.827Z"
   },
   {
    "duration": 4,
    "start_time": "2023-04-03T11:01:08.861Z"
   },
   {
    "duration": 22,
    "start_time": "2023-04-03T11:01:08.866Z"
   },
   {
    "duration": 72,
    "start_time": "2023-04-03T11:01:08.890Z"
   },
   {
    "duration": 28424,
    "start_time": "2023-04-03T11:01:08.963Z"
   },
   {
    "duration": 1910,
    "start_time": "2023-04-03T11:01:37.389Z"
   },
   {
    "duration": 130,
    "start_time": "2023-04-03T11:01:39.300Z"
   },
   {
    "duration": 6,
    "start_time": "2023-04-03T11:01:39.432Z"
   },
   {
    "duration": 2806,
    "start_time": "2023-04-03T11:36:17.159Z"
   },
   {
    "duration": 52,
    "start_time": "2023-04-03T11:36:19.967Z"
   },
   {
    "duration": 43,
    "start_time": "2023-04-03T11:36:20.021Z"
   },
   {
    "duration": 8,
    "start_time": "2023-04-03T11:36:20.070Z"
   },
   {
    "duration": 11,
    "start_time": "2023-04-03T11:36:20.080Z"
   },
   {
    "duration": 89,
    "start_time": "2023-04-03T11:36:20.093Z"
   },
   {
    "duration": 32128,
    "start_time": "2023-04-03T11:36:20.187Z"
   },
   {
    "duration": 2302,
    "start_time": "2023-04-03T11:36:52.317Z"
   },
   {
    "duration": 154,
    "start_time": "2023-04-03T11:36:54.621Z"
   },
   {
    "duration": 10,
    "start_time": "2023-04-03T11:36:54.780Z"
   },
   {
    "duration": 8,
    "start_time": "2023-04-03T11:37:13.954Z"
   },
   {
    "duration": 1279,
    "start_time": "2023-04-04T03:29:41.081Z"
   },
   {
    "duration": 1078,
    "start_time": "2023-04-04T03:45:09.629Z"
   },
   {
    "duration": 143,
    "start_time": "2023-04-04T03:45:10.708Z"
   },
   {
    "duration": 30,
    "start_time": "2023-04-04T03:45:10.853Z"
   },
   {
    "duration": 4,
    "start_time": "2023-04-04T03:45:10.884Z"
   },
   {
    "duration": 10,
    "start_time": "2023-04-04T03:45:10.889Z"
   },
   {
    "duration": 70,
    "start_time": "2023-04-04T03:45:10.900Z"
   },
   {
    "duration": 25417,
    "start_time": "2023-04-04T03:45:10.972Z"
   },
   {
    "duration": 1636,
    "start_time": "2023-04-04T03:45:36.390Z"
   },
   {
    "duration": 120,
    "start_time": "2023-04-04T03:45:38.027Z"
   },
   {
    "duration": 5,
    "start_time": "2023-04-04T03:45:38.149Z"
   },
   {
    "duration": 8,
    "start_time": "2023-04-04T03:47:27.365Z"
   },
   {
    "duration": 99,
    "start_time": "2023-04-04T03:48:13.454Z"
   },
   {
    "duration": 10,
    "start_time": "2023-04-04T03:48:23.069Z"
   },
   {
    "duration": 9,
    "start_time": "2023-04-04T03:51:06.987Z"
   },
   {
    "duration": 8,
    "start_time": "2023-04-04T03:51:16.091Z"
   },
   {
    "duration": 8,
    "start_time": "2023-04-04T03:51:32.686Z"
   },
   {
    "duration": 10,
    "start_time": "2023-04-04T03:51:40.427Z"
   },
   {
    "duration": 66,
    "start_time": "2023-04-04T03:52:29.831Z"
   },
   {
    "duration": 9,
    "start_time": "2023-04-04T03:52:36.929Z"
   },
   {
    "duration": 10,
    "start_time": "2023-04-04T03:55:37.586Z"
   },
   {
    "duration": 11,
    "start_time": "2023-04-04T03:58:55.479Z"
   },
   {
    "duration": 12,
    "start_time": "2023-04-04T03:59:44.769Z"
   },
   {
    "duration": 1176,
    "start_time": "2023-04-04T16:50:03.096Z"
   },
   {
    "duration": 79,
    "start_time": "2023-04-04T16:50:04.274Z"
   },
   {
    "duration": 33,
    "start_time": "2023-04-04T16:50:04.355Z"
   },
   {
    "duration": 4,
    "start_time": "2023-04-04T16:50:04.390Z"
   },
   {
    "duration": 13,
    "start_time": "2023-04-04T16:50:04.396Z"
   },
   {
    "duration": 62,
    "start_time": "2023-04-04T16:50:04.411Z"
   },
   {
    "duration": 28855,
    "start_time": "2023-04-04T16:50:04.475Z"
   },
   {
    "duration": 3330,
    "start_time": "2023-04-04T16:50:33.332Z"
   },
   {
    "duration": 132,
    "start_time": "2023-04-04T16:50:36.664Z"
   },
   {
    "duration": 9,
    "start_time": "2023-04-04T16:50:36.797Z"
   },
   {
    "duration": 12,
    "start_time": "2023-04-04T16:50:58.115Z"
   },
   {
    "duration": 11,
    "start_time": "2023-04-04T17:02:49.503Z"
   },
   {
    "duration": 90,
    "start_time": "2023-04-04T17:52:21.565Z"
   },
   {
    "duration": 81,
    "start_time": "2023-04-04T17:52:27.471Z"
   },
   {
    "duration": 70,
    "start_time": "2023-04-04T17:52:28.409Z"
   },
   {
    "duration": 1104,
    "start_time": "2023-04-05T16:52:18.542Z"
   },
   {
    "duration": 134,
    "start_time": "2023-04-05T16:52:19.649Z"
   },
   {
    "duration": 33,
    "start_time": "2023-04-05T16:52:19.785Z"
   },
   {
    "duration": 4,
    "start_time": "2023-04-05T16:52:19.820Z"
   },
   {
    "duration": 14,
    "start_time": "2023-04-05T16:52:19.827Z"
   },
   {
    "duration": 14,
    "start_time": "2023-04-05T16:52:19.842Z"
   },
   {
    "duration": 62,
    "start_time": "2023-04-05T16:52:19.886Z"
   },
   {
    "duration": 28715,
    "start_time": "2023-04-05T16:52:19.950Z"
   },
   {
    "duration": 3353,
    "start_time": "2023-04-05T16:52:48.667Z"
   },
   {
    "duration": 135,
    "start_time": "2023-04-05T16:52:52.022Z"
   },
   {
    "duration": 6,
    "start_time": "2023-04-05T16:52:52.159Z"
   },
   {
    "duration": 28779,
    "start_time": "2023-04-05T16:53:33.098Z"
   },
   {
    "duration": 312,
    "start_time": "2023-04-05T16:55:03.990Z"
   },
   {
    "duration": 1173,
    "start_time": "2023-04-05T16:55:15.483Z"
   },
   {
    "duration": 46,
    "start_time": "2023-04-05T16:55:16.659Z"
   },
   {
    "duration": 37,
    "start_time": "2023-04-05T16:55:16.706Z"
   },
   {
    "duration": 4,
    "start_time": "2023-04-05T16:55:16.745Z"
   },
   {
    "duration": 11,
    "start_time": "2023-04-05T16:55:16.753Z"
   },
   {
    "duration": 34,
    "start_time": "2023-04-05T16:55:16.766Z"
   },
   {
    "duration": 62,
    "start_time": "2023-04-05T16:55:16.803Z"
   },
   {
    "duration": 28791,
    "start_time": "2023-04-05T16:55:16.889Z"
   },
   {
    "duration": 3285,
    "start_time": "2023-04-05T16:55:45.687Z"
   },
   {
    "duration": 137,
    "start_time": "2023-04-05T16:55:48.974Z"
   },
   {
    "duration": 6,
    "start_time": "2023-04-05T16:55:49.113Z"
   },
   {
    "duration": 28786,
    "start_time": "2023-04-05T16:56:05.070Z"
   },
   {
    "duration": 1153,
    "start_time": "2023-04-05T17:06:38.759Z"
   },
   {
    "duration": 46,
    "start_time": "2023-04-05T17:06:39.914Z"
   },
   {
    "duration": 39,
    "start_time": "2023-04-05T17:06:39.962Z"
   },
   {
    "duration": 10,
    "start_time": "2023-04-05T17:06:40.003Z"
   },
   {
    "duration": 33,
    "start_time": "2023-04-05T17:06:40.016Z"
   },
   {
    "duration": 32,
    "start_time": "2023-04-05T17:06:40.051Z"
   },
   {
    "duration": 65,
    "start_time": "2023-04-05T17:06:40.085Z"
   },
   {
    "duration": 0,
    "start_time": "2023-04-05T17:06:40.152Z"
   },
   {
    "duration": 0,
    "start_time": "2023-04-05T17:06:40.153Z"
   },
   {
    "duration": 1,
    "start_time": "2023-04-05T17:06:40.154Z"
   },
   {
    "duration": 0,
    "start_time": "2023-04-05T17:06:40.155Z"
   },
   {
    "duration": 65,
    "start_time": "2023-04-05T17:07:13.144Z"
   },
   {
    "duration": 1156,
    "start_time": "2023-04-05T17:07:33.876Z"
   },
   {
    "duration": 44,
    "start_time": "2023-04-05T17:07:35.034Z"
   },
   {
    "duration": 33,
    "start_time": "2023-04-05T17:07:35.080Z"
   },
   {
    "duration": 4,
    "start_time": "2023-04-05T17:07:35.115Z"
   },
   {
    "duration": 20,
    "start_time": "2023-04-05T17:07:35.121Z"
   },
   {
    "duration": 18,
    "start_time": "2023-04-05T17:07:35.143Z"
   },
   {
    "duration": 83,
    "start_time": "2023-04-05T17:07:35.163Z"
   },
   {
    "duration": 28843,
    "start_time": "2023-04-05T17:07:35.248Z"
   },
   {
    "duration": 3465,
    "start_time": "2023-04-05T17:08:04.093Z"
   },
   {
    "duration": 156,
    "start_time": "2023-04-05T17:08:07.560Z"
   },
   {
    "duration": 5,
    "start_time": "2023-04-05T17:08:07.718Z"
   },
   {
    "duration": 52,
    "start_time": "2023-04-06T03:23:26.705Z"
   },
   {
    "duration": 1015,
    "start_time": "2023-04-06T03:23:36.499Z"
   },
   {
    "duration": 142,
    "start_time": "2023-04-06T03:23:37.517Z"
   },
   {
    "duration": 31,
    "start_time": "2023-04-06T03:23:37.661Z"
   },
   {
    "duration": 4,
    "start_time": "2023-04-06T03:23:37.693Z"
   },
   {
    "duration": 12,
    "start_time": "2023-04-06T03:23:37.698Z"
   },
   {
    "duration": 28,
    "start_time": "2023-04-06T03:23:37.711Z"
   },
   {
    "duration": 113,
    "start_time": "2023-04-06T03:23:37.743Z"
   },
   {
    "duration": 0,
    "start_time": "2023-04-06T03:23:37.857Z"
   },
   {
    "duration": 0,
    "start_time": "2023-04-06T03:23:37.859Z"
   },
   {
    "duration": 0,
    "start_time": "2023-04-06T03:23:37.859Z"
   },
   {
    "duration": 0,
    "start_time": "2023-04-06T03:23:37.860Z"
   },
   {
    "duration": 20,
    "start_time": "2023-04-06T03:24:04.848Z"
   },
   {
    "duration": 31,
    "start_time": "2023-04-06T03:26:26.432Z"
   },
   {
    "duration": 26,
    "start_time": "2023-04-06T03:26:57.545Z"
   },
   {
    "duration": 67,
    "start_time": "2023-04-06T03:30:08.171Z"
   },
   {
    "duration": 76,
    "start_time": "2023-04-06T03:30:28.880Z"
   },
   {
    "duration": 109,
    "start_time": "2023-04-06T03:31:06.507Z"
   },
   {
    "duration": 4,
    "start_time": "2023-04-06T03:31:36.911Z"
   },
   {
    "duration": 80,
    "start_time": "2023-04-06T03:31:51.016Z"
   },
   {
    "duration": 73,
    "start_time": "2023-04-06T03:32:08.632Z"
   },
   {
    "duration": 27,
    "start_time": "2023-04-06T03:32:23.079Z"
   },
   {
    "duration": 32,
    "start_time": "2023-04-06T03:32:44.757Z"
   },
   {
    "duration": 22,
    "start_time": "2023-04-06T03:33:01.776Z"
   },
   {
    "duration": 29,
    "start_time": "2023-04-06T03:33:19.523Z"
   },
   {
    "duration": 18,
    "start_time": "2023-04-06T03:34:36.379Z"
   },
   {
    "duration": 25,
    "start_time": "2023-04-06T03:35:02.002Z"
   },
   {
    "duration": 21,
    "start_time": "2023-04-06T03:35:26.669Z"
   },
   {
    "duration": 19,
    "start_time": "2023-04-06T03:37:28.898Z"
   },
   {
    "duration": 90,
    "start_time": "2023-04-06T03:37:35.183Z"
   },
   {
    "duration": 89,
    "start_time": "2023-04-06T03:37:47.065Z"
   },
   {
    "duration": 88,
    "start_time": "2023-04-06T03:38:30.971Z"
   },
   {
    "duration": 96,
    "start_time": "2023-04-06T03:38:39.802Z"
   },
   {
    "duration": 21,
    "start_time": "2023-04-06T03:38:44.474Z"
   },
   {
    "duration": 84,
    "start_time": "2023-04-06T03:44:22.295Z"
   },
   {
    "duration": 54,
    "start_time": "2023-04-06T03:44:43.865Z"
   },
   {
    "duration": 78,
    "start_time": "2023-04-06T03:44:53.211Z"
   },
   {
    "duration": 23,
    "start_time": "2023-04-06T03:46:00.854Z"
   },
   {
    "duration": 28,
    "start_time": "2023-04-06T03:46:20.723Z"
   },
   {
    "duration": 29,
    "start_time": "2023-04-06T03:46:37.237Z"
   },
   {
    "duration": 89,
    "start_time": "2023-04-06T03:50:31.058Z"
   },
   {
    "duration": 82,
    "start_time": "2023-04-06T03:50:39.675Z"
   },
   {
    "duration": 27,
    "start_time": "2023-04-06T03:50:53.957Z"
   },
   {
    "duration": 82,
    "start_time": "2023-04-06T03:51:00.374Z"
   },
   {
    "duration": 31,
    "start_time": "2023-04-06T03:51:10.041Z"
   },
   {
    "duration": 117,
    "start_time": "2023-04-06T03:51:23.367Z"
   },
   {
    "duration": 66,
    "start_time": "2023-04-06T03:51:52.760Z"
   },
   {
    "duration": 56,
    "start_time": "2023-04-06T03:52:06.370Z"
   },
   {
    "duration": 96,
    "start_time": "2023-04-06T03:52:15.656Z"
   },
   {
    "duration": 16,
    "start_time": "2023-04-06T03:54:40.112Z"
   },
   {
    "duration": 18,
    "start_time": "2023-04-06T03:55:21.871Z"
   },
   {
    "duration": 91,
    "start_time": "2023-04-06T03:55:35.012Z"
   },
   {
    "duration": 83,
    "start_time": "2023-04-06T03:56:10.885Z"
   },
   {
    "duration": 86,
    "start_time": "2023-04-06T03:56:26.379Z"
   },
   {
    "duration": 81,
    "start_time": "2023-04-06T03:57:03.730Z"
   },
   {
    "duration": 85,
    "start_time": "2023-04-06T03:57:11.862Z"
   },
   {
    "duration": 31,
    "start_time": "2023-04-06T03:58:42.822Z"
   },
   {
    "duration": 744,
    "start_time": "2023-04-06T03:58:50.270Z"
   },
   {
    "duration": 1396,
    "start_time": "2023-04-06T03:59:32.672Z"
   },
   {
    "duration": 1246,
    "start_time": "2023-04-06T03:59:39.162Z"
   },
   {
    "duration": 1532,
    "start_time": "2023-04-06T04:00:39.769Z"
   },
   {
    "duration": 1380,
    "start_time": "2023-04-06T04:02:29.095Z"
   },
   {
    "duration": 1373,
    "start_time": "2023-04-06T04:02:40.706Z"
   },
   {
    "duration": 1163,
    "start_time": "2023-04-08T04:17:28.926Z"
   },
   {
    "duration": 156,
    "start_time": "2023-04-08T04:17:30.091Z"
   },
   {
    "duration": 44,
    "start_time": "2023-04-08T04:17:30.250Z"
   },
   {
    "duration": 9,
    "start_time": "2023-04-08T04:17:30.296Z"
   },
   {
    "duration": 44,
    "start_time": "2023-04-08T04:17:30.308Z"
   },
   {
    "duration": 78,
    "start_time": "2023-04-08T04:17:30.353Z"
   },
   {
    "duration": 1937,
    "start_time": "2023-04-08T04:17:30.434Z"
   },
   {
    "duration": 29448,
    "start_time": "2023-04-08T04:17:32.373Z"
   },
   {
    "duration": 3121,
    "start_time": "2023-04-08T04:18:01.823Z"
   },
   {
    "duration": 142,
    "start_time": "2023-04-08T04:18:04.946Z"
   },
   {
    "duration": 6,
    "start_time": "2023-04-08T04:18:05.091Z"
   },
   {
    "duration": 136,
    "start_time": "2023-04-08T04:20:54.809Z"
   },
   {
    "duration": 26,
    "start_time": "2023-04-08T04:21:41.702Z"
   },
   {
    "duration": 1282,
    "start_time": "2023-04-08T04:22:09.369Z"
   },
   {
    "duration": 33,
    "start_time": "2023-04-08T04:22:21.354Z"
   },
   {
    "duration": 1388,
    "start_time": "2023-04-08T04:23:12.325Z"
   },
   {
    "duration": 24,
    "start_time": "2023-04-08T04:23:32.183Z"
   },
   {
    "duration": 32,
    "start_time": "2023-04-08T04:23:45.764Z"
   },
   {
    "duration": 1426,
    "start_time": "2023-04-08T04:24:23.901Z"
   },
   {
    "duration": 1644,
    "start_time": "2023-04-08T04:24:41.634Z"
   },
   {
    "duration": 1665,
    "start_time": "2023-04-08T04:25:06.295Z"
   },
   {
    "duration": 1782,
    "start_time": "2023-04-08T04:26:59.664Z"
   },
   {
    "duration": 1082,
    "start_time": "2023-04-08T04:27:35.789Z"
   },
   {
    "duration": 988,
    "start_time": "2023-04-08T04:29:57.642Z"
   },
   {
    "duration": 27,
    "start_time": "2023-04-08T04:33:15.893Z"
   },
   {
    "duration": 22,
    "start_time": "2023-04-08T04:33:43.395Z"
   },
   {
    "duration": 646,
    "start_time": "2023-04-08T04:34:53.016Z"
   },
   {
    "duration": 308,
    "start_time": "2023-04-08T04:35:22.140Z"
   },
   {
    "duration": 1249,
    "start_time": "2023-04-08T04:36:09.751Z"
   },
   {
    "duration": 467,
    "start_time": "2023-04-08T04:36:27.306Z"
   },
   {
    "duration": 709,
    "start_time": "2023-04-08T04:36:46.499Z"
   },
   {
    "duration": 4,
    "start_time": "2023-04-08T04:45:24.738Z"
   },
   {
    "duration": 404,
    "start_time": "2023-04-08T04:47:21.250Z"
   },
   {
    "duration": 391,
    "start_time": "2023-04-08T04:48:14.124Z"
   },
   {
    "duration": 448,
    "start_time": "2023-04-08T04:49:18.162Z"
   },
   {
    "duration": 492,
    "start_time": "2023-04-08T04:50:04.292Z"
   },
   {
    "duration": 432,
    "start_time": "2023-04-08T04:50:45.268Z"
   },
   {
    "duration": 495,
    "start_time": "2023-04-08T04:50:50.052Z"
   },
   {
    "duration": 588,
    "start_time": "2023-04-08T04:51:01.638Z"
   },
   {
    "duration": 435,
    "start_time": "2023-04-08T04:51:30.369Z"
   },
   {
    "duration": 465,
    "start_time": "2023-04-08T04:51:40.543Z"
   },
   {
    "duration": 458,
    "start_time": "2023-04-08T04:52:14.121Z"
   },
   {
    "duration": 446,
    "start_time": "2023-04-08T04:55:36.722Z"
   },
   {
    "duration": 466,
    "start_time": "2023-04-08T04:55:50.661Z"
   },
   {
    "duration": 433,
    "start_time": "2023-04-08T04:56:10.415Z"
   },
   {
    "duration": 418,
    "start_time": "2023-04-08T04:56:27.649Z"
   },
   {
    "duration": 463,
    "start_time": "2023-04-08T04:56:36.641Z"
   },
   {
    "duration": 432,
    "start_time": "2023-04-08T04:56:43.915Z"
   },
   {
    "duration": 494,
    "start_time": "2023-04-08T04:57:42.980Z"
   },
   {
    "duration": 516,
    "start_time": "2023-04-08T04:58:27.394Z"
   },
   {
    "duration": 517,
    "start_time": "2023-04-08T04:59:30.376Z"
   },
   {
    "duration": 562,
    "start_time": "2023-04-08T04:59:40.815Z"
   },
   {
    "duration": 70,
    "start_time": "2023-04-08T05:00:35.107Z"
   },
   {
    "duration": 613,
    "start_time": "2023-04-08T05:00:40.792Z"
   },
   {
    "duration": 638,
    "start_time": "2023-04-08T05:00:50.877Z"
   },
   {
    "duration": 536,
    "start_time": "2023-04-08T05:02:05.560Z"
   },
   {
    "duration": 512,
    "start_time": "2023-04-08T05:02:13.568Z"
   },
   {
    "duration": 483,
    "start_time": "2023-04-08T05:02:23.527Z"
   },
   {
    "duration": 627,
    "start_time": "2023-04-08T05:02:35.650Z"
   },
   {
    "duration": 513,
    "start_time": "2023-04-08T05:04:48.280Z"
   },
   {
    "duration": 4,
    "start_time": "2023-04-08T05:05:30.025Z"
   },
   {
    "duration": 28705,
    "start_time": "2023-04-08T05:05:40.155Z"
   },
   {
    "duration": 40,
    "start_time": "2023-04-08T05:06:08.862Z"
   },
   {
    "duration": 26588,
    "start_time": "2023-04-08T05:08:25.261Z"
   },
   {
    "duration": 300,
    "start_time": "2023-04-08T05:10:07.504Z"
   },
   {
    "duration": 26440,
    "start_time": "2023-04-08T05:10:12.764Z"
   },
   {
    "duration": 1584,
    "start_time": "2023-04-08T05:11:24.013Z"
   },
   {
    "duration": 1138,
    "start_time": "2023-04-08T05:11:54.166Z"
   },
   {
    "duration": 471,
    "start_time": "2023-04-08T05:12:03.962Z"
   },
   {
    "duration": 494,
    "start_time": "2023-04-08T05:12:12.868Z"
   },
   {
    "duration": 1268,
    "start_time": "2023-04-08T05:12:16.216Z"
   },
   {
    "duration": 1515,
    "start_time": "2023-04-08T05:12:37.548Z"
   },
   {
    "duration": 486,
    "start_time": "2023-04-08T05:13:08.255Z"
   },
   {
    "duration": 1340,
    "start_time": "2023-04-08T05:13:18.133Z"
   },
   {
    "duration": 1594,
    "start_time": "2023-04-08T05:15:47.232Z"
   },
   {
    "duration": 1339,
    "start_time": "2023-04-08T05:16:39.905Z"
   },
   {
    "duration": 1325,
    "start_time": "2023-04-08T05:16:47.971Z"
   },
   {
    "duration": 2270,
    "start_time": "2023-04-08T05:17:03.877Z"
   },
   {
    "duration": 1411,
    "start_time": "2023-04-08T05:17:14.864Z"
   },
   {
    "duration": 1336,
    "start_time": "2023-04-08T05:17:23.035Z"
   },
   {
    "duration": 1339,
    "start_time": "2023-04-08T05:17:30.632Z"
   },
   {
    "duration": 67,
    "start_time": "2023-04-08T05:31:11.248Z"
   },
   {
    "duration": 1662,
    "start_time": "2023-04-08T05:31:14.468Z"
   },
   {
    "duration": 1406,
    "start_time": "2023-04-08T05:31:29.020Z"
   },
   {
    "duration": 1417,
    "start_time": "2023-04-08T05:31:39.320Z"
   },
   {
    "duration": 59,
    "start_time": "2023-04-08T05:32:19.945Z"
   },
   {
    "duration": 1355,
    "start_time": "2023-04-08T05:32:26.055Z"
   },
   {
    "duration": 1511,
    "start_time": "2023-04-08T05:32:32.343Z"
   },
   {
    "duration": 1344,
    "start_time": "2023-04-08T05:32:49.319Z"
   },
   {
    "duration": 1303,
    "start_time": "2023-04-08T05:33:02.612Z"
   },
   {
    "duration": 1337,
    "start_time": "2023-04-08T05:33:15.933Z"
   },
   {
    "duration": 1172,
    "start_time": "2023-04-08T05:33:26.529Z"
   },
   {
    "duration": 1402,
    "start_time": "2023-04-08T05:33:34.703Z"
   },
   {
    "duration": 1309,
    "start_time": "2023-04-08T05:34:00.154Z"
   },
   {
    "duration": 1400,
    "start_time": "2023-04-08T05:35:05.697Z"
   },
   {
    "duration": 50,
    "start_time": "2023-04-08T15:54:54.943Z"
   },
   {
    "duration": 1609,
    "start_time": "2023-04-08T15:55:04.190Z"
   },
   {
    "duration": 140,
    "start_time": "2023-04-08T15:55:05.801Z"
   },
   {
    "duration": 31,
    "start_time": "2023-04-08T15:55:05.942Z"
   },
   {
    "duration": 5,
    "start_time": "2023-04-08T15:55:05.975Z"
   },
   {
    "duration": 15,
    "start_time": "2023-04-08T15:55:05.981Z"
   },
   {
    "duration": 13,
    "start_time": "2023-04-08T15:55:05.998Z"
   },
   {
    "duration": 1305,
    "start_time": "2023-04-08T15:55:06.013Z"
   },
   {
    "duration": 28303,
    "start_time": "2023-04-08T15:55:07.320Z"
   },
   {
    "duration": 2488,
    "start_time": "2023-04-08T15:55:35.625Z"
   },
   {
    "duration": 152,
    "start_time": "2023-04-08T15:55:38.115Z"
   },
   {
    "duration": 4,
    "start_time": "2023-04-08T15:55:38.269Z"
   },
   {
    "duration": 12,
    "start_time": "2023-04-08T15:55:38.274Z"
   },
   {
    "duration": 3,
    "start_time": "2023-04-08T15:56:18.098Z"
   },
   {
    "duration": 6,
    "start_time": "2023-04-08T15:57:14.580Z"
   },
   {
    "duration": 270,
    "start_time": "2023-04-08T16:01:45.949Z"
   },
   {
    "duration": 151,
    "start_time": "2023-04-08T16:02:02.912Z"
   },
   {
    "duration": 152,
    "start_time": "2023-04-08T16:02:22.914Z"
   },
   {
    "duration": 149,
    "start_time": "2023-04-08T16:02:31.985Z"
   },
   {
    "duration": 3,
    "start_time": "2023-04-08T16:13:20.290Z"
   },
   {
    "duration": 4,
    "start_time": "2023-04-08T16:13:23.680Z"
   },
   {
    "duration": 5,
    "start_time": "2023-04-08T16:16:48.851Z"
   },
   {
    "duration": 168,
    "start_time": "2023-04-08T16:17:00.909Z"
   },
   {
    "duration": 161,
    "start_time": "2023-04-08T16:17:25.631Z"
   },
   {
    "duration": 176,
    "start_time": "2023-04-08T16:17:34.783Z"
   },
   {
    "duration": 167,
    "start_time": "2023-04-08T16:17:50.943Z"
   },
   {
    "duration": 166,
    "start_time": "2023-04-08T16:31:40.807Z"
   },
   {
    "duration": 172,
    "start_time": "2023-04-08T16:31:52.283Z"
   },
   {
    "duration": 3,
    "start_time": "2023-04-08T16:34:56.866Z"
   },
   {
    "duration": 182,
    "start_time": "2023-04-08T16:35:59.048Z"
   },
   {
    "duration": 169,
    "start_time": "2023-04-08T16:36:13.067Z"
   },
   {
    "duration": 169,
    "start_time": "2023-04-08T16:37:05.799Z"
   },
   {
    "duration": 160,
    "start_time": "2023-04-08T16:37:13.215Z"
   },
   {
    "duration": 168,
    "start_time": "2023-04-08T16:37:35.551Z"
   },
   {
    "duration": 171,
    "start_time": "2023-04-08T16:38:27.569Z"
   },
   {
    "duration": 165,
    "start_time": "2023-04-08T16:39:43.660Z"
   },
   {
    "duration": 168,
    "start_time": "2023-04-08T16:42:23.288Z"
   },
   {
    "duration": 170,
    "start_time": "2023-04-08T16:42:47.246Z"
   },
   {
    "duration": 165,
    "start_time": "2023-04-08T16:42:52.729Z"
   },
   {
    "duration": 181,
    "start_time": "2023-04-08T16:45:14.947Z"
   },
   {
    "duration": 165,
    "start_time": "2023-04-08T16:47:25.110Z"
   },
   {
    "duration": 1332,
    "start_time": "2023-04-08T16:47:33.766Z"
   },
   {
    "duration": 40,
    "start_time": "2023-04-08T16:47:35.099Z"
   },
   {
    "duration": 33,
    "start_time": "2023-04-08T16:47:35.141Z"
   },
   {
    "duration": 4,
    "start_time": "2023-04-08T16:47:35.175Z"
   },
   {
    "duration": 18,
    "start_time": "2023-04-08T16:47:35.181Z"
   },
   {
    "duration": 12,
    "start_time": "2023-04-08T16:47:35.200Z"
   },
   {
    "duration": 1338,
    "start_time": "2023-04-08T16:47:35.214Z"
   },
   {
    "duration": 29692,
    "start_time": "2023-04-08T16:47:36.554Z"
   },
   {
    "duration": 2576,
    "start_time": "2023-04-08T16:48:06.249Z"
   },
   {
    "duration": 147,
    "start_time": "2023-04-08T16:48:08.826Z"
   },
   {
    "duration": 182,
    "start_time": "2023-04-08T16:48:08.974Z"
   },
   {
    "duration": 6,
    "start_time": "2023-04-08T16:48:09.158Z"
   },
   {
    "duration": 280,
    "start_time": "2023-04-08T16:48:49.928Z"
   },
   {
    "duration": 192,
    "start_time": "2023-04-08T16:48:54.599Z"
   },
   {
    "duration": 1402,
    "start_time": "2023-04-08T16:49:02.276Z"
   },
   {
    "duration": 41,
    "start_time": "2023-04-08T16:49:03.680Z"
   },
   {
    "duration": 30,
    "start_time": "2023-04-08T16:49:03.722Z"
   },
   {
    "duration": 5,
    "start_time": "2023-04-08T16:49:03.754Z"
   },
   {
    "duration": 17,
    "start_time": "2023-04-08T16:49:03.760Z"
   },
   {
    "duration": 12,
    "start_time": "2023-04-08T16:49:03.779Z"
   },
   {
    "duration": 1338,
    "start_time": "2023-04-08T16:49:03.792Z"
   },
   {
    "duration": 28610,
    "start_time": "2023-04-08T16:49:05.132Z"
   },
   {
    "duration": 2727,
    "start_time": "2023-04-08T16:49:33.749Z"
   },
   {
    "duration": 149,
    "start_time": "2023-04-08T16:49:36.478Z"
   },
   {
    "duration": 181,
    "start_time": "2023-04-08T16:49:36.629Z"
   },
   {
    "duration": 5,
    "start_time": "2023-04-08T16:49:36.812Z"
   },
   {
    "duration": 282,
    "start_time": "2023-04-08T16:52:02.122Z"
   },
   {
    "duration": 1411,
    "start_time": "2023-04-08T16:52:10.653Z"
   },
   {
    "duration": 43,
    "start_time": "2023-04-08T16:52:12.069Z"
   },
   {
    "duration": 31,
    "start_time": "2023-04-08T16:52:12.114Z"
   },
   {
    "duration": 5,
    "start_time": "2023-04-08T16:52:12.146Z"
   },
   {
    "duration": 23,
    "start_time": "2023-04-08T16:52:12.153Z"
   },
   {
    "duration": 12,
    "start_time": "2023-04-08T16:52:12.178Z"
   },
   {
    "duration": 1321,
    "start_time": "2023-04-08T16:52:12.192Z"
   },
   {
    "duration": 28251,
    "start_time": "2023-04-08T16:52:13.515Z"
   },
   {
    "duration": 2549,
    "start_time": "2023-04-08T16:52:41.768Z"
   },
   {
    "duration": 155,
    "start_time": "2023-04-08T16:52:44.319Z"
   },
   {
    "duration": 192,
    "start_time": "2023-04-08T16:52:44.476Z"
   },
   {
    "duration": 8,
    "start_time": "2023-04-08T16:52:44.670Z"
   },
   {
    "duration": 1321,
    "start_time": "2023-04-08T16:53:33.701Z"
   },
   {
    "duration": 57,
    "start_time": "2023-04-08T16:53:35.025Z"
   },
   {
    "duration": 33,
    "start_time": "2023-04-08T16:53:35.083Z"
   },
   {
    "duration": 4,
    "start_time": "2023-04-08T16:53:35.118Z"
   },
   {
    "duration": 20,
    "start_time": "2023-04-08T16:53:35.124Z"
   },
   {
    "duration": 20,
    "start_time": "2023-04-08T16:53:35.145Z"
   },
   {
    "duration": 1312,
    "start_time": "2023-04-08T16:53:35.167Z"
   },
   {
    "duration": 28230,
    "start_time": "2023-04-08T16:53:36.481Z"
   },
   {
    "duration": 2646,
    "start_time": "2023-04-08T16:54:04.713Z"
   },
   {
    "duration": 142,
    "start_time": "2023-04-08T16:54:07.361Z"
   },
   {
    "duration": 248,
    "start_time": "2023-04-08T16:54:07.505Z"
   },
   {
    "duration": 6,
    "start_time": "2023-04-08T16:54:07.765Z"
   },
   {
    "duration": 1300,
    "start_time": "2023-04-08T18:13:42.057Z"
   },
   {
    "duration": 41,
    "start_time": "2023-04-08T18:13:43.359Z"
   },
   {
    "duration": 30,
    "start_time": "2023-04-08T18:13:43.402Z"
   },
   {
    "duration": 4,
    "start_time": "2023-04-08T18:13:43.433Z"
   },
   {
    "duration": 12,
    "start_time": "2023-04-08T18:13:43.440Z"
   },
   {
    "duration": 12,
    "start_time": "2023-04-08T18:13:43.453Z"
   },
   {
    "duration": 1271,
    "start_time": "2023-04-08T18:13:43.467Z"
   },
   {
    "duration": 28035,
    "start_time": "2023-04-08T18:13:44.740Z"
   },
   {
    "duration": 2424,
    "start_time": "2023-04-08T18:14:12.776Z"
   },
   {
    "duration": 133,
    "start_time": "2023-04-08T18:14:15.201Z"
   },
   {
    "duration": 164,
    "start_time": "2023-04-08T18:14:15.335Z"
   },
   {
    "duration": 6,
    "start_time": "2023-04-08T18:14:15.500Z"
   },
   {
    "duration": 1830,
    "start_time": "2023-04-17T09:29:51.324Z"
   },
   {
    "duration": 1434,
    "start_time": "2023-04-17T09:29:59.046Z"
   },
   {
    "duration": 173,
    "start_time": "2023-04-17T09:30:00.482Z"
   },
   {
    "duration": 46,
    "start_time": "2023-04-17T09:30:00.657Z"
   },
   {
    "duration": 14,
    "start_time": "2023-04-17T09:30:00.706Z"
   },
   {
    "duration": 43,
    "start_time": "2023-04-17T09:30:00.723Z"
   },
   {
    "duration": 26,
    "start_time": "2023-04-17T09:30:00.769Z"
   },
   {
    "duration": 1286,
    "start_time": "2023-04-17T09:30:00.798Z"
   },
   {
    "duration": 128,
    "start_time": "2023-04-17T09:30:02.086Z"
   },
   {
    "duration": 0,
    "start_time": "2023-04-17T09:30:02.216Z"
   },
   {
    "duration": 0,
    "start_time": "2023-04-17T09:30:02.217Z"
   },
   {
    "duration": 0,
    "start_time": "2023-04-17T09:30:02.218Z"
   },
   {
    "duration": 0,
    "start_time": "2023-04-17T09:30:02.220Z"
   },
   {
    "duration": 0,
    "start_time": "2023-04-17T09:30:02.221Z"
   },
   {
    "duration": 1149,
    "start_time": "2023-04-17T09:31:42.719Z"
   },
   {
    "duration": 1382,
    "start_time": "2023-04-17T09:32:14.923Z"
   },
   {
    "duration": 1226,
    "start_time": "2023-04-19T12:49:16.043Z"
   },
   {
    "duration": 87,
    "start_time": "2023-04-19T12:49:17.271Z"
   },
   {
    "duration": 29,
    "start_time": "2023-04-19T12:49:17.359Z"
   },
   {
    "duration": 3,
    "start_time": "2023-04-19T12:49:17.391Z"
   },
   {
    "duration": 11,
    "start_time": "2023-04-19T12:49:17.396Z"
   },
   {
    "duration": 12,
    "start_time": "2023-04-19T12:49:17.409Z"
   },
   {
    "duration": 1122,
    "start_time": "2023-04-19T12:49:17.423Z"
   },
   {
    "duration": 24550,
    "start_time": "2023-04-19T12:49:18.547Z"
   },
   {
    "duration": 3002,
    "start_time": "2023-04-19T12:49:43.099Z"
   },
   {
    "duration": 124,
    "start_time": "2023-04-19T12:49:46.104Z"
   },
   {
    "duration": 141,
    "start_time": "2023-04-19T12:49:46.229Z"
   },
   {
    "duration": 4,
    "start_time": "2023-04-19T12:49:46.372Z"
   },
   {
    "duration": 1479,
    "start_time": "2023-05-18T14:01:12.010Z"
   },
   {
    "duration": 146,
    "start_time": "2023-05-18T14:01:13.491Z"
   },
   {
    "duration": 45,
    "start_time": "2023-05-18T14:01:13.638Z"
   },
   {
    "duration": 4,
    "start_time": "2023-05-18T14:01:13.685Z"
   },
   {
    "duration": 43,
    "start_time": "2023-05-18T14:01:13.691Z"
   },
   {
    "duration": 30,
    "start_time": "2023-05-18T14:01:13.735Z"
   },
   {
    "duration": 1432,
    "start_time": "2023-05-18T14:01:13.767Z"
   },
   {
    "duration": 30618,
    "start_time": "2023-05-18T14:01:15.208Z"
   },
   {
    "duration": 3808,
    "start_time": "2023-05-18T14:01:45.828Z"
   },
   {
    "duration": 156,
    "start_time": "2023-05-18T14:01:49.638Z"
   },
   {
    "duration": 193,
    "start_time": "2023-05-18T14:01:49.797Z"
   },
   {
    "duration": 19,
    "start_time": "2023-05-18T14:01:49.992Z"
   }
  ],
  "kernelspec": {
   "display_name": "Python 3 (ipykernel)",
   "language": "python",
   "name": "python3"
  },
  "language_info": {
   "codemirror_mode": {
    "name": "ipython",
    "version": 3
   },
   "file_extension": ".py",
   "mimetype": "text/x-python",
   "name": "python",
   "nbconvert_exporter": "python",
   "pygments_lexer": "ipython3",
   "version": "3.10.9"
  },
  "toc": {
   "base_numbering": 1,
   "nav_menu": {},
   "number_sections": true,
   "sideBar": true,
   "skip_h1_title": true,
   "title_cell": "Table of Contents",
   "title_sidebar": "Contents",
   "toc_cell": false,
   "toc_position": {
    "height": "calc(100% - 180px)",
    "left": "10px",
    "top": "150px",
    "width": "388.475px"
   },
   "toc_section_display": true,
   "toc_window_display": true
  }
 },
 "nbformat": 4,
 "nbformat_minor": 2
}
